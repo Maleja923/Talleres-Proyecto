{
 "cells": [
  {
   "cell_type": "code",
   "execution_count": 1,
   "metadata": {},
   "outputs": [],
   "source": [
    "import pandas as pd\n",
    "import numpy as np\n",
    "import seaborn as sns\n",
    "import networkx as nx\n",
    "from pyvis.network import Network\n",
    "import matplotlib.pyplot as plt\n",
    "import plotly.express as px"
   ]
  },
  {
   "cell_type": "code",
   "execution_count": 36,
   "metadata": {
    "scrolled": true
   },
   "outputs": [
    {
     "data": {
      "text/html": [
       "<div>\n",
       "<style scoped>\n",
       "    .dataframe tbody tr th:only-of-type {\n",
       "        vertical-align: middle;\n",
       "    }\n",
       "\n",
       "    .dataframe tbody tr th {\n",
       "        vertical-align: top;\n",
       "    }\n",
       "\n",
       "    .dataframe thead th {\n",
       "        text-align: right;\n",
       "    }\n",
       "</style>\n",
       "<table border=\"1\" class=\"dataframe\">\n",
       "  <thead>\n",
       "    <tr style=\"text-align: right;\">\n",
       "      <th></th>\n",
       "      <th>article_id</th>\n",
       "      <th>full_name</th>\n",
       "      <th>sex</th>\n",
       "      <th>birth_year</th>\n",
       "      <th>city</th>\n",
       "      <th>state</th>\n",
       "      <th>country</th>\n",
       "      <th>continent</th>\n",
       "      <th>latitude</th>\n",
       "      <th>longitude</th>\n",
       "      <th>occupation</th>\n",
       "      <th>industry</th>\n",
       "      <th>domain</th>\n",
       "      <th>article_languages</th>\n",
       "      <th>page_views</th>\n",
       "      <th>average_views</th>\n",
       "      <th>historical_popularity_index</th>\n",
       "    </tr>\n",
       "  </thead>\n",
       "  <tbody>\n",
       "    <tr>\n",
       "      <th>0</th>\n",
       "      <td>308</td>\n",
       "      <td>Aristotle</td>\n",
       "      <td>Male</td>\n",
       "      <td>-384</td>\n",
       "      <td>Stageira</td>\n",
       "      <td>NaN</td>\n",
       "      <td>Greece</td>\n",
       "      <td>Europe</td>\n",
       "      <td>40.33333</td>\n",
       "      <td>23.50000</td>\n",
       "      <td>Philosopher</td>\n",
       "      <td>Philosophy</td>\n",
       "      <td>Humanities</td>\n",
       "      <td>152</td>\n",
       "      <td>56355172</td>\n",
       "      <td>370758</td>\n",
       "      <td>31.9938</td>\n",
       "    </tr>\n",
       "    <tr>\n",
       "      <th>1</th>\n",
       "      <td>22954</td>\n",
       "      <td>Plato</td>\n",
       "      <td>Male</td>\n",
       "      <td>-427</td>\n",
       "      <td>Athens</td>\n",
       "      <td>NaN</td>\n",
       "      <td>Greece</td>\n",
       "      <td>Europe</td>\n",
       "      <td>37.96667</td>\n",
       "      <td>23.71667</td>\n",
       "      <td>Philosopher</td>\n",
       "      <td>Philosophy</td>\n",
       "      <td>Humanities</td>\n",
       "      <td>142</td>\n",
       "      <td>46812003</td>\n",
       "      <td>329662</td>\n",
       "      <td>31.9888</td>\n",
       "    </tr>\n",
       "    <tr>\n",
       "      <th>2</th>\n",
       "      <td>1095706</td>\n",
       "      <td>Jesus Christ</td>\n",
       "      <td>Male</td>\n",
       "      <td>-4</td>\n",
       "      <td>Judea</td>\n",
       "      <td>NaN</td>\n",
       "      <td>Israel</td>\n",
       "      <td>Asia</td>\n",
       "      <td>32.50000</td>\n",
       "      <td>34.90000</td>\n",
       "      <td>Religious Figure</td>\n",
       "      <td>Religion</td>\n",
       "      <td>Institutions</td>\n",
       "      <td>214</td>\n",
       "      <td>60299092</td>\n",
       "      <td>281771</td>\n",
       "      <td>31.8981</td>\n",
       "    </tr>\n",
       "    <tr>\n",
       "      <th>3</th>\n",
       "      <td>25664190</td>\n",
       "      <td>Socrates</td>\n",
       "      <td>Male</td>\n",
       "      <td>-469</td>\n",
       "      <td>Athens</td>\n",
       "      <td>NaN</td>\n",
       "      <td>Greece</td>\n",
       "      <td>Europe</td>\n",
       "      <td>37.96667</td>\n",
       "      <td>23.71667</td>\n",
       "      <td>Philosopher</td>\n",
       "      <td>Philosophy</td>\n",
       "      <td>Humanities</td>\n",
       "      <td>137</td>\n",
       "      <td>40307143</td>\n",
       "      <td>294213</td>\n",
       "      <td>31.6521</td>\n",
       "    </tr>\n",
       "    <tr>\n",
       "      <th>4</th>\n",
       "      <td>783</td>\n",
       "      <td>Alexander the Great</td>\n",
       "      <td>Male</td>\n",
       "      <td>-356</td>\n",
       "      <td>Pella</td>\n",
       "      <td>NaN</td>\n",
       "      <td>Greece</td>\n",
       "      <td>Europe</td>\n",
       "      <td>40.80000</td>\n",
       "      <td>22.51667</td>\n",
       "      <td>Military Personnel</td>\n",
       "      <td>Military</td>\n",
       "      <td>Institutions</td>\n",
       "      <td>138</td>\n",
       "      <td>48358148</td>\n",
       "      <td>350421</td>\n",
       "      <td>31.5840</td>\n",
       "    </tr>\n",
       "  </tbody>\n",
       "</table>\n",
       "</div>"
      ],
      "text/plain": [
       "   article_id            full_name   sex birth_year      city state country  \\\n",
       "0         308            Aristotle  Male       -384  Stageira   NaN  Greece   \n",
       "1       22954                Plato  Male       -427    Athens   NaN  Greece   \n",
       "2     1095706         Jesus Christ  Male         -4     Judea   NaN  Israel   \n",
       "3    25664190             Socrates  Male       -469    Athens   NaN  Greece   \n",
       "4         783  Alexander the Great  Male       -356     Pella   NaN  Greece   \n",
       "\n",
       "  continent  latitude  longitude          occupation    industry  \\\n",
       "0    Europe  40.33333   23.50000         Philosopher  Philosophy   \n",
       "1    Europe  37.96667   23.71667         Philosopher  Philosophy   \n",
       "2      Asia  32.50000   34.90000    Religious Figure    Religion   \n",
       "3    Europe  37.96667   23.71667         Philosopher  Philosophy   \n",
       "4    Europe  40.80000   22.51667  Military Personnel    Military   \n",
       "\n",
       "         domain  article_languages  page_views  average_views  \\\n",
       "0    Humanities                152    56355172         370758   \n",
       "1    Humanities                142    46812003         329662   \n",
       "2  Institutions                214    60299092         281771   \n",
       "3    Humanities                137    40307143         294213   \n",
       "4  Institutions                138    48358148         350421   \n",
       "\n",
       "   historical_popularity_index  \n",
       "0                      31.9938  \n",
       "1                      31.9888  \n",
       "2                      31.8981  \n",
       "3                      31.6521  \n",
       "4                      31.5840  "
      ]
     },
     "execution_count": 36,
     "metadata": {},
     "output_type": "execute_result"
    }
   ],
   "source": [
    "df_CONTEO = pd.read_csv('C:/Users/maria/Downloads/database.csv', \n",
    "                 sep = ',', parse_dates= True,\n",
    "                        thousands=',', decimal='.',\n",
    "                      \n",
    "                 )\n",
    "df_CONTEO.head()"
   ]
  },
  {
   "cell_type": "code",
   "execution_count": 37,
   "metadata": {},
   "outputs": [
    {
     "name": "stdout",
     "output_type": "stream",
     "text": [
      "article_id - 0.0% - 0\n",
      "full_name - 0.0% - 0\n",
      "sex - 0.0% - 0\n",
      "birth_year - 0.0% - 0\n",
      "city - 0.0% - 0\n",
      "state - 80.85% - 9169\n",
      "country - 0.29% - 33\n",
      "continent - 0.26% - 30\n",
      "latitude - 9.23% - 1047\n",
      "longitude - 9.23% - 1047\n",
      "occupation - 0.0% - 0\n",
      "industry - 0.0% - 0\n",
      "domain - 0.0% - 0\n",
      "article_languages - 0.0% - 0\n",
      "page_views - 0.0% - 0\n",
      "average_views - 0.0% - 0\n",
      "historical_popularity_index - 0.0% - 0\n"
     ]
    }
   ],
   "source": [
    "for col in df_CONTEO.columns:\n",
    "    num_missing = df_CONTEO[col].isnull().sum()\n",
    "    pct_missing = np.mean(df_CONTEO[col].isnull())\n",
    "    #print(col,\" - \",round(pct_missing*100, 2),\"% - \",num_missing)\n",
    "    print('{} - {}% - {}'.format(col,round(pct_missing*100, 2),num_missing))"
   ]
  },
  {
   "cell_type": "markdown",
   "metadata": {},
   "source": [
    "Primero se visualizara los valores faltantes para los porcentajes que no son 0.0%"
   ]
  },
  {
   "cell_type": "markdown",
   "metadata": {},
   "source": [
    "Para el tipo de visualización y modismo a utilizar no se necesitara hacer limpieza de datos, ya que las variables a utilizar no tienen valores perdidos. A pesar de eso se hará una pequeña limpieza para una de las posibles variables a utilizar."
   ]
  },
  {
   "cell_type": "code",
   "execution_count": 38,
   "metadata": {},
   "outputs": [],
   "source": [
    "df1 = df_CONTEO.copy()"
   ]
  },
  {
   "cell_type": "code",
   "execution_count": 39,
   "metadata": {},
   "outputs": [
    {
     "data": {
      "text/html": [
       "<div>\n",
       "<style scoped>\n",
       "    .dataframe tbody tr th:only-of-type {\n",
       "        vertical-align: middle;\n",
       "    }\n",
       "\n",
       "    .dataframe tbody tr th {\n",
       "        vertical-align: top;\n",
       "    }\n",
       "\n",
       "    .dataframe thead th {\n",
       "        text-align: right;\n",
       "    }\n",
       "</style>\n",
       "<table border=\"1\" class=\"dataframe\">\n",
       "  <thead>\n",
       "    <tr style=\"text-align: right;\">\n",
       "      <th></th>\n",
       "      <th>article_id</th>\n",
       "      <th>full_name</th>\n",
       "      <th>sex</th>\n",
       "      <th>birth_year</th>\n",
       "      <th>city</th>\n",
       "      <th>state</th>\n",
       "      <th>country</th>\n",
       "      <th>continent</th>\n",
       "      <th>latitude</th>\n",
       "      <th>longitude</th>\n",
       "      <th>occupation</th>\n",
       "      <th>industry</th>\n",
       "      <th>domain</th>\n",
       "      <th>article_languages</th>\n",
       "      <th>page_views</th>\n",
       "      <th>average_views</th>\n",
       "      <th>historical_popularity_index</th>\n",
       "    </tr>\n",
       "  </thead>\n",
       "  <tbody>\n",
       "    <tr>\n",
       "      <th>0</th>\n",
       "      <td>308</td>\n",
       "      <td>Aristotle</td>\n",
       "      <td>Male</td>\n",
       "      <td>-384</td>\n",
       "      <td>Stageira</td>\n",
       "      <td>NaN</td>\n",
       "      <td>Greece</td>\n",
       "      <td>Europe</td>\n",
       "      <td>40.33333</td>\n",
       "      <td>23.50000</td>\n",
       "      <td>Philosopher</td>\n",
       "      <td>Philosophy</td>\n",
       "      <td>Humanities</td>\n",
       "      <td>152</td>\n",
       "      <td>56355172</td>\n",
       "      <td>370758</td>\n",
       "      <td>31.9938</td>\n",
       "    </tr>\n",
       "    <tr>\n",
       "      <th>1</th>\n",
       "      <td>22954</td>\n",
       "      <td>Plato</td>\n",
       "      <td>Male</td>\n",
       "      <td>-427</td>\n",
       "      <td>Athens</td>\n",
       "      <td>NaN</td>\n",
       "      <td>Greece</td>\n",
       "      <td>Europe</td>\n",
       "      <td>37.96667</td>\n",
       "      <td>23.71667</td>\n",
       "      <td>Philosopher</td>\n",
       "      <td>Philosophy</td>\n",
       "      <td>Humanities</td>\n",
       "      <td>142</td>\n",
       "      <td>46812003</td>\n",
       "      <td>329662</td>\n",
       "      <td>31.9888</td>\n",
       "    </tr>\n",
       "    <tr>\n",
       "      <th>2</th>\n",
       "      <td>1095706</td>\n",
       "      <td>Jesus Christ</td>\n",
       "      <td>Male</td>\n",
       "      <td>-4</td>\n",
       "      <td>Judea</td>\n",
       "      <td>NaN</td>\n",
       "      <td>Israel</td>\n",
       "      <td>Asia</td>\n",
       "      <td>32.50000</td>\n",
       "      <td>34.90000</td>\n",
       "      <td>Religious Figure</td>\n",
       "      <td>Religion</td>\n",
       "      <td>Institutions</td>\n",
       "      <td>214</td>\n",
       "      <td>60299092</td>\n",
       "      <td>281771</td>\n",
       "      <td>31.8981</td>\n",
       "    </tr>\n",
       "    <tr>\n",
       "      <th>3</th>\n",
       "      <td>25664190</td>\n",
       "      <td>Socrates</td>\n",
       "      <td>Male</td>\n",
       "      <td>-469</td>\n",
       "      <td>Athens</td>\n",
       "      <td>NaN</td>\n",
       "      <td>Greece</td>\n",
       "      <td>Europe</td>\n",
       "      <td>37.96667</td>\n",
       "      <td>23.71667</td>\n",
       "      <td>Philosopher</td>\n",
       "      <td>Philosophy</td>\n",
       "      <td>Humanities</td>\n",
       "      <td>137</td>\n",
       "      <td>40307143</td>\n",
       "      <td>294213</td>\n",
       "      <td>31.6521</td>\n",
       "    </tr>\n",
       "    <tr>\n",
       "      <th>4</th>\n",
       "      <td>783</td>\n",
       "      <td>Alexander the Great</td>\n",
       "      <td>Male</td>\n",
       "      <td>-356</td>\n",
       "      <td>Pella</td>\n",
       "      <td>NaN</td>\n",
       "      <td>Greece</td>\n",
       "      <td>Europe</td>\n",
       "      <td>40.80000</td>\n",
       "      <td>22.51667</td>\n",
       "      <td>Military Personnel</td>\n",
       "      <td>Military</td>\n",
       "      <td>Institutions</td>\n",
       "      <td>138</td>\n",
       "      <td>48358148</td>\n",
       "      <td>350421</td>\n",
       "      <td>31.5840</td>\n",
       "    </tr>\n",
       "    <tr>\n",
       "      <th>...</th>\n",
       "      <td>...</td>\n",
       "      <td>...</td>\n",
       "      <td>...</td>\n",
       "      <td>...</td>\n",
       "      <td>...</td>\n",
       "      <td>...</td>\n",
       "      <td>...</td>\n",
       "      <td>...</td>\n",
       "      <td>...</td>\n",
       "      <td>...</td>\n",
       "      <td>...</td>\n",
       "      <td>...</td>\n",
       "      <td>...</td>\n",
       "      <td>...</td>\n",
       "      <td>...</td>\n",
       "      <td>...</td>\n",
       "      <td>...</td>\n",
       "    </tr>\n",
       "    <tr>\n",
       "      <th>11335</th>\n",
       "      <td>32941975</td>\n",
       "      <td>Jetro Willems</td>\n",
       "      <td>Male</td>\n",
       "      <td>1994</td>\n",
       "      <td>Rotterdam</td>\n",
       "      <td>NaN</td>\n",
       "      <td>Netherlands</td>\n",
       "      <td>Europe</td>\n",
       "      <td>51.91667</td>\n",
       "      <td>4.50000</td>\n",
       "      <td>Soccer Player</td>\n",
       "      <td>Team Sports</td>\n",
       "      <td>Sports</td>\n",
       "      <td>27</td>\n",
       "      <td>577913</td>\n",
       "      <td>21404</td>\n",
       "      <td>11.3956</td>\n",
       "    </tr>\n",
       "    <tr>\n",
       "      <th>11336</th>\n",
       "      <td>5891391</td>\n",
       "      <td>Sean St Ledger</td>\n",
       "      <td>Male</td>\n",
       "      <td>1984</td>\n",
       "      <td>Solihull</td>\n",
       "      <td>NaN</td>\n",
       "      <td>United Kingdom</td>\n",
       "      <td>Europe</td>\n",
       "      <td>52.41290</td>\n",
       "      <td>-1.77209</td>\n",
       "      <td>Soccer Player</td>\n",
       "      <td>Team Sports</td>\n",
       "      <td>Sports</td>\n",
       "      <td>28</td>\n",
       "      <td>380965</td>\n",
       "      <td>13606</td>\n",
       "      <td>11.1346</td>\n",
       "    </tr>\n",
       "    <tr>\n",
       "      <th>11337</th>\n",
       "      <td>5322451</td>\n",
       "      <td>Saina Nehwal</td>\n",
       "      <td>Female</td>\n",
       "      <td>1990</td>\n",
       "      <td>Hisar</td>\n",
       "      <td>NaN</td>\n",
       "      <td>India</td>\n",
       "      <td>Asia</td>\n",
       "      <td>29.16670</td>\n",
       "      <td>75.71670</td>\n",
       "      <td>Athlete</td>\n",
       "      <td>Individual Sports</td>\n",
       "      <td>Sports</td>\n",
       "      <td>26</td>\n",
       "      <td>2255010</td>\n",
       "      <td>86731</td>\n",
       "      <td>10.6122</td>\n",
       "    </tr>\n",
       "    <tr>\n",
       "      <th>11338</th>\n",
       "      <td>33525706</td>\n",
       "      <td>Rūta Meilutytė</td>\n",
       "      <td>Female</td>\n",
       "      <td>1997</td>\n",
       "      <td>Kaunas</td>\n",
       "      <td>NaN</td>\n",
       "      <td>Lithuania</td>\n",
       "      <td>Europe</td>\n",
       "      <td>54.90000</td>\n",
       "      <td>23.88611</td>\n",
       "      <td>Swimmer</td>\n",
       "      <td>Individual Sports</td>\n",
       "      <td>Sports</td>\n",
       "      <td>32</td>\n",
       "      <td>342719</td>\n",
       "      <td>10710</td>\n",
       "      <td>10.3821</td>\n",
       "    </tr>\n",
       "    <tr>\n",
       "      <th>11339</th>\n",
       "      <td>22938476</td>\n",
       "      <td>Vladimír Weiss</td>\n",
       "      <td>Male</td>\n",
       "      <td>1989</td>\n",
       "      <td>Bratislava</td>\n",
       "      <td>NaN</td>\n",
       "      <td>Slovakia</td>\n",
       "      <td>Europe</td>\n",
       "      <td>48.14389</td>\n",
       "      <td>17.10972</td>\n",
       "      <td>Soccer Player</td>\n",
       "      <td>Team Sports</td>\n",
       "      <td>Sports</td>\n",
       "      <td>27</td>\n",
       "      <td>12479</td>\n",
       "      <td>462</td>\n",
       "      <td>10.2495</td>\n",
       "    </tr>\n",
       "  </tbody>\n",
       "</table>\n",
       "<p>9169 rows × 17 columns</p>\n",
       "</div>"
      ],
      "text/plain": [
       "       article_id            full_name     sex birth_year        city state  \\\n",
       "0             308            Aristotle    Male       -384    Stageira   NaN   \n",
       "1           22954                Plato    Male       -427      Athens   NaN   \n",
       "2         1095706         Jesus Christ    Male         -4       Judea   NaN   \n",
       "3        25664190             Socrates    Male       -469      Athens   NaN   \n",
       "4             783  Alexander the Great    Male       -356       Pella   NaN   \n",
       "...           ...                  ...     ...        ...         ...   ...   \n",
       "11335    32941975        Jetro Willems    Male       1994   Rotterdam   NaN   \n",
       "11336     5891391       Sean St Ledger    Male       1984    Solihull   NaN   \n",
       "11337     5322451         Saina Nehwal  Female       1990       Hisar   NaN   \n",
       "11338    33525706       Rūta Meilutytė  Female       1997      Kaunas   NaN   \n",
       "11339    22938476       Vladimír Weiss    Male       1989  Bratislava   NaN   \n",
       "\n",
       "              country continent  latitude  longitude          occupation  \\\n",
       "0              Greece    Europe  40.33333   23.50000         Philosopher   \n",
       "1              Greece    Europe  37.96667   23.71667         Philosopher   \n",
       "2              Israel      Asia  32.50000   34.90000    Religious Figure   \n",
       "3              Greece    Europe  37.96667   23.71667         Philosopher   \n",
       "4              Greece    Europe  40.80000   22.51667  Military Personnel   \n",
       "...               ...       ...       ...        ...                 ...   \n",
       "11335     Netherlands    Europe  51.91667    4.50000       Soccer Player   \n",
       "11336  United Kingdom    Europe  52.41290   -1.77209       Soccer Player   \n",
       "11337           India      Asia  29.16670   75.71670             Athlete   \n",
       "11338       Lithuania    Europe  54.90000   23.88611             Swimmer   \n",
       "11339        Slovakia    Europe  48.14389   17.10972       Soccer Player   \n",
       "\n",
       "                industry        domain  article_languages  page_views  \\\n",
       "0             Philosophy    Humanities                152    56355172   \n",
       "1             Philosophy    Humanities                142    46812003   \n",
       "2               Religion  Institutions                214    60299092   \n",
       "3             Philosophy    Humanities                137    40307143   \n",
       "4               Military  Institutions                138    48358148   \n",
       "...                  ...           ...                ...         ...   \n",
       "11335        Team Sports        Sports                 27      577913   \n",
       "11336        Team Sports        Sports                 28      380965   \n",
       "11337  Individual Sports        Sports                 26     2255010   \n",
       "11338  Individual Sports        Sports                 32      342719   \n",
       "11339        Team Sports        Sports                 27       12479   \n",
       "\n",
       "       average_views  historical_popularity_index  \n",
       "0             370758                      31.9938  \n",
       "1             329662                      31.9888  \n",
       "2             281771                      31.8981  \n",
       "3             294213                      31.6521  \n",
       "4             350421                      31.5840  \n",
       "...              ...                          ...  \n",
       "11335          21404                      11.3956  \n",
       "11336          13606                      11.1346  \n",
       "11337          86731                      10.6122  \n",
       "11338          10710                      10.3821  \n",
       "11339            462                      10.2495  \n",
       "\n",
       "[9169 rows x 17 columns]"
      ]
     },
     "execution_count": 39,
     "metadata": {},
     "output_type": "execute_result"
    }
   ],
   "source": [
    "df1[df1['state'].isnull()]"
   ]
  },
  {
   "cell_type": "code",
   "execution_count": 41,
   "metadata": {},
   "outputs": [],
   "source": [
    "df1['state'] = df_CONTEO['state'].fillna('Sin nombre')"
   ]
  },
  {
   "cell_type": "markdown",
   "metadata": {},
   "source": [
    "Los datos de Pantheon 1.0 mien la popularidad global de los personajes históricos utilizando dos medidas. La primera es el número de diferentes ediciones de idioma de Wikipedia que tienen un artículo sobre un personaje histórico. La segunda contiene el índice de popularidad histórica añadiendo información sobre la edad del carácter histórico, la concentración de vistas de página entre diferentes idiomas, el coeficiente de variación en las vistas de página y el número de vistas de página en idiomas distintos del inglés."
   ]
  },
  {
   "cell_type": "markdown",
   "metadata": {},
   "source": [
    "El modismo tiene como objetivo analizar y ver las relaciones que tienen las diferentes variables entre ellas. Intentando responder a la pregunta ¿Qué ocupaciones o industrias son las más populares? en la la popularidad global de los personajes históricos. Las variables a utilizar seran sexo, industria, ocupación y vistos de la pagina."
   ]
  },
  {
   "cell_type": "markdown",
   "metadata": {},
   "source": [
    "#### QUE "
   ]
  },
  {
   "cell_type": "markdown",
   "metadata": {},
   "source": [
    "Basados en el Framework de Tamara, evidenciamos que el Dataset cuenta con atributos categóricos para  las variables excepto popularidad historica y el sexo. visto de la pagina son variables ordenadas cuantitativas, el tipo de Data Set utilizado será un Treemap que contienen clasificaciones, son datos estáticos, es decir, que no cambian en el tiempo. Tiene 1 atributo cuantitativo en los nodos de las hojas."
   ]
  },
  {
   "cell_type": "markdown",
   "metadata": {},
   "source": [
    "#### PORQUE"
   ]
  },
  {
   "cell_type": "markdown",
   "metadata": {},
   "source": [
    "En el caso de los verbos utilizados para la descripción de la visualización, se utilizaron el consumir y presentar,por medio del Treemaps el análisis básico de las proporciones de la popularidad global de los personajes históricos, se buscara la segmentación de esta popularidad a traves de la industria y las ocupaciones. Todo esto con el fin de descubrir,analizar y comparar estas variables.\n",
    "\n",
    "En el caso de los sustantivos que se utilizaron para las variables se tienen en cuenta la proporción y separabilidad. \n",
    "Adicionalmente, la visualización tiene estructura jerárquica donde les asigna un tamaño y un orden en función de la variable cuantitativa. Su searh puede estar referenciado con un locate, dado que su target se conoce por lo cual se puede identificar que industrias son las mas populares a traves de su popularidad historica, que ocupaciones son las mas reconocidas y además, si hay más personas de genero femenino o masculino.\n"
   ]
  },
  {
   "cell_type": "markdown",
   "metadata": {},
   "source": [
    "#### COMO"
   ]
  },
  {
   "cell_type": "markdown",
   "metadata": {},
   "source": [
    "Fueron estructurados en forma de árbol, por jerarquía, como un conjunto de rectángulos anidados. A cada grupo se le asigna un rectángulo, que después se combina con rectángulos más pequeños que representan subgrupos. El tamaño y el color se usan para mostrar dimensiones numéricas independientes de los datos. Siendo el primer conjunto la industria, luego se combina con las ocupaciones y por ultimo el sexo. "
   ]
  },
  {
   "cell_type": "code",
   "execution_count": 23,
   "metadata": {
    "scrolled": false
   },
   "outputs": [
    {
     "data": {
      "application/vnd.plotly.v1+json": {
       "config": {
        "plotlyServerURL": "https://plot.ly"
       },
       "data": [
        {
         "branchvalues": "total",
         "customdata": [
          [
           "Companion"
          ],
          [
           "Actor"
          ],
          [
           "(?)"
          ],
          [
           "Photographer"
          ],
          [
           "(?)"
          ],
          [
           "Diplomat"
          ],
          [
           "Mafioso"
          ],
          [
           "Presenter"
          ],
          [
           "Computer Scientist"
          ],
          [
           "Pirate"
          ],
          [
           "Explorer"
          ],
          [
           "Military Personnel"
          ],
          [
           "Archaeologist"
          ],
          [
           "Baseball Player"
          ],
          [
           "Celebrity"
          ],
          [
           "Artist"
          ],
          [
           "Extremist"
          ],
          [
           "Soccer Player"
          ],
          [
           "Journalist"
          ],
          [
           "Statistician"
          ],
          [
           "Film Director"
          ],
          [
           "Skier"
          ],
          [
           "Public Worker"
          ],
          [
           "Comic Artist"
          ],
          [
           "Judge"
          ],
          [
           "Pilot"
          ],
          [
           "Athlete"
          ],
          [
           "Physicist"
          ],
          [
           "Diplomat"
          ],
          [
           "Fashion Designer"
          ],
          [
           "Designer"
          ],
          [
           "Fashion Designer"
          ],
          [
           "Pilot"
          ],
          [
           "Hockey Player"
          ],
          [
           "Pilot"
          ],
          [
           "Comedian"
          ],
          [
           "Skater"
          ],
          [
           "Conductor"
          ],
          [
           "Boxer"
          ],
          [
           "Critic"
          ],
          [
           "Model"
          ],
          [
           "Inventor"
          ],
          [
           "Photographer"
          ],
          [
           "Astronaut"
          ],
          [
           "Historian"
          ],
          [
           "Nobleman"
          ],
          [
           "Mathematician"
          ],
          [
           "Writer"
          ],
          [
           "Cricketer"
          ],
          [
           "Sociologist"
          ],
          [
           "Painter"
          ],
          [
           "Basketball Player"
          ],
          [
           "Businessperson"
          ],
          [
           "Psychologist"
          ],
          [
           "(?)"
          ],
          [
           "Swimmer"
          ],
          [
           "Dancer"
          ],
          [
           "Artist"
          ],
          [
           "Painter"
          ],
          [
           "(?)"
          ],
          [
           "Astronomer"
          ],
          [
           "Pornographic Actor"
          ],
          [
           "Skier"
          ],
          [
           "(?)"
          ],
          [
           "Social Activist"
          ],
          [
           "Snooker"
          ],
          [
           "Physicist"
          ],
          [
           "Anthropologist"
          ],
          [
           "Racecar Driver"
          ],
          [
           "Referee"
          ],
          [
           "Tennis Player"
          ],
          [
           "Journalist"
          ],
          [
           "Religious Figure"
          ],
          [
           "Model"
          ],
          [
           "Businessperson"
          ],
          [
           "(?)"
          ],
          [
           "Physician"
          ],
          [
           "Dancer"
          ],
          [
           "Social Activist"
          ],
          [
           "Presenter"
          ],
          [
           "Skier"
          ],
          [
           "Singer"
          ],
          [
           "Martial Arts"
          ],
          [
           "Gymnast"
          ],
          [
           "American Football Player"
          ],
          [
           "Nobleman"
          ],
          [
           "Painter"
          ],
          [
           "Designer"
          ],
          [
           "Fashion Designer"
          ],
          [
           "(?)"
          ],
          [
           "(?)"
          ],
          [
           "Engineer"
          ],
          [
           "Film Director"
          ],
          [
           "(?)"
          ],
          [
           "Sculptor"
          ],
          [
           "Golfer"
          ],
          [
           "Wrestler"
          ],
          [
           "Tennis Player"
          ],
          [
           "Snooker"
          ],
          [
           "Composer"
          ],
          [
           "Religious Figure"
          ],
          [
           "Referee"
          ],
          [
           "Physicist"
          ],
          [
           "Musician"
          ],
          [
           "Mountaineer"
          ],
          [
           "Military Personnel"
          ],
          [
           "Mathematician"
          ],
          [
           "Actor"
          ],
          [
           "Anthropologist"
          ],
          [
           "Physician"
          ],
          [
           "Nobleman"
          ],
          [
           "Writer"
          ],
          [
           "Judge"
          ],
          [
           "American Football Player"
          ],
          [
           "Golfer"
          ],
          [
           "Cyclist"
          ],
          [
           "Chessmaster"
          ],
          [
           "Sculptor"
          ],
          [
           "Biologist"
          ],
          [
           "Chemist"
          ],
          [
           "Anthropologist"
          ],
          [
           "Architect"
          ],
          [
           "Astronomer"
          ],
          [
           "Inventor"
          ],
          [
           "Baseball Player"
          ],
          [
           "Lawyer"
          ],
          [
           "Singer"
          ],
          [
           "Military Personnel"
          ],
          [
           "Skater"
          ],
          [
           "Engineer"
          ],
          [
           "Extremist"
          ],
          [
           "Politician"
          ],
          [
           "Inventor"
          ],
          [
           "Tennis Player"
          ],
          [
           "Astronaut"
          ],
          [
           "Game Designer"
          ],
          [
           "Geographer"
          ],
          [
           "Geologist"
          ],
          [
           "Magician"
          ],
          [
           "Actor"
          ],
          [
           "Martial Arts"
          ],
          [
           "Archaeologist"
          ],
          [
           "Economist"
          ],
          [
           "Magician"
          ],
          [
           "Photographer"
          ],
          [
           "Religious Figure"
          ],
          [
           "Religious Figure"
          ],
          [
           "Athlete"
          ],
          [
           "Lawyer"
          ],
          [
           "Historian"
          ],
          [
           "(?)"
          ],
          [
           "(?)"
          ],
          [
           "Chessmaster"
          ],
          [
           "(?)"
          ],
          [
           "Companion"
          ],
          [
           "Computer Scientist"
          ],
          [
           "Diplomat"
          ],
          [
           "Economist"
          ],
          [
           "Statistician"
          ],
          [
           "Sociologist"
          ],
          [
           "Soccer Player"
          ],
          [
           "Lawyer"
          ],
          [
           "Biologist"
          ],
          [
           "Political Scientist"
          ],
          [
           "Politician"
          ],
          [
           "Philosopher"
          ],
          [
           "Boxer"
          ],
          [
           "(?)"
          ],
          [
           "Computer Scientist"
          ],
          [
           "Dancer"
          ],
          [
           "Swimmer"
          ],
          [
           "Economist"
          ],
          [
           "Cricketer"
          ],
          [
           "Architect"
          ],
          [
           "Astronaut"
          ],
          [
           "Explorer"
          ],
          [
           "Soccer Player"
          ],
          [
           "Film Director"
          ],
          [
           "Comedian"
          ],
          [
           "Game Designer"
          ],
          [
           "Geographer"
          ],
          [
           "Singer"
          ],
          [
           "Biologist"
          ],
          [
           "Gymnast"
          ],
          [
           "Geologist"
          ],
          [
           "Producer"
          ],
          [
           "Linguist"
          ],
          [
           "Psychologist"
          ],
          [
           "Judge"
          ],
          [
           "Coach"
          ],
          [
           "Writer"
          ],
          [
           "Chemist"
          ],
          [
           "Politician"
          ],
          [
           "Pirate"
          ],
          [
           "Dancer"
          ],
          [
           "Skater"
          ],
          [
           "Chef"
          ],
          [
           "Celebrity"
          ],
          [
           "Chemist"
          ],
          [
           "Wrestler"
          ],
          [
           "Mathematician"
          ],
          [
           "Musician"
          ],
          [
           "Producer"
          ],
          [
           "Archaeologist"
          ],
          [
           "Philosopher"
          ],
          [
           "Mafioso"
          ],
          [
           "(?)"
          ],
          [
           "Architect"
          ],
          [
           "Comic Artist"
          ],
          [
           "Chessmaster"
          ],
          [
           "Historian"
          ],
          [
           "Social Activist"
          ],
          [
           "Critic"
          ],
          [
           "Cyclist"
          ],
          [
           "Conductor"
          ],
          [
           "Racecar Driver"
          ],
          [
           "Physician"
          ],
          [
           "Chef"
          ],
          [
           "Sculptor"
          ],
          [
           "Musician"
          ],
          [
           "Coach"
          ],
          [
           "Comic Artist"
          ],
          [
           "Artist"
          ],
          [
           "Hockey Player"
          ],
          [
           "Extremist"
          ],
          [
           "(?)"
          ],
          [
           "Racecar Driver"
          ],
          [
           "Basketball Player"
          ],
          [
           "Engineer"
          ],
          [
           "Philosopher"
          ],
          [
           "Chef"
          ],
          [
           "Athlete"
          ],
          [
           "Mountaineer"
          ],
          [
           "Companion"
          ],
          [
           "Astronomer"
          ],
          [
           "Political Scientist"
          ],
          [
           "Computer Scientist"
          ],
          [
           "Presenter"
          ],
          [
           "Physician"
          ],
          [
           "Philosopher"
          ],
          [
           "Engineer"
          ],
          [
           "Composer"
          ],
          [
           "Wrestler"
          ],
          [
           "Companion"
          ],
          [
           "Linguist"
          ],
          [
           "Social Activist"
          ],
          [
           "Lawyer"
          ],
          [
           "Basketball Player"
          ],
          [
           "Swimmer"
          ],
          [
           "Gymnast"
          ],
          [
           "Journalist"
          ],
          [
           "(?)"
          ],
          [
           "Public Worker"
          ],
          [
           "Pornographic Actor"
          ],
          [
           "Businessperson"
          ],
          [
           "Celebrity"
          ],
          [
           "Psychologist"
          ]
         ],
         "domain": {
          "x": [
           0,
           1
          ],
          "y": [
           0,
           1
          ]
         },
         "hovertemplate": "labels=%{label}<br>historical_popularity_index=%{value}<br>parent=%{parent}<br>id=%{id}<br>occupation=%{customdata[0]}<extra></extra>",
         "ids": [
          "Companions",
          "Film And Theatre/Actor",
          "Individual Sports",
          "Fine Arts/Photographer/Male",
          "Music",
          "Government/Diplomat",
          "Outlaws/Mafioso",
          "Media Personality/Presenter",
          "Computer Science/Computer Scientist/Male",
          "Outlaws/Pirate",
          "Explorers/Explorer",
          "Military/Military Personnel/Female",
          "Natural Sciences/Archaeologist",
          "Team Sports/Baseball Player",
          "Media Personality/Celebrity/Male",
          "Fine Arts/Artist",
          "Outlaws/Extremist/Male",
          "Team Sports/Soccer Player/Female",
          "Language/Journalist/Female",
          "Math/Statistician/Male",
          "Film And Theatre/Film Director/Female",
          "Individual Sports/Skier/Male",
          "Government/Public Worker",
          "Design/Comic Artist/Female",
          "Government/Judge",
          "Military/Pilot/Male",
          "Individual Sports/Athlete",
          "Natural Sciences/Physicist/Female",
          "Government/Diplomat/Male",
          "Design/Fashion Designer/Female",
          "Design/Designer/Male",
          "Design/Fashion Designer/Male",
          "Military/Pilot",
          "Team Sports/Hockey Player",
          "Military/Pilot/Female",
          "Film And Theatre/Comedian",
          "Individual Sports/Skater/Male",
          "Music/Conductor",
          "Individual Sports/Boxer",
          "Language/Critic",
          "Media Personality/Model/Female",
          "Invention",
          "Fine Arts/Photographer",
          "Explorers/Astronaut/Female",
          "History/Historian/Male",
          "Government/Nobleman",
          "Math/Mathematician",
          "Language/Writer",
          "Team Sports/Cricketer",
          "Social Sciences/Sociologist/Male",
          "Fine Arts/Painter/Female",
          "Team Sports/Basketball Player/Male",
          "Business/Businessperson/Female",
          "Social Sciences/Psychologist/Female",
          "Outlaws",
          "Individual Sports/Swimmer/Female",
          "Dance",
          "Fine Arts/Artist/Female",
          "Fine Arts/Painter",
          "Military",
          "Natural Sciences/Astronomer",
          "Media Personality/Pornographic Actor",
          "Individual Sports/Skier",
          "Film And Theatre",
          "Activism/Social Activist/Male",
          "Individual Sports/Snooker/Male",
          "Natural Sciences/Physicist/Male",
          "Social Sciences/Anthropologist",
          "Individual Sports/Racecar Driver/Male",
          "Team Sports/Referee/Male",
          "Individual Sports/Tennis Player/Male",
          "Language/Journalist/Male",
          "Religion/Religious Figure/Male",
          "Media Personality/Model",
          "Business/Businessperson/Male",
          "Natural Sciences",
          "Medicine",
          "Dance/Dancer/Female",
          "Activism",
          "Media Personality/Presenter/Female",
          "Individual Sports/Skier/Female",
          "Music/Singer",
          "Individual Sports/Martial Arts",
          "Individual Sports/Gymnast",
          "Team Sports/American Football Player",
          "Government/Nobleman/Male",
          "Fine Arts/Painter/Male",
          "Design/Designer",
          "Design/Fashion Designer",
          "Math",
          "Government",
          "Engineering",
          "Film And Theatre/Film Director",
          "Business",
          "Fine Arts/Sculptor/Male",
          "Individual Sports/Golfer",
          "Individual Sports/Wrestler",
          "Individual Sports/Tennis Player",
          "Individual Sports/Snooker",
          "Music/Composer",
          "Religion/Religious Figure",
          "Team Sports/Referee",
          "Natural Sciences/Physicist",
          "Music/Musician",
          "Individual Sports/Mountaineer",
          "Military/Military Personnel/Male",
          "Math/Mathematician/Male",
          "Film And Theatre/Actor/Female",
          "Social Sciences/Anthropologist/Male",
          "Medicine/Physician/Female",
          "Government/Nobleman/Female",
          "Language/Writer/Female",
          "Government/Judge/Female",
          "Team Sports/American Football Player/Male",
          "Individual Sports/Golfer/Male",
          "Individual Sports/Cyclist/Male",
          "Individual Sports/Chessmaster/Male",
          "Fine Arts/Sculptor/Female",
          "Natural Sciences/Biologist/Female",
          "Natural Sciences/Chemist/Male",
          "Social Sciences/Anthropologist/Female",
          "Design/Architect/Female",
          "Natural Sciences/Astronomer/Female",
          "Invention/Inventor/Male",
          "Team Sports/Baseball Player/Male",
          "Law/Lawyer/Male",
          "Music/Singer/Female",
          "Military/Military Personnel",
          "Individual Sports/Skater",
          "Engineering/Engineer/Female",
          "Outlaws/Extremist/Female",
          "Government/Politician",
          "Invention/Inventor",
          "Individual Sports/Tennis Player/Female",
          "Explorers/Astronaut/Male",
          "Design/Game Designer",
          "Social Sciences/Geographer",
          "Natural Sciences/Geologist",
          "Media Personality/Magician",
          "Film And Theatre/Actor/Male",
          "Individual Sports/Martial Arts/Male",
          "Natural Sciences/Archaeologist/Male",
          "Social Sciences/Economist",
          "Media Personality/Magician/Male",
          "Fine Arts/Photographer/Female",
          "Religion/Religious Figure/Female",
          "Religion",
          "Individual Sports/Athlete/Female",
          "Law",
          "History",
          "Fine Arts",
          "Explorers",
          "Individual Sports/Chessmaster/Female",
          "Design",
          "Companions/Companion/Female",
          "Computer Science",
          "Government/Diplomat/Female",
          "Social Sciences/Economist/Female",
          "Math/Statistician",
          "Social Sciences/Sociologist",
          "Team Sports/Soccer Player",
          "Law/Lawyer/Female",
          "Natural Sciences/Biologist/Male",
          "Social Sciences/Political Scientist",
          "Government/Politician/Female",
          "Philosophy/Philosopher",
          "Individual Sports/Boxer/Male",
          "Team Sports",
          "Computer Science/Computer Scientist",
          "Dance/Dancer/Male",
          "Individual Sports/Swimmer/Male",
          "Social Sciences/Economist/Male",
          "Team Sports/Cricketer/Male",
          "Design/Architect",
          "Explorers/Astronaut",
          "Explorers/Explorer/Male",
          "Team Sports/Soccer Player/Male",
          "Film And Theatre/Film Director/Male",
          "Film And Theatre/Comedian/Male",
          "Design/Game Designer/Male",
          "Social Sciences/Geographer/Male",
          "Music/Singer/Male",
          "Natural Sciences/Biologist",
          "Individual Sports/Gymnast/Male",
          "Natural Sciences/Geologist/Male",
          "Business/Producer/Male",
          "Language/Linguist/Male",
          "Social Sciences/Psychologist/Male",
          "Government/Judge/Male",
          "Team Sports/Coach",
          "Language/Writer/Male",
          "Natural Sciences/Chemist",
          "Government/Politician/Male",
          "Outlaws/Pirate/Male",
          "Dance/Dancer",
          "Individual Sports/Skater/Female",
          "Media Personality/Chef/Female",
          "Media Personality/Celebrity/Female",
          "Natural Sciences/Chemist/Female",
          "Individual Sports/Wrestler/Male",
          "Math/Mathematician/Female",
          "Music/Musician/Female",
          "Business/Producer",
          "Natural Sciences/Archaeologist/Female",
          "Philosophy",
          "Outlaws/Mafioso/Male",
          "Media Personality",
          "Design/Architect/Male",
          "Design/Comic Artist/Male",
          "Individual Sports/Chessmaster",
          "History/Historian",
          "Activism/Social Activist/Female",
          "Language/Critic/Male",
          "Individual Sports/Cyclist",
          "Music/Conductor/Male",
          "Individual Sports/Racecar Driver",
          "Medicine/Physician/Male",
          "Media Personality/Chef/Male",
          "Fine Arts/Sculptor",
          "Music/Musician/Male",
          "Team Sports/Coach/Male",
          "Design/Comic Artist",
          "Fine Arts/Artist/Male",
          "Team Sports/Hockey Player/Male",
          "Outlaws/Extremist",
          "Language",
          "Individual Sports/Racecar Driver/Female",
          "Team Sports/Basketball Player/Female",
          "Engineering/Engineer",
          "Philosophy/Philosopher/Male",
          "Media Personality/Chef",
          "Individual Sports/Athlete/Male",
          "Individual Sports/Mountaineer/Male",
          "Companions/Companion",
          "Natural Sciences/Astronomer/Male",
          "Social Sciences/Political Scientist/Male",
          "Computer Science/Computer Scientist/Female",
          "Media Personality/Presenter/Male",
          "Medicine/Physician",
          "Philosophy/Philosopher/Female",
          "Engineering/Engineer/Male",
          "Music/Composer/Male",
          "Individual Sports/Wrestler/Female",
          "Companions/Companion/Male",
          "Language/Linguist",
          "Activism/Social Activist",
          "Law/Lawyer",
          "Team Sports/Basketball Player",
          "Individual Sports/Swimmer",
          "Individual Sports/Gymnast/Female",
          "Language/Journalist",
          "Social Sciences",
          "Government/Public Worker/Male",
          "Media Personality/Pornographic Actor/Female",
          "Business/Businessperson",
          "Media Personality/Celebrity",
          "Social Sciences/Psychologist"
         ],
         "labels": [
          "Companions",
          "Actor",
          "Individual Sports",
          "Male",
          "Music",
          "Diplomat",
          "Mafioso",
          "Presenter",
          "Male",
          "Pirate",
          "Explorer",
          "Female",
          "Archaeologist",
          "Baseball Player",
          "Male",
          "Artist",
          "Male",
          "Female",
          "Female",
          "Male",
          "Female",
          "Male",
          "Public Worker",
          "Female",
          "Judge",
          "Male",
          "Athlete",
          "Female",
          "Male",
          "Female",
          "Male",
          "Male",
          "Pilot",
          "Hockey Player",
          "Female",
          "Comedian",
          "Male",
          "Conductor",
          "Boxer",
          "Critic",
          "Female",
          "Invention",
          "Photographer",
          "Female",
          "Male",
          "Nobleman",
          "Mathematician",
          "Writer",
          "Cricketer",
          "Male",
          "Female",
          "Male",
          "Female",
          "Female",
          "Outlaws",
          "Female",
          "Dance",
          "Female",
          "Painter",
          "Military",
          "Astronomer",
          "Pornographic Actor",
          "Skier",
          "Film And Theatre",
          "Male",
          "Male",
          "Male",
          "Anthropologist",
          "Male",
          "Male",
          "Male",
          "Male",
          "Male",
          "Model",
          "Male",
          "Natural Sciences",
          "Medicine",
          "Female",
          "Activism",
          "Female",
          "Female",
          "Singer",
          "Martial Arts",
          "Gymnast",
          "American Football Player",
          "Male",
          "Male",
          "Designer",
          "Fashion Designer",
          "Math",
          "Government",
          "Engineering",
          "Film Director",
          "Business",
          "Male",
          "Golfer",
          "Wrestler",
          "Tennis Player",
          "Snooker",
          "Composer",
          "Religious Figure",
          "Referee",
          "Physicist",
          "Musician",
          "Mountaineer",
          "Male",
          "Male",
          "Female",
          "Male",
          "Female",
          "Female",
          "Female",
          "Female",
          "Male",
          "Male",
          "Male",
          "Male",
          "Female",
          "Female",
          "Male",
          "Female",
          "Female",
          "Female",
          "Male",
          "Male",
          "Male",
          "Female",
          "Military Personnel",
          "Skater",
          "Female",
          "Female",
          "Politician",
          "Inventor",
          "Female",
          "Male",
          "Game Designer",
          "Geographer",
          "Geologist",
          "Magician",
          "Male",
          "Male",
          "Male",
          "Economist",
          "Male",
          "Female",
          "Female",
          "Religion",
          "Female",
          "Law",
          "History",
          "Fine Arts",
          "Explorers",
          "Female",
          "Design",
          "Female",
          "Computer Science",
          "Female",
          "Female",
          "Statistician",
          "Sociologist",
          "Soccer Player",
          "Female",
          "Male",
          "Political Scientist",
          "Female",
          "Philosopher",
          "Male",
          "Team Sports",
          "Computer Scientist",
          "Male",
          "Male",
          "Male",
          "Male",
          "Architect",
          "Astronaut",
          "Male",
          "Male",
          "Male",
          "Male",
          "Male",
          "Male",
          "Male",
          "Biologist",
          "Male",
          "Male",
          "Male",
          "Male",
          "Male",
          "Male",
          "Coach",
          "Male",
          "Chemist",
          "Male",
          "Male",
          "Dancer",
          "Female",
          "Female",
          "Female",
          "Female",
          "Male",
          "Female",
          "Female",
          "Producer",
          "Female",
          "Philosophy",
          "Male",
          "Media Personality",
          "Male",
          "Male",
          "Chessmaster",
          "Historian",
          "Female",
          "Male",
          "Cyclist",
          "Male",
          "Racecar Driver",
          "Male",
          "Male",
          "Sculptor",
          "Male",
          "Male",
          "Comic Artist",
          "Male",
          "Male",
          "Extremist",
          "Language",
          "Female",
          "Female",
          "Engineer",
          "Male",
          "Chef",
          "Male",
          "Male",
          "Companion",
          "Male",
          "Male",
          "Female",
          "Male",
          "Physician",
          "Female",
          "Male",
          "Male",
          "Female",
          "Male",
          "Linguist",
          "Social Activist",
          "Lawyer",
          "Basketball Player",
          "Swimmer",
          "Female",
          "Journalist",
          "Social Sciences",
          "Male",
          "Female",
          "Businessperson",
          "Celebrity",
          "Psychologist"
         ],
         "marker": {
          "colors": [
           "#636efa",
           "#EF553B",
           "#00cc96",
           "#ab63fa",
           "#00cc96",
           "#FFA15A",
           "#19d3f3",
           "#FF6692",
           "#B6E880",
           "#FF97FF",
           "#FECB52",
           "#636efa",
           "#EF553B",
           "#00cc96",
           "#ab63fa",
           "#FFA15A",
           "#19d3f3",
           "#FF6692",
           "#B6E880",
           "#FF97FF",
           "#FECB52",
           "#636efa",
           "#EF553B",
           "#00cc96",
           "#ab63fa",
           "#FFA15A",
           "#19d3f3",
           "#FF6692",
           "#FFA15A",
           "#B6E880",
           "#FF97FF",
           "#B6E880",
           "#FFA15A",
           "#FECB52",
           "#FFA15A",
           "#636efa",
           "#EF553B",
           "#00cc96",
           "#ab63fa",
           "#FFA15A",
           "#19d3f3",
           "#FF6692",
           "#ab63fa",
           "#B6E880",
           "#FF97FF",
           "#FECB52",
           "#636efa",
           "#EF553B",
           "#00cc96",
           "#ab63fa",
           "#FFA15A",
           "#19d3f3",
           "#FF6692",
           "#B6E880",
           "#00cc96",
           "#FF97FF",
           "#FECB52",
           "#FFA15A",
           "#FFA15A",
           "#00cc96",
           "#636efa",
           "#EF553B",
           "#636efa",
           "#00cc96",
           "#00cc96",
           "#ab63fa",
           "#FF6692",
           "#FFA15A",
           "#19d3f3",
           "#FF6692",
           "#B6E880",
           "#B6E880",
           "#FF97FF",
           "#19d3f3",
           "#FF6692",
           "#00cc96",
           "#FECB52",
           "#FECB52",
           "#00cc96",
           "#FF6692",
           "#636efa",
           "#636efa",
           "#EF553B",
           "#00cc96",
           "#ab63fa",
           "#FECB52",
           "#FFA15A",
           "#FF97FF",
           "#B6E880",
           "#00cc96",
           "#00cc96",
           "#FFA15A",
           "#FECB52",
           "#00cc96",
           "#19d3f3",
           "#FF6692",
           "#B6E880",
           "#B6E880",
           "#ab63fa",
           "#FF97FF",
           "#FF97FF",
           "#FF6692",
           "#FF6692",
           "#FECB52",
           "#636efa",
           "#636efa",
           "#636efa",
           "#EF553B",
           "#FFA15A",
           "#FECB52",
           "#FECB52",
           "#EF553B",
           "#ab63fa",
           "#ab63fa",
           "#FF6692",
           "#EF553B",
           "#00cc96",
           "#19d3f3",
           "#ab63fa",
           "#FFA15A",
           "#FFA15A",
           "#19d3f3",
           "#636efa",
           "#FF6692",
           "#00cc96",
           "#FF6692",
           "#636efa",
           "#636efa",
           "#EF553B",
           "#FFA15A",
           "#19d3f3",
           "#B6E880",
           "#FF6692",
           "#B6E880",
           "#B6E880",
           "#FF97FF",
           "#FECB52",
           "#636efa",
           "#EF553B",
           "#EF553B",
           "#EF553B",
           "#EF553B",
           "#00cc96",
           "#EF553B",
           "#ab63fa",
           "#FF97FF",
           "#FF97FF",
           "#19d3f3",
           "#FF6692",
           "#FF97FF",
           "#00cc96",
           "#00cc96",
           "#00cc96",
           "#00cc96",
           "#636efa",
           "#B6E880",
           "#FFA15A",
           "#00cc96",
           "#FF97FF",
           "#ab63fa",
           "#FF6692",
           "#FF6692",
           "#ab63fa",
           "#ab63fa",
           "#B6E880",
           "#FFA15A",
           "#ab63fa",
           "#00cc96",
           "#B6E880",
           "#FECB52",
           "#FF97FF",
           "#00cc96",
           "#00cc96",
           "#19d3f3",
           "#B6E880",
           "#FECB52",
           "#FF6692",
           "#FECB52",
           "#636efa",
           "#FF97FF",
           "#FECB52",
           "#636efa",
           "#ab63fa",
           "#00cc96",
           "#636efa",
           "#19d3f3",
           "#FF6692",
           "#B6E880",
           "#ab63fa",
           "#B6E880",
           "#EF553B",
           "#FFA15A",
           "#B6E880",
           "#FF97FF",
           "#FECB52",
           "#EF553B",
           "#FF97FF",
           "#ab63fa",
           "#FFA15A",
           "#B6E880",
           "#636efa",
           "#FECB52",
           "#19d3f3",
           "#EF553B",
           "#FFA15A",
           "#19d3f3",
           "#00cc96",
           "#19d3f3",
           "#00cc96",
           "#00cc96",
           "#FF97FF",
           "#00cc96",
           "#FFA15A",
           "#EF553B",
           "#00cc96",
           "#19d3f3",
           "#FECB52",
           "#FF97FF",
           "#19d3f3",
           "#FECB52",
           "#B6E880",
           "#00cc96",
           "#FFA15A",
           "#FECB52",
           "#19d3f3",
           "#00cc96",
           "#19d3f3",
           "#19d3f3",
           "#FFA15A",
           "#FFA15A",
           "#FF97FF",
           "#19d3f3",
           "#636efa",
           "#636efa",
           "#636efa",
           "#ab63fa",
           "#B6E880",
           "#FF6692",
           "#FECB52",
           "#FFA15A",
           "#FFA15A",
           "#FF97FF",
           "#B6E880",
           "#636efa",
           "#FF6692",
           "#00cc96",
           "#FF6692",
           "#19d3f3",
           "#FF97FF",
           "#00cc96",
           "#B6E880",
           "#00cc96",
           "#EF553B",
           "#EF553B",
           "#FF6692",
           "#ab63fa",
           "#B6E880"
          ]
         },
         "name": "",
         "parents": [
          "",
          "Film And Theatre",
          "",
          "Fine Arts/Photographer",
          "",
          "Government",
          "Outlaws",
          "Media Personality",
          "Computer Science/Computer Scientist",
          "Outlaws",
          "Explorers",
          "Military/Military Personnel",
          "Natural Sciences",
          "Team Sports",
          "Media Personality/Celebrity",
          "Fine Arts",
          "Outlaws/Extremist",
          "Team Sports/Soccer Player",
          "Language/Journalist",
          "Math/Statistician",
          "Film And Theatre/Film Director",
          "Individual Sports/Skier",
          "Government",
          "Design/Comic Artist",
          "Government",
          "Military/Pilot",
          "Individual Sports",
          "Natural Sciences/Physicist",
          "Government/Diplomat",
          "Design/Fashion Designer",
          "Design/Designer",
          "Design/Fashion Designer",
          "Military",
          "Team Sports",
          "Military/Pilot",
          "Film And Theatre",
          "Individual Sports/Skater",
          "Music",
          "Individual Sports",
          "Language",
          "Media Personality/Model",
          "",
          "Fine Arts",
          "Explorers/Astronaut",
          "History/Historian",
          "Government",
          "Math",
          "Language",
          "Team Sports",
          "Social Sciences/Sociologist",
          "Fine Arts/Painter",
          "Team Sports/Basketball Player",
          "Business/Businessperson",
          "Social Sciences/Psychologist",
          "",
          "Individual Sports/Swimmer",
          "",
          "Fine Arts/Artist",
          "Fine Arts",
          "",
          "Natural Sciences",
          "Media Personality",
          "Individual Sports",
          "",
          "Activism/Social Activist",
          "Individual Sports/Snooker",
          "Natural Sciences/Physicist",
          "Social Sciences",
          "Individual Sports/Racecar Driver",
          "Team Sports/Referee",
          "Individual Sports/Tennis Player",
          "Language/Journalist",
          "Religion/Religious Figure",
          "Media Personality",
          "Business/Businessperson",
          "",
          "",
          "Dance/Dancer",
          "",
          "Media Personality/Presenter",
          "Individual Sports/Skier",
          "Music",
          "Individual Sports",
          "Individual Sports",
          "Team Sports",
          "Government/Nobleman",
          "Fine Arts/Painter",
          "Design",
          "Design",
          "",
          "",
          "",
          "Film And Theatre",
          "",
          "Fine Arts/Sculptor",
          "Individual Sports",
          "Individual Sports",
          "Individual Sports",
          "Individual Sports",
          "Music",
          "Religion",
          "Team Sports",
          "Natural Sciences",
          "Music",
          "Individual Sports",
          "Military/Military Personnel",
          "Math/Mathematician",
          "Film And Theatre/Actor",
          "Social Sciences/Anthropologist",
          "Medicine/Physician",
          "Government/Nobleman",
          "Language/Writer",
          "Government/Judge",
          "Team Sports/American Football Player",
          "Individual Sports/Golfer",
          "Individual Sports/Cyclist",
          "Individual Sports/Chessmaster",
          "Fine Arts/Sculptor",
          "Natural Sciences/Biologist",
          "Natural Sciences/Chemist",
          "Social Sciences/Anthropologist",
          "Design/Architect",
          "Natural Sciences/Astronomer",
          "Invention/Inventor",
          "Team Sports/Baseball Player",
          "Law/Lawyer",
          "Music/Singer",
          "Military",
          "Individual Sports",
          "Engineering/Engineer",
          "Outlaws/Extremist",
          "Government",
          "Invention",
          "Individual Sports/Tennis Player",
          "Explorers/Astronaut",
          "Design",
          "Social Sciences",
          "Natural Sciences",
          "Media Personality",
          "Film And Theatre/Actor",
          "Individual Sports/Martial Arts",
          "Natural Sciences/Archaeologist",
          "Social Sciences",
          "Media Personality/Magician",
          "Fine Arts/Photographer",
          "Religion/Religious Figure",
          "",
          "Individual Sports/Athlete",
          "",
          "",
          "",
          "",
          "Individual Sports/Chessmaster",
          "",
          "Companions/Companion",
          "",
          "Government/Diplomat",
          "Social Sciences/Economist",
          "Math",
          "Social Sciences",
          "Team Sports",
          "Law/Lawyer",
          "Natural Sciences/Biologist",
          "Social Sciences",
          "Government/Politician",
          "Philosophy",
          "Individual Sports/Boxer",
          "",
          "Computer Science",
          "Dance/Dancer",
          "Individual Sports/Swimmer",
          "Social Sciences/Economist",
          "Team Sports/Cricketer",
          "Design",
          "Explorers",
          "Explorers/Explorer",
          "Team Sports/Soccer Player",
          "Film And Theatre/Film Director",
          "Film And Theatre/Comedian",
          "Design/Game Designer",
          "Social Sciences/Geographer",
          "Music/Singer",
          "Natural Sciences",
          "Individual Sports/Gymnast",
          "Natural Sciences/Geologist",
          "Business/Producer",
          "Language/Linguist",
          "Social Sciences/Psychologist",
          "Government/Judge",
          "Team Sports",
          "Language/Writer",
          "Natural Sciences",
          "Government/Politician",
          "Outlaws/Pirate",
          "Dance",
          "Individual Sports/Skater",
          "Media Personality/Chef",
          "Media Personality/Celebrity",
          "Natural Sciences/Chemist",
          "Individual Sports/Wrestler",
          "Math/Mathematician",
          "Music/Musician",
          "Business",
          "Natural Sciences/Archaeologist",
          "",
          "Outlaws/Mafioso",
          "",
          "Design/Architect",
          "Design/Comic Artist",
          "Individual Sports",
          "History",
          "Activism/Social Activist",
          "Language/Critic",
          "Individual Sports",
          "Music/Conductor",
          "Individual Sports",
          "Medicine/Physician",
          "Media Personality/Chef",
          "Fine Arts",
          "Music/Musician",
          "Team Sports/Coach",
          "Design",
          "Fine Arts/Artist",
          "Team Sports/Hockey Player",
          "Outlaws",
          "",
          "Individual Sports/Racecar Driver",
          "Team Sports/Basketball Player",
          "Engineering",
          "Philosophy/Philosopher",
          "Media Personality",
          "Individual Sports/Athlete",
          "Individual Sports/Mountaineer",
          "Companions",
          "Natural Sciences/Astronomer",
          "Social Sciences/Political Scientist",
          "Computer Science/Computer Scientist",
          "Media Personality/Presenter",
          "Medicine",
          "Philosophy/Philosopher",
          "Engineering/Engineer",
          "Music/Composer",
          "Individual Sports/Wrestler",
          "Companions/Companion",
          "Language",
          "Activism",
          "Law",
          "Team Sports",
          "Individual Sports",
          "Individual Sports/Gymnast",
          "Language",
          "",
          "Government/Public Worker",
          "Media Personality/Pornographic Actor",
          "Business",
          "Media Personality",
          "Social Sciences"
         ],
         "type": "treemap",
         "values": [
          2408.5392999999985,
          24962.882,
          9418.605499999994,
          243.99669999999998,
          22916.891799999976,
          822.924,
          304.1561,
          386.6173,
          702.3178000000001,
          222.49749999999997,
          1722.2224,
          29.5566,
          299.76009999999997,
          111.2011,
          161.1738,
          2121.792500000001,
          717.4320999999998,
          78.5503,
          89.07579999999999,
          94.7785,
          67.0596,
          206.34230000000002,
          339.9467,
          42.0951,
          192.94050000000001,
          137.08350000000002,
          1247.0212000000001,
          70.5145,
          683.3599,
          51.170199999999994,
          368.75539999999995,
          187.81529999999998,
          205.92900000000003,
          37.931200000000004,
          68.8455,
          85.3442,
          96.6239,
          258.1233,
          304.98530000000005,
          114.1519,
          577.8923000000001,
          1614.1580000000004,
          266.36129999999997,
          127.17139999999999,
          1226.7803,
          2659.0140999999994,
          3778.455,
          22972.661300000018,
          35.0768,
          371.1205,
          98.5892,
          1233.4720999999997,
          80.16430000000001,
          48.748000000000005,
          1294.6694000000002,
          99.2206,
          282.91119999999995,
          186.6945,
          4439.679600000002,
          5660.7845,
          1935.6254000000004,
          221.47410000000002,
          286.58489999999995,
          29093.997900000028,
          1740.6762999999992,
          51.1798,
          6238.907500000006,
          252.7586,
          1965.0220000000002,
          171.97340000000003,
          1536.7361999999998,
          323.2080000000001,
          12161.053799999987,
          577.8923000000001,
          1678.5861,
          17065.885400000003,
          3293.9425000000015,
          168.3571,
          2587.1080000000006,
          46.7705,
          80.2426,
          8837.068299999999,
          158.4758,
          127.7417,
          23.2069,
          1811.388,
          4341.090400000002,
          368.75539999999995,
          238.9855,
          3873.2334999999994,
          63488.625400000106,
          927.0172000000001,
          4045.771699999998,
          2024.2805999999998,
          442.63889999999986,
          37.117599999999996,
          853.9071,
          2691.5573000000004,
          51.1798,
          5519.7857,
          12978.591599999982,
          171.97340000000003,
          6309.422000000005,
          8301.914500000008,
          115.3683,
          5425.298899999999,
          3609.0730999999996,
          10151.068899999998,
          160.5953,
          91.86630000000001,
          847.6260999999998,
          2566.5268000000015,
          17.0336,
          23.2069,
          37.117599999999996,
          521.6954000000001,
          580.7889,
          67.53880000000001,
          220.37339999999998,
          4960.753500000002,
          92.16329999999999,
          23.759,
          66.0252,
          1614.1580000000004,
          111.2011,
          365.5270999999999,
          4415.578699999999,
          5454.855499999999,
          153.2688,
          18.8602,
          50.5837,
          59473.80010000008,
          1614.1580000000004,
          1154.8211,
          548.4153999999999,
          82.30170000000001,
          349.74800000000005,
          231.4279,
          88.6781,
          14811.813100000008,
          158.4758,
          277.1296,
          2359.4253000000003,
          88.6781,
          22.3646,
          817.5378,
          12978.591599999982,
          314.8151,
          386.7709999999999,
          1226.7803,
          7338.011099999998,
          2397.8091999999997,
          16.0124,
          3008.3041000000003,
          2245.881399999999,
          723.6592000000002,
          139.5641,
          44.171,
          94.7785,
          371.1205,
          18478.515799999997,
          21.2439,
          2988.9251999999997,
          157.9581,
          3049.711300000001,
          7142.719000000001,
          304.98530000000005,
          21680.301500000038,
          723.6592000000002,
          114.55409999999999,
          193.8577,
          2315.254300000001,
          35.0768,
          1779.6543999999997,
          675.5867999999997,
          1722.2224,
          18399.965499999995,
          3978.7120999999984,
          85.3442,
          82.30170000000001,
          349.74800000000005,
          4421.489599999996,
          3209.298599999999,
          33.199799999999996,
          231.4279,
          265.53020000000004,
          487.9570000000001,
          879.9895000000001,
          175.9069,
          1572.4828000000002,
          20406.134500000007,
          5080.351400000001,
          56424.088800000114,
          222.49749999999997,
          282.91119999999995,
          56.6449,
          22.3232,
          280.65549999999996,
          119.59790000000001,
          837.6951,
          169.3819,
          721.8168999999999,
          265.53020000000004,
          22.6305,
          7142.719000000001,
          304.1561,
          1757.3667999999996,
          1755.8953999999997,
          496.512,
          596.8013000000001,
          1226.7803,
          846.4317,
          114.1519,
          521.6954000000001,
          258.1233,
          1979.8227,
          3202.0762000000013,
          18.5525,
          510.1776999999999,
          7580.097600000003,
          1572.4828000000002,
          538.6071,
          1935.0980000000009,
          37.931200000000004,
          768.0157999999999,
          23987.05400000001,
          14.8007,
          16.4414,
          927.0172000000001,
          7003.755000000002,
          40.875699999999995,
          932.2061000000006,
          115.3683,
          2408.5392999999985,
          1869.6002,
          157.9581,
          21.3414,
          339.8468,
          3293.9425000000015,
          138.964,
          908.1570000000002,
          5519.7857,
          16.212,
          162.6579,
          487.9570000000001,
          2587.1080000000006,
          386.7709999999999,
          1249.9134999999999,
          293.0782999999999,
          94.5419,
          412.28380000000004,
          4419.748000000003,
          339.9467,
          221.47410000000002,
          1758.7504,
          441.8293,
          928.7375000000001
         ]
        }
       ],
       "layout": {
        "legend": {
         "tracegroupgap": 0
        },
        "margin": {
         "t": 60
        },
        "template": {
         "data": {
          "bar": [
           {
            "error_x": {
             "color": "#2a3f5f"
            },
            "error_y": {
             "color": "#2a3f5f"
            },
            "marker": {
             "line": {
              "color": "#E5ECF6",
              "width": 0.5
             }
            },
            "type": "bar"
           }
          ],
          "barpolar": [
           {
            "marker": {
             "line": {
              "color": "#E5ECF6",
              "width": 0.5
             }
            },
            "type": "barpolar"
           }
          ],
          "carpet": [
           {
            "aaxis": {
             "endlinecolor": "#2a3f5f",
             "gridcolor": "white",
             "linecolor": "white",
             "minorgridcolor": "white",
             "startlinecolor": "#2a3f5f"
            },
            "baxis": {
             "endlinecolor": "#2a3f5f",
             "gridcolor": "white",
             "linecolor": "white",
             "minorgridcolor": "white",
             "startlinecolor": "#2a3f5f"
            },
            "type": "carpet"
           }
          ],
          "choropleth": [
           {
            "colorbar": {
             "outlinewidth": 0,
             "ticks": ""
            },
            "type": "choropleth"
           }
          ],
          "contour": [
           {
            "colorbar": {
             "outlinewidth": 0,
             "ticks": ""
            },
            "colorscale": [
             [
              0,
              "#0d0887"
             ],
             [
              0.1111111111111111,
              "#46039f"
             ],
             [
              0.2222222222222222,
              "#7201a8"
             ],
             [
              0.3333333333333333,
              "#9c179e"
             ],
             [
              0.4444444444444444,
              "#bd3786"
             ],
             [
              0.5555555555555556,
              "#d8576b"
             ],
             [
              0.6666666666666666,
              "#ed7953"
             ],
             [
              0.7777777777777778,
              "#fb9f3a"
             ],
             [
              0.8888888888888888,
              "#fdca26"
             ],
             [
              1,
              "#f0f921"
             ]
            ],
            "type": "contour"
           }
          ],
          "contourcarpet": [
           {
            "colorbar": {
             "outlinewidth": 0,
             "ticks": ""
            },
            "type": "contourcarpet"
           }
          ],
          "heatmap": [
           {
            "colorbar": {
             "outlinewidth": 0,
             "ticks": ""
            },
            "colorscale": [
             [
              0,
              "#0d0887"
             ],
             [
              0.1111111111111111,
              "#46039f"
             ],
             [
              0.2222222222222222,
              "#7201a8"
             ],
             [
              0.3333333333333333,
              "#9c179e"
             ],
             [
              0.4444444444444444,
              "#bd3786"
             ],
             [
              0.5555555555555556,
              "#d8576b"
             ],
             [
              0.6666666666666666,
              "#ed7953"
             ],
             [
              0.7777777777777778,
              "#fb9f3a"
             ],
             [
              0.8888888888888888,
              "#fdca26"
             ],
             [
              1,
              "#f0f921"
             ]
            ],
            "type": "heatmap"
           }
          ],
          "heatmapgl": [
           {
            "colorbar": {
             "outlinewidth": 0,
             "ticks": ""
            },
            "colorscale": [
             [
              0,
              "#0d0887"
             ],
             [
              0.1111111111111111,
              "#46039f"
             ],
             [
              0.2222222222222222,
              "#7201a8"
             ],
             [
              0.3333333333333333,
              "#9c179e"
             ],
             [
              0.4444444444444444,
              "#bd3786"
             ],
             [
              0.5555555555555556,
              "#d8576b"
             ],
             [
              0.6666666666666666,
              "#ed7953"
             ],
             [
              0.7777777777777778,
              "#fb9f3a"
             ],
             [
              0.8888888888888888,
              "#fdca26"
             ],
             [
              1,
              "#f0f921"
             ]
            ],
            "type": "heatmapgl"
           }
          ],
          "histogram": [
           {
            "marker": {
             "colorbar": {
              "outlinewidth": 0,
              "ticks": ""
             }
            },
            "type": "histogram"
           }
          ],
          "histogram2d": [
           {
            "colorbar": {
             "outlinewidth": 0,
             "ticks": ""
            },
            "colorscale": [
             [
              0,
              "#0d0887"
             ],
             [
              0.1111111111111111,
              "#46039f"
             ],
             [
              0.2222222222222222,
              "#7201a8"
             ],
             [
              0.3333333333333333,
              "#9c179e"
             ],
             [
              0.4444444444444444,
              "#bd3786"
             ],
             [
              0.5555555555555556,
              "#d8576b"
             ],
             [
              0.6666666666666666,
              "#ed7953"
             ],
             [
              0.7777777777777778,
              "#fb9f3a"
             ],
             [
              0.8888888888888888,
              "#fdca26"
             ],
             [
              1,
              "#f0f921"
             ]
            ],
            "type": "histogram2d"
           }
          ],
          "histogram2dcontour": [
           {
            "colorbar": {
             "outlinewidth": 0,
             "ticks": ""
            },
            "colorscale": [
             [
              0,
              "#0d0887"
             ],
             [
              0.1111111111111111,
              "#46039f"
             ],
             [
              0.2222222222222222,
              "#7201a8"
             ],
             [
              0.3333333333333333,
              "#9c179e"
             ],
             [
              0.4444444444444444,
              "#bd3786"
             ],
             [
              0.5555555555555556,
              "#d8576b"
             ],
             [
              0.6666666666666666,
              "#ed7953"
             ],
             [
              0.7777777777777778,
              "#fb9f3a"
             ],
             [
              0.8888888888888888,
              "#fdca26"
             ],
             [
              1,
              "#f0f921"
             ]
            ],
            "type": "histogram2dcontour"
           }
          ],
          "mesh3d": [
           {
            "colorbar": {
             "outlinewidth": 0,
             "ticks": ""
            },
            "type": "mesh3d"
           }
          ],
          "parcoords": [
           {
            "line": {
             "colorbar": {
              "outlinewidth": 0,
              "ticks": ""
             }
            },
            "type": "parcoords"
           }
          ],
          "pie": [
           {
            "automargin": true,
            "type": "pie"
           }
          ],
          "scatter": [
           {
            "marker": {
             "colorbar": {
              "outlinewidth": 0,
              "ticks": ""
             }
            },
            "type": "scatter"
           }
          ],
          "scatter3d": [
           {
            "line": {
             "colorbar": {
              "outlinewidth": 0,
              "ticks": ""
             }
            },
            "marker": {
             "colorbar": {
              "outlinewidth": 0,
              "ticks": ""
             }
            },
            "type": "scatter3d"
           }
          ],
          "scattercarpet": [
           {
            "marker": {
             "colorbar": {
              "outlinewidth": 0,
              "ticks": ""
             }
            },
            "type": "scattercarpet"
           }
          ],
          "scattergeo": [
           {
            "marker": {
             "colorbar": {
              "outlinewidth": 0,
              "ticks": ""
             }
            },
            "type": "scattergeo"
           }
          ],
          "scattergl": [
           {
            "marker": {
             "colorbar": {
              "outlinewidth": 0,
              "ticks": ""
             }
            },
            "type": "scattergl"
           }
          ],
          "scattermapbox": [
           {
            "marker": {
             "colorbar": {
              "outlinewidth": 0,
              "ticks": ""
             }
            },
            "type": "scattermapbox"
           }
          ],
          "scatterpolar": [
           {
            "marker": {
             "colorbar": {
              "outlinewidth": 0,
              "ticks": ""
             }
            },
            "type": "scatterpolar"
           }
          ],
          "scatterpolargl": [
           {
            "marker": {
             "colorbar": {
              "outlinewidth": 0,
              "ticks": ""
             }
            },
            "type": "scatterpolargl"
           }
          ],
          "scatterternary": [
           {
            "marker": {
             "colorbar": {
              "outlinewidth": 0,
              "ticks": ""
             }
            },
            "type": "scatterternary"
           }
          ],
          "surface": [
           {
            "colorbar": {
             "outlinewidth": 0,
             "ticks": ""
            },
            "colorscale": [
             [
              0,
              "#0d0887"
             ],
             [
              0.1111111111111111,
              "#46039f"
             ],
             [
              0.2222222222222222,
              "#7201a8"
             ],
             [
              0.3333333333333333,
              "#9c179e"
             ],
             [
              0.4444444444444444,
              "#bd3786"
             ],
             [
              0.5555555555555556,
              "#d8576b"
             ],
             [
              0.6666666666666666,
              "#ed7953"
             ],
             [
              0.7777777777777778,
              "#fb9f3a"
             ],
             [
              0.8888888888888888,
              "#fdca26"
             ],
             [
              1,
              "#f0f921"
             ]
            ],
            "type": "surface"
           }
          ],
          "table": [
           {
            "cells": {
             "fill": {
              "color": "#EBF0F8"
             },
             "line": {
              "color": "white"
             }
            },
            "header": {
             "fill": {
              "color": "#C8D4E3"
             },
             "line": {
              "color": "white"
             }
            },
            "type": "table"
           }
          ]
         },
         "layout": {
          "annotationdefaults": {
           "arrowcolor": "#2a3f5f",
           "arrowhead": 0,
           "arrowwidth": 1
          },
          "autotypenumbers": "strict",
          "coloraxis": {
           "colorbar": {
            "outlinewidth": 0,
            "ticks": ""
           }
          },
          "colorscale": {
           "diverging": [
            [
             0,
             "#8e0152"
            ],
            [
             0.1,
             "#c51b7d"
            ],
            [
             0.2,
             "#de77ae"
            ],
            [
             0.3,
             "#f1b6da"
            ],
            [
             0.4,
             "#fde0ef"
            ],
            [
             0.5,
             "#f7f7f7"
            ],
            [
             0.6,
             "#e6f5d0"
            ],
            [
             0.7,
             "#b8e186"
            ],
            [
             0.8,
             "#7fbc41"
            ],
            [
             0.9,
             "#4d9221"
            ],
            [
             1,
             "#276419"
            ]
           ],
           "sequential": [
            [
             0,
             "#0d0887"
            ],
            [
             0.1111111111111111,
             "#46039f"
            ],
            [
             0.2222222222222222,
             "#7201a8"
            ],
            [
             0.3333333333333333,
             "#9c179e"
            ],
            [
             0.4444444444444444,
             "#bd3786"
            ],
            [
             0.5555555555555556,
             "#d8576b"
            ],
            [
             0.6666666666666666,
             "#ed7953"
            ],
            [
             0.7777777777777778,
             "#fb9f3a"
            ],
            [
             0.8888888888888888,
             "#fdca26"
            ],
            [
             1,
             "#f0f921"
            ]
           ],
           "sequentialminus": [
            [
             0,
             "#0d0887"
            ],
            [
             0.1111111111111111,
             "#46039f"
            ],
            [
             0.2222222222222222,
             "#7201a8"
            ],
            [
             0.3333333333333333,
             "#9c179e"
            ],
            [
             0.4444444444444444,
             "#bd3786"
            ],
            [
             0.5555555555555556,
             "#d8576b"
            ],
            [
             0.6666666666666666,
             "#ed7953"
            ],
            [
             0.7777777777777778,
             "#fb9f3a"
            ],
            [
             0.8888888888888888,
             "#fdca26"
            ],
            [
             1,
             "#f0f921"
            ]
           ]
          },
          "colorway": [
           "#636efa",
           "#EF553B",
           "#00cc96",
           "#ab63fa",
           "#FFA15A",
           "#19d3f3",
           "#FF6692",
           "#B6E880",
           "#FF97FF",
           "#FECB52"
          ],
          "font": {
           "color": "#2a3f5f"
          },
          "geo": {
           "bgcolor": "white",
           "lakecolor": "white",
           "landcolor": "#E5ECF6",
           "showlakes": true,
           "showland": true,
           "subunitcolor": "white"
          },
          "hoverlabel": {
           "align": "left"
          },
          "hovermode": "closest",
          "mapbox": {
           "style": "light"
          },
          "paper_bgcolor": "white",
          "plot_bgcolor": "#E5ECF6",
          "polar": {
           "angularaxis": {
            "gridcolor": "white",
            "linecolor": "white",
            "ticks": ""
           },
           "bgcolor": "#E5ECF6",
           "radialaxis": {
            "gridcolor": "white",
            "linecolor": "white",
            "ticks": ""
           }
          },
          "scene": {
           "xaxis": {
            "backgroundcolor": "#E5ECF6",
            "gridcolor": "white",
            "gridwidth": 2,
            "linecolor": "white",
            "showbackground": true,
            "ticks": "",
            "zerolinecolor": "white"
           },
           "yaxis": {
            "backgroundcolor": "#E5ECF6",
            "gridcolor": "white",
            "gridwidth": 2,
            "linecolor": "white",
            "showbackground": true,
            "ticks": "",
            "zerolinecolor": "white"
           },
           "zaxis": {
            "backgroundcolor": "#E5ECF6",
            "gridcolor": "white",
            "gridwidth": 2,
            "linecolor": "white",
            "showbackground": true,
            "ticks": "",
            "zerolinecolor": "white"
           }
          },
          "shapedefaults": {
           "line": {
            "color": "#2a3f5f"
           }
          },
          "ternary": {
           "aaxis": {
            "gridcolor": "white",
            "linecolor": "white",
            "ticks": ""
           },
           "baxis": {
            "gridcolor": "white",
            "linecolor": "white",
            "ticks": ""
           },
           "bgcolor": "#E5ECF6",
           "caxis": {
            "gridcolor": "white",
            "linecolor": "white",
            "ticks": ""
           }
          },
          "title": {
           "x": 0.05
          },
          "xaxis": {
           "automargin": true,
           "gridcolor": "white",
           "linecolor": "white",
           "ticks": "",
           "title": {
            "standoff": 15
           },
           "zerolinecolor": "white",
           "zerolinewidth": 2
          },
          "yaxis": {
           "automargin": true,
           "gridcolor": "white",
           "linecolor": "white",
           "ticks": "",
           "title": {
            "standoff": 15
           },
           "zerolinecolor": "white",
           "zerolinewidth": 2
          }
         }
        }
       }
      },
      "text/html": [
       "<div>                            <div id=\"e21b3396-7b6b-4092-97c8-c2fdce72ea04\" class=\"plotly-graph-div\" style=\"height:525px; width:100%;\"></div>            <script type=\"text/javascript\">                require([\"plotly\"], function(Plotly) {                    window.PLOTLYENV=window.PLOTLYENV || {};                                    if (document.getElementById(\"e21b3396-7b6b-4092-97c8-c2fdce72ea04\")) {                    Plotly.newPlot(                        \"e21b3396-7b6b-4092-97c8-c2fdce72ea04\",                        [{\"branchvalues\": \"total\", \"customdata\": [[\"Companion\"], [\"Actor\"], [\"(?)\"], [\"Photographer\"], [\"(?)\"], [\"Diplomat\"], [\"Mafioso\"], [\"Presenter\"], [\"Computer Scientist\"], [\"Pirate\"], [\"Explorer\"], [\"Military Personnel\"], [\"Archaeologist\"], [\"Baseball Player\"], [\"Celebrity\"], [\"Artist\"], [\"Extremist\"], [\"Soccer Player\"], [\"Journalist\"], [\"Statistician\"], [\"Film Director\"], [\"Skier\"], [\"Public Worker\"], [\"Comic Artist\"], [\"Judge\"], [\"Pilot\"], [\"Athlete\"], [\"Physicist\"], [\"Diplomat\"], [\"Fashion Designer\"], [\"Designer\"], [\"Fashion Designer\"], [\"Pilot\"], [\"Hockey Player\"], [\"Pilot\"], [\"Comedian\"], [\"Skater\"], [\"Conductor\"], [\"Boxer\"], [\"Critic\"], [\"Model\"], [\"Inventor\"], [\"Photographer\"], [\"Astronaut\"], [\"Historian\"], [\"Nobleman\"], [\"Mathematician\"], [\"Writer\"], [\"Cricketer\"], [\"Sociologist\"], [\"Painter\"], [\"Basketball Player\"], [\"Businessperson\"], [\"Psychologist\"], [\"(?)\"], [\"Swimmer\"], [\"Dancer\"], [\"Artist\"], [\"Painter\"], [\"(?)\"], [\"Astronomer\"], [\"Pornographic Actor\"], [\"Skier\"], [\"(?)\"], [\"Social Activist\"], [\"Snooker\"], [\"Physicist\"], [\"Anthropologist\"], [\"Racecar Driver\"], [\"Referee\"], [\"Tennis Player\"], [\"Journalist\"], [\"Religious Figure\"], [\"Model\"], [\"Businessperson\"], [\"(?)\"], [\"Physician\"], [\"Dancer\"], [\"Social Activist\"], [\"Presenter\"], [\"Skier\"], [\"Singer\"], [\"Martial Arts\"], [\"Gymnast\"], [\"American Football Player\"], [\"Nobleman\"], [\"Painter\"], [\"Designer\"], [\"Fashion Designer\"], [\"(?)\"], [\"(?)\"], [\"Engineer\"], [\"Film Director\"], [\"(?)\"], [\"Sculptor\"], [\"Golfer\"], [\"Wrestler\"], [\"Tennis Player\"], [\"Snooker\"], [\"Composer\"], [\"Religious Figure\"], [\"Referee\"], [\"Physicist\"], [\"Musician\"], [\"Mountaineer\"], [\"Military Personnel\"], [\"Mathematician\"], [\"Actor\"], [\"Anthropologist\"], [\"Physician\"], [\"Nobleman\"], [\"Writer\"], [\"Judge\"], [\"American Football Player\"], [\"Golfer\"], [\"Cyclist\"], [\"Chessmaster\"], [\"Sculptor\"], [\"Biologist\"], [\"Chemist\"], [\"Anthropologist\"], [\"Architect\"], [\"Astronomer\"], [\"Inventor\"], [\"Baseball Player\"], [\"Lawyer\"], [\"Singer\"], [\"Military Personnel\"], [\"Skater\"], [\"Engineer\"], [\"Extremist\"], [\"Politician\"], [\"Inventor\"], [\"Tennis Player\"], [\"Astronaut\"], [\"Game Designer\"], [\"Geographer\"], [\"Geologist\"], [\"Magician\"], [\"Actor\"], [\"Martial Arts\"], [\"Archaeologist\"], [\"Economist\"], [\"Magician\"], [\"Photographer\"], [\"Religious Figure\"], [\"Religious Figure\"], [\"Athlete\"], [\"Lawyer\"], [\"Historian\"], [\"(?)\"], [\"(?)\"], [\"Chessmaster\"], [\"(?)\"], [\"Companion\"], [\"Computer Scientist\"], [\"Diplomat\"], [\"Economist\"], [\"Statistician\"], [\"Sociologist\"], [\"Soccer Player\"], [\"Lawyer\"], [\"Biologist\"], [\"Political Scientist\"], [\"Politician\"], [\"Philosopher\"], [\"Boxer\"], [\"(?)\"], [\"Computer Scientist\"], [\"Dancer\"], [\"Swimmer\"], [\"Economist\"], [\"Cricketer\"], [\"Architect\"], [\"Astronaut\"], [\"Explorer\"], [\"Soccer Player\"], [\"Film Director\"], [\"Comedian\"], [\"Game Designer\"], [\"Geographer\"], [\"Singer\"], [\"Biologist\"], [\"Gymnast\"], [\"Geologist\"], [\"Producer\"], [\"Linguist\"], [\"Psychologist\"], [\"Judge\"], [\"Coach\"], [\"Writer\"], [\"Chemist\"], [\"Politician\"], [\"Pirate\"], [\"Dancer\"], [\"Skater\"], [\"Chef\"], [\"Celebrity\"], [\"Chemist\"], [\"Wrestler\"], [\"Mathematician\"], [\"Musician\"], [\"Producer\"], [\"Archaeologist\"], [\"Philosopher\"], [\"Mafioso\"], [\"(?)\"], [\"Architect\"], [\"Comic Artist\"], [\"Chessmaster\"], [\"Historian\"], [\"Social Activist\"], [\"Critic\"], [\"Cyclist\"], [\"Conductor\"], [\"Racecar Driver\"], [\"Physician\"], [\"Chef\"], [\"Sculptor\"], [\"Musician\"], [\"Coach\"], [\"Comic Artist\"], [\"Artist\"], [\"Hockey Player\"], [\"Extremist\"], [\"(?)\"], [\"Racecar Driver\"], [\"Basketball Player\"], [\"Engineer\"], [\"Philosopher\"], [\"Chef\"], [\"Athlete\"], [\"Mountaineer\"], [\"Companion\"], [\"Astronomer\"], [\"Political Scientist\"], [\"Computer Scientist\"], [\"Presenter\"], [\"Physician\"], [\"Philosopher\"], [\"Engineer\"], [\"Composer\"], [\"Wrestler\"], [\"Companion\"], [\"Linguist\"], [\"Social Activist\"], [\"Lawyer\"], [\"Basketball Player\"], [\"Swimmer\"], [\"Gymnast\"], [\"Journalist\"], [\"(?)\"], [\"Public Worker\"], [\"Pornographic Actor\"], [\"Businessperson\"], [\"Celebrity\"], [\"Psychologist\"]], \"domain\": {\"x\": [0.0, 1.0], \"y\": [0.0, 1.0]}, \"hovertemplate\": \"labels=%{label}<br>historical_popularity_index=%{value}<br>parent=%{parent}<br>id=%{id}<br>occupation=%{customdata[0]}<extra></extra>\", \"ids\": [\"Companions\", \"Film And Theatre/Actor\", \"Individual Sports\", \"Fine Arts/Photographer/Male\", \"Music\", \"Government/Diplomat\", \"Outlaws/Mafioso\", \"Media Personality/Presenter\", \"Computer Science/Computer Scientist/Male\", \"Outlaws/Pirate\", \"Explorers/Explorer\", \"Military/Military Personnel/Female\", \"Natural Sciences/Archaeologist\", \"Team Sports/Baseball Player\", \"Media Personality/Celebrity/Male\", \"Fine Arts/Artist\", \"Outlaws/Extremist/Male\", \"Team Sports/Soccer Player/Female\", \"Language/Journalist/Female\", \"Math/Statistician/Male\", \"Film And Theatre/Film Director/Female\", \"Individual Sports/Skier/Male\", \"Government/Public Worker\", \"Design/Comic Artist/Female\", \"Government/Judge\", \"Military/Pilot/Male\", \"Individual Sports/Athlete\", \"Natural Sciences/Physicist/Female\", \"Government/Diplomat/Male\", \"Design/Fashion Designer/Female\", \"Design/Designer/Male\", \"Design/Fashion Designer/Male\", \"Military/Pilot\", \"Team Sports/Hockey Player\", \"Military/Pilot/Female\", \"Film And Theatre/Comedian\", \"Individual Sports/Skater/Male\", \"Music/Conductor\", \"Individual Sports/Boxer\", \"Language/Critic\", \"Media Personality/Model/Female\", \"Invention\", \"Fine Arts/Photographer\", \"Explorers/Astronaut/Female\", \"History/Historian/Male\", \"Government/Nobleman\", \"Math/Mathematician\", \"Language/Writer\", \"Team Sports/Cricketer\", \"Social Sciences/Sociologist/Male\", \"Fine Arts/Painter/Female\", \"Team Sports/Basketball Player/Male\", \"Business/Businessperson/Female\", \"Social Sciences/Psychologist/Female\", \"Outlaws\", \"Individual Sports/Swimmer/Female\", \"Dance\", \"Fine Arts/Artist/Female\", \"Fine Arts/Painter\", \"Military\", \"Natural Sciences/Astronomer\", \"Media Personality/Pornographic Actor\", \"Individual Sports/Skier\", \"Film And Theatre\", \"Activism/Social Activist/Male\", \"Individual Sports/Snooker/Male\", \"Natural Sciences/Physicist/Male\", \"Social Sciences/Anthropologist\", \"Individual Sports/Racecar Driver/Male\", \"Team Sports/Referee/Male\", \"Individual Sports/Tennis Player/Male\", \"Language/Journalist/Male\", \"Religion/Religious Figure/Male\", \"Media Personality/Model\", \"Business/Businessperson/Male\", \"Natural Sciences\", \"Medicine\", \"Dance/Dancer/Female\", \"Activism\", \"Media Personality/Presenter/Female\", \"Individual Sports/Skier/Female\", \"Music/Singer\", \"Individual Sports/Martial Arts\", \"Individual Sports/Gymnast\", \"Team Sports/American Football Player\", \"Government/Nobleman/Male\", \"Fine Arts/Painter/Male\", \"Design/Designer\", \"Design/Fashion Designer\", \"Math\", \"Government\", \"Engineering\", \"Film And Theatre/Film Director\", \"Business\", \"Fine Arts/Sculptor/Male\", \"Individual Sports/Golfer\", \"Individual Sports/Wrestler\", \"Individual Sports/Tennis Player\", \"Individual Sports/Snooker\", \"Music/Composer\", \"Religion/Religious Figure\", \"Team Sports/Referee\", \"Natural Sciences/Physicist\", \"Music/Musician\", \"Individual Sports/Mountaineer\", \"Military/Military Personnel/Male\", \"Math/Mathematician/Male\", \"Film And Theatre/Actor/Female\", \"Social Sciences/Anthropologist/Male\", \"Medicine/Physician/Female\", \"Government/Nobleman/Female\", \"Language/Writer/Female\", \"Government/Judge/Female\", \"Team Sports/American Football Player/Male\", \"Individual Sports/Golfer/Male\", \"Individual Sports/Cyclist/Male\", \"Individual Sports/Chessmaster/Male\", \"Fine Arts/Sculptor/Female\", \"Natural Sciences/Biologist/Female\", \"Natural Sciences/Chemist/Male\", \"Social Sciences/Anthropologist/Female\", \"Design/Architect/Female\", \"Natural Sciences/Astronomer/Female\", \"Invention/Inventor/Male\", \"Team Sports/Baseball Player/Male\", \"Law/Lawyer/Male\", \"Music/Singer/Female\", \"Military/Military Personnel\", \"Individual Sports/Skater\", \"Engineering/Engineer/Female\", \"Outlaws/Extremist/Female\", \"Government/Politician\", \"Invention/Inventor\", \"Individual Sports/Tennis Player/Female\", \"Explorers/Astronaut/Male\", \"Design/Game Designer\", \"Social Sciences/Geographer\", \"Natural Sciences/Geologist\", \"Media Personality/Magician\", \"Film And Theatre/Actor/Male\", \"Individual Sports/Martial Arts/Male\", \"Natural Sciences/Archaeologist/Male\", \"Social Sciences/Economist\", \"Media Personality/Magician/Male\", \"Fine Arts/Photographer/Female\", \"Religion/Religious Figure/Female\", \"Religion\", \"Individual Sports/Athlete/Female\", \"Law\", \"History\", \"Fine Arts\", \"Explorers\", \"Individual Sports/Chessmaster/Female\", \"Design\", \"Companions/Companion/Female\", \"Computer Science\", \"Government/Diplomat/Female\", \"Social Sciences/Economist/Female\", \"Math/Statistician\", \"Social Sciences/Sociologist\", \"Team Sports/Soccer Player\", \"Law/Lawyer/Female\", \"Natural Sciences/Biologist/Male\", \"Social Sciences/Political Scientist\", \"Government/Politician/Female\", \"Philosophy/Philosopher\", \"Individual Sports/Boxer/Male\", \"Team Sports\", \"Computer Science/Computer Scientist\", \"Dance/Dancer/Male\", \"Individual Sports/Swimmer/Male\", \"Social Sciences/Economist/Male\", \"Team Sports/Cricketer/Male\", \"Design/Architect\", \"Explorers/Astronaut\", \"Explorers/Explorer/Male\", \"Team Sports/Soccer Player/Male\", \"Film And Theatre/Film Director/Male\", \"Film And Theatre/Comedian/Male\", \"Design/Game Designer/Male\", \"Social Sciences/Geographer/Male\", \"Music/Singer/Male\", \"Natural Sciences/Biologist\", \"Individual Sports/Gymnast/Male\", \"Natural Sciences/Geologist/Male\", \"Business/Producer/Male\", \"Language/Linguist/Male\", \"Social Sciences/Psychologist/Male\", \"Government/Judge/Male\", \"Team Sports/Coach\", \"Language/Writer/Male\", \"Natural Sciences/Chemist\", \"Government/Politician/Male\", \"Outlaws/Pirate/Male\", \"Dance/Dancer\", \"Individual Sports/Skater/Female\", \"Media Personality/Chef/Female\", \"Media Personality/Celebrity/Female\", \"Natural Sciences/Chemist/Female\", \"Individual Sports/Wrestler/Male\", \"Math/Mathematician/Female\", \"Music/Musician/Female\", \"Business/Producer\", \"Natural Sciences/Archaeologist/Female\", \"Philosophy\", \"Outlaws/Mafioso/Male\", \"Media Personality\", \"Design/Architect/Male\", \"Design/Comic Artist/Male\", \"Individual Sports/Chessmaster\", \"History/Historian\", \"Activism/Social Activist/Female\", \"Language/Critic/Male\", \"Individual Sports/Cyclist\", \"Music/Conductor/Male\", \"Individual Sports/Racecar Driver\", \"Medicine/Physician/Male\", \"Media Personality/Chef/Male\", \"Fine Arts/Sculptor\", \"Music/Musician/Male\", \"Team Sports/Coach/Male\", \"Design/Comic Artist\", \"Fine Arts/Artist/Male\", \"Team Sports/Hockey Player/Male\", \"Outlaws/Extremist\", \"Language\", \"Individual Sports/Racecar Driver/Female\", \"Team Sports/Basketball Player/Female\", \"Engineering/Engineer\", \"Philosophy/Philosopher/Male\", \"Media Personality/Chef\", \"Individual Sports/Athlete/Male\", \"Individual Sports/Mountaineer/Male\", \"Companions/Companion\", \"Natural Sciences/Astronomer/Male\", \"Social Sciences/Political Scientist/Male\", \"Computer Science/Computer Scientist/Female\", \"Media Personality/Presenter/Male\", \"Medicine/Physician\", \"Philosophy/Philosopher/Female\", \"Engineering/Engineer/Male\", \"Music/Composer/Male\", \"Individual Sports/Wrestler/Female\", \"Companions/Companion/Male\", \"Language/Linguist\", \"Activism/Social Activist\", \"Law/Lawyer\", \"Team Sports/Basketball Player\", \"Individual Sports/Swimmer\", \"Individual Sports/Gymnast/Female\", \"Language/Journalist\", \"Social Sciences\", \"Government/Public Worker/Male\", \"Media Personality/Pornographic Actor/Female\", \"Business/Businessperson\", \"Media Personality/Celebrity\", \"Social Sciences/Psychologist\"], \"labels\": [\"Companions\", \"Actor\", \"Individual Sports\", \"Male\", \"Music\", \"Diplomat\", \"Mafioso\", \"Presenter\", \"Male\", \"Pirate\", \"Explorer\", \"Female\", \"Archaeologist\", \"Baseball Player\", \"Male\", \"Artist\", \"Male\", \"Female\", \"Female\", \"Male\", \"Female\", \"Male\", \"Public Worker\", \"Female\", \"Judge\", \"Male\", \"Athlete\", \"Female\", \"Male\", \"Female\", \"Male\", \"Male\", \"Pilot\", \"Hockey Player\", \"Female\", \"Comedian\", \"Male\", \"Conductor\", \"Boxer\", \"Critic\", \"Female\", \"Invention\", \"Photographer\", \"Female\", \"Male\", \"Nobleman\", \"Mathematician\", \"Writer\", \"Cricketer\", \"Male\", \"Female\", \"Male\", \"Female\", \"Female\", \"Outlaws\", \"Female\", \"Dance\", \"Female\", \"Painter\", \"Military\", \"Astronomer\", \"Pornographic Actor\", \"Skier\", \"Film And Theatre\", \"Male\", \"Male\", \"Male\", \"Anthropologist\", \"Male\", \"Male\", \"Male\", \"Male\", \"Male\", \"Model\", \"Male\", \"Natural Sciences\", \"Medicine\", \"Female\", \"Activism\", \"Female\", \"Female\", \"Singer\", \"Martial Arts\", \"Gymnast\", \"American Football Player\", \"Male\", \"Male\", \"Designer\", \"Fashion Designer\", \"Math\", \"Government\", \"Engineering\", \"Film Director\", \"Business\", \"Male\", \"Golfer\", \"Wrestler\", \"Tennis Player\", \"Snooker\", \"Composer\", \"Religious Figure\", \"Referee\", \"Physicist\", \"Musician\", \"Mountaineer\", \"Male\", \"Male\", \"Female\", \"Male\", \"Female\", \"Female\", \"Female\", \"Female\", \"Male\", \"Male\", \"Male\", \"Male\", \"Female\", \"Female\", \"Male\", \"Female\", \"Female\", \"Female\", \"Male\", \"Male\", \"Male\", \"Female\", \"Military Personnel\", \"Skater\", \"Female\", \"Female\", \"Politician\", \"Inventor\", \"Female\", \"Male\", \"Game Designer\", \"Geographer\", \"Geologist\", \"Magician\", \"Male\", \"Male\", \"Male\", \"Economist\", \"Male\", \"Female\", \"Female\", \"Religion\", \"Female\", \"Law\", \"History\", \"Fine Arts\", \"Explorers\", \"Female\", \"Design\", \"Female\", \"Computer Science\", \"Female\", \"Female\", \"Statistician\", \"Sociologist\", \"Soccer Player\", \"Female\", \"Male\", \"Political Scientist\", \"Female\", \"Philosopher\", \"Male\", \"Team Sports\", \"Computer Scientist\", \"Male\", \"Male\", \"Male\", \"Male\", \"Architect\", \"Astronaut\", \"Male\", \"Male\", \"Male\", \"Male\", \"Male\", \"Male\", \"Male\", \"Biologist\", \"Male\", \"Male\", \"Male\", \"Male\", \"Male\", \"Male\", \"Coach\", \"Male\", \"Chemist\", \"Male\", \"Male\", \"Dancer\", \"Female\", \"Female\", \"Female\", \"Female\", \"Male\", \"Female\", \"Female\", \"Producer\", \"Female\", \"Philosophy\", \"Male\", \"Media Personality\", \"Male\", \"Male\", \"Chessmaster\", \"Historian\", \"Female\", \"Male\", \"Cyclist\", \"Male\", \"Racecar Driver\", \"Male\", \"Male\", \"Sculptor\", \"Male\", \"Male\", \"Comic Artist\", \"Male\", \"Male\", \"Extremist\", \"Language\", \"Female\", \"Female\", \"Engineer\", \"Male\", \"Chef\", \"Male\", \"Male\", \"Companion\", \"Male\", \"Male\", \"Female\", \"Male\", \"Physician\", \"Female\", \"Male\", \"Male\", \"Female\", \"Male\", \"Linguist\", \"Social Activist\", \"Lawyer\", \"Basketball Player\", \"Swimmer\", \"Female\", \"Journalist\", \"Social Sciences\", \"Male\", \"Female\", \"Businessperson\", \"Celebrity\", \"Psychologist\"], \"marker\": {\"colors\": [\"#636efa\", \"#EF553B\", \"#00cc96\", \"#ab63fa\", \"#00cc96\", \"#FFA15A\", \"#19d3f3\", \"#FF6692\", \"#B6E880\", \"#FF97FF\", \"#FECB52\", \"#636efa\", \"#EF553B\", \"#00cc96\", \"#ab63fa\", \"#FFA15A\", \"#19d3f3\", \"#FF6692\", \"#B6E880\", \"#FF97FF\", \"#FECB52\", \"#636efa\", \"#EF553B\", \"#00cc96\", \"#ab63fa\", \"#FFA15A\", \"#19d3f3\", \"#FF6692\", \"#FFA15A\", \"#B6E880\", \"#FF97FF\", \"#B6E880\", \"#FFA15A\", \"#FECB52\", \"#FFA15A\", \"#636efa\", \"#EF553B\", \"#00cc96\", \"#ab63fa\", \"#FFA15A\", \"#19d3f3\", \"#FF6692\", \"#ab63fa\", \"#B6E880\", \"#FF97FF\", \"#FECB52\", \"#636efa\", \"#EF553B\", \"#00cc96\", \"#ab63fa\", \"#FFA15A\", \"#19d3f3\", \"#FF6692\", \"#B6E880\", \"#00cc96\", \"#FF97FF\", \"#FECB52\", \"#FFA15A\", \"#FFA15A\", \"#00cc96\", \"#636efa\", \"#EF553B\", \"#636efa\", \"#00cc96\", \"#00cc96\", \"#ab63fa\", \"#FF6692\", \"#FFA15A\", \"#19d3f3\", \"#FF6692\", \"#B6E880\", \"#B6E880\", \"#FF97FF\", \"#19d3f3\", \"#FF6692\", \"#00cc96\", \"#FECB52\", \"#FECB52\", \"#00cc96\", \"#FF6692\", \"#636efa\", \"#636efa\", \"#EF553B\", \"#00cc96\", \"#ab63fa\", \"#FECB52\", \"#FFA15A\", \"#FF97FF\", \"#B6E880\", \"#00cc96\", \"#00cc96\", \"#FFA15A\", \"#FECB52\", \"#00cc96\", \"#19d3f3\", \"#FF6692\", \"#B6E880\", \"#B6E880\", \"#ab63fa\", \"#FF97FF\", \"#FF97FF\", \"#FF6692\", \"#FF6692\", \"#FECB52\", \"#636efa\", \"#636efa\", \"#636efa\", \"#EF553B\", \"#FFA15A\", \"#FECB52\", \"#FECB52\", \"#EF553B\", \"#ab63fa\", \"#ab63fa\", \"#FF6692\", \"#EF553B\", \"#00cc96\", \"#19d3f3\", \"#ab63fa\", \"#FFA15A\", \"#FFA15A\", \"#19d3f3\", \"#636efa\", \"#FF6692\", \"#00cc96\", \"#FF6692\", \"#636efa\", \"#636efa\", \"#EF553B\", \"#FFA15A\", \"#19d3f3\", \"#B6E880\", \"#FF6692\", \"#B6E880\", \"#B6E880\", \"#FF97FF\", \"#FECB52\", \"#636efa\", \"#EF553B\", \"#EF553B\", \"#EF553B\", \"#EF553B\", \"#00cc96\", \"#EF553B\", \"#ab63fa\", \"#FF97FF\", \"#FF97FF\", \"#19d3f3\", \"#FF6692\", \"#FF97FF\", \"#00cc96\", \"#00cc96\", \"#00cc96\", \"#00cc96\", \"#636efa\", \"#B6E880\", \"#FFA15A\", \"#00cc96\", \"#FF97FF\", \"#ab63fa\", \"#FF6692\", \"#FF6692\", \"#ab63fa\", \"#ab63fa\", \"#B6E880\", \"#FFA15A\", \"#ab63fa\", \"#00cc96\", \"#B6E880\", \"#FECB52\", \"#FF97FF\", \"#00cc96\", \"#00cc96\", \"#19d3f3\", \"#B6E880\", \"#FECB52\", \"#FF6692\", \"#FECB52\", \"#636efa\", \"#FF97FF\", \"#FECB52\", \"#636efa\", \"#ab63fa\", \"#00cc96\", \"#636efa\", \"#19d3f3\", \"#FF6692\", \"#B6E880\", \"#ab63fa\", \"#B6E880\", \"#EF553B\", \"#FFA15A\", \"#B6E880\", \"#FF97FF\", \"#FECB52\", \"#EF553B\", \"#FF97FF\", \"#ab63fa\", \"#FFA15A\", \"#B6E880\", \"#636efa\", \"#FECB52\", \"#19d3f3\", \"#EF553B\", \"#FFA15A\", \"#19d3f3\", \"#00cc96\", \"#19d3f3\", \"#00cc96\", \"#00cc96\", \"#FF97FF\", \"#00cc96\", \"#FFA15A\", \"#EF553B\", \"#00cc96\", \"#19d3f3\", \"#FECB52\", \"#FF97FF\", \"#19d3f3\", \"#FECB52\", \"#B6E880\", \"#00cc96\", \"#FFA15A\", \"#FECB52\", \"#19d3f3\", \"#00cc96\", \"#19d3f3\", \"#19d3f3\", \"#FFA15A\", \"#FFA15A\", \"#FF97FF\", \"#19d3f3\", \"#636efa\", \"#636efa\", \"#636efa\", \"#ab63fa\", \"#B6E880\", \"#FF6692\", \"#FECB52\", \"#FFA15A\", \"#FFA15A\", \"#FF97FF\", \"#B6E880\", \"#636efa\", \"#FF6692\", \"#00cc96\", \"#FF6692\", \"#19d3f3\", \"#FF97FF\", \"#00cc96\", \"#B6E880\", \"#00cc96\", \"#EF553B\", \"#EF553B\", \"#FF6692\", \"#ab63fa\", \"#B6E880\"]}, \"name\": \"\", \"parents\": [\"\", \"Film And Theatre\", \"\", \"Fine Arts/Photographer\", \"\", \"Government\", \"Outlaws\", \"Media Personality\", \"Computer Science/Computer Scientist\", \"Outlaws\", \"Explorers\", \"Military/Military Personnel\", \"Natural Sciences\", \"Team Sports\", \"Media Personality/Celebrity\", \"Fine Arts\", \"Outlaws/Extremist\", \"Team Sports/Soccer Player\", \"Language/Journalist\", \"Math/Statistician\", \"Film And Theatre/Film Director\", \"Individual Sports/Skier\", \"Government\", \"Design/Comic Artist\", \"Government\", \"Military/Pilot\", \"Individual Sports\", \"Natural Sciences/Physicist\", \"Government/Diplomat\", \"Design/Fashion Designer\", \"Design/Designer\", \"Design/Fashion Designer\", \"Military\", \"Team Sports\", \"Military/Pilot\", \"Film And Theatre\", \"Individual Sports/Skater\", \"Music\", \"Individual Sports\", \"Language\", \"Media Personality/Model\", \"\", \"Fine Arts\", \"Explorers/Astronaut\", \"History/Historian\", \"Government\", \"Math\", \"Language\", \"Team Sports\", \"Social Sciences/Sociologist\", \"Fine Arts/Painter\", \"Team Sports/Basketball Player\", \"Business/Businessperson\", \"Social Sciences/Psychologist\", \"\", \"Individual Sports/Swimmer\", \"\", \"Fine Arts/Artist\", \"Fine Arts\", \"\", \"Natural Sciences\", \"Media Personality\", \"Individual Sports\", \"\", \"Activism/Social Activist\", \"Individual Sports/Snooker\", \"Natural Sciences/Physicist\", \"Social Sciences\", \"Individual Sports/Racecar Driver\", \"Team Sports/Referee\", \"Individual Sports/Tennis Player\", \"Language/Journalist\", \"Religion/Religious Figure\", \"Media Personality\", \"Business/Businessperson\", \"\", \"\", \"Dance/Dancer\", \"\", \"Media Personality/Presenter\", \"Individual Sports/Skier\", \"Music\", \"Individual Sports\", \"Individual Sports\", \"Team Sports\", \"Government/Nobleman\", \"Fine Arts/Painter\", \"Design\", \"Design\", \"\", \"\", \"\", \"Film And Theatre\", \"\", \"Fine Arts/Sculptor\", \"Individual Sports\", \"Individual Sports\", \"Individual Sports\", \"Individual Sports\", \"Music\", \"Religion\", \"Team Sports\", \"Natural Sciences\", \"Music\", \"Individual Sports\", \"Military/Military Personnel\", \"Math/Mathematician\", \"Film And Theatre/Actor\", \"Social Sciences/Anthropologist\", \"Medicine/Physician\", \"Government/Nobleman\", \"Language/Writer\", \"Government/Judge\", \"Team Sports/American Football Player\", \"Individual Sports/Golfer\", \"Individual Sports/Cyclist\", \"Individual Sports/Chessmaster\", \"Fine Arts/Sculptor\", \"Natural Sciences/Biologist\", \"Natural Sciences/Chemist\", \"Social Sciences/Anthropologist\", \"Design/Architect\", \"Natural Sciences/Astronomer\", \"Invention/Inventor\", \"Team Sports/Baseball Player\", \"Law/Lawyer\", \"Music/Singer\", \"Military\", \"Individual Sports\", \"Engineering/Engineer\", \"Outlaws/Extremist\", \"Government\", \"Invention\", \"Individual Sports/Tennis Player\", \"Explorers/Astronaut\", \"Design\", \"Social Sciences\", \"Natural Sciences\", \"Media Personality\", \"Film And Theatre/Actor\", \"Individual Sports/Martial Arts\", \"Natural Sciences/Archaeologist\", \"Social Sciences\", \"Media Personality/Magician\", \"Fine Arts/Photographer\", \"Religion/Religious Figure\", \"\", \"Individual Sports/Athlete\", \"\", \"\", \"\", \"\", \"Individual Sports/Chessmaster\", \"\", \"Companions/Companion\", \"\", \"Government/Diplomat\", \"Social Sciences/Economist\", \"Math\", \"Social Sciences\", \"Team Sports\", \"Law/Lawyer\", \"Natural Sciences/Biologist\", \"Social Sciences\", \"Government/Politician\", \"Philosophy\", \"Individual Sports/Boxer\", \"\", \"Computer Science\", \"Dance/Dancer\", \"Individual Sports/Swimmer\", \"Social Sciences/Economist\", \"Team Sports/Cricketer\", \"Design\", \"Explorers\", \"Explorers/Explorer\", \"Team Sports/Soccer Player\", \"Film And Theatre/Film Director\", \"Film And Theatre/Comedian\", \"Design/Game Designer\", \"Social Sciences/Geographer\", \"Music/Singer\", \"Natural Sciences\", \"Individual Sports/Gymnast\", \"Natural Sciences/Geologist\", \"Business/Producer\", \"Language/Linguist\", \"Social Sciences/Psychologist\", \"Government/Judge\", \"Team Sports\", \"Language/Writer\", \"Natural Sciences\", \"Government/Politician\", \"Outlaws/Pirate\", \"Dance\", \"Individual Sports/Skater\", \"Media Personality/Chef\", \"Media Personality/Celebrity\", \"Natural Sciences/Chemist\", \"Individual Sports/Wrestler\", \"Math/Mathematician\", \"Music/Musician\", \"Business\", \"Natural Sciences/Archaeologist\", \"\", \"Outlaws/Mafioso\", \"\", \"Design/Architect\", \"Design/Comic Artist\", \"Individual Sports\", \"History\", \"Activism/Social Activist\", \"Language/Critic\", \"Individual Sports\", \"Music/Conductor\", \"Individual Sports\", \"Medicine/Physician\", \"Media Personality/Chef\", \"Fine Arts\", \"Music/Musician\", \"Team Sports/Coach\", \"Design\", \"Fine Arts/Artist\", \"Team Sports/Hockey Player\", \"Outlaws\", \"\", \"Individual Sports/Racecar Driver\", \"Team Sports/Basketball Player\", \"Engineering\", \"Philosophy/Philosopher\", \"Media Personality\", \"Individual Sports/Athlete\", \"Individual Sports/Mountaineer\", \"Companions\", \"Natural Sciences/Astronomer\", \"Social Sciences/Political Scientist\", \"Computer Science/Computer Scientist\", \"Media Personality/Presenter\", \"Medicine\", \"Philosophy/Philosopher\", \"Engineering/Engineer\", \"Music/Composer\", \"Individual Sports/Wrestler\", \"Companions/Companion\", \"Language\", \"Activism\", \"Law\", \"Team Sports\", \"Individual Sports\", \"Individual Sports/Gymnast\", \"Language\", \"\", \"Government/Public Worker\", \"Media Personality/Pornographic Actor\", \"Business\", \"Media Personality\", \"Social Sciences\"], \"type\": \"treemap\", \"values\": [2408.5392999999985, 24962.882, 9418.605499999994, 243.99669999999998, 22916.891799999976, 822.924, 304.1561, 386.6173, 702.3178000000001, 222.49749999999997, 1722.2224, 29.5566, 299.76009999999997, 111.2011, 161.1738, 2121.792500000001, 717.4320999999998, 78.5503, 89.07579999999999, 94.7785, 67.0596, 206.34230000000002, 339.9467, 42.0951, 192.94050000000001, 137.08350000000002, 1247.0212000000001, 70.5145, 683.3599, 51.170199999999994, 368.75539999999995, 187.81529999999998, 205.92900000000003, 37.931200000000004, 68.8455, 85.3442, 96.6239, 258.1233, 304.98530000000005, 114.1519, 577.8923000000001, 1614.1580000000004, 266.36129999999997, 127.17139999999999, 1226.7803, 2659.0140999999994, 3778.455, 22972.661300000018, 35.0768, 371.1205, 98.5892, 1233.4720999999997, 80.16430000000001, 48.748000000000005, 1294.6694000000002, 99.2206, 282.91119999999995, 186.6945, 4439.679600000002, 5660.7845, 1935.6254000000004, 221.47410000000002, 286.58489999999995, 29093.997900000028, 1740.6762999999992, 51.1798, 6238.907500000006, 252.7586, 1965.0220000000002, 171.97340000000003, 1536.7361999999998, 323.2080000000001, 12161.053799999987, 577.8923000000001, 1678.5861, 17065.885400000003, 3293.9425000000015, 168.3571, 2587.1080000000006, 46.7705, 80.2426, 8837.068299999999, 158.4758, 127.7417, 23.2069, 1811.388, 4341.090400000002, 368.75539999999995, 238.9855, 3873.2334999999994, 63488.625400000106, 927.0172000000001, 4045.771699999998, 2024.2805999999998, 442.63889999999986, 37.117599999999996, 853.9071, 2691.5573000000004, 51.1798, 5519.7857, 12978.591599999982, 171.97340000000003, 6309.422000000005, 8301.914500000008, 115.3683, 5425.298899999999, 3609.0730999999996, 10151.068899999998, 160.5953, 91.86630000000001, 847.6260999999998, 2566.5268000000015, 17.0336, 23.2069, 37.117599999999996, 521.6954000000001, 580.7889, 67.53880000000001, 220.37339999999998, 4960.753500000002, 92.16329999999999, 23.759, 66.0252, 1614.1580000000004, 111.2011, 365.5270999999999, 4415.578699999999, 5454.855499999999, 153.2688, 18.8602, 50.5837, 59473.80010000008, 1614.1580000000004, 1154.8211, 548.4153999999999, 82.30170000000001, 349.74800000000005, 231.4279, 88.6781, 14811.813100000008, 158.4758, 277.1296, 2359.4253000000003, 88.6781, 22.3646, 817.5378, 12978.591599999982, 314.8151, 386.7709999999999, 1226.7803, 7338.011099999998, 2397.8091999999997, 16.0124, 3008.3041000000003, 2245.881399999999, 723.6592000000002, 139.5641, 44.171, 94.7785, 371.1205, 18478.515799999997, 21.2439, 2988.9251999999997, 157.9581, 3049.711300000001, 7142.719000000001, 304.98530000000005, 21680.301500000038, 723.6592000000002, 114.55409999999999, 193.8577, 2315.254300000001, 35.0768, 1779.6543999999997, 675.5867999999997, 1722.2224, 18399.965499999995, 3978.7120999999984, 85.3442, 82.30170000000001, 349.74800000000005, 4421.489599999996, 3209.298599999999, 33.199799999999996, 231.4279, 265.53020000000004, 487.9570000000001, 879.9895000000001, 175.9069, 1572.4828000000002, 20406.134500000007, 5080.351400000001, 56424.088800000114, 222.49749999999997, 282.91119999999995, 56.6449, 22.3232, 280.65549999999996, 119.59790000000001, 837.6951, 169.3819, 721.8168999999999, 265.53020000000004, 22.6305, 7142.719000000001, 304.1561, 1757.3667999999996, 1755.8953999999997, 496.512, 596.8013000000001, 1226.7803, 846.4317, 114.1519, 521.6954000000001, 258.1233, 1979.8227, 3202.0762000000013, 18.5525, 510.1776999999999, 7580.097600000003, 1572.4828000000002, 538.6071, 1935.0980000000009, 37.931200000000004, 768.0157999999999, 23987.05400000001, 14.8007, 16.4414, 927.0172000000001, 7003.755000000002, 40.875699999999995, 932.2061000000006, 115.3683, 2408.5392999999985, 1869.6002, 157.9581, 21.3414, 339.8468, 3293.9425000000015, 138.964, 908.1570000000002, 5519.7857, 16.212, 162.6579, 487.9570000000001, 2587.1080000000006, 386.7709999999999, 1249.9134999999999, 293.0782999999999, 94.5419, 412.28380000000004, 4419.748000000003, 339.9467, 221.47410000000002, 1758.7504, 441.8293, 928.7375000000001]}],                        {\"legend\": {\"tracegroupgap\": 0}, \"margin\": {\"t\": 60}, \"template\": {\"data\": {\"bar\": [{\"error_x\": {\"color\": \"#2a3f5f\"}, \"error_y\": {\"color\": \"#2a3f5f\"}, \"marker\": {\"line\": {\"color\": \"#E5ECF6\", \"width\": 0.5}}, \"type\": \"bar\"}], \"barpolar\": [{\"marker\": {\"line\": {\"color\": \"#E5ECF6\", \"width\": 0.5}}, \"type\": \"barpolar\"}], \"carpet\": [{\"aaxis\": {\"endlinecolor\": \"#2a3f5f\", \"gridcolor\": \"white\", \"linecolor\": \"white\", \"minorgridcolor\": \"white\", \"startlinecolor\": \"#2a3f5f\"}, \"baxis\": {\"endlinecolor\": \"#2a3f5f\", \"gridcolor\": \"white\", \"linecolor\": \"white\", \"minorgridcolor\": \"white\", \"startlinecolor\": \"#2a3f5f\"}, \"type\": \"carpet\"}], \"choropleth\": [{\"colorbar\": {\"outlinewidth\": 0, \"ticks\": \"\"}, \"type\": \"choropleth\"}], \"contour\": [{\"colorbar\": {\"outlinewidth\": 0, \"ticks\": \"\"}, \"colorscale\": [[0.0, \"#0d0887\"], [0.1111111111111111, \"#46039f\"], [0.2222222222222222, \"#7201a8\"], [0.3333333333333333, \"#9c179e\"], [0.4444444444444444, \"#bd3786\"], [0.5555555555555556, \"#d8576b\"], [0.6666666666666666, \"#ed7953\"], [0.7777777777777778, \"#fb9f3a\"], [0.8888888888888888, \"#fdca26\"], [1.0, \"#f0f921\"]], \"type\": \"contour\"}], \"contourcarpet\": [{\"colorbar\": {\"outlinewidth\": 0, \"ticks\": \"\"}, \"type\": \"contourcarpet\"}], \"heatmap\": [{\"colorbar\": {\"outlinewidth\": 0, \"ticks\": \"\"}, \"colorscale\": [[0.0, \"#0d0887\"], [0.1111111111111111, \"#46039f\"], [0.2222222222222222, \"#7201a8\"], [0.3333333333333333, \"#9c179e\"], [0.4444444444444444, \"#bd3786\"], [0.5555555555555556, \"#d8576b\"], [0.6666666666666666, \"#ed7953\"], [0.7777777777777778, \"#fb9f3a\"], [0.8888888888888888, \"#fdca26\"], [1.0, \"#f0f921\"]], \"type\": \"heatmap\"}], \"heatmapgl\": [{\"colorbar\": {\"outlinewidth\": 0, \"ticks\": \"\"}, \"colorscale\": [[0.0, \"#0d0887\"], [0.1111111111111111, \"#46039f\"], [0.2222222222222222, \"#7201a8\"], [0.3333333333333333, \"#9c179e\"], [0.4444444444444444, \"#bd3786\"], [0.5555555555555556, \"#d8576b\"], [0.6666666666666666, \"#ed7953\"], [0.7777777777777778, \"#fb9f3a\"], [0.8888888888888888, \"#fdca26\"], [1.0, \"#f0f921\"]], \"type\": \"heatmapgl\"}], \"histogram\": [{\"marker\": {\"colorbar\": {\"outlinewidth\": 0, \"ticks\": \"\"}}, \"type\": \"histogram\"}], \"histogram2d\": [{\"colorbar\": {\"outlinewidth\": 0, \"ticks\": \"\"}, \"colorscale\": [[0.0, \"#0d0887\"], [0.1111111111111111, \"#46039f\"], [0.2222222222222222, \"#7201a8\"], [0.3333333333333333, \"#9c179e\"], [0.4444444444444444, \"#bd3786\"], [0.5555555555555556, \"#d8576b\"], [0.6666666666666666, \"#ed7953\"], [0.7777777777777778, \"#fb9f3a\"], [0.8888888888888888, \"#fdca26\"], [1.0, \"#f0f921\"]], \"type\": \"histogram2d\"}], \"histogram2dcontour\": [{\"colorbar\": {\"outlinewidth\": 0, \"ticks\": \"\"}, \"colorscale\": [[0.0, \"#0d0887\"], [0.1111111111111111, \"#46039f\"], [0.2222222222222222, \"#7201a8\"], [0.3333333333333333, \"#9c179e\"], [0.4444444444444444, \"#bd3786\"], [0.5555555555555556, \"#d8576b\"], [0.6666666666666666, \"#ed7953\"], [0.7777777777777778, \"#fb9f3a\"], [0.8888888888888888, \"#fdca26\"], [1.0, \"#f0f921\"]], \"type\": \"histogram2dcontour\"}], \"mesh3d\": [{\"colorbar\": {\"outlinewidth\": 0, \"ticks\": \"\"}, \"type\": \"mesh3d\"}], \"parcoords\": [{\"line\": {\"colorbar\": {\"outlinewidth\": 0, \"ticks\": \"\"}}, \"type\": \"parcoords\"}], \"pie\": [{\"automargin\": true, \"type\": \"pie\"}], \"scatter\": [{\"marker\": {\"colorbar\": {\"outlinewidth\": 0, \"ticks\": \"\"}}, \"type\": \"scatter\"}], \"scatter3d\": [{\"line\": {\"colorbar\": {\"outlinewidth\": 0, \"ticks\": \"\"}}, \"marker\": {\"colorbar\": {\"outlinewidth\": 0, \"ticks\": \"\"}}, \"type\": \"scatter3d\"}], \"scattercarpet\": [{\"marker\": {\"colorbar\": {\"outlinewidth\": 0, \"ticks\": \"\"}}, \"type\": \"scattercarpet\"}], \"scattergeo\": [{\"marker\": {\"colorbar\": {\"outlinewidth\": 0, \"ticks\": \"\"}}, \"type\": \"scattergeo\"}], \"scattergl\": [{\"marker\": {\"colorbar\": {\"outlinewidth\": 0, \"ticks\": \"\"}}, \"type\": \"scattergl\"}], \"scattermapbox\": [{\"marker\": {\"colorbar\": {\"outlinewidth\": 0, \"ticks\": \"\"}}, \"type\": \"scattermapbox\"}], \"scatterpolar\": [{\"marker\": {\"colorbar\": {\"outlinewidth\": 0, \"ticks\": \"\"}}, \"type\": \"scatterpolar\"}], \"scatterpolargl\": [{\"marker\": {\"colorbar\": {\"outlinewidth\": 0, \"ticks\": \"\"}}, \"type\": \"scatterpolargl\"}], \"scatterternary\": [{\"marker\": {\"colorbar\": {\"outlinewidth\": 0, \"ticks\": \"\"}}, \"type\": \"scatterternary\"}], \"surface\": [{\"colorbar\": {\"outlinewidth\": 0, \"ticks\": \"\"}, \"colorscale\": [[0.0, \"#0d0887\"], [0.1111111111111111, \"#46039f\"], [0.2222222222222222, \"#7201a8\"], [0.3333333333333333, \"#9c179e\"], [0.4444444444444444, \"#bd3786\"], [0.5555555555555556, \"#d8576b\"], [0.6666666666666666, \"#ed7953\"], [0.7777777777777778, \"#fb9f3a\"], [0.8888888888888888, \"#fdca26\"], [1.0, \"#f0f921\"]], \"type\": \"surface\"}], \"table\": [{\"cells\": {\"fill\": {\"color\": \"#EBF0F8\"}, \"line\": {\"color\": \"white\"}}, \"header\": {\"fill\": {\"color\": \"#C8D4E3\"}, \"line\": {\"color\": \"white\"}}, \"type\": \"table\"}]}, \"layout\": {\"annotationdefaults\": {\"arrowcolor\": \"#2a3f5f\", \"arrowhead\": 0, \"arrowwidth\": 1}, \"autotypenumbers\": \"strict\", \"coloraxis\": {\"colorbar\": {\"outlinewidth\": 0, \"ticks\": \"\"}}, \"colorscale\": {\"diverging\": [[0, \"#8e0152\"], [0.1, \"#c51b7d\"], [0.2, \"#de77ae\"], [0.3, \"#f1b6da\"], [0.4, \"#fde0ef\"], [0.5, \"#f7f7f7\"], [0.6, \"#e6f5d0\"], [0.7, \"#b8e186\"], [0.8, \"#7fbc41\"], [0.9, \"#4d9221\"], [1, \"#276419\"]], \"sequential\": [[0.0, \"#0d0887\"], [0.1111111111111111, \"#46039f\"], [0.2222222222222222, \"#7201a8\"], [0.3333333333333333, \"#9c179e\"], [0.4444444444444444, \"#bd3786\"], [0.5555555555555556, \"#d8576b\"], [0.6666666666666666, \"#ed7953\"], [0.7777777777777778, \"#fb9f3a\"], [0.8888888888888888, \"#fdca26\"], [1.0, \"#f0f921\"]], \"sequentialminus\": [[0.0, \"#0d0887\"], [0.1111111111111111, \"#46039f\"], [0.2222222222222222, \"#7201a8\"], [0.3333333333333333, \"#9c179e\"], [0.4444444444444444, \"#bd3786\"], [0.5555555555555556, \"#d8576b\"], [0.6666666666666666, \"#ed7953\"], [0.7777777777777778, \"#fb9f3a\"], [0.8888888888888888, \"#fdca26\"], [1.0, \"#f0f921\"]]}, \"colorway\": [\"#636efa\", \"#EF553B\", \"#00cc96\", \"#ab63fa\", \"#FFA15A\", \"#19d3f3\", \"#FF6692\", \"#B6E880\", \"#FF97FF\", \"#FECB52\"], \"font\": {\"color\": \"#2a3f5f\"}, \"geo\": {\"bgcolor\": \"white\", \"lakecolor\": \"white\", \"landcolor\": \"#E5ECF6\", \"showlakes\": true, \"showland\": true, \"subunitcolor\": \"white\"}, \"hoverlabel\": {\"align\": \"left\"}, \"hovermode\": \"closest\", \"mapbox\": {\"style\": \"light\"}, \"paper_bgcolor\": \"white\", \"plot_bgcolor\": \"#E5ECF6\", \"polar\": {\"angularaxis\": {\"gridcolor\": \"white\", \"linecolor\": \"white\", \"ticks\": \"\"}, \"bgcolor\": \"#E5ECF6\", \"radialaxis\": {\"gridcolor\": \"white\", \"linecolor\": \"white\", \"ticks\": \"\"}}, \"scene\": {\"xaxis\": {\"backgroundcolor\": \"#E5ECF6\", \"gridcolor\": \"white\", \"gridwidth\": 2, \"linecolor\": \"white\", \"showbackground\": true, \"ticks\": \"\", \"zerolinecolor\": \"white\"}, \"yaxis\": {\"backgroundcolor\": \"#E5ECF6\", \"gridcolor\": \"white\", \"gridwidth\": 2, \"linecolor\": \"white\", \"showbackground\": true, \"ticks\": \"\", \"zerolinecolor\": \"white\"}, \"zaxis\": {\"backgroundcolor\": \"#E5ECF6\", \"gridcolor\": \"white\", \"gridwidth\": 2, \"linecolor\": \"white\", \"showbackground\": true, \"ticks\": \"\", \"zerolinecolor\": \"white\"}}, \"shapedefaults\": {\"line\": {\"color\": \"#2a3f5f\"}}, \"ternary\": {\"aaxis\": {\"gridcolor\": \"white\", \"linecolor\": \"white\", \"ticks\": \"\"}, \"baxis\": {\"gridcolor\": \"white\", \"linecolor\": \"white\", \"ticks\": \"\"}, \"bgcolor\": \"#E5ECF6\", \"caxis\": {\"gridcolor\": \"white\", \"linecolor\": \"white\", \"ticks\": \"\"}}, \"title\": {\"x\": 0.05}, \"xaxis\": {\"automargin\": true, \"gridcolor\": \"white\", \"linecolor\": \"white\", \"ticks\": \"\", \"title\": {\"standoff\": 15}, \"zerolinecolor\": \"white\", \"zerolinewidth\": 2}, \"yaxis\": {\"automargin\": true, \"gridcolor\": \"white\", \"linecolor\": \"white\", \"ticks\": \"\", \"title\": {\"standoff\": 15}, \"zerolinecolor\": \"white\", \"zerolinewidth\": 2}}}},                        {\"responsive\": true}                    ).then(function(){\n",
       "                            \n",
       "var gd = document.getElementById('e21b3396-7b6b-4092-97c8-c2fdce72ea04');\n",
       "var x = new MutationObserver(function (mutations, observer) {{\n",
       "        var display = window.getComputedStyle(gd).display;\n",
       "        if (!display || display === 'none') {{\n",
       "            console.log([gd, 'removed!']);\n",
       "            Plotly.purge(gd);\n",
       "            observer.disconnect();\n",
       "        }}\n",
       "}});\n",
       "\n",
       "// Listen for the removal of the full notebook cells\n",
       "var notebookContainer = gd.closest('#notebook-container');\n",
       "if (notebookContainer) {{\n",
       "    x.observe(notebookContainer, {childList: true});\n",
       "}}\n",
       "\n",
       "// Listen for the clearing of the current output cell\n",
       "var outputEl = gd.closest('.output');\n",
       "if (outputEl) {{\n",
       "    x.observe(outputEl, {childList: true});\n",
       "}}\n",
       "\n",
       "                        })                };                });            </script>        </div>"
      ]
     },
     "metadata": {},
     "output_type": "display_data"
    }
   ],
   "source": [
    "fig = px.treemap(df1, path=['industry', 'occupation','sex'], \n",
    "                 values='historical_popularity_index', \n",
    "                 color='occupation')\n",
    "  \n",
    "fig.show()"
   ]
  },
  {
   "cell_type": "markdown",
   "metadata": {},
   "source": [
    "#### MARCAS Y CANALES "
   ]
  },
  {
   "cell_type": "markdown",
   "metadata": {},
   "source": [
    "•\tLos canales utilizados en las visualizaciones serán el área, el color, y el tamaño para cada atributo, el color representa la categoría será topológico. \n",
    "\n",
    "•\tLas marcas serán las figuras (rectangulos) y las áreas.\n"
   ]
  },
  {
   "cell_type": "markdown",
   "metadata": {},
   "source": [
    "#### MEJORAS"
   ]
  },
  {
   "cell_type": "markdown",
   "metadata": {},
   "source": [
    "En general la visualización me parece muy buena ya que se ve muy claramente la jerarquía pues cada conjunto de rectángulos del mismo nivel de jerarquía representa una columna y cada rectángulo individual o más pequeño representa una categoría de una columna. Además, el canal de color es muy bueno para la visualización. Por lo cual es facil identificar y analizar el modismo propuesto"
   ]
  },
  {
   "cell_type": "markdown",
   "metadata": {},
   "source": [
    "Como conclusión para el modismo podemos notar que la industria con más popularidad global para los personajes históricos es la gobierno, teniendo una ocupación sobresaliente de políticos y como muy obvio que para esta industria el 80% de los personajes sean hombres. La segunda ocupación más destacada es la de cine y teatro con la ocupación de actor como segmentación, pero para este caso, aunque no es mucha la diferencia se ve que las mujeres tienen una proporción en esta industria.  Por lo cual se puede llegar a la conclusión de que las mujeres no han sido muy reconocidas a través del tiempo ya que en la sociedad tradicional la mujer se quedaba en el ámbito doméstico y a las labores de crianza. \n",
    "\n",
    "Sin embargo, hubo excepciones, hubo mujeres que lograron superar esas barreras, desarrollar una profesión y dedicarse a su vocación, donde han luchado por conseguir un espacio destacado en un mundo que parecía ser dominado por los hombres. "
   ]
  },
  {
   "cell_type": "markdown",
   "metadata": {},
   "source": [
    "Adicionalmente, sera hará una visualización que muestre lo mismo solo que utilizando la variable estado"
   ]
  },
  {
   "cell_type": "code",
   "execution_count": 26,
   "metadata": {},
   "outputs": [
    {
     "data": {
      "application/vnd.plotly.v1+json": {
       "config": {
        "plotlyServerURL": "https://plot.ly"
       },
       "data": [
        {
         "branchvalues": "total",
         "customdata": [
          [
           "(?)"
          ],
          [
           "Public Worker"
          ],
          [
           "Politician"
          ],
          [
           "Businessperson"
          ],
          [
           "Physicist"
          ],
          [
           "Lawyer"
          ],
          [
           "Wrestler"
          ],
          [
           "Painter"
          ],
          [
           "Presenter"
          ],
          [
           "Physicist"
          ],
          [
           "Military Personnel"
          ],
          [
           "Businessperson"
          ],
          [
           "Presenter"
          ],
          [
           "Economist"
          ],
          [
           "Musician"
          ],
          [
           "Explorer"
          ],
          [
           "Economist"
          ],
          [
           "Religious Figure"
          ],
          [
           "Politician"
          ],
          [
           "Singer"
          ],
          [
           "Chemist"
          ],
          [
           "Philosopher"
          ],
          [
           "Singer"
          ],
          [
           "Social Activist"
          ],
          [
           "Astronomer"
          ],
          [
           "Soccer Player"
          ],
          [
           "Military Personnel"
          ],
          [
           "Comedian"
          ],
          [
           "Singer"
          ],
          [
           "Writer"
          ],
          [
           "Lawyer"
          ],
          [
           "Writer"
          ],
          [
           "Sociologist"
          ],
          [
           "Military Personnel"
          ],
          [
           "Companion"
          ],
          [
           "Writer"
          ],
          [
           "Writer"
          ],
          [
           "Chemist"
          ],
          [
           "Actor"
          ],
          [
           "Wrestler"
          ],
          [
           "Physician"
          ],
          [
           "Politician"
          ],
          [
           "Inventor"
          ],
          [
           "(?)"
          ],
          [
           "Politician"
          ],
          [
           "Musician"
          ],
          [
           "Tennis Player"
          ],
          [
           "Businessperson"
          ],
          [
           "Mathematician"
          ],
          [
           "Politician"
          ],
          [
           "Athlete"
          ],
          [
           "Businessperson"
          ],
          [
           "Athlete"
          ],
          [
           "(?)"
          ],
          [
           "Politician"
          ],
          [
           "Writer"
          ],
          [
           "Physician"
          ],
          [
           "Basketball Player"
          ],
          [
           "Painter"
          ],
          [
           "Political Scientist"
          ],
          [
           "Economist"
          ],
          [
           "Politician"
          ],
          [
           "Basketball Player"
          ],
          [
           "Actor"
          ],
          [
           "Presenter"
          ],
          [
           "Actor"
          ],
          [
           "Companion"
          ],
          [
           "Actor"
          ],
          [
           "Composer"
          ],
          [
           "Philosopher"
          ],
          [
           "Basketball Player"
          ],
          [
           "Wrestler"
          ],
          [
           "Chemist"
          ],
          [
           "Athlete"
          ],
          [
           "Magician"
          ],
          [
           "Mafioso"
          ],
          [
           "Politician"
          ],
          [
           "Wrestler"
          ],
          [
           "Game Designer"
          ],
          [
           "Actor"
          ],
          [
           "Presenter"
          ],
          [
           "Social Activist"
          ],
          [
           "Historian"
          ],
          [
           "(?)"
          ],
          [
           "Biologist"
          ],
          [
           "Judge"
          ],
          [
           "Model"
          ],
          [
           "Psychologist"
          ],
          [
           "Singer"
          ],
          [
           "Architect"
          ],
          [
           "Writer"
          ],
          [
           "Economist"
          ],
          [
           "Social Activist"
          ],
          [
           "Chemist"
          ],
          [
           "Tennis Player"
          ],
          [
           "Psychologist"
          ],
          [
           "Film Director"
          ],
          [
           "Politician"
          ],
          [
           "Singer"
          ],
          [
           "Skier"
          ],
          [
           "Religious Figure"
          ],
          [
           "Religious Figure"
          ],
          [
           "Military Personnel"
          ],
          [
           "Physicist"
          ],
          [
           "Explorer"
          ],
          [
           "Game Designer"
          ],
          [
           "Pilot"
          ],
          [
           "Celebrity"
          ],
          [
           "(?)"
          ],
          [
           "Actor"
          ],
          [
           "Physicist"
          ],
          [
           "Musician"
          ],
          [
           "Businessperson"
          ],
          [
           "Musician"
          ],
          [
           "Businessperson"
          ],
          [
           "Politician"
          ],
          [
           "Inventor"
          ],
          [
           "Singer"
          ],
          [
           "Composer"
          ],
          [
           "Social Activist"
          ],
          [
           "Politician"
          ],
          [
           "Model"
          ],
          [
           "Writer"
          ],
          [
           "Military Personnel"
          ],
          [
           "Economist"
          ],
          [
           "Singer"
          ],
          [
           "Snooker"
          ],
          [
           "Politician"
          ],
          [
           "Engineer"
          ],
          [
           "Painter"
          ],
          [
           "Comic Artist"
          ],
          [
           "Physicist"
          ],
          [
           "Military Personnel"
          ],
          [
           "Military Personnel"
          ],
          [
           "Swimmer"
          ],
          [
           "Businessperson"
          ],
          [
           "Actor"
          ],
          [
           "Extremist"
          ],
          [
           "(?)"
          ],
          [
           "Pornographic Actor"
          ],
          [
           "Companion"
          ],
          [
           "Film Director"
          ],
          [
           "Politician"
          ],
          [
           "Racecar Driver"
          ],
          [
           "Nobleman"
          ],
          [
           "Businessperson"
          ],
          [
           "Judge"
          ],
          [
           "Celebrity"
          ],
          [
           "Writer"
          ],
          [
           "Athlete"
          ],
          [
           "(?)"
          ],
          [
           "Actor"
          ],
          [
           "Architect"
          ],
          [
           "(?)"
          ],
          [
           "Writer"
          ],
          [
           "(?)"
          ],
          [
           "Politician"
          ],
          [
           "Musician"
          ],
          [
           "Sociologist"
          ],
          [
           "Psychologist"
          ],
          [
           "Architect"
          ],
          [
           "Politician"
          ],
          [
           "Writer"
          ],
          [
           "Basketball Player"
          ],
          [
           "Astronomer"
          ],
          [
           "Economist"
          ],
          [
           "(?)"
          ],
          [
           "Actor"
          ],
          [
           "Inventor"
          ],
          [
           "Singer"
          ],
          [
           "Cyclist"
          ],
          [
           "Explorer"
          ],
          [
           "Companion"
          ],
          [
           "Architect"
          ],
          [
           "Dancer"
          ],
          [
           "(?)"
          ],
          [
           "Tennis Player"
          ],
          [
           "Politician"
          ],
          [
           "American Football Player"
          ],
          [
           "Political Scientist"
          ],
          [
           "Physician"
          ],
          [
           "Composer"
          ],
          [
           "Writer"
          ],
          [
           "Astronaut"
          ],
          [
           "Chessmaster"
          ],
          [
           "Tennis Player"
          ],
          [
           "(?)"
          ],
          [
           "Companion"
          ],
          [
           "Basketball Player"
          ],
          [
           "Physicist"
          ],
          [
           "Astronomer"
          ],
          [
           "Politician"
          ],
          [
           "Archaeologist"
          ],
          [
           "Politician"
          ],
          [
           "Presenter"
          ],
          [
           "Computer Scientist"
          ],
          [
           "Actor"
          ],
          [
           "Writer"
          ],
          [
           "Producer"
          ],
          [
           "Politician"
          ],
          [
           "Political Scientist"
          ],
          [
           "Astronaut"
          ],
          [
           "(?)"
          ],
          [
           "(?)"
          ],
          [
           "Singer"
          ],
          [
           "Chemist"
          ],
          [
           "Mafioso"
          ],
          [
           "Lawyer"
          ],
          [
           "Tennis Player"
          ],
          [
           "Artist"
          ],
          [
           "Chemist"
          ],
          [
           "Soccer Player"
          ],
          [
           "Fashion Designer"
          ],
          [
           "Photographer"
          ],
          [
           "Photographer"
          ],
          [
           "Chemist"
          ],
          [
           "Computer Scientist"
          ],
          [
           "Businessperson"
          ],
          [
           "Boxer"
          ],
          [
           "Astronomer"
          ],
          [
           "Musician"
          ],
          [
           "(?)"
          ],
          [
           "Physicist"
          ],
          [
           "Philosopher"
          ],
          [
           "Politician"
          ],
          [
           "Actor"
          ],
          [
           "Physicist"
          ],
          [
           "Wrestler"
          ],
          [
           "Actor"
          ],
          [
           "(?)"
          ],
          [
           "Wrestler"
          ],
          [
           "Chemist"
          ],
          [
           "Judge"
          ],
          [
           "Social Activist"
          ],
          [
           "Actor"
          ],
          [
           "Singer"
          ],
          [
           "Chemist"
          ],
          [
           "Physician"
          ],
          [
           "Businessperson"
          ],
          [
           "Businessperson"
          ],
          [
           "Astronaut"
          ],
          [
           "Companion"
          ],
          [
           "Singer"
          ],
          [
           "Composer"
          ],
          [
           "Actor"
          ],
          [
           "Snooker"
          ],
          [
           "(?)"
          ],
          [
           "Pilot"
          ],
          [
           "Religious Figure"
          ],
          [
           "Businessperson"
          ],
          [
           "Archaeologist"
          ],
          [
           "Computer Scientist"
          ],
          [
           "Musician"
          ],
          [
           "Mathematician"
          ],
          [
           "Economist"
          ],
          [
           "Skier"
          ],
          [
           "Actor"
          ],
          [
           "Singer"
          ],
          [
           "Computer Scientist"
          ],
          [
           "Physician"
          ],
          [
           "Artist"
          ],
          [
           "Actor"
          ],
          [
           "Film Director"
          ],
          [
           "Wrestler"
          ],
          [
           "Astronomer"
          ],
          [
           "Businessperson"
          ],
          [
           "Singer"
          ],
          [
           "Actor"
          ],
          [
           "Writer"
          ],
          [
           "Presenter"
          ],
          [
           "Musician"
          ],
          [
           "Skier"
          ],
          [
           "(?)"
          ],
          [
           "Writer"
          ],
          [
           "Writer"
          ],
          [
           "Writer"
          ],
          [
           "Economist"
          ],
          [
           "Writer"
          ],
          [
           "Politician"
          ],
          [
           "Actor"
          ],
          [
           "Politician"
          ],
          [
           "Religious Figure"
          ],
          [
           "Dancer"
          ],
          [
           "Hockey Player"
          ],
          [
           "Actor"
          ],
          [
           "Computer Scientist"
          ],
          [
           "Tennis Player"
          ],
          [
           "Politician"
          ],
          [
           "Actor"
          ],
          [
           "Military Personnel"
          ],
          [
           "Religious Figure"
          ],
          [
           "Comedian"
          ],
          [
           "Presenter"
          ],
          [
           "Astronomer"
          ],
          [
           "Coach"
          ],
          [
           "Comic Artist"
          ],
          [
           "Composer"
          ],
          [
           "Politician"
          ],
          [
           "Inventor"
          ],
          [
           "Businessperson"
          ],
          [
           "Economist"
          ],
          [
           "(?)"
          ],
          [
           "Soccer Player"
          ],
          [
           "Economist"
          ],
          [
           "Actor"
          ],
          [
           "Inventor"
          ],
          [
           "Soccer Player"
          ],
          [
           "Basketball Player"
          ],
          [
           "Actor"
          ],
          [
           "(?)"
          ],
          [
           "Computer Scientist"
          ],
          [
           "Psychologist"
          ],
          [
           "Basketball Player"
          ],
          [
           "Companion"
          ],
          [
           "Politician"
          ],
          [
           "Astronomer"
          ],
          [
           "Astronaut"
          ],
          [
           "Military Personnel"
          ],
          [
           "Writer"
          ],
          [
           "Wrestler"
          ],
          [
           "Singer"
          ],
          [
           "Actor"
          ],
          [
           "Fashion Designer"
          ],
          [
           "Basketball Player"
          ],
          [
           "Painter"
          ],
          [
           "Tennis Player"
          ],
          [
           "Musician"
          ],
          [
           "Physicist"
          ],
          [
           "Physicist"
          ],
          [
           "Physicist"
          ],
          [
           "Politician"
          ],
          [
           "Film Director"
          ],
          [
           "Composer"
          ],
          [
           "Tennis Player"
          ],
          [
           "Biologist"
          ],
          [
           "Musician"
          ],
          [
           "Politician"
          ],
          [
           "Social Activist"
          ],
          [
           "Explorer"
          ],
          [
           "Politician"
          ],
          [
           "Physician"
          ],
          [
           "Actor"
          ],
          [
           "Companion"
          ],
          [
           "Biologist"
          ],
          [
           "Swimmer"
          ],
          [
           "Musician"
          ],
          [
           "Biologist"
          ],
          [
           "Dancer"
          ],
          [
           "Singer"
          ],
          [
           "Actor"
          ],
          [
           "Comic Artist"
          ],
          [
           "Astronomer"
          ],
          [
           "Astronomer"
          ],
          [
           "Historian"
          ],
          [
           "Physician"
          ],
          [
           "Politician"
          ],
          [
           "Actor"
          ],
          [
           "Journalist"
          ],
          [
           "Chemist"
          ],
          [
           "Chemist"
          ],
          [
           "Chemist"
          ],
          [
           "Tennis Player"
          ],
          [
           "Astronomer"
          ],
          [
           "Singer"
          ],
          [
           "(?)"
          ],
          [
           "Musician"
          ],
          [
           "Actor"
          ],
          [
           "Computer Scientist"
          ],
          [
           "(?)"
          ],
          [
           "Military Personnel"
          ],
          [
           "Biologist"
          ],
          [
           "Actor"
          ],
          [
           "Basketball Player"
          ],
          [
           "Journalist"
          ],
          [
           "Chemist"
          ],
          [
           "Actor"
          ],
          [
           "Astronaut"
          ],
          [
           "Painter"
          ],
          [
           "Military Personnel"
          ],
          [
           "Linguist"
          ],
          [
           "Chessmaster"
          ],
          [
           "Mafioso"
          ],
          [
           "Chemist"
          ],
          [
           "Swimmer"
          ],
          [
           "Philosopher"
          ],
          [
           "Boxer"
          ],
          [
           "Religious Figure"
          ],
          [
           "Mathematician"
          ],
          [
           "Philosopher"
          ],
          [
           "Religious Figure"
          ],
          [
           "Statistician"
          ],
          [
           "Extremist"
          ],
          [
           "Businessperson"
          ],
          [
           "Pornographic Actor"
          ],
          [
           "(?)"
          ],
          [
           "Philosopher"
          ],
          [
           "Actor"
          ],
          [
           "Comedian"
          ],
          [
           "Linguist"
          ],
          [
           "Politician"
          ],
          [
           "Actor"
          ],
          [
           "Baseball Player"
          ],
          [
           "Social Activist"
          ],
          [
           "Singer"
          ],
          [
           "Astronaut"
          ],
          [
           "Painter"
          ],
          [
           "(?)"
          ],
          [
           "Religious Figure"
          ],
          [
           "Politician"
          ],
          [
           "Economist"
          ],
          [
           "Boxer"
          ],
          [
           "Singer"
          ],
          [
           "Musician"
          ],
          [
           "Mathematician"
          ],
          [
           "Musician"
          ],
          [
           "Extremist"
          ],
          [
           "Dancer"
          ],
          [
           "Racecar Driver"
          ],
          [
           "Military Personnel"
          ],
          [
           "Soccer Player"
          ],
          [
           "Skier"
          ],
          [
           "Economist"
          ],
          [
           "Philosopher"
          ],
          [
           "Social Activist"
          ],
          [
           "Actor"
          ],
          [
           "Economist"
          ],
          [
           "Biologist"
          ],
          [
           "Actor"
          ],
          [
           "Basketball Player"
          ],
          [
           "(?)"
          ],
          [
           "Astronomer"
          ],
          [
           "Actor"
          ],
          [
           "(?)"
          ],
          [
           "Companion"
          ],
          [
           "(?)"
          ],
          [
           "Actor"
          ],
          [
           "Boxer"
          ],
          [
           "Golfer"
          ],
          [
           "Lawyer"
          ],
          [
           "Artist"
          ],
          [
           "Soccer Player"
          ],
          [
           "Diplomat"
          ],
          [
           "Biologist"
          ],
          [
           "Racecar Driver"
          ],
          [
           "Painter"
          ],
          [
           "Astronaut"
          ],
          [
           "Architect"
          ],
          [
           "Film Director"
          ],
          [
           "Dancer"
          ],
          [
           "Politician"
          ],
          [
           "Chemist"
          ],
          [
           "Actor"
          ],
          [
           "Biologist"
          ],
          [
           "Referee"
          ],
          [
           "Actor"
          ],
          [
           "Computer Scientist"
          ],
          [
           "Baseball Player"
          ],
          [
           "Politician"
          ],
          [
           "Actor"
          ],
          [
           "Singer"
          ],
          [
           "Astronomer"
          ],
          [
           "Actor"
          ],
          [
           "Politician"
          ],
          [
           "Athlete"
          ],
          [
           "Lawyer"
          ],
          [
           "Athlete"
          ],
          [
           "Tennis Player"
          ],
          [
           "(?)"
          ],
          [
           "Companion"
          ],
          [
           "Actor"
          ],
          [
           "Political Scientist"
          ],
          [
           "Presenter"
          ],
          [
           "Physicist"
          ],
          [
           "Composer"
          ],
          [
           "Actor"
          ],
          [
           "(?)"
          ],
          [
           "Inventor"
          ],
          [
           "Athlete"
          ],
          [
           "Politician"
          ],
          [
           "Computer Scientist"
          ],
          [
           "Baseball Player"
          ],
          [
           "Actor"
          ],
          [
           "Politician"
          ],
          [
           "Writer"
          ],
          [
           "Producer"
          ],
          [
           "Businessperson"
          ],
          [
           "Politician"
          ],
          [
           "Writer"
          ],
          [
           "Dancer"
          ],
          [
           "Religious Figure"
          ],
          [
           "Judge"
          ],
          [
           "(?)"
          ],
          [
           "Inventor"
          ],
          [
           "Social Activist"
          ],
          [
           "Military Personnel"
          ],
          [
           "Physicist"
          ],
          [
           "Inventor"
          ],
          [
           "Critic"
          ],
          [
           "Astronaut"
          ],
          [
           "Musician"
          ],
          [
           "Economist"
          ],
          [
           "Physicist"
          ],
          [
           "Astronomer"
          ],
          [
           "Athlete"
          ],
          [
           "Social Activist"
          ],
          [
           "Physician"
          ],
          [
           "(?)"
          ],
          [
           "Physicist"
          ],
          [
           "Athlete"
          ],
          [
           "Actor"
          ],
          [
           "Wrestler"
          ],
          [
           "Anthropologist"
          ],
          [
           "Wrestler"
          ],
          [
           "Astronaut"
          ],
          [
           "Magician"
          ],
          [
           "Physician"
          ],
          [
           "Comic Artist"
          ],
          [
           "Inventor"
          ],
          [
           "(?)"
          ],
          [
           "Basketball Player"
          ],
          [
           "Economist"
          ],
          [
           "Musician"
          ],
          [
           "Actor"
          ],
          [
           "Actor"
          ],
          [
           "Astronaut"
          ],
          [
           "Producer"
          ],
          [
           "Film Director"
          ],
          [
           "Actor"
          ],
          [
           "Actor"
          ],
          [
           "Economist"
          ],
          [
           "Politician"
          ],
          [
           "Actor"
          ],
          [
           "Philosopher"
          ],
          [
           "Chessmaster"
          ],
          [
           "Basketball Player"
          ],
          [
           "Military Personnel"
          ],
          [
           "(?)"
          ],
          [
           "Actor"
          ],
          [
           "Nobleman"
          ],
          [
           "Musician"
          ],
          [
           "Chemist"
          ],
          [
           "Sculptor"
          ],
          [
           "Politician"
          ],
          [
           "Physicist"
          ],
          [
           "Mathematician"
          ],
          [
           "Actor"
          ],
          [
           "Biologist"
          ],
          [
           "Soccer Player"
          ],
          [
           "Soccer Player"
          ],
          [
           "Social Activist"
          ],
          [
           "Politician"
          ],
          [
           "Military Personnel"
          ],
          [
           "Actor"
          ],
          [
           "Musician"
          ],
          [
           "Politician"
          ],
          [
           "(?)"
          ],
          [
           "Politician"
          ],
          [
           "(?)"
          ],
          [
           "Coach"
          ],
          [
           "Magician"
          ],
          [
           "Hockey Player"
          ],
          [
           "Singer"
          ],
          [
           "Magician"
          ],
          [
           "Musician"
          ],
          [
           "Singer"
          ],
          [
           "Writer"
          ],
          [
           "Religious Figure"
          ],
          [
           "Painter"
          ],
          [
           "Physician"
          ],
          [
           "(?)"
          ],
          [
           "(?)"
          ],
          [
           "Religious Figure"
          ],
          [
           "Astronomer"
          ],
          [
           "(?)"
          ],
          [
           "Writer"
          ],
          [
           "Wrestler"
          ],
          [
           "Tennis Player"
          ],
          [
           "Writer"
          ],
          [
           "Biologist"
          ],
          [
           "Writer"
          ],
          [
           "Musician"
          ],
          [
           "Film Director"
          ],
          [
           "Writer"
          ],
          [
           "Economist"
          ],
          [
           "Social Activist"
          ],
          [
           "Computer Scientist"
          ],
          [
           "Philosopher"
          ],
          [
           "Computer Scientist"
          ],
          [
           "Politician"
          ],
          [
           "Historian"
          ],
          [
           "(?)"
          ],
          [
           "Actor"
          ],
          [
           "Businessperson"
          ],
          [
           "Politician"
          ],
          [
           "Computer Scientist"
          ],
          [
           "Inventor"
          ],
          [
           "(?)"
          ],
          [
           "Politician"
          ],
          [
           "Mafioso"
          ],
          [
           "Computer Scientist"
          ],
          [
           "(?)"
          ],
          [
           "Athlete"
          ],
          [
           "Basketball Player"
          ],
          [
           "Astronomer"
          ],
          [
           "Writer"
          ],
          [
           "Actor"
          ],
          [
           "Pilot"
          ],
          [
           "Athlete"
          ],
          [
           "Soccer Player"
          ],
          [
           "Writer"
          ],
          [
           "Politician"
          ],
          [
           "Racecar Driver"
          ],
          [
           "(?)"
          ],
          [
           "Photographer"
          ],
          [
           "Biologist"
          ],
          [
           "Politician"
          ],
          [
           "Wrestler"
          ],
          [
           "Cricketer"
          ],
          [
           "Physician"
          ],
          [
           "Writer"
          ],
          [
           "(?)"
          ],
          [
           "(?)"
          ],
          [
           "Inventor"
          ],
          [
           "Politician"
          ],
          [
           "Computer Scientist"
          ],
          [
           "Photographer"
          ],
          [
           "Political Scientist"
          ],
          [
           "Economist"
          ],
          [
           "Economist"
          ],
          [
           "Conductor"
          ],
          [
           "Religious Figure"
          ],
          [
           "Painter"
          ],
          [
           "Writer"
          ],
          [
           "Writer"
          ],
          [
           "Writer"
          ],
          [
           "Philosopher"
          ],
          [
           "Historian"
          ],
          [
           "Actor"
          ],
          [
           "(?)"
          ],
          [
           "Philosopher"
          ],
          [
           "Pilot"
          ],
          [
           "Anthropologist"
          ],
          [
           "Social Activist"
          ],
          [
           "Writer"
          ],
          [
           "Singer"
          ],
          [
           "Artist"
          ],
          [
           "Economist"
          ],
          [
           "Singer"
          ],
          [
           "Businessperson"
          ],
          [
           "Politician"
          ],
          [
           "(?)"
          ],
          [
           "Soccer Player"
          ],
          [
           "Film Director"
          ],
          [
           "Musician"
          ],
          [
           "Businessperson"
          ],
          [
           "Musician"
          ],
          [
           "Singer"
          ],
          [
           "Businessperson"
          ],
          [
           "Producer"
          ],
          [
           "Musician"
          ],
          [
           "Basketball Player"
          ],
          [
           "Social Activist"
          ],
          [
           "Writer"
          ],
          [
           "Diplomat"
          ],
          [
           "Writer"
          ],
          [
           "Writer"
          ],
          [
           "Film Director"
          ],
          [
           "Philosopher"
          ],
          [
           "Philosopher"
          ],
          [
           "Actor"
          ],
          [
           "Actor"
          ],
          [
           "Actor"
          ],
          [
           "Social Activist"
          ],
          [
           "Chemist"
          ],
          [
           "Actor"
          ],
          [
           "Athlete"
          ],
          [
           "(?)"
          ],
          [
           "Engineer"
          ],
          [
           "Businessperson"
          ],
          [
           "Astronomer"
          ],
          [
           "Athlete"
          ],
          [
           "Basketball Player"
          ],
          [
           "Actor"
          ],
          [
           "Wrestler"
          ],
          [
           "Religious Figure"
          ],
          [
           "Comic Artist"
          ],
          [
           "Musician"
          ],
          [
           "Sociologist"
          ],
          [
           "Nobleman"
          ],
          [
           "Model"
          ],
          [
           "(?)"
          ],
          [
           "Linguist"
          ],
          [
           "Singer"
          ],
          [
           "Pilot"
          ],
          [
           "Musician"
          ],
          [
           "Politician"
          ],
          [
           "Military Personnel"
          ],
          [
           "Fashion Designer"
          ],
          [
           "Religious Figure"
          ],
          [
           "Musician"
          ],
          [
           "Inventor"
          ],
          [
           "Golfer"
          ],
          [
           "(?)"
          ],
          [
           "Athlete"
          ],
          [
           "Physicist"
          ],
          [
           "Composer"
          ],
          [
           "Economist"
          ],
          [
           "Singer"
          ],
          [
           "Politician"
          ],
          [
           "Singer"
          ],
          [
           "Astronomer"
          ],
          [
           "Archaeologist"
          ],
          [
           "Astronomer"
          ],
          [
           "Singer"
          ],
          [
           "Pirate"
          ],
          [
           "Singer"
          ],
          [
           "Politician"
          ],
          [
           "Artist"
          ],
          [
           "Extremist"
          ],
          [
           "Tennis Player"
          ],
          [
           "Engineer"
          ],
          [
           "Artist"
          ],
          [
           "Singer"
          ],
          [
           "Engineer"
          ],
          [
           "Extremist"
          ],
          [
           "Singer"
          ],
          [
           "Politician"
          ],
          [
           "Astronaut"
          ],
          [
           "Politician"
          ],
          [
           "Celebrity"
          ],
          [
           "Military Personnel"
          ],
          [
           "Wrestler"
          ],
          [
           "Psychologist"
          ],
          [
           "Social Activist"
          ],
          [
           "Celebrity"
          ],
          [
           "Film Director"
          ],
          [
           "Statistician"
          ],
          [
           "Military Personnel"
          ],
          [
           "Social Activist"
          ],
          [
           "Singer"
          ],
          [
           "Athlete"
          ],
          [
           "Writer"
          ],
          [
           "Diplomat"
          ],
          [
           "Social Activist"
          ],
          [
           "Writer"
          ],
          [
           "Magician"
          ],
          [
           "Actor"
          ],
          [
           "Actor"
          ],
          [
           "Computer Scientist"
          ],
          [
           "Singer"
          ],
          [
           "Skater"
          ],
          [
           "Athlete"
          ],
          [
           "Swimmer"
          ],
          [
           "Film Director"
          ],
          [
           "Singer"
          ],
          [
           "Actor"
          ],
          [
           "Tennis Player"
          ],
          [
           "Chemist"
          ],
          [
           "Biologist"
          ],
          [
           "(?)"
          ],
          [
           "(?)"
          ],
          [
           "Writer"
          ],
          [
           "Inventor"
          ],
          [
           "Social Activist"
          ],
          [
           "Companion"
          ],
          [
           "(?)"
          ],
          [
           "Basketball Player"
          ],
          [
           "Swimmer"
          ],
          [
           "Judge"
          ],
          [
           "Lawyer"
          ],
          [
           "Linguist"
          ],
          [
           "Film Director"
          ],
          [
           "Celebrity"
          ],
          [
           "Celebrity"
          ],
          [
           "Politician"
          ],
          [
           "(?)"
          ],
          [
           "Military Personnel"
          ],
          [
           "Biologist"
          ],
          [
           "Writer"
          ],
          [
           "Athlete"
          ],
          [
           "Athlete"
          ],
          [
           "Writer"
          ],
          [
           "Basketball Player"
          ],
          [
           "Religious Figure"
          ],
          [
           "Astronomer"
          ],
          [
           "Musician"
          ],
          [
           "Writer"
          ],
          [
           "Mathematician"
          ],
          [
           "Diplomat"
          ],
          [
           "(?)"
          ],
          [
           "Extremist"
          ],
          [
           "Singer"
          ],
          [
           "Singer"
          ],
          [
           "Comic Artist"
          ],
          [
           "Chemist"
          ],
          [
           "Singer"
          ],
          [
           "Singer"
          ],
          [
           "Chemist"
          ],
          [
           "Actor"
          ],
          [
           "Chemist"
          ],
          [
           "Chemist"
          ],
          [
           "Companion"
          ],
          [
           "Chemist"
          ],
          [
           "Politician"
          ],
          [
           "Singer"
          ],
          [
           "Diplomat"
          ],
          [
           "(?)"
          ],
          [
           "Nobleman"
          ],
          [
           "Film Director"
          ],
          [
           "Social Activist"
          ],
          [
           "Journalist"
          ],
          [
           "Judge"
          ],
          [
           "Boxer"
          ],
          [
           "(?)"
          ],
          [
           "Musician"
          ],
          [
           "Businessperson"
          ],
          [
           "Military Personnel"
          ],
          [
           "Model"
          ],
          [
           "Writer"
          ],
          [
           "Businessperson"
          ],
          [
           "Economist"
          ],
          [
           "Basketball Player"
          ],
          [
           "(?)"
          ],
          [
           "Musician"
          ],
          [
           "Chemist"
          ],
          [
           "Physicist"
          ],
          [
           "Astronomer"
          ],
          [
           "(?)"
          ],
          [
           "Actor"
          ],
          [
           "Military Personnel"
          ],
          [
           "Actor"
          ],
          [
           "Actor"
          ],
          [
           "Actor"
          ],
          [
           "Writer"
          ],
          [
           "Architect"
          ],
          [
           "Writer"
          ],
          [
           "Writer"
          ],
          [
           "Actor"
          ],
          [
           "Actor"
          ],
          [
           "Astronomer"
          ],
          [
           "Physicist"
          ],
          [
           "Actor"
          ],
          [
           "Actor"
          ],
          [
           "Actor"
          ],
          [
           "(?)"
          ],
          [
           "Architect"
          ],
          [
           "Actor"
          ],
          [
           "Politician"
          ],
          [
           "Actor"
          ],
          [
           "(?)"
          ],
          [
           "Writer"
          ],
          [
           "Actor"
          ],
          [
           "Pilot"
          ],
          [
           "Extremist"
          ],
          [
           "(?)"
          ],
          [
           "Painter"
          ],
          [
           "Inventor"
          ],
          [
           "Businessperson"
          ],
          [
           "Wrestler"
          ],
          [
           "Mathematician"
          ],
          [
           "Writer"
          ],
          [
           "Artist"
          ],
          [
           "Soccer Player"
          ],
          [
           "Physicist"
          ],
          [
           "Designer"
          ],
          [
           "Politician"
          ],
          [
           "Mafioso"
          ],
          [
           "Philosopher"
          ],
          [
           "Chemist"
          ],
          [
           "Chemist"
          ],
          [
           "Diplomat"
          ],
          [
           "Actor"
          ],
          [
           "Actor"
          ],
          [
           "Writer"
          ],
          [
           "Writer"
          ],
          [
           "Writer"
          ],
          [
           "Engineer"
          ],
          [
           "Chemist"
          ],
          [
           "Economist"
          ],
          [
           "Diplomat"
          ],
          [
           "(?)"
          ],
          [
           "Military Personnel"
          ],
          [
           "Critic"
          ],
          [
           "Politician"
          ],
          [
           "Politician"
          ],
          [
           "Physician"
          ],
          [
           "Politician"
          ],
          [
           "Tennis Player"
          ],
          [
           "Philosopher"
          ],
          [
           "Boxer"
          ],
          [
           "Lawyer"
          ],
          [
           "Linguist"
          ],
          [
           "Politician"
          ],
          [
           "Social Activist"
          ],
          [
           "Nobleman"
          ],
          [
           "(?)"
          ],
          [
           "Composer"
          ],
          [
           "Singer"
          ],
          [
           "Tennis Player"
          ],
          [
           "Journalist"
          ],
          [
           "Musician"
          ],
          [
           "(?)"
          ],
          [
           "Physicist"
          ],
          [
           "Inventor"
          ],
          [
           "(?)"
          ],
          [
           "Biologist"
          ],
          [
           "Biologist"
          ],
          [
           "Film Director"
          ],
          [
           "Economist"
          ],
          [
           "Swimmer"
          ],
          [
           "Singer"
          ],
          [
           "Politician"
          ],
          [
           "(?)"
          ],
          [
           "(?)"
          ],
          [
           "Painter"
          ],
          [
           "Social Activist"
          ],
          [
           "Military Personnel"
          ],
          [
           "(?)"
          ],
          [
           "Astronomer"
          ],
          [
           "(?)"
          ],
          [
           "Religious Figure"
          ],
          [
           "Inventor"
          ],
          [
           "Singer"
          ],
          [
           "Musician"
          ],
          [
           "Celebrity"
          ],
          [
           "(?)"
          ],
          [
           "Actor"
          ],
          [
           "Politician"
          ],
          [
           "Photographer"
          ],
          [
           "Photographer"
          ],
          [
           "Painter"
          ],
          [
           "Musician"
          ],
          [
           "Politician"
          ],
          [
           "(?)"
          ],
          [
           "Musician"
          ],
          [
           "Musician"
          ],
          [
           "Philosopher"
          ],
          [
           "Musician"
          ],
          [
           "(?)"
          ],
          [
           "Musician"
          ],
          [
           "Philosopher"
          ],
          [
           "Writer"
          ],
          [
           "Military Personnel"
          ],
          [
           "Social Activist"
          ],
          [
           "Musician"
          ],
          [
           "Psychologist"
          ],
          [
           "Musician"
          ],
          [
           "(?)"
          ],
          [
           "Inventor"
          ],
          [
           "Musician"
          ],
          [
           "Religious Figure"
          ],
          [
           "Photographer"
          ],
          [
           "Painter"
          ],
          [
           "Painter"
          ],
          [
           "Photographer"
          ],
          [
           "Politician"
          ],
          [
           "Economist"
          ],
          [
           "Film Director"
          ],
          [
           "Film Director"
          ],
          [
           "Film Director"
          ],
          [
           "Social Activist"
          ],
          [
           "Politician"
          ],
          [
           "Film Director"
          ],
          [
           "Game Designer"
          ],
          [
           "Basketball Player"
          ],
          [
           "(?)"
          ],
          [
           "Mathematician"
          ],
          [
           "Geographer"
          ],
          [
           "Geologist"
          ],
          [
           "Geologist"
          ],
          [
           "Gymnast"
          ],
          [
           "Writer"
          ],
          [
           "Historian"
          ],
          [
           "Historian"
          ],
          [
           "Economist"
          ],
          [
           "(?)"
          ],
          [
           "Film Director"
          ],
          [
           "Film Director"
          ],
          [
           "Computer Scientist"
          ],
          [
           "Film Director"
          ],
          [
           "Extremist"
          ],
          [
           "Extremist"
          ],
          [
           "Philosopher"
          ],
          [
           "(?)"
          ],
          [
           "Extremist"
          ],
          [
           "Fashion Designer"
          ],
          [
           "(?)"
          ],
          [
           "(?)"
          ],
          [
           "Film Director"
          ],
          [
           "Physician"
          ],
          [
           "Lawyer"
          ],
          [
           "Inventor"
          ],
          [
           "(?)"
          ],
          [
           "Film Director"
          ],
          [
           "Film Director"
          ],
          [
           "(?)"
          ],
          [
           "Film Director"
          ],
          [
           "Dancer"
          ],
          [
           "Film Director"
          ],
          [
           "Film Director"
          ],
          [
           "(?)"
          ],
          [
           "Musician"
          ],
          [
           "Inventor"
          ],
          [
           "Actor"
          ],
          [
           "Mathematician"
          ],
          [
           "(?)"
          ],
          [
           "Mathematician"
          ],
          [
           "Politician"
          ],
          [
           "Physician"
          ],
          [
           "(?)"
          ],
          [
           "Military Personnel"
          ],
          [
           "(?)"
          ],
          [
           "Military Personnel"
          ],
          [
           "Military Personnel"
          ],
          [
           "(?)"
          ],
          [
           "(?)"
          ],
          [
           "Model"
          ],
          [
           "Companion"
          ],
          [
           "Model"
          ],
          [
           "Musician"
          ],
          [
           "Musician"
          ],
          [
           "Soccer Player"
          ],
          [
           "Musician"
          ],
          [
           "Economist"
          ],
          [
           "Mathematician"
          ],
          [
           "(?)"
          ],
          [
           "Astronaut"
          ],
          [
           "Social Activist"
          ],
          [
           "Inventor"
          ],
          [
           "Religious Figure"
          ],
          [
           "Extremist"
          ],
          [
           "Politician"
          ],
          [
           "Physicist"
          ],
          [
           "Journalist"
          ],
          [
           "Writer"
          ],
          [
           "(?)"
          ],
          [
           "Physician"
          ],
          [
           "Lawyer"
          ],
          [
           "Lawyer"
          ],
          [
           "Mafioso"
          ],
          [
           "Physician"
          ],
          [
           "Writer"
          ],
          [
           "Linguist"
          ],
          [
           "(?)"
          ],
          [
           "Linguist"
          ],
          [
           "Mafioso"
          ],
          [
           "(?)"
          ],
          [
           "Social Activist"
          ],
          [
           "Physician"
          ],
          [
           "(?)"
          ],
          [
           "Physician"
          ],
          [
           "Singer"
          ],
          [
           "Singer"
          ],
          [
           "Photographer"
          ],
          [
           "Actor"
          ],
          [
           "Philosopher"
          ],
          [
           "Singer"
          ],
          [
           "(?)"
          ],
          [
           "(?)"
          ],
          [
           "Military Personnel"
          ],
          [
           "Singer"
          ],
          [
           "(?)"
          ],
          [
           "(?)"
          ],
          [
           "Astronaut"
          ],
          [
           "Singer"
          ],
          [
           "Designer"
          ],
          [
           "Singer"
          ],
          [
           "Singer"
          ],
          [
           "Companion"
          ],
          [
           "Politician"
          ],
          [
           "Actor"
          ],
          [
           "Extremist"
          ],
          [
           "Sculptor"
          ],
          [
           "Sculptor"
          ],
          [
           "Politician"
          ],
          [
           "(?)"
          ],
          [
           "Producer"
          ],
          [
           "(?)"
          ],
          [
           "Politician"
          ],
          [
           "Astronaut"
          ],
          [
           "Producer"
          ],
          [
           "Psychologist"
          ],
          [
           "Psychologist"
          ],
          [
           "Psychologist"
          ],
          [
           "Actor"
          ],
          [
           "Psychologist"
          ],
          [
           "Actor"
          ],
          [
           "Soccer Player"
          ],
          [
           "Racecar Driver"
          ],
          [
           "Racecar Driver"
          ],
          [
           "(?)"
          ],
          [
           "Religious Figure"
          ],
          [
           "Actor"
          ],
          [
           "Religious Figure"
          ],
          [
           "Religious Figure"
          ],
          [
           "Religious Figure"
          ],
          [
           "Basketball Player"
          ],
          [
           "Singer"
          ],
          [
           "Singer"
          ],
          [
           "Singer"
          ],
          [
           "Writer"
          ],
          [
           "Social Activist"
          ],
          [
           "Social Activist"
          ],
          [
           "Sociologist"
          ],
          [
           "Sociologist"
          ],
          [
           "Sociologist"
          ],
          [
           "Writer"
          ],
          [
           "Writer"
          ],
          [
           "Swimmer"
          ],
          [
           "Writer"
          ],
          [
           "Wrestler"
          ],
          [
           "Swimmer"
          ],
          [
           "Wrestler"
          ],
          [
           "Wrestler"
          ],
          [
           "Swimmer"
          ],
          [
           "Tennis Player"
          ],
          [
           "Wrestler"
          ],
          [
           "Wrestler"
          ],
          [
           "Wrestler"
          ],
          [
           "Tennis Player"
          ],
          [
           "Tennis Player"
          ],
          [
           "Writer"
          ],
          [
           "(?)"
          ],
          [
           "Writer"
          ],
          [
           "Social Activist"
          ],
          [
           "Military Personnel"
          ],
          [
           "Politician"
          ],
          [
           "Singer"
          ],
          [
           "(?)"
          ],
          [
           "Singer"
          ],
          [
           "Skater"
          ],
          [
           "Physician"
          ],
          [
           "Writer"
          ],
          [
           "Inventor"
          ],
          [
           "Soccer Player"
          ],
          [
           "(?)"
          ],
          [
           "Writer"
          ],
          [
           "Writer"
          ],
          [
           "Soccer Player"
          ],
          [
           "Writer"
          ],
          [
           "Soccer Player"
          ],
          [
           "Writer"
          ],
          [
           "Writer"
          ],
          [
           "Writer"
          ],
          [
           "Social Activist"
          ],
          [
           "Writer"
          ],
          [
           "Social Activist"
          ],
          [
           "Presenter"
          ],
          [
           "(?)"
          ],
          [
           "Computer Scientist"
          ],
          [
           "Physicist"
          ],
          [
           "Astronaut"
          ],
          [
           "Writer"
          ],
          [
           "Physicist"
          ],
          [
           "Physicist"
          ],
          [
           "Pilot"
          ],
          [
           "Actor"
          ],
          [
           "Basketball Player"
          ],
          [
           "Economist"
          ],
          [
           "Chemist"
          ],
          [
           "(?)"
          ],
          [
           "Astronomer"
          ],
          [
           "Politician"
          ],
          [
           "(?)"
          ],
          [
           "Presenter"
          ],
          [
           "Writer"
          ],
          [
           "(?)"
          ],
          [
           "Politician"
          ],
          [
           "Writer"
          ],
          [
           "(?)"
          ],
          [
           "Writer"
          ],
          [
           "Physician"
          ],
          [
           "(?)"
          ],
          [
           "Physicist"
          ],
          [
           "Physicist"
          ],
          [
           "Physician"
          ],
          [
           "Physician"
          ],
          [
           "Pornographic Actor"
          ],
          [
           "(?)"
          ],
          [
           "Astronaut"
          ],
          [
           "Architect"
          ],
          [
           "Basketball Player"
          ],
          [
           "Philosopher"
          ],
          [
           "Physicist"
          ],
          [
           "(?)"
          ],
          [
           "Physicist"
          ],
          [
           "(?)"
          ],
          [
           "Computer Scientist"
          ],
          [
           "Pornographic Actor"
          ],
          [
           "Politician"
          ],
          [
           "Physicist"
          ],
          [
           "(?)"
          ],
          [
           "Magician"
          ],
          [
           "(?)"
          ],
          [
           "(?)"
          ],
          [
           "Physicist"
          ],
          [
           "Physicist"
          ],
          [
           "Physician"
          ],
          [
           "Comic Artist"
          ],
          [
           "Politician"
          ],
          [
           "Architect"
          ],
          [
           "Politician"
          ],
          [
           "Extremist"
          ],
          [
           "Pornographic Actor"
          ],
          [
           "Politician"
          ],
          [
           "Singer"
          ],
          [
           "Politician"
          ],
          [
           "Pornographic Actor"
          ],
          [
           "Pornographic Actor"
          ],
          [
           "Pornographic Actor"
          ],
          [
           "Musician"
          ],
          [
           "Politician"
          ],
          [
           "(?)"
          ],
          [
           "Comic Artist"
          ],
          [
           "Companion"
          ],
          [
           "Chemist"
          ],
          [
           "Philosopher"
          ],
          [
           "Pornographic Actor"
          ],
          [
           "Physician"
          ],
          [
           "Presenter"
          ],
          [
           "Astronaut"
          ],
          [
           "Politician"
          ],
          [
           "Basketball Player"
          ],
          [
           "Politician"
          ],
          [
           "Historian"
          ],
          [
           "Politician"
          ],
          [
           "Politician"
          ],
          [
           "(?)"
          ],
          [
           "(?)"
          ],
          [
           "Computer Scientist"
          ],
          [
           "Politician"
          ],
          [
           "Writer"
          ],
          [
           "Politician"
          ],
          [
           "Politician"
          ],
          [
           "(?)"
          ],
          [
           "Extremist"
          ],
          [
           "Politician"
          ],
          [
           "(?)"
          ],
          [
           "Philosopher"
          ],
          [
           "(?)"
          ],
          [
           "Politician"
          ],
          [
           "Physician"
          ],
          [
           "Mathematician"
          ],
          [
           "Politician"
          ],
          [
           "Writer"
          ],
          [
           "Politician"
          ],
          [
           "(?)"
          ],
          [
           "Photographer"
          ],
          [
           "Chef"
          ],
          [
           "Explorer"
          ],
          [
           "Musician"
          ],
          [
           "Musician"
          ],
          [
           "Musician"
          ],
          [
           "Musician"
          ],
          [
           "Musician"
          ],
          [
           "Musician"
          ],
          [
           "Painter"
          ],
          [
           "Philosopher"
          ],
          [
           "Philosopher"
          ],
          [
           "Philosopher"
          ],
          [
           "Physician"
          ],
          [
           "Physician"
          ],
          [
           "Physician"
          ],
          [
           "Physician"
          ],
          [
           "Physicist"
          ],
          [
           "Physicist"
          ],
          [
           "Physicist"
          ],
          [
           "Physicist"
          ],
          [
           "Physicist"
          ],
          [
           "Physicist"
          ],
          [
           "Physicist"
          ],
          [
           "Physicist"
          ],
          [
           "Pilot"
          ],
          [
           "Politician"
          ],
          [
           "Politician"
          ],
          [
           "Politician"
          ],
          [
           "Politician"
          ],
          [
           "Musician"
          ],
          [
           "Musician"
          ],
          [
           "Musician"
          ],
          [
           "Musician"
          ],
          [
           "Economist"
          ],
          [
           "Engineer"
          ],
          [
           "Engineer"
          ],
          [
           "Engineer"
          ],
          [
           "Extremist"
          ],
          [
           "Extremist"
          ],
          [
           "Extremist"
          ],
          [
           "Film Director"
          ],
          [
           "Film Director"
          ],
          [
           "Game Designer"
          ],
          [
           "Game Designer"
          ],
          [
           "Geographer"
          ],
          [
           "Geologist"
          ],
          [
           "Politician"
          ],
          [
           "Geologist"
          ],
          [
           "Historian"
          ],
          [
           "Inventor"
          ],
          [
           "Inventor"
          ],
          [
           "Inventor"
          ],
          [
           "Linguist"
          ],
          [
           "Magician"
          ],
          [
           "Martial Arts"
          ],
          [
           "Mathematician"
          ],
          [
           "Military Personnel"
          ],
          [
           "Military Personnel"
          ],
          [
           "Military Personnel"
          ],
          [
           "Musician"
          ],
          [
           "Musician"
          ],
          [
           "Gymnast"
          ],
          [
           "Politician"
          ],
          [
           "Politician"
          ],
          [
           "Politician"
          ],
          [
           "Soccer Player"
          ],
          [
           "Soccer Player"
          ],
          [
           "Soccer Player"
          ],
          [
           "Social Activist"
          ],
          [
           "Social Activist"
          ],
          [
           "Social Activist"
          ],
          [
           "Social Activist"
          ],
          [
           "Sociologist"
          ],
          [
           "Sociologist"
          ],
          [
           "Tennis Player"
          ],
          [
           "Tennis Player"
          ],
          [
           "Tennis Player"
          ],
          [
           "Tennis Player"
          ],
          [
           "Skater"
          ],
          [
           "Tennis Player"
          ],
          [
           "Wrestler"
          ],
          [
           "Wrestler"
          ],
          [
           "Wrestler"
          ],
          [
           "Writer"
          ],
          [
           "Writer"
          ],
          [
           "Writer"
          ],
          [
           "Writer"
          ],
          [
           "Writer"
          ],
          [
           "Writer"
          ],
          [
           "Writer"
          ],
          [
           "Writer"
          ],
          [
           "Actor"
          ],
          [
           "Actor"
          ],
          [
           "Wrestler"
          ],
          [
           "Economist"
          ],
          [
           "Singer"
          ],
          [
           "Singer"
          ],
          [
           "Politician"
          ],
          [
           "Politician"
          ],
          [
           "Politician"
          ],
          [
           "Politician"
          ],
          [
           "Politician"
          ],
          [
           "Politician"
          ],
          [
           "Presenter"
          ],
          [
           "Producer"
          ],
          [
           "Producer"
          ],
          [
           "Producer"
          ],
          [
           "Psychologist"
          ],
          [
           "Psychologist"
          ],
          [
           "Psychologist"
          ],
          [
           "Singer"
          ],
          [
           "Psychologist"
          ],
          [
           "Religious Figure"
          ],
          [
           "Religious Figure"
          ],
          [
           "Religious Figure"
          ],
          [
           "Sculptor"
          ],
          [
           "Singer"
          ],
          [
           "Singer"
          ],
          [
           "Singer"
          ],
          [
           "Singer"
          ],
          [
           "Singer"
          ],
          [
           "Singer"
          ],
          [
           "Singer"
          ],
          [
           "Singer"
          ],
          [
           "Singer"
          ],
          [
           "Public Worker"
          ],
          [
           "Actor"
          ],
          [
           "Economist"
          ],
          [
           "Economist"
          ],
          [
           "Musician"
          ],
          [
           "Painter"
          ],
          [
           "Physician"
          ],
          [
           "Pilot"
          ],
          [
           "Politician"
          ],
          [
           "Politician"
          ],
          [
           "Politician"
          ],
          [
           "Pornographic Actor"
          ],
          [
           "Presenter"
          ],
          [
           "Racecar Driver"
          ],
          [
           "Singer"
          ],
          [
           "Singer"
          ],
          [
           "Singer"
          ],
          [
           "Singer"
          ],
          [
           "Singer"
          ],
          [
           "Singer"
          ],
          [
           "Skier"
          ],
          [
           "Social Activist"
          ],
          [
           "Tennis Player"
          ],
          [
           "Writer"
          ],
          [
           "Writer"
          ],
          [
           "Writer"
          ],
          [
           "Actor"
          ],
          [
           "Actor"
          ],
          [
           "Actor"
          ],
          [
           "Actor"
          ],
          [
           "Actor"
          ],
          [
           "Musician"
          ],
          [
           "Musician"
          ],
          [
           "Musician"
          ],
          [
           "Journalist"
          ],
          [
           "Actor"
          ],
          [
           "Actor"
          ],
          [
           "Actor"
          ],
          [
           "Actor"
          ],
          [
           "Actor"
          ],
          [
           "Actor"
          ],
          [
           "Actor"
          ],
          [
           "Actor"
          ],
          [
           "Archaeologist"
          ],
          [
           "Astronaut"
          ],
          [
           "Astronomer"
          ],
          [
           "Athlete"
          ],
          [
           "Biologist"
          ],
          [
           "Actor"
          ],
          [
           "Biologist"
          ],
          [
           "Chef"
          ],
          [
           "Companion"
          ],
          [
           "Companion"
          ],
          [
           "Companion"
          ],
          [
           "Companion"
          ],
          [
           "Dancer"
          ],
          [
           "Dancer"
          ],
          [
           "Dancer"
          ],
          [
           "Diplomat"
          ],
          [
           "Economist"
          ],
          [
           "Film Director"
          ],
          [
           "Film Director"
          ],
          [
           "Journalist"
          ],
          [
           "Businessperson"
          ],
          [
           "Actor"
          ],
          [
           "Actor"
          ],
          [
           "Actor"
          ],
          [
           "Boxer"
          ],
          [
           "Businessperson"
          ],
          [
           "Businessperson"
          ],
          [
           "Businessperson"
          ],
          [
           "Businessperson"
          ],
          [
           "Businessperson"
          ],
          [
           "Celebrity"
          ],
          [
           "Celebrity"
          ],
          [
           "Chemist"
          ],
          [
           "Chemist"
          ],
          [
           "Chemist"
          ],
          [
           "Chessmaster"
          ],
          [
           "Comedian"
          ],
          [
           "Boxer"
          ],
          [
           "Comedian"
          ],
          [
           "Comic Artist"
          ],
          [
           "Composer"
          ],
          [
           "Composer"
          ],
          [
           "Composer"
          ],
          [
           "Computer Scientist"
          ],
          [
           "Computer Scientist"
          ],
          [
           "Conductor"
          ],
          [
           "Cricketer"
          ],
          [
           "Cyclist"
          ],
          [
           "Cyclist"
          ],
          [
           "Dancer"
          ],
          [
           "Designer"
          ],
          [
           "Diplomat"
          ],
          [
           "Comic Artist"
          ],
          [
           "Economist"
          ],
          [
           "Biologist"
          ],
          [
           "Biologist"
          ],
          [
           "Actor"
          ],
          [
           "Anthropologist"
          ],
          [
           "Anthropologist"
          ],
          [
           "Archaeologist"
          ],
          [
           "Architect"
          ],
          [
           "Architect"
          ],
          [
           "Artist"
          ],
          [
           "Artist"
          ],
          [
           "Astronaut"
          ],
          [
           "Astronaut"
          ],
          [
           "Astronaut"
          ],
          [
           "Astronaut"
          ],
          [
           "Astronomer"
          ],
          [
           "Biologist"
          ],
          [
           "Astronomer"
          ],
          [
           "Athlete"
          ],
          [
           "Athlete"
          ],
          [
           "Athlete"
          ],
          [
           "Basketball Player"
          ],
          [
           "Basketball Player"
          ],
          [
           "Basketball Player"
          ],
          [
           "Basketball Player"
          ],
          [
           "Basketball Player"
          ],
          [
           "Basketball Player"
          ],
          [
           "Basketball Player"
          ],
          [
           "Basketball Player"
          ],
          [
           "Biologist"
          ],
          [
           "Biologist"
          ],
          [
           "Athlete"
          ],
          [
           "Actor"
          ],
          [
           "Musician"
          ],
          [
           "(?)"
          ],
          [
           "Chessmaster"
          ],
          [
           "Chessmaster"
          ],
          [
           "Chemist"
          ],
          [
           "Chemist"
          ],
          [
           "Chemist"
          ],
          [
           "Athlete"
          ],
          [
           "Chemist"
          ],
          [
           "Chemist"
          ],
          [
           "Chemist"
          ],
          [
           "Chemist"
          ],
          [
           "Baseball Player"
          ],
          [
           "Baseball Player"
          ],
          [
           "Baseball Player"
          ],
          [
           "Chemist"
          ],
          [
           "Chemist"
          ],
          [
           "Comedian"
          ],
          [
           "Comic Artist"
          ],
          [
           "Astronomer"
          ],
          [
           "Astronomer"
          ],
          [
           "Composer"
          ],
          [
           "Companion"
          ],
          [
           "Artist"
          ],
          [
           "Artist"
          ],
          [
           "Companion"
          ],
          [
           "Astronaut"
          ],
          [
           "Astronaut"
          ],
          [
           "Chemist"
          ],
          [
           "Astronaut"
          ],
          [
           "Companion"
          ],
          [
           "Companion"
          ],
          [
           "Companion"
          ],
          [
           "Astronaut"
          ],
          [
           "Comic Artist"
          ],
          [
           "Comic Artist"
          ],
          [
           "Comic Artist"
          ],
          [
           "Companion"
          ],
          [
           "Chef"
          ],
          [
           "Basketball Player"
          ],
          [
           "Basketball Player"
          ],
          [
           "Biologist"
          ],
          [
           "Biologist"
          ],
          [
           "Biologist"
          ],
          [
           "Businessperson"
          ],
          [
           "Businessperson"
          ],
          [
           "Businessperson"
          ],
          [
           "Biologist"
          ],
          [
           "Businessperson"
          ],
          [
           "Biologist"
          ],
          [
           "Boxer"
          ],
          [
           "Biologist"
          ],
          [
           "Boxer"
          ],
          [
           "Boxer"
          ],
          [
           "Boxer"
          ],
          [
           "Biologist"
          ],
          [
           "Biologist"
          ],
          [
           "Businessperson"
          ],
          [
           "Architect"
          ],
          [
           "Businessperson"
          ],
          [
           "Basketball Player"
          ],
          [
           "Basketball Player"
          ],
          [
           "Celebrity"
          ],
          [
           "Celebrity"
          ],
          [
           "Basketball Player"
          ],
          [
           "Celebrity"
          ],
          [
           "Celebrity"
          ],
          [
           "Basketball Player"
          ],
          [
           "Businessperson"
          ],
          [
           "Celebrity"
          ],
          [
           "Basketball Player"
          ],
          [
           "Basketball Player"
          ],
          [
           "Basketball Player"
          ],
          [
           "Basketball Player"
          ],
          [
           "Businessperson"
          ],
          [
           "Basketball Player"
          ],
          [
           "Businessperson"
          ],
          [
           "Businessperson"
          ],
          [
           "Composer"
          ],
          [
           "Athlete"
          ],
          [
           "Actor"
          ],
          [
           "Designer"
          ],
          [
           "Diplomat"
          ],
          [
           "Dancer"
          ],
          [
           "Economist"
          ],
          [
           "Anthropologist"
          ],
          [
           "Actor"
          ],
          [
           "Economist"
          ],
          [
           "Anthropologist"
          ],
          [
           "Cyclist"
          ],
          [
           "Actor"
          ],
          [
           "Anthropologist"
          ],
          [
           "Cyclist"
          ],
          [
           "Computer Scientist"
          ],
          [
           "Computer Scientist"
          ],
          [
           "Actor"
          ],
          [
           "Actor"
          ],
          [
           "American Football Player"
          ],
          [
           "Diplomat"
          ],
          [
           "Critic"
          ],
          [
           "Actor"
          ],
          [
           "Computer Scientist"
          ],
          [
           "Diplomat"
          ],
          [
           "Actor"
          ],
          [
           "Singer"
          ],
          [
           "Artist"
          ],
          [
           "Computer Scientist"
          ],
          [
           "Wrestler"
          ],
          [
           "(?)"
          ],
          [
           "Mafioso"
          ],
          [
           "Philosopher"
          ],
          [
           "Social Activist"
          ],
          [
           "Astronomer"
          ],
          [
           "Comic Artist"
          ],
          [
           "Singer"
          ],
          [
           "Writer"
          ],
          [
           "Social Activist"
          ],
          [
           "Businessperson"
          ],
          [
           "Physician"
          ],
          [
           "Politician"
          ],
          [
           "Physician"
          ],
          [
           "Inventor"
          ],
          [
           "Inventor"
          ],
          [
           "(?)"
          ],
          [
           "Mathematician"
          ],
          [
           "Inventor"
          ],
          [
           "Chessmaster"
          ],
          [
           "Economist"
          ],
          [
           "Economist"
          ],
          [
           "Businessperson"
          ],
          [
           "Diplomat"
          ],
          [
           "(?)"
          ],
          [
           "Businessperson"
          ],
          [
           "(?)"
          ],
          [
           "Companion"
          ],
          [
           "Comic Artist"
          ],
          [
           "Engineer"
          ],
          [
           "Inventor"
          ],
          [
           "Psychologist"
          ],
          [
           "Soccer Player"
          ],
          [
           "Chemist"
          ],
          [
           "Athlete"
          ],
          [
           "Companion"
          ],
          [
           "(?)"
          ],
          [
           "(?)"
          ],
          [
           "Computer Scientist"
          ],
          [
           "Composer"
          ],
          [
           "(?)"
          ],
          [
           "Celebrity"
          ],
          [
           "Extremist"
          ],
          [
           "Companion"
          ],
          [
           "Composer"
          ],
          [
           "Astronaut"
          ],
          [
           "Actor"
          ],
          [
           "(?)"
          ],
          [
           "Film Director"
          ],
          [
           "(?)"
          ],
          [
           "Actor"
          ],
          [
           "Companion"
          ],
          [
           "(?)"
          ],
          [
           "Businessperson"
          ],
          [
           "Film Director"
          ],
          [
           "Engineer"
          ],
          [
           "Engineer"
          ],
          [
           "Actor"
          ],
          [
           "Actor"
          ],
          [
           "Actor"
          ],
          [
           "Politician"
          ],
          [
           "Basketball Player"
          ],
          [
           "Actor"
          ],
          [
           "Historian"
          ],
          [
           "Religious Figure"
          ],
          [
           "Extremist"
          ],
          [
           "Actor"
          ],
          [
           "(?)"
          ],
          [
           "(?)"
          ],
          [
           "Economist"
          ],
          [
           "Writer"
          ],
          [
           "Economist"
          ],
          [
           "Musician"
          ],
          [
           "Economist"
          ],
          [
           "Film Director"
          ],
          [
           "Economist"
          ],
          [
           "Businessperson"
          ],
          [
           "Fashion Designer"
          ],
          [
           "Economist"
          ],
          [
           "Economist"
          ],
          [
           "(?)"
          ],
          [
           "Musician"
          ],
          [
           "(?)"
          ],
          [
           "Engineer"
          ],
          [
           "Politician"
          ],
          [
           "(?)"
          ],
          [
           "Extremist"
          ],
          [
           "Designer"
          ],
          [
           "Military Personnel"
          ],
          [
           "Physician"
          ],
          [
           "Celebrity"
          ],
          [
           "Actor"
          ],
          [
           "Artist"
          ],
          [
           "(?)"
          ],
          [
           "Extremist"
          ],
          [
           "Judge"
          ],
          [
           "Lawyer"
          ],
          [
           "Writer"
          ],
          [
           "Archaeologist"
          ],
          [
           "Historian"
          ],
          [
           "Businessperson"
          ],
          [
           "Inventor"
          ],
          [
           "Computer Scientist"
          ],
          [
           "Architect"
          ],
          [
           "Physician"
          ],
          [
           "Golfer"
          ],
          [
           "Mathematician"
          ],
          [
           "(?)"
          ],
          [
           "(?)"
          ],
          [
           "Linguist"
          ],
          [
           "Psychologist"
          ],
          [
           "Philosopher"
          ],
          [
           "Historian"
          ],
          [
           "Inventor"
          ],
          [
           "Singer"
          ],
          [
           "Inventor"
          ],
          [
           "(?)"
          ],
          [
           "Politician"
          ],
          [
           "Computer Scientist"
          ],
          [
           "Composer"
          ],
          [
           "Inventor"
          ],
          [
           "Tennis Player"
          ],
          [
           "(?)"
          ],
          [
           "Social Activist"
          ],
          [
           "Singer"
          ],
          [
           "Computer Scientist"
          ],
          [
           "Engineer"
          ],
          [
           "Inventor"
          ],
          [
           "Engineer"
          ],
          [
           "Dancer"
          ],
          [
           "Politician"
          ],
          [
           "Actor"
          ],
          [
           "Writer"
          ],
          [
           "Actor"
          ],
          [
           "(?)"
          ],
          [
           "(?)"
          ],
          [
           "Politician"
          ],
          [
           "Gymnast"
          ],
          [
           "Film Director"
          ],
          [
           "Biologist"
          ],
          [
           "Businessperson"
          ],
          [
           "Inventor"
          ],
          [
           "Military Personnel"
          ],
          [
           "Politician"
          ],
          [
           "Dancer"
          ],
          [
           "Computer Scientist"
          ],
          [
           "Companion"
          ],
          [
           "Actor"
          ],
          [
           "Chemist"
          ],
          [
           "Celebrity"
          ],
          [
           "Explorer"
          ],
          [
           "Physician"
          ],
          [
           "Chemist"
          ],
          [
           "(?)"
          ],
          [
           "Chemist"
          ],
          [
           "Diplomat"
          ],
          [
           "Film Director"
          ],
          [
           "Golfer"
          ],
          [
           "Politician"
          ],
          [
           "Basketball Player"
          ],
          [
           "Tennis Player"
          ],
          [
           "Companion"
          ],
          [
           "(?)"
          ],
          [
           "Explorer"
          ],
          [
           "Musician"
          ],
          [
           "(?)"
          ],
          [
           "Mathematician"
          ],
          [
           "Baseball Player"
          ],
          [
           "Architect"
          ],
          [
           "Mafioso"
          ],
          [
           "Writer"
          ],
          [
           "Astronomer"
          ],
          [
           "Historian"
          ],
          [
           "Basketball Player"
          ],
          [
           "Musician"
          ],
          [
           "Basketball Player"
          ],
          [
           "Martial Arts"
          ],
          [
           "Mathematician"
          ],
          [
           "Basketball Player"
          ],
          [
           "Biologist"
          ],
          [
           "(?)"
          ],
          [
           "Actor"
          ],
          [
           "Wrestler"
          ],
          [
           "Religious Figure"
          ],
          [
           "Wrestler"
          ],
          [
           "Wrestler"
          ],
          [
           "Racecar Driver"
          ],
          [
           "Physician"
          ],
          [
           "Basketball Player"
          ],
          [
           "Physician"
          ],
          [
           "Wrestler"
          ],
          [
           "Psychologist"
          ],
          [
           "Writer"
          ],
          [
           "Psychologist"
          ],
          [
           "Writer"
          ],
          [
           "Writer"
          ],
          [
           "Physician"
          ],
          [
           "Writer"
          ],
          [
           "Writer"
          ],
          [
           "Physician"
          ],
          [
           "Presenter"
          ],
          [
           "Wrestler"
          ],
          [
           "Musician"
          ],
          [
           "Painter"
          ],
          [
           "Musician"
          ],
          [
           "Musician"
          ],
          [
           "Baseball Player"
          ],
          [
           "Painter"
          ],
          [
           "Wrestler"
          ],
          [
           "Painter"
          ],
          [
           "Actor"
          ],
          [
           "Businessperson"
          ],
          [
           "Photographer"
          ],
          [
           "Politician"
          ],
          [
           "Philosopher"
          ],
          [
           "Politician"
          ],
          [
           "Baseball Player"
          ],
          [
           "Physician"
          ],
          [
           "Singer"
          ],
          [
           "Architect"
          ],
          [
           "Social Activist"
          ],
          [
           "Architect"
          ],
          [
           "Physicist"
          ],
          [
           "Pilot"
          ],
          [
           "Singer"
          ],
          [
           "Singer"
          ],
          [
           "Singer"
          ],
          [
           "Religious Figure"
          ],
          [
           "Soccer Player"
          ],
          [
           "Physicist"
          ],
          [
           "Astronaut"
          ],
          [
           "Skater"
          ],
          [
           "Soccer Player"
          ],
          [
           "Wrestler"
          ],
          [
           "Social Activist"
          ],
          [
           "Singer"
          ],
          [
           "Politician"
          ],
          [
           "Wrestler"
          ],
          [
           "Religious Figure"
          ],
          [
           "Wrestler"
          ],
          [
           "Swimmer"
          ],
          [
           "Swimmer"
          ],
          [
           "Astronomer"
          ],
          [
           "Athlete"
          ],
          [
           "Physicist"
          ],
          [
           "Social Activist"
          ],
          [
           "Politician"
          ],
          [
           "Presenter"
          ],
          [
           "Politician"
          ],
          [
           "Presenter"
          ],
          [
           "Tennis Player"
          ],
          [
           "Actor"
          ],
          [
           "Skier"
          ],
          [
           "Businessperson"
          ],
          [
           "Musician"
          ],
          [
           "Explorer"
          ],
          [
           "Mafioso"
          ],
          [
           "Pornographic Actor"
          ],
          [
           "Actor"
          ],
          [
           "Actor"
          ],
          [
           "Linguist"
          ],
          [
           "Military Personnel"
          ],
          [
           "Military Personnel"
          ],
          [
           "Military Personnel"
          ],
          [
           "Mafioso"
          ],
          [
           "Inventor"
          ],
          [
           "Biologist"
          ],
          [
           "Politician"
          ],
          [
           "Politician"
          ],
          [
           "Military Personnel"
          ],
          [
           "Musician"
          ],
          [
           "Lawyer"
          ],
          [
           "Musician"
          ],
          [
           "Soccer Player"
          ],
          [
           "Social Activist"
          ],
          [
           "Presenter"
          ],
          [
           "(?)"
          ],
          [
           "Extremist"
          ],
          [
           "Film Director"
          ],
          [
           "Writer"
          ],
          [
           "Celebrity"
          ],
          [
           "Celebrity"
          ],
          [
           "(?)"
          ],
          [
           "(?)"
          ],
          [
           "Politician"
          ],
          [
           "Writer"
          ],
          [
           "Writer"
          ],
          [
           "Mathematician"
          ],
          [
           "Chemist"
          ],
          [
           "Biologist"
          ],
          [
           "Military Personnel"
          ],
          [
           "(?)"
          ],
          [
           "Physician"
          ],
          [
           "Boxer"
          ],
          [
           "Designer"
          ],
          [
           "Model"
          ],
          [
           "Racecar Driver"
          ],
          [
           "Social Activist"
          ],
          [
           "Skater"
          ],
          [
           "Cyclist"
          ],
          [
           "Wrestler"
          ],
          [
           "Military Personnel"
          ],
          [
           "Historian"
          ],
          [
           "(?)"
          ],
          [
           "Actor"
          ],
          [
           "Presenter"
          ],
          [
           "Military Personnel"
          ],
          [
           "Writer"
          ],
          [
           "Model"
          ],
          [
           "Soccer Player"
          ],
          [
           "Mathematician"
          ],
          [
           "Baseball Player"
          ],
          [
           "Athlete"
          ],
          [
           "Writer"
          ],
          [
           "Singer"
          ],
          [
           "Businessperson"
          ],
          [
           "Religious Figure"
          ],
          [
           "Politician"
          ],
          [
           "(?)"
          ],
          [
           "Writer"
          ],
          [
           "Swimmer"
          ],
          [
           "Astronaut"
          ],
          [
           "Pirate"
          ],
          [
           "Singer"
          ],
          [
           "Actor"
          ],
          [
           "Astronaut"
          ],
          [
           "Engineer"
          ],
          [
           "Actor"
          ],
          [
           "Celebrity"
          ],
          [
           "(?)"
          ],
          [
           "Astronaut"
          ],
          [
           "Physicist"
          ],
          [
           "Celebrity"
          ],
          [
           "Chemist"
          ],
          [
           "Critic"
          ],
          [
           "Architect"
          ],
          [
           "Mathematician"
          ],
          [
           "Companion"
          ],
          [
           "Economist"
          ],
          [
           "(?)"
          ],
          [
           "Businessperson"
          ],
          [
           "Sculptor"
          ],
          [
           "Presenter"
          ],
          [
           "Skater"
          ],
          [
           "(?)"
          ],
          [
           "Social Activist"
          ],
          [
           "Chessmaster"
          ],
          [
           "Inventor"
          ],
          [
           "Explorer"
          ],
          [
           "Actor"
          ],
          [
           "Skater"
          ],
          [
           "Model"
          ],
          [
           "Singer"
          ],
          [
           "Actor"
          ],
          [
           "Biologist"
          ],
          [
           "Basketball Player"
          ],
          [
           "Singer"
          ],
          [
           "Political Scientist"
          ],
          [
           "Basketball Player"
          ],
          [
           "Wrestler"
          ],
          [
           "Architect"
          ],
          [
           "Social Activist"
          ],
          [
           "Basketball Player"
          ],
          [
           "Singer"
          ],
          [
           "Companion"
          ],
          [
           "Singer"
          ],
          [
           "Politician"
          ],
          [
           "Presenter"
          ],
          [
           "Basketball Player"
          ],
          [
           "Politician"
          ],
          [
           "Economist"
          ],
          [
           "Actor"
          ],
          [
           "Economist"
          ],
          [
           "Actor"
          ],
          [
           "Economist"
          ],
          [
           "Inventor"
          ],
          [
           "Actor"
          ],
          [
           "Singer"
          ],
          [
           "(?)"
          ],
          [
           "Singer"
          ],
          [
           "Writer"
          ],
          [
           "Wrestler"
          ],
          [
           "Politician"
          ],
          [
           "Inventor"
          ],
          [
           "(?)"
          ],
          [
           "Writer"
          ],
          [
           "Inventor"
          ],
          [
           "Actor"
          ],
          [
           "Actor"
          ],
          [
           "Writer"
          ],
          [
           "Chemist"
          ],
          [
           "Composer"
          ],
          [
           "Singer"
          ],
          [
           "Biologist"
          ],
          [
           "(?)"
          ],
          [
           "Singer"
          ],
          [
           "Architect"
          ],
          [
           "Producer"
          ],
          [
           "Politician"
          ],
          [
           "Writer"
          ],
          [
           "Actor"
          ],
          [
           "Politician"
          ],
          [
           "Economist"
          ],
          [
           "Sociologist"
          ],
          [
           "Politician"
          ],
          [
           "Designer"
          ],
          [
           "Economist"
          ],
          [
           "Tennis Player"
          ],
          [
           "(?)"
          ],
          [
           "Businessperson"
          ],
          [
           "Referee"
          ],
          [
           "Politician"
          ],
          [
           "Engineer"
          ],
          [
           "Computer Scientist"
          ],
          [
           "Computer Scientist"
          ],
          [
           "Actor"
          ],
          [
           "Musician"
          ],
          [
           "Wrestler"
          ],
          [
           "Writer"
          ],
          [
           "Politician"
          ],
          [
           "Anthropologist"
          ],
          [
           "Politician"
          ],
          [
           "Musician"
          ],
          [
           "Wrestler"
          ],
          [
           "Musician"
          ],
          [
           "(?)"
          ],
          [
           "Lawyer"
          ],
          [
           "Tennis Player"
          ],
          [
           "Philosopher"
          ],
          [
           "(?)"
          ],
          [
           "Politician"
          ],
          [
           "Writer"
          ],
          [
           "Extremist"
          ],
          [
           "Anthropologist"
          ],
          [
           "Historian"
          ],
          [
           "Diplomat"
          ],
          [
           "Singer"
          ],
          [
           "Actor"
          ],
          [
           "Film Director"
          ],
          [
           "(?)"
          ],
          [
           "Politician"
          ],
          [
           "Sociologist"
          ],
          [
           "(?)"
          ],
          [
           "Sociologist"
          ],
          [
           "Actor"
          ],
          [
           "Writer"
          ],
          [
           "Engineer"
          ],
          [
           "Presenter"
          ],
          [
           "Pornographic Actor"
          ],
          [
           "Pornographic Actor"
          ],
          [
           "Politician"
          ],
          [
           "Film Director"
          ],
          [
           "Psychologist"
          ],
          [
           "Pornographic Actor"
          ],
          [
           "Astronomer"
          ],
          [
           "Psychologist"
          ],
          [
           "(?)"
          ],
          [
           "Musician"
          ],
          [
           "Wrestler"
          ],
          [
           "(?)"
          ],
          [
           "Tennis Player"
          ],
          [
           "Social Activist"
          ],
          [
           "Basketball Player"
          ],
          [
           "Computer Scientist"
          ],
          [
           "Mountaineer"
          ],
          [
           "Basketball Player"
          ],
          [
           "Musician"
          ],
          [
           "Painter"
          ],
          [
           "Musician"
          ],
          [
           "(?)"
          ],
          [
           "(?)"
          ],
          [
           "Religious Figure"
          ],
          [
           "Basketball Player"
          ],
          [
           "Basketball Player"
          ],
          [
           "Musician"
          ],
          [
           "Musician"
          ],
          [
           "Economist"
          ],
          [
           "Musician"
          ],
          [
           "Computer Scientist"
          ],
          [
           "Pilot"
          ],
          [
           "Musician"
          ],
          [
           "Musician"
          ],
          [
           "Physician"
          ],
          [
           "Musician"
          ],
          [
           "Computer Scientist"
          ],
          [
           "Composer"
          ],
          [
           "Photographer"
          ],
          [
           "Physicist"
          ],
          [
           "Chemist"
          ],
          [
           "Basketball Player"
          ],
          [
           "Chemist"
          ],
          [
           "Basketball Player"
          ],
          [
           "Physician"
          ],
          [
           "(?)"
          ],
          [
           "Physician"
          ],
          [
           "Comic Artist"
          ],
          [
           "Comic Artist"
          ],
          [
           "Actor"
          ],
          [
           "Comic Artist"
          ],
          [
           "Physician"
          ],
          [
           "Writer"
          ],
          [
           "Composer"
          ],
          [
           "Model"
          ],
          [
           "Physician"
          ],
          [
           "(?)"
          ],
          [
           "Painter"
          ],
          [
           "Physicist"
          ],
          [
           "Economist"
          ],
          [
           "Economist"
          ],
          [
           "Mathematician"
          ],
          [
           "Inventor"
          ],
          [
           "Politician"
          ],
          [
           "Mathematician"
          ],
          [
           "(?)"
          ],
          [
           "Film Director"
          ],
          [
           "Film Director"
          ],
          [
           "Film Director"
          ],
          [
           "Film Director"
          ],
          [
           "Game Designer"
          ],
          [
           "Mafioso"
          ],
          [
           "Judge"
          ],
          [
           "Biologist"
          ],
          [
           "Musician"
          ],
          [
           "Game Designer"
          ],
          [
           "Companion"
          ],
          [
           "Inventor"
          ],
          [
           "Biologist"
          ],
          [
           "Inventor"
          ],
          [
           "Mathematician"
          ],
          [
           "Economist"
          ],
          [
           "Mathematician"
          ],
          [
           "Writer"
          ],
          [
           "Biologist"
          ],
          [
           "(?)"
          ],
          [
           "Mountaineer"
          ],
          [
           "Businessperson"
          ],
          [
           "Explorer"
          ],
          [
           "Explorer"
          ],
          [
           "Musician"
          ],
          [
           "Physician"
          ],
          [
           "Biologist"
          ],
          [
           "Extremist"
          ],
          [
           "Military Personnel"
          ],
          [
           "Military Personnel"
          ],
          [
           "Film Director"
          ],
          [
           "Film Director"
          ],
          [
           "Film Director"
          ],
          [
           "Companion"
          ],
          [
           "(?)"
          ],
          [
           "(?)"
          ],
          [
           "Military Personnel"
          ],
          [
           "Film Director"
          ],
          [
           "Writer"
          ],
          [
           "Physicist"
          ],
          [
           "Chef"
          ],
          [
           "Racecar Driver"
          ],
          [
           "Racecar Driver"
          ],
          [
           "Astronaut"
          ],
          [
           "Psychologist"
          ],
          [
           "Artist"
          ],
          [
           "Historian"
          ],
          [
           "Social Activist"
          ],
          [
           "Astronomer"
          ],
          [
           "(?)"
          ],
          [
           "Astronaut"
          ],
          [
           "Sociologist"
          ],
          [
           "Astronaut"
          ],
          [
           "Physicist"
          ],
          [
           "Producer"
          ],
          [
           "Singer"
          ],
          [
           "Astronomer"
          ],
          [
           "Producer"
          ],
          [
           "Presenter"
          ],
          [
           "Astronomer"
          ],
          [
           "Lawyer"
          ],
          [
           "Astronomer"
          ],
          [
           "Architect"
          ],
          [
           "Architect"
          ],
          [
           "Actor"
          ],
          [
           "Military Personnel"
          ],
          [
           "Actor"
          ],
          [
           "Soccer Player"
          ],
          [
           "Philosopher"
          ],
          [
           "Physicist"
          ],
          [
           "Actor"
          ],
          [
           "(?)"
          ],
          [
           "Actor"
          ],
          [
           "Soccer Player"
          ],
          [
           "Religious Figure"
          ],
          [
           "Inventor"
          ],
          [
           "Judge"
          ],
          [
           "Historian"
          ],
          [
           "Anthropologist"
          ],
          [
           "(?)"
          ],
          [
           "Religious Figure"
          ],
          [
           "Archaeologist"
          ],
          [
           "Social Activist"
          ],
          [
           "Religious Figure"
          ],
          [
           "Astronomer"
          ],
          [
           "Astronomer"
          ],
          [
           "Mafioso"
          ],
          [
           "Boxer"
          ],
          [
           "Military Personnel"
          ],
          [
           "Military Personnel"
          ],
          [
           "Wrestler"
          ],
          [
           "Military Personnel"
          ],
          [
           "Wrestler"
          ],
          [
           "Businessperson"
          ],
          [
           "Businessperson"
          ],
          [
           "(?)"
          ],
          [
           "Politician"
          ],
          [
           "(?)"
          ],
          [
           "Military Personnel"
          ],
          [
           "Businessperson"
          ],
          [
           "Politician"
          ],
          [
           "Basketball Player"
          ],
          [
           "Writer"
          ],
          [
           "Celebrity"
          ],
          [
           "Military Personnel"
          ],
          [
           "Basketball Player"
          ],
          [
           "Pornographic Actor"
          ],
          [
           "Politician"
          ],
          [
           "Biologist"
          ],
          [
           "Chemist"
          ],
          [
           "Mafioso"
          ],
          [
           "Presenter"
          ],
          [
           "Athlete"
          ],
          [
           "Politician"
          ],
          [
           "Chemist"
          ],
          [
           "Politician"
          ],
          [
           "Baseball Player"
          ],
          [
           "Basketball Player"
          ],
          [
           "Politician"
          ],
          [
           "Skier"
          ],
          [
           "Athlete"
          ],
          [
           "Athlete"
          ],
          [
           "Basketball Player"
          ],
          [
           "Tennis Player"
          ],
          [
           "Politician"
          ],
          [
           "Chemist"
          ],
          [
           "Athlete"
          ],
          [
           "Actor"
          ],
          [
           "Basketball Player"
          ],
          [
           "Wrestler"
          ],
          [
           "Basketball Player"
          ],
          [
           "Astronaut"
          ]
         ],
         "domain": {
          "x": [
           0,
           1
          ],
          "y": [
           0,
           1
          ]
         },
         "hovertemplate": "labels=%{label}<br>historical_popularity_index=%{value}<br>parent=%{parent}<br>id=%{id}<br>occupation=%{customdata[0]}<extra></extra>",
         "ids": [
          "Individual Sports/NE",
          "Government/Sin nombre/Public Worker",
          "Government/NE",
          "Business/NE/Businessperson",
          "Natural Sciences/CT/Physicist/Male",
          "Law/SD",
          "Individual Sports/Sin nombre/Wrestler/Male",
          "Fine Arts/GA",
          "Media Personality/MS/Presenter",
          "Natural Sciences/IN/Physicist/Male",
          "Military/Württemberg",
          "Business/IN",
          "Media Personality/IA/Presenter",
          "Social Sciences/Yvelines/Economist/Male",
          "Music/NJ/Musician",
          "Explorers/TN/Explorer/Male",
          "Social Sciences/SD/Economist/Male",
          "Religion/VT/Religious Figure",
          "Government/County Mayo/Politician/Female",
          "Music/AR/Singer/Male",
          "Natural Sciences/VT",
          "Philosophy/Shandong Province/Philosopher/Male",
          "Music/NC/Singer/Male",
          "Activism/AL",
          "Natural Sciences/Ardennes",
          "Team Sports/WA/Soccer Player",
          "Military/TX/Military Personnel/Male",
          "Film And Theatre/Sin nombre/Comedian",
          "Music/Komi ASSR/Singer",
          "Language/CO",
          "Law/SD/Lawyer/Male",
          "Language/PA/Writer",
          "Social Sciences/CO/Sociologist/Male",
          "Military/TX",
          "Companions/Sin nombre/Companion",
          "Language/KY/Writer",
          "Language/MD/Writer/Male",
          "Natural Sciences/UT/Chemist/Male",
          "Film And Theatre/MO/Actor",
          "Individual Sports/IL/Wrestler",
          "Medicine/PA/Physician",
          "Government/OH",
          "Invention/MI",
          "Individual Sports/OK",
          "Government/IN/Politician",
          "Music/NV",
          "Individual Sports/MN/Tennis Player",
          "Business/NY/Businessperson/Male",
          "Math/MO",
          "Government/ID/Politician",
          "Individual Sports/TX/Athlete/Male",
          "Business/Sin nombre/Businessperson/Male",
          "Individual Sports/KS",
          "Music/OK",
          "Government/PA/Politician",
          "Language/MS/Writer/Male",
          "Medicine/PA",
          "Team Sports/WV/Basketball Player",
          "Fine Arts/Sin nombre/Painter",
          "Social Sciences/NY/Political Scientist/Male",
          "Social Sciences/NJ/Economist",
          "Government/WA/Politician",
          "Team Sports/PA/Basketball Player",
          "Film And Theatre/CT/Actor/Male",
          "Media Personality/MO/Presenter/Male",
          "Film And Theatre/MA/Actor/Male",
          "Companions/Sin nombre/Companion/Male",
          "Film And Theatre/CA/Actor",
          "Music/MD/Composer",
          "Philosophy/MD/Philosopher",
          "Team Sports/VA/Basketball Player",
          "Individual Sports/NH/Wrestler/Male",
          "Natural Sciences/OH/Chemist/Male",
          "Individual Sports/NY/Athlete",
          "Media Personality/Sin nombre/Magician/Male",
          "Outlaws/TX/Mafioso/Male",
          "Government/MO/Politician/Male",
          "Individual Sports/MO",
          "Design/Sin nombre/Game Designer",
          "Film And Theatre/NC/Actor/Male",
          "Media Personality/MO",
          "Activism/MD",
          "History/Sin nombre/Historian/Male",
          "Team Sports/GA",
          "Natural Sciences/NY/Biologist/Male",
          "Government/CA/Judge",
          "Media Personality/NY/Model/Female",
          "Social Sciences/Sin nombre/Psychologist/Male",
          "Music/MD/Singer/Female",
          "Design/PA/Architect",
          "Language/MN/Writer/Male",
          "Social Sciences/Yvelines",
          "Activism/CT",
          "Natural Sciences/KS/Chemist/Male",
          "Individual Sports/NY/Tennis Player/Female",
          "Social Sciences/NY/Psychologist/Male",
          "Film And Theatre/CA/Film Director",
          "Government/NJ/Politician",
          "Music/CA/Singer",
          "Individual Sports/MN/Skier/Female",
          "Religion/Galilee",
          "Religion/Gilead",
          "Military/MO/Military Personnel",
          "Natural Sciences/ID/Physicist/Male",
          "Explorers/Cáceres",
          "Design/MI/Game Designer",
          "Military/WV/Pilot/Male",
          "Media Personality/KY/Celebrity/Male",
          "Language/Sin nombre",
          "Film And Theatre/IA/Actor",
          "Natural Sciences/CO/Physicist/Male",
          "Music/PA/Musician",
          "Business/OK",
          "Music/KS",
          "Business/CA",
          "Government/Oxfordshire/Politician/Male",
          "Invention/WA",
          "Music/NJ/Singer",
          "Music/Sin nombre/Composer",
          "Activism/NY",
          "Government/CO/Politician",
          "Media Personality/NY/Model",
          "Language/NC/Writer/Male",
          "Military/MO/Military Personnel/Male",
          "Social Sciences/IN/Economist",
          "Music/MS/Singer/Female",
          "Individual Sports/Sin nombre/Snooker",
          "Government/ID/Politician/Female",
          "Engineering/NJ",
          "Fine Arts/WY",
          "Design/Sin nombre/Comic Artist/Female",
          "Natural Sciences/NY/Physicist",
          "Military/OH/Military Personnel/Male",
          "Military/NY",
          "Individual Sports/Sin nombre/Swimmer/Female",
          "Business/TN/Businessperson/Male",
          "Film And Theatre/OH/Actor/Female",
          "Outlaws/Sin nombre/Extremist/Male",
          "Fine Arts/Sin nombre",
          "Media Personality/CA/Pornographic Actor/Female",
          "Companions/IL/Companion",
          "Film And Theatre/MI/Film Director/Male",
          "Government/VT/Politician",
          "Individual Sports/CA/Racecar Driver/Male",
          "Government/Sin nombre/Nobleman/Male",
          "Business/NC",
          "Government/VA/Judge",
          "Media Personality/CA/Celebrity/Female",
          "Language/MD",
          "Individual Sports/Sin nombre/Athlete",
          "Natural Sciences/NY",
          "Film And Theatre/UT/Actor",
          "Design/CT",
          "Natural Sciences/OR",
          "Language/LA/Writer/Male",
          "Individual Sports/NY",
          "Government/AL/Politician/Male",
          "Music/CT/Musician",
          "Social Sciences/TX/Sociologist",
          "Social Sciences/VT/Psychologist/Male",
          "Design/PA",
          "Government/Segovia",
          "Language/IN/Writer/Male",
          "Team Sports/KY",
          "Natural Sciences/TX/Astronomer",
          "Social Sciences/NE",
          "Natural Sciences/OH",
          "Film And Theatre/NC",
          "Invention/AL/Inventor",
          "Music/LA/Singer",
          "Individual Sports/TX/Cyclist/Male",
          "Explorers/VA/Explorer/Male",
          "Companions/TX",
          "Design/Sin nombre/Architect/Male",
          "Dance/CA/Dancer",
          "Language/CT",
          "Individual Sports/NC/Tennis Player",
          "Government/MD/Politician/Female",
          "Team Sports/CA/American Football Player/Male",
          "Social Sciences/NY/Political Scientist",
          "Medicine/MD/Physician/Male",
          "Music/NY/Composer/Male",
          "Language/NE/Writer",
          "Explorers/OK",
          "Individual Sports/IL/Chessmaster/Male",
          "Individual Sports/FL/Tennis Player",
          "Music/NJ",
          "Companions/NY",
          "Team Sports/IN/Basketball Player",
          "Natural Sciences/Sin nombre/Physicist",
          "Natural Sciences/NY/Astronomer",
          "Government/Buckinghamshire/Politician",
          "Natural Sciences/Sin nombre/Archaeologist",
          "Government/ND/Politician",
          "Media Personality/MA",
          "Computer Science/CT/Computer Scientist/Male",
          "Film And Theatre/NM/Actor",
          "Language/RI/Writer/Male",
          "Business/Sin nombre/Producer/Male",
          "Government/OH/Politician/Male",
          "Social Sciences/IL/Political Scientist",
          "Explorers/OK/Astronaut",
          "Team Sports/NJ",
          "Natural Sciences/MO",
          "Music/NM/Singer",
          "Natural Sciences/IN/Chemist",
          "Outlaws/IL/Mafioso/Male",
          "Law/Sin nombre",
          "Individual Sports/NJ/Tennis Player/Male",
          "Fine Arts/WI/Artist/Female",
          "Natural Sciences/VT/Chemist",
          "Team Sports/Galicia/Soccer Player/Male",
          "Design/NY/Fashion Designer/Male",
          "Fine Arts/Sin nombre/Photographer/Male",
          "Fine Arts/IA/Photographer/Male",
          "Natural Sciences/TX/Chemist",
          "Computer Science/NY/Computer Scientist/Female",
          "Business/KS",
          "Individual Sports/MA/Boxer",
          "Natural Sciences/NH/Astronomer",
          "Music/MD/Musician/Male",
          "Government/CT",
          "Natural Sciences/OH/Physicist/Male",
          "Philosophy/Sin nombre/Philosopher/Female",
          "Government/Anhui",
          "Film And Theatre/UT",
          "Natural Sciences/Sin nombre/Physicist/Female",
          "Individual Sports/MA/Wrestler",
          "Film And Theatre/MI/Actor",
          "Natural Sciences/CT",
          "Individual Sports/MO/Wrestler",
          "Natural Sciences/WI/Chemist/Male",
          "Government/Sin nombre/Judge/Male",
          "Activism/Sin nombre/Social Activist/Male",
          "Film And Theatre/ND/Actor",
          "Music/IA/Singer",
          "Natural Sciences/MO/Chemist",
          "Medicine/WI/Physician",
          "Business/NM",
          "Business/NM/Businessperson/Male",
          "Explorers/TX/Astronaut/Male",
          "Companions/MA/Companion",
          "Music/VT",
          "Music/OH/Composer",
          "Film And Theatre/VA/Actor",
          "Individual Sports/Sin nombre/Snooker/Male",
          "Natural Sciences/TX",
          "Military/Sin nombre/Pilot",
          "Religion",
          "Business/TX/Businessperson/Male",
          "Natural Sciences/PA/Archaeologist",
          "Computer Science/CA/Computer Scientist",
          "Music/AZ/Musician/Female",
          "Math/Sin nombre/Mathematician/Male",
          "Social Sciences/WA/Economist",
          "Individual Sports/Sin nombre/Skier/Male",
          "Film And Theatre/OK/Actor/Male",
          "Music/VA/Singer",
          "Computer Science/MA/Computer Scientist/Male",
          "Medicine/NY/Physician/Male",
          "Fine Arts/Sin nombre/Artist",
          "Film And Theatre/NE/Actor/Female",
          "Film And Theatre/CO/Film Director/Male",
          "Individual Sports/OH/Wrestler/Male",
          "Natural Sciences/DE/Astronomer",
          "Business/IN/Businessperson",
          "Music/VA/Singer/Female",
          "Film And Theatre/MT/Actor/Female",
          "Language/OR/Writer/Male",
          "Media Personality/MO/Presenter",
          "Music/VA/Musician",
          "Individual Sports/MN/Skier",
          "Music/AL",
          "Language/AL/Writer/Female",
          "Language/IA/Writer/Male",
          "Language/IL/Writer/Male",
          "Social Sciences/IN/Economist/Male",
          "Language/OK/Writer/Male",
          "Government/ID",
          "Film And Theatre/KY/Actor/Female",
          "Government/Wales/Politician/Female",
          "Religion/Calabria",
          "Dance/Sin nombre",
          "Team Sports/Sin nombre/Hockey Player/Male",
          "Film And Theatre/IL/Actor",
          "Computer Science/PA",
          "Individual Sports/MD/Tennis Player/Male",
          "Government/HI/Politician/Male",
          "Film And Theatre/FL/Actor",
          "Military/Württemberg/Military Personnel",
          "Religion/Calabria/Religious Figure/Male",
          "Film And Theatre/Sin nombre/Comedian/Male",
          "Media Personality/TX/Presenter/Male",
          "Natural Sciences/NH",
          "Team Sports/Sin nombre/Coach/Male",
          "Design/OR",
          "Music/Sin nombre/Composer/Male",
          "Government/WI/Politician/Male",
          "Invention/MI/Inventor/Male",
          "Business/WA",
          "Social Sciences/NY/Economist",
          "Business/Sin nombre",
          "Team Sports/Galicia/Soccer Player",
          "Social Sciences/PA/Economist/Male",
          "Film And Theatre/VA",
          "Invention/Sin nombre/Inventor",
          "Team Sports/OH/Soccer Player/Male",
          "Team Sports/CO",
          "Film And Theatre/WA/Actor",
          "Team Sports/TX",
          "Computer Science/CT",
          "Social Sciences/SC/Psychologist/Male",
          "Team Sports/PA/Basketball Player/Male",
          "Companions/NY/Companion/Female",
          "Government/KS",
          "Natural Sciences/TN/Astronomer",
          "Explorers/Sin nombre/Astronaut/Male",
          "Military/Sin nombre/Military Personnel/Male",
          "Language/KY/Writer/Male",
          "Individual Sports/CA/Wrestler",
          "Music/NY/Singer/Male",
          "Film And Theatre/TX/Actor/Female",
          "Design/Sin nombre/Fashion Designer/Male",
          "Team Sports/TN/Basketball Player/Male",
          "Fine Arts/IA/Painter/Male",
          "Individual Sports/MI/Tennis Player",
          "Music/UT/Musician",
          "Natural Sciences/NJ/Physicist",
          "Natural Sciences/Sin nombre/Physicist/Male",
          "Natural Sciences/WI/Physicist",
          "Government/Pernambuco/Politician/Male",
          "Film And Theatre/ME/Film Director/Male",
          "Music/OH/Composer/Male",
          "Individual Sports/NV/Tennis Player",
          "Natural Sciences/CT/Biologist/Male",
          "Music/TN/Musician/Male",
          "Government/ND",
          "Activism/GA/Social Activist/Male",
          "Explorers/VA/Explorer",
          "Government/SD/Politician/Male",
          "Medicine/CA/Physician",
          "Film And Theatre/MS/Actor/Female",
          "Companions/NV/Companion/Female",
          "Natural Sciences/NE/Biologist",
          "Individual Sports/NJ/Swimmer/Female",
          "Music/SC/Musician",
          "Natural Sciences/PA/Biologist",
          "Dance/CA/Dancer/Female",
          "Music/Sin nombre/Singer/Female",
          "Film And Theatre/UT/Actor/Female",
          "Design/NY/Comic Artist",
          "Natural Sciences/NY/Astronomer/Male",
          "Natural Sciences/IL/Astronomer/Male",
          "History/NY/Historian/Male",
          "Medicine/NJ",
          "Government/CT/Politician",
          "Film And Theatre/MD/Actor",
          "Language/NY/Journalist",
          "Natural Sciences/Sin nombre/Chemist",
          "Natural Sciences/VT/Chemist/Male",
          "Natural Sciences/NY/Chemist/Male",
          "Individual Sports/VA/Tennis Player/Male",
          "Natural Sciences/CT/Astronomer/Male",
          "Music/NC/Singer",
          "Media Personality/IL",
          "Music/NC/Musician",
          "Film And Theatre/SC",
          "Computer Science/MD",
          "Music/VA",
          "Military/Pyrénées-Atlantiques/Military Personnel",
          "Natural Sciences/IL/Biologist",
          "Film And Theatre/MA/Actor",
          "Team Sports/LA/Basketball Player",
          "Language/NJ/Journalist",
          "Natural Sciences/NC/Chemist/Male",
          "Film And Theatre/AR",
          "Explorers/CA/Astronaut",
          "Fine Arts/Sin nombre/Painter/Male",
          "Military/WV/Military Personnel/Male",
          "Language/NY/Linguist",
          "Individual Sports/LA/Chessmaster",
          "Outlaws/Sin nombre/Mafioso",
          "Natural Sciences/MN/Chemist",
          "Individual Sports/MD/Swimmer/Male",
          "Philosophy/MD/Philosopher/Male",
          "Individual Sports/MA/Boxer/Male",
          "Religion/Sin nombre/Religious Figure",
          "Math/NY/Mathematician",
          "Philosophy/OH/Philosopher/Female",
          "Religion/Sin nombre/Religious Figure/Female",
          "Math/Sin nombre/Statistician",
          "Outlaws/NY/Extremist/Male",
          "Business/KY",
          "Media Personality/NY/Pornographic Actor/Female",
          "Film And Theatre/PA",
          "Philosophy/MA/Philosopher",
          "Film And Theatre/MD/Actor/Male",
          "Film And Theatre/TX/Comedian",
          "Language/IL/Linguist",
          "Government/MD",
          "Film And Theatre/OK/Actor/Female",
          "Team Sports/Sin nombre/Baseball Player/Male",
          "Activism/VT/Social Activist/Female",
          "Music/GA/Singer/Female",
          "Explorers/NJ",
          "Fine Arts/NY/Painter/Male",
          "Film And Theatre/GA",
          "Religion/Piedmont/Religious Figure/Male",
          "Government/TN/Politician/Male",
          "Social Sciences/NJ/Economist/Male",
          "Individual Sports/NY/Boxer/Male",
          "Music/IL/Singer/Female",
          "Music/KY/Musician/Male",
          "Math/CT",
          "Music/NE/Musician",
          "Outlaws/OH/Extremist/Male",
          "Dance/CA",
          "Individual Sports/Loire",
          "Military/CT",
          "Team Sports/Sin nombre/Soccer Player/Female",
          "Individual Sports/NH/Skier/Male",
          "Social Sciences/Sin nombre/Economist/Female",
          "Philosophy/OH/Philosopher/Male",
          "Activism/ME/Social Activist/Female",
          "Film And Theatre/CT/Actor/Female",
          "Social Sciences/Yvelines/Economist",
          "Natural Sciences/DE/Biologist/Male",
          "Film And Theatre/NJ/Actor",
          "Team Sports/CO/Basketball Player/Male",
          "Outlaws/NY",
          "Natural Sciences/MT/Astronomer",
          "Film And Theatre/Sin nombre/Actor",
          "Film And Theatre/MT",
          "Companions",
          "Military/Sin nombre",
          "Film And Theatre/DE",
          "Individual Sports/TX/Boxer",
          "Individual Sports/CA/Golfer/Male",
          "Law/OH/Lawyer/Male",
          "Fine Arts/WI",
          "Team Sports/NJ/Soccer Player",
          "Government/CA/Diplomat/Male",
          "Natural Sciences/Sin nombre/Biologist/Female",
          "Individual Sports/Loire/Racecar Driver",
          "Fine Arts/IA/Painter",
          "Explorers/IN/Astronaut/Male",
          "Design/WI/Architect",
          "Film And Theatre/TN/Film Director/Male",
          "Dance/PA/Dancer",
          "Government/WA/Politician/Male",
          "Natural Sciences/MA/Chemist",
          "Film And Theatre/IA/Actor/Female",
          "Natural Sciences/MA/Biologist",
          "Team Sports/Sin nombre/Referee/Male",
          "Film And Theatre/SC/Actor/Female",
          "Computer Science/WI",
          "Team Sports/GA/Baseball Player/Male",
          "Government/AL",
          "Film And Theatre/PA/Actor",
          "Music/HI/Singer/Female",
          "Natural Sciences/IL/Astronomer",
          "Film And Theatre/SD/Actor",
          "Government/CO",
          "Individual Sports/CA/Athlete",
          "Law/WV/Lawyer",
          "Individual Sports/GA/Athlete/Male",
          "Individual Sports/NE/Tennis Player/Male",
          "Natural Sciences/DE",
          "Companions/VA/Companion",
          "Film And Theatre/WI/Actor/Male",
          "Social Sciences/Sin nombre/Political Scientist/Male",
          "Media Personality/TN/Presenter/Male",
          "Natural Sciences/NY/Physicist/Female",
          "Music/CT/Composer/Male",
          "Film And Theatre/HI/Actor",
          "Fine Arts/PA",
          "Invention/NY/Inventor",
          "Individual Sports/TX/Athlete",
          "Government/CA/Politician",
          "Computer Science/MA",
          "Team Sports/MD/Baseball Player/Male",
          "Film And Theatre/AR/Actor/Male",
          "Government/VA/Politician",
          "Language/WI",
          "Business/PA/Producer",
          "Business/HI/Businessperson",
          "Government/TX/Politician/Female",
          "Language/GA",
          "Dance/MO/Dancer",
          "Religion/NC/Religious Figure/Male",
          "Government/NY/Judge/Male",
          "Film And Theatre/TN",
          "Invention/Sin nombre/Inventor/Male",
          "Activism/ME/Social Activist",
          "Military/OH/Military Personnel",
          "Natural Sciences/ID/Physicist",
          "Invention/CT/Inventor",
          "Language/Sin nombre/Critic",
          "Explorers/NM",
          "Music/CA/Musician",
          "Social Sciences/OR/Economist",
          "Natural Sciences/ID",
          "Natural Sciences/MA/Astronomer/Male",
          "Individual Sports/IN/Athlete/Male",
          "Activism/NE/Social Activist/Male",
          "Medicine/AL/Physician/Male",
          "Music/FL",
          "Natural Sciences/FL",
          "Individual Sports/AL/Athlete",
          "Film And Theatre/TN/Actor/Male",
          "Individual Sports/MI/Wrestler",
          "Social Sciences/PA/Anthropologist/Female",
          "Individual Sports/NC/Wrestler",
          "Explorers/OH/Astronaut/Female",
          "Media Personality/Sin nombre/Magician",
          "Medicine/WA/Physician",
          "Design/OR/Comic Artist",
          "Invention/MI/Inventor",
          "Individual Sports/VA",
          "Team Sports/Sin nombre/Basketball Player/Male",
          "Social Sciences/NC/Economist",
          "Music/MO/Musician/Male",
          "Film And Theatre/FL/Actor/Male",
          "Film And Theatre/CO/Actor/Female",
          "Explorers/PA",
          "Business/MI/Producer",
          "Film And Theatre/KY/Film Director",
          "Film And Theatre/WA/Actor/Male",
          "Film And Theatre/VA/Actor/Male",
          "Social Sciences/MA/Economist",
          "Government/NH",
          "Film And Theatre/NE/Actor/Male",
          "Philosophy/MD",
          "Individual Sports/Sin nombre/Chessmaster/Male",
          "Team Sports/NJ/Basketball Player/Male",
          "Military/OH",
          "Team Sports/OH",
          "Film And Theatre/MT/Actor/Male",
          "Government/HI/Nobleman",
          "Music/IA/Musician/Male",
          "Natural Sciences/IN/Chemist/Male",
          "Fine Arts/PA/Sculptor/Male",
          "Government/AL/Politician",
          "Natural Sciences/NJ/Physicist/Male",
          "Math/Cantal",
          "Film And Theatre/LA",
          "Natural Sciences/MN/Biologist/Male",
          "Team Sports/TX/Soccer Player/Male",
          "Team Sports/Sin nombre/Soccer Player/Male",
          "Activism/NY/Social Activist/Female",
          "Government/MD/Politician",
          "Military/SC/Military Personnel/Male",
          "Film And Theatre/RI",
          "Music/TN/Musician",
          "Government/LA/Politician",
          "Individual Sports/CA",
          "Government/VA/Politician/Male",
          "Natural Sciences/SC",
          "Team Sports/Sin nombre/Coach",
          "Media Personality/NJ/Magician",
          "Team Sports/Sin nombre/Hockey Player",
          "Music/LA/Singer/Male",
          "Media Personality/NY/Magician/Male",
          "Music/WA/Musician/Male",
          "Music/HI/Singer",
          "Language/CA",
          "Religion/NC",
          "Fine Arts/TX/Painter/Male",
          "Medicine",
          "Social Sciences/Sin nombre",
          "Team Sports/AL",
          "Religion/Sin nombre",
          "Natural Sciences/TX/Astronomer/Male",
          "Music/IN",
          "Language/CO/Writer/Male",
          "Individual Sports/OH/Wrestler",
          "Individual Sports/MI/Tennis Player/Female",
          "Language/MD/Writer",
          "Natural Sciences/MI/Biologist",
          "Language/OH/Writer/Male",
          "Music/WA/Musician",
          "Film And Theatre/MA/Film Director/Male",
          "Language/MD/Writer/Female",
          "Social Sciences/MI",
          "Activism/MA",
          "Computer Science/PA/Computer Scientist/Male",
          "Philosophy/Indre-et-Loire/Philosopher",
          "Computer Science/CA/Computer Scientist/Male",
          "Government/Segovia/Politician",
          "History/Sin nombre/Historian",
          "Social Sciences",
          "Film And Theatre/IN/Actor/Male",
          "Business/KS/Businessperson/Male",
          "Government/Oxfordshire/Politician",
          "Computer Science/MD/Computer Scientist/Male",
          "Invention/OR/Inventor/Male",
          "Media Personality/Sin nombre",
          "Government/Anhui/Politician/Male",
          "Outlaws/MO",
          "Computer Science/LA/Computer Scientist/Male",
          "Music/MI",
          "Individual Sports/OH/Athlete/Male",
          "Team Sports/CO/Basketball Player",
          "Natural Sciences/IA/Astronomer",
          "Language/ME/Writer/Male",
          "Film And Theatre/MN/Actor",
          "Military/MI/Pilot",
          "Individual Sports/OK/Athlete/Male",
          "Team Sports/IL/Soccer Player/Male",
          "Language/RI",
          "Government/IN/Politician/Male",
          "Individual Sports/FL/Racecar Driver",
          "Film And Theatre/IL",
          "Fine Arts/CT/Photographer/Female",
          "Natural Sciences/Sin nombre/Biologist/Male",
          "Government/ME/Politician/Male",
          "Individual Sports/NY/Wrestler/Male",
          "Team Sports/Sin nombre/Cricketer",
          "Medicine/Sin nombre/Physician/Female",
          "Language/CA/Writer/Male",
          "Individual Sports/IN",
          "Music/MO",
          "Invention/AL/Inventor/Male",
          "Government/CT/Politician/Male",
          "Computer Science/MI/Computer Scientist",
          "Fine Arts/CA/Photographer/Male",
          "Social Sciences/IL/Political Scientist/Male",
          "Social Sciences/SD/Economist",
          "Social Sciences/GA/Economist",
          "Music/Sin nombre/Conductor",
          "Religion/Gilead/Religious Figure/Male",
          "Fine Arts/GA/Painter/Male",
          "Language/CA/Writer",
          "Language/NC/Writer",
          "Language/LA/Writer",
          "Philosophy/Indre-et-Loire/Philosopher/Male",
          "History",
          "Film And Theatre/MD/Actor/Female",
          "Music/WA",
          "Philosophy/NY/Philosopher/Male",
          "Military/Sin nombre/Pilot/Male",
          "Social Sciences/NY/Anthropologist/Female",
          "Activism/NE/Social Activist",
          "Language/ID/Writer",
          "Music/CA/Singer/Male",
          "Fine Arts/Sin nombre/Artist/Female",
          "Social Sciences/CA/Economist",
          "Music/IN/Singer/Male",
          "Business/TX/Businessperson/Female",
          "Government/Buckinghamshire/Politician/Male",
          "Natural Sciences/NE",
          "Team Sports/AL/Soccer Player/Female",
          "Film And Theatre/IN/Film Director/Male",
          "Music/IA/Musician",
          "Business/MI/Businessperson",
          "Music/LA/Musician",
          "Music/PA/Singer/Female",
          "Business/CA/Businessperson",
          "Business/IL/Producer",
          "Music/PA/Musician/Male",
          "Team Sports/IN",
          "Activism/AL/Social Activist/Female",
          "Language/LA/Writer/Female",
          "Government/MI/Diplomat/Male",
          "Language/LA",
          "Language/SC/Writer/Male",
          "Film And Theatre/KY/Film Director/Male",
          "Philosophy/CO/Philosopher",
          "Philosophy/OH/Philosopher",
          "Film And Theatre/MS/Actor/Male",
          "Film And Theatre/KS/Actor",
          "Film And Theatre/ND/Actor/Male",
          "Activism/ME",
          "Natural Sciences/Sin nombre/Chemist/Male",
          "Film And Theatre/OR/Actor",
          "Individual Sports/KY/Athlete",
          "Fine Arts/NY",
          "Engineering/MO",
          "Business/MI/Businessperson/Male",
          "Natural Sciences/NH/Astronomer/Male",
          "Individual Sports/Sin nombre/Athlete/Male",
          "Team Sports/OH/Basketball Player/Male",
          "Film And Theatre/CA/Actor/Male",
          "Individual Sports/MA/Wrestler/Male",
          "Religion/Calabria/Religious Figure",
          "Design/MI/Comic Artist",
          "Music/UT/Musician/Female",
          "Social Sciences/CO",
          "Government/HI/Nobleman/Female",
          "Media Personality/TN/Model/Female",
          "Individual Sports/TN",
          "Language/PA/Linguist/Male",
          "Music/FL/Singer",
          "Military/Sin nombre/Pilot/Female",
          "Music/TX/Musician/Female",
          "Government/IA/Politician/Female",
          "Military/CA/Military Personnel/Male",
          "Design/Sin nombre/Fashion Designer/Female",
          "Religion/Galilee/Religious Figure",
          "Music/MA/Musician/Male",
          "Invention/CA",
          "Individual Sports/Sin nombre/Golfer/Male",
          "Government/CA",
          "Individual Sports/IL/Athlete",
          "Natural Sciences/CT/Physicist",
          "Music/MA/Composer",
          "Social Sciences/NE/Economist",
          "Music/NJ/Singer/Male",
          "Government/VT/Politician/Male",
          "Music/ND/Singer/Male",
          "Natural Sciences/MA/Astronomer",
          "Natural Sciences/NY/Archaeologist",
          "Natural Sciences/MO/Astronomer",
          "Music/Sin nombre/Singer/Male",
          "Outlaws/Sin nombre/Pirate",
          "Music/SC/Singer",
          "Government/TX/Politician/Male",
          "Fine Arts/OK/Artist",
          "Outlaws/VT/Extremist",
          "Individual Sports/MD/Tennis Player",
          "Engineering/MO/Engineer",
          "Fine Arts/WI/Artist",
          "Music/IL/Singer/Male",
          "Engineering/NJ/Engineer",
          "Outlaws/NY/Extremist",
          "Music/OH/Singer",
          "Government/ME/Politician",
          "Explorers/NM/Astronaut",
          "Government/NC/Politician",
          "Media Personality/TX/Celebrity",
          "Military/WV/Military Personnel",
          "Individual Sports/GA/Wrestler/Male",
          "Social Sciences/VT/Psychologist",
          "Activism/IL/Social Activist",
          "Media Personality/CA/Celebrity",
          "Film And Theatre/WI/Film Director",
          "Math/Sin nombre/Statistician/Male",
          "Military/CT/Military Personnel",
          "Activism/MA/Social Activist/Male",
          "Music/GA/Singer",
          "Individual Sports/TN/Athlete",
          "Language/MA/Writer/Male",
          "Government/NY/Diplomat",
          "Activism/SC/Social Activist",
          "Language/NJ/Writer/Male",
          "Media Personality/NY/Magician",
          "Film And Theatre/AL/Actor",
          "Film And Theatre/CO/Actor",
          "Computer Science/MA/Computer Scientist",
          "Music/MA/Singer",
          "Individual Sports/CA/Skater/Male",
          "Individual Sports/VA/Athlete",
          "Individual Sports/NJ/Swimmer",
          "Film And Theatre/TN/Film Director",
          "Music/MD/Singer/Male",
          "Film And Theatre/AL/Actor/Female",
          "Individual Sports/NJ/Tennis Player",
          "Natural Sciences/GA",
          "Natural Sciences/MA/Biologist/Male",
          "Individual Sports/NC",
          "Individual Sports/GA",
          "Language/NC",
          "Invention/CA/Inventor/Male",
          "Activism/MA/Social Activist/Female",
          "Companions/KY/Companion/Female",
          "Social Sciences/CT",
          "Team Sports/WV/Basketball Player/Male",
          "Individual Sports/CA/Swimmer/Female",
          "Government/CA/Judge/Male",
          "Law/WV/Lawyer/Male",
          "Language/NY/Linguist/Male",
          "Film And Theatre/WI/Film Director/Male",
          "Media Personality/Sin nombre/Celebrity/Female",
          "Media Personality/PA/Celebrity/Female",
          "Government/SC/Politician/Male",
          "Natural Sciences/CO",
          "Military/NJ/Military Personnel/Male",
          "Natural Sciences/PA/Biologist/Female",
          "Language/CT/Writer/Female",
          "Individual Sports/IL/Athlete/Female",
          "Individual Sports/CA/Athlete/Female",
          "Language/GA/Writer/Female",
          "Team Sports/IN/Basketball Player/Male",
          "Religion/PA",
          "Natural Sciences/MA/Astronomer/Female",
          "Music/MN/Musician/Male",
          "Language/MO/Writer/Female",
          "Math/NY/Mathematician/Male",
          "Government/VA/Diplomat/Female",
          "Music/IA",
          "Outlaws/Sin nombre/Extremist/Female",
          "Music/NH/Singer/Female",
          "Music/MA/Singer/Female",
          "Design/OR/Comic Artist/Male",
          "Natural Sciences/MN/Chemist/Male",
          "Music/NJ/Singer/Female",
          "Music/CA/Singer/Female",
          "Natural Sciences/MA/Chemist/Male",
          "Film And Theatre/SD",
          "Natural Sciences/IA/Chemist/Male",
          "Natural Sciences/GA/Chemist/Male",
          "Companions/MA",
          "Natural Sciences/CT/Chemist/Male",
          "Government/HI/Politician/Female",
          "Music/OK/Singer/Female",
          "Government/CT/Diplomat/Male",
          "Natural Sciences/MI",
          "Government/Sin nombre/Nobleman/Female",
          "Film And Theatre/NY/Film Director/Female",
          "Activism/IL/Social Activist/Female",
          "Language/Sin nombre/Journalist/Female",
          "Government/NY/Judge/Female",
          "Individual Sports/Sin nombre/Boxer/Male",
          "Language/IL",
          "Music/NE/Musician/Male",
          "Business/IL/Businessperson/Male",
          "Military/Sin nombre/Military Personnel/Female",
          "Media Personality/CA/Model/Female",
          "Language/OK",
          "Business/IN/Businessperson/Male",
          "Social Sciences/WA/Economist/Male",
          "Team Sports/TN",
          "Music/IL",
          "Music/NH/Musician/Male",
          "Natural Sciences/SC/Chemist/Male",
          "Natural Sciences/MD/Physicist/Male",
          "Natural Sciences/Ardennes/Astronomer/Male",
          "Explorers",
          "Film And Theatre/HI/Actor/Female",
          "Military/NJ",
          "Film And Theatre/MN/Actor/Male",
          "Film And Theatre/IA/Actor/Male",
          "Film And Theatre/KY/Actor/Male",
          "Language/WA/Writer",
          "Design/CT/Architect/Male",
          "Language/NH/Writer",
          "Language/WV/Writer/Female",
          "Film And Theatre/CO/Actor/Male",
          "Film And Theatre/AL/Actor/Male",
          "Natural Sciences/IA/Astronomer/Male",
          "Natural Sciences/WA/Physicist/Male",
          "Film And Theatre/TN/Actor/Female",
          "Film And Theatre/NJ/Actor/Female",
          "Film And Theatre/RI/Actor/Female",
          "Music/NY",
          "Design/Sin nombre/Architect/Female",
          "Film And Theatre/AR/Actor/Female",
          "Government/KS/Politician/Male",
          "Film And Theatre/CA/Actor/Female",
          "Film And Theatre/NJ",
          "Language/MN/Writer",
          "Film And Theatre/DE/Actor/Female",
          "Military/MI",
          "Outlaws/MD/Extremist",
          "Business/MI",
          "Fine Arts/TX",
          "Invention/MA/Inventor/Male",
          "Business/NC/Businessperson",
          "Individual Sports/NE/Wrestler",
          "Math/MA/Mathematician",
          "Language/MA/Writer/Female",
          "Fine Arts/OK/Artist/Female",
          "Team Sports/WA/Soccer Player/Female",
          "Natural Sciences/PA/Physicist/Male",
          "Design/Sin nombre/Designer",
          "Government/Württemberg/Politician/Male",
          "Outlaws/IN/Mafioso/Male",
          "Philosophy/CO/Philosopher/Male",
          "Natural Sciences/CT/Chemist",
          "Natural Sciences/MD/Chemist",
          "Government/WI/Diplomat/Male",
          "Film And Theatre/MN/Actor/Female",
          "Film And Theatre/MO/Actor/Female",
          "Language/GA/Writer",
          "Language/IL/Writer",
          "Language/NE/Writer/Male",
          "Engineering/NJ/Engineer/Male",
          "Natural Sciences/OR/Chemist",
          "Social Sciences/CT/Economist/Male",
          "Government/NY/Diplomat/Male",
          "Team Sports/Sin nombre",
          "Military/NY/Military Personnel",
          "Language/Sin nombre/Critic/Male",
          "Government/Württemberg/Politician",
          "Government/Wales/Politician",
          "Medicine/NY/Physician",
          "Government/MA",
          "Individual Sports/Sin nombre/Tennis Player",
          "Philosophy/Shandong Province/Philosopher",
          "Individual Sports/AL/Boxer",
          "Law/WV",
          "Language/IL/Linguist/Male",
          "Government/Pernambuco",
          "Activism/NE",
          "Government/Sin nombre/Nobleman",
          "Music/CT",
          "Music/CA/Composer",
          "Music/MN/Singer",
          "Individual Sports/FL/Tennis Player/Female",
          "Language/Sin nombre/Journalist/Male",
          "Music/TX/Musician/Male",
          "Team Sports/CA",
          "Natural Sciences/MA/Physicist",
          "Invention/NY/Inventor/Male",
          "Music/NH",
          "Natural Sciences/IA/Biologist/Male",
          "Natural Sciences/UT/Biologist/Male",
          "Film And Theatre/Sin nombre/Film Director/Male",
          "Social Sciences/GA",
          "Individual Sports/NY/Swimmer/Male",
          "Music/NY/Singer",
          "Government/AZ",
          "Natural Sciences/PA",
          "Business/NY",
          "Fine Arts/MA/Painter/Male",
          "Activism/AL/Social Activist",
          "Military/VA",
          "Film And Theatre/Sin nombre",
          "Natural Sciences/MO/Astronomer/Male",
          "Individual Sports/NH",
          "Religion/Lazio",
          "Invention/CT",
          "Music/TX/Singer",
          "Music/MI/Musician",
          "Media Personality/PA",
          "Social Sciences/PA",
          "Film And Theatre/OR",
          "Government/SD",
          "Fine Arts/IA/Photographer",
          "Fine Arts/Sin nombre/Photographer",
          "Fine Arts/GA/Painter",
          "Music/MN/Musician",
          "Government/PA",
          "Language/PA",
          "Music/NH/Musician",
          "Music/OH/Musician",
          "Philosophy/NY/Philosopher",
          "Music/OK/Musician",
          "Individual Sports/SC",
          "Music/ND/Musician",
          "Philosophy/Sin nombre/Philosopher",
          "Language/SC",
          "Military/SC",
          "Activism/SC",
          "Music/MS/Musician",
          "Social Sciences/SC",
          "Music/MO/Musician",
          "Business/PA",
          "Invention/PA",
          "Music/IN/Musician",
          "Religion/Piedmont",
          "Fine Arts/CT/Photographer",
          "Fine Arts/NY/Painter",
          "Fine Arts/MA/Painter",
          "Fine Arts/CA/Photographer",
          "Government/TX",
          "Social Sciences/SD",
          "Film And Theatre/NY/Film Director",
          "Film And Theatre/OH/Film Director",
          "Film And Theatre/PA/Film Director",
          "Activism",
          "Government/Wales",
          "Film And Theatre/TX/Film Director",
          "Design/GA/Game Designer",
          "Team Sports/WV",
          "Military/WV",
          "Math/WV",
          "Social Sciences/Sin nombre/Geographer",
          "Natural Sciences/OH/Geologist",
          "Natural Sciences/Sin nombre/Geologist",
          "Individual Sports/Sin nombre/Gymnast",
          "Language/WV",
          "History/MA/Historian",
          "History/OH/Historian",
          "Social Sciences/WI",
          "Natural Sciences/WI",
          "Film And Theatre/NM/Film Director",
          "Film And Theatre/MT/Film Director",
          "Computer Science",
          "Film And Theatre/MO/Film Director",
          "Outlaws/IN/Extremist",
          "Outlaws/OH/Extremist",
          "Philosophy",
          "Natural Sciences",
          "Outlaws/WI/Extremist",
          "Design/NY/Fashion Designer",
          "Military",
          "Media Personality",
          "Film And Theatre/GA/Film Director",
          "Medicine/WI",
          "Law",
          "Invention",
          "Individual Sports",
          "Film And Theatre/IL/Film Director",
          "Film And Theatre/IN/Film Director",
          "Government",
          "Film And Theatre/MA/Film Director",
          "Dance",
          "Film And Theatre/ME/Film Director",
          "Film And Theatre/MI/Film Director",
          "Language",
          "Music/IL/Musician",
          "Invention/WI",
          "Film And Theatre/WA",
          "Math/NJ/Mathematician",
          "Media Personality/TN",
          "Math/WV/Mathematician",
          "Government/TN",
          "Medicine/Sin nombre",
          "Math/Sin nombre",
          "Military/PA/Military Personnel",
          "Government/Sin nombre",
          "Military/TX/Military Personnel",
          "Military/VA/Military Personnel",
          "Explorers/Sin nombre",
          "Design/Sin nombre",
          "Media Personality/Sin nombre/Model",
          "Companions/Sin nombre",
          "Media Personality/TN/Model",
          "Music/AL/Musician",
          "Music/AZ/Musician",
          "Team Sports/Sao Paulo",
          "Music/GA/Musician",
          "Social Sciences/TN",
          "Math/Cantal/Mathematician",
          "Business/TX",
          "Explorers/TX",
          "Activism/WA",
          "Invention/PA/Inventor",
          "Religion/VT",
          "Outlaws/VT",
          "Government/VT",
          "Natural Sciences/VA",
          "Language/Sin nombre/Journalist",
          "Language/VA",
          "Natural Sciences/UT",
          "Medicine/WA",
          "Law/OH/Lawyer",
          "Law/Sin nombre/Lawyer",
          "Outlaws/TX",
          "Medicine/TX",
          "Language/TX",
          "Language/PA/Linguist",
          "Individual Sports/TX",
          "Language/Sin nombre/Linguist",
          "Outlaws/IL/Mafioso",
          "Film And Theatre/TX",
          "Activism/Tamaulipas",
          "Medicine/IN/Physician",
          "Music/ND",
          "Medicine/MN/Physician",
          "Music/AR/Singer",
          "Music/AZ/Singer",
          "Fine Arts/CT",
          "Film And Theatre/CT",
          "Philosophy/CO",
          "Music/IL/Singer",
          "Natural Sciences/CA",
          "Music/CA",
          "Military/CA",
          "Music/AL/Singer",
          "Media Personality/CA",
          "Film And Theatre/CA",
          "Explorers/CA",
          "Music/MO/Singer",
          "Design/CA",
          "Music/ND/Singer",
          "Music/NH/Singer",
          "Companions/CA",
          "Government/Buckinghamshire",
          "Film And Theatre/AZ",
          "Outlaws/IL/Extremist",
          "Fine Arts/Sin nombre/Sculptor",
          "Fine Arts/PA/Sculptor",
          "Government/County Mayo",
          "Natural Sciences/IL",
          "Business/NY/Producer",
          "Individual Sports/IL",
          "Government/IL",
          "Explorers/IL",
          "Business/TX/Producer",
          "Social Sciences/NJ/Psychologist",
          "Social Sciences/NY/Psychologist",
          "Social Sciences/SC/Psychologist",
          "Film And Theatre/ID",
          "Social Sciences/Sin nombre/Psychologist",
          "Film And Theatre/HI",
          "Team Sports/Galicia",
          "Individual Sports/CA/Racecar Driver",
          "Individual Sports/WI/Racecar Driver",
          "Music/GA",
          "Religion/Ancona/Religious Figure",
          "Film And Theatre/FL",
          "Religion/Gilead/Religious Figure",
          "Religion/Lazio/Religious Figure",
          "Religion/Piedmont/Religious Figure",
          "Team Sports/AR",
          "Music/OK/Singer",
          "Music/PA/Singer",
          "Music/AR",
          "Language/MA/Writer",
          "Activism/Tamaulipas/Social Activist",
          "Activism/WA/Social Activist",
          "Social Sciences/NY/Sociologist",
          "Social Sciences/PA/Sociologist",
          "Social Sciences/Sin nombre/Sociologist",
          "Language/CO/Writer",
          "Language/AR/Writer",
          "Individual Sports/CA/Swimmer",
          "Language/AL/Writer",
          "Individual Sports/SC/Wrestler",
          "Individual Sports/MD/Swimmer",
          "Individual Sports/PA/Wrestler",
          "Individual Sports/OK/Wrestler",
          "Individual Sports/Sin nombre/Swimmer",
          "Individual Sports/CA/Tennis Player",
          "Individual Sports/NY/Wrestler",
          "Individual Sports/NH/Wrestler",
          "Individual Sports/IN/Wrestler",
          "Individual Sports/VA/Tennis Player",
          "Individual Sports/IL/Tennis Player",
          "Language/ME/Writer",
          "Social Sciences/IL",
          "Language/MO/Writer",
          "Activism/MA/Social Activist",
          "Military/AR",
          "Government/AR",
          "Music/Sin nombre/Singer",
          "Natural Sciences/AL",
          "Music/TN/Singer",
          "Individual Sports/PA/Skater",
          "Medicine/AL",
          "Language/AL",
          "Invention/AL",
          "Team Sports/AL/Soccer Player",
          "Individual Sports/AL",
          "Language/WV/Writer",
          "Language/WI/Writer",
          "Team Sports/Sin nombre/Soccer Player",
          "Language/VA/Writer",
          "Team Sports/Victoria/Soccer Player",
          "Language/TX/Writer",
          "Language/OK/Writer",
          "Language/NJ/Writer",
          "Activism/Eastern Cape/Social Activist",
          "Language/MS/Writer",
          "Activism/MD/Social Activist",
          "Media Personality/TN/Presenter",
          "Team Sports/IL",
          "Computer Science/IN",
          "Natural Sciences/SC/Physicist",
          "Explorers/NH",
          "Language/NE",
          "Natural Sciences/VA/Physicist",
          "Natural Sciences/WA/Physicist",
          "Military/KS/Pilot",
          "Film And Theatre/ND",
          "Team Sports/NC",
          "Social Sciences/NC",
          "Natural Sciences/NC",
          "Music/NC",
          "Natural Sciences/MT",
          "Government/AR/Politician",
          "Music/MS",
          "Media Personality/MS",
          "Language/MS",
          "Film And Theatre/MS",
          "Government/IA/Politician",
          "Language/MO",
          "Music/MN",
          "Language/MN",
          "Medicine/NH",
          "Individual Sports/MN",
          "Natural Sciences/NE/Physicist",
          "Natural Sciences/MI/Physicist",
          "Medicine/NH/Physician",
          "Medicine/NJ/Physician",
          "Media Personality/OH",
          "Individual Sports/OH",
          "Explorers/OH",
          "Design/OH",
          "Team Sports/NY",
          "Philosophy/NY",
          "Natural Sciences/CA/Physicist",
          "Media Personality/NY",
          "Natural Sciences/CO/Physicist",
          "Language/NY",
          "Computer Science/NY",
          "Media Personality/NV",
          "Government/NM",
          "Natural Sciences/IL/Physicist",
          "Social Sciences/NJ",
          "Media Personality/NJ",
          "Language/NJ",
          "Individual Sports/NJ",
          "Natural Sciences/MD/Physicist",
          "Natural Sciences/MO/Physicist",
          "Medicine/MA/Physician",
          "Design/MN",
          "Government/MA/Politician",
          "Design/MA",
          "Government/La Rioja",
          "Outlaws/LA",
          "Media Personality/CA/Pornographic Actor",
          "Government/LA",
          "Music/Komi ASSR",
          "Government/Kaluga Oblast",
          "Media Personality/NV/Pornographic Actor",
          "Media Personality/NY/Pornographic Actor",
          "Media Personality/OH/Pornographic Actor",
          "Music/KY",
          "Government/KY",
          "Film And Theatre/KY",
          "Design/KY",
          "Companions/KY",
          "Natural Sciences/KS",
          "Philosophy/Indre-et-Loire",
          "Media Personality/Sin nombre/Pornographic Actor",
          "Medicine/IN",
          "Media Personality/IN/Presenter",
          "Explorers/IN",
          "Government/TN/Politician",
          "Team Sports/MI",
          "Government/Sin nombre/Politician",
          "History/MA",
          "Government/MI/Politician",
          "Government/MO/Politician",
          "Government/MI",
          "Film And Theatre/MI",
          "Computer Science/MI",
          "Government/NH/Politician",
          "Language/ME",
          "Government/ME",
          "Government/NM/Politician",
          "Film And Theatre/ME",
          "Outlaws/MD",
          "Government/OH/Politician",
          "Social Sciences/MA",
          "Philosophy/MA",
          "Natural Sciences/MA",
          "Government/Pernambuco/Politician",
          "Medicine/MA",
          "Math/MA",
          "Government/SC/Politician",
          "Language/MA",
          "Government/SD/Politician",
          "Film And Theatre/MA",
          "Fine Arts/CA",
          "Media Personality/Sin nombre/Chef",
          "Explorers/Sin nombre/Explorer",
          "Music/NC/Musician/Male",
          "Music/NY/Musician/Male",
          "Music/OH/Musician/Male",
          "Music/OK/Musician/Male",
          "Music/SC/Musician/Male",
          "Music/Sin nombre/Musician/Male",
          "Fine Arts/WY/Painter/Male",
          "Philosophy/IL/Philosopher/Male",
          "Philosophy/MA/Philosopher/Male",
          "Philosophy/Sin nombre/Philosopher/Male",
          "Medicine/MI/Physician/Male",
          "Medicine/Sin nombre/Physician/Male",
          "Medicine/WA/Physician/Male",
          "Medicine/WI/Physician/Male",
          "Natural Sciences/CA/Physicist/Male",
          "Natural Sciences/FL/Physicist/Male",
          "Natural Sciences/MA/Physicist/Male",
          "Natural Sciences/MI/Physicist/Male",
          "Natural Sciences/NY/Physicist/Male",
          "Natural Sciences/SC/Physicist/Male",
          "Natural Sciences/VA/Physicist/Male",
          "Natural Sciences/WI/Physicist/Male",
          "Military/MI/Pilot/Male",
          "Government/GA/Politician/Male",
          "Government/IA/Politician/Male",
          "Government/IL/Politician/Male",
          "Government/KY/Politician/Male",
          "Music/MI/Musician/Male",
          "Music/LA/Musician/Male",
          "Music/HI/Musician/Male",
          "Music/FL/Musician/Male",
          "Social Sciences/Sin nombre/Economist/Male",
          "Engineering/MA/Engineer/Male",
          "Engineering/PA/Engineer/Male",
          "Engineering/Sin nombre/Engineer/Male",
          "Outlaws/IL/Extremist/Male",
          "Outlaws/LA/Extremist/Male",
          "Outlaws/WI/Extremist/Male",
          "Film And Theatre/NJ/Film Director/Male",
          "Film And Theatre/OK/Film Director/Male",
          "Design/MI/Game Designer/Male",
          "Design/Sin nombre/Game Designer/Male",
          "Social Sciences/Sin nombre/Geographer/Male",
          "Natural Sciences/OH/Geologist/Male",
          "Government/Kaluga Oblast/Politician/Male",
          "Natural Sciences/Sin nombre/Geologist/Male",
          "History/NH/Historian/Male",
          "Invention/IA/Inventor/Male",
          "Invention/OH/Inventor/Male",
          "Invention/WI/Inventor/Male",
          "Language/Sin nombre/Linguist/Male",
          "Media Personality/NJ/Magician/Male",
          "Individual Sports/Sin nombre/Martial Arts/Male",
          "Math/CT/Mathematician/Male",
          "Military/AR/Military Personnel/Male",
          "Military/OK/Military Personnel/Male",
          "Military/PA/Military Personnel/Male",
          "Music/AL/Musician/Male",
          "Music/CA/Musician/Male",
          "Individual Sports/Sin nombre/Gymnast/Male",
          "Government/La Rioja/Politician/Male",
          "Government/MA/Politician/Male",
          "Government/MI/Politician/Male",
          "Team Sports/NJ/Soccer Player/Male",
          "Team Sports/Sao Paulo/Soccer Player/Male",
          "Team Sports/Victoria/Soccer Player/Male",
          "Activism/CT/Social Activist/Male",
          "Activism/IL/Social Activist/Male",
          "Activism/MD/Social Activist/Male",
          "Activism/Tamaulipas/Social Activist/Male",
          "Social Sciences/NY/Sociologist/Male",
          "Social Sciences/PA/Sociologist/Male",
          "Individual Sports/CA/Tennis Player/Male",
          "Individual Sports/IL/Tennis Player/Male",
          "Individual Sports/NC/Tennis Player/Male",
          "Individual Sports/NY/Tennis Player/Male",
          "Individual Sports/Sin nombre/Skater/Male",
          "Individual Sports/Sin nombre/Tennis Player/Male",
          "Individual Sports/NE/Wrestler/Male",
          "Individual Sports/OK/Wrestler/Male",
          "Individual Sports/TX/Wrestler/Male",
          "Language/AR/Writer/Male",
          "Language/CT/Writer/Male",
          "Language/MO/Writer/Male",
          "Language/NH/Writer/Male",
          "Language/NY/Writer/Male",
          "Language/PA/Writer/Male",
          "Language/VA/Writer/Male",
          "Language/WI/Writer/Male",
          "Film And Theatre/AZ/Actor",
          "Film And Theatre/ID/Actor",
          "Individual Sports/MO/Wrestler/Male",
          "Social Sciences/NE/Economist/Male",
          "Music/WA/Singer/Male",
          "Music/SC/Singer/Male",
          "Government/NC/Politician/Male",
          "Government/ND/Politician/Male",
          "Government/NH/Politician/Male",
          "Government/NJ/Politician/Male",
          "Government/NM/Politician/Male",
          "Government/PA/Politician/Male",
          "Media Personality/NY/Presenter/Male",
          "Business/MI/Producer/Male",
          "Business/PA/Producer/Male",
          "Business/TX/Producer/Male",
          "Social Sciences/CT/Psychologist/Male",
          "Social Sciences/IL/Psychologist/Male",
          "Social Sciences/MA/Psychologist/Male",
          "Music/TN/Singer/Male",
          "Social Sciences/NJ/Psychologist/Male",
          "Religion/GA/Religious Figure/Male",
          "Religion/Galilee/Religious Figure/Male",
          "Religion/Sin nombre/Religious Figure/Male",
          "Fine Arts/Sin nombre/Sculptor/Male",
          "Music/AZ/Singer/Male",
          "Music/FL/Singer/Male",
          "Music/GA/Singer/Male",
          "Music/IA/Singer/Male",
          "Music/Komi ASSR/Singer/Male",
          "Music/MI/Singer/Male",
          "Music/MO/Singer/Male",
          "Music/MS/Singer/Male",
          "Music/PA/Singer/Male",
          "Government/Sin nombre/Public Worker/Male",
          "Film And Theatre/IN/Actor",
          "Social Sciences/NC/Economist/Male",
          "Social Sciences/IL/Economist/Male",
          "Music/NY/Musician/Female",
          "Fine Arts/Sin nombre/Painter/Female",
          "Medicine/NJ/Physician/Female",
          "Military/KS/Pilot/Female",
          "Government/AZ/Politician/Female",
          "Government/IL/Politician/Female",
          "Government/Sin nombre/Politician/Female",
          "Media Personality/NV/Pornographic Actor/Female",
          "Media Personality/Sin nombre/Presenter/Female",
          "Individual Sports/WI/Racecar Driver/Female",
          "Music/FL/Singer/Female",
          "Music/MI/Singer/Female",
          "Music/NM/Singer/Female",
          "Music/NY/Singer/Female",
          "Music/OH/Singer/Female",
          "Music/TN/Singer/Female",
          "Individual Sports/Sin nombre/Skier/Female",
          "Activism/Sin nombre/Social Activist/Female",
          "Individual Sports/CA/Tennis Player/Female",
          "Language/NY/Writer/Female",
          "Language/PA/Writer/Female",
          "Language/Sin nombre/Writer/Female",
          "Film And Theatre/DE/Actor/Male",
          "Film And Theatre/GA/Actor/Male",
          "Film And Theatre/IL/Actor/Male",
          "Film And Theatre/KS/Actor/Male",
          "Film And Theatre/LA/Actor/Male",
          "Music/NJ/Musician/Female",
          "Music/MI/Musician/Female",
          "Music/CA/Musician/Female",
          "Language/NY/Journalist/Female",
          "Film And Theatre/FL/Actor/Female",
          "Film And Theatre/KS/Actor/Female",
          "Film And Theatre/LA/Actor/Female",
          "Film And Theatre/ME/Actor/Female",
          "Film And Theatre/MI/Actor/Female",
          "Film And Theatre/NM/Actor/Female",
          "Film And Theatre/Sin nombre/Actor/Female",
          "Film And Theatre/VA/Actor/Female",
          "Natural Sciences/Sin nombre/Archaeologist/Female",
          "Explorers/Sin nombre/Astronaut/Female",
          "Natural Sciences/Sin nombre/Astronomer/Female",
          "Individual Sports/Sin nombre/Athlete/Female",
          "Natural Sciences/CA/Biologist/Female",
          "Film And Theatre/MI/Actor/Male",
          "Natural Sciences/WA/Biologist/Female",
          "Media Personality/CA/Chef/Female",
          "Companions/IA/Companion/Female",
          "Companions/MA/Companion/Female",
          "Companions/Sin nombre/Companion/Female",
          "Companions/VA/Companion/Female",
          "Dance/MO/Dancer/Female",
          "Dance/PA/Dancer/Female",
          "Dance/Sin nombre/Dancer/Female",
          "Government/Sin nombre/Diplomat/Female",
          "Social Sciences/CA/Economist/Female",
          "Film And Theatre/CA/Film Director/Female",
          "Film And Theatre/Sin nombre/Film Director/Female",
          "Language/NJ/Journalist/Female",
          "Business/Sin nombre/Businessperson/Female",
          "Film And Theatre/NM/Actor/Male",
          "Film And Theatre/OH/Actor/Male",
          "Film And Theatre/PA/Actor/Male",
          "Individual Sports/TX/Boxer/Male",
          "Business/CA/Businessperson/Male",
          "Business/CT/Businessperson/Male",
          "Business/OH/Businessperson/Male",
          "Business/OK/Businessperson/Male",
          "Business/PA/Businessperson/Male",
          "Media Personality/IA/Celebrity/Male",
          "Media Personality/Sin nombre/Celebrity/Male",
          "Natural Sciences/CA/Chemist/Male",
          "Natural Sciences/MD/Chemist/Male",
          "Natural Sciences/MO/Chemist/Male",
          "Individual Sports/LA/Chessmaster/Male",
          "Film And Theatre/NY/Comedian/Male",
          "Individual Sports/SC/Boxer/Male",
          "Film And Theatre/TX/Comedian/Male",
          "Design/NY/Comic Artist/Male",
          "Music/IN/Composer/Male",
          "Music/MD/Composer/Male",
          "Music/PA/Composer/Male",
          "Computer Science/NY/Computer Scientist/Male",
          "Computer Science/Sin nombre/Computer Scientist/Male",
          "Music/Sin nombre/Conductor/Male",
          "Team Sports/Sin nombre/Cricketer/Male",
          "Individual Sports/PA/Cyclist/Male",
          "Individual Sports/Sin nombre/Cyclist/Male",
          "Dance/Sin nombre/Dancer/Male",
          "Design/NY/Designer/Male",
          "Government/Sin nombre/Diplomat/Male",
          "Design/MN/Comic Artist/Male",
          "Social Sciences/MA/Economist/Male",
          "Natural Sciences/NE/Biologist/Male",
          "Natural Sciences/KY/Biologist/Male",
          "Film And Theatre/Sin nombre/Actor/Male",
          "Social Sciences/CA/Anthropologist/Male",
          "Social Sciences/NY/Anthropologist/Male",
          "Natural Sciences/PA/Archaeologist/Male",
          "Design/NJ/Architect/Male",
          "Design/PA/Architect/Male",
          "Fine Arts/NY/Artist/Male",
          "Fine Arts/PA/Artist/Male",
          "Explorers/CA/Astronaut/Male",
          "Explorers/NM/Astronaut/Male",
          "Explorers/OK/Astronaut/Male",
          "Explorers/PA/Astronaut/Male",
          "Natural Sciences/AL/Astronomer/Male",
          "Natural Sciences/MI/Biologist/Male",
          "Natural Sciences/MT/Astronomer/Male",
          "Individual Sports/KS/Athlete/Male",
          "Individual Sports/NY/Athlete/Male",
          "Individual Sports/PA/Athlete/Male",
          "Team Sports/AL/Basketball Player/Male",
          "Team Sports/CA/Basketball Player/Male",
          "Team Sports/FL/Basketball Player/Male",
          "Team Sports/MI/Basketball Player/Male",
          "Team Sports/NC/Basketball Player/Male",
          "Team Sports/NY/Basketball Player/Male",
          "Team Sports/SC/Basketball Player/Male",
          "Team Sports/TX/Basketball Player/Male",
          "Natural Sciences/AL/Biologist/Male",
          "Natural Sciences/CO/Biologist/Male",
          "Individual Sports/AL/Athlete/Male",
          "Film And Theatre/KY/Actor",
          "Music/AZ/Musician/Male",
          "Team Sports",
          "Individual Sports/Sin nombre/Chessmaster",
          "Individual Sports/IL/Chessmaster",
          "Natural Sciences/WI/Chemist",
          "Natural Sciences/SC/Chemist",
          "Natural Sciences/PA/Chemist",
          "Individual Sports/PA/Athlete",
          "Natural Sciences/NY/Chemist",
          "Natural Sciences/MI/Chemist",
          "Natural Sciences/KY/Chemist",
          "Natural Sciences/KS/Chemist",
          "Team Sports/CA/Baseball Player",
          "Team Sports/GA/Baseball Player",
          "Team Sports/MD/Baseball Player",
          "Natural Sciences/IL/Chemist",
          "Natural Sciences/IA/Chemist",
          "Film And Theatre/NY/Comedian",
          "Design/KY/Comic Artist",
          "Natural Sciences/CA/Astronomer",
          "Natural Sciences/Ardennes/Astronomer",
          "Music/CT/Composer",
          "Companions/TX/Companion",
          "Fine Arts/NY/Artist",
          "Fine Arts/PA/Artist",
          "Companions/NY/Companion",
          "Explorers/IL/Astronaut",
          "Explorers/IN/Astronaut",
          "Natural Sciences/GA/Chemist",
          "Explorers/NJ/Astronaut",
          "Companions/KY/Companion",
          "Companions/GA/Companion",
          "Companions/CA/Companion",
          "Explorers/Sin nombre/Astronaut",
          "Design/Sin nombre/Comic Artist",
          "Design/MN/Comic Artist",
          "Design/MD/Comic Artist",
          "Companions/NV/Companion",
          "Media Personality/CA/Chef",
          "Team Sports/FL/Basketball Player",
          "Team Sports/IL/Basketball Player",
          "Natural Sciences/AL/Biologist",
          "Natural Sciences/CA/Biologist",
          "Natural Sciences/CT/Biologist",
          "Business/KS/Businessperson",
          "Business/IL/Businessperson",
          "Business/CT/Businessperson",
          "Natural Sciences/KY/Biologist",
          "Business/NY/Businessperson",
          "Natural Sciences/MN/Biologist",
          "Individual Sports/Sin nombre/Boxer",
          "Natural Sciences/NJ/Biologist",
          "Individual Sports/SC/Boxer",
          "Individual Sports/NY/Boxer",
          "Individual Sports/KY/Boxer",
          "Natural Sciences/WA/Biologist",
          "Natural Sciences/Sin nombre/Biologist",
          "Business/AL/Businessperson",
          "Design/NJ/Architect",
          "Business/OH/Businessperson",
          "Team Sports/TN/Basketball Player",
          "Team Sports/KY/Basketball Player",
          "Media Personality/Sin nombre/Celebrity",
          "Media Personality/PA/Celebrity",
          "Team Sports/NC/Basketball Player",
          "Media Personality/NY/Celebrity",
          "Media Personality/KY/Celebrity",
          "Team Sports/NJ/Basketball Player",
          "Business/OK/Businessperson",
          "Media Personality/IL/Celebrity",
          "Team Sports/NY/Basketball Player",
          "Team Sports/OH/Basketball Player",
          "Team Sports/OK/Basketball Player",
          "Team Sports/SC/Basketball Player",
          "Business/TX/Businessperson",
          "Team Sports/Sin nombre/Basketball Player",
          "Business/Sin nombre/Businessperson",
          "Business/WA/Businessperson",
          "Music/TX/Composer",
          "Individual Sports/GA/Athlete",
          "Film And Theatre/OK/Actor",
          "Design/NY/Designer",
          "Government/CA/Diplomat",
          "Dance/Sin nombre/Dancer",
          "Social Sciences/MI/Economist",
          "Social Sciences/CA/Anthropologist",
          "Film And Theatre/NE/Actor",
          "Social Sciences/TN/Economist",
          "Social Sciences/NY/Anthropologist",
          "Individual Sports/Sin nombre/Cyclist",
          "Film And Theatre/NY/Actor",
          "Social Sciences/Sin nombre/Anthropologist",
          "Individual Sports/PA/Cyclist",
          "Computer Science/LA/Computer Scientist",
          "Computer Science/NY/Computer Scientist",
          "Film And Theatre/OH/Actor",
          "Film And Theatre/MT/Actor",
          "Team Sports/CA/American Football Player",
          "Government/WI/Diplomat",
          "Language/IL/Critic",
          "Film And Theatre/RI/Actor",
          "Computer Science/Sin nombre/Computer Scientist",
          "Government/Sin nombre/Diplomat",
          "Film And Theatre/AR/Actor",
          "Music/LA/Singer/Female",
          "Fine Arts/PA/Artist/Female",
          "Computer Science/LA",
          "Individual Sports/CA/Wrestler/Male",
          "Social Sciences/NY",
          "Outlaws/NY/Mafioso",
          "Philosophy/IL",
          "Activism/Sin nombre/Social Activist",
          "Natural Sciences/CT/Astronomer",
          "Design/Sin nombre/Comic Artist/Male",
          "Music/VA/Singer/Male",
          "Language/CT/Writer",
          "Activism/IL",
          "Business/KY/Businessperson/Male",
          "Medicine/MI/Physician",
          "Government/CA/Politician/Male",
          "Medicine/MA/Physician/Male",
          "Invention/NY",
          "Invention/WA/Inventor/Male",
          "Outlaws",
          "Math/Cantal/Mathematician/Male",
          "Invention/WA/Inventor",
          "Individual Sports/LA",
          "Social Sciences/PA/Economist",
          "Social Sciences/Sin nombre/Economist",
          "Business/PA/Businessperson",
          "Government/VA/Diplomat",
          "Music/LA",
          "Business/TN/Businessperson",
          "Individual Sports/MD",
          "Companions/IL/Companion/Female",
          "Design/MI/Comic Artist/Male",
          "Engineering/MA",
          "Invention/MA",
          "Social Sciences/VT",
          "Team Sports/Victoria",
          "Natural Sciences/NY/Chemist/Female",
          "Individual Sports/TN/Athlete/Female",
          "Companions/CA/Companion/Male",
          "Music/MA",
          "Team Sports/WA",
          "Computer Science/WI/Computer Scientist/Male",
          "Music/CA/Composer/Male",
          "Natural Sciences/WA",
          "Media Personality/IA/Celebrity",
          "Outlaws/WI",
          "Companions/GA/Companion/Female",
          "Music/PA/Composer",
          "Explorers/CA/Astronaut/Female",
          "Film And Theatre/NY/Actor/Female",
          "Natural Sciences/IA",
          "Film And Theatre/NM/Film Director/Male",
          "Media Personality/IA",
          "Film And Theatre/IA",
          "Companions/IA",
          "Music/HI",
          "Business/HI",
          "Film And Theatre/MS/Film Director/Male",
          "Engineering",
          "Engineering/Sin nombre/Engineer",
          "Film And Theatre/IN/Actor/Female",
          "Film And Theatre/IL/Actor/Female",
          "Film And Theatre/ID/Actor/Female",
          "Government/GA",
          "Team Sports/FL",
          "Film And Theatre/AZ/Actor/Female",
          "History/MA/Historian/Male",
          "Religion/GA",
          "Outlaws/VT/Extremist/Male",
          "Film And Theatre/PA/Actor/Female",
          "Outlaws/IL",
          "Natural Sciences/KY",
          "Social Sciences/CA/Economist/Male",
          "Language/KY",
          "Social Sciences/GA/Economist/Male",
          "Music/HI/Musician",
          "Social Sciences/KS/Economist/Male",
          "Film And Theatre/MS/Film Director",
          "Social Sciences/MI/Economist/Male",
          "Business/NM/Businessperson",
          "Design/Sin nombre/Fashion Designer",
          "Social Sciences/NY/Economist/Male",
          "Social Sciences/OR/Economist/Male",
          "Outlaws/IN",
          "Music/KY/Musician",
          "Business",
          "Engineering/MO/Engineer/Male",
          "Government/IN",
          "Film And Theatre/IN",
          "Outlaws/IN/Extremist/Male",
          "Design/CA/Designer/Male",
          "Military/SC/Military Personnel",
          "Medicine/MN",
          "Media Personality/UT/Celebrity",
          "Film And Theatre/OR/Actor/Male",
          "Fine Arts/OK",
          "Film And Theatre/OK",
          "Outlaws/OH",
          "Government/NY/Judge",
          "Law/OH",
          "Language/OH",
          "Natural Sciences/NY/Archaeologist/Male",
          "History/Sin nombre",
          "Business/OH",
          "Invention/Sin nombre",
          "Computer Science/MD/Computer Scientist",
          "Design/WI/Architect/Male",
          "Medicine/NY",
          "Individual Sports/Sin nombre/Golfer",
          "Math/NY",
          "Natural Sciences/Sin nombre",
          "Government/NY",
          "Language/CT/Linguist",
          "Social Sciences/Sin nombre/Psychologist/Female",
          "Philosophy/Sin nombre",
          "History/NH/Historian",
          "Invention/OR",
          "Music/SC/Singer/Female",
          "Invention/CA/Inventor",
          "Music/SC",
          "Government/SC",
          "Computer Science/IN/Computer Scientist",
          "Music/NY/Composer",
          "Invention/IA/Inventor",
          "Individual Sports/Sin nombre/Tennis Player/Female",
          "Music/PA",
          "Activism/Sin nombre",
          "Music/IN/Singer/Female",
          "Computer Science/Sin nombre",
          "Engineering/Sin nombre",
          "Invention/UT/Inventor",
          "Engineering/PA",
          "Dance/PA",
          "Government/Oxfordshire",
          "Film And Theatre/MO/Actor/Male",
          "Language/OR",
          "Film And Theatre/NJ/Actor/Male",
          "Design/MI",
          "Design/NY",
          "Government/AL/Politician/Female",
          "Individual Sports/Sin nombre/Gymnast/Female",
          "Film And Theatre/OK/Film Director",
          "Natural Sciences/NJ/Biologist/Male",
          "Business/AL/Businessperson/Male",
          "Invention/UT",
          "Military/MO",
          "Government/MO",
          "Dance/MO",
          "Computer Science/CT/Computer Scientist",
          "Companions/VA",
          "Film And Theatre/MN",
          "Natural Sciences/CA/Chemist",
          "Media Personality/UT/Celebrity/Male",
          "Explorers/VA",
          "Medicine/MI",
          "Natural Sciences/IL/Chemist/Male",
          "Individual Sports/MI",
          "Natural Sciences/KY/Chemist/Male",
          "Government/CT/Diplomat",
          "Film And Theatre/Sin nombre/Film Director",
          "Individual Sports/CA/Golfer",
          "Government/NC",
          "Team Sports/WA/Basketball Player/Male",
          "Individual Sports/NV",
          "Companions/NV",
          "Film And Theatre/NM",
          "Explorers/TN",
          "Music/NY/Musician",
          "Natural Sciences/NJ",
          "Math/NJ",
          "Team Sports/AL/Baseball Player/Male",
          "Design/NJ",
          "Outlaws/TX/Mafioso",
          "Language/NH",
          "Natural Sciences/TN",
          "History/NH",
          "Team Sports/IL/Basketball Player/Male",
          "Music/NE",
          "Team Sports/LA/Basketball Player/Male",
          "Individual Sports/Sin nombre/Martial Arts",
          "Math/CT/Mathematician",
          "Team Sports/VA/Basketball Player/Male",
          "Natural Sciences/IL/Biologist/Male",
          "Individual Sports/FL",
          "Film And Theatre/ME/Actor",
          "Individual Sports/IN/Wrestler/Male",
          "Religion/GA/Religious Figure",
          "Individual Sports/TN/Wrestler",
          "Individual Sports/WI/Wrestler",
          "Individual Sports/Sin nombre/Racecar Driver",
          "Medicine/MD/Physician",
          "Team Sports/AL/Basketball Player",
          "Medicine/AL/Physician",
          "Individual Sports/MI/Wrestler/Male",
          "Social Sciences/PA/Psychologist",
          "Language/NY/Writer",
          "Social Sciences/MA/Psychologist",
          "Language/OH/Writer",
          "Language/OR/Writer",
          "Medicine/NH/Physician/Male",
          "Language/RI/Writer",
          "Language/Sin nombre/Writer",
          "Medicine/IN/Physician/Male",
          "Media Personality/NY/Presenter",
          "Individual Sports/AZ",
          "Music/MS/Musician/Male",
          "Fine Arts/PA/Painter",
          "Music/NJ/Musician/Male",
          "Music/NV/Musician/Male",
          "Team Sports/Sin nombre/Baseball Player",
          "Fine Arts/WY/Painter",
          "Individual Sports/TN/Wrestler/Male",
          "Fine Arts/PA/Painter/Male",
          "Film And Theatre/AL",
          "Business/AL",
          "Fine Arts/NY/Photographer/Male",
          "Government/KY/Politician",
          "Philosophy/IL/Philosopher",
          "Government/LA/Politician/Male",
          "Team Sports/AL/Baseball Player",
          "Medicine/TX/Physician",
          "Music/TX/Singer/Male",
          "Design/OH/Architect",
          "Activism/GA/Social Activist",
          "Design/Sin nombre/Architect",
          "Natural Sciences/OH/Physicist",
          "Military/WV/Pilot",
          "Music/MS/Singer",
          "Music/MN/Singer/Male",
          "Music/VT/Singer",
          "Religion/VT/Religious Figure/Male",
          "Team Sports/CA/Soccer Player",
          "Natural Sciences/PA/Physicist",
          "Explorers/OH/Astronaut",
          "Individual Sports/Sin nombre/Skater",
          "Team Sports/OH/Soccer Player",
          "Individual Sports/WI/Wrestler/Male",
          "Activism/VT/Social Activist",
          "Music/IN/Singer",
          "Government/GA/Politician",
          "Individual Sports/GA/Wrestler",
          "Religion/NC/Religious Figure",
          "Individual Sports/AZ/Wrestler",
          "Individual Sports/Sin nombre/Swimmer/Male",
          "Individual Sports/CA/Swimmer/Male",
          "Natural Sciences/PA/Astronomer",
          "Individual Sports/KS/Athlete",
          "Natural Sciences/FL/Physicist",
          "Activism/SC/Social Activist/Male",
          "Government/Segovia/Politician/Male",
          "Media Personality/IA/Presenter/Male",
          "Government/Anhui/Politician",
          "Media Personality/MA/Presenter/Male",
          "Individual Sports/NE/Tennis Player",
          "Film And Theatre/TN/Actor",
          "Individual Sports/NH/Skier",
          "Business/CT",
          "Music/TX/Musician",
          "Explorers/TN/Explorer",
          "Outlaws/MO/Mafioso/Male",
          "Media Personality/MT/Pornographic Actor",
          "Film And Theatre/SC/Actor",
          "Film And Theatre/CT/Actor",
          "Language/CT/Linguist/Male",
          "Military/Württemberg/Military Personnel/Male",
          "Military/CT/Military Personnel/Male",
          "Military/VA/Military Personnel/Male",
          "Outlaws/Sin nombre/Mafioso/Male",
          "Invention/UT/Inventor/Male",
          "Natural Sciences/DE/Biologist",
          "Government/NE/Politician",
          "Government/La Rioja/Politician",
          "Military/Pyrénées-Atlantiques/Military Personnel/Male",
          "Music/Sin nombre/Musician",
          "Law/Sin nombre/Lawyer/Male",
          "Music/MA/Musician",
          "Team Sports/CA/Soccer Player/Male",
          "Activism/Eastern Cape/Social Activist/Male",
          "Media Personality/IN",
          "Natural Sciences/MD",
          "Outlaws/LA/Extremist",
          "Film And Theatre/MO/Film Director/Male",
          "Language/CA/Writer/Female",
          "Media Personality/KY",
          "Media Personality/UT",
          "Film And Theatre",
          "Music/TN",
          "Government/CO/Politician/Male",
          "Language/Sin nombre/Writer/Male",
          "Language/IA",
          "Math/MO/Mathematician",
          "Natural Sciences/OR/Chemist/Male",
          "Natural Sciences/PA/Biologist/Male",
          "Military/Sin nombre/Military Personnel",
          "Social Sciences/CA",
          "Medicine/Sin nombre/Physician",
          "Individual Sports/KY/Boxer/Male",
          "Design/Sin nombre/Designer/Male",
          "Media Personality/Sin nombre/Model/Female",
          "Individual Sports/FL/Racecar Driver/Male",
          "Activism/GA",
          "Individual Sports/CA/Skater",
          "Individual Sports/TX/Cyclist",
          "Individual Sports/PA/Wrestler/Male",
          "Military/PA",
          "History/OH/Historian/Male",
          "Individual Sports/WI",
          "Film And Theatre/MS/Actor",
          "Media Personality/MA/Presenter",
          "Military/Pyrénées-Atlantiques",
          "Language/AR",
          "Media Personality/CA/Model",
          "Team Sports/TX/Soccer Player",
          "Math/Sin nombre/Mathematician",
          "Team Sports/MD",
          "Individual Sports/VA/Athlete/Male",
          "Language/IN",
          "Music/MI/Singer",
          "Business/NE",
          "Religion/PA/Religious Figure",
          "Government/MN/Politician/Male",
          "Music/Sin nombre",
          "Language/IL/Writer/Female",
          "Individual Sports/NY/Swimmer",
          "Explorers/NH/Astronaut",
          "Outlaws/Sin nombre/Pirate/Male",
          "Music/AL/Singer/Male",
          "Film And Theatre/WI/Actor",
          "Explorers/NH/Astronaut/Male",
          "Engineering/PA/Engineer",
          "Film And Theatre/KS",
          "Media Personality/TX/Celebrity/Female",
          "Film And Theatre/WI",
          "Explorers/PA/Astronaut",
          "Natural Sciences/NE/Physicist/Male",
          "Media Personality/NY/Celebrity/Female",
          "Natural Sciences/TX/Chemist/Male",
          "Language/IL/Critic/Male",
          "Design/WI",
          "Math/Sin nombre/Mathematician/Female",
          "Companions/IA/Companion",
          "Social Sciences/CT/Economist",
          "Fine Arts/IA",
          "Business/HI/Businessperson/Male",
          "Fine Arts/Sin nombre/Sculptor/Female",
          "Media Personality/TX/Presenter",
          "Individual Sports/Sin nombre/Skater/Female",
          "Math",
          "Activism/WA/Social Activist/Female",
          "Individual Sports/Sin nombre/Chessmaster/Female",
          "Invention/MA/Inventor",
          "Explorers/Cáceres/Explorer",
          "Film And Theatre/DE/Actor",
          "Individual Sports/PA/Skater/Male",
          "Media Personality/IL/Model/Female",
          "Music/TX/Singer/Female",
          "Film And Theatre/MA/Actor/Female",
          "Natural Sciences/CT/Biologist/Female",
          "Team Sports/CA/Basketball Player/Female",
          "Music/MD/Singer",
          "Social Sciences/Sin nombre/Political Scientist",
          "Team Sports/SC",
          "Individual Sports/SC/Wrestler/Male",
          "Design/MA/Architect",
          "Activism/VT",
          "Team Sports/VA",
          "Music/NC/Singer/Female",
          "Companions/TX/Companion/Female",
          "Music/VT/Singer/Female",
          "Government/Kaluga Oblast/Politician",
          "Media Personality/Sin nombre/Presenter",
          "Team Sports/PA",
          "Government/NY/Politician",
          "Social Sciences/WA",
          "Film And Theatre/LA/Actor",
          "Social Sciences/IL/Economist",
          "Film And Theatre/GA/Actor/Female",
          "Social Sciences/OR",
          "Invention/WI/Inventor",
          "Film And Theatre/ME/Actor/Male",
          "Music/WA/Singer",
          "Music",
          "Music/HI/Singer/Male",
          "Language/WA",
          "Individual Sports/FL/Wrestler/Female",
          "Government/WA",
          "Invention/OR/Inventor",
          "Individual Sports/PA",
          "Language/TX/Writer/Female",
          "Invention/OH/Inventor",
          "Film And Theatre/NC/Actor",
          "Film And Theatre/GA/Actor",
          "Language/OH/Writer/Female",
          "Natural Sciences/Sin nombre/Chemist/Female",
          "Music/IN/Composer",
          "Music/MO/Singer/Female",
          "Natural Sciences/IL/Biologist/Female",
          "Government/WI",
          "Music/NM/Singer/Male",
          "Design/CT/Architect",
          "Business/Sin nombre/Producer",
          "Government/AZ/Politician",
          "Language/WA/Writer/Male",
          "Film And Theatre/SD/Actor/Female",
          "Government/MN/Politician",
          "Social Sciences/KS/Economist",
          "Social Sciences/TX",
          "Government/HI/Politician",
          "Design/CA/Designer",
          "Social Sciences/WI/Economist",
          "Individual Sports/MN/Tennis Player/Male",
          "Music/TX",
          "Business/TN",
          "Team Sports/Sin nombre/Referee",
          "Government/WI/Politician",
          "Engineering/Sin nombre/Engineer/Female",
          "Computer Science/PA/Computer Scientist",
          "Computer Science/WI/Computer Scientist",
          "Film And Theatre/WI/Actor/Female",
          "Music/Sin nombre/Musician/Female",
          "Individual Sports/IL/Wrestler/Male",
          "Language/TX/Writer/Male",
          "Government/Württemberg",
          "Social Sciences/Sin nombre/Anthropologist/Female",
          "Government/IL/Politician",
          "Music/ND/Musician/Female",
          "Individual Sports/AZ/Wrestler/Male",
          "Music/IL/Musician/Female",
          "Media Personality/TX",
          "Law/Sin nombre/Lawyer/Female",
          "Individual Sports/NV/Tennis Player/Male",
          "Philosophy/Shandong Province",
          "Outlaws/Sin nombre",
          "Government/TX/Politician",
          "Language/GA/Writer/Male",
          "Outlaws/Sin nombre/Extremist",
          "Social Sciences/PA/Anthropologist",
          "History/NY/Historian",
          "Government/MI/Diplomat",
          "Music/AZ/Singer/Female",
          "Film And Theatre/NC/Actor/Female",
          "Film And Theatre/NJ/Film Director",
          "Government/VA",
          "Government/County Mayo/Politician",
          "Social Sciences/Sin nombre/Sociologist/Male",
          "Fine Arts",
          "Social Sciences/TX/Sociologist/Male",
          "Film And Theatre/TX/Actor",
          "Language/ID/Writer/Male",
          "Engineering/MA/Engineer",
          "Media Personality/MS/Presenter/Female",
          "Media Personality/Sin nombre/Pornographic Actor/Female",
          "Media Personality/OH/Pornographic Actor/Female",
          "Government/KS/Politician",
          "Film And Theatre/CO/Film Director",
          "Social Sciences/CT/Psychologist",
          "Media Personality/MT/Pornographic Actor/Female",
          "Natural Sciences/DE/Astronomer/Female",
          "Social Sciences/IL/Psychologist",
          "Design",
          "Music/UT",
          "Individual Sports/NC/Wrestler/Male",
          "Individual Sports/Sin nombre",
          "Individual Sports/FL/Tennis Player/Male",
          "Activism/Eastern Cape",
          "Team Sports/OK",
          "Computer Science/MI/Computer Scientist/Male",
          "Individual Sports/Sin nombre/Mountaineer",
          "Team Sports/LA",
          "Music/VA/Musician/Male",
          "Fine Arts/TX/Painter",
          "Music/FL/Musician",
          "Music/AZ",
          "Individual Sports/KY",
          "Religion/Ancona",
          "Team Sports/TX/Basketball Player",
          "Team Sports/WA/Basketball Player",
          "Music/KS/Musician/Male",
          "Music/IN/Musician/Male",
          "Social Sciences/KS",
          "Music/IL/Musician/Male",
          "Computer Science/CA",
          "Military/KS",
          "Music/GA/Musician/Male",
          "Music/CT/Musician/Male",
          "Medicine/CA/Physician/Male",
          "Music/KS/Musician",
          "Computer Science/IN/Computer Scientist/Male",
          "Music/TX/Composer/Male",
          "Fine Arts/NY/Photographer",
          "Natural Sciences/IL/Physicist/Male",
          "Natural Sciences/MI/Chemist/Male",
          "Team Sports/GA/Basketball Player",
          "Natural Sciences/PA/Chemist/Male",
          "Team Sports/MI/Basketball Player",
          "Medicine/TX/Physician/Male",
          "Music/MD",
          "Medicine/MD",
          "Design/KY/Comic Artist/Male",
          "Design/MD/Comic Artist/Male",
          "Film And Theatre/MD",
          "Design/MD",
          "Medicine/PA/Physician/Male",
          "Language/SC/Writer",
          "Music/MA/Composer/Male",
          "Media Personality/IL/Model",
          "Medicine/MN/Physician/Male",
          "Individual Sports/MA",
          "Fine Arts/MA",
          "Natural Sciences/MO/Physicist/Male",
          "Social Sciences/TN/Economist/Male",
          "Social Sciences/IN",
          "Math/MO/Mathematician/Male",
          "Invention/IA",
          "Government/IA",
          "Math/MA/Mathematician/Male",
          "Government/HI",
          "Film And Theatre/NY/Film Director/Male",
          "Film And Theatre/OH/Film Director/Male",
          "Film And Theatre/PA/Film Director/Male",
          "Film And Theatre/TX/Film Director/Male",
          "Design/GA/Game Designer/Male",
          "Outlaws/NY/Mafioso/Male",
          "Government/VA/Judge/Male",
          "Natural Sciences/NY/Biologist",
          "Music/NV/Musician",
          "Design/GA",
          "Companions/GA",
          "Invention/PA/Inventor/Male",
          "Natural Sciences/UT/Biologist",
          "Invention/CT/Inventor/Male",
          "Math/NJ/Mathematician/Male",
          "Social Sciences/WI/Economist/Male",
          "Math/WV/Mathematician/Male",
          "Language/ID",
          "Natural Sciences/CO/Biologist",
          "Natural Sciences/IN",
          "Individual Sports/Sin nombre/Mountaineer/Male",
          "Business/KY/Businessperson",
          "Explorers/Cáceres/Explorer/Male",
          "Explorers/Sin nombre/Explorer/Male",
          "Music/MD/Musician",
          "Medicine/CA",
          "Natural Sciences/IA/Biologist",
          "Outlaws/MD/Extremist/Male",
          "Military/IL",
          "Military/NY/Military Personnel/Male",
          "Film And Theatre/CA/Film Director/Male",
          "Film And Theatre/GA/Film Director/Male",
          "Film And Theatre/IL/Film Director/Male",
          "Companions/IL",
          "Business/IL",
          "Film And Theatre/CO",
          "Military/IL/Military Personnel/Male",
          "Film And Theatre/MT/Film Director/Male",
          "Language/IN/Writer",
          "Natural Sciences/OR/Physicist/Male",
          "Media Personality/Sin nombre/Chef/Male",
          "Individual Sports/Sin nombre/Racecar Driver/Male",
          "Individual Sports/Loire/Racecar Driver/Male",
          "Explorers/TX/Astronaut",
          "Social Sciences/PA/Psychologist/Male",
          "Fine Arts/Sin nombre/Artist/Male",
          "History/NY",
          "Activism/NY/Social Activist",
          "Natural Sciences/AL/Astronomer",
          "Film And Theatre/NY",
          "Explorers/IL/Astronaut/Male",
          "Social Sciences/CO/Sociologist",
          "Explorers/OH/Astronaut/Male",
          "Natural Sciences/IN/Physicist",
          "Business/NY/Producer/Male",
          "Music/NM",
          "Natural Sciences/Sin nombre/Astronomer",
          "Business/IL/Producer/Male",
          "Media Personality/Sin nombre/Presenter/Male",
          "Natural Sciences/CA/Astronomer/Male",
          "Law/SD/Lawyer",
          "Natural Sciences/PA/Astronomer/Male",
          "Design/OH/Architect/Male",
          "Design/MA/Architect/Male",
          "Film And Theatre/NY/Actor/Male",
          "Military/OK",
          "Film And Theatre/SC/Actor/Male",
          "Team Sports/IL/Soccer Player",
          "Philosophy/OH",
          "Natural Sciences/OR/Physicist",
          "Film And Theatre/TX/Actor/Male",
          "Music/OH",
          "Film And Theatre/UT/Actor/Male",
          "Team Sports/Sao Paulo/Soccer Player",
          "Religion/PA/Religious Figure/Male",
          "Invention/OH",
          "Government/Sin nombre/Judge",
          "History/OH",
          "Social Sciences/Sin nombre/Anthropologist/Male",
          "Film And Theatre/OH",
          "Religion/Lazio/Religious Figure/Male",
          "Natural Sciences/Sin nombre/Archaeologist/Male",
          "Activism/CT/Social Activist",
          "Religion/Ancona/Religious Figure/Male",
          "Natural Sciences/Sin nombre/Astronomer/Male",
          "Natural Sciences/TN/Astronomer/Male",
          "Outlaws/IN/Mafioso",
          "Individual Sports/AL/Boxer/Male",
          "Military/AR/Military Personnel",
          "Military/CA/Military Personnel",
          "Individual Sports/Sin nombre/Wrestler",
          "Military/IL/Military Personnel",
          "Individual Sports/TX/Wrestler",
          "Business/NC/Businessperson/Male",
          "Business/NE/Businessperson/Male",
          "Film And Theatre/MO",
          "Government/AR/Politician/Male",
          "Natural Sciences/MN",
          "Military/NJ/Military Personnel",
          "Business/WA/Businessperson/Male",
          "Government/MN",
          "Team Sports/AR/Basketball Player",
          "Language/IA/Writer",
          "Media Personality/IL/Celebrity/Male",
          "Military/OK/Military Personnel",
          "Team Sports/CA/Basketball Player",
          "Media Personality/MT",
          "Government/MD/Politician/Male",
          "Natural Sciences/CA/Biologist/Male",
          "Natural Sciences/NC/Chemist",
          "Outlaws/MO/Mafioso",
          "Media Personality/IN/Presenter/Male",
          "Individual Sports/KY/Athlete/Male",
          "Government/NJ",
          "Natural Sciences/UT/Chemist",
          "Government/Sin nombre/Politician/Male",
          "Team Sports/CA/Baseball Player/Male",
          "Team Sports/AR/Basketball Player/Male",
          "Government/NY/Politician/Male",
          "Individual Sports/Sin nombre/Skier",
          "Individual Sports/IN/Athlete",
          "Individual Sports/OH/Athlete",
          "Team Sports/KY/Basketball Player/Male",
          "Individual Sports/NY/Tennis Player",
          "Government/NE/Politician/Male",
          "Natural Sciences/OH/Chemist",
          "Individual Sports/OK/Athlete",
          "Film And Theatre/NE",
          "Team Sports/OK/Basketball Player/Male",
          "Individual Sports/FL/Wrestler",
          "Team Sports/GA/Basketball Player/Male",
          "Explorers/NJ/Astronaut/Male"
         ],
         "labels": [
          "NE",
          "Public Worker",
          "NE",
          "Businessperson",
          "Male",
          "SD",
          "Male",
          "GA",
          "Presenter",
          "Male",
          "Württemberg",
          "IN",
          "Presenter",
          "Male",
          "Musician",
          "Male",
          "Male",
          "Religious Figure",
          "Female",
          "Male",
          "VT",
          "Male",
          "Male",
          "AL",
          "Ardennes",
          "Soccer Player",
          "Male",
          "Comedian",
          "Singer",
          "CO",
          "Male",
          "Writer",
          "Male",
          "TX",
          "Companion",
          "Writer",
          "Male",
          "Male",
          "Actor",
          "Wrestler",
          "Physician",
          "OH",
          "MI",
          "OK",
          "Politician",
          "NV",
          "Tennis Player",
          "Male",
          "MO",
          "Politician",
          "Male",
          "Male",
          "KS",
          "OK",
          "Politician",
          "Male",
          "PA",
          "Basketball Player",
          "Painter",
          "Male",
          "Economist",
          "Politician",
          "Basketball Player",
          "Male",
          "Male",
          "Male",
          "Male",
          "Actor",
          "Composer",
          "Philosopher",
          "Basketball Player",
          "Male",
          "Male",
          "Athlete",
          "Male",
          "Male",
          "Male",
          "MO",
          "Game Designer",
          "Male",
          "MO",
          "MD",
          "Male",
          "GA",
          "Male",
          "Judge",
          "Female",
          "Male",
          "Female",
          "Architect",
          "Male",
          "Yvelines",
          "CT",
          "Male",
          "Female",
          "Male",
          "Film Director",
          "Politician",
          "Singer",
          "Female",
          "Galilee",
          "Gilead",
          "Military Personnel",
          "Male",
          "Cáceres",
          "Game Designer",
          "Male",
          "Male",
          "Sin nombre",
          "Actor",
          "Male",
          "Musician",
          "OK",
          "KS",
          "CA",
          "Male",
          "WA",
          "Singer",
          "Composer",
          "NY",
          "Politician",
          "Model",
          "Male",
          "Male",
          "Economist",
          "Female",
          "Snooker",
          "Female",
          "NJ",
          "WY",
          "Female",
          "Physicist",
          "Male",
          "NY",
          "Female",
          "Male",
          "Female",
          "Male",
          "Sin nombre",
          "Female",
          "Companion",
          "Male",
          "Politician",
          "Male",
          "Male",
          "NC",
          "Judge",
          "Female",
          "MD",
          "Athlete",
          "NY",
          "Actor",
          "CT",
          "OR",
          "Male",
          "NY",
          "Male",
          "Musician",
          "Sociologist",
          "Male",
          "PA",
          "Segovia",
          "Male",
          "KY",
          "Astronomer",
          "NE",
          "OH",
          "NC",
          "Inventor",
          "Singer",
          "Male",
          "Male",
          "TX",
          "Male",
          "Dancer",
          "CT",
          "Tennis Player",
          "Female",
          "Male",
          "Political Scientist",
          "Male",
          "Male",
          "Writer",
          "OK",
          "Male",
          "Tennis Player",
          "NJ",
          "NY",
          "Basketball Player",
          "Physicist",
          "Astronomer",
          "Politician",
          "Archaeologist",
          "Politician",
          "MA",
          "Male",
          "Actor",
          "Male",
          "Male",
          "Male",
          "Political Scientist",
          "Astronaut",
          "NJ",
          "MO",
          "Singer",
          "Chemist",
          "Male",
          "Sin nombre",
          "Male",
          "Female",
          "Chemist",
          "Male",
          "Male",
          "Male",
          "Male",
          "Chemist",
          "Female",
          "KS",
          "Boxer",
          "Astronomer",
          "Male",
          "CT",
          "Male",
          "Female",
          "Anhui",
          "UT",
          "Female",
          "Wrestler",
          "Actor",
          "CT",
          "Wrestler",
          "Male",
          "Male",
          "Male",
          "Actor",
          "Singer",
          "Chemist",
          "Physician",
          "NM",
          "Male",
          "Male",
          "Companion",
          "VT",
          "Composer",
          "Actor",
          "Male",
          "TX",
          "Pilot",
          "Religion",
          "Male",
          "Archaeologist",
          "Computer Scientist",
          "Female",
          "Male",
          "Economist",
          "Male",
          "Male",
          "Singer",
          "Male",
          "Male",
          "Artist",
          "Female",
          "Male",
          "Male",
          "Astronomer",
          "Businessperson",
          "Female",
          "Female",
          "Male",
          "Presenter",
          "Musician",
          "Skier",
          "AL",
          "Female",
          "Male",
          "Male",
          "Male",
          "Male",
          "ID",
          "Female",
          "Female",
          "Calabria",
          "Sin nombre",
          "Male",
          "Actor",
          "PA",
          "Male",
          "Male",
          "Actor",
          "Military Personnel",
          "Male",
          "Male",
          "Male",
          "NH",
          "Male",
          "OR",
          "Male",
          "Male",
          "Male",
          "WA",
          "Economist",
          "Sin nombre",
          "Soccer Player",
          "Male",
          "VA",
          "Inventor",
          "Male",
          "CO",
          "Actor",
          "TX",
          "CT",
          "Male",
          "Male",
          "Female",
          "KS",
          "Astronomer",
          "Male",
          "Male",
          "Male",
          "Wrestler",
          "Male",
          "Female",
          "Male",
          "Male",
          "Male",
          "Tennis Player",
          "Musician",
          "Physicist",
          "Male",
          "Physicist",
          "Male",
          "Male",
          "Male",
          "Tennis Player",
          "Male",
          "Male",
          "ND",
          "Male",
          "Explorer",
          "Male",
          "Physician",
          "Female",
          "Female",
          "Biologist",
          "Female",
          "Musician",
          "Biologist",
          "Female",
          "Female",
          "Female",
          "Comic Artist",
          "Male",
          "Male",
          "Male",
          "NJ",
          "Politician",
          "Actor",
          "Journalist",
          "Chemist",
          "Male",
          "Male",
          "Male",
          "Male",
          "Singer",
          "IL",
          "Musician",
          "SC",
          "MD",
          "VA",
          "Military Personnel",
          "Biologist",
          "Actor",
          "Basketball Player",
          "Journalist",
          "Male",
          "AR",
          "Astronaut",
          "Male",
          "Male",
          "Linguist",
          "Chessmaster",
          "Mafioso",
          "Chemist",
          "Male",
          "Male",
          "Male",
          "Religious Figure",
          "Mathematician",
          "Female",
          "Female",
          "Statistician",
          "Male",
          "KY",
          "Female",
          "PA",
          "Philosopher",
          "Male",
          "Comedian",
          "Linguist",
          "MD",
          "Female",
          "Male",
          "Female",
          "Female",
          "NJ",
          "Male",
          "GA",
          "Male",
          "Male",
          "Male",
          "Male",
          "Female",
          "Male",
          "CT",
          "Musician",
          "Male",
          "CA",
          "Loire",
          "CT",
          "Female",
          "Male",
          "Female",
          "Male",
          "Female",
          "Female",
          "Economist",
          "Male",
          "Actor",
          "Male",
          "NY",
          "Astronomer",
          "Actor",
          "MT",
          "Companions",
          "Sin nombre",
          "DE",
          "Boxer",
          "Male",
          "Male",
          "WI",
          "Soccer Player",
          "Male",
          "Female",
          "Racecar Driver",
          "Painter",
          "Male",
          "Architect",
          "Male",
          "Dancer",
          "Male",
          "Chemist",
          "Female",
          "Biologist",
          "Male",
          "Female",
          "WI",
          "Male",
          "AL",
          "Actor",
          "Female",
          "Astronomer",
          "Actor",
          "CO",
          "Athlete",
          "Lawyer",
          "Male",
          "Male",
          "DE",
          "Companion",
          "Male",
          "Male",
          "Male",
          "Female",
          "Male",
          "Actor",
          "PA",
          "Inventor",
          "Athlete",
          "Politician",
          "MA",
          "Male",
          "Male",
          "Politician",
          "WI",
          "Producer",
          "Businessperson",
          "Female",
          "GA",
          "Dancer",
          "Male",
          "Male",
          "TN",
          "Male",
          "Social Activist",
          "Military Personnel",
          "Physicist",
          "Inventor",
          "Critic",
          "NM",
          "Musician",
          "Economist",
          "ID",
          "Male",
          "Male",
          "Male",
          "Male",
          "FL",
          "FL",
          "Athlete",
          "Male",
          "Wrestler",
          "Female",
          "Wrestler",
          "Female",
          "Magician",
          "Physician",
          "Comic Artist",
          "Inventor",
          "VA",
          "Male",
          "Economist",
          "Male",
          "Male",
          "Female",
          "PA",
          "Producer",
          "Film Director",
          "Male",
          "Male",
          "Economist",
          "NH",
          "Male",
          "MD",
          "Male",
          "Male",
          "OH",
          "OH",
          "Male",
          "Nobleman",
          "Male",
          "Male",
          "Male",
          "Politician",
          "Male",
          "Cantal",
          "LA",
          "Male",
          "Male",
          "Male",
          "Female",
          "Politician",
          "Male",
          "RI",
          "Musician",
          "Politician",
          "CA",
          "Male",
          "SC",
          "Coach",
          "Magician",
          "Hockey Player",
          "Male",
          "Male",
          "Male",
          "Singer",
          "CA",
          "NC",
          "Male",
          "Medicine",
          "Sin nombre",
          "AL",
          "Sin nombre",
          "Male",
          "IN",
          "Male",
          "Wrestler",
          "Female",
          "Writer",
          "Biologist",
          "Male",
          "Musician",
          "Male",
          "Female",
          "MI",
          "MA",
          "Male",
          "Philosopher",
          "Male",
          "Politician",
          "Historian",
          "Social Sciences",
          "Male",
          "Male",
          "Politician",
          "Male",
          "Male",
          "Sin nombre",
          "Male",
          "MO",
          "Male",
          "MI",
          "Male",
          "Basketball Player",
          "Astronomer",
          "Male",
          "Actor",
          "Pilot",
          "Male",
          "Male",
          "RI",
          "Male",
          "Racecar Driver",
          "IL",
          "Female",
          "Male",
          "Male",
          "Male",
          "Cricketer",
          "Female",
          "Male",
          "IN",
          "MO",
          "Male",
          "Male",
          "Computer Scientist",
          "Male",
          "Male",
          "Economist",
          "Economist",
          "Conductor",
          "Male",
          "Male",
          "Writer",
          "Writer",
          "Writer",
          "Male",
          "History",
          "Female",
          "WA",
          "Male",
          "Male",
          "Female",
          "Social Activist",
          "Writer",
          "Male",
          "Female",
          "Economist",
          "Male",
          "Female",
          "Male",
          "NE",
          "Female",
          "Male",
          "Musician",
          "Businessperson",
          "Musician",
          "Female",
          "Businessperson",
          "Producer",
          "Male",
          "IN",
          "Female",
          "Female",
          "Male",
          "LA",
          "Male",
          "Male",
          "Philosopher",
          "Philosopher",
          "Male",
          "Actor",
          "Male",
          "ME",
          "Male",
          "Actor",
          "Athlete",
          "NY",
          "MO",
          "Male",
          "Male",
          "Male",
          "Male",
          "Male",
          "Male",
          "Religious Figure",
          "Comic Artist",
          "Female",
          "CO",
          "Female",
          "Female",
          "TN",
          "Male",
          "Singer",
          "Female",
          "Female",
          "Female",
          "Male",
          "Female",
          "Religious Figure",
          "Male",
          "CA",
          "Male",
          "CA",
          "Athlete",
          "Physicist",
          "Composer",
          "Economist",
          "Male",
          "Male",
          "Male",
          "Astronomer",
          "Archaeologist",
          "Astronomer",
          "Male",
          "Pirate",
          "Singer",
          "Male",
          "Artist",
          "Extremist",
          "Tennis Player",
          "Engineer",
          "Artist",
          "Male",
          "Engineer",
          "Extremist",
          "Singer",
          "Politician",
          "Astronaut",
          "Politician",
          "Celebrity",
          "Military Personnel",
          "Male",
          "Psychologist",
          "Social Activist",
          "Celebrity",
          "Film Director",
          "Male",
          "Military Personnel",
          "Male",
          "Singer",
          "Athlete",
          "Male",
          "Diplomat",
          "Social Activist",
          "Male",
          "Magician",
          "Actor",
          "Actor",
          "Computer Scientist",
          "Singer",
          "Male",
          "Athlete",
          "Swimmer",
          "Film Director",
          "Male",
          "Female",
          "Tennis Player",
          "GA",
          "Male",
          "NC",
          "GA",
          "NC",
          "Male",
          "Female",
          "Female",
          "CT",
          "Male",
          "Female",
          "Male",
          "Male",
          "Male",
          "Male",
          "Female",
          "Female",
          "Male",
          "CO",
          "Male",
          "Female",
          "Female",
          "Female",
          "Female",
          "Female",
          "Male",
          "PA",
          "Female",
          "Male",
          "Female",
          "Male",
          "Female",
          "IA",
          "Female",
          "Female",
          "Female",
          "Male",
          "Male",
          "Female",
          "Female",
          "Male",
          "SD",
          "Male",
          "Male",
          "MA",
          "Male",
          "Female",
          "Female",
          "Male",
          "MI",
          "Female",
          "Female",
          "Female",
          "Female",
          "Female",
          "Male",
          "IL",
          "Male",
          "Male",
          "Female",
          "Female",
          "OK",
          "Male",
          "Male",
          "TN",
          "IL",
          "Male",
          "Male",
          "Male",
          "Male",
          "Explorers",
          "Female",
          "NJ",
          "Male",
          "Male",
          "Male",
          "Writer",
          "Male",
          "Writer",
          "Female",
          "Male",
          "Male",
          "Male",
          "Male",
          "Female",
          "Female",
          "Female",
          "NY",
          "Female",
          "Female",
          "Male",
          "Female",
          "NJ",
          "Writer",
          "Female",
          "MI",
          "Extremist",
          "MI",
          "TX",
          "Male",
          "Businessperson",
          "Wrestler",
          "Mathematician",
          "Female",
          "Female",
          "Female",
          "Male",
          "Designer",
          "Male",
          "Male",
          "Male",
          "Chemist",
          "Chemist",
          "Male",
          "Female",
          "Female",
          "Writer",
          "Writer",
          "Male",
          "Male",
          "Chemist",
          "Male",
          "Male",
          "Sin nombre",
          "Military Personnel",
          "Male",
          "Politician",
          "Politician",
          "Physician",
          "MA",
          "Tennis Player",
          "Philosopher",
          "Boxer",
          "WV",
          "Male",
          "Pernambuco",
          "NE",
          "Nobleman",
          "CT",
          "Composer",
          "Singer",
          "Female",
          "Male",
          "Male",
          "CA",
          "Physicist",
          "Male",
          "NH",
          "Male",
          "Male",
          "Male",
          "GA",
          "Male",
          "Singer",
          "AZ",
          "PA",
          "NY",
          "Male",
          "Social Activist",
          "VA",
          "Sin nombre",
          "Male",
          "NH",
          "Lazio",
          "CT",
          "Singer",
          "Musician",
          "PA",
          "PA",
          "OR",
          "SD",
          "Photographer",
          "Photographer",
          "Painter",
          "Musician",
          "PA",
          "PA",
          "Musician",
          "Musician",
          "Philosopher",
          "Musician",
          "SC",
          "Musician",
          "Philosopher",
          "SC",
          "SC",
          "SC",
          "Musician",
          "SC",
          "Musician",
          "PA",
          "PA",
          "Musician",
          "Piedmont",
          "Photographer",
          "Painter",
          "Painter",
          "Photographer",
          "TX",
          "SD",
          "Film Director",
          "Film Director",
          "Film Director",
          "Activism",
          "Wales",
          "Film Director",
          "Game Designer",
          "WV",
          "WV",
          "WV",
          "Geographer",
          "Geologist",
          "Geologist",
          "Gymnast",
          "WV",
          "Historian",
          "Historian",
          "WI",
          "WI",
          "Film Director",
          "Film Director",
          "Computer Science",
          "Film Director",
          "Extremist",
          "Extremist",
          "Philosophy",
          "Natural Sciences",
          "Extremist",
          "Fashion Designer",
          "Military",
          "Media Personality",
          "Film Director",
          "WI",
          "Law",
          "Invention",
          "Individual Sports",
          "Film Director",
          "Film Director",
          "Government",
          "Film Director",
          "Dance",
          "Film Director",
          "Film Director",
          "Language",
          "Musician",
          "WI",
          "WA",
          "Mathematician",
          "TN",
          "Mathematician",
          "TN",
          "Sin nombre",
          "Sin nombre",
          "Military Personnel",
          "Sin nombre",
          "Military Personnel",
          "Military Personnel",
          "Sin nombre",
          "Sin nombre",
          "Model",
          "Sin nombre",
          "Model",
          "Musician",
          "Musician",
          "Sao Paulo",
          "Musician",
          "TN",
          "Mathematician",
          "TX",
          "TX",
          "WA",
          "Inventor",
          "VT",
          "VT",
          "VT",
          "VA",
          "Journalist",
          "VA",
          "UT",
          "WA",
          "Lawyer",
          "Lawyer",
          "TX",
          "TX",
          "TX",
          "Linguist",
          "TX",
          "Linguist",
          "Mafioso",
          "TX",
          "Tamaulipas",
          "Physician",
          "ND",
          "Physician",
          "Singer",
          "Singer",
          "CT",
          "CT",
          "CO",
          "Singer",
          "CA",
          "CA",
          "CA",
          "Singer",
          "CA",
          "CA",
          "CA",
          "Singer",
          "CA",
          "Singer",
          "Singer",
          "CA",
          "Buckinghamshire",
          "AZ",
          "Extremist",
          "Sculptor",
          "Sculptor",
          "County Mayo",
          "IL",
          "Producer",
          "IL",
          "IL",
          "IL",
          "Producer",
          "Psychologist",
          "Psychologist",
          "Psychologist",
          "ID",
          "Psychologist",
          "HI",
          "Galicia",
          "Racecar Driver",
          "Racecar Driver",
          "GA",
          "Religious Figure",
          "FL",
          "Religious Figure",
          "Religious Figure",
          "Religious Figure",
          "AR",
          "Singer",
          "Singer",
          "AR",
          "Writer",
          "Social Activist",
          "Social Activist",
          "Sociologist",
          "Sociologist",
          "Sociologist",
          "Writer",
          "Writer",
          "Swimmer",
          "Writer",
          "Wrestler",
          "Swimmer",
          "Wrestler",
          "Wrestler",
          "Swimmer",
          "Tennis Player",
          "Wrestler",
          "Wrestler",
          "Wrestler",
          "Tennis Player",
          "Tennis Player",
          "Writer",
          "IL",
          "Writer",
          "Social Activist",
          "AR",
          "AR",
          "Singer",
          "AL",
          "Singer",
          "Skater",
          "AL",
          "AL",
          "AL",
          "Soccer Player",
          "AL",
          "Writer",
          "Writer",
          "Soccer Player",
          "Writer",
          "Soccer Player",
          "Writer",
          "Writer",
          "Writer",
          "Social Activist",
          "Writer",
          "Social Activist",
          "Presenter",
          "IL",
          "IN",
          "Physicist",
          "NH",
          "NE",
          "Physicist",
          "Physicist",
          "Pilot",
          "ND",
          "NC",
          "NC",
          "NC",
          "NC",
          "MT",
          "Politician",
          "MS",
          "MS",
          "MS",
          "MS",
          "Politician",
          "MO",
          "MN",
          "MN",
          "NH",
          "MN",
          "Physicist",
          "Physicist",
          "Physician",
          "Physician",
          "OH",
          "OH",
          "OH",
          "OH",
          "NY",
          "NY",
          "Physicist",
          "NY",
          "Physicist",
          "NY",
          "NY",
          "NV",
          "NM",
          "Physicist",
          "NJ",
          "NJ",
          "NJ",
          "NJ",
          "Physicist",
          "Physicist",
          "Physician",
          "MN",
          "Politician",
          "MA",
          "La Rioja",
          "LA",
          "Pornographic Actor",
          "LA",
          "Komi ASSR",
          "Kaluga Oblast",
          "Pornographic Actor",
          "Pornographic Actor",
          "Pornographic Actor",
          "KY",
          "KY",
          "KY",
          "KY",
          "KY",
          "KS",
          "Indre-et-Loire",
          "Pornographic Actor",
          "IN",
          "Presenter",
          "IN",
          "Politician",
          "MI",
          "Politician",
          "MA",
          "Politician",
          "Politician",
          "MI",
          "MI",
          "MI",
          "Politician",
          "ME",
          "ME",
          "Politician",
          "ME",
          "MD",
          "Politician",
          "MA",
          "MA",
          "MA",
          "Politician",
          "MA",
          "MA",
          "Politician",
          "MA",
          "Politician",
          "MA",
          "CA",
          "Chef",
          "Explorer",
          "Male",
          "Male",
          "Male",
          "Male",
          "Male",
          "Male",
          "Male",
          "Male",
          "Male",
          "Male",
          "Male",
          "Male",
          "Male",
          "Male",
          "Male",
          "Male",
          "Male",
          "Male",
          "Male",
          "Male",
          "Male",
          "Male",
          "Male",
          "Male",
          "Male",
          "Male",
          "Male",
          "Male",
          "Male",
          "Male",
          "Male",
          "Male",
          "Male",
          "Male",
          "Male",
          "Male",
          "Male",
          "Male",
          "Male",
          "Male",
          "Male",
          "Male",
          "Male",
          "Male",
          "Male",
          "Male",
          "Male",
          "Male",
          "Male",
          "Male",
          "Male",
          "Male",
          "Male",
          "Male",
          "Male",
          "Male",
          "Male",
          "Male",
          "Male",
          "Male",
          "Male",
          "Male",
          "Male",
          "Male",
          "Male",
          "Male",
          "Male",
          "Male",
          "Male",
          "Male",
          "Male",
          "Male",
          "Male",
          "Male",
          "Male",
          "Male",
          "Male",
          "Male",
          "Male",
          "Male",
          "Male",
          "Male",
          "Male",
          "Male",
          "Male",
          "Male",
          "Male",
          "Male",
          "Male",
          "Actor",
          "Actor",
          "Male",
          "Male",
          "Male",
          "Male",
          "Male",
          "Male",
          "Male",
          "Male",
          "Male",
          "Male",
          "Male",
          "Male",
          "Male",
          "Male",
          "Male",
          "Male",
          "Male",
          "Male",
          "Male",
          "Male",
          "Male",
          "Male",
          "Male",
          "Male",
          "Male",
          "Male",
          "Male",
          "Male",
          "Male",
          "Male",
          "Male",
          "Male",
          "Male",
          "Actor",
          "Male",
          "Male",
          "Female",
          "Female",
          "Female",
          "Female",
          "Female",
          "Female",
          "Female",
          "Female",
          "Female",
          "Female",
          "Female",
          "Female",
          "Female",
          "Female",
          "Female",
          "Female",
          "Female",
          "Female",
          "Female",
          "Female",
          "Female",
          "Female",
          "Male",
          "Male",
          "Male",
          "Male",
          "Male",
          "Female",
          "Female",
          "Female",
          "Female",
          "Female",
          "Female",
          "Female",
          "Female",
          "Female",
          "Female",
          "Female",
          "Female",
          "Female",
          "Female",
          "Female",
          "Female",
          "Female",
          "Male",
          "Female",
          "Female",
          "Female",
          "Female",
          "Female",
          "Female",
          "Female",
          "Female",
          "Female",
          "Female",
          "Female",
          "Female",
          "Female",
          "Female",
          "Female",
          "Male",
          "Male",
          "Male",
          "Male",
          "Male",
          "Male",
          "Male",
          "Male",
          "Male",
          "Male",
          "Male",
          "Male",
          "Male",
          "Male",
          "Male",
          "Male",
          "Male",
          "Male",
          "Male",
          "Male",
          "Male",
          "Male",
          "Male",
          "Male",
          "Male",
          "Male",
          "Male",
          "Male",
          "Male",
          "Male",
          "Male",
          "Male",
          "Male",
          "Male",
          "Male",
          "Male",
          "Male",
          "Male",
          "Male",
          "Male",
          "Male",
          "Male",
          "Male",
          "Male",
          "Male",
          "Male",
          "Male",
          "Male",
          "Male",
          "Male",
          "Male",
          "Male",
          "Male",
          "Male",
          "Male",
          "Male",
          "Male",
          "Male",
          "Male",
          "Male",
          "Male",
          "Male",
          "Male",
          "Male",
          "Actor",
          "Male",
          "Team Sports",
          "Chessmaster",
          "Chessmaster",
          "Chemist",
          "Chemist",
          "Chemist",
          "Athlete",
          "Chemist",
          "Chemist",
          "Chemist",
          "Chemist",
          "Baseball Player",
          "Baseball Player",
          "Baseball Player",
          "Chemist",
          "Chemist",
          "Comedian",
          "Comic Artist",
          "Astronomer",
          "Astronomer",
          "Composer",
          "Companion",
          "Artist",
          "Artist",
          "Companion",
          "Astronaut",
          "Astronaut",
          "Chemist",
          "Astronaut",
          "Companion",
          "Companion",
          "Companion",
          "Astronaut",
          "Comic Artist",
          "Comic Artist",
          "Comic Artist",
          "Companion",
          "Chef",
          "Basketball Player",
          "Basketball Player",
          "Biologist",
          "Biologist",
          "Biologist",
          "Businessperson",
          "Businessperson",
          "Businessperson",
          "Biologist",
          "Businessperson",
          "Biologist",
          "Boxer",
          "Biologist",
          "Boxer",
          "Boxer",
          "Boxer",
          "Biologist",
          "Biologist",
          "Businessperson",
          "Architect",
          "Businessperson",
          "Basketball Player",
          "Basketball Player",
          "Celebrity",
          "Celebrity",
          "Basketball Player",
          "Celebrity",
          "Celebrity",
          "Basketball Player",
          "Businessperson",
          "Celebrity",
          "Basketball Player",
          "Basketball Player",
          "Basketball Player",
          "Basketball Player",
          "Businessperson",
          "Basketball Player",
          "Businessperson",
          "Businessperson",
          "Composer",
          "Athlete",
          "Actor",
          "Designer",
          "Diplomat",
          "Dancer",
          "Economist",
          "Anthropologist",
          "Actor",
          "Economist",
          "Anthropologist",
          "Cyclist",
          "Actor",
          "Anthropologist",
          "Cyclist",
          "Computer Scientist",
          "Computer Scientist",
          "Actor",
          "Actor",
          "American Football Player",
          "Diplomat",
          "Critic",
          "Actor",
          "Computer Scientist",
          "Diplomat",
          "Actor",
          "Female",
          "Female",
          "LA",
          "Male",
          "NY",
          "Mafioso",
          "IL",
          "Social Activist",
          "Astronomer",
          "Male",
          "Male",
          "Writer",
          "IL",
          "Male",
          "Physician",
          "Male",
          "Male",
          "NY",
          "Male",
          "Outlaws",
          "Male",
          "Inventor",
          "LA",
          "Economist",
          "Economist",
          "Businessperson",
          "Diplomat",
          "LA",
          "Businessperson",
          "MD",
          "Female",
          "Male",
          "MA",
          "MA",
          "VT",
          "Victoria",
          "Female",
          "Female",
          "Male",
          "MA",
          "WA",
          "Male",
          "Male",
          "WA",
          "Celebrity",
          "WI",
          "Female",
          "Composer",
          "Female",
          "Female",
          "IA",
          "Male",
          "IA",
          "IA",
          "IA",
          "HI",
          "HI",
          "Male",
          "Engineering",
          "Engineer",
          "Female",
          "Female",
          "Female",
          "GA",
          "FL",
          "Female",
          "Male",
          "GA",
          "Male",
          "Female",
          "IL",
          "KY",
          "Male",
          "KY",
          "Male",
          "Musician",
          "Male",
          "Film Director",
          "Male",
          "Businessperson",
          "Fashion Designer",
          "Male",
          "Male",
          "IN",
          "Musician",
          "Business",
          "Male",
          "IN",
          "IN",
          "Male",
          "Male",
          "Military Personnel",
          "MN",
          "Celebrity",
          "Male",
          "OK",
          "OK",
          "OH",
          "Judge",
          "OH",
          "OH",
          "Male",
          "Sin nombre",
          "OH",
          "Sin nombre",
          "Computer Scientist",
          "Male",
          "NY",
          "Golfer",
          "NY",
          "Sin nombre",
          "NY",
          "Linguist",
          "Female",
          "Sin nombre",
          "Historian",
          "OR",
          "Female",
          "Inventor",
          "SC",
          "SC",
          "Computer Scientist",
          "Composer",
          "Inventor",
          "Female",
          "PA",
          "Sin nombre",
          "Female",
          "Sin nombre",
          "Sin nombre",
          "Inventor",
          "PA",
          "PA",
          "Oxfordshire",
          "Male",
          "OR",
          "Male",
          "MI",
          "NY",
          "Female",
          "Female",
          "Film Director",
          "Male",
          "Male",
          "UT",
          "MO",
          "MO",
          "MO",
          "Computer Scientist",
          "VA",
          "MN",
          "Chemist",
          "Male",
          "VA",
          "MI",
          "Male",
          "MI",
          "Male",
          "Diplomat",
          "Film Director",
          "Golfer",
          "NC",
          "Male",
          "NV",
          "NV",
          "NM",
          "TN",
          "Musician",
          "NJ",
          "NJ",
          "Male",
          "NJ",
          "Mafioso",
          "NH",
          "TN",
          "NH",
          "Male",
          "NE",
          "Male",
          "Martial Arts",
          "Mathematician",
          "Male",
          "Male",
          "FL",
          "Actor",
          "Male",
          "Religious Figure",
          "Wrestler",
          "Wrestler",
          "Racecar Driver",
          "Physician",
          "Basketball Player",
          "Physician",
          "Male",
          "Psychologist",
          "Writer",
          "Psychologist",
          "Writer",
          "Writer",
          "Male",
          "Writer",
          "Writer",
          "Male",
          "Presenter",
          "AZ",
          "Male",
          "Painter",
          "Male",
          "Male",
          "Baseball Player",
          "Painter",
          "Male",
          "Male",
          "AL",
          "AL",
          "Male",
          "Politician",
          "Philosopher",
          "Male",
          "Baseball Player",
          "Physician",
          "Male",
          "Architect",
          "Social Activist",
          "Architect",
          "Physicist",
          "Pilot",
          "Singer",
          "Male",
          "Singer",
          "Male",
          "Soccer Player",
          "Physicist",
          "Astronaut",
          "Skater",
          "Soccer Player",
          "Male",
          "Social Activist",
          "Singer",
          "Politician",
          "Wrestler",
          "Religious Figure",
          "Wrestler",
          "Male",
          "Male",
          "Astronomer",
          "Athlete",
          "Physicist",
          "Male",
          "Male",
          "Male",
          "Politician",
          "Male",
          "Tennis Player",
          "Actor",
          "Skier",
          "CT",
          "Musician",
          "Explorer",
          "Male",
          "Pornographic Actor",
          "Actor",
          "Actor",
          "Male",
          "Male",
          "Male",
          "Male",
          "Male",
          "Male",
          "Biologist",
          "Politician",
          "Politician",
          "Male",
          "Musician",
          "Male",
          "Musician",
          "Male",
          "Male",
          "IN",
          "MD",
          "Extremist",
          "Male",
          "Female",
          "KY",
          "UT",
          "Film And Theatre",
          "TN",
          "Male",
          "Male",
          "IA",
          "Mathematician",
          "Male",
          "Male",
          "Military Personnel",
          "CA",
          "Physician",
          "Male",
          "Male",
          "Female",
          "Male",
          "GA",
          "Skater",
          "Cyclist",
          "Male",
          "PA",
          "Male",
          "WI",
          "Actor",
          "Presenter",
          "Pyrénées-Atlantiques",
          "AR",
          "Model",
          "Soccer Player",
          "Mathematician",
          "MD",
          "Male",
          "IN",
          "Singer",
          "NE",
          "Religious Figure",
          "Male",
          "Sin nombre",
          "Female",
          "Swimmer",
          "Astronaut",
          "Male",
          "Male",
          "Actor",
          "Male",
          "Engineer",
          "KS",
          "Female",
          "WI",
          "Astronaut",
          "Male",
          "Female",
          "Male",
          "Male",
          "WI",
          "Female",
          "Companion",
          "Economist",
          "IA",
          "Male",
          "Female",
          "Presenter",
          "Female",
          "Math",
          "Female",
          "Female",
          "Inventor",
          "Explorer",
          "Actor",
          "Male",
          "Female",
          "Female",
          "Female",
          "Female",
          "Female",
          "Singer",
          "Political Scientist",
          "SC",
          "Male",
          "Architect",
          "VT",
          "VA",
          "Female",
          "Female",
          "Female",
          "Politician",
          "Presenter",
          "PA",
          "Politician",
          "WA",
          "Actor",
          "Economist",
          "Female",
          "OR",
          "Inventor",
          "Male",
          "Singer",
          "Music",
          "Male",
          "WA",
          "Female",
          "WA",
          "Inventor",
          "PA",
          "Female",
          "Inventor",
          "Actor",
          "Actor",
          "Female",
          "Female",
          "Composer",
          "Female",
          "Female",
          "WI",
          "Male",
          "Architect",
          "Producer",
          "Politician",
          "Male",
          "Female",
          "Politician",
          "Economist",
          "TX",
          "Politician",
          "Designer",
          "Economist",
          "Male",
          "TX",
          "TN",
          "Referee",
          "Politician",
          "Female",
          "Computer Scientist",
          "Computer Scientist",
          "Female",
          "Female",
          "Male",
          "Male",
          "Württemberg",
          "Female",
          "Politician",
          "Female",
          "Male",
          "Female",
          "TX",
          "Female",
          "Male",
          "Shandong Province",
          "Sin nombre",
          "Politician",
          "Male",
          "Extremist",
          "Anthropologist",
          "Historian",
          "Diplomat",
          "Female",
          "Female",
          "Film Director",
          "VA",
          "Politician",
          "Male",
          "Fine Arts",
          "Male",
          "Actor",
          "Male",
          "Engineer",
          "Female",
          "Female",
          "Female",
          "Politician",
          "Film Director",
          "Psychologist",
          "Female",
          "Female",
          "Psychologist",
          "Design",
          "UT",
          "Male",
          "Sin nombre",
          "Male",
          "Eastern Cape",
          "OK",
          "Male",
          "Mountaineer",
          "LA",
          "Male",
          "Painter",
          "Musician",
          "AZ",
          "KY",
          "Ancona",
          "Basketball Player",
          "Basketball Player",
          "Male",
          "Male",
          "KS",
          "Male",
          "CA",
          "KS",
          "Male",
          "Male",
          "Male",
          "Musician",
          "Male",
          "Male",
          "Photographer",
          "Male",
          "Male",
          "Basketball Player",
          "Male",
          "Basketball Player",
          "Male",
          "MD",
          "MD",
          "Male",
          "Male",
          "MD",
          "MD",
          "Male",
          "Writer",
          "Male",
          "Model",
          "Male",
          "MA",
          "MA",
          "Male",
          "Male",
          "IN",
          "Male",
          "IA",
          "IA",
          "Male",
          "HI",
          "Male",
          "Male",
          "Male",
          "Male",
          "Male",
          "Male",
          "Male",
          "Biologist",
          "Musician",
          "GA",
          "GA",
          "Male",
          "Biologist",
          "Male",
          "Male",
          "Male",
          "Male",
          "ID",
          "Biologist",
          "IN",
          "Male",
          "Businessperson",
          "Male",
          "Male",
          "Musician",
          "CA",
          "Biologist",
          "Male",
          "IL",
          "Male",
          "Male",
          "Male",
          "Male",
          "IL",
          "IL",
          "CO",
          "Male",
          "Male",
          "Writer",
          "Male",
          "Male",
          "Male",
          "Male",
          "Astronaut",
          "Male",
          "Male",
          "NY",
          "Social Activist",
          "Astronomer",
          "NY",
          "Male",
          "Sociologist",
          "Male",
          "Physicist",
          "Male",
          "NM",
          "Astronomer",
          "Male",
          "Male",
          "Male",
          "Lawyer",
          "Male",
          "Male",
          "Male",
          "Male",
          "OK",
          "Male",
          "Soccer Player",
          "OH",
          "Physicist",
          "Male",
          "OH",
          "Male",
          "Soccer Player",
          "Male",
          "OH",
          "Judge",
          "OH",
          "Male",
          "OH",
          "Male",
          "Male",
          "Social Activist",
          "Male",
          "Male",
          "Male",
          "Mafioso",
          "Male",
          "Military Personnel",
          "Military Personnel",
          "Wrestler",
          "Military Personnel",
          "Wrestler",
          "Male",
          "Male",
          "MO",
          "Male",
          "MN",
          "Military Personnel",
          "Male",
          "MN",
          "Basketball Player",
          "Writer",
          "Male",
          "Military Personnel",
          "Basketball Player",
          "MT",
          "Male",
          "Male",
          "Chemist",
          "Mafioso",
          "Male",
          "Male",
          "NJ",
          "Chemist",
          "Male",
          "Male",
          "Male",
          "Male",
          "Skier",
          "Athlete",
          "Athlete",
          "Male",
          "Tennis Player",
          "Male",
          "Chemist",
          "Athlete",
          "NE",
          "Male",
          "Wrestler",
          "Male",
          "Male"
         ],
         "marker": {
          "colors": [
           "#636efa",
           "#EF553B",
           "#00cc96",
           "#ab63fa",
           "#FFA15A",
           "#19d3f3",
           "#FF6692",
           "#B6E880",
           "#FF97FF",
           "#FFA15A",
           "#FECB52",
           "#ab63fa",
           "#FF97FF",
           "#636efa",
           "#EF553B",
           "#00cc96",
           "#636efa",
           "#ab63fa",
           "#00cc96",
           "#FFA15A",
           "#19d3f3",
           "#FF6692",
           "#FFA15A",
           "#B6E880",
           "#FF97FF",
           "#FECB52",
           "#FECB52",
           "#636efa",
           "#FFA15A",
           "#EF553B",
           "#19d3f3",
           "#EF553B",
           "#00cc96",
           "#FECB52",
           "#ab63fa",
           "#EF553B",
           "#EF553B",
           "#19d3f3",
           "#FFA15A",
           "#FF6692",
           "#19d3f3",
           "#00cc96",
           "#FF6692",
           "#636efa",
           "#00cc96",
           "#EF553B",
           "#B6E880",
           "#ab63fa",
           "#FF97FF",
           "#00cc96",
           "#FECB52",
           "#ab63fa",
           "#FECB52",
           "#636efa",
           "#00cc96",
           "#EF553B",
           "#19d3f3",
           "#636efa",
           "#B6E880",
           "#EF553B",
           "#636efa",
           "#00cc96",
           "#636efa",
           "#FFA15A",
           "#FF97FF",
           "#FFA15A",
           "#ab63fa",
           "#FFA15A",
           "#00cc96",
           "#FF6692",
           "#636efa",
           "#FF6692",
           "#19d3f3",
           "#FECB52",
           "#ab63fa",
           "#FFA15A",
           "#00cc96",
           "#FF6692",
           "#19d3f3",
           "#FFA15A",
           "#FF97FF",
           "#B6E880",
           "#FF6692",
           "#636efa",
           "#B6E880",
           "#FF97FF",
           "#FECB52",
           "#636efa",
           "#FFA15A",
           "#EF553B",
           "#EF553B",
           "#636efa",
           "#B6E880",
           "#19d3f3",
           "#B6E880",
           "#636efa",
           "#00cc96",
           "#00cc96",
           "#FFA15A",
           "#ab63fa",
           "#ab63fa",
           "#ab63fa",
           "#FECB52",
           "#FFA15A",
           "#00cc96",
           "#19d3f3",
           "#FFA15A",
           "#19d3f3",
           "#636efa",
           "#FFA15A",
           "#FFA15A",
           "#EF553B",
           "#ab63fa",
           "#EF553B",
           "#ab63fa",
           "#00cc96",
           "#FF6692",
           "#FFA15A",
           "#00cc96",
           "#B6E880",
           "#00cc96",
           "#FECB52",
           "#EF553B",
           "#FECB52",
           "#636efa",
           "#FFA15A",
           "#FF6692",
           "#00cc96",
           "#B6E880",
           "#B6E880",
           "#FF97FF",
           "#FFA15A",
           "#FECB52",
           "#FECB52",
           "#FECB52",
           "#ab63fa",
           "#FFA15A",
           "#636efa",
           "#636efa",
           "#EF553B",
           "#ab63fa",
           "#00cc96",
           "#00cc96",
           "#00cc96",
           "#ab63fa",
           "#ab63fa",
           "#FF97FF",
           "#19d3f3",
           "#EF553B",
           "#FECB52",
           "#636efa",
           "#FFA15A",
           "#EF553B",
           "#636efa",
           "#EF553B",
           "#636efa",
           "#00cc96",
           "#EF553B",
           "#00cc96",
           "#636efa",
           "#EF553B",
           "#00cc96",
           "#EF553B",
           "#636efa",
           "#FF97FF",
           "#636efa",
           "#636efa",
           "#FFA15A",
           "#FF6692",
           "#FFA15A",
           "#FFA15A",
           "#00cc96",
           "#ab63fa",
           "#EF553B",
           "#19d3f3",
           "#636efa",
           "#B6E880",
           "#00cc96",
           "#FF6692",
           "#EF553B",
           "#19d3f3",
           "#00cc96",
           "#EF553B",
           "#B6E880",
           "#FF97FF",
           "#B6E880",
           "#636efa",
           "#ab63fa",
           "#636efa",
           "#FFA15A",
           "#FF97FF",
           "#00cc96",
           "#FECB52",
           "#00cc96",
           "#FF97FF",
           "#636efa",
           "#FFA15A",
           "#EF553B",
           "#EF553B",
           "#00cc96",
           "#EF553B",
           "#B6E880",
           "#636efa",
           "#636efa",
           "#FFA15A",
           "#19d3f3",
           "#FFA15A",
           "#19d3f3",
           "#B6E880",
           "#00cc96",
           "#19d3f3",
           "#FECB52",
           "#ab63fa",
           "#FFA15A",
           "#FFA15A",
           "#19d3f3",
           "#636efa",
           "#ab63fa",
           "#19d3f3",
           "#FF97FF",
           "#EF553B",
           "#636efa",
           "#FFA15A",
           "#FF6692",
           "#00cc96",
           "#FFA15A",
           "#FFA15A",
           "#FF6692",
           "#FFA15A",
           "#636efa",
           "#FF6692",
           "#19d3f3",
           "#FF97FF",
           "#B6E880",
           "#FFA15A",
           "#FFA15A",
           "#19d3f3",
           "#19d3f3",
           "#ab63fa",
           "#ab63fa",
           "#B6E880",
           "#ab63fa",
           "#FFA15A",
           "#00cc96",
           "#FFA15A",
           "#FF6692",
           "#636efa",
           "#FFA15A",
           "#ab63fa",
           "#ab63fa",
           "#FECB52",
           "#636efa",
           "#EF553B",
           "#FF97FF",
           "#636efa",
           "#ab63fa",
           "#FFA15A",
           "#FFA15A",
           "#636efa",
           "#19d3f3",
           "#00cc96",
           "#FFA15A",
           "#00cc96",
           "#FF6692",
           "#FF97FF",
           "#ab63fa",
           "#FFA15A",
           "#FFA15A",
           "#EF553B",
           "#FF97FF",
           "#EF553B",
           "#ab63fa",
           "#636efa",
           "#EF553B",
           "#EF553B",
           "#EF553B",
           "#636efa",
           "#EF553B",
           "#00cc96",
           "#FFA15A",
           "#00cc96",
           "#ab63fa",
           "#19d3f3",
           "#FF6692",
           "#FFA15A",
           "#636efa",
           "#B6E880",
           "#00cc96",
           "#FFA15A",
           "#FECB52",
           "#ab63fa",
           "#636efa",
           "#FF97FF",
           "#FF97FF",
           "#B6E880",
           "#FF97FF",
           "#00cc96",
           "#00cc96",
           "#FF6692",
           "#ab63fa",
           "#636efa",
           "#636efa",
           "#FECB52",
           "#636efa",
           "#FFA15A",
           "#FF6692",
           "#FECB52",
           "#636efa",
           "#FFA15A",
           "#636efa",
           "#636efa",
           "#636efa",
           "#636efa",
           "#ab63fa",
           "#00cc96",
           "#FF97FF",
           "#B6E880",
           "#FECB52",
           "#EF553B",
           "#FF6692",
           "#FFA15A",
           "#FFA15A",
           "#ab63fa",
           "#636efa",
           "#B6E880",
           "#B6E880",
           "#EF553B",
           "#FFA15A",
           "#FFA15A",
           "#FFA15A",
           "#00cc96",
           "#00cc96",
           "#00cc96",
           "#B6E880",
           "#B6E880",
           "#EF553B",
           "#00cc96",
           "#B6E880",
           "#00cc96",
           "#00cc96",
           "#19d3f3",
           "#FFA15A",
           "#ab63fa",
           "#B6E880",
           "#FECB52",
           "#EF553B",
           "#B6E880",
           "#19d3f3",
           "#FFA15A",
           "#FFA15A",
           "#FF97FF",
           "#FF97FF",
           "#FF97FF",
           "#FF6692",
           "#19d3f3",
           "#00cc96",
           "#FFA15A",
           "#FF97FF",
           "#19d3f3",
           "#19d3f3",
           "#19d3f3",
           "#B6E880",
           "#FF97FF",
           "#FFA15A",
           "#636efa",
           "#EF553B",
           "#FFA15A",
           "#636efa",
           "#636efa",
           "#FECB52",
           "#B6E880",
           "#FFA15A",
           "#636efa",
           "#FF97FF",
           "#19d3f3",
           "#FFA15A",
           "#B6E880",
           "#B6E880",
           "#FECB52",
           "#FECB52",
           "#FF97FF",
           "#FFA15A",
           "#19d3f3",
           "#FECB52",
           "#FF6692",
           "#19d3f3",
           "#ab63fa",
           "#FF97FF",
           "#FF6692",
           "#ab63fa",
           "#636efa",
           "#636efa",
           "#ab63fa",
           "#EF553B",
           "#636efa",
           "#FF6692",
           "#FFA15A",
           "#636efa",
           "#FECB52",
           "#00cc96",
           "#FFA15A",
           "#EF553B",
           "#B6E880",
           "#FFA15A",
           "#B6E880",
           "#B6E880",
           "#636efa",
           "#ab63fa",
           "#00cc96",
           "#636efa",
           "#19d3f3",
           "#FFA15A",
           "#EF553B",
           "#FF97FF",
           "#EF553B",
           "#636efa",
           "#19d3f3",
           "#00cc96",
           "#FECB52",
           "#FECB52",
           "#ab63fa",
           "#636efa",
           "#FF6692",
           "#B6E880",
           "#FFA15A",
           "#636efa",
           "#B6E880",
           "#FFA15A",
           "#636efa",
           "#636efa",
           "#FF97FF",
           "#FFA15A",
           "#636efa",
           "#ab63fa",
           "#636efa",
           "#FFA15A",
           "#19d3f3",
           "#00cc96",
           "#19d3f3",
           "#00cc96",
           "#FECB52",
           "#ab63fa",
           "#B6E880",
           "#00cc96",
           "#B6E880",
           "#B6E880",
           "#EF553B",
           "#00cc96",
           "#19d3f3",
           "#00cc96",
           "#19d3f3",
           "#FFA15A",
           "#B6E880",
           "#FFA15A",
           "#FFA15A",
           "#636efa",
           "#EF553B",
           "#00cc96",
           "#FFA15A",
           "#FFA15A",
           "#FF97FF",
           "#FFA15A",
           "#00cc96",
           "#FECB52",
           "#19d3f3",
           "#FECB52",
           "#B6E880",
           "#636efa",
           "#ab63fa",
           "#FFA15A",
           "#EF553B",
           "#FF97FF",
           "#FFA15A",
           "#00cc96",
           "#FFA15A",
           "#636efa",
           "#FF6692",
           "#FECB52",
           "#00cc96",
           "#636efa",
           "#EF553B",
           "#FFA15A",
           "#00cc96",
           "#EF553B",
           "#EF553B",
           "#ab63fa",
           "#00cc96",
           "#EF553B",
           "#19d3f3",
           "#ab63fa",
           "#FF97FF",
           "#636efa",
           "#FF6692",
           "#B6E880",
           "#FECB52",
           "#FFA15A",
           "#FF6692",
           "#19d3f3",
           "#B6E880",
           "#EF553B",
           "#636efa",
           "#FFA15A",
           "#FF97FF",
           "#FECB52",
           "#B6E880",
           "#19d3f3",
           "#636efa",
           "#FFA15A",
           "#FECB52",
           "#FFA15A",
           "#FF6692",
           "#FF6692",
           "#FF6692",
           "#B6E880",
           "#ab63fa",
           "#19d3f3",
           "#FF97FF",
           "#FF6692",
           "#636efa",
           "#636efa",
           "#636efa",
           "#EF553B",
           "#FFA15A",
           "#FFA15A",
           "#B6E880",
           "#EF553B",
           "#00cc96",
           "#FFA15A",
           "#FFA15A",
           "#636efa",
           "#00cc96",
           "#FFA15A",
           "#FF6692",
           "#FF97FF",
           "#636efa",
           "#FECB52",
           "#636efa",
           "#FFA15A",
           "#ab63fa",
           "#EF553B",
           "#19d3f3",
           "#B6E880",
           "#00cc96",
           "#FFA15A",
           "#FF97FF",
           "#FFA15A",
           "#B6E880",
           "#FECB52",
           "#FECB52",
           "#B6E880",
           "#00cc96",
           "#FECB52",
           "#FFA15A",
           "#EF553B",
           "#00cc96",
           "#636efa",
           "#00cc96",
           "#636efa",
           "#B6E880",
           "#ab63fa",
           "#FF6692",
           "#FFA15A",
           "#ab63fa",
           "#EF553B",
           "#FFA15A",
           "#EF553B",
           "#ab63fa",
           "#B6E880",
           "#19d3f3",
           "#636efa",
           "#636efa",
           "#ab63fa",
           "#FF97FF",
           "#636efa",
           "#EF553B",
           "#FF6692",
           "#B6E880",
           "#EF553B",
           "#B6E880",
           "#EF553B",
           "#EF553B",
           "#00cc96",
           "#EF553B",
           "#636efa",
           "#B6E880",
           "#636efa",
           "#FF6692",
           "#636efa",
           "#00cc96",
           "#FF6692",
           "#636efa",
           "#FFA15A",
           "#ab63fa",
           "#00cc96",
           "#636efa",
           "#FF6692",
           "#636efa",
           "#00cc96",
           "#FFA15A",
           "#636efa",
           "#636efa",
           "#FECB52",
           "#636efa",
           "#FF97FF",
           "#EF553B",
           "#FFA15A",
           "#FFA15A",
           "#FECB52",
           "#FECB52",
           "#EF553B",
           "#00cc96",
           "#00cc96",
           "#636efa",
           "#FFA15A",
           "#B6E880",
           "#00cc96",
           "#FF6692",
           "#FF97FF",
           "#19d3f3",
           "#EF553B",
           "#636efa",
           "#636efa",
           "#FF6692",
           "#00cc96",
           "#636efa",
           "#FFA15A",
           "#EF553B",
           "#636efa",
           "#636efa",
           "#FECB52",
           "#ab63fa",
           "#B6E880",
           "#EF553B",
           "#EF553B",
           "#EF553B",
           "#FF6692",
           "#FF6692",
           "#FFA15A",
           "#636efa",
           "#FF6692",
           "#FFA15A",
           "#FF6692",
           "#B6E880",
           "#EF553B",
           "#FFA15A",
           "#00cc96",
           "#636efa",
           "#FFA15A",
           "#ab63fa",
           "#00cc96",
           "#636efa",
           "#FECB52",
           "#00cc96",
           "#EF553B",
           "#ab63fa",
           "#EF553B",
           "#FFA15A",
           "#ab63fa",
           "#EF553B",
           "#EF553B",
           "#636efa",
           "#B6E880",
           "#EF553B",
           "#ab63fa",
           "#EF553B",
           "#EF553B",
           "#00cc96",
           "#FF6692",
           "#FF6692",
           "#FFA15A",
           "#FFA15A",
           "#FFA15A",
           "#B6E880",
           "#19d3f3",
           "#FFA15A",
           "#FECB52",
           "#636efa",
           "#B6E880",
           "#ab63fa",
           "#FF97FF",
           "#FECB52",
           "#636efa",
           "#FFA15A",
           "#FF6692",
           "#ab63fa",
           "#FF97FF",
           "#EF553B",
           "#00cc96",
           "#ab63fa",
           "#FECB52",
           "#636efa",
           "#FECB52",
           "#FFA15A",
           "#FFA15A",
           "#EF553B",
           "#00cc96",
           "#FECB52",
           "#ab63fa",
           "#ab63fa",
           "#EF553B",
           "#FF6692",
           "#00cc96",
           "#636efa",
           "#FECB52",
           "#FFA15A",
           "#00cc96",
           "#636efa",
           "#FFA15A",
           "#00cc96",
           "#FFA15A",
           "#FF97FF",
           "#FECB52",
           "#FF97FF",
           "#FFA15A",
           "#636efa",
           "#FFA15A",
           "#00cc96",
           "#00cc96",
           "#636efa",
           "#B6E880",
           "#B6E880",
           "#00cc96",
           "#FFA15A",
           "#B6E880",
           "#636efa",
           "#FFA15A",
           "#00cc96",
           "#B6E880",
           "#00cc96",
           "#19d3f3",
           "#FECB52",
           "#FF6692",
           "#636efa",
           "#B6E880",
           "#19d3f3",
           "#00cc96",
           "#636efa",
           "#FECB52",
           "#B6E880",
           "#FFA15A",
           "#FECB52",
           "#EF553B",
           "#ab63fa",
           "#B6E880",
           "#EF553B",
           "#ab63fa",
           "#FFA15A",
           "#FFA15A",
           "#636efa",
           "#FFA15A",
           "#EF553B",
           "#FECB52",
           "#FECB52",
           "#00cc96",
           "#FFA15A",
           "#FFA15A",
           "#B6E880",
           "#19d3f3",
           "#B6E880",
           "#636efa",
           "#636efa",
           "#EF553B",
           "#FF6692",
           "#B6E880",
           "#ab63fa",
           "#636efa",
           "#636efa",
           "#FECB52",
           "#FF97FF",
           "#19d3f3",
           "#FECB52",
           "#00cc96",
           "#19d3f3",
           "#19d3f3",
           "#00cc96",
           "#636efa",
           "#FECB52",
           "#B6E880",
           "#EF553B",
           "#FECB52",
           "#FECB52",
           "#EF553B",
           "#636efa",
           "#ab63fa",
           "#FF97FF",
           "#EF553B",
           "#EF553B",
           "#FF97FF",
           "#ab63fa",
           "#636efa",
           "#636efa",
           "#FFA15A",
           "#FFA15A",
           "#FF97FF",
           "#19d3f3",
           "#FFA15A",
           "#FFA15A",
           "#19d3f3",
           "#FFA15A",
           "#19d3f3",
           "#19d3f3",
           "#ab63fa",
           "#19d3f3",
           "#00cc96",
           "#FFA15A",
           "#ab63fa",
           "#636efa",
           "#ab63fa",
           "#00cc96",
           "#B6E880",
           "#FF97FF",
           "#FF97FF",
           "#19d3f3",
           "#636efa",
           "#EF553B",
           "#ab63fa",
           "#FECB52",
           "#FECB52",
           "#EF553B",
           "#ab63fa",
           "#636efa",
           "#636efa",
           "#636efa",
           "#EF553B",
           "#19d3f3",
           "#FFA15A",
           "#FF97FF",
           "#636efa",
           "#FFA15A",
           "#FECB52",
           "#FFA15A",
           "#FFA15A",
           "#FFA15A",
           "#EF553B",
           "#EF553B",
           "#EF553B",
           "#EF553B",
           "#FFA15A",
           "#FFA15A",
           "#FF97FF",
           "#FFA15A",
           "#FFA15A",
           "#FFA15A",
           "#FFA15A",
           "#636efa",
           "#EF553B",
           "#FFA15A",
           "#00cc96",
           "#FFA15A",
           "#636efa",
           "#EF553B",
           "#FFA15A",
           "#FFA15A",
           "#636efa",
           "#636efa",
           "#B6E880",
           "#FF6692",
           "#ab63fa",
           "#FF6692",
           "#FF97FF",
           "#EF553B",
           "#00cc96",
           "#FECB52",
           "#FFA15A",
           "#00cc96",
           "#00cc96",
           "#FFA15A",
           "#FF6692",
           "#19d3f3",
           "#19d3f3",
           "#ab63fa",
           "#FFA15A",
           "#FFA15A",
           "#EF553B",
           "#EF553B",
           "#EF553B",
           "#B6E880",
           "#19d3f3",
           "#636efa",
           "#ab63fa",
           "#636efa",
           "#FECB52",
           "#19d3f3",
           "#00cc96",
           "#00cc96",
           "#19d3f3",
           "#00cc96",
           "#B6E880",
           "#FF6692",
           "#19d3f3",
           "#19d3f3",
           "#FECB52",
           "#00cc96",
           "#B6E880",
           "#ab63fa",
           "#636efa",
           "#00cc96",
           "#FFA15A",
           "#B6E880",
           "#FF97FF",
           "#EF553B",
           "#636efa",
           "#FFA15A",
           "#FF6692",
           "#636efa",
           "#B6E880",
           "#B6E880",
           "#00cc96",
           "#636efa",
           "#FECB52",
           "#FFA15A",
           "#00cc96",
           "#636efa",
           "#636efa",
           "#B6E880",
           "#B6E880",
           "#FECB52",
           "#636efa",
           "#FF97FF",
           "#636efa",
           "#ab63fa",
           "#FF6692",
           "#FFA15A",
           "#EF553B",
           "#19d3f3",
           "#636efa",
           "#FFA15A",
           "#00cc96",
           "#FFA15A",
           "#FFA15A",
           "#B6E880",
           "#EF553B",
           "#00cc96",
           "#636efa",
           "#EF553B",
           "#EF553B",
           "#FF6692",
           "#EF553B",
           "#636efa",
           "#EF553B",
           "#FF6692",
           "#EF553B",
           "#FECB52",
           "#B6E880",
           "#EF553B",
           "#636efa",
           "#EF553B",
           "#636efa",
           "#FF6692",
           "#EF553B",
           "#ab63fa",
           "#FFA15A",
           "#B6E880",
           "#B6E880",
           "#FFA15A",
           "#00cc96",
           "#636efa",
           "#00cc96",
           "#00cc96",
           "#00cc96",
           "#B6E880",
           "#00cc96",
           "#00cc96",
           "#19d3f3",
           "#636efa",
           "#636efa",
           "#FF97FF",
           "#ab63fa",
           "#FFA15A",
           "#FFA15A",
           "#19d3f3",
           "#EF553B",
           "#FF6692",
           "#FF6692",
           "#636efa",
           "#636efa",
           "#00cc96",
           "#00cc96",
           "#636efa",
           "#00cc96",
           "#636efa",
           "#636efa",
           "#FF6692",
           "#636efa",
           "#636efa",
           "#ab63fa",
           "#636efa",
           "#636efa",
           "#00cc96",
           "#19d3f3",
           "#19d3f3",
           "#FF6692",
           "#636efa",
           "#00cc96",
           "#00cc96",
           "#636efa",
           "#00cc96",
           "#19d3f3",
           "#00cc96",
           "#00cc96",
           "#636efa",
           "#EF553B",
           "#FF6692",
           "#FFA15A",
           "#FF97FF",
           "#636efa",
           "#FF97FF",
           "#00cc96",
           "#19d3f3",
           "#636efa",
           "#FECB52",
           "#636efa",
           "#FECB52",
           "#FECB52",
           "#636efa",
           "#636efa",
           "#FECB52",
           "#ab63fa",
           "#FECB52",
           "#EF553B",
           "#EF553B",
           "#FECB52",
           "#EF553B",
           "#636efa",
           "#FF97FF",
           "#636efa",
           "#B6E880",
           "#B6E880",
           "#FF6692",
           "#ab63fa",
           "#636efa",
           "#00cc96",
           "#FFA15A",
           "#FF97FF",
           "#EF553B",
           "#636efa",
           "#19d3f3",
           "#19d3f3",
           "#19d3f3",
           "#FFA15A",
           "#19d3f3",
           "#EF553B",
           "#FECB52",
           "#636efa",
           "#FECB52",
           "#FFA15A",
           "#636efa",
           "#B6E880",
           "#19d3f3",
           "#636efa",
           "#19d3f3",
           "#FFA15A",
           "#FFA15A",
           "#FFA15A",
           "#FFA15A",
           "#FF6692",
           "#FFA15A",
           "#636efa",
           "#636efa",
           "#FECB52",
           "#FFA15A",
           "#636efa",
           "#636efa",
           "#B6E880",
           "#FFA15A",
           "#00cc96",
           "#FFA15A",
           "#FFA15A",
           "#ab63fa",
           "#00cc96",
           "#FFA15A",
           "#636efa",
           "#B6E880",
           "#B6E880",
           "#00cc96",
           "#636efa",
           "#EF553B",
           "#636efa",
           "#00cc96",
           "#B6E880",
           "#EF553B",
           "#636efa",
           "#636efa",
           "#636efa",
           "#FFA15A",
           "#636efa",
           "#FFA15A",
           "#FECB52",
           "#00cc96",
           "#00cc96",
           "#636efa",
           "#ab63fa",
           "#FFA15A",
           "#ab63fa",
           "#ab63fa",
           "#ab63fa",
           "#636efa",
           "#FFA15A",
           "#FFA15A",
           "#FFA15A",
           "#EF553B",
           "#B6E880",
           "#B6E880",
           "#00cc96",
           "#00cc96",
           "#00cc96",
           "#EF553B",
           "#EF553B",
           "#FECB52",
           "#EF553B",
           "#FF6692",
           "#FECB52",
           "#FF6692",
           "#FF6692",
           "#FECB52",
           "#B6E880",
           "#FF6692",
           "#FF6692",
           "#FF6692",
           "#B6E880",
           "#B6E880",
           "#EF553B",
           "#636efa",
           "#EF553B",
           "#B6E880",
           "#FECB52",
           "#00cc96",
           "#FFA15A",
           "#636efa",
           "#FFA15A",
           "#EF553B",
           "#19d3f3",
           "#EF553B",
           "#FF6692",
           "#FECB52",
           "#636efa",
           "#EF553B",
           "#EF553B",
           "#FECB52",
           "#EF553B",
           "#FECB52",
           "#EF553B",
           "#EF553B",
           "#EF553B",
           "#B6E880",
           "#EF553B",
           "#B6E880",
           "#FF97FF",
           "#636efa",
           "#636efa",
           "#FFA15A",
           "#B6E880",
           "#EF553B",
           "#FFA15A",
           "#FFA15A",
           "#FFA15A",
           "#FFA15A",
           "#636efa",
           "#636efa",
           "#19d3f3",
           "#636efa",
           "#FF97FF",
           "#00cc96",
           "#636efa",
           "#FF97FF",
           "#EF553B",
           "#636efa",
           "#00cc96",
           "#EF553B",
           "#636efa",
           "#EF553B",
           "#19d3f3",
           "#636efa",
           "#FFA15A",
           "#FFA15A",
           "#19d3f3",
           "#19d3f3",
           "#EF553B",
           "#636efa",
           "#B6E880",
           "#EF553B",
           "#636efa",
           "#FF6692",
           "#FFA15A",
           "#636efa",
           "#FFA15A",
           "#636efa",
           "#636efa",
           "#EF553B",
           "#00cc96",
           "#FFA15A",
           "#636efa",
           "#ab63fa",
           "#636efa",
           "#636efa",
           "#FFA15A",
           "#FFA15A",
           "#19d3f3",
           "#FF97FF",
           "#00cc96",
           "#EF553B",
           "#00cc96",
           "#636efa",
           "#EF553B",
           "#00cc96",
           "#FFA15A",
           "#00cc96",
           "#EF553B",
           "#EF553B",
           "#EF553B",
           "#EF553B",
           "#00cc96",
           "#636efa",
           "#FF97FF",
           "#ab63fa",
           "#19d3f3",
           "#FF6692",
           "#EF553B",
           "#19d3f3",
           "#FF97FF",
           "#B6E880",
           "#00cc96",
           "#636efa",
           "#00cc96",
           "#FF6692",
           "#00cc96",
           "#00cc96",
           "#636efa",
           "#636efa",
           "#636efa",
           "#00cc96",
           "#EF553B",
           "#00cc96",
           "#00cc96",
           "#636efa",
           "#636efa",
           "#00cc96",
           "#636efa",
           "#FF6692",
           "#636efa",
           "#00cc96",
           "#19d3f3",
           "#FF97FF",
           "#00cc96",
           "#EF553B",
           "#00cc96",
           "#636efa",
           "#FFA15A",
           "#FF6692",
           "#00cc96",
           "#EF553B",
           "#EF553B",
           "#EF553B",
           "#EF553B",
           "#EF553B",
           "#EF553B",
           "#B6E880",
           "#FF6692",
           "#FF6692",
           "#FF6692",
           "#19d3f3",
           "#19d3f3",
           "#19d3f3",
           "#19d3f3",
           "#FFA15A",
           "#FFA15A",
           "#FFA15A",
           "#FFA15A",
           "#FFA15A",
           "#FFA15A",
           "#FFA15A",
           "#FFA15A",
           "#FFA15A",
           "#00cc96",
           "#00cc96",
           "#00cc96",
           "#00cc96",
           "#EF553B",
           "#EF553B",
           "#EF553B",
           "#EF553B",
           "#636efa",
           "#B6E880",
           "#B6E880",
           "#B6E880",
           "#636efa",
           "#636efa",
           "#636efa",
           "#00cc96",
           "#00cc96",
           "#19d3f3",
           "#19d3f3",
           "#ab63fa",
           "#FFA15A",
           "#00cc96",
           "#FFA15A",
           "#FF6692",
           "#FF6692",
           "#FF6692",
           "#FF6692",
           "#FECB52",
           "#ab63fa",
           "#B6E880",
           "#FF97FF",
           "#FECB52",
           "#FECB52",
           "#FECB52",
           "#EF553B",
           "#EF553B",
           "#19d3f3",
           "#00cc96",
           "#00cc96",
           "#00cc96",
           "#FECB52",
           "#FECB52",
           "#FECB52",
           "#B6E880",
           "#B6E880",
           "#B6E880",
           "#B6E880",
           "#00cc96",
           "#00cc96",
           "#B6E880",
           "#B6E880",
           "#B6E880",
           "#B6E880",
           "#EF553B",
           "#B6E880",
           "#FF6692",
           "#FF6692",
           "#FF6692",
           "#EF553B",
           "#EF553B",
           "#EF553B",
           "#EF553B",
           "#EF553B",
           "#EF553B",
           "#EF553B",
           "#EF553B",
           "#FFA15A",
           "#FFA15A",
           "#FF6692",
           "#636efa",
           "#FFA15A",
           "#FFA15A",
           "#00cc96",
           "#00cc96",
           "#00cc96",
           "#00cc96",
           "#00cc96",
           "#00cc96",
           "#FF97FF",
           "#EF553B",
           "#EF553B",
           "#EF553B",
           "#636efa",
           "#636efa",
           "#636efa",
           "#FFA15A",
           "#636efa",
           "#ab63fa",
           "#ab63fa",
           "#ab63fa",
           "#B6E880",
           "#FFA15A",
           "#FFA15A",
           "#FFA15A",
           "#FFA15A",
           "#FFA15A",
           "#FFA15A",
           "#FFA15A",
           "#FFA15A",
           "#FFA15A",
           "#EF553B",
           "#FFA15A",
           "#636efa",
           "#636efa",
           "#EF553B",
           "#B6E880",
           "#19d3f3",
           "#FFA15A",
           "#00cc96",
           "#00cc96",
           "#00cc96",
           "#EF553B",
           "#FF97FF",
           "#00cc96",
           "#FFA15A",
           "#FFA15A",
           "#FFA15A",
           "#FFA15A",
           "#FFA15A",
           "#FFA15A",
           "#ab63fa",
           "#B6E880",
           "#B6E880",
           "#EF553B",
           "#EF553B",
           "#EF553B",
           "#FFA15A",
           "#FFA15A",
           "#FFA15A",
           "#FFA15A",
           "#FFA15A",
           "#EF553B",
           "#EF553B",
           "#EF553B",
           "#FF97FF",
           "#FFA15A",
           "#FFA15A",
           "#FFA15A",
           "#FFA15A",
           "#FFA15A",
           "#FFA15A",
           "#FFA15A",
           "#FFA15A",
           "#FECB52",
           "#B6E880",
           "#FF97FF",
           "#FECB52",
           "#B6E880",
           "#FFA15A",
           "#B6E880",
           "#FF6692",
           "#ab63fa",
           "#ab63fa",
           "#ab63fa",
           "#ab63fa",
           "#19d3f3",
           "#19d3f3",
           "#19d3f3",
           "#ab63fa",
           "#636efa",
           "#00cc96",
           "#00cc96",
           "#FF97FF",
           "#ab63fa",
           "#FFA15A",
           "#FFA15A",
           "#FFA15A",
           "#19d3f3",
           "#ab63fa",
           "#ab63fa",
           "#ab63fa",
           "#ab63fa",
           "#ab63fa",
           "#19d3f3",
           "#19d3f3",
           "#19d3f3",
           "#19d3f3",
           "#19d3f3",
           "#FF97FF",
           "#636efa",
           "#19d3f3",
           "#636efa",
           "#FF97FF",
           "#00cc96",
           "#00cc96",
           "#00cc96",
           "#636efa",
           "#636efa",
           "#FECB52",
           "#FF97FF",
           "#FFA15A",
           "#FFA15A",
           "#19d3f3",
           "#00cc96",
           "#ab63fa",
           "#FF97FF",
           "#636efa",
           "#B6E880",
           "#B6E880",
           "#FFA15A",
           "#FF6692",
           "#FF6692",
           "#FECB52",
           "#EF553B",
           "#EF553B",
           "#00cc96",
           "#00cc96",
           "#B6E880",
           "#B6E880",
           "#B6E880",
           "#B6E880",
           "#FF97FF",
           "#B6E880",
           "#FF97FF",
           "#FECB52",
           "#FECB52",
           "#FECB52",
           "#636efa",
           "#636efa",
           "#636efa",
           "#636efa",
           "#636efa",
           "#636efa",
           "#636efa",
           "#636efa",
           "#B6E880",
           "#B6E880",
           "#FECB52",
           "#FFA15A",
           "#EF553B",
           "#636efa",
           "#FF97FF",
           "#FF97FF",
           "#19d3f3",
           "#19d3f3",
           "#19d3f3",
           "#FECB52",
           "#19d3f3",
           "#19d3f3",
           "#19d3f3",
           "#19d3f3",
           "#EF553B",
           "#EF553B",
           "#EF553B",
           "#19d3f3",
           "#19d3f3",
           "#636efa",
           "#FF97FF",
           "#FF97FF",
           "#FF97FF",
           "#00cc96",
           "#ab63fa",
           "#00cc96",
           "#00cc96",
           "#ab63fa",
           "#B6E880",
           "#B6E880",
           "#19d3f3",
           "#B6E880",
           "#ab63fa",
           "#ab63fa",
           "#ab63fa",
           "#B6E880",
           "#FF97FF",
           "#FF97FF",
           "#FF97FF",
           "#ab63fa",
           "#FF6692",
           "#636efa",
           "#636efa",
           "#B6E880",
           "#B6E880",
           "#B6E880",
           "#ab63fa",
           "#ab63fa",
           "#ab63fa",
           "#B6E880",
           "#ab63fa",
           "#B6E880",
           "#19d3f3",
           "#B6E880",
           "#19d3f3",
           "#19d3f3",
           "#19d3f3",
           "#B6E880",
           "#B6E880",
           "#ab63fa",
           "#EF553B",
           "#ab63fa",
           "#636efa",
           "#636efa",
           "#19d3f3",
           "#19d3f3",
           "#636efa",
           "#19d3f3",
           "#19d3f3",
           "#636efa",
           "#ab63fa",
           "#19d3f3",
           "#636efa",
           "#636efa",
           "#636efa",
           "#636efa",
           "#ab63fa",
           "#636efa",
           "#ab63fa",
           "#ab63fa",
           "#00cc96",
           "#FECB52",
           "#FFA15A",
           "#00cc96",
           "#ab63fa",
           "#19d3f3",
           "#636efa",
           "#FF6692",
           "#FFA15A",
           "#636efa",
           "#FF6692",
           "#FFA15A",
           "#FFA15A",
           "#FF6692",
           "#FFA15A",
           "#636efa",
           "#636efa",
           "#FFA15A",
           "#FFA15A",
           "#FF6692",
           "#ab63fa",
           "#19d3f3",
           "#FFA15A",
           "#636efa",
           "#ab63fa",
           "#FFA15A",
           "#FFA15A",
           "#00cc96",
           "#636efa",
           "#FF6692",
           "#636efa",
           "#FFA15A",
           "#FF6692",
           "#B6E880",
           "#FF97FF",
           "#FF97FF",
           "#FFA15A",
           "#EF553B",
           "#B6E880",
           "#ab63fa",
           "#19d3f3",
           "#00cc96",
           "#19d3f3",
           "#FF6692",
           "#FF6692",
           "#636efa",
           "#FF97FF",
           "#FF6692",
           "#FF97FF",
           "#636efa",
           "#636efa",
           "#ab63fa",
           "#ab63fa",
           "#636efa",
           "#ab63fa",
           "#636efa",
           "#ab63fa",
           "#FF97FF",
           "#B6E880",
           "#FF6692",
           "#636efa",
           "#FECB52",
           "#19d3f3",
           "#FECB52",
           "#ab63fa",
           "#636efa",
           "#636efa",
           "#636efa",
           "#00cc96",
           "#636efa",
           "#19d3f3",
           "#636efa",
           "#ab63fa",
           "#00cc96",
           "#B6E880",
           "#FFA15A",
           "#636efa",
           "#00cc96",
           "#636efa",
           "#FFA15A",
           "#ab63fa",
           "#636efa",
           "#ab63fa",
           "#00cc96",
           "#B6E880",
           "#B6E880",
           "#FFA15A",
           "#FFA15A",
           "#FFA15A",
           "#00cc96",
           "#636efa",
           "#FFA15A",
           "#FF6692",
           "#ab63fa",
           "#636efa",
           "#FFA15A",
           "#636efa",
           "#636efa",
           "#636efa",
           "#EF553B",
           "#636efa",
           "#EF553B",
           "#636efa",
           "#00cc96",
           "#636efa",
           "#ab63fa",
           "#ab63fa",
           "#636efa",
           "#636efa",
           "#636efa",
           "#EF553B",
           "#636efa",
           "#B6E880",
           "#00cc96",
           "#636efa",
           "#636efa",
           "#00cc96",
           "#FECB52",
           "#19d3f3",
           "#19d3f3",
           "#FFA15A",
           "#00cc96",
           "#636efa",
           "#636efa",
           "#FF97FF",
           "#19d3f3",
           "#EF553B",
           "#FECB52",
           "#FF6692",
           "#ab63fa",
           "#FF6692",
           "#636efa",
           "#EF553B",
           "#19d3f3",
           "#00cc96",
           "#FF97FF",
           "#636efa",
           "#636efa",
           "#FECB52",
           "#636efa",
           "#FF6692",
           "#FF6692",
           "#FF6692",
           "#FFA15A",
           "#FF6692",
           "#636efa",
           "#00cc96",
           "#636efa",
           "#00cc96",
           "#FF6692",
           "#B6E880",
           "#636efa",
           "#B6E880",
           "#FFA15A",
           "#636efa",
           "#B6E880",
           "#FF6692",
           "#B6E880",
           "#19d3f3",
           "#00cc96",
           "#FFA15A",
           "#EF553B",
           "#FFA15A",
           "#636efa",
           "#636efa",
           "#00cc96",
           "#19d3f3",
           "#00cc96",
           "#B6E880",
           "#ab63fa",
           "#FF6692",
           "#FECB52",
           "#00cc96",
           "#19d3f3",
           "#636efa",
           "#ab63fa",
           "#FFA15A",
           "#19d3f3",
           "#19d3f3",
           "#00cc96",
           "#19d3f3",
           "#19d3f3",
           "#636efa",
           "#19d3f3",
           "#ab63fa",
           "#00cc96",
           "#00cc96",
           "#00cc96",
           "#636efa",
           "#B6E880",
           "#ab63fa",
           "#636efa",
           "#00cc96",
           "#EF553B",
           "#636efa",
           "#FF97FF",
           "#EF553B",
           "#EF553B",
           "#FFA15A",
           "#EF553B",
           "#FF97FF",
           "#FF6692",
           "#636efa",
           "#EF553B",
           "#636efa",
           "#B6E880",
           "#FF97FF",
           "#636efa",
           "#B6E880",
           "#636efa",
           "#FFA15A",
           "#FF6692",
           "#ab63fa",
           "#FF6692",
           "#FF6692",
           "#00cc96",
           "#19d3f3",
           "#636efa",
           "#19d3f3",
           "#FF6692",
           "#636efa",
           "#EF553B",
           "#636efa",
           "#EF553B",
           "#EF553B",
           "#19d3f3",
           "#EF553B",
           "#EF553B",
           "#19d3f3",
           "#FF97FF",
           "#FF6692",
           "#EF553B",
           "#B6E880",
           "#EF553B",
           "#EF553B",
           "#EF553B",
           "#B6E880",
           "#FF6692",
           "#B6E880",
           "#FFA15A",
           "#ab63fa",
           "#FFA15A",
           "#00cc96",
           "#FF6692",
           "#00cc96",
           "#EF553B",
           "#19d3f3",
           "#FFA15A",
           "#EF553B",
           "#B6E880",
           "#EF553B",
           "#FFA15A",
           "#FFA15A",
           "#FFA15A",
           "#FFA15A",
           "#FFA15A",
           "#ab63fa",
           "#FECB52",
           "#FFA15A",
           "#B6E880",
           "#EF553B",
           "#FECB52",
           "#FF6692",
           "#B6E880",
           "#FFA15A",
           "#00cc96",
           "#FF6692",
           "#ab63fa",
           "#FF6692",
           "#FECB52",
           "#FECB52",
           "#FF97FF",
           "#FECB52",
           "#FFA15A",
           "#B6E880",
           "#00cc96",
           "#FF97FF",
           "#00cc96",
           "#FF97FF",
           "#B6E880",
           "#FFA15A",
           "#ab63fa",
           "#ab63fa",
           "#EF553B",
           "#00cc96",
           "#FFA15A",
           "#EF553B",
           "#FFA15A",
           "#FFA15A",
           "#FECB52",
           "#FECB52",
           "#FECB52",
           "#FECB52",
           "#FFA15A",
           "#FF6692",
           "#B6E880",
           "#00cc96",
           "#00cc96",
           "#FECB52",
           "#EF553B",
           "#19d3f3",
           "#EF553B",
           "#FECB52",
           "#B6E880",
           "#FF97FF",
           "#636efa",
           "#636efa",
           "#00cc96",
           "#EF553B",
           "#19d3f3",
           "#19d3f3",
           "#636efa",
           "#636efa",
           "#00cc96",
           "#EF553B",
           "#EF553B",
           "#FF97FF",
           "#19d3f3",
           "#B6E880",
           "#FECB52",
           "#636efa",
           "#19d3f3",
           "#19d3f3",
           "#00cc96",
           "#FECB52",
           "#00cc96",
           "#B6E880",
           "#EF553B",
           "#FFA15A",
           "#FF6692",
           "#FECB52",
           "#FF6692",
           "#636efa",
           "#FFA15A",
           "#FF97FF",
           "#FECB52",
           "#EF553B",
           "#FECB52",
           "#FECB52",
           "#FF97FF",
           "#EF553B",
           "#FECB52",
           "#EF553B",
           "#FFA15A",
           "#ab63fa",
           "#ab63fa",
           "#00cc96",
           "#636efa",
           "#EF553B",
           "#FECB52",
           "#B6E880",
           "#636efa",
           "#FFA15A",
           "#FFA15A",
           "#B6E880",
           "#B6E880",
           "#FFA15A",
           "#19d3f3",
           "#636efa",
           "#B6E880",
           "#FFA15A",
           "#19d3f3",
           "#19d3f3",
           "#19d3f3",
           "#EF553B",
           "#FF97FF",
           "#ab63fa",
           "#636efa",
           "#636efa",
           "#ab63fa",
           "#B6E880",
           "#FF97FF",
           "#EF553B",
           "#636efa",
           "#B6E880",
           "#FF97FF",
           "#FF6692",
           "#00cc96",
           "#FFA15A",
           "#EF553B",
           "#FECB52",
           "#FFA15A",
           "#FFA15A",
           "#B6E880",
           "#636efa",
           "#FFA15A",
           "#EF553B",
           "#636efa",
           "#FF6692",
           "#EF553B",
           "#B6E880",
           "#636efa",
           "#FFA15A",
           "#ab63fa",
           "#FFA15A",
           "#00cc96",
           "#FF97FF",
           "#636efa",
           "#00cc96",
           "#636efa",
           "#FFA15A",
           "#636efa",
           "#FFA15A",
           "#636efa",
           "#FF6692",
           "#FFA15A",
           "#FFA15A",
           "#636efa",
           "#FFA15A",
           "#EF553B",
           "#FF6692",
           "#00cc96",
           "#FF6692",
           "#636efa",
           "#EF553B",
           "#FF6692",
           "#FFA15A",
           "#FFA15A",
           "#EF553B",
           "#19d3f3",
           "#00cc96",
           "#FFA15A",
           "#B6E880",
           "#636efa",
           "#FFA15A",
           "#EF553B",
           "#EF553B",
           "#00cc96",
           "#EF553B",
           "#FFA15A",
           "#00cc96",
           "#636efa",
           "#00cc96",
           "#00cc96",
           "#00cc96",
           "#636efa",
           "#B6E880",
           "#636efa",
           "#ab63fa",
           "#FFA15A",
           "#00cc96",
           "#B6E880",
           "#636efa",
           "#636efa",
           "#FFA15A",
           "#EF553B",
           "#FF6692",
           "#EF553B",
           "#00cc96",
           "#FF6692",
           "#00cc96",
           "#EF553B",
           "#FF6692",
           "#EF553B",
           "#636efa",
           "#19d3f3",
           "#B6E880",
           "#FF6692",
           "#636efa",
           "#00cc96",
           "#EF553B",
           "#636efa",
           "#FF6692",
           "#FF6692",
           "#ab63fa",
           "#FFA15A",
           "#FFA15A",
           "#00cc96",
           "#636efa",
           "#00cc96",
           "#00cc96",
           "#636efa",
           "#00cc96",
           "#FFA15A",
           "#EF553B",
           "#B6E880",
           "#FF97FF",
           "#EF553B",
           "#EF553B",
           "#00cc96",
           "#00cc96",
           "#636efa",
           "#EF553B",
           "#FF97FF",
           "#636efa",
           "#636efa",
           "#EF553B",
           "#FF6692",
           "#636efa",
           "#B6E880",
           "#B6E880",
           "#636efa",
           "#636efa",
           "#FF97FF",
           "#636efa",
           "#EF553B",
           "#B6E880",
           "#EF553B",
           "#636efa",
           "#636efa",
           "#ab63fa",
           "#636efa",
           "#636efa",
           "#EF553B",
           "#EF553B",
           "#636efa",
           "#EF553B",
           "#636efa",
           "#FFA15A",
           "#EF553B",
           "#EF553B",
           "#19d3f3",
           "#EF553B",
           "#636efa",
           "#00cc96",
           "#FFA15A",
           "#FFA15A",
           "#19d3f3",
           "#636efa",
           "#19d3f3",
           "#636efa",
           "#19d3f3",
           "#636efa",
           "#19d3f3",
           "#FF97FF",
           "#FF97FF",
           "#FFA15A",
           "#FF97FF",
           "#19d3f3",
           "#EF553B",
           "#00cc96",
           "#FECB52",
           "#19d3f3",
           "#636efa",
           "#B6E880",
           "#FFA15A",
           "#636efa",
           "#636efa",
           "#FF97FF",
           "#FF6692",
           "#00cc96",
           "#FF97FF",
           "#636efa",
           "#00cc96",
           "#00cc96",
           "#00cc96",
           "#00cc96",
           "#19d3f3",
           "#FFA15A",
           "#FF97FF",
           "#B6E880",
           "#EF553B",
           "#19d3f3",
           "#ab63fa",
           "#FF6692",
           "#B6E880",
           "#FF6692",
           "#FF97FF",
           "#636efa",
           "#FF97FF",
           "#EF553B",
           "#B6E880",
           "#636efa",
           "#FF97FF",
           "#ab63fa",
           "#00cc96",
           "#00cc96",
           "#EF553B",
           "#19d3f3",
           "#B6E880",
           "#636efa",
           "#FECB52",
           "#FECB52",
           "#00cc96",
           "#00cc96",
           "#00cc96",
           "#ab63fa",
           "#636efa",
           "#636efa",
           "#FECB52",
           "#00cc96",
           "#EF553B",
           "#FFA15A",
           "#FF6692",
           "#00cc96",
           "#00cc96",
           "#B6E880",
           "#636efa",
           "#00cc96",
           "#FF6692",
           "#B6E880",
           "#FF97FF",
           "#636efa",
           "#B6E880",
           "#00cc96",
           "#B6E880",
           "#FFA15A",
           "#EF553B",
           "#FFA15A",
           "#FF97FF",
           "#EF553B",
           "#FF97FF",
           "#FF97FF",
           "#19d3f3",
           "#FF97FF",
           "#EF553B",
           "#EF553B",
           "#FFA15A",
           "#FECB52",
           "#FFA15A",
           "#FECB52",
           "#FF6692",
           "#FFA15A",
           "#FFA15A",
           "#636efa",
           "#FFA15A",
           "#FECB52",
           "#ab63fa",
           "#FF6692",
           "#FF97FF",
           "#FF6692",
           "#FF6692",
           "#636efa",
           "#ab63fa",
           "#FECB52",
           "#B6E880",
           "#ab63fa",
           "#FF97FF",
           "#FF97FF",
           "#FFA15A",
           "#19d3f3",
           "#FECB52",
           "#FECB52",
           "#FF6692",
           "#FECB52",
           "#FF6692",
           "#ab63fa",
           "#ab63fa",
           "#636efa",
           "#00cc96",
           "#636efa",
           "#FECB52",
           "#ab63fa",
           "#00cc96",
           "#636efa",
           "#EF553B",
           "#19d3f3",
           "#FECB52",
           "#636efa",
           "#EF553B",
           "#00cc96",
           "#B6E880",
           "#19d3f3",
           "#FFA15A",
           "#FF97FF",
           "#FECB52",
           "#00cc96",
           "#19d3f3",
           "#00cc96",
           "#EF553B",
           "#636efa",
           "#00cc96",
           "#ab63fa",
           "#FECB52",
           "#FECB52",
           "#636efa",
           "#B6E880",
           "#00cc96",
           "#19d3f3",
           "#FECB52",
           "#FFA15A",
           "#636efa",
           "#FF6692",
           "#636efa",
           "#B6E880"
          ]
         },
         "name": "",
         "parents": [
          "Individual Sports",
          "Government/Sin nombre",
          "Government",
          "Business/NE",
          "Natural Sciences/CT/Physicist",
          "Law",
          "Individual Sports/Sin nombre/Wrestler",
          "Fine Arts",
          "Media Personality/MS",
          "Natural Sciences/IN/Physicist",
          "Military",
          "Business",
          "Media Personality/IA",
          "Social Sciences/Yvelines/Economist",
          "Music/NJ",
          "Explorers/TN/Explorer",
          "Social Sciences/SD/Economist",
          "Religion/VT",
          "Government/County Mayo/Politician",
          "Music/AR/Singer",
          "Natural Sciences",
          "Philosophy/Shandong Province/Philosopher",
          "Music/NC/Singer",
          "Activism",
          "Natural Sciences",
          "Team Sports/WA",
          "Military/TX/Military Personnel",
          "Film And Theatre/Sin nombre",
          "Music/Komi ASSR",
          "Language",
          "Law/SD/Lawyer",
          "Language/PA",
          "Social Sciences/CO/Sociologist",
          "Military",
          "Companions/Sin nombre",
          "Language/KY",
          "Language/MD/Writer",
          "Natural Sciences/UT/Chemist",
          "Film And Theatre/MO",
          "Individual Sports/IL",
          "Medicine/PA",
          "Government",
          "Invention",
          "Individual Sports",
          "Government/IN",
          "Music",
          "Individual Sports/MN",
          "Business/NY/Businessperson",
          "Math",
          "Government/ID",
          "Individual Sports/TX/Athlete",
          "Business/Sin nombre/Businessperson",
          "Individual Sports",
          "Music",
          "Government/PA",
          "Language/MS/Writer",
          "Medicine",
          "Team Sports/WV",
          "Fine Arts/Sin nombre",
          "Social Sciences/NY/Political Scientist",
          "Social Sciences/NJ",
          "Government/WA",
          "Team Sports/PA",
          "Film And Theatre/CT/Actor",
          "Media Personality/MO/Presenter",
          "Film And Theatre/MA/Actor",
          "Companions/Sin nombre/Companion",
          "Film And Theatre/CA",
          "Music/MD",
          "Philosophy/MD",
          "Team Sports/VA",
          "Individual Sports/NH/Wrestler",
          "Natural Sciences/OH/Chemist",
          "Individual Sports/NY",
          "Media Personality/Sin nombre/Magician",
          "Outlaws/TX/Mafioso",
          "Government/MO/Politician",
          "Individual Sports",
          "Design/Sin nombre",
          "Film And Theatre/NC/Actor",
          "Media Personality",
          "Activism",
          "History/Sin nombre/Historian",
          "Team Sports",
          "Natural Sciences/NY/Biologist",
          "Government/CA",
          "Media Personality/NY/Model",
          "Social Sciences/Sin nombre/Psychologist",
          "Music/MD/Singer",
          "Design/PA",
          "Language/MN/Writer",
          "Social Sciences",
          "Activism",
          "Natural Sciences/KS/Chemist",
          "Individual Sports/NY/Tennis Player",
          "Social Sciences/NY/Psychologist",
          "Film And Theatre/CA",
          "Government/NJ",
          "Music/CA",
          "Individual Sports/MN/Skier",
          "Religion",
          "Religion",
          "Military/MO",
          "Natural Sciences/ID/Physicist",
          "Explorers",
          "Design/MI",
          "Military/WV/Pilot",
          "Media Personality/KY/Celebrity",
          "Language",
          "Film And Theatre/IA",
          "Natural Sciences/CO/Physicist",
          "Music/PA",
          "Business",
          "Music",
          "Business",
          "Government/Oxfordshire/Politician",
          "Invention",
          "Music/NJ",
          "Music/Sin nombre",
          "Activism",
          "Government/CO",
          "Media Personality/NY",
          "Language/NC/Writer",
          "Military/MO/Military Personnel",
          "Social Sciences/IN",
          "Music/MS/Singer",
          "Individual Sports/Sin nombre",
          "Government/ID/Politician",
          "Engineering",
          "Fine Arts",
          "Design/Sin nombre/Comic Artist",
          "Natural Sciences/NY",
          "Military/OH/Military Personnel",
          "Military",
          "Individual Sports/Sin nombre/Swimmer",
          "Business/TN/Businessperson",
          "Film And Theatre/OH/Actor",
          "Outlaws/Sin nombre/Extremist",
          "Fine Arts",
          "Media Personality/CA/Pornographic Actor",
          "Companions/IL",
          "Film And Theatre/MI/Film Director",
          "Government/VT",
          "Individual Sports/CA/Racecar Driver",
          "Government/Sin nombre/Nobleman",
          "Business",
          "Government/VA",
          "Media Personality/CA/Celebrity",
          "Language",
          "Individual Sports/Sin nombre",
          "Natural Sciences",
          "Film And Theatre/UT",
          "Design",
          "Natural Sciences",
          "Language/LA/Writer",
          "Individual Sports",
          "Government/AL/Politician",
          "Music/CT",
          "Social Sciences/TX",
          "Social Sciences/VT/Psychologist",
          "Design",
          "Government",
          "Language/IN/Writer",
          "Team Sports",
          "Natural Sciences/TX",
          "Social Sciences",
          "Natural Sciences",
          "Film And Theatre",
          "Invention/AL",
          "Music/LA",
          "Individual Sports/TX/Cyclist",
          "Explorers/VA/Explorer",
          "Companions",
          "Design/Sin nombre/Architect",
          "Dance/CA",
          "Language",
          "Individual Sports/NC",
          "Government/MD/Politician",
          "Team Sports/CA/American Football Player",
          "Social Sciences/NY",
          "Medicine/MD/Physician",
          "Music/NY/Composer",
          "Language/NE",
          "Explorers",
          "Individual Sports/IL/Chessmaster",
          "Individual Sports/FL",
          "Music",
          "Companions",
          "Team Sports/IN",
          "Natural Sciences/Sin nombre",
          "Natural Sciences/NY",
          "Government/Buckinghamshire",
          "Natural Sciences/Sin nombre",
          "Government/ND",
          "Media Personality",
          "Computer Science/CT/Computer Scientist",
          "Film And Theatre/NM",
          "Language/RI/Writer",
          "Business/Sin nombre/Producer",
          "Government/OH/Politician",
          "Social Sciences/IL",
          "Explorers/OK",
          "Team Sports",
          "Natural Sciences",
          "Music/NM",
          "Natural Sciences/IN",
          "Outlaws/IL/Mafioso",
          "Law",
          "Individual Sports/NJ/Tennis Player",
          "Fine Arts/WI/Artist",
          "Natural Sciences/VT",
          "Team Sports/Galicia/Soccer Player",
          "Design/NY/Fashion Designer",
          "Fine Arts/Sin nombre/Photographer",
          "Fine Arts/IA/Photographer",
          "Natural Sciences/TX",
          "Computer Science/NY/Computer Scientist",
          "Business",
          "Individual Sports/MA",
          "Natural Sciences/NH",
          "Music/MD/Musician",
          "Government",
          "Natural Sciences/OH/Physicist",
          "Philosophy/Sin nombre/Philosopher",
          "Government",
          "Film And Theatre",
          "Natural Sciences/Sin nombre/Physicist",
          "Individual Sports/MA",
          "Film And Theatre/MI",
          "Natural Sciences",
          "Individual Sports/MO",
          "Natural Sciences/WI/Chemist",
          "Government/Sin nombre/Judge",
          "Activism/Sin nombre/Social Activist",
          "Film And Theatre/ND",
          "Music/IA",
          "Natural Sciences/MO",
          "Medicine/WI",
          "Business",
          "Business/NM/Businessperson",
          "Explorers/TX/Astronaut",
          "Companions/MA",
          "Music",
          "Music/OH",
          "Film And Theatre/VA",
          "Individual Sports/Sin nombre/Snooker",
          "Natural Sciences",
          "Military/Sin nombre",
          "",
          "Business/TX/Businessperson",
          "Natural Sciences/PA",
          "Computer Science/CA",
          "Music/AZ/Musician",
          "Math/Sin nombre/Mathematician",
          "Social Sciences/WA",
          "Individual Sports/Sin nombre/Skier",
          "Film And Theatre/OK/Actor",
          "Music/VA",
          "Computer Science/MA/Computer Scientist",
          "Medicine/NY/Physician",
          "Fine Arts/Sin nombre",
          "Film And Theatre/NE/Actor",
          "Film And Theatre/CO/Film Director",
          "Individual Sports/OH/Wrestler",
          "Natural Sciences/DE",
          "Business/IN",
          "Music/VA/Singer",
          "Film And Theatre/MT/Actor",
          "Language/OR/Writer",
          "Media Personality/MO",
          "Music/VA",
          "Individual Sports/MN",
          "Music",
          "Language/AL/Writer",
          "Language/IA/Writer",
          "Language/IL/Writer",
          "Social Sciences/IN/Economist",
          "Language/OK/Writer",
          "Government",
          "Film And Theatre/KY/Actor",
          "Government/Wales/Politician",
          "Religion",
          "Dance",
          "Team Sports/Sin nombre/Hockey Player",
          "Film And Theatre/IL",
          "Computer Science",
          "Individual Sports/MD/Tennis Player",
          "Government/HI/Politician",
          "Film And Theatre/FL",
          "Military/Württemberg",
          "Religion/Calabria/Religious Figure",
          "Film And Theatre/Sin nombre/Comedian",
          "Media Personality/TX/Presenter",
          "Natural Sciences",
          "Team Sports/Sin nombre/Coach",
          "Design",
          "Music/Sin nombre/Composer",
          "Government/WI/Politician",
          "Invention/MI/Inventor",
          "Business",
          "Social Sciences/NY",
          "Business",
          "Team Sports/Galicia",
          "Social Sciences/PA/Economist",
          "Film And Theatre",
          "Invention/Sin nombre",
          "Team Sports/OH/Soccer Player",
          "Team Sports",
          "Film And Theatre/WA",
          "Team Sports",
          "Computer Science",
          "Social Sciences/SC/Psychologist",
          "Team Sports/PA/Basketball Player",
          "Companions/NY/Companion",
          "Government",
          "Natural Sciences/TN",
          "Explorers/Sin nombre/Astronaut",
          "Military/Sin nombre/Military Personnel",
          "Language/KY/Writer",
          "Individual Sports/CA",
          "Music/NY/Singer",
          "Film And Theatre/TX/Actor",
          "Design/Sin nombre/Fashion Designer",
          "Team Sports/TN/Basketball Player",
          "Fine Arts/IA/Painter",
          "Individual Sports/MI",
          "Music/UT",
          "Natural Sciences/NJ",
          "Natural Sciences/Sin nombre/Physicist",
          "Natural Sciences/WI",
          "Government/Pernambuco/Politician",
          "Film And Theatre/ME/Film Director",
          "Music/OH/Composer",
          "Individual Sports/NV",
          "Natural Sciences/CT/Biologist",
          "Music/TN/Musician",
          "Government",
          "Activism/GA/Social Activist",
          "Explorers/VA",
          "Government/SD/Politician",
          "Medicine/CA",
          "Film And Theatre/MS/Actor",
          "Companions/NV/Companion",
          "Natural Sciences/NE",
          "Individual Sports/NJ/Swimmer",
          "Music/SC",
          "Natural Sciences/PA",
          "Dance/CA/Dancer",
          "Music/Sin nombre/Singer",
          "Film And Theatre/UT/Actor",
          "Design/NY",
          "Natural Sciences/NY/Astronomer",
          "Natural Sciences/IL/Astronomer",
          "History/NY/Historian",
          "Medicine",
          "Government/CT",
          "Film And Theatre/MD",
          "Language/NY",
          "Natural Sciences/Sin nombre",
          "Natural Sciences/VT/Chemist",
          "Natural Sciences/NY/Chemist",
          "Individual Sports/VA/Tennis Player",
          "Natural Sciences/CT/Astronomer",
          "Music/NC",
          "Media Personality",
          "Music/NC",
          "Film And Theatre",
          "Computer Science",
          "Music",
          "Military/Pyrénées-Atlantiques",
          "Natural Sciences/IL",
          "Film And Theatre/MA",
          "Team Sports/LA",
          "Language/NJ",
          "Natural Sciences/NC/Chemist",
          "Film And Theatre",
          "Explorers/CA",
          "Fine Arts/Sin nombre/Painter",
          "Military/WV/Military Personnel",
          "Language/NY",
          "Individual Sports/LA",
          "Outlaws/Sin nombre",
          "Natural Sciences/MN",
          "Individual Sports/MD/Swimmer",
          "Philosophy/MD/Philosopher",
          "Individual Sports/MA/Boxer",
          "Religion/Sin nombre",
          "Math/NY",
          "Philosophy/OH/Philosopher",
          "Religion/Sin nombre/Religious Figure",
          "Math/Sin nombre",
          "Outlaws/NY/Extremist",
          "Business",
          "Media Personality/NY/Pornographic Actor",
          "Film And Theatre",
          "Philosophy/MA",
          "Film And Theatre/MD/Actor",
          "Film And Theatre/TX",
          "Language/IL",
          "Government",
          "Film And Theatre/OK/Actor",
          "Team Sports/Sin nombre/Baseball Player",
          "Activism/VT/Social Activist",
          "Music/GA/Singer",
          "Explorers",
          "Fine Arts/NY/Painter",
          "Film And Theatre",
          "Religion/Piedmont/Religious Figure",
          "Government/TN/Politician",
          "Social Sciences/NJ/Economist",
          "Individual Sports/NY/Boxer",
          "Music/IL/Singer",
          "Music/KY/Musician",
          "Math",
          "Music/NE",
          "Outlaws/OH/Extremist",
          "Dance",
          "Individual Sports",
          "Military",
          "Team Sports/Sin nombre/Soccer Player",
          "Individual Sports/NH/Skier",
          "Social Sciences/Sin nombre/Economist",
          "Philosophy/OH/Philosopher",
          "Activism/ME/Social Activist",
          "Film And Theatre/CT/Actor",
          "Social Sciences/Yvelines",
          "Natural Sciences/DE/Biologist",
          "Film And Theatre/NJ",
          "Team Sports/CO/Basketball Player",
          "Outlaws",
          "Natural Sciences/MT",
          "Film And Theatre/Sin nombre",
          "Film And Theatre",
          "",
          "Military",
          "Film And Theatre",
          "Individual Sports/TX",
          "Individual Sports/CA/Golfer",
          "Law/OH/Lawyer",
          "Fine Arts",
          "Team Sports/NJ",
          "Government/CA/Diplomat",
          "Natural Sciences/Sin nombre/Biologist",
          "Individual Sports/Loire",
          "Fine Arts/IA",
          "Explorers/IN/Astronaut",
          "Design/WI",
          "Film And Theatre/TN/Film Director",
          "Dance/PA",
          "Government/WA/Politician",
          "Natural Sciences/MA",
          "Film And Theatre/IA/Actor",
          "Natural Sciences/MA",
          "Team Sports/Sin nombre/Referee",
          "Film And Theatre/SC/Actor",
          "Computer Science",
          "Team Sports/GA/Baseball Player",
          "Government",
          "Film And Theatre/PA",
          "Music/HI/Singer",
          "Natural Sciences/IL",
          "Film And Theatre/SD",
          "Government",
          "Individual Sports/CA",
          "Law/WV",
          "Individual Sports/GA/Athlete",
          "Individual Sports/NE/Tennis Player",
          "Natural Sciences",
          "Companions/VA",
          "Film And Theatre/WI/Actor",
          "Social Sciences/Sin nombre/Political Scientist",
          "Media Personality/TN/Presenter",
          "Natural Sciences/NY/Physicist",
          "Music/CT/Composer",
          "Film And Theatre/HI",
          "Fine Arts",
          "Invention/NY",
          "Individual Sports/TX",
          "Government/CA",
          "Computer Science",
          "Team Sports/MD/Baseball Player",
          "Film And Theatre/AR/Actor",
          "Government/VA",
          "Language",
          "Business/PA",
          "Business/HI",
          "Government/TX/Politician",
          "Language",
          "Dance/MO",
          "Religion/NC/Religious Figure",
          "Government/NY/Judge",
          "Film And Theatre",
          "Invention/Sin nombre/Inventor",
          "Activism/ME",
          "Military/OH",
          "Natural Sciences/ID",
          "Invention/CT",
          "Language/Sin nombre",
          "Explorers",
          "Music/CA",
          "Social Sciences/OR",
          "Natural Sciences",
          "Natural Sciences/MA/Astronomer",
          "Individual Sports/IN/Athlete",
          "Activism/NE/Social Activist",
          "Medicine/AL/Physician",
          "Music",
          "Natural Sciences",
          "Individual Sports/AL",
          "Film And Theatre/TN/Actor",
          "Individual Sports/MI",
          "Social Sciences/PA/Anthropologist",
          "Individual Sports/NC",
          "Explorers/OH/Astronaut",
          "Media Personality/Sin nombre",
          "Medicine/WA",
          "Design/OR",
          "Invention/MI",
          "Individual Sports",
          "Team Sports/Sin nombre/Basketball Player",
          "Social Sciences/NC",
          "Music/MO/Musician",
          "Film And Theatre/FL/Actor",
          "Film And Theatre/CO/Actor",
          "Explorers",
          "Business/MI",
          "Film And Theatre/KY",
          "Film And Theatre/WA/Actor",
          "Film And Theatre/VA/Actor",
          "Social Sciences/MA",
          "Government",
          "Film And Theatre/NE/Actor",
          "Philosophy",
          "Individual Sports/Sin nombre/Chessmaster",
          "Team Sports/NJ/Basketball Player",
          "Military",
          "Team Sports",
          "Film And Theatre/MT/Actor",
          "Government/HI",
          "Music/IA/Musician",
          "Natural Sciences/IN/Chemist",
          "Fine Arts/PA/Sculptor",
          "Government/AL",
          "Natural Sciences/NJ/Physicist",
          "Math",
          "Film And Theatre",
          "Natural Sciences/MN/Biologist",
          "Team Sports/TX/Soccer Player",
          "Team Sports/Sin nombre/Soccer Player",
          "Activism/NY/Social Activist",
          "Government/MD",
          "Military/SC/Military Personnel",
          "Film And Theatre",
          "Music/TN",
          "Government/LA",
          "Individual Sports",
          "Government/VA/Politician",
          "Natural Sciences",
          "Team Sports/Sin nombre",
          "Media Personality/NJ",
          "Team Sports/Sin nombre",
          "Music/LA/Singer",
          "Media Personality/NY/Magician",
          "Music/WA/Musician",
          "Music/HI",
          "Language",
          "Religion",
          "Fine Arts/TX/Painter",
          "",
          "Social Sciences",
          "Team Sports",
          "Religion",
          "Natural Sciences/TX/Astronomer",
          "Music",
          "Language/CO/Writer",
          "Individual Sports/OH",
          "Individual Sports/MI/Tennis Player",
          "Language/MD",
          "Natural Sciences/MI",
          "Language/OH/Writer",
          "Music/WA",
          "Film And Theatre/MA/Film Director",
          "Language/MD/Writer",
          "Social Sciences",
          "Activism",
          "Computer Science/PA/Computer Scientist",
          "Philosophy/Indre-et-Loire",
          "Computer Science/CA/Computer Scientist",
          "Government/Segovia",
          "History/Sin nombre",
          "",
          "Film And Theatre/IN/Actor",
          "Business/KS/Businessperson",
          "Government/Oxfordshire",
          "Computer Science/MD/Computer Scientist",
          "Invention/OR/Inventor",
          "Media Personality",
          "Government/Anhui/Politician",
          "Outlaws",
          "Computer Science/LA/Computer Scientist",
          "Music",
          "Individual Sports/OH/Athlete",
          "Team Sports/CO",
          "Natural Sciences/IA",
          "Language/ME/Writer",
          "Film And Theatre/MN",
          "Military/MI",
          "Individual Sports/OK/Athlete",
          "Team Sports/IL/Soccer Player",
          "Language",
          "Government/IN/Politician",
          "Individual Sports/FL",
          "Film And Theatre",
          "Fine Arts/CT/Photographer",
          "Natural Sciences/Sin nombre/Biologist",
          "Government/ME/Politician",
          "Individual Sports/NY/Wrestler",
          "Team Sports/Sin nombre",
          "Medicine/Sin nombre/Physician",
          "Language/CA/Writer",
          "Individual Sports",
          "Music",
          "Invention/AL/Inventor",
          "Government/CT/Politician",
          "Computer Science/MI",
          "Fine Arts/CA/Photographer",
          "Social Sciences/IL/Political Scientist",
          "Social Sciences/SD",
          "Social Sciences/GA",
          "Music/Sin nombre",
          "Religion/Gilead/Religious Figure",
          "Fine Arts/GA/Painter",
          "Language/CA",
          "Language/NC",
          "Language/LA",
          "Philosophy/Indre-et-Loire/Philosopher",
          "",
          "Film And Theatre/MD/Actor",
          "Music",
          "Philosophy/NY/Philosopher",
          "Military/Sin nombre/Pilot",
          "Social Sciences/NY/Anthropologist",
          "Activism/NE",
          "Language/ID",
          "Music/CA/Singer",
          "Fine Arts/Sin nombre/Artist",
          "Social Sciences/CA",
          "Music/IN/Singer",
          "Business/TX/Businessperson",
          "Government/Buckinghamshire/Politician",
          "Natural Sciences",
          "Team Sports/AL/Soccer Player",
          "Film And Theatre/IN/Film Director",
          "Music/IA",
          "Business/MI",
          "Music/LA",
          "Music/PA/Singer",
          "Business/CA",
          "Business/IL",
          "Music/PA/Musician",
          "Team Sports",
          "Activism/AL/Social Activist",
          "Language/LA/Writer",
          "Government/MI/Diplomat",
          "Language",
          "Language/SC/Writer",
          "Film And Theatre/KY/Film Director",
          "Philosophy/CO",
          "Philosophy/OH",
          "Film And Theatre/MS/Actor",
          "Film And Theatre/KS",
          "Film And Theatre/ND/Actor",
          "Activism",
          "Natural Sciences/Sin nombre/Chemist",
          "Film And Theatre/OR",
          "Individual Sports/KY",
          "Fine Arts",
          "Engineering",
          "Business/MI/Businessperson",
          "Natural Sciences/NH/Astronomer",
          "Individual Sports/Sin nombre/Athlete",
          "Team Sports/OH/Basketball Player",
          "Film And Theatre/CA/Actor",
          "Individual Sports/MA/Wrestler",
          "Religion/Calabria",
          "Design/MI",
          "Music/UT/Musician",
          "Social Sciences",
          "Government/HI/Nobleman",
          "Media Personality/TN/Model",
          "Individual Sports",
          "Language/PA/Linguist",
          "Music/FL",
          "Military/Sin nombre/Pilot",
          "Music/TX/Musician",
          "Government/IA/Politician",
          "Military/CA/Military Personnel",
          "Design/Sin nombre/Fashion Designer",
          "Religion/Galilee",
          "Music/MA/Musician",
          "Invention",
          "Individual Sports/Sin nombre/Golfer",
          "Government",
          "Individual Sports/IL",
          "Natural Sciences/CT",
          "Music/MA",
          "Social Sciences/NE",
          "Music/NJ/Singer",
          "Government/VT/Politician",
          "Music/ND/Singer",
          "Natural Sciences/MA",
          "Natural Sciences/NY",
          "Natural Sciences/MO",
          "Music/Sin nombre/Singer",
          "Outlaws/Sin nombre",
          "Music/SC",
          "Government/TX/Politician",
          "Fine Arts/OK",
          "Outlaws/VT",
          "Individual Sports/MD",
          "Engineering/MO",
          "Fine Arts/WI",
          "Music/IL/Singer",
          "Engineering/NJ",
          "Outlaws/NY",
          "Music/OH",
          "Government/ME",
          "Explorers/NM",
          "Government/NC",
          "Media Personality/TX",
          "Military/WV",
          "Individual Sports/GA/Wrestler",
          "Social Sciences/VT",
          "Activism/IL",
          "Media Personality/CA",
          "Film And Theatre/WI",
          "Math/Sin nombre/Statistician",
          "Military/CT",
          "Activism/MA/Social Activist",
          "Music/GA",
          "Individual Sports/TN",
          "Language/MA/Writer",
          "Government/NY",
          "Activism/SC",
          "Language/NJ/Writer",
          "Media Personality/NY",
          "Film And Theatre/AL",
          "Film And Theatre/CO",
          "Computer Science/MA",
          "Music/MA",
          "Individual Sports/CA/Skater",
          "Individual Sports/VA",
          "Individual Sports/NJ",
          "Film And Theatre/TN",
          "Music/MD/Singer",
          "Film And Theatre/AL/Actor",
          "Individual Sports/NJ",
          "Natural Sciences",
          "Natural Sciences/MA/Biologist",
          "Individual Sports",
          "Individual Sports",
          "Language",
          "Invention/CA/Inventor",
          "Activism/MA/Social Activist",
          "Companions/KY/Companion",
          "Social Sciences",
          "Team Sports/WV/Basketball Player",
          "Individual Sports/CA/Swimmer",
          "Government/CA/Judge",
          "Law/WV/Lawyer",
          "Language/NY/Linguist",
          "Film And Theatre/WI/Film Director",
          "Media Personality/Sin nombre/Celebrity",
          "Media Personality/PA/Celebrity",
          "Government/SC/Politician",
          "Natural Sciences",
          "Military/NJ/Military Personnel",
          "Natural Sciences/PA/Biologist",
          "Language/CT/Writer",
          "Individual Sports/IL/Athlete",
          "Individual Sports/CA/Athlete",
          "Language/GA/Writer",
          "Team Sports/IN/Basketball Player",
          "Religion",
          "Natural Sciences/MA/Astronomer",
          "Music/MN/Musician",
          "Language/MO/Writer",
          "Math/NY/Mathematician",
          "Government/VA/Diplomat",
          "Music",
          "Outlaws/Sin nombre/Extremist",
          "Music/NH/Singer",
          "Music/MA/Singer",
          "Design/OR/Comic Artist",
          "Natural Sciences/MN/Chemist",
          "Music/NJ/Singer",
          "Music/CA/Singer",
          "Natural Sciences/MA/Chemist",
          "Film And Theatre",
          "Natural Sciences/IA/Chemist",
          "Natural Sciences/GA/Chemist",
          "Companions",
          "Natural Sciences/CT/Chemist",
          "Government/HI/Politician",
          "Music/OK/Singer",
          "Government/CT/Diplomat",
          "Natural Sciences",
          "Government/Sin nombre/Nobleman",
          "Film And Theatre/NY/Film Director",
          "Activism/IL/Social Activist",
          "Language/Sin nombre/Journalist",
          "Government/NY/Judge",
          "Individual Sports/Sin nombre/Boxer",
          "Language",
          "Music/NE/Musician",
          "Business/IL/Businessperson",
          "Military/Sin nombre/Military Personnel",
          "Media Personality/CA/Model",
          "Language",
          "Business/IN/Businessperson",
          "Social Sciences/WA/Economist",
          "Team Sports",
          "Music",
          "Music/NH/Musician",
          "Natural Sciences/SC/Chemist",
          "Natural Sciences/MD/Physicist",
          "Natural Sciences/Ardennes/Astronomer",
          "",
          "Film And Theatre/HI/Actor",
          "Military",
          "Film And Theatre/MN/Actor",
          "Film And Theatre/IA/Actor",
          "Film And Theatre/KY/Actor",
          "Language/WA",
          "Design/CT/Architect",
          "Language/NH",
          "Language/WV/Writer",
          "Film And Theatre/CO/Actor",
          "Film And Theatre/AL/Actor",
          "Natural Sciences/IA/Astronomer",
          "Natural Sciences/WA/Physicist",
          "Film And Theatre/TN/Actor",
          "Film And Theatre/NJ/Actor",
          "Film And Theatre/RI/Actor",
          "Music",
          "Design/Sin nombre/Architect",
          "Film And Theatre/AR/Actor",
          "Government/KS/Politician",
          "Film And Theatre/CA/Actor",
          "Film And Theatre",
          "Language/MN",
          "Film And Theatre/DE/Actor",
          "Military",
          "Outlaws/MD",
          "Business",
          "Fine Arts",
          "Invention/MA/Inventor",
          "Business/NC",
          "Individual Sports/NE",
          "Math/MA",
          "Language/MA/Writer",
          "Fine Arts/OK/Artist",
          "Team Sports/WA/Soccer Player",
          "Natural Sciences/PA/Physicist",
          "Design/Sin nombre",
          "Government/Württemberg/Politician",
          "Outlaws/IN/Mafioso",
          "Philosophy/CO/Philosopher",
          "Natural Sciences/CT",
          "Natural Sciences/MD",
          "Government/WI/Diplomat",
          "Film And Theatre/MN/Actor",
          "Film And Theatre/MO/Actor",
          "Language/GA",
          "Language/IL",
          "Language/NE/Writer",
          "Engineering/NJ/Engineer",
          "Natural Sciences/OR",
          "Social Sciences/CT/Economist",
          "Government/NY/Diplomat",
          "Team Sports",
          "Military/NY",
          "Language/Sin nombre/Critic",
          "Government/Württemberg",
          "Government/Wales",
          "Medicine/NY",
          "Government",
          "Individual Sports/Sin nombre",
          "Philosophy/Shandong Province",
          "Individual Sports/AL",
          "Law",
          "Language/IL/Linguist",
          "Government",
          "Activism",
          "Government/Sin nombre",
          "Music",
          "Music/CA",
          "Music/MN",
          "Individual Sports/FL/Tennis Player",
          "Language/Sin nombre/Journalist",
          "Music/TX/Musician",
          "Team Sports",
          "Natural Sciences/MA",
          "Invention/NY/Inventor",
          "Music",
          "Natural Sciences/IA/Biologist",
          "Natural Sciences/UT/Biologist",
          "Film And Theatre/Sin nombre/Film Director",
          "Social Sciences",
          "Individual Sports/NY/Swimmer",
          "Music/NY",
          "Government",
          "Natural Sciences",
          "Business",
          "Fine Arts/MA/Painter",
          "Activism/AL",
          "Military",
          "Film And Theatre",
          "Natural Sciences/MO/Astronomer",
          "Individual Sports",
          "Religion",
          "Invention",
          "Music/TX",
          "Music/MI",
          "Media Personality",
          "Social Sciences",
          "Film And Theatre",
          "Government",
          "Fine Arts/IA",
          "Fine Arts/Sin nombre",
          "Fine Arts/GA",
          "Music/MN",
          "Government",
          "Language",
          "Music/NH",
          "Music/OH",
          "Philosophy/NY",
          "Music/OK",
          "Individual Sports",
          "Music/ND",
          "Philosophy/Sin nombre",
          "Language",
          "Military",
          "Activism",
          "Music/MS",
          "Social Sciences",
          "Music/MO",
          "Business",
          "Invention",
          "Music/IN",
          "Religion",
          "Fine Arts/CT",
          "Fine Arts/NY",
          "Fine Arts/MA",
          "Fine Arts/CA",
          "Government",
          "Social Sciences",
          "Film And Theatre/NY",
          "Film And Theatre/OH",
          "Film And Theatre/PA",
          "",
          "Government",
          "Film And Theatre/TX",
          "Design/GA",
          "Team Sports",
          "Military",
          "Math",
          "Social Sciences/Sin nombre",
          "Natural Sciences/OH",
          "Natural Sciences/Sin nombre",
          "Individual Sports/Sin nombre",
          "Language",
          "History/MA",
          "History/OH",
          "Social Sciences",
          "Natural Sciences",
          "Film And Theatre/NM",
          "Film And Theatre/MT",
          "",
          "Film And Theatre/MO",
          "Outlaws/IN",
          "Outlaws/OH",
          "",
          "",
          "Outlaws/WI",
          "Design/NY",
          "",
          "",
          "Film And Theatre/GA",
          "Medicine",
          "",
          "",
          "",
          "Film And Theatre/IL",
          "Film And Theatre/IN",
          "",
          "Film And Theatre/MA",
          "",
          "Film And Theatre/ME",
          "Film And Theatre/MI",
          "",
          "Music/IL",
          "Invention",
          "Film And Theatre",
          "Math/NJ",
          "Media Personality",
          "Math/WV",
          "Government",
          "Medicine",
          "Math",
          "Military/PA",
          "Government",
          "Military/TX",
          "Military/VA",
          "Explorers",
          "Design",
          "Media Personality/Sin nombre",
          "Companions",
          "Media Personality/TN",
          "Music/AL",
          "Music/AZ",
          "Team Sports",
          "Music/GA",
          "Social Sciences",
          "Math/Cantal",
          "Business",
          "Explorers",
          "Activism",
          "Invention/PA",
          "Religion",
          "Outlaws",
          "Government",
          "Natural Sciences",
          "Language/Sin nombre",
          "Language",
          "Natural Sciences",
          "Medicine",
          "Law/OH",
          "Law/Sin nombre",
          "Outlaws",
          "Medicine",
          "Language",
          "Language/PA",
          "Individual Sports",
          "Language/Sin nombre",
          "Outlaws/IL",
          "Film And Theatre",
          "Activism",
          "Medicine/IN",
          "Music",
          "Medicine/MN",
          "Music/AR",
          "Music/AZ",
          "Fine Arts",
          "Film And Theatre",
          "Philosophy",
          "Music/IL",
          "Natural Sciences",
          "Music",
          "Military",
          "Music/AL",
          "Media Personality",
          "Film And Theatre",
          "Explorers",
          "Music/MO",
          "Design",
          "Music/ND",
          "Music/NH",
          "Companions",
          "Government",
          "Film And Theatre",
          "Outlaws/IL",
          "Fine Arts/Sin nombre",
          "Fine Arts/PA",
          "Government",
          "Natural Sciences",
          "Business/NY",
          "Individual Sports",
          "Government",
          "Explorers",
          "Business/TX",
          "Social Sciences/NJ",
          "Social Sciences/NY",
          "Social Sciences/SC",
          "Film And Theatre",
          "Social Sciences/Sin nombre",
          "Film And Theatre",
          "Team Sports",
          "Individual Sports/CA",
          "Individual Sports/WI",
          "Music",
          "Religion/Ancona",
          "Film And Theatre",
          "Religion/Gilead",
          "Religion/Lazio",
          "Religion/Piedmont",
          "Team Sports",
          "Music/OK",
          "Music/PA",
          "Music",
          "Language/MA",
          "Activism/Tamaulipas",
          "Activism/WA",
          "Social Sciences/NY",
          "Social Sciences/PA",
          "Social Sciences/Sin nombre",
          "Language/CO",
          "Language/AR",
          "Individual Sports/CA",
          "Language/AL",
          "Individual Sports/SC",
          "Individual Sports/MD",
          "Individual Sports/PA",
          "Individual Sports/OK",
          "Individual Sports/Sin nombre",
          "Individual Sports/CA",
          "Individual Sports/NY",
          "Individual Sports/NH",
          "Individual Sports/IN",
          "Individual Sports/VA",
          "Individual Sports/IL",
          "Language/ME",
          "Social Sciences",
          "Language/MO",
          "Activism/MA",
          "Military",
          "Government",
          "Music/Sin nombre",
          "Natural Sciences",
          "Music/TN",
          "Individual Sports/PA",
          "Medicine",
          "Language",
          "Invention",
          "Team Sports/AL",
          "Individual Sports",
          "Language/WV",
          "Language/WI",
          "Team Sports/Sin nombre",
          "Language/VA",
          "Team Sports/Victoria",
          "Language/TX",
          "Language/OK",
          "Language/NJ",
          "Activism/Eastern Cape",
          "Language/MS",
          "Activism/MD",
          "Media Personality/TN",
          "Team Sports",
          "Computer Science",
          "Natural Sciences/SC",
          "Explorers",
          "Language",
          "Natural Sciences/VA",
          "Natural Sciences/WA",
          "Military/KS",
          "Film And Theatre",
          "Team Sports",
          "Social Sciences",
          "Natural Sciences",
          "Music",
          "Natural Sciences",
          "Government/AR",
          "Music",
          "Media Personality",
          "Language",
          "Film And Theatre",
          "Government/IA",
          "Language",
          "Music",
          "Language",
          "Medicine",
          "Individual Sports",
          "Natural Sciences/NE",
          "Natural Sciences/MI",
          "Medicine/NH",
          "Medicine/NJ",
          "Media Personality",
          "Individual Sports",
          "Explorers",
          "Design",
          "Team Sports",
          "Philosophy",
          "Natural Sciences/CA",
          "Media Personality",
          "Natural Sciences/CO",
          "Language",
          "Computer Science",
          "Media Personality",
          "Government",
          "Natural Sciences/IL",
          "Social Sciences",
          "Media Personality",
          "Language",
          "Individual Sports",
          "Natural Sciences/MD",
          "Natural Sciences/MO",
          "Medicine/MA",
          "Design",
          "Government/MA",
          "Design",
          "Government",
          "Outlaws",
          "Media Personality/CA",
          "Government",
          "Music",
          "Government",
          "Media Personality/NV",
          "Media Personality/NY",
          "Media Personality/OH",
          "Music",
          "Government",
          "Film And Theatre",
          "Design",
          "Companions",
          "Natural Sciences",
          "Philosophy",
          "Media Personality/Sin nombre",
          "Medicine",
          "Media Personality/IN",
          "Explorers",
          "Government/TN",
          "Team Sports",
          "Government/Sin nombre",
          "History",
          "Government/MI",
          "Government/MO",
          "Government",
          "Film And Theatre",
          "Computer Science",
          "Government/NH",
          "Language",
          "Government",
          "Government/NM",
          "Film And Theatre",
          "Outlaws",
          "Government/OH",
          "Social Sciences",
          "Philosophy",
          "Natural Sciences",
          "Government/Pernambuco",
          "Medicine",
          "Math",
          "Government/SC",
          "Language",
          "Government/SD",
          "Film And Theatre",
          "Fine Arts",
          "Media Personality/Sin nombre",
          "Explorers/Sin nombre",
          "Music/NC/Musician",
          "Music/NY/Musician",
          "Music/OH/Musician",
          "Music/OK/Musician",
          "Music/SC/Musician",
          "Music/Sin nombre/Musician",
          "Fine Arts/WY/Painter",
          "Philosophy/IL/Philosopher",
          "Philosophy/MA/Philosopher",
          "Philosophy/Sin nombre/Philosopher",
          "Medicine/MI/Physician",
          "Medicine/Sin nombre/Physician",
          "Medicine/WA/Physician",
          "Medicine/WI/Physician",
          "Natural Sciences/CA/Physicist",
          "Natural Sciences/FL/Physicist",
          "Natural Sciences/MA/Physicist",
          "Natural Sciences/MI/Physicist",
          "Natural Sciences/NY/Physicist",
          "Natural Sciences/SC/Physicist",
          "Natural Sciences/VA/Physicist",
          "Natural Sciences/WI/Physicist",
          "Military/MI/Pilot",
          "Government/GA/Politician",
          "Government/IA/Politician",
          "Government/IL/Politician",
          "Government/KY/Politician",
          "Music/MI/Musician",
          "Music/LA/Musician",
          "Music/HI/Musician",
          "Music/FL/Musician",
          "Social Sciences/Sin nombre/Economist",
          "Engineering/MA/Engineer",
          "Engineering/PA/Engineer",
          "Engineering/Sin nombre/Engineer",
          "Outlaws/IL/Extremist",
          "Outlaws/LA/Extremist",
          "Outlaws/WI/Extremist",
          "Film And Theatre/NJ/Film Director",
          "Film And Theatre/OK/Film Director",
          "Design/MI/Game Designer",
          "Design/Sin nombre/Game Designer",
          "Social Sciences/Sin nombre/Geographer",
          "Natural Sciences/OH/Geologist",
          "Government/Kaluga Oblast/Politician",
          "Natural Sciences/Sin nombre/Geologist",
          "History/NH/Historian",
          "Invention/IA/Inventor",
          "Invention/OH/Inventor",
          "Invention/WI/Inventor",
          "Language/Sin nombre/Linguist",
          "Media Personality/NJ/Magician",
          "Individual Sports/Sin nombre/Martial Arts",
          "Math/CT/Mathematician",
          "Military/AR/Military Personnel",
          "Military/OK/Military Personnel",
          "Military/PA/Military Personnel",
          "Music/AL/Musician",
          "Music/CA/Musician",
          "Individual Sports/Sin nombre/Gymnast",
          "Government/La Rioja/Politician",
          "Government/MA/Politician",
          "Government/MI/Politician",
          "Team Sports/NJ/Soccer Player",
          "Team Sports/Sao Paulo/Soccer Player",
          "Team Sports/Victoria/Soccer Player",
          "Activism/CT/Social Activist",
          "Activism/IL/Social Activist",
          "Activism/MD/Social Activist",
          "Activism/Tamaulipas/Social Activist",
          "Social Sciences/NY/Sociologist",
          "Social Sciences/PA/Sociologist",
          "Individual Sports/CA/Tennis Player",
          "Individual Sports/IL/Tennis Player",
          "Individual Sports/NC/Tennis Player",
          "Individual Sports/NY/Tennis Player",
          "Individual Sports/Sin nombre/Skater",
          "Individual Sports/Sin nombre/Tennis Player",
          "Individual Sports/NE/Wrestler",
          "Individual Sports/OK/Wrestler",
          "Individual Sports/TX/Wrestler",
          "Language/AR/Writer",
          "Language/CT/Writer",
          "Language/MO/Writer",
          "Language/NH/Writer",
          "Language/NY/Writer",
          "Language/PA/Writer",
          "Language/VA/Writer",
          "Language/WI/Writer",
          "Film And Theatre/AZ",
          "Film And Theatre/ID",
          "Individual Sports/MO/Wrestler",
          "Social Sciences/NE/Economist",
          "Music/WA/Singer",
          "Music/SC/Singer",
          "Government/NC/Politician",
          "Government/ND/Politician",
          "Government/NH/Politician",
          "Government/NJ/Politician",
          "Government/NM/Politician",
          "Government/PA/Politician",
          "Media Personality/NY/Presenter",
          "Business/MI/Producer",
          "Business/PA/Producer",
          "Business/TX/Producer",
          "Social Sciences/CT/Psychologist",
          "Social Sciences/IL/Psychologist",
          "Social Sciences/MA/Psychologist",
          "Music/TN/Singer",
          "Social Sciences/NJ/Psychologist",
          "Religion/GA/Religious Figure",
          "Religion/Galilee/Religious Figure",
          "Religion/Sin nombre/Religious Figure",
          "Fine Arts/Sin nombre/Sculptor",
          "Music/AZ/Singer",
          "Music/FL/Singer",
          "Music/GA/Singer",
          "Music/IA/Singer",
          "Music/Komi ASSR/Singer",
          "Music/MI/Singer",
          "Music/MO/Singer",
          "Music/MS/Singer",
          "Music/PA/Singer",
          "Government/Sin nombre/Public Worker",
          "Film And Theatre/IN",
          "Social Sciences/NC/Economist",
          "Social Sciences/IL/Economist",
          "Music/NY/Musician",
          "Fine Arts/Sin nombre/Painter",
          "Medicine/NJ/Physician",
          "Military/KS/Pilot",
          "Government/AZ/Politician",
          "Government/IL/Politician",
          "Government/Sin nombre/Politician",
          "Media Personality/NV/Pornographic Actor",
          "Media Personality/Sin nombre/Presenter",
          "Individual Sports/WI/Racecar Driver",
          "Music/FL/Singer",
          "Music/MI/Singer",
          "Music/NM/Singer",
          "Music/NY/Singer",
          "Music/OH/Singer",
          "Music/TN/Singer",
          "Individual Sports/Sin nombre/Skier",
          "Activism/Sin nombre/Social Activist",
          "Individual Sports/CA/Tennis Player",
          "Language/NY/Writer",
          "Language/PA/Writer",
          "Language/Sin nombre/Writer",
          "Film And Theatre/DE/Actor",
          "Film And Theatre/GA/Actor",
          "Film And Theatre/IL/Actor",
          "Film And Theatre/KS/Actor",
          "Film And Theatre/LA/Actor",
          "Music/NJ/Musician",
          "Music/MI/Musician",
          "Music/CA/Musician",
          "Language/NY/Journalist",
          "Film And Theatre/FL/Actor",
          "Film And Theatre/KS/Actor",
          "Film And Theatre/LA/Actor",
          "Film And Theatre/ME/Actor",
          "Film And Theatre/MI/Actor",
          "Film And Theatre/NM/Actor",
          "Film And Theatre/Sin nombre/Actor",
          "Film And Theatre/VA/Actor",
          "Natural Sciences/Sin nombre/Archaeologist",
          "Explorers/Sin nombre/Astronaut",
          "Natural Sciences/Sin nombre/Astronomer",
          "Individual Sports/Sin nombre/Athlete",
          "Natural Sciences/CA/Biologist",
          "Film And Theatre/MI/Actor",
          "Natural Sciences/WA/Biologist",
          "Media Personality/CA/Chef",
          "Companions/IA/Companion",
          "Companions/MA/Companion",
          "Companions/Sin nombre/Companion",
          "Companions/VA/Companion",
          "Dance/MO/Dancer",
          "Dance/PA/Dancer",
          "Dance/Sin nombre/Dancer",
          "Government/Sin nombre/Diplomat",
          "Social Sciences/CA/Economist",
          "Film And Theatre/CA/Film Director",
          "Film And Theatre/Sin nombre/Film Director",
          "Language/NJ/Journalist",
          "Business/Sin nombre/Businessperson",
          "Film And Theatre/NM/Actor",
          "Film And Theatre/OH/Actor",
          "Film And Theatre/PA/Actor",
          "Individual Sports/TX/Boxer",
          "Business/CA/Businessperson",
          "Business/CT/Businessperson",
          "Business/OH/Businessperson",
          "Business/OK/Businessperson",
          "Business/PA/Businessperson",
          "Media Personality/IA/Celebrity",
          "Media Personality/Sin nombre/Celebrity",
          "Natural Sciences/CA/Chemist",
          "Natural Sciences/MD/Chemist",
          "Natural Sciences/MO/Chemist",
          "Individual Sports/LA/Chessmaster",
          "Film And Theatre/NY/Comedian",
          "Individual Sports/SC/Boxer",
          "Film And Theatre/TX/Comedian",
          "Design/NY/Comic Artist",
          "Music/IN/Composer",
          "Music/MD/Composer",
          "Music/PA/Composer",
          "Computer Science/NY/Computer Scientist",
          "Computer Science/Sin nombre/Computer Scientist",
          "Music/Sin nombre/Conductor",
          "Team Sports/Sin nombre/Cricketer",
          "Individual Sports/PA/Cyclist",
          "Individual Sports/Sin nombre/Cyclist",
          "Dance/Sin nombre/Dancer",
          "Design/NY/Designer",
          "Government/Sin nombre/Diplomat",
          "Design/MN/Comic Artist",
          "Social Sciences/MA/Economist",
          "Natural Sciences/NE/Biologist",
          "Natural Sciences/KY/Biologist",
          "Film And Theatre/Sin nombre/Actor",
          "Social Sciences/CA/Anthropologist",
          "Social Sciences/NY/Anthropologist",
          "Natural Sciences/PA/Archaeologist",
          "Design/NJ/Architect",
          "Design/PA/Architect",
          "Fine Arts/NY/Artist",
          "Fine Arts/PA/Artist",
          "Explorers/CA/Astronaut",
          "Explorers/NM/Astronaut",
          "Explorers/OK/Astronaut",
          "Explorers/PA/Astronaut",
          "Natural Sciences/AL/Astronomer",
          "Natural Sciences/MI/Biologist",
          "Natural Sciences/MT/Astronomer",
          "Individual Sports/KS/Athlete",
          "Individual Sports/NY/Athlete",
          "Individual Sports/PA/Athlete",
          "Team Sports/AL/Basketball Player",
          "Team Sports/CA/Basketball Player",
          "Team Sports/FL/Basketball Player",
          "Team Sports/MI/Basketball Player",
          "Team Sports/NC/Basketball Player",
          "Team Sports/NY/Basketball Player",
          "Team Sports/SC/Basketball Player",
          "Team Sports/TX/Basketball Player",
          "Natural Sciences/AL/Biologist",
          "Natural Sciences/CO/Biologist",
          "Individual Sports/AL/Athlete",
          "Film And Theatre/KY",
          "Music/AZ/Musician",
          "",
          "Individual Sports/Sin nombre",
          "Individual Sports/IL",
          "Natural Sciences/WI",
          "Natural Sciences/SC",
          "Natural Sciences/PA",
          "Individual Sports/PA",
          "Natural Sciences/NY",
          "Natural Sciences/MI",
          "Natural Sciences/KY",
          "Natural Sciences/KS",
          "Team Sports/CA",
          "Team Sports/GA",
          "Team Sports/MD",
          "Natural Sciences/IL",
          "Natural Sciences/IA",
          "Film And Theatre/NY",
          "Design/KY",
          "Natural Sciences/CA",
          "Natural Sciences/Ardennes",
          "Music/CT",
          "Companions/TX",
          "Fine Arts/NY",
          "Fine Arts/PA",
          "Companions/NY",
          "Explorers/IL",
          "Explorers/IN",
          "Natural Sciences/GA",
          "Explorers/NJ",
          "Companions/KY",
          "Companions/GA",
          "Companions/CA",
          "Explorers/Sin nombre",
          "Design/Sin nombre",
          "Design/MN",
          "Design/MD",
          "Companions/NV",
          "Media Personality/CA",
          "Team Sports/FL",
          "Team Sports/IL",
          "Natural Sciences/AL",
          "Natural Sciences/CA",
          "Natural Sciences/CT",
          "Business/KS",
          "Business/IL",
          "Business/CT",
          "Natural Sciences/KY",
          "Business/NY",
          "Natural Sciences/MN",
          "Individual Sports/Sin nombre",
          "Natural Sciences/NJ",
          "Individual Sports/SC",
          "Individual Sports/NY",
          "Individual Sports/KY",
          "Natural Sciences/WA",
          "Natural Sciences/Sin nombre",
          "Business/AL",
          "Design/NJ",
          "Business/OH",
          "Team Sports/TN",
          "Team Sports/KY",
          "Media Personality/Sin nombre",
          "Media Personality/PA",
          "Team Sports/NC",
          "Media Personality/NY",
          "Media Personality/KY",
          "Team Sports/NJ",
          "Business/OK",
          "Media Personality/IL",
          "Team Sports/NY",
          "Team Sports/OH",
          "Team Sports/OK",
          "Team Sports/SC",
          "Business/TX",
          "Team Sports/Sin nombre",
          "Business/Sin nombre",
          "Business/WA",
          "Music/TX",
          "Individual Sports/GA",
          "Film And Theatre/OK",
          "Design/NY",
          "Government/CA",
          "Dance/Sin nombre",
          "Social Sciences/MI",
          "Social Sciences/CA",
          "Film And Theatre/NE",
          "Social Sciences/TN",
          "Social Sciences/NY",
          "Individual Sports/Sin nombre",
          "Film And Theatre/NY",
          "Social Sciences/Sin nombre",
          "Individual Sports/PA",
          "Computer Science/LA",
          "Computer Science/NY",
          "Film And Theatre/OH",
          "Film And Theatre/MT",
          "Team Sports/CA",
          "Government/WI",
          "Language/IL",
          "Film And Theatre/RI",
          "Computer Science/Sin nombre",
          "Government/Sin nombre",
          "Film And Theatre/AR",
          "Music/LA/Singer",
          "Fine Arts/PA/Artist",
          "Computer Science",
          "Individual Sports/CA/Wrestler",
          "Social Sciences",
          "Outlaws/NY",
          "Philosophy",
          "Activism/Sin nombre",
          "Natural Sciences/CT",
          "Design/Sin nombre/Comic Artist",
          "Music/VA/Singer",
          "Language/CT",
          "Activism",
          "Business/KY/Businessperson",
          "Medicine/MI",
          "Government/CA/Politician",
          "Medicine/MA/Physician",
          "Invention",
          "Invention/WA/Inventor",
          "",
          "Math/Cantal/Mathematician",
          "Invention/WA",
          "Individual Sports",
          "Social Sciences/PA",
          "Social Sciences/Sin nombre",
          "Business/PA",
          "Government/VA",
          "Music",
          "Business/TN",
          "Individual Sports",
          "Companions/IL/Companion",
          "Design/MI/Comic Artist",
          "Engineering",
          "Invention",
          "Social Sciences",
          "Team Sports",
          "Natural Sciences/NY/Chemist",
          "Individual Sports/TN/Athlete",
          "Companions/CA/Companion",
          "Music",
          "Team Sports",
          "Computer Science/WI/Computer Scientist",
          "Music/CA/Composer",
          "Natural Sciences",
          "Media Personality/IA",
          "Outlaws",
          "Companions/GA/Companion",
          "Music/PA",
          "Explorers/CA/Astronaut",
          "Film And Theatre/NY/Actor",
          "Natural Sciences",
          "Film And Theatre/NM/Film Director",
          "Media Personality",
          "Film And Theatre",
          "Companions",
          "Music",
          "Business",
          "Film And Theatre/MS/Film Director",
          "",
          "Engineering/Sin nombre",
          "Film And Theatre/IN/Actor",
          "Film And Theatre/IL/Actor",
          "Film And Theatre/ID/Actor",
          "Government",
          "Team Sports",
          "Film And Theatre/AZ/Actor",
          "History/MA/Historian",
          "Religion",
          "Outlaws/VT/Extremist",
          "Film And Theatre/PA/Actor",
          "Outlaws",
          "Natural Sciences",
          "Social Sciences/CA/Economist",
          "Language",
          "Social Sciences/GA/Economist",
          "Music/HI",
          "Social Sciences/KS/Economist",
          "Film And Theatre/MS",
          "Social Sciences/MI/Economist",
          "Business/NM",
          "Design/Sin nombre",
          "Social Sciences/NY/Economist",
          "Social Sciences/OR/Economist",
          "Outlaws",
          "Music/KY",
          "",
          "Engineering/MO/Engineer",
          "Government",
          "Film And Theatre",
          "Outlaws/IN/Extremist",
          "Design/CA/Designer",
          "Military/SC",
          "Medicine",
          "Media Personality/UT",
          "Film And Theatre/OR/Actor",
          "Fine Arts",
          "Film And Theatre",
          "Outlaws",
          "Government/NY",
          "Law",
          "Language",
          "Natural Sciences/NY/Archaeologist",
          "History",
          "Business",
          "Invention",
          "Computer Science/MD",
          "Design/WI/Architect",
          "Medicine",
          "Individual Sports/Sin nombre",
          "Math",
          "Natural Sciences",
          "Government",
          "Language/CT",
          "Social Sciences/Sin nombre/Psychologist",
          "Philosophy",
          "History/NH",
          "Invention",
          "Music/SC/Singer",
          "Invention/CA",
          "Music",
          "Government",
          "Computer Science/IN",
          "Music/NY",
          "Invention/IA",
          "Individual Sports/Sin nombre/Tennis Player",
          "Music",
          "Activism",
          "Music/IN/Singer",
          "Computer Science",
          "Engineering",
          "Invention/UT",
          "Engineering",
          "Dance",
          "Government",
          "Film And Theatre/MO/Actor",
          "Language",
          "Film And Theatre/NJ/Actor",
          "Design",
          "Design",
          "Government/AL/Politician",
          "Individual Sports/Sin nombre/Gymnast",
          "Film And Theatre/OK",
          "Natural Sciences/NJ/Biologist",
          "Business/AL/Businessperson",
          "Invention",
          "Military",
          "Government",
          "Dance",
          "Computer Science/CT",
          "Companions",
          "Film And Theatre",
          "Natural Sciences/CA",
          "Media Personality/UT/Celebrity",
          "Explorers",
          "Medicine",
          "Natural Sciences/IL/Chemist",
          "Individual Sports",
          "Natural Sciences/KY/Chemist",
          "Government/CT",
          "Film And Theatre/Sin nombre",
          "Individual Sports/CA",
          "Government",
          "Team Sports/WA/Basketball Player",
          "Individual Sports",
          "Companions",
          "Film And Theatre",
          "Explorers",
          "Music/NY",
          "Natural Sciences",
          "Math",
          "Team Sports/AL/Baseball Player",
          "Design",
          "Outlaws/TX",
          "Language",
          "Natural Sciences",
          "History",
          "Team Sports/IL/Basketball Player",
          "Music",
          "Team Sports/LA/Basketball Player",
          "Individual Sports/Sin nombre",
          "Math/CT",
          "Team Sports/VA/Basketball Player",
          "Natural Sciences/IL/Biologist",
          "Individual Sports",
          "Film And Theatre/ME",
          "Individual Sports/IN/Wrestler",
          "Religion/GA",
          "Individual Sports/TN",
          "Individual Sports/WI",
          "Individual Sports/Sin nombre",
          "Medicine/MD",
          "Team Sports/AL",
          "Medicine/AL",
          "Individual Sports/MI/Wrestler",
          "Social Sciences/PA",
          "Language/NY",
          "Social Sciences/MA",
          "Language/OH",
          "Language/OR",
          "Medicine/NH/Physician",
          "Language/RI",
          "Language/Sin nombre",
          "Medicine/IN/Physician",
          "Media Personality/NY",
          "Individual Sports",
          "Music/MS/Musician",
          "Fine Arts/PA",
          "Music/NJ/Musician",
          "Music/NV/Musician",
          "Team Sports/Sin nombre",
          "Fine Arts/WY",
          "Individual Sports/TN/Wrestler",
          "Fine Arts/PA/Painter",
          "Film And Theatre",
          "Business",
          "Fine Arts/NY/Photographer",
          "Government/KY",
          "Philosophy/IL",
          "Government/LA/Politician",
          "Team Sports/AL",
          "Medicine/TX",
          "Music/TX/Singer",
          "Design/OH",
          "Activism/GA",
          "Design/Sin nombre",
          "Natural Sciences/OH",
          "Military/WV",
          "Music/MS",
          "Music/MN/Singer",
          "Music/VT",
          "Religion/VT/Religious Figure",
          "Team Sports/CA",
          "Natural Sciences/PA",
          "Explorers/OH",
          "Individual Sports/Sin nombre",
          "Team Sports/OH",
          "Individual Sports/WI/Wrestler",
          "Activism/VT",
          "Music/IN",
          "Government/GA",
          "Individual Sports/GA",
          "Religion/NC",
          "Individual Sports/AZ",
          "Individual Sports/Sin nombre/Swimmer",
          "Individual Sports/CA/Swimmer",
          "Natural Sciences/PA",
          "Individual Sports/KS",
          "Natural Sciences/FL",
          "Activism/SC/Social Activist",
          "Government/Segovia/Politician",
          "Media Personality/IA/Presenter",
          "Government/Anhui",
          "Media Personality/MA/Presenter",
          "Individual Sports/NE",
          "Film And Theatre/TN",
          "Individual Sports/NH",
          "Business",
          "Music/TX",
          "Explorers/TN",
          "Outlaws/MO/Mafioso",
          "Media Personality/MT",
          "Film And Theatre/SC",
          "Film And Theatre/CT",
          "Language/CT/Linguist",
          "Military/Württemberg/Military Personnel",
          "Military/CT/Military Personnel",
          "Military/VA/Military Personnel",
          "Outlaws/Sin nombre/Mafioso",
          "Invention/UT/Inventor",
          "Natural Sciences/DE",
          "Government/NE",
          "Government/La Rioja",
          "Military/Pyrénées-Atlantiques/Military Personnel",
          "Music/Sin nombre",
          "Law/Sin nombre/Lawyer",
          "Music/MA",
          "Team Sports/CA/Soccer Player",
          "Activism/Eastern Cape/Social Activist",
          "Media Personality",
          "Natural Sciences",
          "Outlaws/LA",
          "Film And Theatre/MO/Film Director",
          "Language/CA/Writer",
          "Media Personality",
          "Media Personality",
          "",
          "Music",
          "Government/CO/Politician",
          "Language/Sin nombre/Writer",
          "Language",
          "Math/MO",
          "Natural Sciences/OR/Chemist",
          "Natural Sciences/PA/Biologist",
          "Military/Sin nombre",
          "Social Sciences",
          "Medicine/Sin nombre",
          "Individual Sports/KY/Boxer",
          "Design/Sin nombre/Designer",
          "Media Personality/Sin nombre/Model",
          "Individual Sports/FL/Racecar Driver",
          "Activism",
          "Individual Sports/CA",
          "Individual Sports/TX",
          "Individual Sports/PA/Wrestler",
          "Military",
          "History/OH/Historian",
          "Individual Sports",
          "Film And Theatre/MS",
          "Media Personality/MA",
          "Military",
          "Language",
          "Media Personality/CA",
          "Team Sports/TX",
          "Math/Sin nombre",
          "Team Sports",
          "Individual Sports/VA/Athlete",
          "Language",
          "Music/MI",
          "Business",
          "Religion/PA",
          "Government/MN/Politician",
          "Music",
          "Language/IL/Writer",
          "Individual Sports/NY",
          "Explorers/NH",
          "Outlaws/Sin nombre/Pirate",
          "Music/AL/Singer",
          "Film And Theatre/WI",
          "Explorers/NH/Astronaut",
          "Engineering/PA",
          "Film And Theatre",
          "Media Personality/TX/Celebrity",
          "Film And Theatre",
          "Explorers/PA",
          "Natural Sciences/NE/Physicist",
          "Media Personality/NY/Celebrity",
          "Natural Sciences/TX/Chemist",
          "Language/IL/Critic",
          "Design",
          "Math/Sin nombre/Mathematician",
          "Companions/IA",
          "Social Sciences/CT",
          "Fine Arts",
          "Business/HI/Businessperson",
          "Fine Arts/Sin nombre/Sculptor",
          "Media Personality/TX",
          "Individual Sports/Sin nombre/Skater",
          "",
          "Activism/WA/Social Activist",
          "Individual Sports/Sin nombre/Chessmaster",
          "Invention/MA",
          "Explorers/Cáceres",
          "Film And Theatre/DE",
          "Individual Sports/PA/Skater",
          "Media Personality/IL/Model",
          "Music/TX/Singer",
          "Film And Theatre/MA/Actor",
          "Natural Sciences/CT/Biologist",
          "Team Sports/CA/Basketball Player",
          "Music/MD",
          "Social Sciences/Sin nombre",
          "Team Sports",
          "Individual Sports/SC/Wrestler",
          "Design/MA",
          "Activism",
          "Team Sports",
          "Music/NC/Singer",
          "Companions/TX/Companion",
          "Music/VT/Singer",
          "Government/Kaluga Oblast",
          "Media Personality/Sin nombre",
          "Team Sports",
          "Government/NY",
          "Social Sciences",
          "Film And Theatre/LA",
          "Social Sciences/IL",
          "Film And Theatre/GA/Actor",
          "Social Sciences",
          "Invention/WI",
          "Film And Theatre/ME/Actor",
          "Music/WA",
          "",
          "Music/HI/Singer",
          "Language",
          "Individual Sports/FL/Wrestler",
          "Government",
          "Invention/OR",
          "Individual Sports",
          "Language/TX/Writer",
          "Invention/OH",
          "Film And Theatre/NC",
          "Film And Theatre/GA",
          "Language/OH/Writer",
          "Natural Sciences/Sin nombre/Chemist",
          "Music/IN",
          "Music/MO/Singer",
          "Natural Sciences/IL/Biologist",
          "Government",
          "Music/NM/Singer",
          "Design/CT",
          "Business/Sin nombre",
          "Government/AZ",
          "Language/WA/Writer",
          "Film And Theatre/SD/Actor",
          "Government/MN",
          "Social Sciences/KS",
          "Social Sciences",
          "Government/HI",
          "Design/CA",
          "Social Sciences/WI",
          "Individual Sports/MN/Tennis Player",
          "Music",
          "Business",
          "Team Sports/Sin nombre",
          "Government/WI",
          "Engineering/Sin nombre/Engineer",
          "Computer Science/PA",
          "Computer Science/WI",
          "Film And Theatre/WI/Actor",
          "Music/Sin nombre/Musician",
          "Individual Sports/IL/Wrestler",
          "Language/TX/Writer",
          "Government",
          "Social Sciences/Sin nombre/Anthropologist",
          "Government/IL",
          "Music/ND/Musician",
          "Individual Sports/AZ/Wrestler",
          "Music/IL/Musician",
          "Media Personality",
          "Law/Sin nombre/Lawyer",
          "Individual Sports/NV/Tennis Player",
          "Philosophy",
          "Outlaws",
          "Government/TX",
          "Language/GA/Writer",
          "Outlaws/Sin nombre",
          "Social Sciences/PA",
          "History/NY",
          "Government/MI",
          "Music/AZ/Singer",
          "Film And Theatre/NC/Actor",
          "Film And Theatre/NJ",
          "Government",
          "Government/County Mayo",
          "Social Sciences/Sin nombre/Sociologist",
          "",
          "Social Sciences/TX/Sociologist",
          "Film And Theatre/TX",
          "Language/ID/Writer",
          "Engineering/MA",
          "Media Personality/MS/Presenter",
          "Media Personality/Sin nombre/Pornographic Actor",
          "Media Personality/OH/Pornographic Actor",
          "Government/KS",
          "Film And Theatre/CO",
          "Social Sciences/CT",
          "Media Personality/MT/Pornographic Actor",
          "Natural Sciences/DE/Astronomer",
          "Social Sciences/IL",
          "",
          "Music",
          "Individual Sports/NC/Wrestler",
          "Individual Sports",
          "Individual Sports/FL/Tennis Player",
          "Activism",
          "Team Sports",
          "Computer Science/MI/Computer Scientist",
          "Individual Sports/Sin nombre",
          "Team Sports",
          "Music/VA/Musician",
          "Fine Arts/TX",
          "Music/FL",
          "Music",
          "Individual Sports",
          "Religion",
          "Team Sports/TX",
          "Team Sports/WA",
          "Music/KS/Musician",
          "Music/IN/Musician",
          "Social Sciences",
          "Music/IL/Musician",
          "Computer Science",
          "Military",
          "Music/GA/Musician",
          "Music/CT/Musician",
          "Medicine/CA/Physician",
          "Music/KS",
          "Computer Science/IN/Computer Scientist",
          "Music/TX/Composer",
          "Fine Arts/NY",
          "Natural Sciences/IL/Physicist",
          "Natural Sciences/MI/Chemist",
          "Team Sports/GA",
          "Natural Sciences/PA/Chemist",
          "Team Sports/MI",
          "Medicine/TX/Physician",
          "Music",
          "Medicine",
          "Design/KY/Comic Artist",
          "Design/MD/Comic Artist",
          "Film And Theatre",
          "Design",
          "Medicine/PA/Physician",
          "Language/SC",
          "Music/MA/Composer",
          "Media Personality/IL",
          "Medicine/MN/Physician",
          "Individual Sports",
          "Fine Arts",
          "Natural Sciences/MO/Physicist",
          "Social Sciences/TN/Economist",
          "Social Sciences",
          "Math/MO/Mathematician",
          "Invention",
          "Government",
          "Math/MA/Mathematician",
          "Government",
          "Film And Theatre/NY/Film Director",
          "Film And Theatre/OH/Film Director",
          "Film And Theatre/PA/Film Director",
          "Film And Theatre/TX/Film Director",
          "Design/GA/Game Designer",
          "Outlaws/NY/Mafioso",
          "Government/VA/Judge",
          "Natural Sciences/NY",
          "Music/NV",
          "Design",
          "Companions",
          "Invention/PA/Inventor",
          "Natural Sciences/UT",
          "Invention/CT/Inventor",
          "Math/NJ/Mathematician",
          "Social Sciences/WI/Economist",
          "Math/WV/Mathematician",
          "Language",
          "Natural Sciences/CO",
          "Natural Sciences",
          "Individual Sports/Sin nombre/Mountaineer",
          "Business/KY",
          "Explorers/Cáceres/Explorer",
          "Explorers/Sin nombre/Explorer",
          "Music/MD",
          "Medicine",
          "Natural Sciences/IA",
          "Outlaws/MD/Extremist",
          "Military",
          "Military/NY/Military Personnel",
          "Film And Theatre/CA/Film Director",
          "Film And Theatre/GA/Film Director",
          "Film And Theatre/IL/Film Director",
          "Companions",
          "Business",
          "Film And Theatre",
          "Military/IL/Military Personnel",
          "Film And Theatre/MT/Film Director",
          "Language/IN",
          "Natural Sciences/OR/Physicist",
          "Media Personality/Sin nombre/Chef",
          "Individual Sports/Sin nombre/Racecar Driver",
          "Individual Sports/Loire/Racecar Driver",
          "Explorers/TX",
          "Social Sciences/PA/Psychologist",
          "Fine Arts/Sin nombre/Artist",
          "History",
          "Activism/NY",
          "Natural Sciences/AL",
          "Film And Theatre",
          "Explorers/IL/Astronaut",
          "Social Sciences/CO",
          "Explorers/OH/Astronaut",
          "Natural Sciences/IN",
          "Business/NY/Producer",
          "Music",
          "Natural Sciences/Sin nombre",
          "Business/IL/Producer",
          "Media Personality/Sin nombre/Presenter",
          "Natural Sciences/CA/Astronomer",
          "Law/SD",
          "Natural Sciences/PA/Astronomer",
          "Design/OH/Architect",
          "Design/MA/Architect",
          "Film And Theatre/NY/Actor",
          "Military",
          "Film And Theatre/SC/Actor",
          "Team Sports/IL",
          "Philosophy",
          "Natural Sciences/OR",
          "Film And Theatre/TX/Actor",
          "Music",
          "Film And Theatre/UT/Actor",
          "Team Sports/Sao Paulo",
          "Religion/PA/Religious Figure",
          "Invention",
          "Government/Sin nombre",
          "History",
          "Social Sciences/Sin nombre/Anthropologist",
          "Film And Theatre",
          "Religion/Lazio/Religious Figure",
          "Natural Sciences/Sin nombre/Archaeologist",
          "Activism/CT",
          "Religion/Ancona/Religious Figure",
          "Natural Sciences/Sin nombre/Astronomer",
          "Natural Sciences/TN/Astronomer",
          "Outlaws/IN",
          "Individual Sports/AL/Boxer",
          "Military/AR",
          "Military/CA",
          "Individual Sports/Sin nombre",
          "Military/IL",
          "Individual Sports/TX",
          "Business/NC/Businessperson",
          "Business/NE/Businessperson",
          "Film And Theatre",
          "Government/AR/Politician",
          "Natural Sciences",
          "Military/NJ",
          "Business/WA/Businessperson",
          "Government",
          "Team Sports/AR",
          "Language/IA",
          "Media Personality/IL/Celebrity",
          "Military/OK",
          "Team Sports/CA",
          "Media Personality",
          "Government/MD/Politician",
          "Natural Sciences/CA/Biologist",
          "Natural Sciences/NC",
          "Outlaws/MO",
          "Media Personality/IN/Presenter",
          "Individual Sports/KY/Athlete",
          "Government",
          "Natural Sciences/UT",
          "Government/Sin nombre/Politician",
          "Team Sports/CA/Baseball Player",
          "Team Sports/AR/Basketball Player",
          "Government/NY/Politician",
          "Individual Sports/Sin nombre",
          "Individual Sports/IN",
          "Individual Sports/OH",
          "Team Sports/KY/Basketball Player",
          "Individual Sports/NY",
          "Government/NE/Politician",
          "Natural Sciences/OH",
          "Individual Sports/OK",
          "Film And Theatre",
          "Team Sports/OK/Basketball Player",
          "Individual Sports/FL",
          "Team Sports/GA/Basketball Player",
          "Explorers/NJ/Astronaut"
         ],
         "type": "treemap",
         "values": [
          34.193200000000004,
          339.9467,
          49.865899999999996,
          26.4776,
          46.322599999999994,
          19.0739,
          304.97339999999997,
          22.998,
          23.2935,
          22.0363,
          23.6445,
          23.2517,
          21.0743,
          24.4796,
          176.4957,
          23.8543,
          23.0309,
          46.9944,
          22.0688,
          59.263299999999994,
          22.6426,
          26.0382,
          14.3709,
          74.132,
          23.7521,
          14.3848,
          24.0462,
          22.0648,
          22.1243,
          22.7953,
          19.0739,
          116.4835,
          24.8973,
          24.0462,
          2147.1291999999994,
          23.3897,
          91.4965,
          44.9912,
          365.07289999999995,
          18.3957,
          65.70870000000001,
          261.6384,
          27.4166,
          42.488200000000006,
          43.5934,
          16.4519,
          14.8519,
          136.7878,
          24.981,
          19.5607,
          32.8036,
          990.6187999999997,
          15.8142,
          124.8832,
          112.1442,
          51.4349,
          65.70870000000001,
          36.337900000000005,
          4274.093500000002,
          44.366699999999994,
          21.8729,
          21.7636,
          60.248900000000006,
          125.85430000000001,
          38.867900000000006,
          351.3021,
          145.4583,
          3003.699099999998,
          24.5045,
          25.2468,
          19.3346,
          21.2002,
          67.0953,
          57.0713,
          47.6717,
          22.4046,
          47.705799999999996,
          15.9748,
          40.9943,
          19.6634,
          38.867900000000006,
          21.9859,
          1135.4388999999999,
          37.9693,
          224.90640000000002,
          21.1249,
          17.4038,
          542.6402,
          19.0943,
          23.3594,
          68.9306,
          24.4796,
          22.2507,
          21.9645,
          17.0536,
          97.7893,
          160.2695,
          91.8077,
          358.8805,
          15.4474,
          81.6504,
          28.2463,
          46.762299999999996,
          23.1701,
          27.3612,
          21.1248,
          22.4969,
          24.0919,
          20579.5345,
          183.8073,
          22.6232,
          109.31530000000001,
          22.5349,
          25.6189,
          68.2829,
          25.5664,
          19.457,
          226.4574,
          5070.5785,
          45.6636,
          22.9964,
          17.4038,
          24.5563,
          46.762299999999996,
          47.8797,
          89.1591,
          51.1798,
          19.5607,
          22.1454,
          25.3751,
          42.0951,
          501.9197,
          47.905699999999996,
          19.1531,
          77.9362,
          38.8769,
          249.96519999999995,
          462.4307,
          6838.122699999997,
          18.2395,
          20.633,
          111.1956,
          71.58940000000001,
          47.5043,
          1811.388,
          23.7784,
          20.9263,
          57.172,
          113.6976,
          902.6782000000003,
          1083.7419000000002,
          43.9546,
          21.7838,
          46.9392,
          25.9214,
          147.33079999999998,
          20.2922,
          19.3219,
          22.6674,
          26.209,
          23.3594,
          28.2484,
          70.4893,
          14.6533,
          23.8734,
          21.8188,
          137.4845,
          116.2875,
          21.7714,
          42.3427,
          20.3142,
          22.0404,
          22.4461,
          1587.2316999999998,
          25.4264,
          107.66290000000001,
          14.8542,
          21.6694,
          23.2069,
          44.366699999999994,
          22.0796,
          164.8496,
          44.194,
          20.1433,
          24.3945,
          38.9007,
          402.95309999999995,
          70.5099,
          21.6653,
          4863.607200000004,
          87.14789999999999,
          22.3933,
          256.5969,
          26.2439,
          18.2097,
          21.3065,
          43.6033,
          49.830600000000004,
          86.9984,
          261.6384,
          23.2514,
          20.1433,
          102.07900000000001,
          111.3692,
          43.4677,
          69.2915,
          47.1476,
          324.34559999999993,
          18.3358,
          22.751,
          22.6426,
          17.8957,
          48.3836,
          179.99869999999999,
          22.2659,
          45.2986,
          21.3414,
          17.916,
          25.0778,
          22.9365,
          26.2929,
          89.6834,
          46.8793,
          117.5169,
          26.0514,
          43.9546,
          48.1419,
          21.3081,
          353.72909999999996,
          179.8816,
          15.9748,
          20.6109,
          115.4332,
          1541.2395999999992,
          38.3225,
          20.5835,
          43.3993,
          46.065799999999996,
          17.7064,
          17.7064,
          63.756,
          21.4368,
          18.0839,
          24.4291,
          132.8913,
          51.1798,
          69.172,
          134.1534,
          12978.591599999982,
          44.877700000000004,
          21.0199,
          43.292699999999996,
          16.5541,
          3425.5993,
          45.545500000000004,
          191.0482,
          137.12099999999998,
          100.35079999999999,
          43.9213,
          151.60270000000003,
          1896.4752000000005,
          20.8244,
          39.9801,
          16.6871,
          21.4878,
          23.2517,
          64.7556,
          14.0337,
          23.5793,
          38.867900000000006,
          39.170100000000005,
          15.4474,
          70.724,
          22.3324,
          20.9012,
          332.01009999999997,
          47.8797,
          65.92519999999999,
          19.5607,
          55.2772,
          19.4311,
          24.5217,
          210.91570000000004,
          37.931200000000004,
          995.2577000000001,
          23.2716,
          20.0482,
          70.8255,
          226.9677,
          23.6445,
          24.5217,
          22.0648,
          16.8029,
          22.9365,
          1572.4828000000002,
          48.1522,
          5070.5785,
          37.381299999999996,
          27.4166,
          49.6302,
          289.08630000000005,
          1116.3146999999997,
          17.8957,
          23.5185,
          132.8913,
          1147.8531999999998,
          17.718,
          15.9489,
          59.078199999999995,
          30.616799999999998,
          21.3065,
          23.6805,
          60.248900000000006,
          70.5099,
          44.091300000000004,
          23.3463,
          197.37149999999997,
          4989.811199999998,
          23.3897,
          56.479,
          548.5383999999999,
          399.52729999999997,
          139.4317,
          21.3957,
          21.1427,
          18.3913,
          17.7361,
          23.0275,
          4815.4653000000035,
          43.58,
          25.1593,
          24.4157,
          24.4291,
          20.926,
          42.679500000000004,
          44.2993,
          26.2439,
          28.6877,
          22.0404,
          46.7417,
          23.1348,
          17.2651,
          21.6415,
          23.0281,
          11.405,
          22.6567,
          90.31219999999999,
          25.4264,
          2849.1838999999995,
          20.5502,
          90.2578,
          87.14789999999999,
          42.400800000000004,
          21.0698,
          21.5567,
          68.0596,
          102.5692,
          22.3251,
          3729.9314000000004,
          22.6426,
          225.60360000000003,
          22.6594,
          23.0129,
          39.4318,
          44.8858,
          49.8763,
          75.25580000000001,
          18.6506,
          139.5209,
          25.6553,
          108.017,
          538.4006999999999,
          61.3176,
          22.3431,
          22.6381,
          43.2132,
          41.0723,
          4175.504300000002,
          22.0456,
          22.2891,
          23.6437,
          111.6958,
          23.8398,
          17.3128,
          25.2468,
          25.0778,
          12626.679699999984,
          21.928,
          21.4471,
          817.5378,
          94.7785,
          17.8569,
          23.2043,
          22.4403,
          659.8765000000001,
          47.134299999999996,
          23.3699,
          18.9369,
          23.123,
          43.8605,
          22.0355,
          20.053,
          21.269,
          33.9858,
          45.3861,
          24.4355,
          340.858,
          25.2628,
          23.3896,
          21.8729,
          23.0486,
          46.3335,
          21.7568,
          22.9069,
          19.3254,
          26.1181,
          25.4264,
          23.3483,
          24.0057,
          46.8538,
          15.2941,
          22.1882,
          23.7159,
          16.9485,
          71.8435,
          24.4796,
          22.3873,
          711.9179,
          15.9489,
          91.8674,
          16.9401,
          10253.315199999995,
          64.99069999999999,
          2408.5392999999985,
          5153.521199999999,
          39.8699,
          22.8592,
          18.7543,
          22.1042,
          22.751,
          60.688,
          36.6008,
          87.01209999999999,
          23.3483,
          21.1427,
          21.8879,
          27.1738,
          42.533699999999996,
          22.1318,
          21.7636,
          200.6339,
          79.0129,
          22.5861,
          171.97340000000003,
          38.313,
          24.5415,
          21.6287,
          43.0599,
          571.0880000000001,
          20.0088,
          42.400800000000004,
          17.112,
          22.9964,
          32.6436,
          21.2473,
          13.9237,
          17.3913,
          43.8751,
          22.6996,
          160.5116,
          90.34,
          15.8829,
          22.3726,
          22.7074,
          104.93169999999999,
          162.1507,
          114.91570000000002,
          32.8036,
          67.7898,
          43.9213,
          23.9947,
          22.3827,
          247.72289999999998,
          45.105599999999995,
          21.987,
          22.9947,
          15.3502,
          68.3255,
          24.4373,
          23.0842,
          18.4225,
          245.43910000000005,
          1147.8531999999998,
          16.9485,
          47.905699999999996,
          23.1701,
          48.660399999999996,
          93.8621,
          21.3931,
          641.8567999999999,
          19.5999,
          23.1701,
          45.0005,
          21.1591,
          26.3226,
          22.205,
          188.5562,
          44.0349,
          44.4795,
          79.5546,
          18.9143,
          24.28,
          20.0425,
          16.6566,
          47.6717,
          21.8949,
          48.1522,
          27.4166,
          36.111200000000004,
          325.4527,
          22.6419,
          71.757,
          114.1836,
          49.4943,
          41.4564,
          23.3848,
          47.024100000000004,
          59.078199999999995,
          85.65029999999999,
          89.04129999999999,
          24.9404,
          192.02430000000004,
          25.2468,
          532.7507000000002,
          41.391000000000005,
          47.905699999999996,
          35.9685,
          25.0815,
          22.7493,
          64.5009,
          69.2915,
          22.6224,
          43.0599,
          23.0275,
          25.8966,
          120.0738,
          16.8736,
          15.2515,
          18206.975799999993,
          45.6636,
          43.8605,
          22.4193,
          18.1731,
          44.2993,
          14.484,
          324.26649999999995,
          247.72289999999998,
          66.5121,
          1572.4828000000002,
          20.7154,
          37.931200000000004,
          19.5457,
          20.291,
          89.41420000000001,
          38.5936,
          161.89559999999997,
          23.0842,
          22.9258,
          3293.9425000000015,
          2836.2021000000022,
          76.76,
          12626.679699999984,
          23.8734,
          153.87269999999998,
          22.7953,
          16.6871,
          18.3913,
          113.6976,
          44.812799999999996,
          70.7519,
          89.41420000000001,
          23.0508,
          22.2011,
          24.5107,
          65.542,
          23.2716,
          29.4481,
          43.292699999999996,
          28.2484,
          1135.4388999999999,
          4419.748000000003,
          110.06129999999999,
          17.916,
          25.5664,
          18.6506,
          21.609,
          1055.8732,
          26.0514,
          25.4232,
          23.216,
          206.31570000000002,
          18.7727,
          15.9489,
          22.4814,
          50.3073,
          274.70079999999996,
          25.0366,
          21.5816,
          13.5783,
          49.830600000000004,
          43.5934,
          22.0734,
          1109.0702,
          22.3646,
          2223.2538000000004,
          23.7485,
          19.8822,
          35.0768,
          70.3096,
          137.7919,
          41.19029999999999,
          137.3827,
          21.7714,
          68.0596,
          44.6704,
          23.5078,
          23.2514,
          23.0309,
          21.7336,
          258.1233,
          28.2463,
          22.998,
          161.89559999999997,
          24.5563,
          51.338899999999995,
          29.4481,
          1226.7803,
          79.1993,
          157.69849999999997,
          68.9859,
          89.55000000000001,
          23.3916,
          26.3226,
          25.1584,
          180.31680000000003,
          121.0815,
          64.4066,
          40.8749,
          41.4668,
          22.3933,
          44.802099999999996,
          17.3117,
          70.6912,
          64.5009,
          43.6467,
          94.7353,
          45.0893,
          68.2829,
          28.1723,
          109.31530000000001,
          21.6653,
          74.132,
          25.4175,
          21.5411,
          51.338899999999995,
          44.7625,
          47.024100000000004,
          23.3721,
          45.163,
          45.031400000000005,
          113.1162,
          38.3225,
          16.9485,
          3632.3545000000004,
          20.9426,
          15.9898,
          110.60900000000001,
          22.8672,
          43.6467,
          22.9365,
          657.9780000000001,
          18.2505,
          1618.0908000000002,
          21.3081,
          24.5217,
          22.1234,
          17.7361,
          24.8973,
          22.7493,
          22.692,
          63.606300000000005,
          26.8242,
          130.94719999999998,
          44.6034,
          18.2862,
          17.3803,
          25.3895,
          51.170199999999994,
          81.6504,
          68.1422,
          45.4491,
          18.3633,
          125.5155,
          16.9948,
          46.322599999999994,
          25.5031,
          21.8188,
          89.738,
          71.58940000000001,
          16.1781,
          67.26650000000001,
          22.1433,
          47.1368,
          2429.2833000000005,
          222.49749999999997,
          47.0693,
          134.2047,
          20.461,
          24.8495,
          20.0482,
          22.8672,
          22.751,
          19.9889,
          22.1454,
          17.8569,
          21.7964,
          23.7485,
          21.3931,
          138.9083,
          21.3488,
          22.0456,
          24.7565,
          26.209,
          55.7891,
          57.172,
          18.8424,
          94.7785,
          24.0057,
          20.6307,
          154.31539999999998,
          20.4765,
          194.0345,
          63.5744,
          21.7078,
          206.7382,
          20.291,
          100.1815,
          115.08739999999999,
          43.9213,
          42.8717,
          20.6401,
          13.4518,
          11.405,
          42.533699999999996,
          16.5276,
          59.8632,
          18.3358,
          24.037,
          22.5861,
          34.8967,
          38.6802,
          24.5563,
          45.4491,
          44.9113,
          21.1899,
          43.8537,
          36.337900000000005,
          9.8794,
          21.1249,
          21.2473,
          22.2891,
          18.8424,
          140.214,
          23.3745,
          40.173,
          45.3262,
          22.3974,
          23.8482,
          63.899300000000004,
          16.9948,
          32.6436,
          45.9897,
          21.6653,
          24.3349,
          22.266,
          27.7877,
          20.9642,
          21.928,
          26.0749,
          85.0844,
          50.5837,
          18.6875,
          42.8717,
          48.1522,
          23.8398,
          136.7194,
          178.56369999999998,
          200.6339,
          17.112,
          66.5192,
          24.037,
          21.4368,
          44.4861,
          22.0387,
          55.2064,
          21.6238,
          90.2647,
          824.8767999999999,
          20.2911,
          42.6939,
          44.4076,
          17.0336,
          140.9206,
          396.3447,
          19.3254,
          24.6573,
          29.5566,
          20.976,
          65.92519999999999,
          23.2517,
          45.545500000000004,
          21.3957,
          325.50020000000006,
          23.8327,
          43.8661,
          22.1453,
          23.7521,
          2397.8091999999997,
          104.93169999999999,
          22.3974,
          164.2411,
          104.7944,
          84.3716,
          67.3562,
          21.7838,
          47.218999999999994,
          25.1061,
          65.59309999999999,
          40.3183,
          22.4814,
          21.839,
          123.35079999999999,
          235.4092,
          18.1731,
          1509.5529999999999,
          23.759,
          20.8305,
          44.091300000000004,
          1385.6083000000003,
          755.7529000000001,
          68.9306,
          20.6343,
          25.0366,
          24.3041,
          67.0315,
          22.9258,
          24.5172,
          23.7784,
          16.8019,
          19.1178,
          48.9695,
          20.461,
          14.3848,
          67.93169999999999,
          326.2404,
          27.1522,
          23.4744,
          23.3721,
          44.4861,
          21.8496,
          22.0397,
          110.4597,
          174.78770000000003,
          68.3255,
          352.9319,
          44.194,
          22.1454,
          25.5538,
          21.4027,
          63.5744,
          20416.79950000001,
          19.1531,
          93.8621,
          27.1522,
          19.4311,
          151.60270000000003,
          294.9998,
          2361.3694999999993,
          26.0382,
          44.5696,
          21.2473,
          23.123,
          25.1593,
          26.3226,
          2636.2647999999995,
          42.0293,
          115.2852,
          23.1482,
          20.9359,
          323.2080000000001,
          142.2401,
          247.24820000000003,
          115.1167,
          114.91570000000002,
          42.5202,
          21.9601,
          20.7611,
          2522.120099999999,
          21.7336,
          13.8036,
          871.2447000000002,
          14.863,
          293.0459000000001,
          178.0451,
          23.3368,
          74.132,
          24.679,
          12823.713600000005,
          47.1368,
          36.494299999999996,
          48.116600000000005,
          48.660399999999996,
          316.3526,
          115.2578,
          23.3745,
          118.8297,
          20.9426,
          46.7417,
          22.2659,
          179.99869999999999,
          22.998,
          27.7877,
          112.1442,
          143.3077,
          23.8327,
          131.32739999999998,
          68.9859,
          69.6768,
          77.9641,
          22.2321,
          6854.080400000002,
          44.7625,
          22.4193,
          21.7078,
          118.9763,
          23.6805,
          71.757,
          38.6798,
          23.8449,
          69.21549999999999,
          25.2628,
          22.3646,
          24.4355,
          23.3368,
          23.5078,
          149.5549,
          23.0309,
          417.5431,
          73.1029,
          88.7885,
          2587.1080000000006,
          19.4311,
          39.286100000000005,
          20.1826,
          36.337900000000005,
          44.542500000000004,
          27.1216,
          349.74800000000005,
          23.5099,
          207.91799999999998,
          127.7417,
          25.1061,
          22.7212,
          25.0735,
          69.1231,
          64.1909,
          22.6457,
          25.8755,
          723.6592000000002,
          48.3632,
          22.407,
          26.1181,
          7142.719000000001,
          17065.885400000003,
          46.7457,
          48.3836,
          5660.7845,
          1757.3667999999996,
          42.3534,
          46.065799999999996,
          386.7709999999999,
          1614.1580000000004,
          9418.605499999994,
          113.8125,
          70.6912,
          63488.625400000106,
          23.0508,
          282.91119999999995,
          24.4157,
          111.1956,
          23987.05400000001,
          259.17780000000005,
          23.4272,
          59.078199999999995,
          41.5219,
          38.5749,
          27.1216,
          23.3896,
          2767.660100000002,
          3689.759699999999,
          44.4309,
          59909.37770000011,
          24.0462,
          24.679,
          1938.5478999999998,
          2480.2706000000003,
          495.9561999999999,
          2147.1291999999994,
          22.692,
          48.2122,
          40.3304,
          21.0707,
          47.0385,
          21.8926,
          25.8966,
          150.0749,
          63.756,
          15.7024,
          23.8449,
          46.9944,
          24.8495,
          71.58940000000001,
          23.1262,
          367.6156000000001,
          45.260999999999996,
          65.75229999999999,
          21.8949,
          22.1042,
          324.34559999999993,
          22.4046,
          20.8248,
          66.3648,
          26.8242,
          160.1949,
          393.8229,
          47.1476,
          870.1235000000001,
          22.257,
          21.8736,
          38.4102,
          22.0869,
          59.263299999999994,
          53.4803,
          22.3646,
          197.6978,
          23.3721,
          66.3224,
          302.6027,
          1116.0225,
          25.3895,
          22.5118,
          118.7107,
          3163.968599999998,
          41.0723,
          65.62570000000001,
          24.4062,
          16.1781,
          18.6875,
          17.1996,
          22.3933,
          17.5937,
          68.90289999999999,
          487.55529999999993,
          22.6224,
          22.0688,
          464.07590000000005,
          41.2573,
          81.5905,
          92.0298,
          22.1917,
          63.7304,
          24.5622,
          97.7893,
          23.6805,
          23.518,
          591.3882,
          104.93169999999999,
          17.8957,
          47.5043,
          14.8007,
          201.3539,
          24.4417,
          226.9677,
          28.2463,
          48.116600000000005,
          25.2628,
          20.0666,
          55.2064,
          88.3916,
          59.263299999999994,
          243.004,
          22.257,
          15.7024,
          23.7431,
          22.7179,
          277.09479999999996,
          22.7953,
          23.2448,
          59.74680000000001,
          22.3324,
          55.626,
          17.3128,
          20.3744,
          20.9066,
          190.8101,
          88.49839999999999,
          19.8822,
          21.2002,
          20.0312,
          22.6594,
          21.8055,
          50.3073,
          164.5685,
          169.4184,
          65.542,
          25.807,
          44.6029,
          5278.467199999996,
          39.8721,
          138.1175,
          17.4014,
          22.205,
          22.3324,
          21.7714,
          17.3117,
          89.0491,
          25.1061,
          45.105599999999995,
          18253.829599999994,
          45.260999999999996,
          15.2193,
          66.3648,
          65.92519999999999,
          206.7382,
          22.4991,
          51.4349,
          21.9859,
          15.8829,
          79.0963,
          22.395,
          22.646,
          23.2867,
          44.194,
          23.1262,
          21.839,
          24.2421,
          38.3225,
          15.6063,
          22.6419,
          22.6381,
          89.30810000000001,
          16.9401,
          44.6029,
          319.6241,
          23.2935,
          51.4349,
          84.2381,
          63.684099999999994,
          169.4184,
          50.935900000000004,
          68.9306,
          22.7749,
          30.299300000000002,
          21.774,
          22.5965,
          22.7749,
          21.5567,
          20.8681,
          35.4598,
          85.4319,
          24.3742,
          115.36839999999998,
          68.9859,
          133.84900000000002,
          160.5922,
          22.6232,
          700.2870000000003,
          136.41799999999998,
          21.8868,
          25.1411,
          178.9783,
          46.435100000000006,
          20.7154,
          229.0813,
          29.7408,
          22.1453,
          20.8331,
          43.124300000000005,
          22.4617,
          294.9998,
          48.1417,
          23.7317,
          23.8172,
          18.2395,
          14.484,
          22.1243,
          25.5975,
          21.8868,
          22.4403,
          20.8681,
          21.7568,
          116.6388,
          186.67290000000003,
          22.2169,
          21.1899,
          21.9645,
          29.4481,
          118.29679999999999,
          21.8736,
          21.6119,
          21.8879,
          23.3896,
          22.4035,
          56186.263700000134,
          22.7212,
          22.1378,
          47.705799999999996,
          43.6789,
          464.9246999999999,
          44.6704,
          24.9404,
          50.3073,
          23.7485,
          25.1411,
          62.09010000000001,
          24.3041,
          261.6384,
          157.9683,
          47.134299999999996,
          405.6032,
          25.1593,
          43.124300000000005,
          19.1178,
          40.173,
          243.004,
          46.7417,
          561.4514999999999,
          23.5078,
          18.5525,
          1648.9665,
          49.8763,
          390.53389999999996,
          131.32739999999998,
          69.6768,
          22.6567,
          4553.786399999999,
          25.3751,
          23.2502,
          47.134299999999996,
          6736.563500000002,
          21.3497,
          2697.350500000001,
          21.8949,
          46.065799999999996,
          133.84900000000002,
          44.0349,
          115.1167,
          22.5965,
          479.5471,
          22.646,
          23.1262,
          43.58,
          25.0366,
          26.4648,
          46.303799999999995,
          67.1812,
          116.6388,
          90.5843,
          94.7353,
          38.879400000000004,
          57.609,
          1347.0304000000008,
          22.9927,
          25.4032,
          814.7485,
          68.90289999999999,
          23.8172,
          46.7457,
          43.835,
          21.8875,
          21.1248,
          40.9943,
          349.74800000000005,
          23.5099,
          25.5975,
          207.91799999999998,
          22.4769,
          43.9108,
          28.0222,
          23.4272,
          393.8229,
          20.7154,
          158.4758,
          22.9069,
          25.807,
          13.9879,
          44.4309,
          48.2122,
          584.6925,
          33.199799999999996,
          23.7317,
          294.9998,
          22.1378,
          60.688,
          21.0707,
          15.2193,
          22.2507,
          13.0952,
          21.9859,
          22.257,
          23.7431,
          22.7179,
          13.3488,
          21.8055,
          14.8542,
          16.4715,
          58.58240000000001,
          1338.0787999999998,
          16.8019,
          20.9066,
          84.2179,
          23.2448,
          21.8658,
          148.4542,
          47.218999999999994,
          565.8911,
          68.6532,
          45.260999999999996,
          45.105599999999995,
          17.5937,
          23.518,
          15.9748,
          21.8188,
          68.2843,
          26.1847,
          138.9083,
          26.2439,
          24.9404,
          91.8077,
          25.1411,
          112.1442,
          61.9109,
          23.3848,
          21.987,
          63.7304,
          22.451,
          25.417,
          68.927,
          20.2937,
          24.5622,
          25.2589,
          81.6504,
          11809.14189999999,
          420.0164999999999,
          37.927099999999996,
          108.0218,
          120.3296,
          20.5835,
          22.1243,
          67.26769999999999,
          44.644400000000005,
          111.4887,
          43.3023,
          339.9467,
          155.33419999999998,
          22.6419,
          115.90010000000001,
          82.9248,
          98.5892,
          21.5567,
          24.2421,
          14.863,
          24.8486,
          2849.732800000001,
          21.8868,
          23.477,
          14.8007,
          22.9254,
          23.7902,
          19.2511,
          322.7063,
          21.7964,
          117.82379999999999,
          64.7952,
          585.1110000000002,
          75.14959999999999,
          89.7817,
          47.8303,
          2061.4983,
          19.2356,
          125.22399999999999,
          612.2163,
          49.1725,
          77.38059999999999,
          19.04,
          24.6735,
          57.1643,
          22.3251,
          112.7841,
          63.9437,
          42.6932,
          16.0091,
          102.33890000000002,
          23.1713,
          3975.1159,
          47.241,
          22.6305,
          92.2099,
          22.2714,
          244.70019999999997,
          41.3566,
          251.39019999999996,
          22.1951,
          22.3232,
          21.806,
          21.4368,
          2001.6708999999998,
          22.6996,
          24.4373,
          22.1318,
          96.36160000000001,
          113.4892,
          21.9828,
          20.555,
          26.2135,
          22.3431,
          38.697500000000005,
          20.432,
          198.1054,
          380.6974,
          22.8592,
          68.2829,
          45.3681,
          22.3722,
          22.5349,
          16.6928,
          25.1347,
          66.2187,
          45.1505,
          21.8496,
          43.3993,
          23.6437,
          44.3425,
          22.3381,
          18.9369,
          90.2578,
          23.5143,
          24.5045,
          24.1952,
          115.07659999999998,
          321.97560000000004,
          258.1233,
          35.0768,
          16.3555,
          485.0257000000001,
          114.55409999999999,
          18.1088,
          517.9801,
          22.4617,
          89.04129999999999,
          23.0281,
          45.414500000000004,
          6278.1992999999975,
          23.4825,
          23.192,
          21.0199,
          23.8308,
          23.3594,
          67.94919999999999,
          91.75509999999998,
          22.7674,
          21.3931,
          20.1433,
          41.4564,
          17.7322,
          44.812799999999996,
          16.9401,
          15.8142,
          57.0713,
          19.1808,
          37.5848,
          152.3705,
          84.7901,
          22.4035,
          15.6063,
          115.36839999999998,
          18.0948,
          15.3653,
          22.1399,
          22.703,
          44.4795,
          139.6488,
          23.7763,
          21680.301500000038,
          548.7631000000001,
          24.3945,
          20.6109,
          43.8661,
          68.4986,
          19.1808,
          247.62460000000002,
          22.8554,
          22.8936,
          21.9645,
          23.6612,
          21.6287,
          23.9947,
          134.6798,
          66.5192,
          44.3425,
          22.2169,
          20.9964,
          23.7521,
          22.7074,
          22.4461,
          67.94919999999999,
          114.1561,
          70.5099,
          22.1917,
          21.8879,
          24.037,
          45.3861,
          21.1899,
          21.8477,
          17.1996,
          289.58140000000003,
          311.4433,
          22.4617,
          21.9518,
          21.6415,
          22.3232,
          84.7901,
          65.518,
          22.1399,
          102.6068,
          66.06,
          17.916,
          24.6573,
          45.3681,
          45.414500000000004,
          136.7878,
          16.8736,
          140.9206,
          22.2687,
          22.3381,
          23.0486,
          26.1714,
          22.1951,
          2310.2659000000003,
          18.9107,
          23.8308,
          22.3722,
          21.3957,
          14.6533,
          206.4327,
          23.3745,
          15.6063,
          38.5462,
          24.0919,
          41.391000000000005,
          22.5349,
          24.0215,
          115.36839999999998,
          18.2505,
          14.3091,
          18.0948,
          86.34450000000001,
          325.4527,
          1029.3162999999997,
          49.6302,
          24.2188,
          13.9237,
          159.1565,
          18.1088,
          36.6008,
          210.91570000000004,
          24.5107,
          23.4825,
          212.8487,
          21.8926,
          46.583600000000004,
          485.0257000000001,
          3193.435800000001,
          158.41250000000002,
          16.3555,
          23.216,
          136.41799999999998,
          448.0706,
          39.1152,
          23.2069,
          22.0397,
          20.2898,
          18.1731,
          321.97560000000004,
          631.4692999999999,
          43.2132,
          22.797,
          22.401,
          23.216,
          56.479,
          501.56900000000013,
          74.01050000000001,
          23.2502,
          2126.3505999999993,
          23.0129,
          269.3482,
          35.5952,
          85.76510000000002,
          55.7891,
          23.2043,
          21.3497,
          67.7898,
          43.124300000000005,
          114.91570000000002,
          19.457,
          1294.6694000000002,
          25.8966,
          19.457,
          23.6437,
          23.5185,
          1369.2186000000008,
          16.6928,
          26.0749,
          137.078,
          38.8769,
          37.361000000000004,
          20.633,
          22.1234,
          22.9927,
          24.5172,
          26.209,
          15.2193,
          22.021,
          20.4765,
          17.1996,
          136.517,
          34.0425,
          24.5415,
          115.2852,
          44.034099999999995,
          25.1347,
          46.7457,
          21.8477,
          24.1952,
          18.3049,
          1242.4001999999998,
          110.96069999999999,
          22.6457,
          46.209,
          183.8073,
          21.806,
          77.473,
          22.9947,
          21.9416,
          927.0172000000001,
          833.6087,
          45.2729,
          383.0414,
          23.518,
          26.4648,
          84.7901,
          17.5937,
          22.7212,
          25.2589,
          24.8495,
          190.3906,
          116.05049999999999,
          68.3081,
          42.4238,
          23.3897,
          21.7336,
          38.879400000000004,
          22.722,
          21.9416,
          24.5107,
          17.7064,
          190.6019,
          289.08630000000005,
          19.5999,
          45.8814,
          21.7568,
          2024.2805999999998,
          22.8672,
          43.5934,
          226.02539999999996,
          22.407,
          24.4062,
          22.4193,
          22.0869,
          21.707,
          20.9426,
          20.461,
          181.044,
          26.1181,
          35.4561,
          22.1042,
          94.91140000000001,
          22.1433,
          1135.4388999999999,
          22.3722,
          1147.8531999999998,
          18.6506,
          27.1738,
          151.60270000000003,
          18.3633,
          21.928,
          12798.150200000002,
          523.2332999999999,
          21.8978,
          48.748000000000005,
          6854.080400000002,
          22.4769,
          21.609,
          20.8846,
          45.4491,
          69.726,
          40.173,
          22.395,
          164.8496,
          43.9108,
          1023.2907,
          221.9021,
          2126.3505999999993,
          20.268,
          321.97560000000004,
          833.6087,
          23.3033,
          25.4032,
          22.1318,
          25.5664,
          190.28520000000003,
          23.5793,
          476.50870000000003,
          43.2482,
          156.7502,
          22.7677,
          94.5419,
          21.8875,
          22.2687,
          18.9107,
          23.3033,
          46.762299999999996,
          47.705799999999996,
          24.4373,
          21.3065,
          22.6996,
          274.70079999999996,
          45.1505,
          21.707,
          22.0404,
          21.3497,
          134.6798,
          37.3056,
          22.8936,
          21.6238,
          2548.3336,
          18.7543,
          138.9083,
          19.6577,
          20.926,
          21.6415,
          66.249,
          23.8543,
          473.45869999999996,
          45.2962,
          41.5219,
          21.8635,
          23.8308,
          22.4046,
          47.218999999999994,
          23.3463,
          22.4769,
          65.518,
          19.3254,
          61.3176,
          158.4758,
          22.9069,
          19.3346,
          85.4361,
          77.1861,
          37.6744,
          20.0312,
          25.2589,
          43.1298,
          16.4738,
          1872.0960000000002,
          22.0796,
          37.5848,
          22.205,
          18.9143,
          48.3133,
          655.6728000000003,
          68.927,
          94.91140000000001,
          23.5793,
          22.7749,
          49.830600000000004,
          19724.233900000003,
          21.8736,
          61.9109,
          21.5197,
          118.9763,
          25.3722,
          157.4557,
          16.4519,
          20.053,
          25.3751,
          43.1298,
          25.3722,
          100.1815,
          18.9107,
          18.2243,
          116.6388,
          23.2502,
          14.484,
          21.8635,
          20.8248,
          172.35500000000002,
          24.3742,
          28.6877,
          1610.9906999999998,
          46.8793,
          22.4969,
          200.64780000000002,
          23.1482,
          18.0839,
          46.9944,
          31.568199999999997,
          67.93169999999999,
          85.4319,
          115.22730000000001,
          17.718,
          16.4738,
          21.269,
          61.1429,
          26.4648,
          24.7565,
          23.0842,
          21.5197,
          112.8739,
          49.8674,
          45.283500000000004,
          15.8142,
          44.0349,
          21.7078,
          28.2484,
          21.0743,
          26.0514,
          18.2097,
          17.3913,
          202.9054,
          15.2941,
          45.3681,
          160.5263,
          23.8543,
          25.4232,
          19.7426,
          75.25580000000001,
          197.6978,
          21.8978,
          23.6445,
          24.0057,
          24.679,
          111.6958,
          23.3033,
          22.3873,
          49.865899999999996,
          23.7317,
          25.6553,
          4979.652199999998,
          303.10169999999994,
          68.1422,
          31.568199999999997,
          22.4991,
          21.6119,
          43.9949,
          23.8172,
          48.3632,
          24.1037,
          24.0919,
          21.707,
          29093.997900000028,
          182.41680000000002,
          22.9964,
          17662.735600000018,
          20.9012,
          24.981,
          25.5538,
          66.464,
          5019.367799999998,
          87.88910000000001,
          2767.660100000002,
          26.1714,
          326.2404,
          495.9561999999999,
          22.0734,
          28.6877,
          20.6401,
          20.3142,
          20.3744,
          44.4309,
          25.0735,
          31.274500000000003,
          62.29650000000001,
          18.2097,
          25.6553,
          23.2448,
          20.976,
          15.2515,
          3594.9811999999997,
          23.9947,
          13.4518,
          70.4893,
          91.05790000000002,
          26.4776,
          24.3349,
          41.692099999999996,
          15586.821200000022,
          20.9218,
          13.8036,
          23.2867,
          222.49749999999997,
          22.5118,
          180.5611,
          23.2867,
          25.4032,
          113.1162,
          21.3488,
          199.4035,
          41.4564,
          21.774,
          38.5462,
          45.2986,
          20.2898,
          27.1738,
          169.3819,
          21.806,
          21.4027,
          43.4086,
          22.9947,
          67.53880000000001,
          16.8029,
          56.6449,
          3873.2334999999994,
          15.7024,
          16.0124,
          24.5172,
          27.3612,
          39.8699,
          17.4014,
          20.8643,
          143.9976,
          187.09859999999998,
          23.3805,
          16.4414,
          35.6219,
          90.34,
          18.0948,
          55.626,
          48.1417,
          21.269,
          19.3346,
          25.0609,
          22.4461,
          18.0839,
          25.5975,
          168.96329999999998,
          60.248900000000006,
          424.20279999999997,
          45.545500000000004,
          120.0738,
          115.90010000000001,
          173.28060000000002,
          19.5999,
          23.4272,
          21.6653,
          68.2843,
          22916.891799999976,
          18.5848,
          67.3562,
          16.212,
          21.7636,
          21.609,
          73.31209999999999,
          23.3517,
          28.0222,
          116.2875,
          298.5046,
          24.1595,
          97.57690000000001,
          23.5143,
          20.9813,
          22.5809,
          59.42100000000001,
          24.2166,
          21.7838,
          86.9984,
          14.863,
          67.3562,
          17.112,
          41.692099999999996,
          22.722,
          22.6674,
          92.86420000000001,
          24.4062,
          69.1231,
          14.8519,
          501.0977,
          38.8769,
          171.97340000000003,
          37.381299999999996,
          18.8602,
          23.2716,
          24.5415,
          20.0495,
          425.8657999999999,
          18.3957,
          43.0131,
          27.1522,
          44.4917,
          92.0298,
          22.2321,
          21.5197,
          37.34,
          38.151700000000005,
          21.2439,
          20.926,
          26.0382,
          847.2076999999997,
          149.5549,
          22.3358,
          513.0144,
          24.28,
          21.0698,
          21.5411,
          15.5532,
          96.6241,
          43.835,
          294.7241,
          22.0688,
          277.09479999999996,
          7338.011099999998,
          22.6674,
          811.9005,
          25.1584,
          22.9927,
          23.2935,
          118.29679999999999,
          20.8681,
          44.091300000000004,
          39.9801,
          22.451,
          19.7426,
          21.4878,
          25.417,
          3008.3041000000003,
          17.7361,
          20.0425,
          7648.836199999998,
          17.9648,
          22.4991,
          14.3091,
          44.6704,
          115.3683,
          61.3176,
          39.170100000000005,
          22.9258,
          57.609,
          93.8107,
          42.1612,
          24.4417,
          15.3653,
          19.6577,
          25.6189,
          69.21549999999999,
          22.722,
          221.83780000000002,
          43.292699999999996,
          24.2421,
          47.0385,
          19.3219,
          23.1348,
          25.6189,
          22.395,
          24.2188,
          18.2243,
          178.9783,
          22.8554,
          16.3406,
          68.4986,
          22.4035,
          20.8248,
          86.41929999999999,
          22.0796,
          22.2169,
          21.9518,
          102.5692,
          21.9518,
          65.70870000000001,
          44.7625,
          25.5031,
          20.8643,
          22.0869,
          46.3859,
          23.3368,
          20.8331,
          21.8926,
          47.8797,
          24.981,
          43.9108,
          63.684099999999994,
          19.1178,
          115.61350000000002,
          397.252,
          73.1029,
          88.7885,
          39.286100000000005,
          20.1826,
          74.01050000000001,
          20.9263,
          224.90640000000002,
          16.4519,
          20.1826,
          21.8477,
          23.8449,
          20.7611,
          48.660399999999996,
          41.5219,
          69.1231,
          27.1216,
          25.1584,
          22.703,
          91.3278,
          115.3683,
          23.2043,
          27.3612,
          1648.9665,
          26.2929,
          23.1348,
          21.9601,
          24.3041,
          23.1583,
          19.1531,
          139.7145,
          42.3534,
          113.8125,
          20.633,
          52.8296,
          155.0675,
          23.1583,
          25.8755,
          70.4893,
          21.3854,
          18.5525,
          1872.0960000000002,
          23.3483,
          63.756,
          48.3133,
          1775.3937000000003,
          21.0698,
          45.6636,
          17.7322,
          3655.321400000002,
          22.1917,
          24.8973,
          68.7753,
          22.0363,
          41.2573,
          43.4677,
          1429.8308000000002,
          28.1723,
          145.48630000000003,
          20.9964,
          19.0739,
          45.283500000000004,
          24.3742,
          48.1417,
          1951.0356000000002,
          13.9879,
          36.9428,
          13.5783,
          45.163,
          21.3854,
          412.37320000000005,
          177.5529,
          23.4044,
          21.0707,
          24.3349,
          28.0222,
          115.4332,
          25.0735,
          113.9208,
          521.1734999999999,
          48.116600000000005,
          233.96640000000002,
          22.2507,
          24.4417,
          1407.5594,
          23.3463,
          23.4744,
          44.5696,
          25.807,
          25.3895,
          304.97339999999997,
          23.1583,
          84.2179,
          23.7784,
          26.4776,
          413.4360999999999,
          44.6029,
          40.7134,
          22.3974,
          49.6302,
          41.692099999999996,
          20.0666,
          20.9012,
          24.0215,
          13.9879,
          168.8119,
          19.7426,
          22.1911,
          61.25020000000001,
          22.6381,
          25.4232,
          21.6119,
          15.9898,
          91.8077,
          44.9912,
          53336.530900000136,
          23.6612,
          20.0666,
          424.20279999999997,
          255.84340000000003,
          21.1591,
          18.7727,
          14.6533,
          33.525099999999995,
          49.865899999999996,
          67.0953,
          21.5816,
          212.8487,
          14.3091,
          16.212,
          16.3406,
          45.3861
         ]
        }
       ],
       "layout": {
        "legend": {
         "tracegroupgap": 0
        },
        "margin": {
         "t": 60
        },
        "template": {
         "data": {
          "bar": [
           {
            "error_x": {
             "color": "#2a3f5f"
            },
            "error_y": {
             "color": "#2a3f5f"
            },
            "marker": {
             "line": {
              "color": "#E5ECF6",
              "width": 0.5
             }
            },
            "type": "bar"
           }
          ],
          "barpolar": [
           {
            "marker": {
             "line": {
              "color": "#E5ECF6",
              "width": 0.5
             }
            },
            "type": "barpolar"
           }
          ],
          "carpet": [
           {
            "aaxis": {
             "endlinecolor": "#2a3f5f",
             "gridcolor": "white",
             "linecolor": "white",
             "minorgridcolor": "white",
             "startlinecolor": "#2a3f5f"
            },
            "baxis": {
             "endlinecolor": "#2a3f5f",
             "gridcolor": "white",
             "linecolor": "white",
             "minorgridcolor": "white",
             "startlinecolor": "#2a3f5f"
            },
            "type": "carpet"
           }
          ],
          "choropleth": [
           {
            "colorbar": {
             "outlinewidth": 0,
             "ticks": ""
            },
            "type": "choropleth"
           }
          ],
          "contour": [
           {
            "colorbar": {
             "outlinewidth": 0,
             "ticks": ""
            },
            "colorscale": [
             [
              0,
              "#0d0887"
             ],
             [
              0.1111111111111111,
              "#46039f"
             ],
             [
              0.2222222222222222,
              "#7201a8"
             ],
             [
              0.3333333333333333,
              "#9c179e"
             ],
             [
              0.4444444444444444,
              "#bd3786"
             ],
             [
              0.5555555555555556,
              "#d8576b"
             ],
             [
              0.6666666666666666,
              "#ed7953"
             ],
             [
              0.7777777777777778,
              "#fb9f3a"
             ],
             [
              0.8888888888888888,
              "#fdca26"
             ],
             [
              1,
              "#f0f921"
             ]
            ],
            "type": "contour"
           }
          ],
          "contourcarpet": [
           {
            "colorbar": {
             "outlinewidth": 0,
             "ticks": ""
            },
            "type": "contourcarpet"
           }
          ],
          "heatmap": [
           {
            "colorbar": {
             "outlinewidth": 0,
             "ticks": ""
            },
            "colorscale": [
             [
              0,
              "#0d0887"
             ],
             [
              0.1111111111111111,
              "#46039f"
             ],
             [
              0.2222222222222222,
              "#7201a8"
             ],
             [
              0.3333333333333333,
              "#9c179e"
             ],
             [
              0.4444444444444444,
              "#bd3786"
             ],
             [
              0.5555555555555556,
              "#d8576b"
             ],
             [
              0.6666666666666666,
              "#ed7953"
             ],
             [
              0.7777777777777778,
              "#fb9f3a"
             ],
             [
              0.8888888888888888,
              "#fdca26"
             ],
             [
              1,
              "#f0f921"
             ]
            ],
            "type": "heatmap"
           }
          ],
          "heatmapgl": [
           {
            "colorbar": {
             "outlinewidth": 0,
             "ticks": ""
            },
            "colorscale": [
             [
              0,
              "#0d0887"
             ],
             [
              0.1111111111111111,
              "#46039f"
             ],
             [
              0.2222222222222222,
              "#7201a8"
             ],
             [
              0.3333333333333333,
              "#9c179e"
             ],
             [
              0.4444444444444444,
              "#bd3786"
             ],
             [
              0.5555555555555556,
              "#d8576b"
             ],
             [
              0.6666666666666666,
              "#ed7953"
             ],
             [
              0.7777777777777778,
              "#fb9f3a"
             ],
             [
              0.8888888888888888,
              "#fdca26"
             ],
             [
              1,
              "#f0f921"
             ]
            ],
            "type": "heatmapgl"
           }
          ],
          "histogram": [
           {
            "marker": {
             "colorbar": {
              "outlinewidth": 0,
              "ticks": ""
             }
            },
            "type": "histogram"
           }
          ],
          "histogram2d": [
           {
            "colorbar": {
             "outlinewidth": 0,
             "ticks": ""
            },
            "colorscale": [
             [
              0,
              "#0d0887"
             ],
             [
              0.1111111111111111,
              "#46039f"
             ],
             [
              0.2222222222222222,
              "#7201a8"
             ],
             [
              0.3333333333333333,
              "#9c179e"
             ],
             [
              0.4444444444444444,
              "#bd3786"
             ],
             [
              0.5555555555555556,
              "#d8576b"
             ],
             [
              0.6666666666666666,
              "#ed7953"
             ],
             [
              0.7777777777777778,
              "#fb9f3a"
             ],
             [
              0.8888888888888888,
              "#fdca26"
             ],
             [
              1,
              "#f0f921"
             ]
            ],
            "type": "histogram2d"
           }
          ],
          "histogram2dcontour": [
           {
            "colorbar": {
             "outlinewidth": 0,
             "ticks": ""
            },
            "colorscale": [
             [
              0,
              "#0d0887"
             ],
             [
              0.1111111111111111,
              "#46039f"
             ],
             [
              0.2222222222222222,
              "#7201a8"
             ],
             [
              0.3333333333333333,
              "#9c179e"
             ],
             [
              0.4444444444444444,
              "#bd3786"
             ],
             [
              0.5555555555555556,
              "#d8576b"
             ],
             [
              0.6666666666666666,
              "#ed7953"
             ],
             [
              0.7777777777777778,
              "#fb9f3a"
             ],
             [
              0.8888888888888888,
              "#fdca26"
             ],
             [
              1,
              "#f0f921"
             ]
            ],
            "type": "histogram2dcontour"
           }
          ],
          "mesh3d": [
           {
            "colorbar": {
             "outlinewidth": 0,
             "ticks": ""
            },
            "type": "mesh3d"
           }
          ],
          "parcoords": [
           {
            "line": {
             "colorbar": {
              "outlinewidth": 0,
              "ticks": ""
             }
            },
            "type": "parcoords"
           }
          ],
          "pie": [
           {
            "automargin": true,
            "type": "pie"
           }
          ],
          "scatter": [
           {
            "marker": {
             "colorbar": {
              "outlinewidth": 0,
              "ticks": ""
             }
            },
            "type": "scatter"
           }
          ],
          "scatter3d": [
           {
            "line": {
             "colorbar": {
              "outlinewidth": 0,
              "ticks": ""
             }
            },
            "marker": {
             "colorbar": {
              "outlinewidth": 0,
              "ticks": ""
             }
            },
            "type": "scatter3d"
           }
          ],
          "scattercarpet": [
           {
            "marker": {
             "colorbar": {
              "outlinewidth": 0,
              "ticks": ""
             }
            },
            "type": "scattercarpet"
           }
          ],
          "scattergeo": [
           {
            "marker": {
             "colorbar": {
              "outlinewidth": 0,
              "ticks": ""
             }
            },
            "type": "scattergeo"
           }
          ],
          "scattergl": [
           {
            "marker": {
             "colorbar": {
              "outlinewidth": 0,
              "ticks": ""
             }
            },
            "type": "scattergl"
           }
          ],
          "scattermapbox": [
           {
            "marker": {
             "colorbar": {
              "outlinewidth": 0,
              "ticks": ""
             }
            },
            "type": "scattermapbox"
           }
          ],
          "scatterpolar": [
           {
            "marker": {
             "colorbar": {
              "outlinewidth": 0,
              "ticks": ""
             }
            },
            "type": "scatterpolar"
           }
          ],
          "scatterpolargl": [
           {
            "marker": {
             "colorbar": {
              "outlinewidth": 0,
              "ticks": ""
             }
            },
            "type": "scatterpolargl"
           }
          ],
          "scatterternary": [
           {
            "marker": {
             "colorbar": {
              "outlinewidth": 0,
              "ticks": ""
             }
            },
            "type": "scatterternary"
           }
          ],
          "surface": [
           {
            "colorbar": {
             "outlinewidth": 0,
             "ticks": ""
            },
            "colorscale": [
             [
              0,
              "#0d0887"
             ],
             [
              0.1111111111111111,
              "#46039f"
             ],
             [
              0.2222222222222222,
              "#7201a8"
             ],
             [
              0.3333333333333333,
              "#9c179e"
             ],
             [
              0.4444444444444444,
              "#bd3786"
             ],
             [
              0.5555555555555556,
              "#d8576b"
             ],
             [
              0.6666666666666666,
              "#ed7953"
             ],
             [
              0.7777777777777778,
              "#fb9f3a"
             ],
             [
              0.8888888888888888,
              "#fdca26"
             ],
             [
              1,
              "#f0f921"
             ]
            ],
            "type": "surface"
           }
          ],
          "table": [
           {
            "cells": {
             "fill": {
              "color": "#EBF0F8"
             },
             "line": {
              "color": "white"
             }
            },
            "header": {
             "fill": {
              "color": "#C8D4E3"
             },
             "line": {
              "color": "white"
             }
            },
            "type": "table"
           }
          ]
         },
         "layout": {
          "annotationdefaults": {
           "arrowcolor": "#2a3f5f",
           "arrowhead": 0,
           "arrowwidth": 1
          },
          "autotypenumbers": "strict",
          "coloraxis": {
           "colorbar": {
            "outlinewidth": 0,
            "ticks": ""
           }
          },
          "colorscale": {
           "diverging": [
            [
             0,
             "#8e0152"
            ],
            [
             0.1,
             "#c51b7d"
            ],
            [
             0.2,
             "#de77ae"
            ],
            [
             0.3,
             "#f1b6da"
            ],
            [
             0.4,
             "#fde0ef"
            ],
            [
             0.5,
             "#f7f7f7"
            ],
            [
             0.6,
             "#e6f5d0"
            ],
            [
             0.7,
             "#b8e186"
            ],
            [
             0.8,
             "#7fbc41"
            ],
            [
             0.9,
             "#4d9221"
            ],
            [
             1,
             "#276419"
            ]
           ],
           "sequential": [
            [
             0,
             "#0d0887"
            ],
            [
             0.1111111111111111,
             "#46039f"
            ],
            [
             0.2222222222222222,
             "#7201a8"
            ],
            [
             0.3333333333333333,
             "#9c179e"
            ],
            [
             0.4444444444444444,
             "#bd3786"
            ],
            [
             0.5555555555555556,
             "#d8576b"
            ],
            [
             0.6666666666666666,
             "#ed7953"
            ],
            [
             0.7777777777777778,
             "#fb9f3a"
            ],
            [
             0.8888888888888888,
             "#fdca26"
            ],
            [
             1,
             "#f0f921"
            ]
           ],
           "sequentialminus": [
            [
             0,
             "#0d0887"
            ],
            [
             0.1111111111111111,
             "#46039f"
            ],
            [
             0.2222222222222222,
             "#7201a8"
            ],
            [
             0.3333333333333333,
             "#9c179e"
            ],
            [
             0.4444444444444444,
             "#bd3786"
            ],
            [
             0.5555555555555556,
             "#d8576b"
            ],
            [
             0.6666666666666666,
             "#ed7953"
            ],
            [
             0.7777777777777778,
             "#fb9f3a"
            ],
            [
             0.8888888888888888,
             "#fdca26"
            ],
            [
             1,
             "#f0f921"
            ]
           ]
          },
          "colorway": [
           "#636efa",
           "#EF553B",
           "#00cc96",
           "#ab63fa",
           "#FFA15A",
           "#19d3f3",
           "#FF6692",
           "#B6E880",
           "#FF97FF",
           "#FECB52"
          ],
          "font": {
           "color": "#2a3f5f"
          },
          "geo": {
           "bgcolor": "white",
           "lakecolor": "white",
           "landcolor": "#E5ECF6",
           "showlakes": true,
           "showland": true,
           "subunitcolor": "white"
          },
          "hoverlabel": {
           "align": "left"
          },
          "hovermode": "closest",
          "mapbox": {
           "style": "light"
          },
          "paper_bgcolor": "white",
          "plot_bgcolor": "#E5ECF6",
          "polar": {
           "angularaxis": {
            "gridcolor": "white",
            "linecolor": "white",
            "ticks": ""
           },
           "bgcolor": "#E5ECF6",
           "radialaxis": {
            "gridcolor": "white",
            "linecolor": "white",
            "ticks": ""
           }
          },
          "scene": {
           "xaxis": {
            "backgroundcolor": "#E5ECF6",
            "gridcolor": "white",
            "gridwidth": 2,
            "linecolor": "white",
            "showbackground": true,
            "ticks": "",
            "zerolinecolor": "white"
           },
           "yaxis": {
            "backgroundcolor": "#E5ECF6",
            "gridcolor": "white",
            "gridwidth": 2,
            "linecolor": "white",
            "showbackground": true,
            "ticks": "",
            "zerolinecolor": "white"
           },
           "zaxis": {
            "backgroundcolor": "#E5ECF6",
            "gridcolor": "white",
            "gridwidth": 2,
            "linecolor": "white",
            "showbackground": true,
            "ticks": "",
            "zerolinecolor": "white"
           }
          },
          "shapedefaults": {
           "line": {
            "color": "#2a3f5f"
           }
          },
          "ternary": {
           "aaxis": {
            "gridcolor": "white",
            "linecolor": "white",
            "ticks": ""
           },
           "baxis": {
            "gridcolor": "white",
            "linecolor": "white",
            "ticks": ""
           },
           "bgcolor": "#E5ECF6",
           "caxis": {
            "gridcolor": "white",
            "linecolor": "white",
            "ticks": ""
           }
          },
          "title": {
           "x": 0.05
          },
          "xaxis": {
           "automargin": true,
           "gridcolor": "white",
           "linecolor": "white",
           "ticks": "",
           "title": {
            "standoff": 15
           },
           "zerolinecolor": "white",
           "zerolinewidth": 2
          },
          "yaxis": {
           "automargin": true,
           "gridcolor": "white",
           "linecolor": "white",
           "ticks": "",
           "title": {
            "standoff": 15
           },
           "zerolinecolor": "white",
           "zerolinewidth": 2
          }
         }
        }
       }
      },
      "text/html": [
       "<div>                            <div id=\"efaba910-e029-48b1-943b-b3a1387cf9c3\" class=\"plotly-graph-div\" style=\"height:525px; width:100%;\"></div>            <script type=\"text/javascript\">                require([\"plotly\"], function(Plotly) {                    window.PLOTLYENV=window.PLOTLYENV || {};                                    if (document.getElementById(\"efaba910-e029-48b1-943b-b3a1387cf9c3\")) {                    Plotly.newPlot(                        \"efaba910-e029-48b1-943b-b3a1387cf9c3\",                        [{\"branchvalues\": \"total\", \"customdata\": [[\"(?)\"], [\"Public Worker\"], [\"Politician\"], [\"Businessperson\"], [\"Physicist\"], [\"Lawyer\"], [\"Wrestler\"], [\"Painter\"], [\"Presenter\"], [\"Physicist\"], [\"Military Personnel\"], [\"Businessperson\"], [\"Presenter\"], [\"Economist\"], [\"Musician\"], [\"Explorer\"], [\"Economist\"], [\"Religious Figure\"], [\"Politician\"], [\"Singer\"], [\"Chemist\"], [\"Philosopher\"], [\"Singer\"], [\"Social Activist\"], [\"Astronomer\"], [\"Soccer Player\"], [\"Military Personnel\"], [\"Comedian\"], [\"Singer\"], [\"Writer\"], [\"Lawyer\"], [\"Writer\"], [\"Sociologist\"], [\"Military Personnel\"], [\"Companion\"], [\"Writer\"], [\"Writer\"], [\"Chemist\"], [\"Actor\"], [\"Wrestler\"], [\"Physician\"], [\"Politician\"], [\"Inventor\"], [\"(?)\"], [\"Politician\"], [\"Musician\"], [\"Tennis Player\"], [\"Businessperson\"], [\"Mathematician\"], [\"Politician\"], [\"Athlete\"], [\"Businessperson\"], [\"Athlete\"], [\"(?)\"], [\"Politician\"], [\"Writer\"], [\"Physician\"], [\"Basketball Player\"], [\"Painter\"], [\"Political Scientist\"], [\"Economist\"], [\"Politician\"], [\"Basketball Player\"], [\"Actor\"], [\"Presenter\"], [\"Actor\"], [\"Companion\"], [\"Actor\"], [\"Composer\"], [\"Philosopher\"], [\"Basketball Player\"], [\"Wrestler\"], [\"Chemist\"], [\"Athlete\"], [\"Magician\"], [\"Mafioso\"], [\"Politician\"], [\"Wrestler\"], [\"Game Designer\"], [\"Actor\"], [\"Presenter\"], [\"Social Activist\"], [\"Historian\"], [\"(?)\"], [\"Biologist\"], [\"Judge\"], [\"Model\"], [\"Psychologist\"], [\"Singer\"], [\"Architect\"], [\"Writer\"], [\"Economist\"], [\"Social Activist\"], [\"Chemist\"], [\"Tennis Player\"], [\"Psychologist\"], [\"Film Director\"], [\"Politician\"], [\"Singer\"], [\"Skier\"], [\"Religious Figure\"], [\"Religious Figure\"], [\"Military Personnel\"], [\"Physicist\"], [\"Explorer\"], [\"Game Designer\"], [\"Pilot\"], [\"Celebrity\"], [\"(?)\"], [\"Actor\"], [\"Physicist\"], [\"Musician\"], [\"Businessperson\"], [\"Musician\"], [\"Businessperson\"], [\"Politician\"], [\"Inventor\"], [\"Singer\"], [\"Composer\"], [\"Social Activist\"], [\"Politician\"], [\"Model\"], [\"Writer\"], [\"Military Personnel\"], [\"Economist\"], [\"Singer\"], [\"Snooker\"], [\"Politician\"], [\"Engineer\"], [\"Painter\"], [\"Comic Artist\"], [\"Physicist\"], [\"Military Personnel\"], [\"Military Personnel\"], [\"Swimmer\"], [\"Businessperson\"], [\"Actor\"], [\"Extremist\"], [\"(?)\"], [\"Pornographic Actor\"], [\"Companion\"], [\"Film Director\"], [\"Politician\"], [\"Racecar Driver\"], [\"Nobleman\"], [\"Businessperson\"], [\"Judge\"], [\"Celebrity\"], [\"Writer\"], [\"Athlete\"], [\"(?)\"], [\"Actor\"], [\"Architect\"], [\"(?)\"], [\"Writer\"], [\"(?)\"], [\"Politician\"], [\"Musician\"], [\"Sociologist\"], [\"Psychologist\"], [\"Architect\"], [\"Politician\"], [\"Writer\"], [\"Basketball Player\"], [\"Astronomer\"], [\"Economist\"], [\"(?)\"], [\"Actor\"], [\"Inventor\"], [\"Singer\"], [\"Cyclist\"], [\"Explorer\"], [\"Companion\"], [\"Architect\"], [\"Dancer\"], [\"(?)\"], [\"Tennis Player\"], [\"Politician\"], [\"American Football Player\"], [\"Political Scientist\"], [\"Physician\"], [\"Composer\"], [\"Writer\"], [\"Astronaut\"], [\"Chessmaster\"], [\"Tennis Player\"], [\"(?)\"], [\"Companion\"], [\"Basketball Player\"], [\"Physicist\"], [\"Astronomer\"], [\"Politician\"], [\"Archaeologist\"], [\"Politician\"], [\"Presenter\"], [\"Computer Scientist\"], [\"Actor\"], [\"Writer\"], [\"Producer\"], [\"Politician\"], [\"Political Scientist\"], [\"Astronaut\"], [\"(?)\"], [\"(?)\"], [\"Singer\"], [\"Chemist\"], [\"Mafioso\"], [\"Lawyer\"], [\"Tennis Player\"], [\"Artist\"], [\"Chemist\"], [\"Soccer Player\"], [\"Fashion Designer\"], [\"Photographer\"], [\"Photographer\"], [\"Chemist\"], [\"Computer Scientist\"], [\"Businessperson\"], [\"Boxer\"], [\"Astronomer\"], [\"Musician\"], [\"(?)\"], [\"Physicist\"], [\"Philosopher\"], [\"Politician\"], [\"Actor\"], [\"Physicist\"], [\"Wrestler\"], [\"Actor\"], [\"(?)\"], [\"Wrestler\"], [\"Chemist\"], [\"Judge\"], [\"Social Activist\"], [\"Actor\"], [\"Singer\"], [\"Chemist\"], [\"Physician\"], [\"Businessperson\"], [\"Businessperson\"], [\"Astronaut\"], [\"Companion\"], [\"Singer\"], [\"Composer\"], [\"Actor\"], [\"Snooker\"], [\"(?)\"], [\"Pilot\"], [\"Religious Figure\"], [\"Businessperson\"], [\"Archaeologist\"], [\"Computer Scientist\"], [\"Musician\"], [\"Mathematician\"], [\"Economist\"], [\"Skier\"], [\"Actor\"], [\"Singer\"], [\"Computer Scientist\"], [\"Physician\"], [\"Artist\"], [\"Actor\"], [\"Film Director\"], [\"Wrestler\"], [\"Astronomer\"], [\"Businessperson\"], [\"Singer\"], [\"Actor\"], [\"Writer\"], [\"Presenter\"], [\"Musician\"], [\"Skier\"], [\"(?)\"], [\"Writer\"], [\"Writer\"], [\"Writer\"], [\"Economist\"], [\"Writer\"], [\"Politician\"], [\"Actor\"], [\"Politician\"], [\"Religious Figure\"], [\"Dancer\"], [\"Hockey Player\"], [\"Actor\"], [\"Computer Scientist\"], [\"Tennis Player\"], [\"Politician\"], [\"Actor\"], [\"Military Personnel\"], [\"Religious Figure\"], [\"Comedian\"], [\"Presenter\"], [\"Astronomer\"], [\"Coach\"], [\"Comic Artist\"], [\"Composer\"], [\"Politician\"], [\"Inventor\"], [\"Businessperson\"], [\"Economist\"], [\"(?)\"], [\"Soccer Player\"], [\"Economist\"], [\"Actor\"], [\"Inventor\"], [\"Soccer Player\"], [\"Basketball Player\"], [\"Actor\"], [\"(?)\"], [\"Computer Scientist\"], [\"Psychologist\"], [\"Basketball Player\"], [\"Companion\"], [\"Politician\"], [\"Astronomer\"], [\"Astronaut\"], [\"Military Personnel\"], [\"Writer\"], [\"Wrestler\"], [\"Singer\"], [\"Actor\"], [\"Fashion Designer\"], [\"Basketball Player\"], [\"Painter\"], [\"Tennis Player\"], [\"Musician\"], [\"Physicist\"], [\"Physicist\"], [\"Physicist\"], [\"Politician\"], [\"Film Director\"], [\"Composer\"], [\"Tennis Player\"], [\"Biologist\"], [\"Musician\"], [\"Politician\"], [\"Social Activist\"], [\"Explorer\"], [\"Politician\"], [\"Physician\"], [\"Actor\"], [\"Companion\"], [\"Biologist\"], [\"Swimmer\"], [\"Musician\"], [\"Biologist\"], [\"Dancer\"], [\"Singer\"], [\"Actor\"], [\"Comic Artist\"], [\"Astronomer\"], [\"Astronomer\"], [\"Historian\"], [\"Physician\"], [\"Politician\"], [\"Actor\"], [\"Journalist\"], [\"Chemist\"], [\"Chemist\"], [\"Chemist\"], [\"Tennis Player\"], [\"Astronomer\"], [\"Singer\"], [\"(?)\"], [\"Musician\"], [\"Actor\"], [\"Computer Scientist\"], [\"(?)\"], [\"Military Personnel\"], [\"Biologist\"], [\"Actor\"], [\"Basketball Player\"], [\"Journalist\"], [\"Chemist\"], [\"Actor\"], [\"Astronaut\"], [\"Painter\"], [\"Military Personnel\"], [\"Linguist\"], [\"Chessmaster\"], [\"Mafioso\"], [\"Chemist\"], [\"Swimmer\"], [\"Philosopher\"], [\"Boxer\"], [\"Religious Figure\"], [\"Mathematician\"], [\"Philosopher\"], [\"Religious Figure\"], [\"Statistician\"], [\"Extremist\"], [\"Businessperson\"], [\"Pornographic Actor\"], [\"(?)\"], [\"Philosopher\"], [\"Actor\"], [\"Comedian\"], [\"Linguist\"], [\"Politician\"], [\"Actor\"], [\"Baseball Player\"], [\"Social Activist\"], [\"Singer\"], [\"Astronaut\"], [\"Painter\"], [\"(?)\"], [\"Religious Figure\"], [\"Politician\"], [\"Economist\"], [\"Boxer\"], [\"Singer\"], [\"Musician\"], [\"Mathematician\"], [\"Musician\"], [\"Extremist\"], [\"Dancer\"], [\"Racecar Driver\"], [\"Military Personnel\"], [\"Soccer Player\"], [\"Skier\"], [\"Economist\"], [\"Philosopher\"], [\"Social Activist\"], [\"Actor\"], [\"Economist\"], [\"Biologist\"], [\"Actor\"], [\"Basketball Player\"], [\"(?)\"], [\"Astronomer\"], [\"Actor\"], [\"(?)\"], [\"Companion\"], [\"(?)\"], [\"Actor\"], [\"Boxer\"], [\"Golfer\"], [\"Lawyer\"], [\"Artist\"], [\"Soccer Player\"], [\"Diplomat\"], [\"Biologist\"], [\"Racecar Driver\"], [\"Painter\"], [\"Astronaut\"], [\"Architect\"], [\"Film Director\"], [\"Dancer\"], [\"Politician\"], [\"Chemist\"], [\"Actor\"], [\"Biologist\"], [\"Referee\"], [\"Actor\"], [\"Computer Scientist\"], [\"Baseball Player\"], [\"Politician\"], [\"Actor\"], [\"Singer\"], [\"Astronomer\"], [\"Actor\"], [\"Politician\"], [\"Athlete\"], [\"Lawyer\"], [\"Athlete\"], [\"Tennis Player\"], [\"(?)\"], [\"Companion\"], [\"Actor\"], [\"Political Scientist\"], [\"Presenter\"], [\"Physicist\"], [\"Composer\"], [\"Actor\"], [\"(?)\"], [\"Inventor\"], [\"Athlete\"], [\"Politician\"], [\"Computer Scientist\"], [\"Baseball Player\"], [\"Actor\"], [\"Politician\"], [\"Writer\"], [\"Producer\"], [\"Businessperson\"], [\"Politician\"], [\"Writer\"], [\"Dancer\"], [\"Religious Figure\"], [\"Judge\"], [\"(?)\"], [\"Inventor\"], [\"Social Activist\"], [\"Military Personnel\"], [\"Physicist\"], [\"Inventor\"], [\"Critic\"], [\"Astronaut\"], [\"Musician\"], [\"Economist\"], [\"Physicist\"], [\"Astronomer\"], [\"Athlete\"], [\"Social Activist\"], [\"Physician\"], [\"(?)\"], [\"Physicist\"], [\"Athlete\"], [\"Actor\"], [\"Wrestler\"], [\"Anthropologist\"], [\"Wrestler\"], [\"Astronaut\"], [\"Magician\"], [\"Physician\"], [\"Comic Artist\"], [\"Inventor\"], [\"(?)\"], [\"Basketball Player\"], [\"Economist\"], [\"Musician\"], [\"Actor\"], [\"Actor\"], [\"Astronaut\"], [\"Producer\"], [\"Film Director\"], [\"Actor\"], [\"Actor\"], [\"Economist\"], [\"Politician\"], [\"Actor\"], [\"Philosopher\"], [\"Chessmaster\"], [\"Basketball Player\"], [\"Military Personnel\"], [\"(?)\"], [\"Actor\"], [\"Nobleman\"], [\"Musician\"], [\"Chemist\"], [\"Sculptor\"], [\"Politician\"], [\"Physicist\"], [\"Mathematician\"], [\"Actor\"], [\"Biologist\"], [\"Soccer Player\"], [\"Soccer Player\"], [\"Social Activist\"], [\"Politician\"], [\"Military Personnel\"], [\"Actor\"], [\"Musician\"], [\"Politician\"], [\"(?)\"], [\"Politician\"], [\"(?)\"], [\"Coach\"], [\"Magician\"], [\"Hockey Player\"], [\"Singer\"], [\"Magician\"], [\"Musician\"], [\"Singer\"], [\"Writer\"], [\"Religious Figure\"], [\"Painter\"], [\"Physician\"], [\"(?)\"], [\"(?)\"], [\"Religious Figure\"], [\"Astronomer\"], [\"(?)\"], [\"Writer\"], [\"Wrestler\"], [\"Tennis Player\"], [\"Writer\"], [\"Biologist\"], [\"Writer\"], [\"Musician\"], [\"Film Director\"], [\"Writer\"], [\"Economist\"], [\"Social Activist\"], [\"Computer Scientist\"], [\"Philosopher\"], [\"Computer Scientist\"], [\"Politician\"], [\"Historian\"], [\"(?)\"], [\"Actor\"], [\"Businessperson\"], [\"Politician\"], [\"Computer Scientist\"], [\"Inventor\"], [\"(?)\"], [\"Politician\"], [\"Mafioso\"], [\"Computer Scientist\"], [\"(?)\"], [\"Athlete\"], [\"Basketball Player\"], [\"Astronomer\"], [\"Writer\"], [\"Actor\"], [\"Pilot\"], [\"Athlete\"], [\"Soccer Player\"], [\"Writer\"], [\"Politician\"], [\"Racecar Driver\"], [\"(?)\"], [\"Photographer\"], [\"Biologist\"], [\"Politician\"], [\"Wrestler\"], [\"Cricketer\"], [\"Physician\"], [\"Writer\"], [\"(?)\"], [\"(?)\"], [\"Inventor\"], [\"Politician\"], [\"Computer Scientist\"], [\"Photographer\"], [\"Political Scientist\"], [\"Economist\"], [\"Economist\"], [\"Conductor\"], [\"Religious Figure\"], [\"Painter\"], [\"Writer\"], [\"Writer\"], [\"Writer\"], [\"Philosopher\"], [\"Historian\"], [\"Actor\"], [\"(?)\"], [\"Philosopher\"], [\"Pilot\"], [\"Anthropologist\"], [\"Social Activist\"], [\"Writer\"], [\"Singer\"], [\"Artist\"], [\"Economist\"], [\"Singer\"], [\"Businessperson\"], [\"Politician\"], [\"(?)\"], [\"Soccer Player\"], [\"Film Director\"], [\"Musician\"], [\"Businessperson\"], [\"Musician\"], [\"Singer\"], [\"Businessperson\"], [\"Producer\"], [\"Musician\"], [\"Basketball Player\"], [\"Social Activist\"], [\"Writer\"], [\"Diplomat\"], [\"Writer\"], [\"Writer\"], [\"Film Director\"], [\"Philosopher\"], [\"Philosopher\"], [\"Actor\"], [\"Actor\"], [\"Actor\"], [\"Social Activist\"], [\"Chemist\"], [\"Actor\"], [\"Athlete\"], [\"(?)\"], [\"Engineer\"], [\"Businessperson\"], [\"Astronomer\"], [\"Athlete\"], [\"Basketball Player\"], [\"Actor\"], [\"Wrestler\"], [\"Religious Figure\"], [\"Comic Artist\"], [\"Musician\"], [\"Sociologist\"], [\"Nobleman\"], [\"Model\"], [\"(?)\"], [\"Linguist\"], [\"Singer\"], [\"Pilot\"], [\"Musician\"], [\"Politician\"], [\"Military Personnel\"], [\"Fashion Designer\"], [\"Religious Figure\"], [\"Musician\"], [\"Inventor\"], [\"Golfer\"], [\"(?)\"], [\"Athlete\"], [\"Physicist\"], [\"Composer\"], [\"Economist\"], [\"Singer\"], [\"Politician\"], [\"Singer\"], [\"Astronomer\"], [\"Archaeologist\"], [\"Astronomer\"], [\"Singer\"], [\"Pirate\"], [\"Singer\"], [\"Politician\"], [\"Artist\"], [\"Extremist\"], [\"Tennis Player\"], [\"Engineer\"], [\"Artist\"], [\"Singer\"], [\"Engineer\"], [\"Extremist\"], [\"Singer\"], [\"Politician\"], [\"Astronaut\"], [\"Politician\"], [\"Celebrity\"], [\"Military Personnel\"], [\"Wrestler\"], [\"Psychologist\"], [\"Social Activist\"], [\"Celebrity\"], [\"Film Director\"], [\"Statistician\"], [\"Military Personnel\"], [\"Social Activist\"], [\"Singer\"], [\"Athlete\"], [\"Writer\"], [\"Diplomat\"], [\"Social Activist\"], [\"Writer\"], [\"Magician\"], [\"Actor\"], [\"Actor\"], [\"Computer Scientist\"], [\"Singer\"], [\"Skater\"], [\"Athlete\"], [\"Swimmer\"], [\"Film Director\"], [\"Singer\"], [\"Actor\"], [\"Tennis Player\"], [\"Chemist\"], [\"Biologist\"], [\"(?)\"], [\"(?)\"], [\"Writer\"], [\"Inventor\"], [\"Social Activist\"], [\"Companion\"], [\"(?)\"], [\"Basketball Player\"], [\"Swimmer\"], [\"Judge\"], [\"Lawyer\"], [\"Linguist\"], [\"Film Director\"], [\"Celebrity\"], [\"Celebrity\"], [\"Politician\"], [\"(?)\"], [\"Military Personnel\"], [\"Biologist\"], [\"Writer\"], [\"Athlete\"], [\"Athlete\"], [\"Writer\"], [\"Basketball Player\"], [\"Religious Figure\"], [\"Astronomer\"], [\"Musician\"], [\"Writer\"], [\"Mathematician\"], [\"Diplomat\"], [\"(?)\"], [\"Extremist\"], [\"Singer\"], [\"Singer\"], [\"Comic Artist\"], [\"Chemist\"], [\"Singer\"], [\"Singer\"], [\"Chemist\"], [\"Actor\"], [\"Chemist\"], [\"Chemist\"], [\"Companion\"], [\"Chemist\"], [\"Politician\"], [\"Singer\"], [\"Diplomat\"], [\"(?)\"], [\"Nobleman\"], [\"Film Director\"], [\"Social Activist\"], [\"Journalist\"], [\"Judge\"], [\"Boxer\"], [\"(?)\"], [\"Musician\"], [\"Businessperson\"], [\"Military Personnel\"], [\"Model\"], [\"Writer\"], [\"Businessperson\"], [\"Economist\"], [\"Basketball Player\"], [\"(?)\"], [\"Musician\"], [\"Chemist\"], [\"Physicist\"], [\"Astronomer\"], [\"(?)\"], [\"Actor\"], [\"Military Personnel\"], [\"Actor\"], [\"Actor\"], [\"Actor\"], [\"Writer\"], [\"Architect\"], [\"Writer\"], [\"Writer\"], [\"Actor\"], [\"Actor\"], [\"Astronomer\"], [\"Physicist\"], [\"Actor\"], [\"Actor\"], [\"Actor\"], [\"(?)\"], [\"Architect\"], [\"Actor\"], [\"Politician\"], [\"Actor\"], [\"(?)\"], [\"Writer\"], [\"Actor\"], [\"Pilot\"], [\"Extremist\"], [\"(?)\"], [\"Painter\"], [\"Inventor\"], [\"Businessperson\"], [\"Wrestler\"], [\"Mathematician\"], [\"Writer\"], [\"Artist\"], [\"Soccer Player\"], [\"Physicist\"], [\"Designer\"], [\"Politician\"], [\"Mafioso\"], [\"Philosopher\"], [\"Chemist\"], [\"Chemist\"], [\"Diplomat\"], [\"Actor\"], [\"Actor\"], [\"Writer\"], [\"Writer\"], [\"Writer\"], [\"Engineer\"], [\"Chemist\"], [\"Economist\"], [\"Diplomat\"], [\"(?)\"], [\"Military Personnel\"], [\"Critic\"], [\"Politician\"], [\"Politician\"], [\"Physician\"], [\"Politician\"], [\"Tennis Player\"], [\"Philosopher\"], [\"Boxer\"], [\"Lawyer\"], [\"Linguist\"], [\"Politician\"], [\"Social Activist\"], [\"Nobleman\"], [\"(?)\"], [\"Composer\"], [\"Singer\"], [\"Tennis Player\"], [\"Journalist\"], [\"Musician\"], [\"(?)\"], [\"Physicist\"], [\"Inventor\"], [\"(?)\"], [\"Biologist\"], [\"Biologist\"], [\"Film Director\"], [\"Economist\"], [\"Swimmer\"], [\"Singer\"], [\"Politician\"], [\"(?)\"], [\"(?)\"], [\"Painter\"], [\"Social Activist\"], [\"Military Personnel\"], [\"(?)\"], [\"Astronomer\"], [\"(?)\"], [\"Religious Figure\"], [\"Inventor\"], [\"Singer\"], [\"Musician\"], [\"Celebrity\"], [\"(?)\"], [\"Actor\"], [\"Politician\"], [\"Photographer\"], [\"Photographer\"], [\"Painter\"], [\"Musician\"], [\"Politician\"], [\"(?)\"], [\"Musician\"], [\"Musician\"], [\"Philosopher\"], [\"Musician\"], [\"(?)\"], [\"Musician\"], [\"Philosopher\"], [\"Writer\"], [\"Military Personnel\"], [\"Social Activist\"], [\"Musician\"], [\"Psychologist\"], [\"Musician\"], [\"(?)\"], [\"Inventor\"], [\"Musician\"], [\"Religious Figure\"], [\"Photographer\"], [\"Painter\"], [\"Painter\"], [\"Photographer\"], [\"Politician\"], [\"Economist\"], [\"Film Director\"], [\"Film Director\"], [\"Film Director\"], [\"Social Activist\"], [\"Politician\"], [\"Film Director\"], [\"Game Designer\"], [\"Basketball Player\"], [\"(?)\"], [\"Mathematician\"], [\"Geographer\"], [\"Geologist\"], [\"Geologist\"], [\"Gymnast\"], [\"Writer\"], [\"Historian\"], [\"Historian\"], [\"Economist\"], [\"(?)\"], [\"Film Director\"], [\"Film Director\"], [\"Computer Scientist\"], [\"Film Director\"], [\"Extremist\"], [\"Extremist\"], [\"Philosopher\"], [\"(?)\"], [\"Extremist\"], [\"Fashion Designer\"], [\"(?)\"], [\"(?)\"], [\"Film Director\"], [\"Physician\"], [\"Lawyer\"], [\"Inventor\"], [\"(?)\"], [\"Film Director\"], [\"Film Director\"], [\"(?)\"], [\"Film Director\"], [\"Dancer\"], [\"Film Director\"], [\"Film Director\"], [\"(?)\"], [\"Musician\"], [\"Inventor\"], [\"Actor\"], [\"Mathematician\"], [\"(?)\"], [\"Mathematician\"], [\"Politician\"], [\"Physician\"], [\"(?)\"], [\"Military Personnel\"], [\"(?)\"], [\"Military Personnel\"], [\"Military Personnel\"], [\"(?)\"], [\"(?)\"], [\"Model\"], [\"Companion\"], [\"Model\"], [\"Musician\"], [\"Musician\"], [\"Soccer Player\"], [\"Musician\"], [\"Economist\"], [\"Mathematician\"], [\"(?)\"], [\"Astronaut\"], [\"Social Activist\"], [\"Inventor\"], [\"Religious Figure\"], [\"Extremist\"], [\"Politician\"], [\"Physicist\"], [\"Journalist\"], [\"Writer\"], [\"(?)\"], [\"Physician\"], [\"Lawyer\"], [\"Lawyer\"], [\"Mafioso\"], [\"Physician\"], [\"Writer\"], [\"Linguist\"], [\"(?)\"], [\"Linguist\"], [\"Mafioso\"], [\"(?)\"], [\"Social Activist\"], [\"Physician\"], [\"(?)\"], [\"Physician\"], [\"Singer\"], [\"Singer\"], [\"Photographer\"], [\"Actor\"], [\"Philosopher\"], [\"Singer\"], [\"(?)\"], [\"(?)\"], [\"Military Personnel\"], [\"Singer\"], [\"(?)\"], [\"(?)\"], [\"Astronaut\"], [\"Singer\"], [\"Designer\"], [\"Singer\"], [\"Singer\"], [\"Companion\"], [\"Politician\"], [\"Actor\"], [\"Extremist\"], [\"Sculptor\"], [\"Sculptor\"], [\"Politician\"], [\"(?)\"], [\"Producer\"], [\"(?)\"], [\"Politician\"], [\"Astronaut\"], [\"Producer\"], [\"Psychologist\"], [\"Psychologist\"], [\"Psychologist\"], [\"Actor\"], [\"Psychologist\"], [\"Actor\"], [\"Soccer Player\"], [\"Racecar Driver\"], [\"Racecar Driver\"], [\"(?)\"], [\"Religious Figure\"], [\"Actor\"], [\"Religious Figure\"], [\"Religious Figure\"], [\"Religious Figure\"], [\"Basketball Player\"], [\"Singer\"], [\"Singer\"], [\"Singer\"], [\"Writer\"], [\"Social Activist\"], [\"Social Activist\"], [\"Sociologist\"], [\"Sociologist\"], [\"Sociologist\"], [\"Writer\"], [\"Writer\"], [\"Swimmer\"], [\"Writer\"], [\"Wrestler\"], [\"Swimmer\"], [\"Wrestler\"], [\"Wrestler\"], [\"Swimmer\"], [\"Tennis Player\"], [\"Wrestler\"], [\"Wrestler\"], [\"Wrestler\"], [\"Tennis Player\"], [\"Tennis Player\"], [\"Writer\"], [\"(?)\"], [\"Writer\"], [\"Social Activist\"], [\"Military Personnel\"], [\"Politician\"], [\"Singer\"], [\"(?)\"], [\"Singer\"], [\"Skater\"], [\"Physician\"], [\"Writer\"], [\"Inventor\"], [\"Soccer Player\"], [\"(?)\"], [\"Writer\"], [\"Writer\"], [\"Soccer Player\"], [\"Writer\"], [\"Soccer Player\"], [\"Writer\"], [\"Writer\"], [\"Writer\"], [\"Social Activist\"], [\"Writer\"], [\"Social Activist\"], [\"Presenter\"], [\"(?)\"], [\"Computer Scientist\"], [\"Physicist\"], [\"Astronaut\"], [\"Writer\"], [\"Physicist\"], [\"Physicist\"], [\"Pilot\"], [\"Actor\"], [\"Basketball Player\"], [\"Economist\"], [\"Chemist\"], [\"(?)\"], [\"Astronomer\"], [\"Politician\"], [\"(?)\"], [\"Presenter\"], [\"Writer\"], [\"(?)\"], [\"Politician\"], [\"Writer\"], [\"(?)\"], [\"Writer\"], [\"Physician\"], [\"(?)\"], [\"Physicist\"], [\"Physicist\"], [\"Physician\"], [\"Physician\"], [\"Pornographic Actor\"], [\"(?)\"], [\"Astronaut\"], [\"Architect\"], [\"Basketball Player\"], [\"Philosopher\"], [\"Physicist\"], [\"(?)\"], [\"Physicist\"], [\"(?)\"], [\"Computer Scientist\"], [\"Pornographic Actor\"], [\"Politician\"], [\"Physicist\"], [\"(?)\"], [\"Magician\"], [\"(?)\"], [\"(?)\"], [\"Physicist\"], [\"Physicist\"], [\"Physician\"], [\"Comic Artist\"], [\"Politician\"], [\"Architect\"], [\"Politician\"], [\"Extremist\"], [\"Pornographic Actor\"], [\"Politician\"], [\"Singer\"], [\"Politician\"], [\"Pornographic Actor\"], [\"Pornographic Actor\"], [\"Pornographic Actor\"], [\"Musician\"], [\"Politician\"], [\"(?)\"], [\"Comic Artist\"], [\"Companion\"], [\"Chemist\"], [\"Philosopher\"], [\"Pornographic Actor\"], [\"Physician\"], [\"Presenter\"], [\"Astronaut\"], [\"Politician\"], [\"Basketball Player\"], [\"Politician\"], [\"Historian\"], [\"Politician\"], [\"Politician\"], [\"(?)\"], [\"(?)\"], [\"Computer Scientist\"], [\"Politician\"], [\"Writer\"], [\"Politician\"], [\"Politician\"], [\"(?)\"], [\"Extremist\"], [\"Politician\"], [\"(?)\"], [\"Philosopher\"], [\"(?)\"], [\"Politician\"], [\"Physician\"], [\"Mathematician\"], [\"Politician\"], [\"Writer\"], [\"Politician\"], [\"(?)\"], [\"Photographer\"], [\"Chef\"], [\"Explorer\"], [\"Musician\"], [\"Musician\"], [\"Musician\"], [\"Musician\"], [\"Musician\"], [\"Musician\"], [\"Painter\"], [\"Philosopher\"], [\"Philosopher\"], [\"Philosopher\"], [\"Physician\"], [\"Physician\"], [\"Physician\"], [\"Physician\"], [\"Physicist\"], [\"Physicist\"], [\"Physicist\"], [\"Physicist\"], [\"Physicist\"], [\"Physicist\"], [\"Physicist\"], [\"Physicist\"], [\"Pilot\"], [\"Politician\"], [\"Politician\"], [\"Politician\"], [\"Politician\"], [\"Musician\"], [\"Musician\"], [\"Musician\"], [\"Musician\"], [\"Economist\"], [\"Engineer\"], [\"Engineer\"], [\"Engineer\"], [\"Extremist\"], [\"Extremist\"], [\"Extremist\"], [\"Film Director\"], [\"Film Director\"], [\"Game Designer\"], [\"Game Designer\"], [\"Geographer\"], [\"Geologist\"], [\"Politician\"], [\"Geologist\"], [\"Historian\"], [\"Inventor\"], [\"Inventor\"], [\"Inventor\"], [\"Linguist\"], [\"Magician\"], [\"Martial Arts\"], [\"Mathematician\"], [\"Military Personnel\"], [\"Military Personnel\"], [\"Military Personnel\"], [\"Musician\"], [\"Musician\"], [\"Gymnast\"], [\"Politician\"], [\"Politician\"], [\"Politician\"], [\"Soccer Player\"], [\"Soccer Player\"], [\"Soccer Player\"], [\"Social Activist\"], [\"Social Activist\"], [\"Social Activist\"], [\"Social Activist\"], [\"Sociologist\"], [\"Sociologist\"], [\"Tennis Player\"], [\"Tennis Player\"], [\"Tennis Player\"], [\"Tennis Player\"], [\"Skater\"], [\"Tennis Player\"], [\"Wrestler\"], [\"Wrestler\"], [\"Wrestler\"], [\"Writer\"], [\"Writer\"], [\"Writer\"], [\"Writer\"], [\"Writer\"], [\"Writer\"], [\"Writer\"], [\"Writer\"], [\"Actor\"], [\"Actor\"], [\"Wrestler\"], [\"Economist\"], [\"Singer\"], [\"Singer\"], [\"Politician\"], [\"Politician\"], [\"Politician\"], [\"Politician\"], [\"Politician\"], [\"Politician\"], [\"Presenter\"], [\"Producer\"], [\"Producer\"], [\"Producer\"], [\"Psychologist\"], [\"Psychologist\"], [\"Psychologist\"], [\"Singer\"], [\"Psychologist\"], [\"Religious Figure\"], [\"Religious Figure\"], [\"Religious Figure\"], [\"Sculptor\"], [\"Singer\"], [\"Singer\"], [\"Singer\"], [\"Singer\"], [\"Singer\"], [\"Singer\"], [\"Singer\"], [\"Singer\"], [\"Singer\"], [\"Public Worker\"], [\"Actor\"], [\"Economist\"], [\"Economist\"], [\"Musician\"], [\"Painter\"], [\"Physician\"], [\"Pilot\"], [\"Politician\"], [\"Politician\"], [\"Politician\"], [\"Pornographic Actor\"], [\"Presenter\"], [\"Racecar Driver\"], [\"Singer\"], [\"Singer\"], [\"Singer\"], [\"Singer\"], [\"Singer\"], [\"Singer\"], [\"Skier\"], [\"Social Activist\"], [\"Tennis Player\"], [\"Writer\"], [\"Writer\"], [\"Writer\"], [\"Actor\"], [\"Actor\"], [\"Actor\"], [\"Actor\"], [\"Actor\"], [\"Musician\"], [\"Musician\"], [\"Musician\"], [\"Journalist\"], [\"Actor\"], [\"Actor\"], [\"Actor\"], [\"Actor\"], [\"Actor\"], [\"Actor\"], [\"Actor\"], [\"Actor\"], [\"Archaeologist\"], [\"Astronaut\"], [\"Astronomer\"], [\"Athlete\"], [\"Biologist\"], [\"Actor\"], [\"Biologist\"], [\"Chef\"], [\"Companion\"], [\"Companion\"], [\"Companion\"], [\"Companion\"], [\"Dancer\"], [\"Dancer\"], [\"Dancer\"], [\"Diplomat\"], [\"Economist\"], [\"Film Director\"], [\"Film Director\"], [\"Journalist\"], [\"Businessperson\"], [\"Actor\"], [\"Actor\"], [\"Actor\"], [\"Boxer\"], [\"Businessperson\"], [\"Businessperson\"], [\"Businessperson\"], [\"Businessperson\"], [\"Businessperson\"], [\"Celebrity\"], [\"Celebrity\"], [\"Chemist\"], [\"Chemist\"], [\"Chemist\"], [\"Chessmaster\"], [\"Comedian\"], [\"Boxer\"], [\"Comedian\"], [\"Comic Artist\"], [\"Composer\"], [\"Composer\"], [\"Composer\"], [\"Computer Scientist\"], [\"Computer Scientist\"], [\"Conductor\"], [\"Cricketer\"], [\"Cyclist\"], [\"Cyclist\"], [\"Dancer\"], [\"Designer\"], [\"Diplomat\"], [\"Comic Artist\"], [\"Economist\"], [\"Biologist\"], [\"Biologist\"], [\"Actor\"], [\"Anthropologist\"], [\"Anthropologist\"], [\"Archaeologist\"], [\"Architect\"], [\"Architect\"], [\"Artist\"], [\"Artist\"], [\"Astronaut\"], [\"Astronaut\"], [\"Astronaut\"], [\"Astronaut\"], [\"Astronomer\"], [\"Biologist\"], [\"Astronomer\"], [\"Athlete\"], [\"Athlete\"], [\"Athlete\"], [\"Basketball Player\"], [\"Basketball Player\"], [\"Basketball Player\"], [\"Basketball Player\"], [\"Basketball Player\"], [\"Basketball Player\"], [\"Basketball Player\"], [\"Basketball Player\"], [\"Biologist\"], [\"Biologist\"], [\"Athlete\"], [\"Actor\"], [\"Musician\"], [\"(?)\"], [\"Chessmaster\"], [\"Chessmaster\"], [\"Chemist\"], [\"Chemist\"], [\"Chemist\"], [\"Athlete\"], [\"Chemist\"], [\"Chemist\"], [\"Chemist\"], [\"Chemist\"], [\"Baseball Player\"], [\"Baseball Player\"], [\"Baseball Player\"], [\"Chemist\"], [\"Chemist\"], [\"Comedian\"], [\"Comic Artist\"], [\"Astronomer\"], [\"Astronomer\"], [\"Composer\"], [\"Companion\"], [\"Artist\"], [\"Artist\"], [\"Companion\"], [\"Astronaut\"], [\"Astronaut\"], [\"Chemist\"], [\"Astronaut\"], [\"Companion\"], [\"Companion\"], [\"Companion\"], [\"Astronaut\"], [\"Comic Artist\"], [\"Comic Artist\"], [\"Comic Artist\"], [\"Companion\"], [\"Chef\"], [\"Basketball Player\"], [\"Basketball Player\"], [\"Biologist\"], [\"Biologist\"], [\"Biologist\"], [\"Businessperson\"], [\"Businessperson\"], [\"Businessperson\"], [\"Biologist\"], [\"Businessperson\"], [\"Biologist\"], [\"Boxer\"], [\"Biologist\"], [\"Boxer\"], [\"Boxer\"], [\"Boxer\"], [\"Biologist\"], [\"Biologist\"], [\"Businessperson\"], [\"Architect\"], [\"Businessperson\"], [\"Basketball Player\"], [\"Basketball Player\"], [\"Celebrity\"], [\"Celebrity\"], [\"Basketball Player\"], [\"Celebrity\"], [\"Celebrity\"], [\"Basketball Player\"], [\"Businessperson\"], [\"Celebrity\"], [\"Basketball Player\"], [\"Basketball Player\"], [\"Basketball Player\"], [\"Basketball Player\"], [\"Businessperson\"], [\"Basketball Player\"], [\"Businessperson\"], [\"Businessperson\"], [\"Composer\"], [\"Athlete\"], [\"Actor\"], [\"Designer\"], [\"Diplomat\"], [\"Dancer\"], [\"Economist\"], [\"Anthropologist\"], [\"Actor\"], [\"Economist\"], [\"Anthropologist\"], [\"Cyclist\"], [\"Actor\"], [\"Anthropologist\"], [\"Cyclist\"], [\"Computer Scientist\"], [\"Computer Scientist\"], [\"Actor\"], [\"Actor\"], [\"American Football Player\"], [\"Diplomat\"], [\"Critic\"], [\"Actor\"], [\"Computer Scientist\"], [\"Diplomat\"], [\"Actor\"], [\"Singer\"], [\"Artist\"], [\"Computer Scientist\"], [\"Wrestler\"], [\"(?)\"], [\"Mafioso\"], [\"Philosopher\"], [\"Social Activist\"], [\"Astronomer\"], [\"Comic Artist\"], [\"Singer\"], [\"Writer\"], [\"Social Activist\"], [\"Businessperson\"], [\"Physician\"], [\"Politician\"], [\"Physician\"], [\"Inventor\"], [\"Inventor\"], [\"(?)\"], [\"Mathematician\"], [\"Inventor\"], [\"Chessmaster\"], [\"Economist\"], [\"Economist\"], [\"Businessperson\"], [\"Diplomat\"], [\"(?)\"], [\"Businessperson\"], [\"(?)\"], [\"Companion\"], [\"Comic Artist\"], [\"Engineer\"], [\"Inventor\"], [\"Psychologist\"], [\"Soccer Player\"], [\"Chemist\"], [\"Athlete\"], [\"Companion\"], [\"(?)\"], [\"(?)\"], [\"Computer Scientist\"], [\"Composer\"], [\"(?)\"], [\"Celebrity\"], [\"Extremist\"], [\"Companion\"], [\"Composer\"], [\"Astronaut\"], [\"Actor\"], [\"(?)\"], [\"Film Director\"], [\"(?)\"], [\"Actor\"], [\"Companion\"], [\"(?)\"], [\"Businessperson\"], [\"Film Director\"], [\"Engineer\"], [\"Engineer\"], [\"Actor\"], [\"Actor\"], [\"Actor\"], [\"Politician\"], [\"Basketball Player\"], [\"Actor\"], [\"Historian\"], [\"Religious Figure\"], [\"Extremist\"], [\"Actor\"], [\"(?)\"], [\"(?)\"], [\"Economist\"], [\"Writer\"], [\"Economist\"], [\"Musician\"], [\"Economist\"], [\"Film Director\"], [\"Economist\"], [\"Businessperson\"], [\"Fashion Designer\"], [\"Economist\"], [\"Economist\"], [\"(?)\"], [\"Musician\"], [\"(?)\"], [\"Engineer\"], [\"Politician\"], [\"(?)\"], [\"Extremist\"], [\"Designer\"], [\"Military Personnel\"], [\"Physician\"], [\"Celebrity\"], [\"Actor\"], [\"Artist\"], [\"(?)\"], [\"Extremist\"], [\"Judge\"], [\"Lawyer\"], [\"Writer\"], [\"Archaeologist\"], [\"Historian\"], [\"Businessperson\"], [\"Inventor\"], [\"Computer Scientist\"], [\"Architect\"], [\"Physician\"], [\"Golfer\"], [\"Mathematician\"], [\"(?)\"], [\"(?)\"], [\"Linguist\"], [\"Psychologist\"], [\"Philosopher\"], [\"Historian\"], [\"Inventor\"], [\"Singer\"], [\"Inventor\"], [\"(?)\"], [\"Politician\"], [\"Computer Scientist\"], [\"Composer\"], [\"Inventor\"], [\"Tennis Player\"], [\"(?)\"], [\"Social Activist\"], [\"Singer\"], [\"Computer Scientist\"], [\"Engineer\"], [\"Inventor\"], [\"Engineer\"], [\"Dancer\"], [\"Politician\"], [\"Actor\"], [\"Writer\"], [\"Actor\"], [\"(?)\"], [\"(?)\"], [\"Politician\"], [\"Gymnast\"], [\"Film Director\"], [\"Biologist\"], [\"Businessperson\"], [\"Inventor\"], [\"Military Personnel\"], [\"Politician\"], [\"Dancer\"], [\"Computer Scientist\"], [\"Companion\"], [\"Actor\"], [\"Chemist\"], [\"Celebrity\"], [\"Explorer\"], [\"Physician\"], [\"Chemist\"], [\"(?)\"], [\"Chemist\"], [\"Diplomat\"], [\"Film Director\"], [\"Golfer\"], [\"Politician\"], [\"Basketball Player\"], [\"Tennis Player\"], [\"Companion\"], [\"(?)\"], [\"Explorer\"], [\"Musician\"], [\"(?)\"], [\"Mathematician\"], [\"Baseball Player\"], [\"Architect\"], [\"Mafioso\"], [\"Writer\"], [\"Astronomer\"], [\"Historian\"], [\"Basketball Player\"], [\"Musician\"], [\"Basketball Player\"], [\"Martial Arts\"], [\"Mathematician\"], [\"Basketball Player\"], [\"Biologist\"], [\"(?)\"], [\"Actor\"], [\"Wrestler\"], [\"Religious Figure\"], [\"Wrestler\"], [\"Wrestler\"], [\"Racecar Driver\"], [\"Physician\"], [\"Basketball Player\"], [\"Physician\"], [\"Wrestler\"], [\"Psychologist\"], [\"Writer\"], [\"Psychologist\"], [\"Writer\"], [\"Writer\"], [\"Physician\"], [\"Writer\"], [\"Writer\"], [\"Physician\"], [\"Presenter\"], [\"Wrestler\"], [\"Musician\"], [\"Painter\"], [\"Musician\"], [\"Musician\"], [\"Baseball Player\"], [\"Painter\"], [\"Wrestler\"], [\"Painter\"], [\"Actor\"], [\"Businessperson\"], [\"Photographer\"], [\"Politician\"], [\"Philosopher\"], [\"Politician\"], [\"Baseball Player\"], [\"Physician\"], [\"Singer\"], [\"Architect\"], [\"Social Activist\"], [\"Architect\"], [\"Physicist\"], [\"Pilot\"], [\"Singer\"], [\"Singer\"], [\"Singer\"], [\"Religious Figure\"], [\"Soccer Player\"], [\"Physicist\"], [\"Astronaut\"], [\"Skater\"], [\"Soccer Player\"], [\"Wrestler\"], [\"Social Activist\"], [\"Singer\"], [\"Politician\"], [\"Wrestler\"], [\"Religious Figure\"], [\"Wrestler\"], [\"Swimmer\"], [\"Swimmer\"], [\"Astronomer\"], [\"Athlete\"], [\"Physicist\"], [\"Social Activist\"], [\"Politician\"], [\"Presenter\"], [\"Politician\"], [\"Presenter\"], [\"Tennis Player\"], [\"Actor\"], [\"Skier\"], [\"Businessperson\"], [\"Musician\"], [\"Explorer\"], [\"Mafioso\"], [\"Pornographic Actor\"], [\"Actor\"], [\"Actor\"], [\"Linguist\"], [\"Military Personnel\"], [\"Military Personnel\"], [\"Military Personnel\"], [\"Mafioso\"], [\"Inventor\"], [\"Biologist\"], [\"Politician\"], [\"Politician\"], [\"Military Personnel\"], [\"Musician\"], [\"Lawyer\"], [\"Musician\"], [\"Soccer Player\"], [\"Social Activist\"], [\"Presenter\"], [\"(?)\"], [\"Extremist\"], [\"Film Director\"], [\"Writer\"], [\"Celebrity\"], [\"Celebrity\"], [\"(?)\"], [\"(?)\"], [\"Politician\"], [\"Writer\"], [\"Writer\"], [\"Mathematician\"], [\"Chemist\"], [\"Biologist\"], [\"Military Personnel\"], [\"(?)\"], [\"Physician\"], [\"Boxer\"], [\"Designer\"], [\"Model\"], [\"Racecar Driver\"], [\"Social Activist\"], [\"Skater\"], [\"Cyclist\"], [\"Wrestler\"], [\"Military Personnel\"], [\"Historian\"], [\"(?)\"], [\"Actor\"], [\"Presenter\"], [\"Military Personnel\"], [\"Writer\"], [\"Model\"], [\"Soccer Player\"], [\"Mathematician\"], [\"Baseball Player\"], [\"Athlete\"], [\"Writer\"], [\"Singer\"], [\"Businessperson\"], [\"Religious Figure\"], [\"Politician\"], [\"(?)\"], [\"Writer\"], [\"Swimmer\"], [\"Astronaut\"], [\"Pirate\"], [\"Singer\"], [\"Actor\"], [\"Astronaut\"], [\"Engineer\"], [\"Actor\"], [\"Celebrity\"], [\"(?)\"], [\"Astronaut\"], [\"Physicist\"], [\"Celebrity\"], [\"Chemist\"], [\"Critic\"], [\"Architect\"], [\"Mathematician\"], [\"Companion\"], [\"Economist\"], [\"(?)\"], [\"Businessperson\"], [\"Sculptor\"], [\"Presenter\"], [\"Skater\"], [\"(?)\"], [\"Social Activist\"], [\"Chessmaster\"], [\"Inventor\"], [\"Explorer\"], [\"Actor\"], [\"Skater\"], [\"Model\"], [\"Singer\"], [\"Actor\"], [\"Biologist\"], [\"Basketball Player\"], [\"Singer\"], [\"Political Scientist\"], [\"Basketball Player\"], [\"Wrestler\"], [\"Architect\"], [\"Social Activist\"], [\"Basketball Player\"], [\"Singer\"], [\"Companion\"], [\"Singer\"], [\"Politician\"], [\"Presenter\"], [\"Basketball Player\"], [\"Politician\"], [\"Economist\"], [\"Actor\"], [\"Economist\"], [\"Actor\"], [\"Economist\"], [\"Inventor\"], [\"Actor\"], [\"Singer\"], [\"(?)\"], [\"Singer\"], [\"Writer\"], [\"Wrestler\"], [\"Politician\"], [\"Inventor\"], [\"(?)\"], [\"Writer\"], [\"Inventor\"], [\"Actor\"], [\"Actor\"], [\"Writer\"], [\"Chemist\"], [\"Composer\"], [\"Singer\"], [\"Biologist\"], [\"(?)\"], [\"Singer\"], [\"Architect\"], [\"Producer\"], [\"Politician\"], [\"Writer\"], [\"Actor\"], [\"Politician\"], [\"Economist\"], [\"Sociologist\"], [\"Politician\"], [\"Designer\"], [\"Economist\"], [\"Tennis Player\"], [\"(?)\"], [\"Businessperson\"], [\"Referee\"], [\"Politician\"], [\"Engineer\"], [\"Computer Scientist\"], [\"Computer Scientist\"], [\"Actor\"], [\"Musician\"], [\"Wrestler\"], [\"Writer\"], [\"Politician\"], [\"Anthropologist\"], [\"Politician\"], [\"Musician\"], [\"Wrestler\"], [\"Musician\"], [\"(?)\"], [\"Lawyer\"], [\"Tennis Player\"], [\"Philosopher\"], [\"(?)\"], [\"Politician\"], [\"Writer\"], [\"Extremist\"], [\"Anthropologist\"], [\"Historian\"], [\"Diplomat\"], [\"Singer\"], [\"Actor\"], [\"Film Director\"], [\"(?)\"], [\"Politician\"], [\"Sociologist\"], [\"(?)\"], [\"Sociologist\"], [\"Actor\"], [\"Writer\"], [\"Engineer\"], [\"Presenter\"], [\"Pornographic Actor\"], [\"Pornographic Actor\"], [\"Politician\"], [\"Film Director\"], [\"Psychologist\"], [\"Pornographic Actor\"], [\"Astronomer\"], [\"Psychologist\"], [\"(?)\"], [\"Musician\"], [\"Wrestler\"], [\"(?)\"], [\"Tennis Player\"], [\"Social Activist\"], [\"Basketball Player\"], [\"Computer Scientist\"], [\"Mountaineer\"], [\"Basketball Player\"], [\"Musician\"], [\"Painter\"], [\"Musician\"], [\"(?)\"], [\"(?)\"], [\"Religious Figure\"], [\"Basketball Player\"], [\"Basketball Player\"], [\"Musician\"], [\"Musician\"], [\"Economist\"], [\"Musician\"], [\"Computer Scientist\"], [\"Pilot\"], [\"Musician\"], [\"Musician\"], [\"Physician\"], [\"Musician\"], [\"Computer Scientist\"], [\"Composer\"], [\"Photographer\"], [\"Physicist\"], [\"Chemist\"], [\"Basketball Player\"], [\"Chemist\"], [\"Basketball Player\"], [\"Physician\"], [\"(?)\"], [\"Physician\"], [\"Comic Artist\"], [\"Comic Artist\"], [\"Actor\"], [\"Comic Artist\"], [\"Physician\"], [\"Writer\"], [\"Composer\"], [\"Model\"], [\"Physician\"], [\"(?)\"], [\"Painter\"], [\"Physicist\"], [\"Economist\"], [\"Economist\"], [\"Mathematician\"], [\"Inventor\"], [\"Politician\"], [\"Mathematician\"], [\"(?)\"], [\"Film Director\"], [\"Film Director\"], [\"Film Director\"], [\"Film Director\"], [\"Game Designer\"], [\"Mafioso\"], [\"Judge\"], [\"Biologist\"], [\"Musician\"], [\"Game Designer\"], [\"Companion\"], [\"Inventor\"], [\"Biologist\"], [\"Inventor\"], [\"Mathematician\"], [\"Economist\"], [\"Mathematician\"], [\"Writer\"], [\"Biologist\"], [\"(?)\"], [\"Mountaineer\"], [\"Businessperson\"], [\"Explorer\"], [\"Explorer\"], [\"Musician\"], [\"Physician\"], [\"Biologist\"], [\"Extremist\"], [\"Military Personnel\"], [\"Military Personnel\"], [\"Film Director\"], [\"Film Director\"], [\"Film Director\"], [\"Companion\"], [\"(?)\"], [\"(?)\"], [\"Military Personnel\"], [\"Film Director\"], [\"Writer\"], [\"Physicist\"], [\"Chef\"], [\"Racecar Driver\"], [\"Racecar Driver\"], [\"Astronaut\"], [\"Psychologist\"], [\"Artist\"], [\"Historian\"], [\"Social Activist\"], [\"Astronomer\"], [\"(?)\"], [\"Astronaut\"], [\"Sociologist\"], [\"Astronaut\"], [\"Physicist\"], [\"Producer\"], [\"Singer\"], [\"Astronomer\"], [\"Producer\"], [\"Presenter\"], [\"Astronomer\"], [\"Lawyer\"], [\"Astronomer\"], [\"Architect\"], [\"Architect\"], [\"Actor\"], [\"Military Personnel\"], [\"Actor\"], [\"Soccer Player\"], [\"Philosopher\"], [\"Physicist\"], [\"Actor\"], [\"(?)\"], [\"Actor\"], [\"Soccer Player\"], [\"Religious Figure\"], [\"Inventor\"], [\"Judge\"], [\"Historian\"], [\"Anthropologist\"], [\"(?)\"], [\"Religious Figure\"], [\"Archaeologist\"], [\"Social Activist\"], [\"Religious Figure\"], [\"Astronomer\"], [\"Astronomer\"], [\"Mafioso\"], [\"Boxer\"], [\"Military Personnel\"], [\"Military Personnel\"], [\"Wrestler\"], [\"Military Personnel\"], [\"Wrestler\"], [\"Businessperson\"], [\"Businessperson\"], [\"(?)\"], [\"Politician\"], [\"(?)\"], [\"Military Personnel\"], [\"Businessperson\"], [\"Politician\"], [\"Basketball Player\"], [\"Writer\"], [\"Celebrity\"], [\"Military Personnel\"], [\"Basketball Player\"], [\"Pornographic Actor\"], [\"Politician\"], [\"Biologist\"], [\"Chemist\"], [\"Mafioso\"], [\"Presenter\"], [\"Athlete\"], [\"Politician\"], [\"Chemist\"], [\"Politician\"], [\"Baseball Player\"], [\"Basketball Player\"], [\"Politician\"], [\"Skier\"], [\"Athlete\"], [\"Athlete\"], [\"Basketball Player\"], [\"Tennis Player\"], [\"Politician\"], [\"Chemist\"], [\"Athlete\"], [\"Actor\"], [\"Basketball Player\"], [\"Wrestler\"], [\"Basketball Player\"], [\"Astronaut\"]], \"domain\": {\"x\": [0.0, 1.0], \"y\": [0.0, 1.0]}, \"hovertemplate\": \"labels=%{label}<br>historical_popularity_index=%{value}<br>parent=%{parent}<br>id=%{id}<br>occupation=%{customdata[0]}<extra></extra>\", \"ids\": [\"Individual Sports/NE\", \"Government/Sin nombre/Public Worker\", \"Government/NE\", \"Business/NE/Businessperson\", \"Natural Sciences/CT/Physicist/Male\", \"Law/SD\", \"Individual Sports/Sin nombre/Wrestler/Male\", \"Fine Arts/GA\", \"Media Personality/MS/Presenter\", \"Natural Sciences/IN/Physicist/Male\", \"Military/W\\u00fcrttemberg\", \"Business/IN\", \"Media Personality/IA/Presenter\", \"Social Sciences/Yvelines/Economist/Male\", \"Music/NJ/Musician\", \"Explorers/TN/Explorer/Male\", \"Social Sciences/SD/Economist/Male\", \"Religion/VT/Religious Figure\", \"Government/County Mayo/Politician/Female\", \"Music/AR/Singer/Male\", \"Natural Sciences/VT\", \"Philosophy/Shandong Province/Philosopher/Male\", \"Music/NC/Singer/Male\", \"Activism/AL\", \"Natural Sciences/Ardennes\", \"Team Sports/WA/Soccer Player\", \"Military/TX/Military Personnel/Male\", \"Film And Theatre/Sin nombre/Comedian\", \"Music/Komi ASSR/Singer\", \"Language/CO\", \"Law/SD/Lawyer/Male\", \"Language/PA/Writer\", \"Social Sciences/CO/Sociologist/Male\", \"Military/TX\", \"Companions/Sin nombre/Companion\", \"Language/KY/Writer\", \"Language/MD/Writer/Male\", \"Natural Sciences/UT/Chemist/Male\", \"Film And Theatre/MO/Actor\", \"Individual Sports/IL/Wrestler\", \"Medicine/PA/Physician\", \"Government/OH\", \"Invention/MI\", \"Individual Sports/OK\", \"Government/IN/Politician\", \"Music/NV\", \"Individual Sports/MN/Tennis Player\", \"Business/NY/Businessperson/Male\", \"Math/MO\", \"Government/ID/Politician\", \"Individual Sports/TX/Athlete/Male\", \"Business/Sin nombre/Businessperson/Male\", \"Individual Sports/KS\", \"Music/OK\", \"Government/PA/Politician\", \"Language/MS/Writer/Male\", \"Medicine/PA\", \"Team Sports/WV/Basketball Player\", \"Fine Arts/Sin nombre/Painter\", \"Social Sciences/NY/Political Scientist/Male\", \"Social Sciences/NJ/Economist\", \"Government/WA/Politician\", \"Team Sports/PA/Basketball Player\", \"Film And Theatre/CT/Actor/Male\", \"Media Personality/MO/Presenter/Male\", \"Film And Theatre/MA/Actor/Male\", \"Companions/Sin nombre/Companion/Male\", \"Film And Theatre/CA/Actor\", \"Music/MD/Composer\", \"Philosophy/MD/Philosopher\", \"Team Sports/VA/Basketball Player\", \"Individual Sports/NH/Wrestler/Male\", \"Natural Sciences/OH/Chemist/Male\", \"Individual Sports/NY/Athlete\", \"Media Personality/Sin nombre/Magician/Male\", \"Outlaws/TX/Mafioso/Male\", \"Government/MO/Politician/Male\", \"Individual Sports/MO\", \"Design/Sin nombre/Game Designer\", \"Film And Theatre/NC/Actor/Male\", \"Media Personality/MO\", \"Activism/MD\", \"History/Sin nombre/Historian/Male\", \"Team Sports/GA\", \"Natural Sciences/NY/Biologist/Male\", \"Government/CA/Judge\", \"Media Personality/NY/Model/Female\", \"Social Sciences/Sin nombre/Psychologist/Male\", \"Music/MD/Singer/Female\", \"Design/PA/Architect\", \"Language/MN/Writer/Male\", \"Social Sciences/Yvelines\", \"Activism/CT\", \"Natural Sciences/KS/Chemist/Male\", \"Individual Sports/NY/Tennis Player/Female\", \"Social Sciences/NY/Psychologist/Male\", \"Film And Theatre/CA/Film Director\", \"Government/NJ/Politician\", \"Music/CA/Singer\", \"Individual Sports/MN/Skier/Female\", \"Religion/Galilee\", \"Religion/Gilead\", \"Military/MO/Military Personnel\", \"Natural Sciences/ID/Physicist/Male\", \"Explorers/C\\u00e1ceres\", \"Design/MI/Game Designer\", \"Military/WV/Pilot/Male\", \"Media Personality/KY/Celebrity/Male\", \"Language/Sin nombre\", \"Film And Theatre/IA/Actor\", \"Natural Sciences/CO/Physicist/Male\", \"Music/PA/Musician\", \"Business/OK\", \"Music/KS\", \"Business/CA\", \"Government/Oxfordshire/Politician/Male\", \"Invention/WA\", \"Music/NJ/Singer\", \"Music/Sin nombre/Composer\", \"Activism/NY\", \"Government/CO/Politician\", \"Media Personality/NY/Model\", \"Language/NC/Writer/Male\", \"Military/MO/Military Personnel/Male\", \"Social Sciences/IN/Economist\", \"Music/MS/Singer/Female\", \"Individual Sports/Sin nombre/Snooker\", \"Government/ID/Politician/Female\", \"Engineering/NJ\", \"Fine Arts/WY\", \"Design/Sin nombre/Comic Artist/Female\", \"Natural Sciences/NY/Physicist\", \"Military/OH/Military Personnel/Male\", \"Military/NY\", \"Individual Sports/Sin nombre/Swimmer/Female\", \"Business/TN/Businessperson/Male\", \"Film And Theatre/OH/Actor/Female\", \"Outlaws/Sin nombre/Extremist/Male\", \"Fine Arts/Sin nombre\", \"Media Personality/CA/Pornographic Actor/Female\", \"Companions/IL/Companion\", \"Film And Theatre/MI/Film Director/Male\", \"Government/VT/Politician\", \"Individual Sports/CA/Racecar Driver/Male\", \"Government/Sin nombre/Nobleman/Male\", \"Business/NC\", \"Government/VA/Judge\", \"Media Personality/CA/Celebrity/Female\", \"Language/MD\", \"Individual Sports/Sin nombre/Athlete\", \"Natural Sciences/NY\", \"Film And Theatre/UT/Actor\", \"Design/CT\", \"Natural Sciences/OR\", \"Language/LA/Writer/Male\", \"Individual Sports/NY\", \"Government/AL/Politician/Male\", \"Music/CT/Musician\", \"Social Sciences/TX/Sociologist\", \"Social Sciences/VT/Psychologist/Male\", \"Design/PA\", \"Government/Segovia\", \"Language/IN/Writer/Male\", \"Team Sports/KY\", \"Natural Sciences/TX/Astronomer\", \"Social Sciences/NE\", \"Natural Sciences/OH\", \"Film And Theatre/NC\", \"Invention/AL/Inventor\", \"Music/LA/Singer\", \"Individual Sports/TX/Cyclist/Male\", \"Explorers/VA/Explorer/Male\", \"Companions/TX\", \"Design/Sin nombre/Architect/Male\", \"Dance/CA/Dancer\", \"Language/CT\", \"Individual Sports/NC/Tennis Player\", \"Government/MD/Politician/Female\", \"Team Sports/CA/American Football Player/Male\", \"Social Sciences/NY/Political Scientist\", \"Medicine/MD/Physician/Male\", \"Music/NY/Composer/Male\", \"Language/NE/Writer\", \"Explorers/OK\", \"Individual Sports/IL/Chessmaster/Male\", \"Individual Sports/FL/Tennis Player\", \"Music/NJ\", \"Companions/NY\", \"Team Sports/IN/Basketball Player\", \"Natural Sciences/Sin nombre/Physicist\", \"Natural Sciences/NY/Astronomer\", \"Government/Buckinghamshire/Politician\", \"Natural Sciences/Sin nombre/Archaeologist\", \"Government/ND/Politician\", \"Media Personality/MA\", \"Computer Science/CT/Computer Scientist/Male\", \"Film And Theatre/NM/Actor\", \"Language/RI/Writer/Male\", \"Business/Sin nombre/Producer/Male\", \"Government/OH/Politician/Male\", \"Social Sciences/IL/Political Scientist\", \"Explorers/OK/Astronaut\", \"Team Sports/NJ\", \"Natural Sciences/MO\", \"Music/NM/Singer\", \"Natural Sciences/IN/Chemist\", \"Outlaws/IL/Mafioso/Male\", \"Law/Sin nombre\", \"Individual Sports/NJ/Tennis Player/Male\", \"Fine Arts/WI/Artist/Female\", \"Natural Sciences/VT/Chemist\", \"Team Sports/Galicia/Soccer Player/Male\", \"Design/NY/Fashion Designer/Male\", \"Fine Arts/Sin nombre/Photographer/Male\", \"Fine Arts/IA/Photographer/Male\", \"Natural Sciences/TX/Chemist\", \"Computer Science/NY/Computer Scientist/Female\", \"Business/KS\", \"Individual Sports/MA/Boxer\", \"Natural Sciences/NH/Astronomer\", \"Music/MD/Musician/Male\", \"Government/CT\", \"Natural Sciences/OH/Physicist/Male\", \"Philosophy/Sin nombre/Philosopher/Female\", \"Government/Anhui\", \"Film And Theatre/UT\", \"Natural Sciences/Sin nombre/Physicist/Female\", \"Individual Sports/MA/Wrestler\", \"Film And Theatre/MI/Actor\", \"Natural Sciences/CT\", \"Individual Sports/MO/Wrestler\", \"Natural Sciences/WI/Chemist/Male\", \"Government/Sin nombre/Judge/Male\", \"Activism/Sin nombre/Social Activist/Male\", \"Film And Theatre/ND/Actor\", \"Music/IA/Singer\", \"Natural Sciences/MO/Chemist\", \"Medicine/WI/Physician\", \"Business/NM\", \"Business/NM/Businessperson/Male\", \"Explorers/TX/Astronaut/Male\", \"Companions/MA/Companion\", \"Music/VT\", \"Music/OH/Composer\", \"Film And Theatre/VA/Actor\", \"Individual Sports/Sin nombre/Snooker/Male\", \"Natural Sciences/TX\", \"Military/Sin nombre/Pilot\", \"Religion\", \"Business/TX/Businessperson/Male\", \"Natural Sciences/PA/Archaeologist\", \"Computer Science/CA/Computer Scientist\", \"Music/AZ/Musician/Female\", \"Math/Sin nombre/Mathematician/Male\", \"Social Sciences/WA/Economist\", \"Individual Sports/Sin nombre/Skier/Male\", \"Film And Theatre/OK/Actor/Male\", \"Music/VA/Singer\", \"Computer Science/MA/Computer Scientist/Male\", \"Medicine/NY/Physician/Male\", \"Fine Arts/Sin nombre/Artist\", \"Film And Theatre/NE/Actor/Female\", \"Film And Theatre/CO/Film Director/Male\", \"Individual Sports/OH/Wrestler/Male\", \"Natural Sciences/DE/Astronomer\", \"Business/IN/Businessperson\", \"Music/VA/Singer/Female\", \"Film And Theatre/MT/Actor/Female\", \"Language/OR/Writer/Male\", \"Media Personality/MO/Presenter\", \"Music/VA/Musician\", \"Individual Sports/MN/Skier\", \"Music/AL\", \"Language/AL/Writer/Female\", \"Language/IA/Writer/Male\", \"Language/IL/Writer/Male\", \"Social Sciences/IN/Economist/Male\", \"Language/OK/Writer/Male\", \"Government/ID\", \"Film And Theatre/KY/Actor/Female\", \"Government/Wales/Politician/Female\", \"Religion/Calabria\", \"Dance/Sin nombre\", \"Team Sports/Sin nombre/Hockey Player/Male\", \"Film And Theatre/IL/Actor\", \"Computer Science/PA\", \"Individual Sports/MD/Tennis Player/Male\", \"Government/HI/Politician/Male\", \"Film And Theatre/FL/Actor\", \"Military/W\\u00fcrttemberg/Military Personnel\", \"Religion/Calabria/Religious Figure/Male\", \"Film And Theatre/Sin nombre/Comedian/Male\", \"Media Personality/TX/Presenter/Male\", \"Natural Sciences/NH\", \"Team Sports/Sin nombre/Coach/Male\", \"Design/OR\", \"Music/Sin nombre/Composer/Male\", \"Government/WI/Politician/Male\", \"Invention/MI/Inventor/Male\", \"Business/WA\", \"Social Sciences/NY/Economist\", \"Business/Sin nombre\", \"Team Sports/Galicia/Soccer Player\", \"Social Sciences/PA/Economist/Male\", \"Film And Theatre/VA\", \"Invention/Sin nombre/Inventor\", \"Team Sports/OH/Soccer Player/Male\", \"Team Sports/CO\", \"Film And Theatre/WA/Actor\", \"Team Sports/TX\", \"Computer Science/CT\", \"Social Sciences/SC/Psychologist/Male\", \"Team Sports/PA/Basketball Player/Male\", \"Companions/NY/Companion/Female\", \"Government/KS\", \"Natural Sciences/TN/Astronomer\", \"Explorers/Sin nombre/Astronaut/Male\", \"Military/Sin nombre/Military Personnel/Male\", \"Language/KY/Writer/Male\", \"Individual Sports/CA/Wrestler\", \"Music/NY/Singer/Male\", \"Film And Theatre/TX/Actor/Female\", \"Design/Sin nombre/Fashion Designer/Male\", \"Team Sports/TN/Basketball Player/Male\", \"Fine Arts/IA/Painter/Male\", \"Individual Sports/MI/Tennis Player\", \"Music/UT/Musician\", \"Natural Sciences/NJ/Physicist\", \"Natural Sciences/Sin nombre/Physicist/Male\", \"Natural Sciences/WI/Physicist\", \"Government/Pernambuco/Politician/Male\", \"Film And Theatre/ME/Film Director/Male\", \"Music/OH/Composer/Male\", \"Individual Sports/NV/Tennis Player\", \"Natural Sciences/CT/Biologist/Male\", \"Music/TN/Musician/Male\", \"Government/ND\", \"Activism/GA/Social Activist/Male\", \"Explorers/VA/Explorer\", \"Government/SD/Politician/Male\", \"Medicine/CA/Physician\", \"Film And Theatre/MS/Actor/Female\", \"Companions/NV/Companion/Female\", \"Natural Sciences/NE/Biologist\", \"Individual Sports/NJ/Swimmer/Female\", \"Music/SC/Musician\", \"Natural Sciences/PA/Biologist\", \"Dance/CA/Dancer/Female\", \"Music/Sin nombre/Singer/Female\", \"Film And Theatre/UT/Actor/Female\", \"Design/NY/Comic Artist\", \"Natural Sciences/NY/Astronomer/Male\", \"Natural Sciences/IL/Astronomer/Male\", \"History/NY/Historian/Male\", \"Medicine/NJ\", \"Government/CT/Politician\", \"Film And Theatre/MD/Actor\", \"Language/NY/Journalist\", \"Natural Sciences/Sin nombre/Chemist\", \"Natural Sciences/VT/Chemist/Male\", \"Natural Sciences/NY/Chemist/Male\", \"Individual Sports/VA/Tennis Player/Male\", \"Natural Sciences/CT/Astronomer/Male\", \"Music/NC/Singer\", \"Media Personality/IL\", \"Music/NC/Musician\", \"Film And Theatre/SC\", \"Computer Science/MD\", \"Music/VA\", \"Military/Pyr\\u00e9n\\u00e9es-Atlantiques/Military Personnel\", \"Natural Sciences/IL/Biologist\", \"Film And Theatre/MA/Actor\", \"Team Sports/LA/Basketball Player\", \"Language/NJ/Journalist\", \"Natural Sciences/NC/Chemist/Male\", \"Film And Theatre/AR\", \"Explorers/CA/Astronaut\", \"Fine Arts/Sin nombre/Painter/Male\", \"Military/WV/Military Personnel/Male\", \"Language/NY/Linguist\", \"Individual Sports/LA/Chessmaster\", \"Outlaws/Sin nombre/Mafioso\", \"Natural Sciences/MN/Chemist\", \"Individual Sports/MD/Swimmer/Male\", \"Philosophy/MD/Philosopher/Male\", \"Individual Sports/MA/Boxer/Male\", \"Religion/Sin nombre/Religious Figure\", \"Math/NY/Mathematician\", \"Philosophy/OH/Philosopher/Female\", \"Religion/Sin nombre/Religious Figure/Female\", \"Math/Sin nombre/Statistician\", \"Outlaws/NY/Extremist/Male\", \"Business/KY\", \"Media Personality/NY/Pornographic Actor/Female\", \"Film And Theatre/PA\", \"Philosophy/MA/Philosopher\", \"Film And Theatre/MD/Actor/Male\", \"Film And Theatre/TX/Comedian\", \"Language/IL/Linguist\", \"Government/MD\", \"Film And Theatre/OK/Actor/Female\", \"Team Sports/Sin nombre/Baseball Player/Male\", \"Activism/VT/Social Activist/Female\", \"Music/GA/Singer/Female\", \"Explorers/NJ\", \"Fine Arts/NY/Painter/Male\", \"Film And Theatre/GA\", \"Religion/Piedmont/Religious Figure/Male\", \"Government/TN/Politician/Male\", \"Social Sciences/NJ/Economist/Male\", \"Individual Sports/NY/Boxer/Male\", \"Music/IL/Singer/Female\", \"Music/KY/Musician/Male\", \"Math/CT\", \"Music/NE/Musician\", \"Outlaws/OH/Extremist/Male\", \"Dance/CA\", \"Individual Sports/Loire\", \"Military/CT\", \"Team Sports/Sin nombre/Soccer Player/Female\", \"Individual Sports/NH/Skier/Male\", \"Social Sciences/Sin nombre/Economist/Female\", \"Philosophy/OH/Philosopher/Male\", \"Activism/ME/Social Activist/Female\", \"Film And Theatre/CT/Actor/Female\", \"Social Sciences/Yvelines/Economist\", \"Natural Sciences/DE/Biologist/Male\", \"Film And Theatre/NJ/Actor\", \"Team Sports/CO/Basketball Player/Male\", \"Outlaws/NY\", \"Natural Sciences/MT/Astronomer\", \"Film And Theatre/Sin nombre/Actor\", \"Film And Theatre/MT\", \"Companions\", \"Military/Sin nombre\", \"Film And Theatre/DE\", \"Individual Sports/TX/Boxer\", \"Individual Sports/CA/Golfer/Male\", \"Law/OH/Lawyer/Male\", \"Fine Arts/WI\", \"Team Sports/NJ/Soccer Player\", \"Government/CA/Diplomat/Male\", \"Natural Sciences/Sin nombre/Biologist/Female\", \"Individual Sports/Loire/Racecar Driver\", \"Fine Arts/IA/Painter\", \"Explorers/IN/Astronaut/Male\", \"Design/WI/Architect\", \"Film And Theatre/TN/Film Director/Male\", \"Dance/PA/Dancer\", \"Government/WA/Politician/Male\", \"Natural Sciences/MA/Chemist\", \"Film And Theatre/IA/Actor/Female\", \"Natural Sciences/MA/Biologist\", \"Team Sports/Sin nombre/Referee/Male\", \"Film And Theatre/SC/Actor/Female\", \"Computer Science/WI\", \"Team Sports/GA/Baseball Player/Male\", \"Government/AL\", \"Film And Theatre/PA/Actor\", \"Music/HI/Singer/Female\", \"Natural Sciences/IL/Astronomer\", \"Film And Theatre/SD/Actor\", \"Government/CO\", \"Individual Sports/CA/Athlete\", \"Law/WV/Lawyer\", \"Individual Sports/GA/Athlete/Male\", \"Individual Sports/NE/Tennis Player/Male\", \"Natural Sciences/DE\", \"Companions/VA/Companion\", \"Film And Theatre/WI/Actor/Male\", \"Social Sciences/Sin nombre/Political Scientist/Male\", \"Media Personality/TN/Presenter/Male\", \"Natural Sciences/NY/Physicist/Female\", \"Music/CT/Composer/Male\", \"Film And Theatre/HI/Actor\", \"Fine Arts/PA\", \"Invention/NY/Inventor\", \"Individual Sports/TX/Athlete\", \"Government/CA/Politician\", \"Computer Science/MA\", \"Team Sports/MD/Baseball Player/Male\", \"Film And Theatre/AR/Actor/Male\", \"Government/VA/Politician\", \"Language/WI\", \"Business/PA/Producer\", \"Business/HI/Businessperson\", \"Government/TX/Politician/Female\", \"Language/GA\", \"Dance/MO/Dancer\", \"Religion/NC/Religious Figure/Male\", \"Government/NY/Judge/Male\", \"Film And Theatre/TN\", \"Invention/Sin nombre/Inventor/Male\", \"Activism/ME/Social Activist\", \"Military/OH/Military Personnel\", \"Natural Sciences/ID/Physicist\", \"Invention/CT/Inventor\", \"Language/Sin nombre/Critic\", \"Explorers/NM\", \"Music/CA/Musician\", \"Social Sciences/OR/Economist\", \"Natural Sciences/ID\", \"Natural Sciences/MA/Astronomer/Male\", \"Individual Sports/IN/Athlete/Male\", \"Activism/NE/Social Activist/Male\", \"Medicine/AL/Physician/Male\", \"Music/FL\", \"Natural Sciences/FL\", \"Individual Sports/AL/Athlete\", \"Film And Theatre/TN/Actor/Male\", \"Individual Sports/MI/Wrestler\", \"Social Sciences/PA/Anthropologist/Female\", \"Individual Sports/NC/Wrestler\", \"Explorers/OH/Astronaut/Female\", \"Media Personality/Sin nombre/Magician\", \"Medicine/WA/Physician\", \"Design/OR/Comic Artist\", \"Invention/MI/Inventor\", \"Individual Sports/VA\", \"Team Sports/Sin nombre/Basketball Player/Male\", \"Social Sciences/NC/Economist\", \"Music/MO/Musician/Male\", \"Film And Theatre/FL/Actor/Male\", \"Film And Theatre/CO/Actor/Female\", \"Explorers/PA\", \"Business/MI/Producer\", \"Film And Theatre/KY/Film Director\", \"Film And Theatre/WA/Actor/Male\", \"Film And Theatre/VA/Actor/Male\", \"Social Sciences/MA/Economist\", \"Government/NH\", \"Film And Theatre/NE/Actor/Male\", \"Philosophy/MD\", \"Individual Sports/Sin nombre/Chessmaster/Male\", \"Team Sports/NJ/Basketball Player/Male\", \"Military/OH\", \"Team Sports/OH\", \"Film And Theatre/MT/Actor/Male\", \"Government/HI/Nobleman\", \"Music/IA/Musician/Male\", \"Natural Sciences/IN/Chemist/Male\", \"Fine Arts/PA/Sculptor/Male\", \"Government/AL/Politician\", \"Natural Sciences/NJ/Physicist/Male\", \"Math/Cantal\", \"Film And Theatre/LA\", \"Natural Sciences/MN/Biologist/Male\", \"Team Sports/TX/Soccer Player/Male\", \"Team Sports/Sin nombre/Soccer Player/Male\", \"Activism/NY/Social Activist/Female\", \"Government/MD/Politician\", \"Military/SC/Military Personnel/Male\", \"Film And Theatre/RI\", \"Music/TN/Musician\", \"Government/LA/Politician\", \"Individual Sports/CA\", \"Government/VA/Politician/Male\", \"Natural Sciences/SC\", \"Team Sports/Sin nombre/Coach\", \"Media Personality/NJ/Magician\", \"Team Sports/Sin nombre/Hockey Player\", \"Music/LA/Singer/Male\", \"Media Personality/NY/Magician/Male\", \"Music/WA/Musician/Male\", \"Music/HI/Singer\", \"Language/CA\", \"Religion/NC\", \"Fine Arts/TX/Painter/Male\", \"Medicine\", \"Social Sciences/Sin nombre\", \"Team Sports/AL\", \"Religion/Sin nombre\", \"Natural Sciences/TX/Astronomer/Male\", \"Music/IN\", \"Language/CO/Writer/Male\", \"Individual Sports/OH/Wrestler\", \"Individual Sports/MI/Tennis Player/Female\", \"Language/MD/Writer\", \"Natural Sciences/MI/Biologist\", \"Language/OH/Writer/Male\", \"Music/WA/Musician\", \"Film And Theatre/MA/Film Director/Male\", \"Language/MD/Writer/Female\", \"Social Sciences/MI\", \"Activism/MA\", \"Computer Science/PA/Computer Scientist/Male\", \"Philosophy/Indre-et-Loire/Philosopher\", \"Computer Science/CA/Computer Scientist/Male\", \"Government/Segovia/Politician\", \"History/Sin nombre/Historian\", \"Social Sciences\", \"Film And Theatre/IN/Actor/Male\", \"Business/KS/Businessperson/Male\", \"Government/Oxfordshire/Politician\", \"Computer Science/MD/Computer Scientist/Male\", \"Invention/OR/Inventor/Male\", \"Media Personality/Sin nombre\", \"Government/Anhui/Politician/Male\", \"Outlaws/MO\", \"Computer Science/LA/Computer Scientist/Male\", \"Music/MI\", \"Individual Sports/OH/Athlete/Male\", \"Team Sports/CO/Basketball Player\", \"Natural Sciences/IA/Astronomer\", \"Language/ME/Writer/Male\", \"Film And Theatre/MN/Actor\", \"Military/MI/Pilot\", \"Individual Sports/OK/Athlete/Male\", \"Team Sports/IL/Soccer Player/Male\", \"Language/RI\", \"Government/IN/Politician/Male\", \"Individual Sports/FL/Racecar Driver\", \"Film And Theatre/IL\", \"Fine Arts/CT/Photographer/Female\", \"Natural Sciences/Sin nombre/Biologist/Male\", \"Government/ME/Politician/Male\", \"Individual Sports/NY/Wrestler/Male\", \"Team Sports/Sin nombre/Cricketer\", \"Medicine/Sin nombre/Physician/Female\", \"Language/CA/Writer/Male\", \"Individual Sports/IN\", \"Music/MO\", \"Invention/AL/Inventor/Male\", \"Government/CT/Politician/Male\", \"Computer Science/MI/Computer Scientist\", \"Fine Arts/CA/Photographer/Male\", \"Social Sciences/IL/Political Scientist/Male\", \"Social Sciences/SD/Economist\", \"Social Sciences/GA/Economist\", \"Music/Sin nombre/Conductor\", \"Religion/Gilead/Religious Figure/Male\", \"Fine Arts/GA/Painter/Male\", \"Language/CA/Writer\", \"Language/NC/Writer\", \"Language/LA/Writer\", \"Philosophy/Indre-et-Loire/Philosopher/Male\", \"History\", \"Film And Theatre/MD/Actor/Female\", \"Music/WA\", \"Philosophy/NY/Philosopher/Male\", \"Military/Sin nombre/Pilot/Male\", \"Social Sciences/NY/Anthropologist/Female\", \"Activism/NE/Social Activist\", \"Language/ID/Writer\", \"Music/CA/Singer/Male\", \"Fine Arts/Sin nombre/Artist/Female\", \"Social Sciences/CA/Economist\", \"Music/IN/Singer/Male\", \"Business/TX/Businessperson/Female\", \"Government/Buckinghamshire/Politician/Male\", \"Natural Sciences/NE\", \"Team Sports/AL/Soccer Player/Female\", \"Film And Theatre/IN/Film Director/Male\", \"Music/IA/Musician\", \"Business/MI/Businessperson\", \"Music/LA/Musician\", \"Music/PA/Singer/Female\", \"Business/CA/Businessperson\", \"Business/IL/Producer\", \"Music/PA/Musician/Male\", \"Team Sports/IN\", \"Activism/AL/Social Activist/Female\", \"Language/LA/Writer/Female\", \"Government/MI/Diplomat/Male\", \"Language/LA\", \"Language/SC/Writer/Male\", \"Film And Theatre/KY/Film Director/Male\", \"Philosophy/CO/Philosopher\", \"Philosophy/OH/Philosopher\", \"Film And Theatre/MS/Actor/Male\", \"Film And Theatre/KS/Actor\", \"Film And Theatre/ND/Actor/Male\", \"Activism/ME\", \"Natural Sciences/Sin nombre/Chemist/Male\", \"Film And Theatre/OR/Actor\", \"Individual Sports/KY/Athlete\", \"Fine Arts/NY\", \"Engineering/MO\", \"Business/MI/Businessperson/Male\", \"Natural Sciences/NH/Astronomer/Male\", \"Individual Sports/Sin nombre/Athlete/Male\", \"Team Sports/OH/Basketball Player/Male\", \"Film And Theatre/CA/Actor/Male\", \"Individual Sports/MA/Wrestler/Male\", \"Religion/Calabria/Religious Figure\", \"Design/MI/Comic Artist\", \"Music/UT/Musician/Female\", \"Social Sciences/CO\", \"Government/HI/Nobleman/Female\", \"Media Personality/TN/Model/Female\", \"Individual Sports/TN\", \"Language/PA/Linguist/Male\", \"Music/FL/Singer\", \"Military/Sin nombre/Pilot/Female\", \"Music/TX/Musician/Female\", \"Government/IA/Politician/Female\", \"Military/CA/Military Personnel/Male\", \"Design/Sin nombre/Fashion Designer/Female\", \"Religion/Galilee/Religious Figure\", \"Music/MA/Musician/Male\", \"Invention/CA\", \"Individual Sports/Sin nombre/Golfer/Male\", \"Government/CA\", \"Individual Sports/IL/Athlete\", \"Natural Sciences/CT/Physicist\", \"Music/MA/Composer\", \"Social Sciences/NE/Economist\", \"Music/NJ/Singer/Male\", \"Government/VT/Politician/Male\", \"Music/ND/Singer/Male\", \"Natural Sciences/MA/Astronomer\", \"Natural Sciences/NY/Archaeologist\", \"Natural Sciences/MO/Astronomer\", \"Music/Sin nombre/Singer/Male\", \"Outlaws/Sin nombre/Pirate\", \"Music/SC/Singer\", \"Government/TX/Politician/Male\", \"Fine Arts/OK/Artist\", \"Outlaws/VT/Extremist\", \"Individual Sports/MD/Tennis Player\", \"Engineering/MO/Engineer\", \"Fine Arts/WI/Artist\", \"Music/IL/Singer/Male\", \"Engineering/NJ/Engineer\", \"Outlaws/NY/Extremist\", \"Music/OH/Singer\", \"Government/ME/Politician\", \"Explorers/NM/Astronaut\", \"Government/NC/Politician\", \"Media Personality/TX/Celebrity\", \"Military/WV/Military Personnel\", \"Individual Sports/GA/Wrestler/Male\", \"Social Sciences/VT/Psychologist\", \"Activism/IL/Social Activist\", \"Media Personality/CA/Celebrity\", \"Film And Theatre/WI/Film Director\", \"Math/Sin nombre/Statistician/Male\", \"Military/CT/Military Personnel\", \"Activism/MA/Social Activist/Male\", \"Music/GA/Singer\", \"Individual Sports/TN/Athlete\", \"Language/MA/Writer/Male\", \"Government/NY/Diplomat\", \"Activism/SC/Social Activist\", \"Language/NJ/Writer/Male\", \"Media Personality/NY/Magician\", \"Film And Theatre/AL/Actor\", \"Film And Theatre/CO/Actor\", \"Computer Science/MA/Computer Scientist\", \"Music/MA/Singer\", \"Individual Sports/CA/Skater/Male\", \"Individual Sports/VA/Athlete\", \"Individual Sports/NJ/Swimmer\", \"Film And Theatre/TN/Film Director\", \"Music/MD/Singer/Male\", \"Film And Theatre/AL/Actor/Female\", \"Individual Sports/NJ/Tennis Player\", \"Natural Sciences/GA\", \"Natural Sciences/MA/Biologist/Male\", \"Individual Sports/NC\", \"Individual Sports/GA\", \"Language/NC\", \"Invention/CA/Inventor/Male\", \"Activism/MA/Social Activist/Female\", \"Companions/KY/Companion/Female\", \"Social Sciences/CT\", \"Team Sports/WV/Basketball Player/Male\", \"Individual Sports/CA/Swimmer/Female\", \"Government/CA/Judge/Male\", \"Law/WV/Lawyer/Male\", \"Language/NY/Linguist/Male\", \"Film And Theatre/WI/Film Director/Male\", \"Media Personality/Sin nombre/Celebrity/Female\", \"Media Personality/PA/Celebrity/Female\", \"Government/SC/Politician/Male\", \"Natural Sciences/CO\", \"Military/NJ/Military Personnel/Male\", \"Natural Sciences/PA/Biologist/Female\", \"Language/CT/Writer/Female\", \"Individual Sports/IL/Athlete/Female\", \"Individual Sports/CA/Athlete/Female\", \"Language/GA/Writer/Female\", \"Team Sports/IN/Basketball Player/Male\", \"Religion/PA\", \"Natural Sciences/MA/Astronomer/Female\", \"Music/MN/Musician/Male\", \"Language/MO/Writer/Female\", \"Math/NY/Mathematician/Male\", \"Government/VA/Diplomat/Female\", \"Music/IA\", \"Outlaws/Sin nombre/Extremist/Female\", \"Music/NH/Singer/Female\", \"Music/MA/Singer/Female\", \"Design/OR/Comic Artist/Male\", \"Natural Sciences/MN/Chemist/Male\", \"Music/NJ/Singer/Female\", \"Music/CA/Singer/Female\", \"Natural Sciences/MA/Chemist/Male\", \"Film And Theatre/SD\", \"Natural Sciences/IA/Chemist/Male\", \"Natural Sciences/GA/Chemist/Male\", \"Companions/MA\", \"Natural Sciences/CT/Chemist/Male\", \"Government/HI/Politician/Female\", \"Music/OK/Singer/Female\", \"Government/CT/Diplomat/Male\", \"Natural Sciences/MI\", \"Government/Sin nombre/Nobleman/Female\", \"Film And Theatre/NY/Film Director/Female\", \"Activism/IL/Social Activist/Female\", \"Language/Sin nombre/Journalist/Female\", \"Government/NY/Judge/Female\", \"Individual Sports/Sin nombre/Boxer/Male\", \"Language/IL\", \"Music/NE/Musician/Male\", \"Business/IL/Businessperson/Male\", \"Military/Sin nombre/Military Personnel/Female\", \"Media Personality/CA/Model/Female\", \"Language/OK\", \"Business/IN/Businessperson/Male\", \"Social Sciences/WA/Economist/Male\", \"Team Sports/TN\", \"Music/IL\", \"Music/NH/Musician/Male\", \"Natural Sciences/SC/Chemist/Male\", \"Natural Sciences/MD/Physicist/Male\", \"Natural Sciences/Ardennes/Astronomer/Male\", \"Explorers\", \"Film And Theatre/HI/Actor/Female\", \"Military/NJ\", \"Film And Theatre/MN/Actor/Male\", \"Film And Theatre/IA/Actor/Male\", \"Film And Theatre/KY/Actor/Male\", \"Language/WA/Writer\", \"Design/CT/Architect/Male\", \"Language/NH/Writer\", \"Language/WV/Writer/Female\", \"Film And Theatre/CO/Actor/Male\", \"Film And Theatre/AL/Actor/Male\", \"Natural Sciences/IA/Astronomer/Male\", \"Natural Sciences/WA/Physicist/Male\", \"Film And Theatre/TN/Actor/Female\", \"Film And Theatre/NJ/Actor/Female\", \"Film And Theatre/RI/Actor/Female\", \"Music/NY\", \"Design/Sin nombre/Architect/Female\", \"Film And Theatre/AR/Actor/Female\", \"Government/KS/Politician/Male\", \"Film And Theatre/CA/Actor/Female\", \"Film And Theatre/NJ\", \"Language/MN/Writer\", \"Film And Theatre/DE/Actor/Female\", \"Military/MI\", \"Outlaws/MD/Extremist\", \"Business/MI\", \"Fine Arts/TX\", \"Invention/MA/Inventor/Male\", \"Business/NC/Businessperson\", \"Individual Sports/NE/Wrestler\", \"Math/MA/Mathematician\", \"Language/MA/Writer/Female\", \"Fine Arts/OK/Artist/Female\", \"Team Sports/WA/Soccer Player/Female\", \"Natural Sciences/PA/Physicist/Male\", \"Design/Sin nombre/Designer\", \"Government/W\\u00fcrttemberg/Politician/Male\", \"Outlaws/IN/Mafioso/Male\", \"Philosophy/CO/Philosopher/Male\", \"Natural Sciences/CT/Chemist\", \"Natural Sciences/MD/Chemist\", \"Government/WI/Diplomat/Male\", \"Film And Theatre/MN/Actor/Female\", \"Film And Theatre/MO/Actor/Female\", \"Language/GA/Writer\", \"Language/IL/Writer\", \"Language/NE/Writer/Male\", \"Engineering/NJ/Engineer/Male\", \"Natural Sciences/OR/Chemist\", \"Social Sciences/CT/Economist/Male\", \"Government/NY/Diplomat/Male\", \"Team Sports/Sin nombre\", \"Military/NY/Military Personnel\", \"Language/Sin nombre/Critic/Male\", \"Government/W\\u00fcrttemberg/Politician\", \"Government/Wales/Politician\", \"Medicine/NY/Physician\", \"Government/MA\", \"Individual Sports/Sin nombre/Tennis Player\", \"Philosophy/Shandong Province/Philosopher\", \"Individual Sports/AL/Boxer\", \"Law/WV\", \"Language/IL/Linguist/Male\", \"Government/Pernambuco\", \"Activism/NE\", \"Government/Sin nombre/Nobleman\", \"Music/CT\", \"Music/CA/Composer\", \"Music/MN/Singer\", \"Individual Sports/FL/Tennis Player/Female\", \"Language/Sin nombre/Journalist/Male\", \"Music/TX/Musician/Male\", \"Team Sports/CA\", \"Natural Sciences/MA/Physicist\", \"Invention/NY/Inventor/Male\", \"Music/NH\", \"Natural Sciences/IA/Biologist/Male\", \"Natural Sciences/UT/Biologist/Male\", \"Film And Theatre/Sin nombre/Film Director/Male\", \"Social Sciences/GA\", \"Individual Sports/NY/Swimmer/Male\", \"Music/NY/Singer\", \"Government/AZ\", \"Natural Sciences/PA\", \"Business/NY\", \"Fine Arts/MA/Painter/Male\", \"Activism/AL/Social Activist\", \"Military/VA\", \"Film And Theatre/Sin nombre\", \"Natural Sciences/MO/Astronomer/Male\", \"Individual Sports/NH\", \"Religion/Lazio\", \"Invention/CT\", \"Music/TX/Singer\", \"Music/MI/Musician\", \"Media Personality/PA\", \"Social Sciences/PA\", \"Film And Theatre/OR\", \"Government/SD\", \"Fine Arts/IA/Photographer\", \"Fine Arts/Sin nombre/Photographer\", \"Fine Arts/GA/Painter\", \"Music/MN/Musician\", \"Government/PA\", \"Language/PA\", \"Music/NH/Musician\", \"Music/OH/Musician\", \"Philosophy/NY/Philosopher\", \"Music/OK/Musician\", \"Individual Sports/SC\", \"Music/ND/Musician\", \"Philosophy/Sin nombre/Philosopher\", \"Language/SC\", \"Military/SC\", \"Activism/SC\", \"Music/MS/Musician\", \"Social Sciences/SC\", \"Music/MO/Musician\", \"Business/PA\", \"Invention/PA\", \"Music/IN/Musician\", \"Religion/Piedmont\", \"Fine Arts/CT/Photographer\", \"Fine Arts/NY/Painter\", \"Fine Arts/MA/Painter\", \"Fine Arts/CA/Photographer\", \"Government/TX\", \"Social Sciences/SD\", \"Film And Theatre/NY/Film Director\", \"Film And Theatre/OH/Film Director\", \"Film And Theatre/PA/Film Director\", \"Activism\", \"Government/Wales\", \"Film And Theatre/TX/Film Director\", \"Design/GA/Game Designer\", \"Team Sports/WV\", \"Military/WV\", \"Math/WV\", \"Social Sciences/Sin nombre/Geographer\", \"Natural Sciences/OH/Geologist\", \"Natural Sciences/Sin nombre/Geologist\", \"Individual Sports/Sin nombre/Gymnast\", \"Language/WV\", \"History/MA/Historian\", \"History/OH/Historian\", \"Social Sciences/WI\", \"Natural Sciences/WI\", \"Film And Theatre/NM/Film Director\", \"Film And Theatre/MT/Film Director\", \"Computer Science\", \"Film And Theatre/MO/Film Director\", \"Outlaws/IN/Extremist\", \"Outlaws/OH/Extremist\", \"Philosophy\", \"Natural Sciences\", \"Outlaws/WI/Extremist\", \"Design/NY/Fashion Designer\", \"Military\", \"Media Personality\", \"Film And Theatre/GA/Film Director\", \"Medicine/WI\", \"Law\", \"Invention\", \"Individual Sports\", \"Film And Theatre/IL/Film Director\", \"Film And Theatre/IN/Film Director\", \"Government\", \"Film And Theatre/MA/Film Director\", \"Dance\", \"Film And Theatre/ME/Film Director\", \"Film And Theatre/MI/Film Director\", \"Language\", \"Music/IL/Musician\", \"Invention/WI\", \"Film And Theatre/WA\", \"Math/NJ/Mathematician\", \"Media Personality/TN\", \"Math/WV/Mathematician\", \"Government/TN\", \"Medicine/Sin nombre\", \"Math/Sin nombre\", \"Military/PA/Military Personnel\", \"Government/Sin nombre\", \"Military/TX/Military Personnel\", \"Military/VA/Military Personnel\", \"Explorers/Sin nombre\", \"Design/Sin nombre\", \"Media Personality/Sin nombre/Model\", \"Companions/Sin nombre\", \"Media Personality/TN/Model\", \"Music/AL/Musician\", \"Music/AZ/Musician\", \"Team Sports/Sao Paulo\", \"Music/GA/Musician\", \"Social Sciences/TN\", \"Math/Cantal/Mathematician\", \"Business/TX\", \"Explorers/TX\", \"Activism/WA\", \"Invention/PA/Inventor\", \"Religion/VT\", \"Outlaws/VT\", \"Government/VT\", \"Natural Sciences/VA\", \"Language/Sin nombre/Journalist\", \"Language/VA\", \"Natural Sciences/UT\", \"Medicine/WA\", \"Law/OH/Lawyer\", \"Law/Sin nombre/Lawyer\", \"Outlaws/TX\", \"Medicine/TX\", \"Language/TX\", \"Language/PA/Linguist\", \"Individual Sports/TX\", \"Language/Sin nombre/Linguist\", \"Outlaws/IL/Mafioso\", \"Film And Theatre/TX\", \"Activism/Tamaulipas\", \"Medicine/IN/Physician\", \"Music/ND\", \"Medicine/MN/Physician\", \"Music/AR/Singer\", \"Music/AZ/Singer\", \"Fine Arts/CT\", \"Film And Theatre/CT\", \"Philosophy/CO\", \"Music/IL/Singer\", \"Natural Sciences/CA\", \"Music/CA\", \"Military/CA\", \"Music/AL/Singer\", \"Media Personality/CA\", \"Film And Theatre/CA\", \"Explorers/CA\", \"Music/MO/Singer\", \"Design/CA\", \"Music/ND/Singer\", \"Music/NH/Singer\", \"Companions/CA\", \"Government/Buckinghamshire\", \"Film And Theatre/AZ\", \"Outlaws/IL/Extremist\", \"Fine Arts/Sin nombre/Sculptor\", \"Fine Arts/PA/Sculptor\", \"Government/County Mayo\", \"Natural Sciences/IL\", \"Business/NY/Producer\", \"Individual Sports/IL\", \"Government/IL\", \"Explorers/IL\", \"Business/TX/Producer\", \"Social Sciences/NJ/Psychologist\", \"Social Sciences/NY/Psychologist\", \"Social Sciences/SC/Psychologist\", \"Film And Theatre/ID\", \"Social Sciences/Sin nombre/Psychologist\", \"Film And Theatre/HI\", \"Team Sports/Galicia\", \"Individual Sports/CA/Racecar Driver\", \"Individual Sports/WI/Racecar Driver\", \"Music/GA\", \"Religion/Ancona/Religious Figure\", \"Film And Theatre/FL\", \"Religion/Gilead/Religious Figure\", \"Religion/Lazio/Religious Figure\", \"Religion/Piedmont/Religious Figure\", \"Team Sports/AR\", \"Music/OK/Singer\", \"Music/PA/Singer\", \"Music/AR\", \"Language/MA/Writer\", \"Activism/Tamaulipas/Social Activist\", \"Activism/WA/Social Activist\", \"Social Sciences/NY/Sociologist\", \"Social Sciences/PA/Sociologist\", \"Social Sciences/Sin nombre/Sociologist\", \"Language/CO/Writer\", \"Language/AR/Writer\", \"Individual Sports/CA/Swimmer\", \"Language/AL/Writer\", \"Individual Sports/SC/Wrestler\", \"Individual Sports/MD/Swimmer\", \"Individual Sports/PA/Wrestler\", \"Individual Sports/OK/Wrestler\", \"Individual Sports/Sin nombre/Swimmer\", \"Individual Sports/CA/Tennis Player\", \"Individual Sports/NY/Wrestler\", \"Individual Sports/NH/Wrestler\", \"Individual Sports/IN/Wrestler\", \"Individual Sports/VA/Tennis Player\", \"Individual Sports/IL/Tennis Player\", \"Language/ME/Writer\", \"Social Sciences/IL\", \"Language/MO/Writer\", \"Activism/MA/Social Activist\", \"Military/AR\", \"Government/AR\", \"Music/Sin nombre/Singer\", \"Natural Sciences/AL\", \"Music/TN/Singer\", \"Individual Sports/PA/Skater\", \"Medicine/AL\", \"Language/AL\", \"Invention/AL\", \"Team Sports/AL/Soccer Player\", \"Individual Sports/AL\", \"Language/WV/Writer\", \"Language/WI/Writer\", \"Team Sports/Sin nombre/Soccer Player\", \"Language/VA/Writer\", \"Team Sports/Victoria/Soccer Player\", \"Language/TX/Writer\", \"Language/OK/Writer\", \"Language/NJ/Writer\", \"Activism/Eastern Cape/Social Activist\", \"Language/MS/Writer\", \"Activism/MD/Social Activist\", \"Media Personality/TN/Presenter\", \"Team Sports/IL\", \"Computer Science/IN\", \"Natural Sciences/SC/Physicist\", \"Explorers/NH\", \"Language/NE\", \"Natural Sciences/VA/Physicist\", \"Natural Sciences/WA/Physicist\", \"Military/KS/Pilot\", \"Film And Theatre/ND\", \"Team Sports/NC\", \"Social Sciences/NC\", \"Natural Sciences/NC\", \"Music/NC\", \"Natural Sciences/MT\", \"Government/AR/Politician\", \"Music/MS\", \"Media Personality/MS\", \"Language/MS\", \"Film And Theatre/MS\", \"Government/IA/Politician\", \"Language/MO\", \"Music/MN\", \"Language/MN\", \"Medicine/NH\", \"Individual Sports/MN\", \"Natural Sciences/NE/Physicist\", \"Natural Sciences/MI/Physicist\", \"Medicine/NH/Physician\", \"Medicine/NJ/Physician\", \"Media Personality/OH\", \"Individual Sports/OH\", \"Explorers/OH\", \"Design/OH\", \"Team Sports/NY\", \"Philosophy/NY\", \"Natural Sciences/CA/Physicist\", \"Media Personality/NY\", \"Natural Sciences/CO/Physicist\", \"Language/NY\", \"Computer Science/NY\", \"Media Personality/NV\", \"Government/NM\", \"Natural Sciences/IL/Physicist\", \"Social Sciences/NJ\", \"Media Personality/NJ\", \"Language/NJ\", \"Individual Sports/NJ\", \"Natural Sciences/MD/Physicist\", \"Natural Sciences/MO/Physicist\", \"Medicine/MA/Physician\", \"Design/MN\", \"Government/MA/Politician\", \"Design/MA\", \"Government/La Rioja\", \"Outlaws/LA\", \"Media Personality/CA/Pornographic Actor\", \"Government/LA\", \"Music/Komi ASSR\", \"Government/Kaluga Oblast\", \"Media Personality/NV/Pornographic Actor\", \"Media Personality/NY/Pornographic Actor\", \"Media Personality/OH/Pornographic Actor\", \"Music/KY\", \"Government/KY\", \"Film And Theatre/KY\", \"Design/KY\", \"Companions/KY\", \"Natural Sciences/KS\", \"Philosophy/Indre-et-Loire\", \"Media Personality/Sin nombre/Pornographic Actor\", \"Medicine/IN\", \"Media Personality/IN/Presenter\", \"Explorers/IN\", \"Government/TN/Politician\", \"Team Sports/MI\", \"Government/Sin nombre/Politician\", \"History/MA\", \"Government/MI/Politician\", \"Government/MO/Politician\", \"Government/MI\", \"Film And Theatre/MI\", \"Computer Science/MI\", \"Government/NH/Politician\", \"Language/ME\", \"Government/ME\", \"Government/NM/Politician\", \"Film And Theatre/ME\", \"Outlaws/MD\", \"Government/OH/Politician\", \"Social Sciences/MA\", \"Philosophy/MA\", \"Natural Sciences/MA\", \"Government/Pernambuco/Politician\", \"Medicine/MA\", \"Math/MA\", \"Government/SC/Politician\", \"Language/MA\", \"Government/SD/Politician\", \"Film And Theatre/MA\", \"Fine Arts/CA\", \"Media Personality/Sin nombre/Chef\", \"Explorers/Sin nombre/Explorer\", \"Music/NC/Musician/Male\", \"Music/NY/Musician/Male\", \"Music/OH/Musician/Male\", \"Music/OK/Musician/Male\", \"Music/SC/Musician/Male\", \"Music/Sin nombre/Musician/Male\", \"Fine Arts/WY/Painter/Male\", \"Philosophy/IL/Philosopher/Male\", \"Philosophy/MA/Philosopher/Male\", \"Philosophy/Sin nombre/Philosopher/Male\", \"Medicine/MI/Physician/Male\", \"Medicine/Sin nombre/Physician/Male\", \"Medicine/WA/Physician/Male\", \"Medicine/WI/Physician/Male\", \"Natural Sciences/CA/Physicist/Male\", \"Natural Sciences/FL/Physicist/Male\", \"Natural Sciences/MA/Physicist/Male\", \"Natural Sciences/MI/Physicist/Male\", \"Natural Sciences/NY/Physicist/Male\", \"Natural Sciences/SC/Physicist/Male\", \"Natural Sciences/VA/Physicist/Male\", \"Natural Sciences/WI/Physicist/Male\", \"Military/MI/Pilot/Male\", \"Government/GA/Politician/Male\", \"Government/IA/Politician/Male\", \"Government/IL/Politician/Male\", \"Government/KY/Politician/Male\", \"Music/MI/Musician/Male\", \"Music/LA/Musician/Male\", \"Music/HI/Musician/Male\", \"Music/FL/Musician/Male\", \"Social Sciences/Sin nombre/Economist/Male\", \"Engineering/MA/Engineer/Male\", \"Engineering/PA/Engineer/Male\", \"Engineering/Sin nombre/Engineer/Male\", \"Outlaws/IL/Extremist/Male\", \"Outlaws/LA/Extremist/Male\", \"Outlaws/WI/Extremist/Male\", \"Film And Theatre/NJ/Film Director/Male\", \"Film And Theatre/OK/Film Director/Male\", \"Design/MI/Game Designer/Male\", \"Design/Sin nombre/Game Designer/Male\", \"Social Sciences/Sin nombre/Geographer/Male\", \"Natural Sciences/OH/Geologist/Male\", \"Government/Kaluga Oblast/Politician/Male\", \"Natural Sciences/Sin nombre/Geologist/Male\", \"History/NH/Historian/Male\", \"Invention/IA/Inventor/Male\", \"Invention/OH/Inventor/Male\", \"Invention/WI/Inventor/Male\", \"Language/Sin nombre/Linguist/Male\", \"Media Personality/NJ/Magician/Male\", \"Individual Sports/Sin nombre/Martial Arts/Male\", \"Math/CT/Mathematician/Male\", \"Military/AR/Military Personnel/Male\", \"Military/OK/Military Personnel/Male\", \"Military/PA/Military Personnel/Male\", \"Music/AL/Musician/Male\", \"Music/CA/Musician/Male\", \"Individual Sports/Sin nombre/Gymnast/Male\", \"Government/La Rioja/Politician/Male\", \"Government/MA/Politician/Male\", \"Government/MI/Politician/Male\", \"Team Sports/NJ/Soccer Player/Male\", \"Team Sports/Sao Paulo/Soccer Player/Male\", \"Team Sports/Victoria/Soccer Player/Male\", \"Activism/CT/Social Activist/Male\", \"Activism/IL/Social Activist/Male\", \"Activism/MD/Social Activist/Male\", \"Activism/Tamaulipas/Social Activist/Male\", \"Social Sciences/NY/Sociologist/Male\", \"Social Sciences/PA/Sociologist/Male\", \"Individual Sports/CA/Tennis Player/Male\", \"Individual Sports/IL/Tennis Player/Male\", \"Individual Sports/NC/Tennis Player/Male\", \"Individual Sports/NY/Tennis Player/Male\", \"Individual Sports/Sin nombre/Skater/Male\", \"Individual Sports/Sin nombre/Tennis Player/Male\", \"Individual Sports/NE/Wrestler/Male\", \"Individual Sports/OK/Wrestler/Male\", \"Individual Sports/TX/Wrestler/Male\", \"Language/AR/Writer/Male\", \"Language/CT/Writer/Male\", \"Language/MO/Writer/Male\", \"Language/NH/Writer/Male\", \"Language/NY/Writer/Male\", \"Language/PA/Writer/Male\", \"Language/VA/Writer/Male\", \"Language/WI/Writer/Male\", \"Film And Theatre/AZ/Actor\", \"Film And Theatre/ID/Actor\", \"Individual Sports/MO/Wrestler/Male\", \"Social Sciences/NE/Economist/Male\", \"Music/WA/Singer/Male\", \"Music/SC/Singer/Male\", \"Government/NC/Politician/Male\", \"Government/ND/Politician/Male\", \"Government/NH/Politician/Male\", \"Government/NJ/Politician/Male\", \"Government/NM/Politician/Male\", \"Government/PA/Politician/Male\", \"Media Personality/NY/Presenter/Male\", \"Business/MI/Producer/Male\", \"Business/PA/Producer/Male\", \"Business/TX/Producer/Male\", \"Social Sciences/CT/Psychologist/Male\", \"Social Sciences/IL/Psychologist/Male\", \"Social Sciences/MA/Psychologist/Male\", \"Music/TN/Singer/Male\", \"Social Sciences/NJ/Psychologist/Male\", \"Religion/GA/Religious Figure/Male\", \"Religion/Galilee/Religious Figure/Male\", \"Religion/Sin nombre/Religious Figure/Male\", \"Fine Arts/Sin nombre/Sculptor/Male\", \"Music/AZ/Singer/Male\", \"Music/FL/Singer/Male\", \"Music/GA/Singer/Male\", \"Music/IA/Singer/Male\", \"Music/Komi ASSR/Singer/Male\", \"Music/MI/Singer/Male\", \"Music/MO/Singer/Male\", \"Music/MS/Singer/Male\", \"Music/PA/Singer/Male\", \"Government/Sin nombre/Public Worker/Male\", \"Film And Theatre/IN/Actor\", \"Social Sciences/NC/Economist/Male\", \"Social Sciences/IL/Economist/Male\", \"Music/NY/Musician/Female\", \"Fine Arts/Sin nombre/Painter/Female\", \"Medicine/NJ/Physician/Female\", \"Military/KS/Pilot/Female\", \"Government/AZ/Politician/Female\", \"Government/IL/Politician/Female\", \"Government/Sin nombre/Politician/Female\", \"Media Personality/NV/Pornographic Actor/Female\", \"Media Personality/Sin nombre/Presenter/Female\", \"Individual Sports/WI/Racecar Driver/Female\", \"Music/FL/Singer/Female\", \"Music/MI/Singer/Female\", \"Music/NM/Singer/Female\", \"Music/NY/Singer/Female\", \"Music/OH/Singer/Female\", \"Music/TN/Singer/Female\", \"Individual Sports/Sin nombre/Skier/Female\", \"Activism/Sin nombre/Social Activist/Female\", \"Individual Sports/CA/Tennis Player/Female\", \"Language/NY/Writer/Female\", \"Language/PA/Writer/Female\", \"Language/Sin nombre/Writer/Female\", \"Film And Theatre/DE/Actor/Male\", \"Film And Theatre/GA/Actor/Male\", \"Film And Theatre/IL/Actor/Male\", \"Film And Theatre/KS/Actor/Male\", \"Film And Theatre/LA/Actor/Male\", \"Music/NJ/Musician/Female\", \"Music/MI/Musician/Female\", \"Music/CA/Musician/Female\", \"Language/NY/Journalist/Female\", \"Film And Theatre/FL/Actor/Female\", \"Film And Theatre/KS/Actor/Female\", \"Film And Theatre/LA/Actor/Female\", \"Film And Theatre/ME/Actor/Female\", \"Film And Theatre/MI/Actor/Female\", \"Film And Theatre/NM/Actor/Female\", \"Film And Theatre/Sin nombre/Actor/Female\", \"Film And Theatre/VA/Actor/Female\", \"Natural Sciences/Sin nombre/Archaeologist/Female\", \"Explorers/Sin nombre/Astronaut/Female\", \"Natural Sciences/Sin nombre/Astronomer/Female\", \"Individual Sports/Sin nombre/Athlete/Female\", \"Natural Sciences/CA/Biologist/Female\", \"Film And Theatre/MI/Actor/Male\", \"Natural Sciences/WA/Biologist/Female\", \"Media Personality/CA/Chef/Female\", \"Companions/IA/Companion/Female\", \"Companions/MA/Companion/Female\", \"Companions/Sin nombre/Companion/Female\", \"Companions/VA/Companion/Female\", \"Dance/MO/Dancer/Female\", \"Dance/PA/Dancer/Female\", \"Dance/Sin nombre/Dancer/Female\", \"Government/Sin nombre/Diplomat/Female\", \"Social Sciences/CA/Economist/Female\", \"Film And Theatre/CA/Film Director/Female\", \"Film And Theatre/Sin nombre/Film Director/Female\", \"Language/NJ/Journalist/Female\", \"Business/Sin nombre/Businessperson/Female\", \"Film And Theatre/NM/Actor/Male\", \"Film And Theatre/OH/Actor/Male\", \"Film And Theatre/PA/Actor/Male\", \"Individual Sports/TX/Boxer/Male\", \"Business/CA/Businessperson/Male\", \"Business/CT/Businessperson/Male\", \"Business/OH/Businessperson/Male\", \"Business/OK/Businessperson/Male\", \"Business/PA/Businessperson/Male\", \"Media Personality/IA/Celebrity/Male\", \"Media Personality/Sin nombre/Celebrity/Male\", \"Natural Sciences/CA/Chemist/Male\", \"Natural Sciences/MD/Chemist/Male\", \"Natural Sciences/MO/Chemist/Male\", \"Individual Sports/LA/Chessmaster/Male\", \"Film And Theatre/NY/Comedian/Male\", \"Individual Sports/SC/Boxer/Male\", \"Film And Theatre/TX/Comedian/Male\", \"Design/NY/Comic Artist/Male\", \"Music/IN/Composer/Male\", \"Music/MD/Composer/Male\", \"Music/PA/Composer/Male\", \"Computer Science/NY/Computer Scientist/Male\", \"Computer Science/Sin nombre/Computer Scientist/Male\", \"Music/Sin nombre/Conductor/Male\", \"Team Sports/Sin nombre/Cricketer/Male\", \"Individual Sports/PA/Cyclist/Male\", \"Individual Sports/Sin nombre/Cyclist/Male\", \"Dance/Sin nombre/Dancer/Male\", \"Design/NY/Designer/Male\", \"Government/Sin nombre/Diplomat/Male\", \"Design/MN/Comic Artist/Male\", \"Social Sciences/MA/Economist/Male\", \"Natural Sciences/NE/Biologist/Male\", \"Natural Sciences/KY/Biologist/Male\", \"Film And Theatre/Sin nombre/Actor/Male\", \"Social Sciences/CA/Anthropologist/Male\", \"Social Sciences/NY/Anthropologist/Male\", \"Natural Sciences/PA/Archaeologist/Male\", \"Design/NJ/Architect/Male\", \"Design/PA/Architect/Male\", \"Fine Arts/NY/Artist/Male\", \"Fine Arts/PA/Artist/Male\", \"Explorers/CA/Astronaut/Male\", \"Explorers/NM/Astronaut/Male\", \"Explorers/OK/Astronaut/Male\", \"Explorers/PA/Astronaut/Male\", \"Natural Sciences/AL/Astronomer/Male\", \"Natural Sciences/MI/Biologist/Male\", \"Natural Sciences/MT/Astronomer/Male\", \"Individual Sports/KS/Athlete/Male\", \"Individual Sports/NY/Athlete/Male\", \"Individual Sports/PA/Athlete/Male\", \"Team Sports/AL/Basketball Player/Male\", \"Team Sports/CA/Basketball Player/Male\", \"Team Sports/FL/Basketball Player/Male\", \"Team Sports/MI/Basketball Player/Male\", \"Team Sports/NC/Basketball Player/Male\", \"Team Sports/NY/Basketball Player/Male\", \"Team Sports/SC/Basketball Player/Male\", \"Team Sports/TX/Basketball Player/Male\", \"Natural Sciences/AL/Biologist/Male\", \"Natural Sciences/CO/Biologist/Male\", \"Individual Sports/AL/Athlete/Male\", \"Film And Theatre/KY/Actor\", \"Music/AZ/Musician/Male\", \"Team Sports\", \"Individual Sports/Sin nombre/Chessmaster\", \"Individual Sports/IL/Chessmaster\", \"Natural Sciences/WI/Chemist\", \"Natural Sciences/SC/Chemist\", \"Natural Sciences/PA/Chemist\", \"Individual Sports/PA/Athlete\", \"Natural Sciences/NY/Chemist\", \"Natural Sciences/MI/Chemist\", \"Natural Sciences/KY/Chemist\", \"Natural Sciences/KS/Chemist\", \"Team Sports/CA/Baseball Player\", \"Team Sports/GA/Baseball Player\", \"Team Sports/MD/Baseball Player\", \"Natural Sciences/IL/Chemist\", \"Natural Sciences/IA/Chemist\", \"Film And Theatre/NY/Comedian\", \"Design/KY/Comic Artist\", \"Natural Sciences/CA/Astronomer\", \"Natural Sciences/Ardennes/Astronomer\", \"Music/CT/Composer\", \"Companions/TX/Companion\", \"Fine Arts/NY/Artist\", \"Fine Arts/PA/Artist\", \"Companions/NY/Companion\", \"Explorers/IL/Astronaut\", \"Explorers/IN/Astronaut\", \"Natural Sciences/GA/Chemist\", \"Explorers/NJ/Astronaut\", \"Companions/KY/Companion\", \"Companions/GA/Companion\", \"Companions/CA/Companion\", \"Explorers/Sin nombre/Astronaut\", \"Design/Sin nombre/Comic Artist\", \"Design/MN/Comic Artist\", \"Design/MD/Comic Artist\", \"Companions/NV/Companion\", \"Media Personality/CA/Chef\", \"Team Sports/FL/Basketball Player\", \"Team Sports/IL/Basketball Player\", \"Natural Sciences/AL/Biologist\", \"Natural Sciences/CA/Biologist\", \"Natural Sciences/CT/Biologist\", \"Business/KS/Businessperson\", \"Business/IL/Businessperson\", \"Business/CT/Businessperson\", \"Natural Sciences/KY/Biologist\", \"Business/NY/Businessperson\", \"Natural Sciences/MN/Biologist\", \"Individual Sports/Sin nombre/Boxer\", \"Natural Sciences/NJ/Biologist\", \"Individual Sports/SC/Boxer\", \"Individual Sports/NY/Boxer\", \"Individual Sports/KY/Boxer\", \"Natural Sciences/WA/Biologist\", \"Natural Sciences/Sin nombre/Biologist\", \"Business/AL/Businessperson\", \"Design/NJ/Architect\", \"Business/OH/Businessperson\", \"Team Sports/TN/Basketball Player\", \"Team Sports/KY/Basketball Player\", \"Media Personality/Sin nombre/Celebrity\", \"Media Personality/PA/Celebrity\", \"Team Sports/NC/Basketball Player\", \"Media Personality/NY/Celebrity\", \"Media Personality/KY/Celebrity\", \"Team Sports/NJ/Basketball Player\", \"Business/OK/Businessperson\", \"Media Personality/IL/Celebrity\", \"Team Sports/NY/Basketball Player\", \"Team Sports/OH/Basketball Player\", \"Team Sports/OK/Basketball Player\", \"Team Sports/SC/Basketball Player\", \"Business/TX/Businessperson\", \"Team Sports/Sin nombre/Basketball Player\", \"Business/Sin nombre/Businessperson\", \"Business/WA/Businessperson\", \"Music/TX/Composer\", \"Individual Sports/GA/Athlete\", \"Film And Theatre/OK/Actor\", \"Design/NY/Designer\", \"Government/CA/Diplomat\", \"Dance/Sin nombre/Dancer\", \"Social Sciences/MI/Economist\", \"Social Sciences/CA/Anthropologist\", \"Film And Theatre/NE/Actor\", \"Social Sciences/TN/Economist\", \"Social Sciences/NY/Anthropologist\", \"Individual Sports/Sin nombre/Cyclist\", \"Film And Theatre/NY/Actor\", \"Social Sciences/Sin nombre/Anthropologist\", \"Individual Sports/PA/Cyclist\", \"Computer Science/LA/Computer Scientist\", \"Computer Science/NY/Computer Scientist\", \"Film And Theatre/OH/Actor\", \"Film And Theatre/MT/Actor\", \"Team Sports/CA/American Football Player\", \"Government/WI/Diplomat\", \"Language/IL/Critic\", \"Film And Theatre/RI/Actor\", \"Computer Science/Sin nombre/Computer Scientist\", \"Government/Sin nombre/Diplomat\", \"Film And Theatre/AR/Actor\", \"Music/LA/Singer/Female\", \"Fine Arts/PA/Artist/Female\", \"Computer Science/LA\", \"Individual Sports/CA/Wrestler/Male\", \"Social Sciences/NY\", \"Outlaws/NY/Mafioso\", \"Philosophy/IL\", \"Activism/Sin nombre/Social Activist\", \"Natural Sciences/CT/Astronomer\", \"Design/Sin nombre/Comic Artist/Male\", \"Music/VA/Singer/Male\", \"Language/CT/Writer\", \"Activism/IL\", \"Business/KY/Businessperson/Male\", \"Medicine/MI/Physician\", \"Government/CA/Politician/Male\", \"Medicine/MA/Physician/Male\", \"Invention/NY\", \"Invention/WA/Inventor/Male\", \"Outlaws\", \"Math/Cantal/Mathematician/Male\", \"Invention/WA/Inventor\", \"Individual Sports/LA\", \"Social Sciences/PA/Economist\", \"Social Sciences/Sin nombre/Economist\", \"Business/PA/Businessperson\", \"Government/VA/Diplomat\", \"Music/LA\", \"Business/TN/Businessperson\", \"Individual Sports/MD\", \"Companions/IL/Companion/Female\", \"Design/MI/Comic Artist/Male\", \"Engineering/MA\", \"Invention/MA\", \"Social Sciences/VT\", \"Team Sports/Victoria\", \"Natural Sciences/NY/Chemist/Female\", \"Individual Sports/TN/Athlete/Female\", \"Companions/CA/Companion/Male\", \"Music/MA\", \"Team Sports/WA\", \"Computer Science/WI/Computer Scientist/Male\", \"Music/CA/Composer/Male\", \"Natural Sciences/WA\", \"Media Personality/IA/Celebrity\", \"Outlaws/WI\", \"Companions/GA/Companion/Female\", \"Music/PA/Composer\", \"Explorers/CA/Astronaut/Female\", \"Film And Theatre/NY/Actor/Female\", \"Natural Sciences/IA\", \"Film And Theatre/NM/Film Director/Male\", \"Media Personality/IA\", \"Film And Theatre/IA\", \"Companions/IA\", \"Music/HI\", \"Business/HI\", \"Film And Theatre/MS/Film Director/Male\", \"Engineering\", \"Engineering/Sin nombre/Engineer\", \"Film And Theatre/IN/Actor/Female\", \"Film And Theatre/IL/Actor/Female\", \"Film And Theatre/ID/Actor/Female\", \"Government/GA\", \"Team Sports/FL\", \"Film And Theatre/AZ/Actor/Female\", \"History/MA/Historian/Male\", \"Religion/GA\", \"Outlaws/VT/Extremist/Male\", \"Film And Theatre/PA/Actor/Female\", \"Outlaws/IL\", \"Natural Sciences/KY\", \"Social Sciences/CA/Economist/Male\", \"Language/KY\", \"Social Sciences/GA/Economist/Male\", \"Music/HI/Musician\", \"Social Sciences/KS/Economist/Male\", \"Film And Theatre/MS/Film Director\", \"Social Sciences/MI/Economist/Male\", \"Business/NM/Businessperson\", \"Design/Sin nombre/Fashion Designer\", \"Social Sciences/NY/Economist/Male\", \"Social Sciences/OR/Economist/Male\", \"Outlaws/IN\", \"Music/KY/Musician\", \"Business\", \"Engineering/MO/Engineer/Male\", \"Government/IN\", \"Film And Theatre/IN\", \"Outlaws/IN/Extremist/Male\", \"Design/CA/Designer/Male\", \"Military/SC/Military Personnel\", \"Medicine/MN\", \"Media Personality/UT/Celebrity\", \"Film And Theatre/OR/Actor/Male\", \"Fine Arts/OK\", \"Film And Theatre/OK\", \"Outlaws/OH\", \"Government/NY/Judge\", \"Law/OH\", \"Language/OH\", \"Natural Sciences/NY/Archaeologist/Male\", \"History/Sin nombre\", \"Business/OH\", \"Invention/Sin nombre\", \"Computer Science/MD/Computer Scientist\", \"Design/WI/Architect/Male\", \"Medicine/NY\", \"Individual Sports/Sin nombre/Golfer\", \"Math/NY\", \"Natural Sciences/Sin nombre\", \"Government/NY\", \"Language/CT/Linguist\", \"Social Sciences/Sin nombre/Psychologist/Female\", \"Philosophy/Sin nombre\", \"History/NH/Historian\", \"Invention/OR\", \"Music/SC/Singer/Female\", \"Invention/CA/Inventor\", \"Music/SC\", \"Government/SC\", \"Computer Science/IN/Computer Scientist\", \"Music/NY/Composer\", \"Invention/IA/Inventor\", \"Individual Sports/Sin nombre/Tennis Player/Female\", \"Music/PA\", \"Activism/Sin nombre\", \"Music/IN/Singer/Female\", \"Computer Science/Sin nombre\", \"Engineering/Sin nombre\", \"Invention/UT/Inventor\", \"Engineering/PA\", \"Dance/PA\", \"Government/Oxfordshire\", \"Film And Theatre/MO/Actor/Male\", \"Language/OR\", \"Film And Theatre/NJ/Actor/Male\", \"Design/MI\", \"Design/NY\", \"Government/AL/Politician/Female\", \"Individual Sports/Sin nombre/Gymnast/Female\", \"Film And Theatre/OK/Film Director\", \"Natural Sciences/NJ/Biologist/Male\", \"Business/AL/Businessperson/Male\", \"Invention/UT\", \"Military/MO\", \"Government/MO\", \"Dance/MO\", \"Computer Science/CT/Computer Scientist\", \"Companions/VA\", \"Film And Theatre/MN\", \"Natural Sciences/CA/Chemist\", \"Media Personality/UT/Celebrity/Male\", \"Explorers/VA\", \"Medicine/MI\", \"Natural Sciences/IL/Chemist/Male\", \"Individual Sports/MI\", \"Natural Sciences/KY/Chemist/Male\", \"Government/CT/Diplomat\", \"Film And Theatre/Sin nombre/Film Director\", \"Individual Sports/CA/Golfer\", \"Government/NC\", \"Team Sports/WA/Basketball Player/Male\", \"Individual Sports/NV\", \"Companions/NV\", \"Film And Theatre/NM\", \"Explorers/TN\", \"Music/NY/Musician\", \"Natural Sciences/NJ\", \"Math/NJ\", \"Team Sports/AL/Baseball Player/Male\", \"Design/NJ\", \"Outlaws/TX/Mafioso\", \"Language/NH\", \"Natural Sciences/TN\", \"History/NH\", \"Team Sports/IL/Basketball Player/Male\", \"Music/NE\", \"Team Sports/LA/Basketball Player/Male\", \"Individual Sports/Sin nombre/Martial Arts\", \"Math/CT/Mathematician\", \"Team Sports/VA/Basketball Player/Male\", \"Natural Sciences/IL/Biologist/Male\", \"Individual Sports/FL\", \"Film And Theatre/ME/Actor\", \"Individual Sports/IN/Wrestler/Male\", \"Religion/GA/Religious Figure\", \"Individual Sports/TN/Wrestler\", \"Individual Sports/WI/Wrestler\", \"Individual Sports/Sin nombre/Racecar Driver\", \"Medicine/MD/Physician\", \"Team Sports/AL/Basketball Player\", \"Medicine/AL/Physician\", \"Individual Sports/MI/Wrestler/Male\", \"Social Sciences/PA/Psychologist\", \"Language/NY/Writer\", \"Social Sciences/MA/Psychologist\", \"Language/OH/Writer\", \"Language/OR/Writer\", \"Medicine/NH/Physician/Male\", \"Language/RI/Writer\", \"Language/Sin nombre/Writer\", \"Medicine/IN/Physician/Male\", \"Media Personality/NY/Presenter\", \"Individual Sports/AZ\", \"Music/MS/Musician/Male\", \"Fine Arts/PA/Painter\", \"Music/NJ/Musician/Male\", \"Music/NV/Musician/Male\", \"Team Sports/Sin nombre/Baseball Player\", \"Fine Arts/WY/Painter\", \"Individual Sports/TN/Wrestler/Male\", \"Fine Arts/PA/Painter/Male\", \"Film And Theatre/AL\", \"Business/AL\", \"Fine Arts/NY/Photographer/Male\", \"Government/KY/Politician\", \"Philosophy/IL/Philosopher\", \"Government/LA/Politician/Male\", \"Team Sports/AL/Baseball Player\", \"Medicine/TX/Physician\", \"Music/TX/Singer/Male\", \"Design/OH/Architect\", \"Activism/GA/Social Activist\", \"Design/Sin nombre/Architect\", \"Natural Sciences/OH/Physicist\", \"Military/WV/Pilot\", \"Music/MS/Singer\", \"Music/MN/Singer/Male\", \"Music/VT/Singer\", \"Religion/VT/Religious Figure/Male\", \"Team Sports/CA/Soccer Player\", \"Natural Sciences/PA/Physicist\", \"Explorers/OH/Astronaut\", \"Individual Sports/Sin nombre/Skater\", \"Team Sports/OH/Soccer Player\", \"Individual Sports/WI/Wrestler/Male\", \"Activism/VT/Social Activist\", \"Music/IN/Singer\", \"Government/GA/Politician\", \"Individual Sports/GA/Wrestler\", \"Religion/NC/Religious Figure\", \"Individual Sports/AZ/Wrestler\", \"Individual Sports/Sin nombre/Swimmer/Male\", \"Individual Sports/CA/Swimmer/Male\", \"Natural Sciences/PA/Astronomer\", \"Individual Sports/KS/Athlete\", \"Natural Sciences/FL/Physicist\", \"Activism/SC/Social Activist/Male\", \"Government/Segovia/Politician/Male\", \"Media Personality/IA/Presenter/Male\", \"Government/Anhui/Politician\", \"Media Personality/MA/Presenter/Male\", \"Individual Sports/NE/Tennis Player\", \"Film And Theatre/TN/Actor\", \"Individual Sports/NH/Skier\", \"Business/CT\", \"Music/TX/Musician\", \"Explorers/TN/Explorer\", \"Outlaws/MO/Mafioso/Male\", \"Media Personality/MT/Pornographic Actor\", \"Film And Theatre/SC/Actor\", \"Film And Theatre/CT/Actor\", \"Language/CT/Linguist/Male\", \"Military/W\\u00fcrttemberg/Military Personnel/Male\", \"Military/CT/Military Personnel/Male\", \"Military/VA/Military Personnel/Male\", \"Outlaws/Sin nombre/Mafioso/Male\", \"Invention/UT/Inventor/Male\", \"Natural Sciences/DE/Biologist\", \"Government/NE/Politician\", \"Government/La Rioja/Politician\", \"Military/Pyr\\u00e9n\\u00e9es-Atlantiques/Military Personnel/Male\", \"Music/Sin nombre/Musician\", \"Law/Sin nombre/Lawyer/Male\", \"Music/MA/Musician\", \"Team Sports/CA/Soccer Player/Male\", \"Activism/Eastern Cape/Social Activist/Male\", \"Media Personality/IN\", \"Natural Sciences/MD\", \"Outlaws/LA/Extremist\", \"Film And Theatre/MO/Film Director/Male\", \"Language/CA/Writer/Female\", \"Media Personality/KY\", \"Media Personality/UT\", \"Film And Theatre\", \"Music/TN\", \"Government/CO/Politician/Male\", \"Language/Sin nombre/Writer/Male\", \"Language/IA\", \"Math/MO/Mathematician\", \"Natural Sciences/OR/Chemist/Male\", \"Natural Sciences/PA/Biologist/Male\", \"Military/Sin nombre/Military Personnel\", \"Social Sciences/CA\", \"Medicine/Sin nombre/Physician\", \"Individual Sports/KY/Boxer/Male\", \"Design/Sin nombre/Designer/Male\", \"Media Personality/Sin nombre/Model/Female\", \"Individual Sports/FL/Racecar Driver/Male\", \"Activism/GA\", \"Individual Sports/CA/Skater\", \"Individual Sports/TX/Cyclist\", \"Individual Sports/PA/Wrestler/Male\", \"Military/PA\", \"History/OH/Historian/Male\", \"Individual Sports/WI\", \"Film And Theatre/MS/Actor\", \"Media Personality/MA/Presenter\", \"Military/Pyr\\u00e9n\\u00e9es-Atlantiques\", \"Language/AR\", \"Media Personality/CA/Model\", \"Team Sports/TX/Soccer Player\", \"Math/Sin nombre/Mathematician\", \"Team Sports/MD\", \"Individual Sports/VA/Athlete/Male\", \"Language/IN\", \"Music/MI/Singer\", \"Business/NE\", \"Religion/PA/Religious Figure\", \"Government/MN/Politician/Male\", \"Music/Sin nombre\", \"Language/IL/Writer/Female\", \"Individual Sports/NY/Swimmer\", \"Explorers/NH/Astronaut\", \"Outlaws/Sin nombre/Pirate/Male\", \"Music/AL/Singer/Male\", \"Film And Theatre/WI/Actor\", \"Explorers/NH/Astronaut/Male\", \"Engineering/PA/Engineer\", \"Film And Theatre/KS\", \"Media Personality/TX/Celebrity/Female\", \"Film And Theatre/WI\", \"Explorers/PA/Astronaut\", \"Natural Sciences/NE/Physicist/Male\", \"Media Personality/NY/Celebrity/Female\", \"Natural Sciences/TX/Chemist/Male\", \"Language/IL/Critic/Male\", \"Design/WI\", \"Math/Sin nombre/Mathematician/Female\", \"Companions/IA/Companion\", \"Social Sciences/CT/Economist\", \"Fine Arts/IA\", \"Business/HI/Businessperson/Male\", \"Fine Arts/Sin nombre/Sculptor/Female\", \"Media Personality/TX/Presenter\", \"Individual Sports/Sin nombre/Skater/Female\", \"Math\", \"Activism/WA/Social Activist/Female\", \"Individual Sports/Sin nombre/Chessmaster/Female\", \"Invention/MA/Inventor\", \"Explorers/C\\u00e1ceres/Explorer\", \"Film And Theatre/DE/Actor\", \"Individual Sports/PA/Skater/Male\", \"Media Personality/IL/Model/Female\", \"Music/TX/Singer/Female\", \"Film And Theatre/MA/Actor/Female\", \"Natural Sciences/CT/Biologist/Female\", \"Team Sports/CA/Basketball Player/Female\", \"Music/MD/Singer\", \"Social Sciences/Sin nombre/Political Scientist\", \"Team Sports/SC\", \"Individual Sports/SC/Wrestler/Male\", \"Design/MA/Architect\", \"Activism/VT\", \"Team Sports/VA\", \"Music/NC/Singer/Female\", \"Companions/TX/Companion/Female\", \"Music/VT/Singer/Female\", \"Government/Kaluga Oblast/Politician\", \"Media Personality/Sin nombre/Presenter\", \"Team Sports/PA\", \"Government/NY/Politician\", \"Social Sciences/WA\", \"Film And Theatre/LA/Actor\", \"Social Sciences/IL/Economist\", \"Film And Theatre/GA/Actor/Female\", \"Social Sciences/OR\", \"Invention/WI/Inventor\", \"Film And Theatre/ME/Actor/Male\", \"Music/WA/Singer\", \"Music\", \"Music/HI/Singer/Male\", \"Language/WA\", \"Individual Sports/FL/Wrestler/Female\", \"Government/WA\", \"Invention/OR/Inventor\", \"Individual Sports/PA\", \"Language/TX/Writer/Female\", \"Invention/OH/Inventor\", \"Film And Theatre/NC/Actor\", \"Film And Theatre/GA/Actor\", \"Language/OH/Writer/Female\", \"Natural Sciences/Sin nombre/Chemist/Female\", \"Music/IN/Composer\", \"Music/MO/Singer/Female\", \"Natural Sciences/IL/Biologist/Female\", \"Government/WI\", \"Music/NM/Singer/Male\", \"Design/CT/Architect\", \"Business/Sin nombre/Producer\", \"Government/AZ/Politician\", \"Language/WA/Writer/Male\", \"Film And Theatre/SD/Actor/Female\", \"Government/MN/Politician\", \"Social Sciences/KS/Economist\", \"Social Sciences/TX\", \"Government/HI/Politician\", \"Design/CA/Designer\", \"Social Sciences/WI/Economist\", \"Individual Sports/MN/Tennis Player/Male\", \"Music/TX\", \"Business/TN\", \"Team Sports/Sin nombre/Referee\", \"Government/WI/Politician\", \"Engineering/Sin nombre/Engineer/Female\", \"Computer Science/PA/Computer Scientist\", \"Computer Science/WI/Computer Scientist\", \"Film And Theatre/WI/Actor/Female\", \"Music/Sin nombre/Musician/Female\", \"Individual Sports/IL/Wrestler/Male\", \"Language/TX/Writer/Male\", \"Government/W\\u00fcrttemberg\", \"Social Sciences/Sin nombre/Anthropologist/Female\", \"Government/IL/Politician\", \"Music/ND/Musician/Female\", \"Individual Sports/AZ/Wrestler/Male\", \"Music/IL/Musician/Female\", \"Media Personality/TX\", \"Law/Sin nombre/Lawyer/Female\", \"Individual Sports/NV/Tennis Player/Male\", \"Philosophy/Shandong Province\", \"Outlaws/Sin nombre\", \"Government/TX/Politician\", \"Language/GA/Writer/Male\", \"Outlaws/Sin nombre/Extremist\", \"Social Sciences/PA/Anthropologist\", \"History/NY/Historian\", \"Government/MI/Diplomat\", \"Music/AZ/Singer/Female\", \"Film And Theatre/NC/Actor/Female\", \"Film And Theatre/NJ/Film Director\", \"Government/VA\", \"Government/County Mayo/Politician\", \"Social Sciences/Sin nombre/Sociologist/Male\", \"Fine Arts\", \"Social Sciences/TX/Sociologist/Male\", \"Film And Theatre/TX/Actor\", \"Language/ID/Writer/Male\", \"Engineering/MA/Engineer\", \"Media Personality/MS/Presenter/Female\", \"Media Personality/Sin nombre/Pornographic Actor/Female\", \"Media Personality/OH/Pornographic Actor/Female\", \"Government/KS/Politician\", \"Film And Theatre/CO/Film Director\", \"Social Sciences/CT/Psychologist\", \"Media Personality/MT/Pornographic Actor/Female\", \"Natural Sciences/DE/Astronomer/Female\", \"Social Sciences/IL/Psychologist\", \"Design\", \"Music/UT\", \"Individual Sports/NC/Wrestler/Male\", \"Individual Sports/Sin nombre\", \"Individual Sports/FL/Tennis Player/Male\", \"Activism/Eastern Cape\", \"Team Sports/OK\", \"Computer Science/MI/Computer Scientist/Male\", \"Individual Sports/Sin nombre/Mountaineer\", \"Team Sports/LA\", \"Music/VA/Musician/Male\", \"Fine Arts/TX/Painter\", \"Music/FL/Musician\", \"Music/AZ\", \"Individual Sports/KY\", \"Religion/Ancona\", \"Team Sports/TX/Basketball Player\", \"Team Sports/WA/Basketball Player\", \"Music/KS/Musician/Male\", \"Music/IN/Musician/Male\", \"Social Sciences/KS\", \"Music/IL/Musician/Male\", \"Computer Science/CA\", \"Military/KS\", \"Music/GA/Musician/Male\", \"Music/CT/Musician/Male\", \"Medicine/CA/Physician/Male\", \"Music/KS/Musician\", \"Computer Science/IN/Computer Scientist/Male\", \"Music/TX/Composer/Male\", \"Fine Arts/NY/Photographer\", \"Natural Sciences/IL/Physicist/Male\", \"Natural Sciences/MI/Chemist/Male\", \"Team Sports/GA/Basketball Player\", \"Natural Sciences/PA/Chemist/Male\", \"Team Sports/MI/Basketball Player\", \"Medicine/TX/Physician/Male\", \"Music/MD\", \"Medicine/MD\", \"Design/KY/Comic Artist/Male\", \"Design/MD/Comic Artist/Male\", \"Film And Theatre/MD\", \"Design/MD\", \"Medicine/PA/Physician/Male\", \"Language/SC/Writer\", \"Music/MA/Composer/Male\", \"Media Personality/IL/Model\", \"Medicine/MN/Physician/Male\", \"Individual Sports/MA\", \"Fine Arts/MA\", \"Natural Sciences/MO/Physicist/Male\", \"Social Sciences/TN/Economist/Male\", \"Social Sciences/IN\", \"Math/MO/Mathematician/Male\", \"Invention/IA\", \"Government/IA\", \"Math/MA/Mathematician/Male\", \"Government/HI\", \"Film And Theatre/NY/Film Director/Male\", \"Film And Theatre/OH/Film Director/Male\", \"Film And Theatre/PA/Film Director/Male\", \"Film And Theatre/TX/Film Director/Male\", \"Design/GA/Game Designer/Male\", \"Outlaws/NY/Mafioso/Male\", \"Government/VA/Judge/Male\", \"Natural Sciences/NY/Biologist\", \"Music/NV/Musician\", \"Design/GA\", \"Companions/GA\", \"Invention/PA/Inventor/Male\", \"Natural Sciences/UT/Biologist\", \"Invention/CT/Inventor/Male\", \"Math/NJ/Mathematician/Male\", \"Social Sciences/WI/Economist/Male\", \"Math/WV/Mathematician/Male\", \"Language/ID\", \"Natural Sciences/CO/Biologist\", \"Natural Sciences/IN\", \"Individual Sports/Sin nombre/Mountaineer/Male\", \"Business/KY/Businessperson\", \"Explorers/C\\u00e1ceres/Explorer/Male\", \"Explorers/Sin nombre/Explorer/Male\", \"Music/MD/Musician\", \"Medicine/CA\", \"Natural Sciences/IA/Biologist\", \"Outlaws/MD/Extremist/Male\", \"Military/IL\", \"Military/NY/Military Personnel/Male\", \"Film And Theatre/CA/Film Director/Male\", \"Film And Theatre/GA/Film Director/Male\", \"Film And Theatre/IL/Film Director/Male\", \"Companions/IL\", \"Business/IL\", \"Film And Theatre/CO\", \"Military/IL/Military Personnel/Male\", \"Film And Theatre/MT/Film Director/Male\", \"Language/IN/Writer\", \"Natural Sciences/OR/Physicist/Male\", \"Media Personality/Sin nombre/Chef/Male\", \"Individual Sports/Sin nombre/Racecar Driver/Male\", \"Individual Sports/Loire/Racecar Driver/Male\", \"Explorers/TX/Astronaut\", \"Social Sciences/PA/Psychologist/Male\", \"Fine Arts/Sin nombre/Artist/Male\", \"History/NY\", \"Activism/NY/Social Activist\", \"Natural Sciences/AL/Astronomer\", \"Film And Theatre/NY\", \"Explorers/IL/Astronaut/Male\", \"Social Sciences/CO/Sociologist\", \"Explorers/OH/Astronaut/Male\", \"Natural Sciences/IN/Physicist\", \"Business/NY/Producer/Male\", \"Music/NM\", \"Natural Sciences/Sin nombre/Astronomer\", \"Business/IL/Producer/Male\", \"Media Personality/Sin nombre/Presenter/Male\", \"Natural Sciences/CA/Astronomer/Male\", \"Law/SD/Lawyer\", \"Natural Sciences/PA/Astronomer/Male\", \"Design/OH/Architect/Male\", \"Design/MA/Architect/Male\", \"Film And Theatre/NY/Actor/Male\", \"Military/OK\", \"Film And Theatre/SC/Actor/Male\", \"Team Sports/IL/Soccer Player\", \"Philosophy/OH\", \"Natural Sciences/OR/Physicist\", \"Film And Theatre/TX/Actor/Male\", \"Music/OH\", \"Film And Theatre/UT/Actor/Male\", \"Team Sports/Sao Paulo/Soccer Player\", \"Religion/PA/Religious Figure/Male\", \"Invention/OH\", \"Government/Sin nombre/Judge\", \"History/OH\", \"Social Sciences/Sin nombre/Anthropologist/Male\", \"Film And Theatre/OH\", \"Religion/Lazio/Religious Figure/Male\", \"Natural Sciences/Sin nombre/Archaeologist/Male\", \"Activism/CT/Social Activist\", \"Religion/Ancona/Religious Figure/Male\", \"Natural Sciences/Sin nombre/Astronomer/Male\", \"Natural Sciences/TN/Astronomer/Male\", \"Outlaws/IN/Mafioso\", \"Individual Sports/AL/Boxer/Male\", \"Military/AR/Military Personnel\", \"Military/CA/Military Personnel\", \"Individual Sports/Sin nombre/Wrestler\", \"Military/IL/Military Personnel\", \"Individual Sports/TX/Wrestler\", \"Business/NC/Businessperson/Male\", \"Business/NE/Businessperson/Male\", \"Film And Theatre/MO\", \"Government/AR/Politician/Male\", \"Natural Sciences/MN\", \"Military/NJ/Military Personnel\", \"Business/WA/Businessperson/Male\", \"Government/MN\", \"Team Sports/AR/Basketball Player\", \"Language/IA/Writer\", \"Media Personality/IL/Celebrity/Male\", \"Military/OK/Military Personnel\", \"Team Sports/CA/Basketball Player\", \"Media Personality/MT\", \"Government/MD/Politician/Male\", \"Natural Sciences/CA/Biologist/Male\", \"Natural Sciences/NC/Chemist\", \"Outlaws/MO/Mafioso\", \"Media Personality/IN/Presenter/Male\", \"Individual Sports/KY/Athlete/Male\", \"Government/NJ\", \"Natural Sciences/UT/Chemist\", \"Government/Sin nombre/Politician/Male\", \"Team Sports/CA/Baseball Player/Male\", \"Team Sports/AR/Basketball Player/Male\", \"Government/NY/Politician/Male\", \"Individual Sports/Sin nombre/Skier\", \"Individual Sports/IN/Athlete\", \"Individual Sports/OH/Athlete\", \"Team Sports/KY/Basketball Player/Male\", \"Individual Sports/NY/Tennis Player\", \"Government/NE/Politician/Male\", \"Natural Sciences/OH/Chemist\", \"Individual Sports/OK/Athlete\", \"Film And Theatre/NE\", \"Team Sports/OK/Basketball Player/Male\", \"Individual Sports/FL/Wrestler\", \"Team Sports/GA/Basketball Player/Male\", \"Explorers/NJ/Astronaut/Male\"], \"labels\": [\"NE\", \"Public Worker\", \"NE\", \"Businessperson\", \"Male\", \"SD\", \"Male\", \"GA\", \"Presenter\", \"Male\", \"W\\u00fcrttemberg\", \"IN\", \"Presenter\", \"Male\", \"Musician\", \"Male\", \"Male\", \"Religious Figure\", \"Female\", \"Male\", \"VT\", \"Male\", \"Male\", \"AL\", \"Ardennes\", \"Soccer Player\", \"Male\", \"Comedian\", \"Singer\", \"CO\", \"Male\", \"Writer\", \"Male\", \"TX\", \"Companion\", \"Writer\", \"Male\", \"Male\", \"Actor\", \"Wrestler\", \"Physician\", \"OH\", \"MI\", \"OK\", \"Politician\", \"NV\", \"Tennis Player\", \"Male\", \"MO\", \"Politician\", \"Male\", \"Male\", \"KS\", \"OK\", \"Politician\", \"Male\", \"PA\", \"Basketball Player\", \"Painter\", \"Male\", \"Economist\", \"Politician\", \"Basketball Player\", \"Male\", \"Male\", \"Male\", \"Male\", \"Actor\", \"Composer\", \"Philosopher\", \"Basketball Player\", \"Male\", \"Male\", \"Athlete\", \"Male\", \"Male\", \"Male\", \"MO\", \"Game Designer\", \"Male\", \"MO\", \"MD\", \"Male\", \"GA\", \"Male\", \"Judge\", \"Female\", \"Male\", \"Female\", \"Architect\", \"Male\", \"Yvelines\", \"CT\", \"Male\", \"Female\", \"Male\", \"Film Director\", \"Politician\", \"Singer\", \"Female\", \"Galilee\", \"Gilead\", \"Military Personnel\", \"Male\", \"C\\u00e1ceres\", \"Game Designer\", \"Male\", \"Male\", \"Sin nombre\", \"Actor\", \"Male\", \"Musician\", \"OK\", \"KS\", \"CA\", \"Male\", \"WA\", \"Singer\", \"Composer\", \"NY\", \"Politician\", \"Model\", \"Male\", \"Male\", \"Economist\", \"Female\", \"Snooker\", \"Female\", \"NJ\", \"WY\", \"Female\", \"Physicist\", \"Male\", \"NY\", \"Female\", \"Male\", \"Female\", \"Male\", \"Sin nombre\", \"Female\", \"Companion\", \"Male\", \"Politician\", \"Male\", \"Male\", \"NC\", \"Judge\", \"Female\", \"MD\", \"Athlete\", \"NY\", \"Actor\", \"CT\", \"OR\", \"Male\", \"NY\", \"Male\", \"Musician\", \"Sociologist\", \"Male\", \"PA\", \"Segovia\", \"Male\", \"KY\", \"Astronomer\", \"NE\", \"OH\", \"NC\", \"Inventor\", \"Singer\", \"Male\", \"Male\", \"TX\", \"Male\", \"Dancer\", \"CT\", \"Tennis Player\", \"Female\", \"Male\", \"Political Scientist\", \"Male\", \"Male\", \"Writer\", \"OK\", \"Male\", \"Tennis Player\", \"NJ\", \"NY\", \"Basketball Player\", \"Physicist\", \"Astronomer\", \"Politician\", \"Archaeologist\", \"Politician\", \"MA\", \"Male\", \"Actor\", \"Male\", \"Male\", \"Male\", \"Political Scientist\", \"Astronaut\", \"NJ\", \"MO\", \"Singer\", \"Chemist\", \"Male\", \"Sin nombre\", \"Male\", \"Female\", \"Chemist\", \"Male\", \"Male\", \"Male\", \"Male\", \"Chemist\", \"Female\", \"KS\", \"Boxer\", \"Astronomer\", \"Male\", \"CT\", \"Male\", \"Female\", \"Anhui\", \"UT\", \"Female\", \"Wrestler\", \"Actor\", \"CT\", \"Wrestler\", \"Male\", \"Male\", \"Male\", \"Actor\", \"Singer\", \"Chemist\", \"Physician\", \"NM\", \"Male\", \"Male\", \"Companion\", \"VT\", \"Composer\", \"Actor\", \"Male\", \"TX\", \"Pilot\", \"Religion\", \"Male\", \"Archaeologist\", \"Computer Scientist\", \"Female\", \"Male\", \"Economist\", \"Male\", \"Male\", \"Singer\", \"Male\", \"Male\", \"Artist\", \"Female\", \"Male\", \"Male\", \"Astronomer\", \"Businessperson\", \"Female\", \"Female\", \"Male\", \"Presenter\", \"Musician\", \"Skier\", \"AL\", \"Female\", \"Male\", \"Male\", \"Male\", \"Male\", \"ID\", \"Female\", \"Female\", \"Calabria\", \"Sin nombre\", \"Male\", \"Actor\", \"PA\", \"Male\", \"Male\", \"Actor\", \"Military Personnel\", \"Male\", \"Male\", \"Male\", \"NH\", \"Male\", \"OR\", \"Male\", \"Male\", \"Male\", \"WA\", \"Economist\", \"Sin nombre\", \"Soccer Player\", \"Male\", \"VA\", \"Inventor\", \"Male\", \"CO\", \"Actor\", \"TX\", \"CT\", \"Male\", \"Male\", \"Female\", \"KS\", \"Astronomer\", \"Male\", \"Male\", \"Male\", \"Wrestler\", \"Male\", \"Female\", \"Male\", \"Male\", \"Male\", \"Tennis Player\", \"Musician\", \"Physicist\", \"Male\", \"Physicist\", \"Male\", \"Male\", \"Male\", \"Tennis Player\", \"Male\", \"Male\", \"ND\", \"Male\", \"Explorer\", \"Male\", \"Physician\", \"Female\", \"Female\", \"Biologist\", \"Female\", \"Musician\", \"Biologist\", \"Female\", \"Female\", \"Female\", \"Comic Artist\", \"Male\", \"Male\", \"Male\", \"NJ\", \"Politician\", \"Actor\", \"Journalist\", \"Chemist\", \"Male\", \"Male\", \"Male\", \"Male\", \"Singer\", \"IL\", \"Musician\", \"SC\", \"MD\", \"VA\", \"Military Personnel\", \"Biologist\", \"Actor\", \"Basketball Player\", \"Journalist\", \"Male\", \"AR\", \"Astronaut\", \"Male\", \"Male\", \"Linguist\", \"Chessmaster\", \"Mafioso\", \"Chemist\", \"Male\", \"Male\", \"Male\", \"Religious Figure\", \"Mathematician\", \"Female\", \"Female\", \"Statistician\", \"Male\", \"KY\", \"Female\", \"PA\", \"Philosopher\", \"Male\", \"Comedian\", \"Linguist\", \"MD\", \"Female\", \"Male\", \"Female\", \"Female\", \"NJ\", \"Male\", \"GA\", \"Male\", \"Male\", \"Male\", \"Male\", \"Female\", \"Male\", \"CT\", \"Musician\", \"Male\", \"CA\", \"Loire\", \"CT\", \"Female\", \"Male\", \"Female\", \"Male\", \"Female\", \"Female\", \"Economist\", \"Male\", \"Actor\", \"Male\", \"NY\", \"Astronomer\", \"Actor\", \"MT\", \"Companions\", \"Sin nombre\", \"DE\", \"Boxer\", \"Male\", \"Male\", \"WI\", \"Soccer Player\", \"Male\", \"Female\", \"Racecar Driver\", \"Painter\", \"Male\", \"Architect\", \"Male\", \"Dancer\", \"Male\", \"Chemist\", \"Female\", \"Biologist\", \"Male\", \"Female\", \"WI\", \"Male\", \"AL\", \"Actor\", \"Female\", \"Astronomer\", \"Actor\", \"CO\", \"Athlete\", \"Lawyer\", \"Male\", \"Male\", \"DE\", \"Companion\", \"Male\", \"Male\", \"Male\", \"Female\", \"Male\", \"Actor\", \"PA\", \"Inventor\", \"Athlete\", \"Politician\", \"MA\", \"Male\", \"Male\", \"Politician\", \"WI\", \"Producer\", \"Businessperson\", \"Female\", \"GA\", \"Dancer\", \"Male\", \"Male\", \"TN\", \"Male\", \"Social Activist\", \"Military Personnel\", \"Physicist\", \"Inventor\", \"Critic\", \"NM\", \"Musician\", \"Economist\", \"ID\", \"Male\", \"Male\", \"Male\", \"Male\", \"FL\", \"FL\", \"Athlete\", \"Male\", \"Wrestler\", \"Female\", \"Wrestler\", \"Female\", \"Magician\", \"Physician\", \"Comic Artist\", \"Inventor\", \"VA\", \"Male\", \"Economist\", \"Male\", \"Male\", \"Female\", \"PA\", \"Producer\", \"Film Director\", \"Male\", \"Male\", \"Economist\", \"NH\", \"Male\", \"MD\", \"Male\", \"Male\", \"OH\", \"OH\", \"Male\", \"Nobleman\", \"Male\", \"Male\", \"Male\", \"Politician\", \"Male\", \"Cantal\", \"LA\", \"Male\", \"Male\", \"Male\", \"Female\", \"Politician\", \"Male\", \"RI\", \"Musician\", \"Politician\", \"CA\", \"Male\", \"SC\", \"Coach\", \"Magician\", \"Hockey Player\", \"Male\", \"Male\", \"Male\", \"Singer\", \"CA\", \"NC\", \"Male\", \"Medicine\", \"Sin nombre\", \"AL\", \"Sin nombre\", \"Male\", \"IN\", \"Male\", \"Wrestler\", \"Female\", \"Writer\", \"Biologist\", \"Male\", \"Musician\", \"Male\", \"Female\", \"MI\", \"MA\", \"Male\", \"Philosopher\", \"Male\", \"Politician\", \"Historian\", \"Social Sciences\", \"Male\", \"Male\", \"Politician\", \"Male\", \"Male\", \"Sin nombre\", \"Male\", \"MO\", \"Male\", \"MI\", \"Male\", \"Basketball Player\", \"Astronomer\", \"Male\", \"Actor\", \"Pilot\", \"Male\", \"Male\", \"RI\", \"Male\", \"Racecar Driver\", \"IL\", \"Female\", \"Male\", \"Male\", \"Male\", \"Cricketer\", \"Female\", \"Male\", \"IN\", \"MO\", \"Male\", \"Male\", \"Computer Scientist\", \"Male\", \"Male\", \"Economist\", \"Economist\", \"Conductor\", \"Male\", \"Male\", \"Writer\", \"Writer\", \"Writer\", \"Male\", \"History\", \"Female\", \"WA\", \"Male\", \"Male\", \"Female\", \"Social Activist\", \"Writer\", \"Male\", \"Female\", \"Economist\", \"Male\", \"Female\", \"Male\", \"NE\", \"Female\", \"Male\", \"Musician\", \"Businessperson\", \"Musician\", \"Female\", \"Businessperson\", \"Producer\", \"Male\", \"IN\", \"Female\", \"Female\", \"Male\", \"LA\", \"Male\", \"Male\", \"Philosopher\", \"Philosopher\", \"Male\", \"Actor\", \"Male\", \"ME\", \"Male\", \"Actor\", \"Athlete\", \"NY\", \"MO\", \"Male\", \"Male\", \"Male\", \"Male\", \"Male\", \"Male\", \"Religious Figure\", \"Comic Artist\", \"Female\", \"CO\", \"Female\", \"Female\", \"TN\", \"Male\", \"Singer\", \"Female\", \"Female\", \"Female\", \"Male\", \"Female\", \"Religious Figure\", \"Male\", \"CA\", \"Male\", \"CA\", \"Athlete\", \"Physicist\", \"Composer\", \"Economist\", \"Male\", \"Male\", \"Male\", \"Astronomer\", \"Archaeologist\", \"Astronomer\", \"Male\", \"Pirate\", \"Singer\", \"Male\", \"Artist\", \"Extremist\", \"Tennis Player\", \"Engineer\", \"Artist\", \"Male\", \"Engineer\", \"Extremist\", \"Singer\", \"Politician\", \"Astronaut\", \"Politician\", \"Celebrity\", \"Military Personnel\", \"Male\", \"Psychologist\", \"Social Activist\", \"Celebrity\", \"Film Director\", \"Male\", \"Military Personnel\", \"Male\", \"Singer\", \"Athlete\", \"Male\", \"Diplomat\", \"Social Activist\", \"Male\", \"Magician\", \"Actor\", \"Actor\", \"Computer Scientist\", \"Singer\", \"Male\", \"Athlete\", \"Swimmer\", \"Film Director\", \"Male\", \"Female\", \"Tennis Player\", \"GA\", \"Male\", \"NC\", \"GA\", \"NC\", \"Male\", \"Female\", \"Female\", \"CT\", \"Male\", \"Female\", \"Male\", \"Male\", \"Male\", \"Male\", \"Female\", \"Female\", \"Male\", \"CO\", \"Male\", \"Female\", \"Female\", \"Female\", \"Female\", \"Female\", \"Male\", \"PA\", \"Female\", \"Male\", \"Female\", \"Male\", \"Female\", \"IA\", \"Female\", \"Female\", \"Female\", \"Male\", \"Male\", \"Female\", \"Female\", \"Male\", \"SD\", \"Male\", \"Male\", \"MA\", \"Male\", \"Female\", \"Female\", \"Male\", \"MI\", \"Female\", \"Female\", \"Female\", \"Female\", \"Female\", \"Male\", \"IL\", \"Male\", \"Male\", \"Female\", \"Female\", \"OK\", \"Male\", \"Male\", \"TN\", \"IL\", \"Male\", \"Male\", \"Male\", \"Male\", \"Explorers\", \"Female\", \"NJ\", \"Male\", \"Male\", \"Male\", \"Writer\", \"Male\", \"Writer\", \"Female\", \"Male\", \"Male\", \"Male\", \"Male\", \"Female\", \"Female\", \"Female\", \"NY\", \"Female\", \"Female\", \"Male\", \"Female\", \"NJ\", \"Writer\", \"Female\", \"MI\", \"Extremist\", \"MI\", \"TX\", \"Male\", \"Businessperson\", \"Wrestler\", \"Mathematician\", \"Female\", \"Female\", \"Female\", \"Male\", \"Designer\", \"Male\", \"Male\", \"Male\", \"Chemist\", \"Chemist\", \"Male\", \"Female\", \"Female\", \"Writer\", \"Writer\", \"Male\", \"Male\", \"Chemist\", \"Male\", \"Male\", \"Sin nombre\", \"Military Personnel\", \"Male\", \"Politician\", \"Politician\", \"Physician\", \"MA\", \"Tennis Player\", \"Philosopher\", \"Boxer\", \"WV\", \"Male\", \"Pernambuco\", \"NE\", \"Nobleman\", \"CT\", \"Composer\", \"Singer\", \"Female\", \"Male\", \"Male\", \"CA\", \"Physicist\", \"Male\", \"NH\", \"Male\", \"Male\", \"Male\", \"GA\", \"Male\", \"Singer\", \"AZ\", \"PA\", \"NY\", \"Male\", \"Social Activist\", \"VA\", \"Sin nombre\", \"Male\", \"NH\", \"Lazio\", \"CT\", \"Singer\", \"Musician\", \"PA\", \"PA\", \"OR\", \"SD\", \"Photographer\", \"Photographer\", \"Painter\", \"Musician\", \"PA\", \"PA\", \"Musician\", \"Musician\", \"Philosopher\", \"Musician\", \"SC\", \"Musician\", \"Philosopher\", \"SC\", \"SC\", \"SC\", \"Musician\", \"SC\", \"Musician\", \"PA\", \"PA\", \"Musician\", \"Piedmont\", \"Photographer\", \"Painter\", \"Painter\", \"Photographer\", \"TX\", \"SD\", \"Film Director\", \"Film Director\", \"Film Director\", \"Activism\", \"Wales\", \"Film Director\", \"Game Designer\", \"WV\", \"WV\", \"WV\", \"Geographer\", \"Geologist\", \"Geologist\", \"Gymnast\", \"WV\", \"Historian\", \"Historian\", \"WI\", \"WI\", \"Film Director\", \"Film Director\", \"Computer Science\", \"Film Director\", \"Extremist\", \"Extremist\", \"Philosophy\", \"Natural Sciences\", \"Extremist\", \"Fashion Designer\", \"Military\", \"Media Personality\", \"Film Director\", \"WI\", \"Law\", \"Invention\", \"Individual Sports\", \"Film Director\", \"Film Director\", \"Government\", \"Film Director\", \"Dance\", \"Film Director\", \"Film Director\", \"Language\", \"Musician\", \"WI\", \"WA\", \"Mathematician\", \"TN\", \"Mathematician\", \"TN\", \"Sin nombre\", \"Sin nombre\", \"Military Personnel\", \"Sin nombre\", \"Military Personnel\", \"Military Personnel\", \"Sin nombre\", \"Sin nombre\", \"Model\", \"Sin nombre\", \"Model\", \"Musician\", \"Musician\", \"Sao Paulo\", \"Musician\", \"TN\", \"Mathematician\", \"TX\", \"TX\", \"WA\", \"Inventor\", \"VT\", \"VT\", \"VT\", \"VA\", \"Journalist\", \"VA\", \"UT\", \"WA\", \"Lawyer\", \"Lawyer\", \"TX\", \"TX\", \"TX\", \"Linguist\", \"TX\", \"Linguist\", \"Mafioso\", \"TX\", \"Tamaulipas\", \"Physician\", \"ND\", \"Physician\", \"Singer\", \"Singer\", \"CT\", \"CT\", \"CO\", \"Singer\", \"CA\", \"CA\", \"CA\", \"Singer\", \"CA\", \"CA\", \"CA\", \"Singer\", \"CA\", \"Singer\", \"Singer\", \"CA\", \"Buckinghamshire\", \"AZ\", \"Extremist\", \"Sculptor\", \"Sculptor\", \"County Mayo\", \"IL\", \"Producer\", \"IL\", \"IL\", \"IL\", \"Producer\", \"Psychologist\", \"Psychologist\", \"Psychologist\", \"ID\", \"Psychologist\", \"HI\", \"Galicia\", \"Racecar Driver\", \"Racecar Driver\", \"GA\", \"Religious Figure\", \"FL\", \"Religious Figure\", \"Religious Figure\", \"Religious Figure\", \"AR\", \"Singer\", \"Singer\", \"AR\", \"Writer\", \"Social Activist\", \"Social Activist\", \"Sociologist\", \"Sociologist\", \"Sociologist\", \"Writer\", \"Writer\", \"Swimmer\", \"Writer\", \"Wrestler\", \"Swimmer\", \"Wrestler\", \"Wrestler\", \"Swimmer\", \"Tennis Player\", \"Wrestler\", \"Wrestler\", \"Wrestler\", \"Tennis Player\", \"Tennis Player\", \"Writer\", \"IL\", \"Writer\", \"Social Activist\", \"AR\", \"AR\", \"Singer\", \"AL\", \"Singer\", \"Skater\", \"AL\", \"AL\", \"AL\", \"Soccer Player\", \"AL\", \"Writer\", \"Writer\", \"Soccer Player\", \"Writer\", \"Soccer Player\", \"Writer\", \"Writer\", \"Writer\", \"Social Activist\", \"Writer\", \"Social Activist\", \"Presenter\", \"IL\", \"IN\", \"Physicist\", \"NH\", \"NE\", \"Physicist\", \"Physicist\", \"Pilot\", \"ND\", \"NC\", \"NC\", \"NC\", \"NC\", \"MT\", \"Politician\", \"MS\", \"MS\", \"MS\", \"MS\", \"Politician\", \"MO\", \"MN\", \"MN\", \"NH\", \"MN\", \"Physicist\", \"Physicist\", \"Physician\", \"Physician\", \"OH\", \"OH\", \"OH\", \"OH\", \"NY\", \"NY\", \"Physicist\", \"NY\", \"Physicist\", \"NY\", \"NY\", \"NV\", \"NM\", \"Physicist\", \"NJ\", \"NJ\", \"NJ\", \"NJ\", \"Physicist\", \"Physicist\", \"Physician\", \"MN\", \"Politician\", \"MA\", \"La Rioja\", \"LA\", \"Pornographic Actor\", \"LA\", \"Komi ASSR\", \"Kaluga Oblast\", \"Pornographic Actor\", \"Pornographic Actor\", \"Pornographic Actor\", \"KY\", \"KY\", \"KY\", \"KY\", \"KY\", \"KS\", \"Indre-et-Loire\", \"Pornographic Actor\", \"IN\", \"Presenter\", \"IN\", \"Politician\", \"MI\", \"Politician\", \"MA\", \"Politician\", \"Politician\", \"MI\", \"MI\", \"MI\", \"Politician\", \"ME\", \"ME\", \"Politician\", \"ME\", \"MD\", \"Politician\", \"MA\", \"MA\", \"MA\", \"Politician\", \"MA\", \"MA\", \"Politician\", \"MA\", \"Politician\", \"MA\", \"CA\", \"Chef\", \"Explorer\", \"Male\", \"Male\", \"Male\", \"Male\", \"Male\", \"Male\", \"Male\", \"Male\", \"Male\", \"Male\", \"Male\", \"Male\", \"Male\", \"Male\", \"Male\", \"Male\", \"Male\", \"Male\", \"Male\", \"Male\", \"Male\", \"Male\", \"Male\", \"Male\", \"Male\", \"Male\", \"Male\", \"Male\", \"Male\", \"Male\", \"Male\", \"Male\", \"Male\", \"Male\", \"Male\", \"Male\", \"Male\", \"Male\", \"Male\", \"Male\", \"Male\", \"Male\", \"Male\", \"Male\", \"Male\", \"Male\", \"Male\", \"Male\", \"Male\", \"Male\", \"Male\", \"Male\", \"Male\", \"Male\", \"Male\", \"Male\", \"Male\", \"Male\", \"Male\", \"Male\", \"Male\", \"Male\", \"Male\", \"Male\", \"Male\", \"Male\", \"Male\", \"Male\", \"Male\", \"Male\", \"Male\", \"Male\", \"Male\", \"Male\", \"Male\", \"Male\", \"Male\", \"Male\", \"Male\", \"Male\", \"Male\", \"Male\", \"Male\", \"Male\", \"Male\", \"Male\", \"Male\", \"Male\", \"Male\", \"Actor\", \"Actor\", \"Male\", \"Male\", \"Male\", \"Male\", \"Male\", \"Male\", \"Male\", \"Male\", \"Male\", \"Male\", \"Male\", \"Male\", \"Male\", \"Male\", \"Male\", \"Male\", \"Male\", \"Male\", \"Male\", \"Male\", \"Male\", \"Male\", \"Male\", \"Male\", \"Male\", \"Male\", \"Male\", \"Male\", \"Male\", \"Male\", \"Male\", \"Male\", \"Male\", \"Actor\", \"Male\", \"Male\", \"Female\", \"Female\", \"Female\", \"Female\", \"Female\", \"Female\", \"Female\", \"Female\", \"Female\", \"Female\", \"Female\", \"Female\", \"Female\", \"Female\", \"Female\", \"Female\", \"Female\", \"Female\", \"Female\", \"Female\", \"Female\", \"Female\", \"Male\", \"Male\", \"Male\", \"Male\", \"Male\", \"Female\", \"Female\", \"Female\", \"Female\", \"Female\", \"Female\", \"Female\", \"Female\", \"Female\", \"Female\", \"Female\", \"Female\", \"Female\", \"Female\", \"Female\", \"Female\", \"Female\", \"Male\", \"Female\", \"Female\", \"Female\", \"Female\", \"Female\", \"Female\", \"Female\", \"Female\", \"Female\", \"Female\", \"Female\", \"Female\", \"Female\", \"Female\", \"Female\", \"Male\", \"Male\", \"Male\", \"Male\", \"Male\", \"Male\", \"Male\", \"Male\", \"Male\", \"Male\", \"Male\", \"Male\", \"Male\", \"Male\", \"Male\", \"Male\", \"Male\", \"Male\", \"Male\", \"Male\", \"Male\", \"Male\", \"Male\", \"Male\", \"Male\", \"Male\", \"Male\", \"Male\", \"Male\", \"Male\", \"Male\", \"Male\", \"Male\", \"Male\", \"Male\", \"Male\", \"Male\", \"Male\", \"Male\", \"Male\", \"Male\", \"Male\", \"Male\", \"Male\", \"Male\", \"Male\", \"Male\", \"Male\", \"Male\", \"Male\", \"Male\", \"Male\", \"Male\", \"Male\", \"Male\", \"Male\", \"Male\", \"Male\", \"Male\", \"Male\", \"Male\", \"Male\", \"Male\", \"Male\", \"Actor\", \"Male\", \"Team Sports\", \"Chessmaster\", \"Chessmaster\", \"Chemist\", \"Chemist\", \"Chemist\", \"Athlete\", \"Chemist\", \"Chemist\", \"Chemist\", \"Chemist\", \"Baseball Player\", \"Baseball Player\", \"Baseball Player\", \"Chemist\", \"Chemist\", \"Comedian\", \"Comic Artist\", \"Astronomer\", \"Astronomer\", \"Composer\", \"Companion\", \"Artist\", \"Artist\", \"Companion\", \"Astronaut\", \"Astronaut\", \"Chemist\", \"Astronaut\", \"Companion\", \"Companion\", \"Companion\", \"Astronaut\", \"Comic Artist\", \"Comic Artist\", \"Comic Artist\", \"Companion\", \"Chef\", \"Basketball Player\", \"Basketball Player\", \"Biologist\", \"Biologist\", \"Biologist\", \"Businessperson\", \"Businessperson\", \"Businessperson\", \"Biologist\", \"Businessperson\", \"Biologist\", \"Boxer\", \"Biologist\", \"Boxer\", \"Boxer\", \"Boxer\", \"Biologist\", \"Biologist\", \"Businessperson\", \"Architect\", \"Businessperson\", \"Basketball Player\", \"Basketball Player\", \"Celebrity\", \"Celebrity\", \"Basketball Player\", \"Celebrity\", \"Celebrity\", \"Basketball Player\", \"Businessperson\", \"Celebrity\", \"Basketball Player\", \"Basketball Player\", \"Basketball Player\", \"Basketball Player\", \"Businessperson\", \"Basketball Player\", \"Businessperson\", \"Businessperson\", \"Composer\", \"Athlete\", \"Actor\", \"Designer\", \"Diplomat\", \"Dancer\", \"Economist\", \"Anthropologist\", \"Actor\", \"Economist\", \"Anthropologist\", \"Cyclist\", \"Actor\", \"Anthropologist\", \"Cyclist\", \"Computer Scientist\", \"Computer Scientist\", \"Actor\", \"Actor\", \"American Football Player\", \"Diplomat\", \"Critic\", \"Actor\", \"Computer Scientist\", \"Diplomat\", \"Actor\", \"Female\", \"Female\", \"LA\", \"Male\", \"NY\", \"Mafioso\", \"IL\", \"Social Activist\", \"Astronomer\", \"Male\", \"Male\", \"Writer\", \"IL\", \"Male\", \"Physician\", \"Male\", \"Male\", \"NY\", \"Male\", \"Outlaws\", \"Male\", \"Inventor\", \"LA\", \"Economist\", \"Economist\", \"Businessperson\", \"Diplomat\", \"LA\", \"Businessperson\", \"MD\", \"Female\", \"Male\", \"MA\", \"MA\", \"VT\", \"Victoria\", \"Female\", \"Female\", \"Male\", \"MA\", \"WA\", \"Male\", \"Male\", \"WA\", \"Celebrity\", \"WI\", \"Female\", \"Composer\", \"Female\", \"Female\", \"IA\", \"Male\", \"IA\", \"IA\", \"IA\", \"HI\", \"HI\", \"Male\", \"Engineering\", \"Engineer\", \"Female\", \"Female\", \"Female\", \"GA\", \"FL\", \"Female\", \"Male\", \"GA\", \"Male\", \"Female\", \"IL\", \"KY\", \"Male\", \"KY\", \"Male\", \"Musician\", \"Male\", \"Film Director\", \"Male\", \"Businessperson\", \"Fashion Designer\", \"Male\", \"Male\", \"IN\", \"Musician\", \"Business\", \"Male\", \"IN\", \"IN\", \"Male\", \"Male\", \"Military Personnel\", \"MN\", \"Celebrity\", \"Male\", \"OK\", \"OK\", \"OH\", \"Judge\", \"OH\", \"OH\", \"Male\", \"Sin nombre\", \"OH\", \"Sin nombre\", \"Computer Scientist\", \"Male\", \"NY\", \"Golfer\", \"NY\", \"Sin nombre\", \"NY\", \"Linguist\", \"Female\", \"Sin nombre\", \"Historian\", \"OR\", \"Female\", \"Inventor\", \"SC\", \"SC\", \"Computer Scientist\", \"Composer\", \"Inventor\", \"Female\", \"PA\", \"Sin nombre\", \"Female\", \"Sin nombre\", \"Sin nombre\", \"Inventor\", \"PA\", \"PA\", \"Oxfordshire\", \"Male\", \"OR\", \"Male\", \"MI\", \"NY\", \"Female\", \"Female\", \"Film Director\", \"Male\", \"Male\", \"UT\", \"MO\", \"MO\", \"MO\", \"Computer Scientist\", \"VA\", \"MN\", \"Chemist\", \"Male\", \"VA\", \"MI\", \"Male\", \"MI\", \"Male\", \"Diplomat\", \"Film Director\", \"Golfer\", \"NC\", \"Male\", \"NV\", \"NV\", \"NM\", \"TN\", \"Musician\", \"NJ\", \"NJ\", \"Male\", \"NJ\", \"Mafioso\", \"NH\", \"TN\", \"NH\", \"Male\", \"NE\", \"Male\", \"Martial Arts\", \"Mathematician\", \"Male\", \"Male\", \"FL\", \"Actor\", \"Male\", \"Religious Figure\", \"Wrestler\", \"Wrestler\", \"Racecar Driver\", \"Physician\", \"Basketball Player\", \"Physician\", \"Male\", \"Psychologist\", \"Writer\", \"Psychologist\", \"Writer\", \"Writer\", \"Male\", \"Writer\", \"Writer\", \"Male\", \"Presenter\", \"AZ\", \"Male\", \"Painter\", \"Male\", \"Male\", \"Baseball Player\", \"Painter\", \"Male\", \"Male\", \"AL\", \"AL\", \"Male\", \"Politician\", \"Philosopher\", \"Male\", \"Baseball Player\", \"Physician\", \"Male\", \"Architect\", \"Social Activist\", \"Architect\", \"Physicist\", \"Pilot\", \"Singer\", \"Male\", \"Singer\", \"Male\", \"Soccer Player\", \"Physicist\", \"Astronaut\", \"Skater\", \"Soccer Player\", \"Male\", \"Social Activist\", \"Singer\", \"Politician\", \"Wrestler\", \"Religious Figure\", \"Wrestler\", \"Male\", \"Male\", \"Astronomer\", \"Athlete\", \"Physicist\", \"Male\", \"Male\", \"Male\", \"Politician\", \"Male\", \"Tennis Player\", \"Actor\", \"Skier\", \"CT\", \"Musician\", \"Explorer\", \"Male\", \"Pornographic Actor\", \"Actor\", \"Actor\", \"Male\", \"Male\", \"Male\", \"Male\", \"Male\", \"Male\", \"Biologist\", \"Politician\", \"Politician\", \"Male\", \"Musician\", \"Male\", \"Musician\", \"Male\", \"Male\", \"IN\", \"MD\", \"Extremist\", \"Male\", \"Female\", \"KY\", \"UT\", \"Film And Theatre\", \"TN\", \"Male\", \"Male\", \"IA\", \"Mathematician\", \"Male\", \"Male\", \"Military Personnel\", \"CA\", \"Physician\", \"Male\", \"Male\", \"Female\", \"Male\", \"GA\", \"Skater\", \"Cyclist\", \"Male\", \"PA\", \"Male\", \"WI\", \"Actor\", \"Presenter\", \"Pyr\\u00e9n\\u00e9es-Atlantiques\", \"AR\", \"Model\", \"Soccer Player\", \"Mathematician\", \"MD\", \"Male\", \"IN\", \"Singer\", \"NE\", \"Religious Figure\", \"Male\", \"Sin nombre\", \"Female\", \"Swimmer\", \"Astronaut\", \"Male\", \"Male\", \"Actor\", \"Male\", \"Engineer\", \"KS\", \"Female\", \"WI\", \"Astronaut\", \"Male\", \"Female\", \"Male\", \"Male\", \"WI\", \"Female\", \"Companion\", \"Economist\", \"IA\", \"Male\", \"Female\", \"Presenter\", \"Female\", \"Math\", \"Female\", \"Female\", \"Inventor\", \"Explorer\", \"Actor\", \"Male\", \"Female\", \"Female\", \"Female\", \"Female\", \"Female\", \"Singer\", \"Political Scientist\", \"SC\", \"Male\", \"Architect\", \"VT\", \"VA\", \"Female\", \"Female\", \"Female\", \"Politician\", \"Presenter\", \"PA\", \"Politician\", \"WA\", \"Actor\", \"Economist\", \"Female\", \"OR\", \"Inventor\", \"Male\", \"Singer\", \"Music\", \"Male\", \"WA\", \"Female\", \"WA\", \"Inventor\", \"PA\", \"Female\", \"Inventor\", \"Actor\", \"Actor\", \"Female\", \"Female\", \"Composer\", \"Female\", \"Female\", \"WI\", \"Male\", \"Architect\", \"Producer\", \"Politician\", \"Male\", \"Female\", \"Politician\", \"Economist\", \"TX\", \"Politician\", \"Designer\", \"Economist\", \"Male\", \"TX\", \"TN\", \"Referee\", \"Politician\", \"Female\", \"Computer Scientist\", \"Computer Scientist\", \"Female\", \"Female\", \"Male\", \"Male\", \"W\\u00fcrttemberg\", \"Female\", \"Politician\", \"Female\", \"Male\", \"Female\", \"TX\", \"Female\", \"Male\", \"Shandong Province\", \"Sin nombre\", \"Politician\", \"Male\", \"Extremist\", \"Anthropologist\", \"Historian\", \"Diplomat\", \"Female\", \"Female\", \"Film Director\", \"VA\", \"Politician\", \"Male\", \"Fine Arts\", \"Male\", \"Actor\", \"Male\", \"Engineer\", \"Female\", \"Female\", \"Female\", \"Politician\", \"Film Director\", \"Psychologist\", \"Female\", \"Female\", \"Psychologist\", \"Design\", \"UT\", \"Male\", \"Sin nombre\", \"Male\", \"Eastern Cape\", \"OK\", \"Male\", \"Mountaineer\", \"LA\", \"Male\", \"Painter\", \"Musician\", \"AZ\", \"KY\", \"Ancona\", \"Basketball Player\", \"Basketball Player\", \"Male\", \"Male\", \"KS\", \"Male\", \"CA\", \"KS\", \"Male\", \"Male\", \"Male\", \"Musician\", \"Male\", \"Male\", \"Photographer\", \"Male\", \"Male\", \"Basketball Player\", \"Male\", \"Basketball Player\", \"Male\", \"MD\", \"MD\", \"Male\", \"Male\", \"MD\", \"MD\", \"Male\", \"Writer\", \"Male\", \"Model\", \"Male\", \"MA\", \"MA\", \"Male\", \"Male\", \"IN\", \"Male\", \"IA\", \"IA\", \"Male\", \"HI\", \"Male\", \"Male\", \"Male\", \"Male\", \"Male\", \"Male\", \"Male\", \"Biologist\", \"Musician\", \"GA\", \"GA\", \"Male\", \"Biologist\", \"Male\", \"Male\", \"Male\", \"Male\", \"ID\", \"Biologist\", \"IN\", \"Male\", \"Businessperson\", \"Male\", \"Male\", \"Musician\", \"CA\", \"Biologist\", \"Male\", \"IL\", \"Male\", \"Male\", \"Male\", \"Male\", \"IL\", \"IL\", \"CO\", \"Male\", \"Male\", \"Writer\", \"Male\", \"Male\", \"Male\", \"Male\", \"Astronaut\", \"Male\", \"Male\", \"NY\", \"Social Activist\", \"Astronomer\", \"NY\", \"Male\", \"Sociologist\", \"Male\", \"Physicist\", \"Male\", \"NM\", \"Astronomer\", \"Male\", \"Male\", \"Male\", \"Lawyer\", \"Male\", \"Male\", \"Male\", \"Male\", \"OK\", \"Male\", \"Soccer Player\", \"OH\", \"Physicist\", \"Male\", \"OH\", \"Male\", \"Soccer Player\", \"Male\", \"OH\", \"Judge\", \"OH\", \"Male\", \"OH\", \"Male\", \"Male\", \"Social Activist\", \"Male\", \"Male\", \"Male\", \"Mafioso\", \"Male\", \"Military Personnel\", \"Military Personnel\", \"Wrestler\", \"Military Personnel\", \"Wrestler\", \"Male\", \"Male\", \"MO\", \"Male\", \"MN\", \"Military Personnel\", \"Male\", \"MN\", \"Basketball Player\", \"Writer\", \"Male\", \"Military Personnel\", \"Basketball Player\", \"MT\", \"Male\", \"Male\", \"Chemist\", \"Mafioso\", \"Male\", \"Male\", \"NJ\", \"Chemist\", \"Male\", \"Male\", \"Male\", \"Male\", \"Skier\", \"Athlete\", \"Athlete\", \"Male\", \"Tennis Player\", \"Male\", \"Chemist\", \"Athlete\", \"NE\", \"Male\", \"Wrestler\", \"Male\", \"Male\"], \"marker\": {\"colors\": [\"#636efa\", \"#EF553B\", \"#00cc96\", \"#ab63fa\", \"#FFA15A\", \"#19d3f3\", \"#FF6692\", \"#B6E880\", \"#FF97FF\", \"#FFA15A\", \"#FECB52\", \"#ab63fa\", \"#FF97FF\", \"#636efa\", \"#EF553B\", \"#00cc96\", \"#636efa\", \"#ab63fa\", \"#00cc96\", \"#FFA15A\", \"#19d3f3\", \"#FF6692\", \"#FFA15A\", \"#B6E880\", \"#FF97FF\", \"#FECB52\", \"#FECB52\", \"#636efa\", \"#FFA15A\", \"#EF553B\", \"#19d3f3\", \"#EF553B\", \"#00cc96\", \"#FECB52\", \"#ab63fa\", \"#EF553B\", \"#EF553B\", \"#19d3f3\", \"#FFA15A\", \"#FF6692\", \"#19d3f3\", \"#00cc96\", \"#FF6692\", \"#636efa\", \"#00cc96\", \"#EF553B\", \"#B6E880\", \"#ab63fa\", \"#FF97FF\", \"#00cc96\", \"#FECB52\", \"#ab63fa\", \"#FECB52\", \"#636efa\", \"#00cc96\", \"#EF553B\", \"#19d3f3\", \"#636efa\", \"#B6E880\", \"#EF553B\", \"#636efa\", \"#00cc96\", \"#636efa\", \"#FFA15A\", \"#FF97FF\", \"#FFA15A\", \"#ab63fa\", \"#FFA15A\", \"#00cc96\", \"#FF6692\", \"#636efa\", \"#FF6692\", \"#19d3f3\", \"#FECB52\", \"#ab63fa\", \"#FFA15A\", \"#00cc96\", \"#FF6692\", \"#19d3f3\", \"#FFA15A\", \"#FF97FF\", \"#B6E880\", \"#FF6692\", \"#636efa\", \"#B6E880\", \"#FF97FF\", \"#FECB52\", \"#636efa\", \"#FFA15A\", \"#EF553B\", \"#EF553B\", \"#636efa\", \"#B6E880\", \"#19d3f3\", \"#B6E880\", \"#636efa\", \"#00cc96\", \"#00cc96\", \"#FFA15A\", \"#ab63fa\", \"#ab63fa\", \"#ab63fa\", \"#FECB52\", \"#FFA15A\", \"#00cc96\", \"#19d3f3\", \"#FFA15A\", \"#19d3f3\", \"#636efa\", \"#FFA15A\", \"#FFA15A\", \"#EF553B\", \"#ab63fa\", \"#EF553B\", \"#ab63fa\", \"#00cc96\", \"#FF6692\", \"#FFA15A\", \"#00cc96\", \"#B6E880\", \"#00cc96\", \"#FECB52\", \"#EF553B\", \"#FECB52\", \"#636efa\", \"#FFA15A\", \"#FF6692\", \"#00cc96\", \"#B6E880\", \"#B6E880\", \"#FF97FF\", \"#FFA15A\", \"#FECB52\", \"#FECB52\", \"#FECB52\", \"#ab63fa\", \"#FFA15A\", \"#636efa\", \"#636efa\", \"#EF553B\", \"#ab63fa\", \"#00cc96\", \"#00cc96\", \"#00cc96\", \"#ab63fa\", \"#ab63fa\", \"#FF97FF\", \"#19d3f3\", \"#EF553B\", \"#FECB52\", \"#636efa\", \"#FFA15A\", \"#EF553B\", \"#636efa\", \"#EF553B\", \"#636efa\", \"#00cc96\", \"#EF553B\", \"#00cc96\", \"#636efa\", \"#EF553B\", \"#00cc96\", \"#EF553B\", \"#636efa\", \"#FF97FF\", \"#636efa\", \"#636efa\", \"#FFA15A\", \"#FF6692\", \"#FFA15A\", \"#FFA15A\", \"#00cc96\", \"#ab63fa\", \"#EF553B\", \"#19d3f3\", \"#636efa\", \"#B6E880\", \"#00cc96\", \"#FF6692\", \"#EF553B\", \"#19d3f3\", \"#00cc96\", \"#EF553B\", \"#B6E880\", \"#FF97FF\", \"#B6E880\", \"#636efa\", \"#ab63fa\", \"#636efa\", \"#FFA15A\", \"#FF97FF\", \"#00cc96\", \"#FECB52\", \"#00cc96\", \"#FF97FF\", \"#636efa\", \"#FFA15A\", \"#EF553B\", \"#EF553B\", \"#00cc96\", \"#EF553B\", \"#B6E880\", \"#636efa\", \"#636efa\", \"#FFA15A\", \"#19d3f3\", \"#FFA15A\", \"#19d3f3\", \"#B6E880\", \"#00cc96\", \"#19d3f3\", \"#FECB52\", \"#ab63fa\", \"#FFA15A\", \"#FFA15A\", \"#19d3f3\", \"#636efa\", \"#ab63fa\", \"#19d3f3\", \"#FF97FF\", \"#EF553B\", \"#636efa\", \"#FFA15A\", \"#FF6692\", \"#00cc96\", \"#FFA15A\", \"#FFA15A\", \"#FF6692\", \"#FFA15A\", \"#636efa\", \"#FF6692\", \"#19d3f3\", \"#FF97FF\", \"#B6E880\", \"#FFA15A\", \"#FFA15A\", \"#19d3f3\", \"#19d3f3\", \"#ab63fa\", \"#ab63fa\", \"#B6E880\", \"#ab63fa\", \"#FFA15A\", \"#00cc96\", \"#FFA15A\", \"#FF6692\", \"#636efa\", \"#FFA15A\", \"#ab63fa\", \"#ab63fa\", \"#FECB52\", \"#636efa\", \"#EF553B\", \"#FF97FF\", \"#636efa\", \"#ab63fa\", \"#FFA15A\", \"#FFA15A\", \"#636efa\", \"#19d3f3\", \"#00cc96\", \"#FFA15A\", \"#00cc96\", \"#FF6692\", \"#FF97FF\", \"#ab63fa\", \"#FFA15A\", \"#FFA15A\", \"#EF553B\", \"#FF97FF\", \"#EF553B\", \"#ab63fa\", \"#636efa\", \"#EF553B\", \"#EF553B\", \"#EF553B\", \"#636efa\", \"#EF553B\", \"#00cc96\", \"#FFA15A\", \"#00cc96\", \"#ab63fa\", \"#19d3f3\", \"#FF6692\", \"#FFA15A\", \"#636efa\", \"#B6E880\", \"#00cc96\", \"#FFA15A\", \"#FECB52\", \"#ab63fa\", \"#636efa\", \"#FF97FF\", \"#FF97FF\", \"#B6E880\", \"#FF97FF\", \"#00cc96\", \"#00cc96\", \"#FF6692\", \"#ab63fa\", \"#636efa\", \"#636efa\", \"#FECB52\", \"#636efa\", \"#FFA15A\", \"#FF6692\", \"#FECB52\", \"#636efa\", \"#FFA15A\", \"#636efa\", \"#636efa\", \"#636efa\", \"#636efa\", \"#ab63fa\", \"#00cc96\", \"#FF97FF\", \"#B6E880\", \"#FECB52\", \"#EF553B\", \"#FF6692\", \"#FFA15A\", \"#FFA15A\", \"#ab63fa\", \"#636efa\", \"#B6E880\", \"#B6E880\", \"#EF553B\", \"#FFA15A\", \"#FFA15A\", \"#FFA15A\", \"#00cc96\", \"#00cc96\", \"#00cc96\", \"#B6E880\", \"#B6E880\", \"#EF553B\", \"#00cc96\", \"#B6E880\", \"#00cc96\", \"#00cc96\", \"#19d3f3\", \"#FFA15A\", \"#ab63fa\", \"#B6E880\", \"#FECB52\", \"#EF553B\", \"#B6E880\", \"#19d3f3\", \"#FFA15A\", \"#FFA15A\", \"#FF97FF\", \"#FF97FF\", \"#FF97FF\", \"#FF6692\", \"#19d3f3\", \"#00cc96\", \"#FFA15A\", \"#FF97FF\", \"#19d3f3\", \"#19d3f3\", \"#19d3f3\", \"#B6E880\", \"#FF97FF\", \"#FFA15A\", \"#636efa\", \"#EF553B\", \"#FFA15A\", \"#636efa\", \"#636efa\", \"#FECB52\", \"#B6E880\", \"#FFA15A\", \"#636efa\", \"#FF97FF\", \"#19d3f3\", \"#FFA15A\", \"#B6E880\", \"#B6E880\", \"#FECB52\", \"#FECB52\", \"#FF97FF\", \"#FFA15A\", \"#19d3f3\", \"#FECB52\", \"#FF6692\", \"#19d3f3\", \"#ab63fa\", \"#FF97FF\", \"#FF6692\", \"#ab63fa\", \"#636efa\", \"#636efa\", \"#ab63fa\", \"#EF553B\", \"#636efa\", \"#FF6692\", \"#FFA15A\", \"#636efa\", \"#FECB52\", \"#00cc96\", \"#FFA15A\", \"#EF553B\", \"#B6E880\", \"#FFA15A\", \"#B6E880\", \"#B6E880\", \"#636efa\", \"#ab63fa\", \"#00cc96\", \"#636efa\", \"#19d3f3\", \"#FFA15A\", \"#EF553B\", \"#FF97FF\", \"#EF553B\", \"#636efa\", \"#19d3f3\", \"#00cc96\", \"#FECB52\", \"#FECB52\", \"#ab63fa\", \"#636efa\", \"#FF6692\", \"#B6E880\", \"#FFA15A\", \"#636efa\", \"#B6E880\", \"#FFA15A\", \"#636efa\", \"#636efa\", \"#FF97FF\", \"#FFA15A\", \"#636efa\", \"#ab63fa\", \"#636efa\", \"#FFA15A\", \"#19d3f3\", \"#00cc96\", \"#19d3f3\", \"#00cc96\", \"#FECB52\", \"#ab63fa\", \"#B6E880\", \"#00cc96\", \"#B6E880\", \"#B6E880\", \"#EF553B\", \"#00cc96\", \"#19d3f3\", \"#00cc96\", \"#19d3f3\", \"#FFA15A\", \"#B6E880\", \"#FFA15A\", \"#FFA15A\", \"#636efa\", \"#EF553B\", \"#00cc96\", \"#FFA15A\", \"#FFA15A\", \"#FF97FF\", \"#FFA15A\", \"#00cc96\", \"#FECB52\", \"#19d3f3\", \"#FECB52\", \"#B6E880\", \"#636efa\", \"#ab63fa\", \"#FFA15A\", \"#EF553B\", \"#FF97FF\", \"#FFA15A\", \"#00cc96\", \"#FFA15A\", \"#636efa\", \"#FF6692\", \"#FECB52\", \"#00cc96\", \"#636efa\", \"#EF553B\", \"#FFA15A\", \"#00cc96\", \"#EF553B\", \"#EF553B\", \"#ab63fa\", \"#00cc96\", \"#EF553B\", \"#19d3f3\", \"#ab63fa\", \"#FF97FF\", \"#636efa\", \"#FF6692\", \"#B6E880\", \"#FECB52\", \"#FFA15A\", \"#FF6692\", \"#19d3f3\", \"#B6E880\", \"#EF553B\", \"#636efa\", \"#FFA15A\", \"#FF97FF\", \"#FECB52\", \"#B6E880\", \"#19d3f3\", \"#636efa\", \"#FFA15A\", \"#FECB52\", \"#FFA15A\", \"#FF6692\", \"#FF6692\", \"#FF6692\", \"#B6E880\", \"#ab63fa\", \"#19d3f3\", \"#FF97FF\", \"#FF6692\", \"#636efa\", \"#636efa\", \"#636efa\", \"#EF553B\", \"#FFA15A\", \"#FFA15A\", \"#B6E880\", \"#EF553B\", \"#00cc96\", \"#FFA15A\", \"#FFA15A\", \"#636efa\", \"#00cc96\", \"#FFA15A\", \"#FF6692\", \"#FF97FF\", \"#636efa\", \"#FECB52\", \"#636efa\", \"#FFA15A\", \"#ab63fa\", \"#EF553B\", \"#19d3f3\", \"#B6E880\", \"#00cc96\", \"#FFA15A\", \"#FF97FF\", \"#FFA15A\", \"#B6E880\", \"#FECB52\", \"#FECB52\", \"#B6E880\", \"#00cc96\", \"#FECB52\", \"#FFA15A\", \"#EF553B\", \"#00cc96\", \"#636efa\", \"#00cc96\", \"#636efa\", \"#B6E880\", \"#ab63fa\", \"#FF6692\", \"#FFA15A\", \"#ab63fa\", \"#EF553B\", \"#FFA15A\", \"#EF553B\", \"#ab63fa\", \"#B6E880\", \"#19d3f3\", \"#636efa\", \"#636efa\", \"#ab63fa\", \"#FF97FF\", \"#636efa\", \"#EF553B\", \"#FF6692\", \"#B6E880\", \"#EF553B\", \"#B6E880\", \"#EF553B\", \"#EF553B\", \"#00cc96\", \"#EF553B\", \"#636efa\", \"#B6E880\", \"#636efa\", \"#FF6692\", \"#636efa\", \"#00cc96\", \"#FF6692\", \"#636efa\", \"#FFA15A\", \"#ab63fa\", \"#00cc96\", \"#636efa\", \"#FF6692\", \"#636efa\", \"#00cc96\", \"#FFA15A\", \"#636efa\", \"#636efa\", \"#FECB52\", \"#636efa\", \"#FF97FF\", \"#EF553B\", \"#FFA15A\", \"#FFA15A\", \"#FECB52\", \"#FECB52\", \"#EF553B\", \"#00cc96\", \"#00cc96\", \"#636efa\", \"#FFA15A\", \"#B6E880\", \"#00cc96\", \"#FF6692\", \"#FF97FF\", \"#19d3f3\", \"#EF553B\", \"#636efa\", \"#636efa\", \"#FF6692\", \"#00cc96\", \"#636efa\", \"#FFA15A\", \"#EF553B\", \"#636efa\", \"#636efa\", \"#FECB52\", \"#ab63fa\", \"#B6E880\", \"#EF553B\", \"#EF553B\", \"#EF553B\", \"#FF6692\", \"#FF6692\", \"#FFA15A\", \"#636efa\", \"#FF6692\", \"#FFA15A\", \"#FF6692\", \"#B6E880\", \"#EF553B\", \"#FFA15A\", \"#00cc96\", \"#636efa\", \"#FFA15A\", \"#ab63fa\", \"#00cc96\", \"#636efa\", \"#FECB52\", \"#00cc96\", \"#EF553B\", \"#ab63fa\", \"#EF553B\", \"#FFA15A\", \"#ab63fa\", \"#EF553B\", \"#EF553B\", \"#636efa\", \"#B6E880\", \"#EF553B\", \"#ab63fa\", \"#EF553B\", \"#EF553B\", \"#00cc96\", \"#FF6692\", \"#FF6692\", \"#FFA15A\", \"#FFA15A\", \"#FFA15A\", \"#B6E880\", \"#19d3f3\", \"#FFA15A\", \"#FECB52\", \"#636efa\", \"#B6E880\", \"#ab63fa\", \"#FF97FF\", \"#FECB52\", \"#636efa\", \"#FFA15A\", \"#FF6692\", \"#ab63fa\", \"#FF97FF\", \"#EF553B\", \"#00cc96\", \"#ab63fa\", \"#FECB52\", \"#636efa\", \"#FECB52\", \"#FFA15A\", \"#FFA15A\", \"#EF553B\", \"#00cc96\", \"#FECB52\", \"#ab63fa\", \"#ab63fa\", \"#EF553B\", \"#FF6692\", \"#00cc96\", \"#636efa\", \"#FECB52\", \"#FFA15A\", \"#00cc96\", \"#636efa\", \"#FFA15A\", \"#00cc96\", \"#FFA15A\", \"#FF97FF\", \"#FECB52\", \"#FF97FF\", \"#FFA15A\", \"#636efa\", \"#FFA15A\", \"#00cc96\", \"#00cc96\", \"#636efa\", \"#B6E880\", \"#B6E880\", \"#00cc96\", \"#FFA15A\", \"#B6E880\", \"#636efa\", \"#FFA15A\", \"#00cc96\", \"#B6E880\", \"#00cc96\", \"#19d3f3\", \"#FECB52\", \"#FF6692\", \"#636efa\", \"#B6E880\", \"#19d3f3\", \"#00cc96\", \"#636efa\", \"#FECB52\", \"#B6E880\", \"#FFA15A\", \"#FECB52\", \"#EF553B\", \"#ab63fa\", \"#B6E880\", \"#EF553B\", \"#ab63fa\", \"#FFA15A\", \"#FFA15A\", \"#636efa\", \"#FFA15A\", \"#EF553B\", \"#FECB52\", \"#FECB52\", \"#00cc96\", \"#FFA15A\", \"#FFA15A\", \"#B6E880\", \"#19d3f3\", \"#B6E880\", \"#636efa\", \"#636efa\", \"#EF553B\", \"#FF6692\", \"#B6E880\", \"#ab63fa\", \"#636efa\", \"#636efa\", \"#FECB52\", \"#FF97FF\", \"#19d3f3\", \"#FECB52\", \"#00cc96\", \"#19d3f3\", \"#19d3f3\", \"#00cc96\", \"#636efa\", \"#FECB52\", \"#B6E880\", \"#EF553B\", \"#FECB52\", \"#FECB52\", \"#EF553B\", \"#636efa\", \"#ab63fa\", \"#FF97FF\", \"#EF553B\", \"#EF553B\", \"#FF97FF\", \"#ab63fa\", \"#636efa\", \"#636efa\", \"#FFA15A\", \"#FFA15A\", \"#FF97FF\", \"#19d3f3\", \"#FFA15A\", \"#FFA15A\", \"#19d3f3\", \"#FFA15A\", \"#19d3f3\", \"#19d3f3\", \"#ab63fa\", \"#19d3f3\", \"#00cc96\", \"#FFA15A\", \"#ab63fa\", \"#636efa\", \"#ab63fa\", \"#00cc96\", \"#B6E880\", \"#FF97FF\", \"#FF97FF\", \"#19d3f3\", \"#636efa\", \"#EF553B\", \"#ab63fa\", \"#FECB52\", \"#FECB52\", \"#EF553B\", \"#ab63fa\", \"#636efa\", \"#636efa\", \"#636efa\", \"#EF553B\", \"#19d3f3\", \"#FFA15A\", \"#FF97FF\", \"#636efa\", \"#FFA15A\", \"#FECB52\", \"#FFA15A\", \"#FFA15A\", \"#FFA15A\", \"#EF553B\", \"#EF553B\", \"#EF553B\", \"#EF553B\", \"#FFA15A\", \"#FFA15A\", \"#FF97FF\", \"#FFA15A\", \"#FFA15A\", \"#FFA15A\", \"#FFA15A\", \"#636efa\", \"#EF553B\", \"#FFA15A\", \"#00cc96\", \"#FFA15A\", \"#636efa\", \"#EF553B\", \"#FFA15A\", \"#FFA15A\", \"#636efa\", \"#636efa\", \"#B6E880\", \"#FF6692\", \"#ab63fa\", \"#FF6692\", \"#FF97FF\", \"#EF553B\", \"#00cc96\", \"#FECB52\", \"#FFA15A\", \"#00cc96\", \"#00cc96\", \"#FFA15A\", \"#FF6692\", \"#19d3f3\", \"#19d3f3\", \"#ab63fa\", \"#FFA15A\", \"#FFA15A\", \"#EF553B\", \"#EF553B\", \"#EF553B\", \"#B6E880\", \"#19d3f3\", \"#636efa\", \"#ab63fa\", \"#636efa\", \"#FECB52\", \"#19d3f3\", \"#00cc96\", \"#00cc96\", \"#19d3f3\", \"#00cc96\", \"#B6E880\", \"#FF6692\", \"#19d3f3\", \"#19d3f3\", \"#FECB52\", \"#00cc96\", \"#B6E880\", \"#ab63fa\", \"#636efa\", \"#00cc96\", \"#FFA15A\", \"#B6E880\", \"#FF97FF\", \"#EF553B\", \"#636efa\", \"#FFA15A\", \"#FF6692\", \"#636efa\", \"#B6E880\", \"#B6E880\", \"#00cc96\", \"#636efa\", \"#FECB52\", \"#FFA15A\", \"#00cc96\", \"#636efa\", \"#636efa\", \"#B6E880\", \"#B6E880\", \"#FECB52\", \"#636efa\", \"#FF97FF\", \"#636efa\", \"#ab63fa\", \"#FF6692\", \"#FFA15A\", \"#EF553B\", \"#19d3f3\", \"#636efa\", \"#FFA15A\", \"#00cc96\", \"#FFA15A\", \"#FFA15A\", \"#B6E880\", \"#EF553B\", \"#00cc96\", \"#636efa\", \"#EF553B\", \"#EF553B\", \"#FF6692\", \"#EF553B\", \"#636efa\", \"#EF553B\", \"#FF6692\", \"#EF553B\", \"#FECB52\", \"#B6E880\", \"#EF553B\", \"#636efa\", \"#EF553B\", \"#636efa\", \"#FF6692\", \"#EF553B\", \"#ab63fa\", \"#FFA15A\", \"#B6E880\", \"#B6E880\", \"#FFA15A\", \"#00cc96\", \"#636efa\", \"#00cc96\", \"#00cc96\", \"#00cc96\", \"#B6E880\", \"#00cc96\", \"#00cc96\", \"#19d3f3\", \"#636efa\", \"#636efa\", \"#FF97FF\", \"#ab63fa\", \"#FFA15A\", \"#FFA15A\", \"#19d3f3\", \"#EF553B\", \"#FF6692\", \"#FF6692\", \"#636efa\", \"#636efa\", \"#00cc96\", \"#00cc96\", \"#636efa\", \"#00cc96\", \"#636efa\", \"#636efa\", \"#FF6692\", \"#636efa\", \"#636efa\", \"#ab63fa\", \"#636efa\", \"#636efa\", \"#00cc96\", \"#19d3f3\", \"#19d3f3\", \"#FF6692\", \"#636efa\", \"#00cc96\", \"#00cc96\", \"#636efa\", \"#00cc96\", \"#19d3f3\", \"#00cc96\", \"#00cc96\", \"#636efa\", \"#EF553B\", \"#FF6692\", \"#FFA15A\", \"#FF97FF\", \"#636efa\", \"#FF97FF\", \"#00cc96\", \"#19d3f3\", \"#636efa\", \"#FECB52\", \"#636efa\", \"#FECB52\", \"#FECB52\", \"#636efa\", \"#636efa\", \"#FECB52\", \"#ab63fa\", \"#FECB52\", \"#EF553B\", \"#EF553B\", \"#FECB52\", \"#EF553B\", \"#636efa\", \"#FF97FF\", \"#636efa\", \"#B6E880\", \"#B6E880\", \"#FF6692\", \"#ab63fa\", \"#636efa\", \"#00cc96\", \"#FFA15A\", \"#FF97FF\", \"#EF553B\", \"#636efa\", \"#19d3f3\", \"#19d3f3\", \"#19d3f3\", \"#FFA15A\", \"#19d3f3\", \"#EF553B\", \"#FECB52\", \"#636efa\", \"#FECB52\", \"#FFA15A\", \"#636efa\", \"#B6E880\", \"#19d3f3\", \"#636efa\", \"#19d3f3\", \"#FFA15A\", \"#FFA15A\", \"#FFA15A\", \"#FFA15A\", \"#FF6692\", \"#FFA15A\", \"#636efa\", \"#636efa\", \"#FECB52\", \"#FFA15A\", \"#636efa\", \"#636efa\", \"#B6E880\", \"#FFA15A\", \"#00cc96\", \"#FFA15A\", \"#FFA15A\", \"#ab63fa\", \"#00cc96\", \"#FFA15A\", \"#636efa\", \"#B6E880\", \"#B6E880\", \"#00cc96\", \"#636efa\", \"#EF553B\", \"#636efa\", \"#00cc96\", \"#B6E880\", \"#EF553B\", \"#636efa\", \"#636efa\", \"#636efa\", \"#FFA15A\", \"#636efa\", \"#FFA15A\", \"#FECB52\", \"#00cc96\", \"#00cc96\", \"#636efa\", \"#ab63fa\", \"#FFA15A\", \"#ab63fa\", \"#ab63fa\", \"#ab63fa\", \"#636efa\", \"#FFA15A\", \"#FFA15A\", \"#FFA15A\", \"#EF553B\", \"#B6E880\", \"#B6E880\", \"#00cc96\", \"#00cc96\", \"#00cc96\", \"#EF553B\", \"#EF553B\", \"#FECB52\", \"#EF553B\", \"#FF6692\", \"#FECB52\", \"#FF6692\", \"#FF6692\", \"#FECB52\", \"#B6E880\", \"#FF6692\", \"#FF6692\", \"#FF6692\", \"#B6E880\", \"#B6E880\", \"#EF553B\", \"#636efa\", \"#EF553B\", \"#B6E880\", \"#FECB52\", \"#00cc96\", \"#FFA15A\", \"#636efa\", \"#FFA15A\", \"#EF553B\", \"#19d3f3\", \"#EF553B\", \"#FF6692\", \"#FECB52\", \"#636efa\", \"#EF553B\", \"#EF553B\", \"#FECB52\", \"#EF553B\", \"#FECB52\", \"#EF553B\", \"#EF553B\", \"#EF553B\", \"#B6E880\", \"#EF553B\", \"#B6E880\", \"#FF97FF\", \"#636efa\", \"#636efa\", \"#FFA15A\", \"#B6E880\", \"#EF553B\", \"#FFA15A\", \"#FFA15A\", \"#FFA15A\", \"#FFA15A\", \"#636efa\", \"#636efa\", \"#19d3f3\", \"#636efa\", \"#FF97FF\", \"#00cc96\", \"#636efa\", \"#FF97FF\", \"#EF553B\", \"#636efa\", \"#00cc96\", \"#EF553B\", \"#636efa\", \"#EF553B\", \"#19d3f3\", \"#636efa\", \"#FFA15A\", \"#FFA15A\", \"#19d3f3\", \"#19d3f3\", \"#EF553B\", \"#636efa\", \"#B6E880\", \"#EF553B\", \"#636efa\", \"#FF6692\", \"#FFA15A\", \"#636efa\", \"#FFA15A\", \"#636efa\", \"#636efa\", \"#EF553B\", \"#00cc96\", \"#FFA15A\", \"#636efa\", \"#ab63fa\", \"#636efa\", \"#636efa\", \"#FFA15A\", \"#FFA15A\", \"#19d3f3\", \"#FF97FF\", \"#00cc96\", \"#EF553B\", \"#00cc96\", \"#636efa\", \"#EF553B\", \"#00cc96\", \"#FFA15A\", \"#00cc96\", \"#EF553B\", \"#EF553B\", \"#EF553B\", \"#EF553B\", \"#00cc96\", \"#636efa\", \"#FF97FF\", \"#ab63fa\", \"#19d3f3\", \"#FF6692\", \"#EF553B\", \"#19d3f3\", \"#FF97FF\", \"#B6E880\", \"#00cc96\", \"#636efa\", \"#00cc96\", \"#FF6692\", \"#00cc96\", \"#00cc96\", \"#636efa\", \"#636efa\", \"#636efa\", \"#00cc96\", \"#EF553B\", \"#00cc96\", \"#00cc96\", \"#636efa\", \"#636efa\", \"#00cc96\", \"#636efa\", \"#FF6692\", \"#636efa\", \"#00cc96\", \"#19d3f3\", \"#FF97FF\", \"#00cc96\", \"#EF553B\", \"#00cc96\", \"#636efa\", \"#FFA15A\", \"#FF6692\", \"#00cc96\", \"#EF553B\", \"#EF553B\", \"#EF553B\", \"#EF553B\", \"#EF553B\", \"#EF553B\", \"#B6E880\", \"#FF6692\", \"#FF6692\", \"#FF6692\", \"#19d3f3\", \"#19d3f3\", \"#19d3f3\", \"#19d3f3\", \"#FFA15A\", \"#FFA15A\", \"#FFA15A\", \"#FFA15A\", \"#FFA15A\", \"#FFA15A\", \"#FFA15A\", \"#FFA15A\", \"#FFA15A\", \"#00cc96\", \"#00cc96\", \"#00cc96\", \"#00cc96\", \"#EF553B\", \"#EF553B\", \"#EF553B\", \"#EF553B\", \"#636efa\", \"#B6E880\", \"#B6E880\", \"#B6E880\", \"#636efa\", \"#636efa\", \"#636efa\", \"#00cc96\", \"#00cc96\", \"#19d3f3\", \"#19d3f3\", \"#ab63fa\", \"#FFA15A\", \"#00cc96\", \"#FFA15A\", \"#FF6692\", \"#FF6692\", \"#FF6692\", \"#FF6692\", \"#FECB52\", \"#ab63fa\", \"#B6E880\", \"#FF97FF\", \"#FECB52\", \"#FECB52\", \"#FECB52\", \"#EF553B\", \"#EF553B\", \"#19d3f3\", \"#00cc96\", \"#00cc96\", \"#00cc96\", \"#FECB52\", \"#FECB52\", \"#FECB52\", \"#B6E880\", \"#B6E880\", \"#B6E880\", \"#B6E880\", \"#00cc96\", \"#00cc96\", \"#B6E880\", \"#B6E880\", \"#B6E880\", \"#B6E880\", \"#EF553B\", \"#B6E880\", \"#FF6692\", \"#FF6692\", \"#FF6692\", \"#EF553B\", \"#EF553B\", \"#EF553B\", \"#EF553B\", \"#EF553B\", \"#EF553B\", \"#EF553B\", \"#EF553B\", \"#FFA15A\", \"#FFA15A\", \"#FF6692\", \"#636efa\", \"#FFA15A\", \"#FFA15A\", \"#00cc96\", \"#00cc96\", \"#00cc96\", \"#00cc96\", \"#00cc96\", \"#00cc96\", \"#FF97FF\", \"#EF553B\", \"#EF553B\", \"#EF553B\", \"#636efa\", \"#636efa\", \"#636efa\", \"#FFA15A\", \"#636efa\", \"#ab63fa\", \"#ab63fa\", \"#ab63fa\", \"#B6E880\", \"#FFA15A\", \"#FFA15A\", \"#FFA15A\", \"#FFA15A\", \"#FFA15A\", \"#FFA15A\", \"#FFA15A\", \"#FFA15A\", \"#FFA15A\", \"#EF553B\", \"#FFA15A\", \"#636efa\", \"#636efa\", \"#EF553B\", \"#B6E880\", \"#19d3f3\", \"#FFA15A\", \"#00cc96\", \"#00cc96\", \"#00cc96\", \"#EF553B\", \"#FF97FF\", \"#00cc96\", \"#FFA15A\", \"#FFA15A\", \"#FFA15A\", \"#FFA15A\", \"#FFA15A\", \"#FFA15A\", \"#ab63fa\", \"#B6E880\", \"#B6E880\", \"#EF553B\", \"#EF553B\", \"#EF553B\", \"#FFA15A\", \"#FFA15A\", \"#FFA15A\", \"#FFA15A\", \"#FFA15A\", \"#EF553B\", \"#EF553B\", \"#EF553B\", \"#FF97FF\", \"#FFA15A\", \"#FFA15A\", \"#FFA15A\", \"#FFA15A\", \"#FFA15A\", \"#FFA15A\", \"#FFA15A\", \"#FFA15A\", \"#FECB52\", \"#B6E880\", \"#FF97FF\", \"#FECB52\", \"#B6E880\", \"#FFA15A\", \"#B6E880\", \"#FF6692\", \"#ab63fa\", \"#ab63fa\", \"#ab63fa\", \"#ab63fa\", \"#19d3f3\", \"#19d3f3\", \"#19d3f3\", \"#ab63fa\", \"#636efa\", \"#00cc96\", \"#00cc96\", \"#FF97FF\", \"#ab63fa\", \"#FFA15A\", \"#FFA15A\", \"#FFA15A\", \"#19d3f3\", \"#ab63fa\", \"#ab63fa\", \"#ab63fa\", \"#ab63fa\", \"#ab63fa\", \"#19d3f3\", \"#19d3f3\", \"#19d3f3\", \"#19d3f3\", \"#19d3f3\", \"#FF97FF\", \"#636efa\", \"#19d3f3\", \"#636efa\", \"#FF97FF\", \"#00cc96\", \"#00cc96\", \"#00cc96\", \"#636efa\", \"#636efa\", \"#FECB52\", \"#FF97FF\", \"#FFA15A\", \"#FFA15A\", \"#19d3f3\", \"#00cc96\", \"#ab63fa\", \"#FF97FF\", \"#636efa\", \"#B6E880\", \"#B6E880\", \"#FFA15A\", \"#FF6692\", \"#FF6692\", \"#FECB52\", \"#EF553B\", \"#EF553B\", \"#00cc96\", \"#00cc96\", \"#B6E880\", \"#B6E880\", \"#B6E880\", \"#B6E880\", \"#FF97FF\", \"#B6E880\", \"#FF97FF\", \"#FECB52\", \"#FECB52\", \"#FECB52\", \"#636efa\", \"#636efa\", \"#636efa\", \"#636efa\", \"#636efa\", \"#636efa\", \"#636efa\", \"#636efa\", \"#B6E880\", \"#B6E880\", \"#FECB52\", \"#FFA15A\", \"#EF553B\", \"#636efa\", \"#FF97FF\", \"#FF97FF\", \"#19d3f3\", \"#19d3f3\", \"#19d3f3\", \"#FECB52\", \"#19d3f3\", \"#19d3f3\", \"#19d3f3\", \"#19d3f3\", \"#EF553B\", \"#EF553B\", \"#EF553B\", \"#19d3f3\", \"#19d3f3\", \"#636efa\", \"#FF97FF\", \"#FF97FF\", \"#FF97FF\", \"#00cc96\", \"#ab63fa\", \"#00cc96\", \"#00cc96\", \"#ab63fa\", \"#B6E880\", \"#B6E880\", \"#19d3f3\", \"#B6E880\", \"#ab63fa\", \"#ab63fa\", \"#ab63fa\", \"#B6E880\", \"#FF97FF\", \"#FF97FF\", \"#FF97FF\", \"#ab63fa\", \"#FF6692\", \"#636efa\", \"#636efa\", \"#B6E880\", \"#B6E880\", \"#B6E880\", \"#ab63fa\", \"#ab63fa\", \"#ab63fa\", \"#B6E880\", \"#ab63fa\", \"#B6E880\", \"#19d3f3\", \"#B6E880\", \"#19d3f3\", \"#19d3f3\", \"#19d3f3\", \"#B6E880\", \"#B6E880\", \"#ab63fa\", \"#EF553B\", \"#ab63fa\", \"#636efa\", \"#636efa\", \"#19d3f3\", \"#19d3f3\", \"#636efa\", \"#19d3f3\", \"#19d3f3\", \"#636efa\", \"#ab63fa\", \"#19d3f3\", \"#636efa\", \"#636efa\", \"#636efa\", \"#636efa\", \"#ab63fa\", \"#636efa\", \"#ab63fa\", \"#ab63fa\", \"#00cc96\", \"#FECB52\", \"#FFA15A\", \"#00cc96\", \"#ab63fa\", \"#19d3f3\", \"#636efa\", \"#FF6692\", \"#FFA15A\", \"#636efa\", \"#FF6692\", \"#FFA15A\", \"#FFA15A\", \"#FF6692\", \"#FFA15A\", \"#636efa\", \"#636efa\", \"#FFA15A\", \"#FFA15A\", \"#FF6692\", \"#ab63fa\", \"#19d3f3\", \"#FFA15A\", \"#636efa\", \"#ab63fa\", \"#FFA15A\", \"#FFA15A\", \"#00cc96\", \"#636efa\", \"#FF6692\", \"#636efa\", \"#FFA15A\", \"#FF6692\", \"#B6E880\", \"#FF97FF\", \"#FF97FF\", \"#FFA15A\", \"#EF553B\", \"#B6E880\", \"#ab63fa\", \"#19d3f3\", \"#00cc96\", \"#19d3f3\", \"#FF6692\", \"#FF6692\", \"#636efa\", \"#FF97FF\", \"#FF6692\", \"#FF97FF\", \"#636efa\", \"#636efa\", \"#ab63fa\", \"#ab63fa\", \"#636efa\", \"#ab63fa\", \"#636efa\", \"#ab63fa\", \"#FF97FF\", \"#B6E880\", \"#FF6692\", \"#636efa\", \"#FECB52\", \"#19d3f3\", \"#FECB52\", \"#ab63fa\", \"#636efa\", \"#636efa\", \"#636efa\", \"#00cc96\", \"#636efa\", \"#19d3f3\", \"#636efa\", \"#ab63fa\", \"#00cc96\", \"#B6E880\", \"#FFA15A\", \"#636efa\", \"#00cc96\", \"#636efa\", \"#FFA15A\", \"#ab63fa\", \"#636efa\", \"#ab63fa\", \"#00cc96\", \"#B6E880\", \"#B6E880\", \"#FFA15A\", \"#FFA15A\", \"#FFA15A\", \"#00cc96\", \"#636efa\", \"#FFA15A\", \"#FF6692\", \"#ab63fa\", \"#636efa\", \"#FFA15A\", \"#636efa\", \"#636efa\", \"#636efa\", \"#EF553B\", \"#636efa\", \"#EF553B\", \"#636efa\", \"#00cc96\", \"#636efa\", \"#ab63fa\", \"#ab63fa\", \"#636efa\", \"#636efa\", \"#636efa\", \"#EF553B\", \"#636efa\", \"#B6E880\", \"#00cc96\", \"#636efa\", \"#636efa\", \"#00cc96\", \"#FECB52\", \"#19d3f3\", \"#19d3f3\", \"#FFA15A\", \"#00cc96\", \"#636efa\", \"#636efa\", \"#FF97FF\", \"#19d3f3\", \"#EF553B\", \"#FECB52\", \"#FF6692\", \"#ab63fa\", \"#FF6692\", \"#636efa\", \"#EF553B\", \"#19d3f3\", \"#00cc96\", \"#FF97FF\", \"#636efa\", \"#636efa\", \"#FECB52\", \"#636efa\", \"#FF6692\", \"#FF6692\", \"#FF6692\", \"#FFA15A\", \"#FF6692\", \"#636efa\", \"#00cc96\", \"#636efa\", \"#00cc96\", \"#FF6692\", \"#B6E880\", \"#636efa\", \"#B6E880\", \"#FFA15A\", \"#636efa\", \"#B6E880\", \"#FF6692\", \"#B6E880\", \"#19d3f3\", \"#00cc96\", \"#FFA15A\", \"#EF553B\", \"#FFA15A\", \"#636efa\", \"#636efa\", \"#00cc96\", \"#19d3f3\", \"#00cc96\", \"#B6E880\", \"#ab63fa\", \"#FF6692\", \"#FECB52\", \"#00cc96\", \"#19d3f3\", \"#636efa\", \"#ab63fa\", \"#FFA15A\", \"#19d3f3\", \"#19d3f3\", \"#00cc96\", \"#19d3f3\", \"#19d3f3\", \"#636efa\", \"#19d3f3\", \"#ab63fa\", \"#00cc96\", \"#00cc96\", \"#00cc96\", \"#636efa\", \"#B6E880\", \"#ab63fa\", \"#636efa\", \"#00cc96\", \"#EF553B\", \"#636efa\", \"#FF97FF\", \"#EF553B\", \"#EF553B\", \"#FFA15A\", \"#EF553B\", \"#FF97FF\", \"#FF6692\", \"#636efa\", \"#EF553B\", \"#636efa\", \"#B6E880\", \"#FF97FF\", \"#636efa\", \"#B6E880\", \"#636efa\", \"#FFA15A\", \"#FF6692\", \"#ab63fa\", \"#FF6692\", \"#FF6692\", \"#00cc96\", \"#19d3f3\", \"#636efa\", \"#19d3f3\", \"#FF6692\", \"#636efa\", \"#EF553B\", \"#636efa\", \"#EF553B\", \"#EF553B\", \"#19d3f3\", \"#EF553B\", \"#EF553B\", \"#19d3f3\", \"#FF97FF\", \"#FF6692\", \"#EF553B\", \"#B6E880\", \"#EF553B\", \"#EF553B\", \"#EF553B\", \"#B6E880\", \"#FF6692\", \"#B6E880\", \"#FFA15A\", \"#ab63fa\", \"#FFA15A\", \"#00cc96\", \"#FF6692\", \"#00cc96\", \"#EF553B\", \"#19d3f3\", \"#FFA15A\", \"#EF553B\", \"#B6E880\", \"#EF553B\", \"#FFA15A\", \"#FFA15A\", \"#FFA15A\", \"#FFA15A\", \"#FFA15A\", \"#ab63fa\", \"#FECB52\", \"#FFA15A\", \"#B6E880\", \"#EF553B\", \"#FECB52\", \"#FF6692\", \"#B6E880\", \"#FFA15A\", \"#00cc96\", \"#FF6692\", \"#ab63fa\", \"#FF6692\", \"#FECB52\", \"#FECB52\", \"#FF97FF\", \"#FECB52\", \"#FFA15A\", \"#B6E880\", \"#00cc96\", \"#FF97FF\", \"#00cc96\", \"#FF97FF\", \"#B6E880\", \"#FFA15A\", \"#ab63fa\", \"#ab63fa\", \"#EF553B\", \"#00cc96\", \"#FFA15A\", \"#EF553B\", \"#FFA15A\", \"#FFA15A\", \"#FECB52\", \"#FECB52\", \"#FECB52\", \"#FECB52\", \"#FFA15A\", \"#FF6692\", \"#B6E880\", \"#00cc96\", \"#00cc96\", \"#FECB52\", \"#EF553B\", \"#19d3f3\", \"#EF553B\", \"#FECB52\", \"#B6E880\", \"#FF97FF\", \"#636efa\", \"#636efa\", \"#00cc96\", \"#EF553B\", \"#19d3f3\", \"#19d3f3\", \"#636efa\", \"#636efa\", \"#00cc96\", \"#EF553B\", \"#EF553B\", \"#FF97FF\", \"#19d3f3\", \"#B6E880\", \"#FECB52\", \"#636efa\", \"#19d3f3\", \"#19d3f3\", \"#00cc96\", \"#FECB52\", \"#00cc96\", \"#B6E880\", \"#EF553B\", \"#FFA15A\", \"#FF6692\", \"#FECB52\", \"#FF6692\", \"#636efa\", \"#FFA15A\", \"#FF97FF\", \"#FECB52\", \"#EF553B\", \"#FECB52\", \"#FECB52\", \"#FF97FF\", \"#EF553B\", \"#FECB52\", \"#EF553B\", \"#FFA15A\", \"#ab63fa\", \"#ab63fa\", \"#00cc96\", \"#636efa\", \"#EF553B\", \"#FECB52\", \"#B6E880\", \"#636efa\", \"#FFA15A\", \"#FFA15A\", \"#B6E880\", \"#B6E880\", \"#FFA15A\", \"#19d3f3\", \"#636efa\", \"#B6E880\", \"#FFA15A\", \"#19d3f3\", \"#19d3f3\", \"#19d3f3\", \"#EF553B\", \"#FF97FF\", \"#ab63fa\", \"#636efa\", \"#636efa\", \"#ab63fa\", \"#B6E880\", \"#FF97FF\", \"#EF553B\", \"#636efa\", \"#B6E880\", \"#FF97FF\", \"#FF6692\", \"#00cc96\", \"#FFA15A\", \"#EF553B\", \"#FECB52\", \"#FFA15A\", \"#FFA15A\", \"#B6E880\", \"#636efa\", \"#FFA15A\", \"#EF553B\", \"#636efa\", \"#FF6692\", \"#EF553B\", \"#B6E880\", \"#636efa\", \"#FFA15A\", \"#ab63fa\", \"#FFA15A\", \"#00cc96\", \"#FF97FF\", \"#636efa\", \"#00cc96\", \"#636efa\", \"#FFA15A\", \"#636efa\", \"#FFA15A\", \"#636efa\", \"#FF6692\", \"#FFA15A\", \"#FFA15A\", \"#636efa\", \"#FFA15A\", \"#EF553B\", \"#FF6692\", \"#00cc96\", \"#FF6692\", \"#636efa\", \"#EF553B\", \"#FF6692\", \"#FFA15A\", \"#FFA15A\", \"#EF553B\", \"#19d3f3\", \"#00cc96\", \"#FFA15A\", \"#B6E880\", \"#636efa\", \"#FFA15A\", \"#EF553B\", \"#EF553B\", \"#00cc96\", \"#EF553B\", \"#FFA15A\", \"#00cc96\", \"#636efa\", \"#00cc96\", \"#00cc96\", \"#00cc96\", \"#636efa\", \"#B6E880\", \"#636efa\", \"#ab63fa\", \"#FFA15A\", \"#00cc96\", \"#B6E880\", \"#636efa\", \"#636efa\", \"#FFA15A\", \"#EF553B\", \"#FF6692\", \"#EF553B\", \"#00cc96\", \"#FF6692\", \"#00cc96\", \"#EF553B\", \"#FF6692\", \"#EF553B\", \"#636efa\", \"#19d3f3\", \"#B6E880\", \"#FF6692\", \"#636efa\", \"#00cc96\", \"#EF553B\", \"#636efa\", \"#FF6692\", \"#FF6692\", \"#ab63fa\", \"#FFA15A\", \"#FFA15A\", \"#00cc96\", \"#636efa\", \"#00cc96\", \"#00cc96\", \"#636efa\", \"#00cc96\", \"#FFA15A\", \"#EF553B\", \"#B6E880\", \"#FF97FF\", \"#EF553B\", \"#EF553B\", \"#00cc96\", \"#00cc96\", \"#636efa\", \"#EF553B\", \"#FF97FF\", \"#636efa\", \"#636efa\", \"#EF553B\", \"#FF6692\", \"#636efa\", \"#B6E880\", \"#B6E880\", \"#636efa\", \"#636efa\", \"#FF97FF\", \"#636efa\", \"#EF553B\", \"#B6E880\", \"#EF553B\", \"#636efa\", \"#636efa\", \"#ab63fa\", \"#636efa\", \"#636efa\", \"#EF553B\", \"#EF553B\", \"#636efa\", \"#EF553B\", \"#636efa\", \"#FFA15A\", \"#EF553B\", \"#EF553B\", \"#19d3f3\", \"#EF553B\", \"#636efa\", \"#00cc96\", \"#FFA15A\", \"#FFA15A\", \"#19d3f3\", \"#636efa\", \"#19d3f3\", \"#636efa\", \"#19d3f3\", \"#636efa\", \"#19d3f3\", \"#FF97FF\", \"#FF97FF\", \"#FFA15A\", \"#FF97FF\", \"#19d3f3\", \"#EF553B\", \"#00cc96\", \"#FECB52\", \"#19d3f3\", \"#636efa\", \"#B6E880\", \"#FFA15A\", \"#636efa\", \"#636efa\", \"#FF97FF\", \"#FF6692\", \"#00cc96\", \"#FF97FF\", \"#636efa\", \"#00cc96\", \"#00cc96\", \"#00cc96\", \"#00cc96\", \"#19d3f3\", \"#FFA15A\", \"#FF97FF\", \"#B6E880\", \"#EF553B\", \"#19d3f3\", \"#ab63fa\", \"#FF6692\", \"#B6E880\", \"#FF6692\", \"#FF97FF\", \"#636efa\", \"#FF97FF\", \"#EF553B\", \"#B6E880\", \"#636efa\", \"#FF97FF\", \"#ab63fa\", \"#00cc96\", \"#00cc96\", \"#EF553B\", \"#19d3f3\", \"#B6E880\", \"#636efa\", \"#FECB52\", \"#FECB52\", \"#00cc96\", \"#00cc96\", \"#00cc96\", \"#ab63fa\", \"#636efa\", \"#636efa\", \"#FECB52\", \"#00cc96\", \"#EF553B\", \"#FFA15A\", \"#FF6692\", \"#00cc96\", \"#00cc96\", \"#B6E880\", \"#636efa\", \"#00cc96\", \"#FF6692\", \"#B6E880\", \"#FF97FF\", \"#636efa\", \"#B6E880\", \"#00cc96\", \"#B6E880\", \"#FFA15A\", \"#EF553B\", \"#FFA15A\", \"#FF97FF\", \"#EF553B\", \"#FF97FF\", \"#FF97FF\", \"#19d3f3\", \"#FF97FF\", \"#EF553B\", \"#EF553B\", \"#FFA15A\", \"#FECB52\", \"#FFA15A\", \"#FECB52\", \"#FF6692\", \"#FFA15A\", \"#FFA15A\", \"#636efa\", \"#FFA15A\", \"#FECB52\", \"#ab63fa\", \"#FF6692\", \"#FF97FF\", \"#FF6692\", \"#FF6692\", \"#636efa\", \"#ab63fa\", \"#FECB52\", \"#B6E880\", \"#ab63fa\", \"#FF97FF\", \"#FF97FF\", \"#FFA15A\", \"#19d3f3\", \"#FECB52\", \"#FECB52\", \"#FF6692\", \"#FECB52\", \"#FF6692\", \"#ab63fa\", \"#ab63fa\", \"#636efa\", \"#00cc96\", \"#636efa\", \"#FECB52\", \"#ab63fa\", \"#00cc96\", \"#636efa\", \"#EF553B\", \"#19d3f3\", \"#FECB52\", \"#636efa\", \"#EF553B\", \"#00cc96\", \"#B6E880\", \"#19d3f3\", \"#FFA15A\", \"#FF97FF\", \"#FECB52\", \"#00cc96\", \"#19d3f3\", \"#00cc96\", \"#EF553B\", \"#636efa\", \"#00cc96\", \"#ab63fa\", \"#FECB52\", \"#FECB52\", \"#636efa\", \"#B6E880\", \"#00cc96\", \"#19d3f3\", \"#FECB52\", \"#FFA15A\", \"#636efa\", \"#FF6692\", \"#636efa\", \"#B6E880\"]}, \"name\": \"\", \"parents\": [\"Individual Sports\", \"Government/Sin nombre\", \"Government\", \"Business/NE\", \"Natural Sciences/CT/Physicist\", \"Law\", \"Individual Sports/Sin nombre/Wrestler\", \"Fine Arts\", \"Media Personality/MS\", \"Natural Sciences/IN/Physicist\", \"Military\", \"Business\", \"Media Personality/IA\", \"Social Sciences/Yvelines/Economist\", \"Music/NJ\", \"Explorers/TN/Explorer\", \"Social Sciences/SD/Economist\", \"Religion/VT\", \"Government/County Mayo/Politician\", \"Music/AR/Singer\", \"Natural Sciences\", \"Philosophy/Shandong Province/Philosopher\", \"Music/NC/Singer\", \"Activism\", \"Natural Sciences\", \"Team Sports/WA\", \"Military/TX/Military Personnel\", \"Film And Theatre/Sin nombre\", \"Music/Komi ASSR\", \"Language\", \"Law/SD/Lawyer\", \"Language/PA\", \"Social Sciences/CO/Sociologist\", \"Military\", \"Companions/Sin nombre\", \"Language/KY\", \"Language/MD/Writer\", \"Natural Sciences/UT/Chemist\", \"Film And Theatre/MO\", \"Individual Sports/IL\", \"Medicine/PA\", \"Government\", \"Invention\", \"Individual Sports\", \"Government/IN\", \"Music\", \"Individual Sports/MN\", \"Business/NY/Businessperson\", \"Math\", \"Government/ID\", \"Individual Sports/TX/Athlete\", \"Business/Sin nombre/Businessperson\", \"Individual Sports\", \"Music\", \"Government/PA\", \"Language/MS/Writer\", \"Medicine\", \"Team Sports/WV\", \"Fine Arts/Sin nombre\", \"Social Sciences/NY/Political Scientist\", \"Social Sciences/NJ\", \"Government/WA\", \"Team Sports/PA\", \"Film And Theatre/CT/Actor\", \"Media Personality/MO/Presenter\", \"Film And Theatre/MA/Actor\", \"Companions/Sin nombre/Companion\", \"Film And Theatre/CA\", \"Music/MD\", \"Philosophy/MD\", \"Team Sports/VA\", \"Individual Sports/NH/Wrestler\", \"Natural Sciences/OH/Chemist\", \"Individual Sports/NY\", \"Media Personality/Sin nombre/Magician\", \"Outlaws/TX/Mafioso\", \"Government/MO/Politician\", \"Individual Sports\", \"Design/Sin nombre\", \"Film And Theatre/NC/Actor\", \"Media Personality\", \"Activism\", \"History/Sin nombre/Historian\", \"Team Sports\", \"Natural Sciences/NY/Biologist\", \"Government/CA\", \"Media Personality/NY/Model\", \"Social Sciences/Sin nombre/Psychologist\", \"Music/MD/Singer\", \"Design/PA\", \"Language/MN/Writer\", \"Social Sciences\", \"Activism\", \"Natural Sciences/KS/Chemist\", \"Individual Sports/NY/Tennis Player\", \"Social Sciences/NY/Psychologist\", \"Film And Theatre/CA\", \"Government/NJ\", \"Music/CA\", \"Individual Sports/MN/Skier\", \"Religion\", \"Religion\", \"Military/MO\", \"Natural Sciences/ID/Physicist\", \"Explorers\", \"Design/MI\", \"Military/WV/Pilot\", \"Media Personality/KY/Celebrity\", \"Language\", \"Film And Theatre/IA\", \"Natural Sciences/CO/Physicist\", \"Music/PA\", \"Business\", \"Music\", \"Business\", \"Government/Oxfordshire/Politician\", \"Invention\", \"Music/NJ\", \"Music/Sin nombre\", \"Activism\", \"Government/CO\", \"Media Personality/NY\", \"Language/NC/Writer\", \"Military/MO/Military Personnel\", \"Social Sciences/IN\", \"Music/MS/Singer\", \"Individual Sports/Sin nombre\", \"Government/ID/Politician\", \"Engineering\", \"Fine Arts\", \"Design/Sin nombre/Comic Artist\", \"Natural Sciences/NY\", \"Military/OH/Military Personnel\", \"Military\", \"Individual Sports/Sin nombre/Swimmer\", \"Business/TN/Businessperson\", \"Film And Theatre/OH/Actor\", \"Outlaws/Sin nombre/Extremist\", \"Fine Arts\", \"Media Personality/CA/Pornographic Actor\", \"Companions/IL\", \"Film And Theatre/MI/Film Director\", \"Government/VT\", \"Individual Sports/CA/Racecar Driver\", \"Government/Sin nombre/Nobleman\", \"Business\", \"Government/VA\", \"Media Personality/CA/Celebrity\", \"Language\", \"Individual Sports/Sin nombre\", \"Natural Sciences\", \"Film And Theatre/UT\", \"Design\", \"Natural Sciences\", \"Language/LA/Writer\", \"Individual Sports\", \"Government/AL/Politician\", \"Music/CT\", \"Social Sciences/TX\", \"Social Sciences/VT/Psychologist\", \"Design\", \"Government\", \"Language/IN/Writer\", \"Team Sports\", \"Natural Sciences/TX\", \"Social Sciences\", \"Natural Sciences\", \"Film And Theatre\", \"Invention/AL\", \"Music/LA\", \"Individual Sports/TX/Cyclist\", \"Explorers/VA/Explorer\", \"Companions\", \"Design/Sin nombre/Architect\", \"Dance/CA\", \"Language\", \"Individual Sports/NC\", \"Government/MD/Politician\", \"Team Sports/CA/American Football Player\", \"Social Sciences/NY\", \"Medicine/MD/Physician\", \"Music/NY/Composer\", \"Language/NE\", \"Explorers\", \"Individual Sports/IL/Chessmaster\", \"Individual Sports/FL\", \"Music\", \"Companions\", \"Team Sports/IN\", \"Natural Sciences/Sin nombre\", \"Natural Sciences/NY\", \"Government/Buckinghamshire\", \"Natural Sciences/Sin nombre\", \"Government/ND\", \"Media Personality\", \"Computer Science/CT/Computer Scientist\", \"Film And Theatre/NM\", \"Language/RI/Writer\", \"Business/Sin nombre/Producer\", \"Government/OH/Politician\", \"Social Sciences/IL\", \"Explorers/OK\", \"Team Sports\", \"Natural Sciences\", \"Music/NM\", \"Natural Sciences/IN\", \"Outlaws/IL/Mafioso\", \"Law\", \"Individual Sports/NJ/Tennis Player\", \"Fine Arts/WI/Artist\", \"Natural Sciences/VT\", \"Team Sports/Galicia/Soccer Player\", \"Design/NY/Fashion Designer\", \"Fine Arts/Sin nombre/Photographer\", \"Fine Arts/IA/Photographer\", \"Natural Sciences/TX\", \"Computer Science/NY/Computer Scientist\", \"Business\", \"Individual Sports/MA\", \"Natural Sciences/NH\", \"Music/MD/Musician\", \"Government\", \"Natural Sciences/OH/Physicist\", \"Philosophy/Sin nombre/Philosopher\", \"Government\", \"Film And Theatre\", \"Natural Sciences/Sin nombre/Physicist\", \"Individual Sports/MA\", \"Film And Theatre/MI\", \"Natural Sciences\", \"Individual Sports/MO\", \"Natural Sciences/WI/Chemist\", \"Government/Sin nombre/Judge\", \"Activism/Sin nombre/Social Activist\", \"Film And Theatre/ND\", \"Music/IA\", \"Natural Sciences/MO\", \"Medicine/WI\", \"Business\", \"Business/NM/Businessperson\", \"Explorers/TX/Astronaut\", \"Companions/MA\", \"Music\", \"Music/OH\", \"Film And Theatre/VA\", \"Individual Sports/Sin nombre/Snooker\", \"Natural Sciences\", \"Military/Sin nombre\", \"\", \"Business/TX/Businessperson\", \"Natural Sciences/PA\", \"Computer Science/CA\", \"Music/AZ/Musician\", \"Math/Sin nombre/Mathematician\", \"Social Sciences/WA\", \"Individual Sports/Sin nombre/Skier\", \"Film And Theatre/OK/Actor\", \"Music/VA\", \"Computer Science/MA/Computer Scientist\", \"Medicine/NY/Physician\", \"Fine Arts/Sin nombre\", \"Film And Theatre/NE/Actor\", \"Film And Theatre/CO/Film Director\", \"Individual Sports/OH/Wrestler\", \"Natural Sciences/DE\", \"Business/IN\", \"Music/VA/Singer\", \"Film And Theatre/MT/Actor\", \"Language/OR/Writer\", \"Media Personality/MO\", \"Music/VA\", \"Individual Sports/MN\", \"Music\", \"Language/AL/Writer\", \"Language/IA/Writer\", \"Language/IL/Writer\", \"Social Sciences/IN/Economist\", \"Language/OK/Writer\", \"Government\", \"Film And Theatre/KY/Actor\", \"Government/Wales/Politician\", \"Religion\", \"Dance\", \"Team Sports/Sin nombre/Hockey Player\", \"Film And Theatre/IL\", \"Computer Science\", \"Individual Sports/MD/Tennis Player\", \"Government/HI/Politician\", \"Film And Theatre/FL\", \"Military/W\\u00fcrttemberg\", \"Religion/Calabria/Religious Figure\", \"Film And Theatre/Sin nombre/Comedian\", \"Media Personality/TX/Presenter\", \"Natural Sciences\", \"Team Sports/Sin nombre/Coach\", \"Design\", \"Music/Sin nombre/Composer\", \"Government/WI/Politician\", \"Invention/MI/Inventor\", \"Business\", \"Social Sciences/NY\", \"Business\", \"Team Sports/Galicia\", \"Social Sciences/PA/Economist\", \"Film And Theatre\", \"Invention/Sin nombre\", \"Team Sports/OH/Soccer Player\", \"Team Sports\", \"Film And Theatre/WA\", \"Team Sports\", \"Computer Science\", \"Social Sciences/SC/Psychologist\", \"Team Sports/PA/Basketball Player\", \"Companions/NY/Companion\", \"Government\", \"Natural Sciences/TN\", \"Explorers/Sin nombre/Astronaut\", \"Military/Sin nombre/Military Personnel\", \"Language/KY/Writer\", \"Individual Sports/CA\", \"Music/NY/Singer\", \"Film And Theatre/TX/Actor\", \"Design/Sin nombre/Fashion Designer\", \"Team Sports/TN/Basketball Player\", \"Fine Arts/IA/Painter\", \"Individual Sports/MI\", \"Music/UT\", \"Natural Sciences/NJ\", \"Natural Sciences/Sin nombre/Physicist\", \"Natural Sciences/WI\", \"Government/Pernambuco/Politician\", \"Film And Theatre/ME/Film Director\", \"Music/OH/Composer\", \"Individual Sports/NV\", \"Natural Sciences/CT/Biologist\", \"Music/TN/Musician\", \"Government\", \"Activism/GA/Social Activist\", \"Explorers/VA\", \"Government/SD/Politician\", \"Medicine/CA\", \"Film And Theatre/MS/Actor\", \"Companions/NV/Companion\", \"Natural Sciences/NE\", \"Individual Sports/NJ/Swimmer\", \"Music/SC\", \"Natural Sciences/PA\", \"Dance/CA/Dancer\", \"Music/Sin nombre/Singer\", \"Film And Theatre/UT/Actor\", \"Design/NY\", \"Natural Sciences/NY/Astronomer\", \"Natural Sciences/IL/Astronomer\", \"History/NY/Historian\", \"Medicine\", \"Government/CT\", \"Film And Theatre/MD\", \"Language/NY\", \"Natural Sciences/Sin nombre\", \"Natural Sciences/VT/Chemist\", \"Natural Sciences/NY/Chemist\", \"Individual Sports/VA/Tennis Player\", \"Natural Sciences/CT/Astronomer\", \"Music/NC\", \"Media Personality\", \"Music/NC\", \"Film And Theatre\", \"Computer Science\", \"Music\", \"Military/Pyr\\u00e9n\\u00e9es-Atlantiques\", \"Natural Sciences/IL\", \"Film And Theatre/MA\", \"Team Sports/LA\", \"Language/NJ\", \"Natural Sciences/NC/Chemist\", \"Film And Theatre\", \"Explorers/CA\", \"Fine Arts/Sin nombre/Painter\", \"Military/WV/Military Personnel\", \"Language/NY\", \"Individual Sports/LA\", \"Outlaws/Sin nombre\", \"Natural Sciences/MN\", \"Individual Sports/MD/Swimmer\", \"Philosophy/MD/Philosopher\", \"Individual Sports/MA/Boxer\", \"Religion/Sin nombre\", \"Math/NY\", \"Philosophy/OH/Philosopher\", \"Religion/Sin nombre/Religious Figure\", \"Math/Sin nombre\", \"Outlaws/NY/Extremist\", \"Business\", \"Media Personality/NY/Pornographic Actor\", \"Film And Theatre\", \"Philosophy/MA\", \"Film And Theatre/MD/Actor\", \"Film And Theatre/TX\", \"Language/IL\", \"Government\", \"Film And Theatre/OK/Actor\", \"Team Sports/Sin nombre/Baseball Player\", \"Activism/VT/Social Activist\", \"Music/GA/Singer\", \"Explorers\", \"Fine Arts/NY/Painter\", \"Film And Theatre\", \"Religion/Piedmont/Religious Figure\", \"Government/TN/Politician\", \"Social Sciences/NJ/Economist\", \"Individual Sports/NY/Boxer\", \"Music/IL/Singer\", \"Music/KY/Musician\", \"Math\", \"Music/NE\", \"Outlaws/OH/Extremist\", \"Dance\", \"Individual Sports\", \"Military\", \"Team Sports/Sin nombre/Soccer Player\", \"Individual Sports/NH/Skier\", \"Social Sciences/Sin nombre/Economist\", \"Philosophy/OH/Philosopher\", \"Activism/ME/Social Activist\", \"Film And Theatre/CT/Actor\", \"Social Sciences/Yvelines\", \"Natural Sciences/DE/Biologist\", \"Film And Theatre/NJ\", \"Team Sports/CO/Basketball Player\", \"Outlaws\", \"Natural Sciences/MT\", \"Film And Theatre/Sin nombre\", \"Film And Theatre\", \"\", \"Military\", \"Film And Theatre\", \"Individual Sports/TX\", \"Individual Sports/CA/Golfer\", \"Law/OH/Lawyer\", \"Fine Arts\", \"Team Sports/NJ\", \"Government/CA/Diplomat\", \"Natural Sciences/Sin nombre/Biologist\", \"Individual Sports/Loire\", \"Fine Arts/IA\", \"Explorers/IN/Astronaut\", \"Design/WI\", \"Film And Theatre/TN/Film Director\", \"Dance/PA\", \"Government/WA/Politician\", \"Natural Sciences/MA\", \"Film And Theatre/IA/Actor\", \"Natural Sciences/MA\", \"Team Sports/Sin nombre/Referee\", \"Film And Theatre/SC/Actor\", \"Computer Science\", \"Team Sports/GA/Baseball Player\", \"Government\", \"Film And Theatre/PA\", \"Music/HI/Singer\", \"Natural Sciences/IL\", \"Film And Theatre/SD\", \"Government\", \"Individual Sports/CA\", \"Law/WV\", \"Individual Sports/GA/Athlete\", \"Individual Sports/NE/Tennis Player\", \"Natural Sciences\", \"Companions/VA\", \"Film And Theatre/WI/Actor\", \"Social Sciences/Sin nombre/Political Scientist\", \"Media Personality/TN/Presenter\", \"Natural Sciences/NY/Physicist\", \"Music/CT/Composer\", \"Film And Theatre/HI\", \"Fine Arts\", \"Invention/NY\", \"Individual Sports/TX\", \"Government/CA\", \"Computer Science\", \"Team Sports/MD/Baseball Player\", \"Film And Theatre/AR/Actor\", \"Government/VA\", \"Language\", \"Business/PA\", \"Business/HI\", \"Government/TX/Politician\", \"Language\", \"Dance/MO\", \"Religion/NC/Religious Figure\", \"Government/NY/Judge\", \"Film And Theatre\", \"Invention/Sin nombre/Inventor\", \"Activism/ME\", \"Military/OH\", \"Natural Sciences/ID\", \"Invention/CT\", \"Language/Sin nombre\", \"Explorers\", \"Music/CA\", \"Social Sciences/OR\", \"Natural Sciences\", \"Natural Sciences/MA/Astronomer\", \"Individual Sports/IN/Athlete\", \"Activism/NE/Social Activist\", \"Medicine/AL/Physician\", \"Music\", \"Natural Sciences\", \"Individual Sports/AL\", \"Film And Theatre/TN/Actor\", \"Individual Sports/MI\", \"Social Sciences/PA/Anthropologist\", \"Individual Sports/NC\", \"Explorers/OH/Astronaut\", \"Media Personality/Sin nombre\", \"Medicine/WA\", \"Design/OR\", \"Invention/MI\", \"Individual Sports\", \"Team Sports/Sin nombre/Basketball Player\", \"Social Sciences/NC\", \"Music/MO/Musician\", \"Film And Theatre/FL/Actor\", \"Film And Theatre/CO/Actor\", \"Explorers\", \"Business/MI\", \"Film And Theatre/KY\", \"Film And Theatre/WA/Actor\", \"Film And Theatre/VA/Actor\", \"Social Sciences/MA\", \"Government\", \"Film And Theatre/NE/Actor\", \"Philosophy\", \"Individual Sports/Sin nombre/Chessmaster\", \"Team Sports/NJ/Basketball Player\", \"Military\", \"Team Sports\", \"Film And Theatre/MT/Actor\", \"Government/HI\", \"Music/IA/Musician\", \"Natural Sciences/IN/Chemist\", \"Fine Arts/PA/Sculptor\", \"Government/AL\", \"Natural Sciences/NJ/Physicist\", \"Math\", \"Film And Theatre\", \"Natural Sciences/MN/Biologist\", \"Team Sports/TX/Soccer Player\", \"Team Sports/Sin nombre/Soccer Player\", \"Activism/NY/Social Activist\", \"Government/MD\", \"Military/SC/Military Personnel\", \"Film And Theatre\", \"Music/TN\", \"Government/LA\", \"Individual Sports\", \"Government/VA/Politician\", \"Natural Sciences\", \"Team Sports/Sin nombre\", \"Media Personality/NJ\", \"Team Sports/Sin nombre\", \"Music/LA/Singer\", \"Media Personality/NY/Magician\", \"Music/WA/Musician\", \"Music/HI\", \"Language\", \"Religion\", \"Fine Arts/TX/Painter\", \"\", \"Social Sciences\", \"Team Sports\", \"Religion\", \"Natural Sciences/TX/Astronomer\", \"Music\", \"Language/CO/Writer\", \"Individual Sports/OH\", \"Individual Sports/MI/Tennis Player\", \"Language/MD\", \"Natural Sciences/MI\", \"Language/OH/Writer\", \"Music/WA\", \"Film And Theatre/MA/Film Director\", \"Language/MD/Writer\", \"Social Sciences\", \"Activism\", \"Computer Science/PA/Computer Scientist\", \"Philosophy/Indre-et-Loire\", \"Computer Science/CA/Computer Scientist\", \"Government/Segovia\", \"History/Sin nombre\", \"\", \"Film And Theatre/IN/Actor\", \"Business/KS/Businessperson\", \"Government/Oxfordshire\", \"Computer Science/MD/Computer Scientist\", \"Invention/OR/Inventor\", \"Media Personality\", \"Government/Anhui/Politician\", \"Outlaws\", \"Computer Science/LA/Computer Scientist\", \"Music\", \"Individual Sports/OH/Athlete\", \"Team Sports/CO\", \"Natural Sciences/IA\", \"Language/ME/Writer\", \"Film And Theatre/MN\", \"Military/MI\", \"Individual Sports/OK/Athlete\", \"Team Sports/IL/Soccer Player\", \"Language\", \"Government/IN/Politician\", \"Individual Sports/FL\", \"Film And Theatre\", \"Fine Arts/CT/Photographer\", \"Natural Sciences/Sin nombre/Biologist\", \"Government/ME/Politician\", \"Individual Sports/NY/Wrestler\", \"Team Sports/Sin nombre\", \"Medicine/Sin nombre/Physician\", \"Language/CA/Writer\", \"Individual Sports\", \"Music\", \"Invention/AL/Inventor\", \"Government/CT/Politician\", \"Computer Science/MI\", \"Fine Arts/CA/Photographer\", \"Social Sciences/IL/Political Scientist\", \"Social Sciences/SD\", \"Social Sciences/GA\", \"Music/Sin nombre\", \"Religion/Gilead/Religious Figure\", \"Fine Arts/GA/Painter\", \"Language/CA\", \"Language/NC\", \"Language/LA\", \"Philosophy/Indre-et-Loire/Philosopher\", \"\", \"Film And Theatre/MD/Actor\", \"Music\", \"Philosophy/NY/Philosopher\", \"Military/Sin nombre/Pilot\", \"Social Sciences/NY/Anthropologist\", \"Activism/NE\", \"Language/ID\", \"Music/CA/Singer\", \"Fine Arts/Sin nombre/Artist\", \"Social Sciences/CA\", \"Music/IN/Singer\", \"Business/TX/Businessperson\", \"Government/Buckinghamshire/Politician\", \"Natural Sciences\", \"Team Sports/AL/Soccer Player\", \"Film And Theatre/IN/Film Director\", \"Music/IA\", \"Business/MI\", \"Music/LA\", \"Music/PA/Singer\", \"Business/CA\", \"Business/IL\", \"Music/PA/Musician\", \"Team Sports\", \"Activism/AL/Social Activist\", \"Language/LA/Writer\", \"Government/MI/Diplomat\", \"Language\", \"Language/SC/Writer\", \"Film And Theatre/KY/Film Director\", \"Philosophy/CO\", \"Philosophy/OH\", \"Film And Theatre/MS/Actor\", \"Film And Theatre/KS\", \"Film And Theatre/ND/Actor\", \"Activism\", \"Natural Sciences/Sin nombre/Chemist\", \"Film And Theatre/OR\", \"Individual Sports/KY\", \"Fine Arts\", \"Engineering\", \"Business/MI/Businessperson\", \"Natural Sciences/NH/Astronomer\", \"Individual Sports/Sin nombre/Athlete\", \"Team Sports/OH/Basketball Player\", \"Film And Theatre/CA/Actor\", \"Individual Sports/MA/Wrestler\", \"Religion/Calabria\", \"Design/MI\", \"Music/UT/Musician\", \"Social Sciences\", \"Government/HI/Nobleman\", \"Media Personality/TN/Model\", \"Individual Sports\", \"Language/PA/Linguist\", \"Music/FL\", \"Military/Sin nombre/Pilot\", \"Music/TX/Musician\", \"Government/IA/Politician\", \"Military/CA/Military Personnel\", \"Design/Sin nombre/Fashion Designer\", \"Religion/Galilee\", \"Music/MA/Musician\", \"Invention\", \"Individual Sports/Sin nombre/Golfer\", \"Government\", \"Individual Sports/IL\", \"Natural Sciences/CT\", \"Music/MA\", \"Social Sciences/NE\", \"Music/NJ/Singer\", \"Government/VT/Politician\", \"Music/ND/Singer\", \"Natural Sciences/MA\", \"Natural Sciences/NY\", \"Natural Sciences/MO\", \"Music/Sin nombre/Singer\", \"Outlaws/Sin nombre\", \"Music/SC\", \"Government/TX/Politician\", \"Fine Arts/OK\", \"Outlaws/VT\", \"Individual Sports/MD\", \"Engineering/MO\", \"Fine Arts/WI\", \"Music/IL/Singer\", \"Engineering/NJ\", \"Outlaws/NY\", \"Music/OH\", \"Government/ME\", \"Explorers/NM\", \"Government/NC\", \"Media Personality/TX\", \"Military/WV\", \"Individual Sports/GA/Wrestler\", \"Social Sciences/VT\", \"Activism/IL\", \"Media Personality/CA\", \"Film And Theatre/WI\", \"Math/Sin nombre/Statistician\", \"Military/CT\", \"Activism/MA/Social Activist\", \"Music/GA\", \"Individual Sports/TN\", \"Language/MA/Writer\", \"Government/NY\", \"Activism/SC\", \"Language/NJ/Writer\", \"Media Personality/NY\", \"Film And Theatre/AL\", \"Film And Theatre/CO\", \"Computer Science/MA\", \"Music/MA\", \"Individual Sports/CA/Skater\", \"Individual Sports/VA\", \"Individual Sports/NJ\", \"Film And Theatre/TN\", \"Music/MD/Singer\", \"Film And Theatre/AL/Actor\", \"Individual Sports/NJ\", \"Natural Sciences\", \"Natural Sciences/MA/Biologist\", \"Individual Sports\", \"Individual Sports\", \"Language\", \"Invention/CA/Inventor\", \"Activism/MA/Social Activist\", \"Companions/KY/Companion\", \"Social Sciences\", \"Team Sports/WV/Basketball Player\", \"Individual Sports/CA/Swimmer\", \"Government/CA/Judge\", \"Law/WV/Lawyer\", \"Language/NY/Linguist\", \"Film And Theatre/WI/Film Director\", \"Media Personality/Sin nombre/Celebrity\", \"Media Personality/PA/Celebrity\", \"Government/SC/Politician\", \"Natural Sciences\", \"Military/NJ/Military Personnel\", \"Natural Sciences/PA/Biologist\", \"Language/CT/Writer\", \"Individual Sports/IL/Athlete\", \"Individual Sports/CA/Athlete\", \"Language/GA/Writer\", \"Team Sports/IN/Basketball Player\", \"Religion\", \"Natural Sciences/MA/Astronomer\", \"Music/MN/Musician\", \"Language/MO/Writer\", \"Math/NY/Mathematician\", \"Government/VA/Diplomat\", \"Music\", \"Outlaws/Sin nombre/Extremist\", \"Music/NH/Singer\", \"Music/MA/Singer\", \"Design/OR/Comic Artist\", \"Natural Sciences/MN/Chemist\", \"Music/NJ/Singer\", \"Music/CA/Singer\", \"Natural Sciences/MA/Chemist\", \"Film And Theatre\", \"Natural Sciences/IA/Chemist\", \"Natural Sciences/GA/Chemist\", \"Companions\", \"Natural Sciences/CT/Chemist\", \"Government/HI/Politician\", \"Music/OK/Singer\", \"Government/CT/Diplomat\", \"Natural Sciences\", \"Government/Sin nombre/Nobleman\", \"Film And Theatre/NY/Film Director\", \"Activism/IL/Social Activist\", \"Language/Sin nombre/Journalist\", \"Government/NY/Judge\", \"Individual Sports/Sin nombre/Boxer\", \"Language\", \"Music/NE/Musician\", \"Business/IL/Businessperson\", \"Military/Sin nombre/Military Personnel\", \"Media Personality/CA/Model\", \"Language\", \"Business/IN/Businessperson\", \"Social Sciences/WA/Economist\", \"Team Sports\", \"Music\", \"Music/NH/Musician\", \"Natural Sciences/SC/Chemist\", \"Natural Sciences/MD/Physicist\", \"Natural Sciences/Ardennes/Astronomer\", \"\", \"Film And Theatre/HI/Actor\", \"Military\", \"Film And Theatre/MN/Actor\", \"Film And Theatre/IA/Actor\", \"Film And Theatre/KY/Actor\", \"Language/WA\", \"Design/CT/Architect\", \"Language/NH\", \"Language/WV/Writer\", \"Film And Theatre/CO/Actor\", \"Film And Theatre/AL/Actor\", \"Natural Sciences/IA/Astronomer\", \"Natural Sciences/WA/Physicist\", \"Film And Theatre/TN/Actor\", \"Film And Theatre/NJ/Actor\", \"Film And Theatre/RI/Actor\", \"Music\", \"Design/Sin nombre/Architect\", \"Film And Theatre/AR/Actor\", \"Government/KS/Politician\", \"Film And Theatre/CA/Actor\", \"Film And Theatre\", \"Language/MN\", \"Film And Theatre/DE/Actor\", \"Military\", \"Outlaws/MD\", \"Business\", \"Fine Arts\", \"Invention/MA/Inventor\", \"Business/NC\", \"Individual Sports/NE\", \"Math/MA\", \"Language/MA/Writer\", \"Fine Arts/OK/Artist\", \"Team Sports/WA/Soccer Player\", \"Natural Sciences/PA/Physicist\", \"Design/Sin nombre\", \"Government/W\\u00fcrttemberg/Politician\", \"Outlaws/IN/Mafioso\", \"Philosophy/CO/Philosopher\", \"Natural Sciences/CT\", \"Natural Sciences/MD\", \"Government/WI/Diplomat\", \"Film And Theatre/MN/Actor\", \"Film And Theatre/MO/Actor\", \"Language/GA\", \"Language/IL\", \"Language/NE/Writer\", \"Engineering/NJ/Engineer\", \"Natural Sciences/OR\", \"Social Sciences/CT/Economist\", \"Government/NY/Diplomat\", \"Team Sports\", \"Military/NY\", \"Language/Sin nombre/Critic\", \"Government/W\\u00fcrttemberg\", \"Government/Wales\", \"Medicine/NY\", \"Government\", \"Individual Sports/Sin nombre\", \"Philosophy/Shandong Province\", \"Individual Sports/AL\", \"Law\", \"Language/IL/Linguist\", \"Government\", \"Activism\", \"Government/Sin nombre\", \"Music\", \"Music/CA\", \"Music/MN\", \"Individual Sports/FL/Tennis Player\", \"Language/Sin nombre/Journalist\", \"Music/TX/Musician\", \"Team Sports\", \"Natural Sciences/MA\", \"Invention/NY/Inventor\", \"Music\", \"Natural Sciences/IA/Biologist\", \"Natural Sciences/UT/Biologist\", \"Film And Theatre/Sin nombre/Film Director\", \"Social Sciences\", \"Individual Sports/NY/Swimmer\", \"Music/NY\", \"Government\", \"Natural Sciences\", \"Business\", \"Fine Arts/MA/Painter\", \"Activism/AL\", \"Military\", \"Film And Theatre\", \"Natural Sciences/MO/Astronomer\", \"Individual Sports\", \"Religion\", \"Invention\", \"Music/TX\", \"Music/MI\", \"Media Personality\", \"Social Sciences\", \"Film And Theatre\", \"Government\", \"Fine Arts/IA\", \"Fine Arts/Sin nombre\", \"Fine Arts/GA\", \"Music/MN\", \"Government\", \"Language\", \"Music/NH\", \"Music/OH\", \"Philosophy/NY\", \"Music/OK\", \"Individual Sports\", \"Music/ND\", \"Philosophy/Sin nombre\", \"Language\", \"Military\", \"Activism\", \"Music/MS\", \"Social Sciences\", \"Music/MO\", \"Business\", \"Invention\", \"Music/IN\", \"Religion\", \"Fine Arts/CT\", \"Fine Arts/NY\", \"Fine Arts/MA\", \"Fine Arts/CA\", \"Government\", \"Social Sciences\", \"Film And Theatre/NY\", \"Film And Theatre/OH\", \"Film And Theatre/PA\", \"\", \"Government\", \"Film And Theatre/TX\", \"Design/GA\", \"Team Sports\", \"Military\", \"Math\", \"Social Sciences/Sin nombre\", \"Natural Sciences/OH\", \"Natural Sciences/Sin nombre\", \"Individual Sports/Sin nombre\", \"Language\", \"History/MA\", \"History/OH\", \"Social Sciences\", \"Natural Sciences\", \"Film And Theatre/NM\", \"Film And Theatre/MT\", \"\", \"Film And Theatre/MO\", \"Outlaws/IN\", \"Outlaws/OH\", \"\", \"\", \"Outlaws/WI\", \"Design/NY\", \"\", \"\", \"Film And Theatre/GA\", \"Medicine\", \"\", \"\", \"\", \"Film And Theatre/IL\", \"Film And Theatre/IN\", \"\", \"Film And Theatre/MA\", \"\", \"Film And Theatre/ME\", \"Film And Theatre/MI\", \"\", \"Music/IL\", \"Invention\", \"Film And Theatre\", \"Math/NJ\", \"Media Personality\", \"Math/WV\", \"Government\", \"Medicine\", \"Math\", \"Military/PA\", \"Government\", \"Military/TX\", \"Military/VA\", \"Explorers\", \"Design\", \"Media Personality/Sin nombre\", \"Companions\", \"Media Personality/TN\", \"Music/AL\", \"Music/AZ\", \"Team Sports\", \"Music/GA\", \"Social Sciences\", \"Math/Cantal\", \"Business\", \"Explorers\", \"Activism\", \"Invention/PA\", \"Religion\", \"Outlaws\", \"Government\", \"Natural Sciences\", \"Language/Sin nombre\", \"Language\", \"Natural Sciences\", \"Medicine\", \"Law/OH\", \"Law/Sin nombre\", \"Outlaws\", \"Medicine\", \"Language\", \"Language/PA\", \"Individual Sports\", \"Language/Sin nombre\", \"Outlaws/IL\", \"Film And Theatre\", \"Activism\", \"Medicine/IN\", \"Music\", \"Medicine/MN\", \"Music/AR\", \"Music/AZ\", \"Fine Arts\", \"Film And Theatre\", \"Philosophy\", \"Music/IL\", \"Natural Sciences\", \"Music\", \"Military\", \"Music/AL\", \"Media Personality\", \"Film And Theatre\", \"Explorers\", \"Music/MO\", \"Design\", \"Music/ND\", \"Music/NH\", \"Companions\", \"Government\", \"Film And Theatre\", \"Outlaws/IL\", \"Fine Arts/Sin nombre\", \"Fine Arts/PA\", \"Government\", \"Natural Sciences\", \"Business/NY\", \"Individual Sports\", \"Government\", \"Explorers\", \"Business/TX\", \"Social Sciences/NJ\", \"Social Sciences/NY\", \"Social Sciences/SC\", \"Film And Theatre\", \"Social Sciences/Sin nombre\", \"Film And Theatre\", \"Team Sports\", \"Individual Sports/CA\", \"Individual Sports/WI\", \"Music\", \"Religion/Ancona\", \"Film And Theatre\", \"Religion/Gilead\", \"Religion/Lazio\", \"Religion/Piedmont\", \"Team Sports\", \"Music/OK\", \"Music/PA\", \"Music\", \"Language/MA\", \"Activism/Tamaulipas\", \"Activism/WA\", \"Social Sciences/NY\", \"Social Sciences/PA\", \"Social Sciences/Sin nombre\", \"Language/CO\", \"Language/AR\", \"Individual Sports/CA\", \"Language/AL\", \"Individual Sports/SC\", \"Individual Sports/MD\", \"Individual Sports/PA\", \"Individual Sports/OK\", \"Individual Sports/Sin nombre\", \"Individual Sports/CA\", \"Individual Sports/NY\", \"Individual Sports/NH\", \"Individual Sports/IN\", \"Individual Sports/VA\", \"Individual Sports/IL\", \"Language/ME\", \"Social Sciences\", \"Language/MO\", \"Activism/MA\", \"Military\", \"Government\", \"Music/Sin nombre\", \"Natural Sciences\", \"Music/TN\", \"Individual Sports/PA\", \"Medicine\", \"Language\", \"Invention\", \"Team Sports/AL\", \"Individual Sports\", \"Language/WV\", \"Language/WI\", \"Team Sports/Sin nombre\", \"Language/VA\", \"Team Sports/Victoria\", \"Language/TX\", \"Language/OK\", \"Language/NJ\", \"Activism/Eastern Cape\", \"Language/MS\", \"Activism/MD\", \"Media Personality/TN\", \"Team Sports\", \"Computer Science\", \"Natural Sciences/SC\", \"Explorers\", \"Language\", \"Natural Sciences/VA\", \"Natural Sciences/WA\", \"Military/KS\", \"Film And Theatre\", \"Team Sports\", \"Social Sciences\", \"Natural Sciences\", \"Music\", \"Natural Sciences\", \"Government/AR\", \"Music\", \"Media Personality\", \"Language\", \"Film And Theatre\", \"Government/IA\", \"Language\", \"Music\", \"Language\", \"Medicine\", \"Individual Sports\", \"Natural Sciences/NE\", \"Natural Sciences/MI\", \"Medicine/NH\", \"Medicine/NJ\", \"Media Personality\", \"Individual Sports\", \"Explorers\", \"Design\", \"Team Sports\", \"Philosophy\", \"Natural Sciences/CA\", \"Media Personality\", \"Natural Sciences/CO\", \"Language\", \"Computer Science\", \"Media Personality\", \"Government\", \"Natural Sciences/IL\", \"Social Sciences\", \"Media Personality\", \"Language\", \"Individual Sports\", \"Natural Sciences/MD\", \"Natural Sciences/MO\", \"Medicine/MA\", \"Design\", \"Government/MA\", \"Design\", \"Government\", \"Outlaws\", \"Media Personality/CA\", \"Government\", \"Music\", \"Government\", \"Media Personality/NV\", \"Media Personality/NY\", \"Media Personality/OH\", \"Music\", \"Government\", \"Film And Theatre\", \"Design\", \"Companions\", \"Natural Sciences\", \"Philosophy\", \"Media Personality/Sin nombre\", \"Medicine\", \"Media Personality/IN\", \"Explorers\", \"Government/TN\", \"Team Sports\", \"Government/Sin nombre\", \"History\", \"Government/MI\", \"Government/MO\", \"Government\", \"Film And Theatre\", \"Computer Science\", \"Government/NH\", \"Language\", \"Government\", \"Government/NM\", \"Film And Theatre\", \"Outlaws\", \"Government/OH\", \"Social Sciences\", \"Philosophy\", \"Natural Sciences\", \"Government/Pernambuco\", \"Medicine\", \"Math\", \"Government/SC\", \"Language\", \"Government/SD\", \"Film And Theatre\", \"Fine Arts\", \"Media Personality/Sin nombre\", \"Explorers/Sin nombre\", \"Music/NC/Musician\", \"Music/NY/Musician\", \"Music/OH/Musician\", \"Music/OK/Musician\", \"Music/SC/Musician\", \"Music/Sin nombre/Musician\", \"Fine Arts/WY/Painter\", \"Philosophy/IL/Philosopher\", \"Philosophy/MA/Philosopher\", \"Philosophy/Sin nombre/Philosopher\", \"Medicine/MI/Physician\", \"Medicine/Sin nombre/Physician\", \"Medicine/WA/Physician\", \"Medicine/WI/Physician\", \"Natural Sciences/CA/Physicist\", \"Natural Sciences/FL/Physicist\", \"Natural Sciences/MA/Physicist\", \"Natural Sciences/MI/Physicist\", \"Natural Sciences/NY/Physicist\", \"Natural Sciences/SC/Physicist\", \"Natural Sciences/VA/Physicist\", \"Natural Sciences/WI/Physicist\", \"Military/MI/Pilot\", \"Government/GA/Politician\", \"Government/IA/Politician\", \"Government/IL/Politician\", \"Government/KY/Politician\", \"Music/MI/Musician\", \"Music/LA/Musician\", \"Music/HI/Musician\", \"Music/FL/Musician\", \"Social Sciences/Sin nombre/Economist\", \"Engineering/MA/Engineer\", \"Engineering/PA/Engineer\", \"Engineering/Sin nombre/Engineer\", \"Outlaws/IL/Extremist\", \"Outlaws/LA/Extremist\", \"Outlaws/WI/Extremist\", \"Film And Theatre/NJ/Film Director\", \"Film And Theatre/OK/Film Director\", \"Design/MI/Game Designer\", \"Design/Sin nombre/Game Designer\", \"Social Sciences/Sin nombre/Geographer\", \"Natural Sciences/OH/Geologist\", \"Government/Kaluga Oblast/Politician\", \"Natural Sciences/Sin nombre/Geologist\", \"History/NH/Historian\", \"Invention/IA/Inventor\", \"Invention/OH/Inventor\", \"Invention/WI/Inventor\", \"Language/Sin nombre/Linguist\", \"Media Personality/NJ/Magician\", \"Individual Sports/Sin nombre/Martial Arts\", \"Math/CT/Mathematician\", \"Military/AR/Military Personnel\", \"Military/OK/Military Personnel\", \"Military/PA/Military Personnel\", \"Music/AL/Musician\", \"Music/CA/Musician\", \"Individual Sports/Sin nombre/Gymnast\", \"Government/La Rioja/Politician\", \"Government/MA/Politician\", \"Government/MI/Politician\", \"Team Sports/NJ/Soccer Player\", \"Team Sports/Sao Paulo/Soccer Player\", \"Team Sports/Victoria/Soccer Player\", \"Activism/CT/Social Activist\", \"Activism/IL/Social Activist\", \"Activism/MD/Social Activist\", \"Activism/Tamaulipas/Social Activist\", \"Social Sciences/NY/Sociologist\", \"Social Sciences/PA/Sociologist\", \"Individual Sports/CA/Tennis Player\", \"Individual Sports/IL/Tennis Player\", \"Individual Sports/NC/Tennis Player\", \"Individual Sports/NY/Tennis Player\", \"Individual Sports/Sin nombre/Skater\", \"Individual Sports/Sin nombre/Tennis Player\", \"Individual Sports/NE/Wrestler\", \"Individual Sports/OK/Wrestler\", \"Individual Sports/TX/Wrestler\", \"Language/AR/Writer\", \"Language/CT/Writer\", \"Language/MO/Writer\", \"Language/NH/Writer\", \"Language/NY/Writer\", \"Language/PA/Writer\", \"Language/VA/Writer\", \"Language/WI/Writer\", \"Film And Theatre/AZ\", \"Film And Theatre/ID\", \"Individual Sports/MO/Wrestler\", \"Social Sciences/NE/Economist\", \"Music/WA/Singer\", \"Music/SC/Singer\", \"Government/NC/Politician\", \"Government/ND/Politician\", \"Government/NH/Politician\", \"Government/NJ/Politician\", \"Government/NM/Politician\", \"Government/PA/Politician\", \"Media Personality/NY/Presenter\", \"Business/MI/Producer\", \"Business/PA/Producer\", \"Business/TX/Producer\", \"Social Sciences/CT/Psychologist\", \"Social Sciences/IL/Psychologist\", \"Social Sciences/MA/Psychologist\", \"Music/TN/Singer\", \"Social Sciences/NJ/Psychologist\", \"Religion/GA/Religious Figure\", \"Religion/Galilee/Religious Figure\", \"Religion/Sin nombre/Religious Figure\", \"Fine Arts/Sin nombre/Sculptor\", \"Music/AZ/Singer\", \"Music/FL/Singer\", \"Music/GA/Singer\", \"Music/IA/Singer\", \"Music/Komi ASSR/Singer\", \"Music/MI/Singer\", \"Music/MO/Singer\", \"Music/MS/Singer\", \"Music/PA/Singer\", \"Government/Sin nombre/Public Worker\", \"Film And Theatre/IN\", \"Social Sciences/NC/Economist\", \"Social Sciences/IL/Economist\", \"Music/NY/Musician\", \"Fine Arts/Sin nombre/Painter\", \"Medicine/NJ/Physician\", \"Military/KS/Pilot\", \"Government/AZ/Politician\", \"Government/IL/Politician\", \"Government/Sin nombre/Politician\", \"Media Personality/NV/Pornographic Actor\", \"Media Personality/Sin nombre/Presenter\", \"Individual Sports/WI/Racecar Driver\", \"Music/FL/Singer\", \"Music/MI/Singer\", \"Music/NM/Singer\", \"Music/NY/Singer\", \"Music/OH/Singer\", \"Music/TN/Singer\", \"Individual Sports/Sin nombre/Skier\", \"Activism/Sin nombre/Social Activist\", \"Individual Sports/CA/Tennis Player\", \"Language/NY/Writer\", \"Language/PA/Writer\", \"Language/Sin nombre/Writer\", \"Film And Theatre/DE/Actor\", \"Film And Theatre/GA/Actor\", \"Film And Theatre/IL/Actor\", \"Film And Theatre/KS/Actor\", \"Film And Theatre/LA/Actor\", \"Music/NJ/Musician\", \"Music/MI/Musician\", \"Music/CA/Musician\", \"Language/NY/Journalist\", \"Film And Theatre/FL/Actor\", \"Film And Theatre/KS/Actor\", \"Film And Theatre/LA/Actor\", \"Film And Theatre/ME/Actor\", \"Film And Theatre/MI/Actor\", \"Film And Theatre/NM/Actor\", \"Film And Theatre/Sin nombre/Actor\", \"Film And Theatre/VA/Actor\", \"Natural Sciences/Sin nombre/Archaeologist\", \"Explorers/Sin nombre/Astronaut\", \"Natural Sciences/Sin nombre/Astronomer\", \"Individual Sports/Sin nombre/Athlete\", \"Natural Sciences/CA/Biologist\", \"Film And Theatre/MI/Actor\", \"Natural Sciences/WA/Biologist\", \"Media Personality/CA/Chef\", \"Companions/IA/Companion\", \"Companions/MA/Companion\", \"Companions/Sin nombre/Companion\", \"Companions/VA/Companion\", \"Dance/MO/Dancer\", \"Dance/PA/Dancer\", \"Dance/Sin nombre/Dancer\", \"Government/Sin nombre/Diplomat\", \"Social Sciences/CA/Economist\", \"Film And Theatre/CA/Film Director\", \"Film And Theatre/Sin nombre/Film Director\", \"Language/NJ/Journalist\", \"Business/Sin nombre/Businessperson\", \"Film And Theatre/NM/Actor\", \"Film And Theatre/OH/Actor\", \"Film And Theatre/PA/Actor\", \"Individual Sports/TX/Boxer\", \"Business/CA/Businessperson\", \"Business/CT/Businessperson\", \"Business/OH/Businessperson\", \"Business/OK/Businessperson\", \"Business/PA/Businessperson\", \"Media Personality/IA/Celebrity\", \"Media Personality/Sin nombre/Celebrity\", \"Natural Sciences/CA/Chemist\", \"Natural Sciences/MD/Chemist\", \"Natural Sciences/MO/Chemist\", \"Individual Sports/LA/Chessmaster\", \"Film And Theatre/NY/Comedian\", \"Individual Sports/SC/Boxer\", \"Film And Theatre/TX/Comedian\", \"Design/NY/Comic Artist\", \"Music/IN/Composer\", \"Music/MD/Composer\", \"Music/PA/Composer\", \"Computer Science/NY/Computer Scientist\", \"Computer Science/Sin nombre/Computer Scientist\", \"Music/Sin nombre/Conductor\", \"Team Sports/Sin nombre/Cricketer\", \"Individual Sports/PA/Cyclist\", \"Individual Sports/Sin nombre/Cyclist\", \"Dance/Sin nombre/Dancer\", \"Design/NY/Designer\", \"Government/Sin nombre/Diplomat\", \"Design/MN/Comic Artist\", \"Social Sciences/MA/Economist\", \"Natural Sciences/NE/Biologist\", \"Natural Sciences/KY/Biologist\", \"Film And Theatre/Sin nombre/Actor\", \"Social Sciences/CA/Anthropologist\", \"Social Sciences/NY/Anthropologist\", \"Natural Sciences/PA/Archaeologist\", \"Design/NJ/Architect\", \"Design/PA/Architect\", \"Fine Arts/NY/Artist\", \"Fine Arts/PA/Artist\", \"Explorers/CA/Astronaut\", \"Explorers/NM/Astronaut\", \"Explorers/OK/Astronaut\", \"Explorers/PA/Astronaut\", \"Natural Sciences/AL/Astronomer\", \"Natural Sciences/MI/Biologist\", \"Natural Sciences/MT/Astronomer\", \"Individual Sports/KS/Athlete\", \"Individual Sports/NY/Athlete\", \"Individual Sports/PA/Athlete\", \"Team Sports/AL/Basketball Player\", \"Team Sports/CA/Basketball Player\", \"Team Sports/FL/Basketball Player\", \"Team Sports/MI/Basketball Player\", \"Team Sports/NC/Basketball Player\", \"Team Sports/NY/Basketball Player\", \"Team Sports/SC/Basketball Player\", \"Team Sports/TX/Basketball Player\", \"Natural Sciences/AL/Biologist\", \"Natural Sciences/CO/Biologist\", \"Individual Sports/AL/Athlete\", \"Film And Theatre/KY\", \"Music/AZ/Musician\", \"\", \"Individual Sports/Sin nombre\", \"Individual Sports/IL\", \"Natural Sciences/WI\", \"Natural Sciences/SC\", \"Natural Sciences/PA\", \"Individual Sports/PA\", \"Natural Sciences/NY\", \"Natural Sciences/MI\", \"Natural Sciences/KY\", \"Natural Sciences/KS\", \"Team Sports/CA\", \"Team Sports/GA\", \"Team Sports/MD\", \"Natural Sciences/IL\", \"Natural Sciences/IA\", \"Film And Theatre/NY\", \"Design/KY\", \"Natural Sciences/CA\", \"Natural Sciences/Ardennes\", \"Music/CT\", \"Companions/TX\", \"Fine Arts/NY\", \"Fine Arts/PA\", \"Companions/NY\", \"Explorers/IL\", \"Explorers/IN\", \"Natural Sciences/GA\", \"Explorers/NJ\", \"Companions/KY\", \"Companions/GA\", \"Companions/CA\", \"Explorers/Sin nombre\", \"Design/Sin nombre\", \"Design/MN\", \"Design/MD\", \"Companions/NV\", \"Media Personality/CA\", \"Team Sports/FL\", \"Team Sports/IL\", \"Natural Sciences/AL\", \"Natural Sciences/CA\", \"Natural Sciences/CT\", \"Business/KS\", \"Business/IL\", \"Business/CT\", \"Natural Sciences/KY\", \"Business/NY\", \"Natural Sciences/MN\", \"Individual Sports/Sin nombre\", \"Natural Sciences/NJ\", \"Individual Sports/SC\", \"Individual Sports/NY\", \"Individual Sports/KY\", \"Natural Sciences/WA\", \"Natural Sciences/Sin nombre\", \"Business/AL\", \"Design/NJ\", \"Business/OH\", \"Team Sports/TN\", \"Team Sports/KY\", \"Media Personality/Sin nombre\", \"Media Personality/PA\", \"Team Sports/NC\", \"Media Personality/NY\", \"Media Personality/KY\", \"Team Sports/NJ\", \"Business/OK\", \"Media Personality/IL\", \"Team Sports/NY\", \"Team Sports/OH\", \"Team Sports/OK\", \"Team Sports/SC\", \"Business/TX\", \"Team Sports/Sin nombre\", \"Business/Sin nombre\", \"Business/WA\", \"Music/TX\", \"Individual Sports/GA\", \"Film And Theatre/OK\", \"Design/NY\", \"Government/CA\", \"Dance/Sin nombre\", \"Social Sciences/MI\", \"Social Sciences/CA\", \"Film And Theatre/NE\", \"Social Sciences/TN\", \"Social Sciences/NY\", \"Individual Sports/Sin nombre\", \"Film And Theatre/NY\", \"Social Sciences/Sin nombre\", \"Individual Sports/PA\", \"Computer Science/LA\", \"Computer Science/NY\", \"Film And Theatre/OH\", \"Film And Theatre/MT\", \"Team Sports/CA\", \"Government/WI\", \"Language/IL\", \"Film And Theatre/RI\", \"Computer Science/Sin nombre\", \"Government/Sin nombre\", \"Film And Theatre/AR\", \"Music/LA/Singer\", \"Fine Arts/PA/Artist\", \"Computer Science\", \"Individual Sports/CA/Wrestler\", \"Social Sciences\", \"Outlaws/NY\", \"Philosophy\", \"Activism/Sin nombre\", \"Natural Sciences/CT\", \"Design/Sin nombre/Comic Artist\", \"Music/VA/Singer\", \"Language/CT\", \"Activism\", \"Business/KY/Businessperson\", \"Medicine/MI\", \"Government/CA/Politician\", \"Medicine/MA/Physician\", \"Invention\", \"Invention/WA/Inventor\", \"\", \"Math/Cantal/Mathematician\", \"Invention/WA\", \"Individual Sports\", \"Social Sciences/PA\", \"Social Sciences/Sin nombre\", \"Business/PA\", \"Government/VA\", \"Music\", \"Business/TN\", \"Individual Sports\", \"Companions/IL/Companion\", \"Design/MI/Comic Artist\", \"Engineering\", \"Invention\", \"Social Sciences\", \"Team Sports\", \"Natural Sciences/NY/Chemist\", \"Individual Sports/TN/Athlete\", \"Companions/CA/Companion\", \"Music\", \"Team Sports\", \"Computer Science/WI/Computer Scientist\", \"Music/CA/Composer\", \"Natural Sciences\", \"Media Personality/IA\", \"Outlaws\", \"Companions/GA/Companion\", \"Music/PA\", \"Explorers/CA/Astronaut\", \"Film And Theatre/NY/Actor\", \"Natural Sciences\", \"Film And Theatre/NM/Film Director\", \"Media Personality\", \"Film And Theatre\", \"Companions\", \"Music\", \"Business\", \"Film And Theatre/MS/Film Director\", \"\", \"Engineering/Sin nombre\", \"Film And Theatre/IN/Actor\", \"Film And Theatre/IL/Actor\", \"Film And Theatre/ID/Actor\", \"Government\", \"Team Sports\", \"Film And Theatre/AZ/Actor\", \"History/MA/Historian\", \"Religion\", \"Outlaws/VT/Extremist\", \"Film And Theatre/PA/Actor\", \"Outlaws\", \"Natural Sciences\", \"Social Sciences/CA/Economist\", \"Language\", \"Social Sciences/GA/Economist\", \"Music/HI\", \"Social Sciences/KS/Economist\", \"Film And Theatre/MS\", \"Social Sciences/MI/Economist\", \"Business/NM\", \"Design/Sin nombre\", \"Social Sciences/NY/Economist\", \"Social Sciences/OR/Economist\", \"Outlaws\", \"Music/KY\", \"\", \"Engineering/MO/Engineer\", \"Government\", \"Film And Theatre\", \"Outlaws/IN/Extremist\", \"Design/CA/Designer\", \"Military/SC\", \"Medicine\", \"Media Personality/UT\", \"Film And Theatre/OR/Actor\", \"Fine Arts\", \"Film And Theatre\", \"Outlaws\", \"Government/NY\", \"Law\", \"Language\", \"Natural Sciences/NY/Archaeologist\", \"History\", \"Business\", \"Invention\", \"Computer Science/MD\", \"Design/WI/Architect\", \"Medicine\", \"Individual Sports/Sin nombre\", \"Math\", \"Natural Sciences\", \"Government\", \"Language/CT\", \"Social Sciences/Sin nombre/Psychologist\", \"Philosophy\", \"History/NH\", \"Invention\", \"Music/SC/Singer\", \"Invention/CA\", \"Music\", \"Government\", \"Computer Science/IN\", \"Music/NY\", \"Invention/IA\", \"Individual Sports/Sin nombre/Tennis Player\", \"Music\", \"Activism\", \"Music/IN/Singer\", \"Computer Science\", \"Engineering\", \"Invention/UT\", \"Engineering\", \"Dance\", \"Government\", \"Film And Theatre/MO/Actor\", \"Language\", \"Film And Theatre/NJ/Actor\", \"Design\", \"Design\", \"Government/AL/Politician\", \"Individual Sports/Sin nombre/Gymnast\", \"Film And Theatre/OK\", \"Natural Sciences/NJ/Biologist\", \"Business/AL/Businessperson\", \"Invention\", \"Military\", \"Government\", \"Dance\", \"Computer Science/CT\", \"Companions\", \"Film And Theatre\", \"Natural Sciences/CA\", \"Media Personality/UT/Celebrity\", \"Explorers\", \"Medicine\", \"Natural Sciences/IL/Chemist\", \"Individual Sports\", \"Natural Sciences/KY/Chemist\", \"Government/CT\", \"Film And Theatre/Sin nombre\", \"Individual Sports/CA\", \"Government\", \"Team Sports/WA/Basketball Player\", \"Individual Sports\", \"Companions\", \"Film And Theatre\", \"Explorers\", \"Music/NY\", \"Natural Sciences\", \"Math\", \"Team Sports/AL/Baseball Player\", \"Design\", \"Outlaws/TX\", \"Language\", \"Natural Sciences\", \"History\", \"Team Sports/IL/Basketball Player\", \"Music\", \"Team Sports/LA/Basketball Player\", \"Individual Sports/Sin nombre\", \"Math/CT\", \"Team Sports/VA/Basketball Player\", \"Natural Sciences/IL/Biologist\", \"Individual Sports\", \"Film And Theatre/ME\", \"Individual Sports/IN/Wrestler\", \"Religion/GA\", \"Individual Sports/TN\", \"Individual Sports/WI\", \"Individual Sports/Sin nombre\", \"Medicine/MD\", \"Team Sports/AL\", \"Medicine/AL\", \"Individual Sports/MI/Wrestler\", \"Social Sciences/PA\", \"Language/NY\", \"Social Sciences/MA\", \"Language/OH\", \"Language/OR\", \"Medicine/NH/Physician\", \"Language/RI\", \"Language/Sin nombre\", \"Medicine/IN/Physician\", \"Media Personality/NY\", \"Individual Sports\", \"Music/MS/Musician\", \"Fine Arts/PA\", \"Music/NJ/Musician\", \"Music/NV/Musician\", \"Team Sports/Sin nombre\", \"Fine Arts/WY\", \"Individual Sports/TN/Wrestler\", \"Fine Arts/PA/Painter\", \"Film And Theatre\", \"Business\", \"Fine Arts/NY/Photographer\", \"Government/KY\", \"Philosophy/IL\", \"Government/LA/Politician\", \"Team Sports/AL\", \"Medicine/TX\", \"Music/TX/Singer\", \"Design/OH\", \"Activism/GA\", \"Design/Sin nombre\", \"Natural Sciences/OH\", \"Military/WV\", \"Music/MS\", \"Music/MN/Singer\", \"Music/VT\", \"Religion/VT/Religious Figure\", \"Team Sports/CA\", \"Natural Sciences/PA\", \"Explorers/OH\", \"Individual Sports/Sin nombre\", \"Team Sports/OH\", \"Individual Sports/WI/Wrestler\", \"Activism/VT\", \"Music/IN\", \"Government/GA\", \"Individual Sports/GA\", \"Religion/NC\", \"Individual Sports/AZ\", \"Individual Sports/Sin nombre/Swimmer\", \"Individual Sports/CA/Swimmer\", \"Natural Sciences/PA\", \"Individual Sports/KS\", \"Natural Sciences/FL\", \"Activism/SC/Social Activist\", \"Government/Segovia/Politician\", \"Media Personality/IA/Presenter\", \"Government/Anhui\", \"Media Personality/MA/Presenter\", \"Individual Sports/NE\", \"Film And Theatre/TN\", \"Individual Sports/NH\", \"Business\", \"Music/TX\", \"Explorers/TN\", \"Outlaws/MO/Mafioso\", \"Media Personality/MT\", \"Film And Theatre/SC\", \"Film And Theatre/CT\", \"Language/CT/Linguist\", \"Military/W\\u00fcrttemberg/Military Personnel\", \"Military/CT/Military Personnel\", \"Military/VA/Military Personnel\", \"Outlaws/Sin nombre/Mafioso\", \"Invention/UT/Inventor\", \"Natural Sciences/DE\", \"Government/NE\", \"Government/La Rioja\", \"Military/Pyr\\u00e9n\\u00e9es-Atlantiques/Military Personnel\", \"Music/Sin nombre\", \"Law/Sin nombre/Lawyer\", \"Music/MA\", \"Team Sports/CA/Soccer Player\", \"Activism/Eastern Cape/Social Activist\", \"Media Personality\", \"Natural Sciences\", \"Outlaws/LA\", \"Film And Theatre/MO/Film Director\", \"Language/CA/Writer\", \"Media Personality\", \"Media Personality\", \"\", \"Music\", \"Government/CO/Politician\", \"Language/Sin nombre/Writer\", \"Language\", \"Math/MO\", \"Natural Sciences/OR/Chemist\", \"Natural Sciences/PA/Biologist\", \"Military/Sin nombre\", \"Social Sciences\", \"Medicine/Sin nombre\", \"Individual Sports/KY/Boxer\", \"Design/Sin nombre/Designer\", \"Media Personality/Sin nombre/Model\", \"Individual Sports/FL/Racecar Driver\", \"Activism\", \"Individual Sports/CA\", \"Individual Sports/TX\", \"Individual Sports/PA/Wrestler\", \"Military\", \"History/OH/Historian\", \"Individual Sports\", \"Film And Theatre/MS\", \"Media Personality/MA\", \"Military\", \"Language\", \"Media Personality/CA\", \"Team Sports/TX\", \"Math/Sin nombre\", \"Team Sports\", \"Individual Sports/VA/Athlete\", \"Language\", \"Music/MI\", \"Business\", \"Religion/PA\", \"Government/MN/Politician\", \"Music\", \"Language/IL/Writer\", \"Individual Sports/NY\", \"Explorers/NH\", \"Outlaws/Sin nombre/Pirate\", \"Music/AL/Singer\", \"Film And Theatre/WI\", \"Explorers/NH/Astronaut\", \"Engineering/PA\", \"Film And Theatre\", \"Media Personality/TX/Celebrity\", \"Film And Theatre\", \"Explorers/PA\", \"Natural Sciences/NE/Physicist\", \"Media Personality/NY/Celebrity\", \"Natural Sciences/TX/Chemist\", \"Language/IL/Critic\", \"Design\", \"Math/Sin nombre/Mathematician\", \"Companions/IA\", \"Social Sciences/CT\", \"Fine Arts\", \"Business/HI/Businessperson\", \"Fine Arts/Sin nombre/Sculptor\", \"Media Personality/TX\", \"Individual Sports/Sin nombre/Skater\", \"\", \"Activism/WA/Social Activist\", \"Individual Sports/Sin nombre/Chessmaster\", \"Invention/MA\", \"Explorers/C\\u00e1ceres\", \"Film And Theatre/DE\", \"Individual Sports/PA/Skater\", \"Media Personality/IL/Model\", \"Music/TX/Singer\", \"Film And Theatre/MA/Actor\", \"Natural Sciences/CT/Biologist\", \"Team Sports/CA/Basketball Player\", \"Music/MD\", \"Social Sciences/Sin nombre\", \"Team Sports\", \"Individual Sports/SC/Wrestler\", \"Design/MA\", \"Activism\", \"Team Sports\", \"Music/NC/Singer\", \"Companions/TX/Companion\", \"Music/VT/Singer\", \"Government/Kaluga Oblast\", \"Media Personality/Sin nombre\", \"Team Sports\", \"Government/NY\", \"Social Sciences\", \"Film And Theatre/LA\", \"Social Sciences/IL\", \"Film And Theatre/GA/Actor\", \"Social Sciences\", \"Invention/WI\", \"Film And Theatre/ME/Actor\", \"Music/WA\", \"\", \"Music/HI/Singer\", \"Language\", \"Individual Sports/FL/Wrestler\", \"Government\", \"Invention/OR\", \"Individual Sports\", \"Language/TX/Writer\", \"Invention/OH\", \"Film And Theatre/NC\", \"Film And Theatre/GA\", \"Language/OH/Writer\", \"Natural Sciences/Sin nombre/Chemist\", \"Music/IN\", \"Music/MO/Singer\", \"Natural Sciences/IL/Biologist\", \"Government\", \"Music/NM/Singer\", \"Design/CT\", \"Business/Sin nombre\", \"Government/AZ\", \"Language/WA/Writer\", \"Film And Theatre/SD/Actor\", \"Government/MN\", \"Social Sciences/KS\", \"Social Sciences\", \"Government/HI\", \"Design/CA\", \"Social Sciences/WI\", \"Individual Sports/MN/Tennis Player\", \"Music\", \"Business\", \"Team Sports/Sin nombre\", \"Government/WI\", \"Engineering/Sin nombre/Engineer\", \"Computer Science/PA\", \"Computer Science/WI\", \"Film And Theatre/WI/Actor\", \"Music/Sin nombre/Musician\", \"Individual Sports/IL/Wrestler\", \"Language/TX/Writer\", \"Government\", \"Social Sciences/Sin nombre/Anthropologist\", \"Government/IL\", \"Music/ND/Musician\", \"Individual Sports/AZ/Wrestler\", \"Music/IL/Musician\", \"Media Personality\", \"Law/Sin nombre/Lawyer\", \"Individual Sports/NV/Tennis Player\", \"Philosophy\", \"Outlaws\", \"Government/TX\", \"Language/GA/Writer\", \"Outlaws/Sin nombre\", \"Social Sciences/PA\", \"History/NY\", \"Government/MI\", \"Music/AZ/Singer\", \"Film And Theatre/NC/Actor\", \"Film And Theatre/NJ\", \"Government\", \"Government/County Mayo\", \"Social Sciences/Sin nombre/Sociologist\", \"\", \"Social Sciences/TX/Sociologist\", \"Film And Theatre/TX\", \"Language/ID/Writer\", \"Engineering/MA\", \"Media Personality/MS/Presenter\", \"Media Personality/Sin nombre/Pornographic Actor\", \"Media Personality/OH/Pornographic Actor\", \"Government/KS\", \"Film And Theatre/CO\", \"Social Sciences/CT\", \"Media Personality/MT/Pornographic Actor\", \"Natural Sciences/DE/Astronomer\", \"Social Sciences/IL\", \"\", \"Music\", \"Individual Sports/NC/Wrestler\", \"Individual Sports\", \"Individual Sports/FL/Tennis Player\", \"Activism\", \"Team Sports\", \"Computer Science/MI/Computer Scientist\", \"Individual Sports/Sin nombre\", \"Team Sports\", \"Music/VA/Musician\", \"Fine Arts/TX\", \"Music/FL\", \"Music\", \"Individual Sports\", \"Religion\", \"Team Sports/TX\", \"Team Sports/WA\", \"Music/KS/Musician\", \"Music/IN/Musician\", \"Social Sciences\", \"Music/IL/Musician\", \"Computer Science\", \"Military\", \"Music/GA/Musician\", \"Music/CT/Musician\", \"Medicine/CA/Physician\", \"Music/KS\", \"Computer Science/IN/Computer Scientist\", \"Music/TX/Composer\", \"Fine Arts/NY\", \"Natural Sciences/IL/Physicist\", \"Natural Sciences/MI/Chemist\", \"Team Sports/GA\", \"Natural Sciences/PA/Chemist\", \"Team Sports/MI\", \"Medicine/TX/Physician\", \"Music\", \"Medicine\", \"Design/KY/Comic Artist\", \"Design/MD/Comic Artist\", \"Film And Theatre\", \"Design\", \"Medicine/PA/Physician\", \"Language/SC\", \"Music/MA/Composer\", \"Media Personality/IL\", \"Medicine/MN/Physician\", \"Individual Sports\", \"Fine Arts\", \"Natural Sciences/MO/Physicist\", \"Social Sciences/TN/Economist\", \"Social Sciences\", \"Math/MO/Mathematician\", \"Invention\", \"Government\", \"Math/MA/Mathematician\", \"Government\", \"Film And Theatre/NY/Film Director\", \"Film And Theatre/OH/Film Director\", \"Film And Theatre/PA/Film Director\", \"Film And Theatre/TX/Film Director\", \"Design/GA/Game Designer\", \"Outlaws/NY/Mafioso\", \"Government/VA/Judge\", \"Natural Sciences/NY\", \"Music/NV\", \"Design\", \"Companions\", \"Invention/PA/Inventor\", \"Natural Sciences/UT\", \"Invention/CT/Inventor\", \"Math/NJ/Mathematician\", \"Social Sciences/WI/Economist\", \"Math/WV/Mathematician\", \"Language\", \"Natural Sciences/CO\", \"Natural Sciences\", \"Individual Sports/Sin nombre/Mountaineer\", \"Business/KY\", \"Explorers/C\\u00e1ceres/Explorer\", \"Explorers/Sin nombre/Explorer\", \"Music/MD\", \"Medicine\", \"Natural Sciences/IA\", \"Outlaws/MD/Extremist\", \"Military\", \"Military/NY/Military Personnel\", \"Film And Theatre/CA/Film Director\", \"Film And Theatre/GA/Film Director\", \"Film And Theatre/IL/Film Director\", \"Companions\", \"Business\", \"Film And Theatre\", \"Military/IL/Military Personnel\", \"Film And Theatre/MT/Film Director\", \"Language/IN\", \"Natural Sciences/OR/Physicist\", \"Media Personality/Sin nombre/Chef\", \"Individual Sports/Sin nombre/Racecar Driver\", \"Individual Sports/Loire/Racecar Driver\", \"Explorers/TX\", \"Social Sciences/PA/Psychologist\", \"Fine Arts/Sin nombre/Artist\", \"History\", \"Activism/NY\", \"Natural Sciences/AL\", \"Film And Theatre\", \"Explorers/IL/Astronaut\", \"Social Sciences/CO\", \"Explorers/OH/Astronaut\", \"Natural Sciences/IN\", \"Business/NY/Producer\", \"Music\", \"Natural Sciences/Sin nombre\", \"Business/IL/Producer\", \"Media Personality/Sin nombre/Presenter\", \"Natural Sciences/CA/Astronomer\", \"Law/SD\", \"Natural Sciences/PA/Astronomer\", \"Design/OH/Architect\", \"Design/MA/Architect\", \"Film And Theatre/NY/Actor\", \"Military\", \"Film And Theatre/SC/Actor\", \"Team Sports/IL\", \"Philosophy\", \"Natural Sciences/OR\", \"Film And Theatre/TX/Actor\", \"Music\", \"Film And Theatre/UT/Actor\", \"Team Sports/Sao Paulo\", \"Religion/PA/Religious Figure\", \"Invention\", \"Government/Sin nombre\", \"History\", \"Social Sciences/Sin nombre/Anthropologist\", \"Film And Theatre\", \"Religion/Lazio/Religious Figure\", \"Natural Sciences/Sin nombre/Archaeologist\", \"Activism/CT\", \"Religion/Ancona/Religious Figure\", \"Natural Sciences/Sin nombre/Astronomer\", \"Natural Sciences/TN/Astronomer\", \"Outlaws/IN\", \"Individual Sports/AL/Boxer\", \"Military/AR\", \"Military/CA\", \"Individual Sports/Sin nombre\", \"Military/IL\", \"Individual Sports/TX\", \"Business/NC/Businessperson\", \"Business/NE/Businessperson\", \"Film And Theatre\", \"Government/AR/Politician\", \"Natural Sciences\", \"Military/NJ\", \"Business/WA/Businessperson\", \"Government\", \"Team Sports/AR\", \"Language/IA\", \"Media Personality/IL/Celebrity\", \"Military/OK\", \"Team Sports/CA\", \"Media Personality\", \"Government/MD/Politician\", \"Natural Sciences/CA/Biologist\", \"Natural Sciences/NC\", \"Outlaws/MO\", \"Media Personality/IN/Presenter\", \"Individual Sports/KY/Athlete\", \"Government\", \"Natural Sciences/UT\", \"Government/Sin nombre/Politician\", \"Team Sports/CA/Baseball Player\", \"Team Sports/AR/Basketball Player\", \"Government/NY/Politician\", \"Individual Sports/Sin nombre\", \"Individual Sports/IN\", \"Individual Sports/OH\", \"Team Sports/KY/Basketball Player\", \"Individual Sports/NY\", \"Government/NE/Politician\", \"Natural Sciences/OH\", \"Individual Sports/OK\", \"Film And Theatre\", \"Team Sports/OK/Basketball Player\", \"Individual Sports/FL\", \"Team Sports/GA/Basketball Player\", \"Explorers/NJ/Astronaut\"], \"type\": \"treemap\", \"values\": [34.193200000000004, 339.9467, 49.865899999999996, 26.4776, 46.322599999999994, 19.0739, 304.97339999999997, 22.998, 23.2935, 22.0363, 23.6445, 23.2517, 21.0743, 24.4796, 176.4957, 23.8543, 23.0309, 46.9944, 22.0688, 59.263299999999994, 22.6426, 26.0382, 14.3709, 74.132, 23.7521, 14.3848, 24.0462, 22.0648, 22.1243, 22.7953, 19.0739, 116.4835, 24.8973, 24.0462, 2147.1291999999994, 23.3897, 91.4965, 44.9912, 365.07289999999995, 18.3957, 65.70870000000001, 261.6384, 27.4166, 42.488200000000006, 43.5934, 16.4519, 14.8519, 136.7878, 24.981, 19.5607, 32.8036, 990.6187999999997, 15.8142, 124.8832, 112.1442, 51.4349, 65.70870000000001, 36.337900000000005, 4274.093500000002, 44.366699999999994, 21.8729, 21.7636, 60.248900000000006, 125.85430000000001, 38.867900000000006, 351.3021, 145.4583, 3003.699099999998, 24.5045, 25.2468, 19.3346, 21.2002, 67.0953, 57.0713, 47.6717, 22.4046, 47.705799999999996, 15.9748, 40.9943, 19.6634, 38.867900000000006, 21.9859, 1135.4388999999999, 37.9693, 224.90640000000002, 21.1249, 17.4038, 542.6402, 19.0943, 23.3594, 68.9306, 24.4796, 22.2507, 21.9645, 17.0536, 97.7893, 160.2695, 91.8077, 358.8805, 15.4474, 81.6504, 28.2463, 46.762299999999996, 23.1701, 27.3612, 21.1248, 22.4969, 24.0919, 20579.5345, 183.8073, 22.6232, 109.31530000000001, 22.5349, 25.6189, 68.2829, 25.5664, 19.457, 226.4574, 5070.5785, 45.6636, 22.9964, 17.4038, 24.5563, 46.762299999999996, 47.8797, 89.1591, 51.1798, 19.5607, 22.1454, 25.3751, 42.0951, 501.9197, 47.905699999999996, 19.1531, 77.9362, 38.8769, 249.96519999999995, 462.4307, 6838.122699999997, 18.2395, 20.633, 111.1956, 71.58940000000001, 47.5043, 1811.388, 23.7784, 20.9263, 57.172, 113.6976, 902.6782000000003, 1083.7419000000002, 43.9546, 21.7838, 46.9392, 25.9214, 147.33079999999998, 20.2922, 19.3219, 22.6674, 26.209, 23.3594, 28.2484, 70.4893, 14.6533, 23.8734, 21.8188, 137.4845, 116.2875, 21.7714, 42.3427, 20.3142, 22.0404, 22.4461, 1587.2316999999998, 25.4264, 107.66290000000001, 14.8542, 21.6694, 23.2069, 44.366699999999994, 22.0796, 164.8496, 44.194, 20.1433, 24.3945, 38.9007, 402.95309999999995, 70.5099, 21.6653, 4863.607200000004, 87.14789999999999, 22.3933, 256.5969, 26.2439, 18.2097, 21.3065, 43.6033, 49.830600000000004, 86.9984, 261.6384, 23.2514, 20.1433, 102.07900000000001, 111.3692, 43.4677, 69.2915, 47.1476, 324.34559999999993, 18.3358, 22.751, 22.6426, 17.8957, 48.3836, 179.99869999999999, 22.2659, 45.2986, 21.3414, 17.916, 25.0778, 22.9365, 26.2929, 89.6834, 46.8793, 117.5169, 26.0514, 43.9546, 48.1419, 21.3081, 353.72909999999996, 179.8816, 15.9748, 20.6109, 115.4332, 1541.2395999999992, 38.3225, 20.5835, 43.3993, 46.065799999999996, 17.7064, 17.7064, 63.756, 21.4368, 18.0839, 24.4291, 132.8913, 51.1798, 69.172, 134.1534, 12978.591599999982, 44.877700000000004, 21.0199, 43.292699999999996, 16.5541, 3425.5993, 45.545500000000004, 191.0482, 137.12099999999998, 100.35079999999999, 43.9213, 151.60270000000003, 1896.4752000000005, 20.8244, 39.9801, 16.6871, 21.4878, 23.2517, 64.7556, 14.0337, 23.5793, 38.867900000000006, 39.170100000000005, 15.4474, 70.724, 22.3324, 20.9012, 332.01009999999997, 47.8797, 65.92519999999999, 19.5607, 55.2772, 19.4311, 24.5217, 210.91570000000004, 37.931200000000004, 995.2577000000001, 23.2716, 20.0482, 70.8255, 226.9677, 23.6445, 24.5217, 22.0648, 16.8029, 22.9365, 1572.4828000000002, 48.1522, 5070.5785, 37.381299999999996, 27.4166, 49.6302, 289.08630000000005, 1116.3146999999997, 17.8957, 23.5185, 132.8913, 1147.8531999999998, 17.718, 15.9489, 59.078199999999995, 30.616799999999998, 21.3065, 23.6805, 60.248900000000006, 70.5099, 44.091300000000004, 23.3463, 197.37149999999997, 4989.811199999998, 23.3897, 56.479, 548.5383999999999, 399.52729999999997, 139.4317, 21.3957, 21.1427, 18.3913, 17.7361, 23.0275, 4815.4653000000035, 43.58, 25.1593, 24.4157, 24.4291, 20.926, 42.679500000000004, 44.2993, 26.2439, 28.6877, 22.0404, 46.7417, 23.1348, 17.2651, 21.6415, 23.0281, 11.405, 22.6567, 90.31219999999999, 25.4264, 2849.1838999999995, 20.5502, 90.2578, 87.14789999999999, 42.400800000000004, 21.0698, 21.5567, 68.0596, 102.5692, 22.3251, 3729.9314000000004, 22.6426, 225.60360000000003, 22.6594, 23.0129, 39.4318, 44.8858, 49.8763, 75.25580000000001, 18.6506, 139.5209, 25.6553, 108.017, 538.4006999999999, 61.3176, 22.3431, 22.6381, 43.2132, 41.0723, 4175.504300000002, 22.0456, 22.2891, 23.6437, 111.6958, 23.8398, 17.3128, 25.2468, 25.0778, 12626.679699999984, 21.928, 21.4471, 817.5378, 94.7785, 17.8569, 23.2043, 22.4403, 659.8765000000001, 47.134299999999996, 23.3699, 18.9369, 23.123, 43.8605, 22.0355, 20.053, 21.269, 33.9858, 45.3861, 24.4355, 340.858, 25.2628, 23.3896, 21.8729, 23.0486, 46.3335, 21.7568, 22.9069, 19.3254, 26.1181, 25.4264, 23.3483, 24.0057, 46.8538, 15.2941, 22.1882, 23.7159, 16.9485, 71.8435, 24.4796, 22.3873, 711.9179, 15.9489, 91.8674, 16.9401, 10253.315199999995, 64.99069999999999, 2408.5392999999985, 5153.521199999999, 39.8699, 22.8592, 18.7543, 22.1042, 22.751, 60.688, 36.6008, 87.01209999999999, 23.3483, 21.1427, 21.8879, 27.1738, 42.533699999999996, 22.1318, 21.7636, 200.6339, 79.0129, 22.5861, 171.97340000000003, 38.313, 24.5415, 21.6287, 43.0599, 571.0880000000001, 20.0088, 42.400800000000004, 17.112, 22.9964, 32.6436, 21.2473, 13.9237, 17.3913, 43.8751, 22.6996, 160.5116, 90.34, 15.8829, 22.3726, 22.7074, 104.93169999999999, 162.1507, 114.91570000000002, 32.8036, 67.7898, 43.9213, 23.9947, 22.3827, 247.72289999999998, 45.105599999999995, 21.987, 22.9947, 15.3502, 68.3255, 24.4373, 23.0842, 18.4225, 245.43910000000005, 1147.8531999999998, 16.9485, 47.905699999999996, 23.1701, 48.660399999999996, 93.8621, 21.3931, 641.8567999999999, 19.5999, 23.1701, 45.0005, 21.1591, 26.3226, 22.205, 188.5562, 44.0349, 44.4795, 79.5546, 18.9143, 24.28, 20.0425, 16.6566, 47.6717, 21.8949, 48.1522, 27.4166, 36.111200000000004, 325.4527, 22.6419, 71.757, 114.1836, 49.4943, 41.4564, 23.3848, 47.024100000000004, 59.078199999999995, 85.65029999999999, 89.04129999999999, 24.9404, 192.02430000000004, 25.2468, 532.7507000000002, 41.391000000000005, 47.905699999999996, 35.9685, 25.0815, 22.7493, 64.5009, 69.2915, 22.6224, 43.0599, 23.0275, 25.8966, 120.0738, 16.8736, 15.2515, 18206.975799999993, 45.6636, 43.8605, 22.4193, 18.1731, 44.2993, 14.484, 324.26649999999995, 247.72289999999998, 66.5121, 1572.4828000000002, 20.7154, 37.931200000000004, 19.5457, 20.291, 89.41420000000001, 38.5936, 161.89559999999997, 23.0842, 22.9258, 3293.9425000000015, 2836.2021000000022, 76.76, 12626.679699999984, 23.8734, 153.87269999999998, 22.7953, 16.6871, 18.3913, 113.6976, 44.812799999999996, 70.7519, 89.41420000000001, 23.0508, 22.2011, 24.5107, 65.542, 23.2716, 29.4481, 43.292699999999996, 28.2484, 1135.4388999999999, 4419.748000000003, 110.06129999999999, 17.916, 25.5664, 18.6506, 21.609, 1055.8732, 26.0514, 25.4232, 23.216, 206.31570000000002, 18.7727, 15.9489, 22.4814, 50.3073, 274.70079999999996, 25.0366, 21.5816, 13.5783, 49.830600000000004, 43.5934, 22.0734, 1109.0702, 22.3646, 2223.2538000000004, 23.7485, 19.8822, 35.0768, 70.3096, 137.7919, 41.19029999999999, 137.3827, 21.7714, 68.0596, 44.6704, 23.5078, 23.2514, 23.0309, 21.7336, 258.1233, 28.2463, 22.998, 161.89559999999997, 24.5563, 51.338899999999995, 29.4481, 1226.7803, 79.1993, 157.69849999999997, 68.9859, 89.55000000000001, 23.3916, 26.3226, 25.1584, 180.31680000000003, 121.0815, 64.4066, 40.8749, 41.4668, 22.3933, 44.802099999999996, 17.3117, 70.6912, 64.5009, 43.6467, 94.7353, 45.0893, 68.2829, 28.1723, 109.31530000000001, 21.6653, 74.132, 25.4175, 21.5411, 51.338899999999995, 44.7625, 47.024100000000004, 23.3721, 45.163, 45.031400000000005, 113.1162, 38.3225, 16.9485, 3632.3545000000004, 20.9426, 15.9898, 110.60900000000001, 22.8672, 43.6467, 22.9365, 657.9780000000001, 18.2505, 1618.0908000000002, 21.3081, 24.5217, 22.1234, 17.7361, 24.8973, 22.7493, 22.692, 63.606300000000005, 26.8242, 130.94719999999998, 44.6034, 18.2862, 17.3803, 25.3895, 51.170199999999994, 81.6504, 68.1422, 45.4491, 18.3633, 125.5155, 16.9948, 46.322599999999994, 25.5031, 21.8188, 89.738, 71.58940000000001, 16.1781, 67.26650000000001, 22.1433, 47.1368, 2429.2833000000005, 222.49749999999997, 47.0693, 134.2047, 20.461, 24.8495, 20.0482, 22.8672, 22.751, 19.9889, 22.1454, 17.8569, 21.7964, 23.7485, 21.3931, 138.9083, 21.3488, 22.0456, 24.7565, 26.209, 55.7891, 57.172, 18.8424, 94.7785, 24.0057, 20.6307, 154.31539999999998, 20.4765, 194.0345, 63.5744, 21.7078, 206.7382, 20.291, 100.1815, 115.08739999999999, 43.9213, 42.8717, 20.6401, 13.4518, 11.405, 42.533699999999996, 16.5276, 59.8632, 18.3358, 24.037, 22.5861, 34.8967, 38.6802, 24.5563, 45.4491, 44.9113, 21.1899, 43.8537, 36.337900000000005, 9.8794, 21.1249, 21.2473, 22.2891, 18.8424, 140.214, 23.3745, 40.173, 45.3262, 22.3974, 23.8482, 63.899300000000004, 16.9948, 32.6436, 45.9897, 21.6653, 24.3349, 22.266, 27.7877, 20.9642, 21.928, 26.0749, 85.0844, 50.5837, 18.6875, 42.8717, 48.1522, 23.8398, 136.7194, 178.56369999999998, 200.6339, 17.112, 66.5192, 24.037, 21.4368, 44.4861, 22.0387, 55.2064, 21.6238, 90.2647, 824.8767999999999, 20.2911, 42.6939, 44.4076, 17.0336, 140.9206, 396.3447, 19.3254, 24.6573, 29.5566, 20.976, 65.92519999999999, 23.2517, 45.545500000000004, 21.3957, 325.50020000000006, 23.8327, 43.8661, 22.1453, 23.7521, 2397.8091999999997, 104.93169999999999, 22.3974, 164.2411, 104.7944, 84.3716, 67.3562, 21.7838, 47.218999999999994, 25.1061, 65.59309999999999, 40.3183, 22.4814, 21.839, 123.35079999999999, 235.4092, 18.1731, 1509.5529999999999, 23.759, 20.8305, 44.091300000000004, 1385.6083000000003, 755.7529000000001, 68.9306, 20.6343, 25.0366, 24.3041, 67.0315, 22.9258, 24.5172, 23.7784, 16.8019, 19.1178, 48.9695, 20.461, 14.3848, 67.93169999999999, 326.2404, 27.1522, 23.4744, 23.3721, 44.4861, 21.8496, 22.0397, 110.4597, 174.78770000000003, 68.3255, 352.9319, 44.194, 22.1454, 25.5538, 21.4027, 63.5744, 20416.79950000001, 19.1531, 93.8621, 27.1522, 19.4311, 151.60270000000003, 294.9998, 2361.3694999999993, 26.0382, 44.5696, 21.2473, 23.123, 25.1593, 26.3226, 2636.2647999999995, 42.0293, 115.2852, 23.1482, 20.9359, 323.2080000000001, 142.2401, 247.24820000000003, 115.1167, 114.91570000000002, 42.5202, 21.9601, 20.7611, 2522.120099999999, 21.7336, 13.8036, 871.2447000000002, 14.863, 293.0459000000001, 178.0451, 23.3368, 74.132, 24.679, 12823.713600000005, 47.1368, 36.494299999999996, 48.116600000000005, 48.660399999999996, 316.3526, 115.2578, 23.3745, 118.8297, 20.9426, 46.7417, 22.2659, 179.99869999999999, 22.998, 27.7877, 112.1442, 143.3077, 23.8327, 131.32739999999998, 68.9859, 69.6768, 77.9641, 22.2321, 6854.080400000002, 44.7625, 22.4193, 21.7078, 118.9763, 23.6805, 71.757, 38.6798, 23.8449, 69.21549999999999, 25.2628, 22.3646, 24.4355, 23.3368, 23.5078, 149.5549, 23.0309, 417.5431, 73.1029, 88.7885, 2587.1080000000006, 19.4311, 39.286100000000005, 20.1826, 36.337900000000005, 44.542500000000004, 27.1216, 349.74800000000005, 23.5099, 207.91799999999998, 127.7417, 25.1061, 22.7212, 25.0735, 69.1231, 64.1909, 22.6457, 25.8755, 723.6592000000002, 48.3632, 22.407, 26.1181, 7142.719000000001, 17065.885400000003, 46.7457, 48.3836, 5660.7845, 1757.3667999999996, 42.3534, 46.065799999999996, 386.7709999999999, 1614.1580000000004, 9418.605499999994, 113.8125, 70.6912, 63488.625400000106, 23.0508, 282.91119999999995, 24.4157, 111.1956, 23987.05400000001, 259.17780000000005, 23.4272, 59.078199999999995, 41.5219, 38.5749, 27.1216, 23.3896, 2767.660100000002, 3689.759699999999, 44.4309, 59909.37770000011, 24.0462, 24.679, 1938.5478999999998, 2480.2706000000003, 495.9561999999999, 2147.1291999999994, 22.692, 48.2122, 40.3304, 21.0707, 47.0385, 21.8926, 25.8966, 150.0749, 63.756, 15.7024, 23.8449, 46.9944, 24.8495, 71.58940000000001, 23.1262, 367.6156000000001, 45.260999999999996, 65.75229999999999, 21.8949, 22.1042, 324.34559999999993, 22.4046, 20.8248, 66.3648, 26.8242, 160.1949, 393.8229, 47.1476, 870.1235000000001, 22.257, 21.8736, 38.4102, 22.0869, 59.263299999999994, 53.4803, 22.3646, 197.6978, 23.3721, 66.3224, 302.6027, 1116.0225, 25.3895, 22.5118, 118.7107, 3163.968599999998, 41.0723, 65.62570000000001, 24.4062, 16.1781, 18.6875, 17.1996, 22.3933, 17.5937, 68.90289999999999, 487.55529999999993, 22.6224, 22.0688, 464.07590000000005, 41.2573, 81.5905, 92.0298, 22.1917, 63.7304, 24.5622, 97.7893, 23.6805, 23.518, 591.3882, 104.93169999999999, 17.8957, 47.5043, 14.8007, 201.3539, 24.4417, 226.9677, 28.2463, 48.116600000000005, 25.2628, 20.0666, 55.2064, 88.3916, 59.263299999999994, 243.004, 22.257, 15.7024, 23.7431, 22.7179, 277.09479999999996, 22.7953, 23.2448, 59.74680000000001, 22.3324, 55.626, 17.3128, 20.3744, 20.9066, 190.8101, 88.49839999999999, 19.8822, 21.2002, 20.0312, 22.6594, 21.8055, 50.3073, 164.5685, 169.4184, 65.542, 25.807, 44.6029, 5278.467199999996, 39.8721, 138.1175, 17.4014, 22.205, 22.3324, 21.7714, 17.3117, 89.0491, 25.1061, 45.105599999999995, 18253.829599999994, 45.260999999999996, 15.2193, 66.3648, 65.92519999999999, 206.7382, 22.4991, 51.4349, 21.9859, 15.8829, 79.0963, 22.395, 22.646, 23.2867, 44.194, 23.1262, 21.839, 24.2421, 38.3225, 15.6063, 22.6419, 22.6381, 89.30810000000001, 16.9401, 44.6029, 319.6241, 23.2935, 51.4349, 84.2381, 63.684099999999994, 169.4184, 50.935900000000004, 68.9306, 22.7749, 30.299300000000002, 21.774, 22.5965, 22.7749, 21.5567, 20.8681, 35.4598, 85.4319, 24.3742, 115.36839999999998, 68.9859, 133.84900000000002, 160.5922, 22.6232, 700.2870000000003, 136.41799999999998, 21.8868, 25.1411, 178.9783, 46.435100000000006, 20.7154, 229.0813, 29.7408, 22.1453, 20.8331, 43.124300000000005, 22.4617, 294.9998, 48.1417, 23.7317, 23.8172, 18.2395, 14.484, 22.1243, 25.5975, 21.8868, 22.4403, 20.8681, 21.7568, 116.6388, 186.67290000000003, 22.2169, 21.1899, 21.9645, 29.4481, 118.29679999999999, 21.8736, 21.6119, 21.8879, 23.3896, 22.4035, 56186.263700000134, 22.7212, 22.1378, 47.705799999999996, 43.6789, 464.9246999999999, 44.6704, 24.9404, 50.3073, 23.7485, 25.1411, 62.09010000000001, 24.3041, 261.6384, 157.9683, 47.134299999999996, 405.6032, 25.1593, 43.124300000000005, 19.1178, 40.173, 243.004, 46.7417, 561.4514999999999, 23.5078, 18.5525, 1648.9665, 49.8763, 390.53389999999996, 131.32739999999998, 69.6768, 22.6567, 4553.786399999999, 25.3751, 23.2502, 47.134299999999996, 6736.563500000002, 21.3497, 2697.350500000001, 21.8949, 46.065799999999996, 133.84900000000002, 44.0349, 115.1167, 22.5965, 479.5471, 22.646, 23.1262, 43.58, 25.0366, 26.4648, 46.303799999999995, 67.1812, 116.6388, 90.5843, 94.7353, 38.879400000000004, 57.609, 1347.0304000000008, 22.9927, 25.4032, 814.7485, 68.90289999999999, 23.8172, 46.7457, 43.835, 21.8875, 21.1248, 40.9943, 349.74800000000005, 23.5099, 25.5975, 207.91799999999998, 22.4769, 43.9108, 28.0222, 23.4272, 393.8229, 20.7154, 158.4758, 22.9069, 25.807, 13.9879, 44.4309, 48.2122, 584.6925, 33.199799999999996, 23.7317, 294.9998, 22.1378, 60.688, 21.0707, 15.2193, 22.2507, 13.0952, 21.9859, 22.257, 23.7431, 22.7179, 13.3488, 21.8055, 14.8542, 16.4715, 58.58240000000001, 1338.0787999999998, 16.8019, 20.9066, 84.2179, 23.2448, 21.8658, 148.4542, 47.218999999999994, 565.8911, 68.6532, 45.260999999999996, 45.105599999999995, 17.5937, 23.518, 15.9748, 21.8188, 68.2843, 26.1847, 138.9083, 26.2439, 24.9404, 91.8077, 25.1411, 112.1442, 61.9109, 23.3848, 21.987, 63.7304, 22.451, 25.417, 68.927, 20.2937, 24.5622, 25.2589, 81.6504, 11809.14189999999, 420.0164999999999, 37.927099999999996, 108.0218, 120.3296, 20.5835, 22.1243, 67.26769999999999, 44.644400000000005, 111.4887, 43.3023, 339.9467, 155.33419999999998, 22.6419, 115.90010000000001, 82.9248, 98.5892, 21.5567, 24.2421, 14.863, 24.8486, 2849.732800000001, 21.8868, 23.477, 14.8007, 22.9254, 23.7902, 19.2511, 322.7063, 21.7964, 117.82379999999999, 64.7952, 585.1110000000002, 75.14959999999999, 89.7817, 47.8303, 2061.4983, 19.2356, 125.22399999999999, 612.2163, 49.1725, 77.38059999999999, 19.04, 24.6735, 57.1643, 22.3251, 112.7841, 63.9437, 42.6932, 16.0091, 102.33890000000002, 23.1713, 3975.1159, 47.241, 22.6305, 92.2099, 22.2714, 244.70019999999997, 41.3566, 251.39019999999996, 22.1951, 22.3232, 21.806, 21.4368, 2001.6708999999998, 22.6996, 24.4373, 22.1318, 96.36160000000001, 113.4892, 21.9828, 20.555, 26.2135, 22.3431, 38.697500000000005, 20.432, 198.1054, 380.6974, 22.8592, 68.2829, 45.3681, 22.3722, 22.5349, 16.6928, 25.1347, 66.2187, 45.1505, 21.8496, 43.3993, 23.6437, 44.3425, 22.3381, 18.9369, 90.2578, 23.5143, 24.5045, 24.1952, 115.07659999999998, 321.97560000000004, 258.1233, 35.0768, 16.3555, 485.0257000000001, 114.55409999999999, 18.1088, 517.9801, 22.4617, 89.04129999999999, 23.0281, 45.414500000000004, 6278.1992999999975, 23.4825, 23.192, 21.0199, 23.8308, 23.3594, 67.94919999999999, 91.75509999999998, 22.7674, 21.3931, 20.1433, 41.4564, 17.7322, 44.812799999999996, 16.9401, 15.8142, 57.0713, 19.1808, 37.5848, 152.3705, 84.7901, 22.4035, 15.6063, 115.36839999999998, 18.0948, 15.3653, 22.1399, 22.703, 44.4795, 139.6488, 23.7763, 21680.301500000038, 548.7631000000001, 24.3945, 20.6109, 43.8661, 68.4986, 19.1808, 247.62460000000002, 22.8554, 22.8936, 21.9645, 23.6612, 21.6287, 23.9947, 134.6798, 66.5192, 44.3425, 22.2169, 20.9964, 23.7521, 22.7074, 22.4461, 67.94919999999999, 114.1561, 70.5099, 22.1917, 21.8879, 24.037, 45.3861, 21.1899, 21.8477, 17.1996, 289.58140000000003, 311.4433, 22.4617, 21.9518, 21.6415, 22.3232, 84.7901, 65.518, 22.1399, 102.6068, 66.06, 17.916, 24.6573, 45.3681, 45.414500000000004, 136.7878, 16.8736, 140.9206, 22.2687, 22.3381, 23.0486, 26.1714, 22.1951, 2310.2659000000003, 18.9107, 23.8308, 22.3722, 21.3957, 14.6533, 206.4327, 23.3745, 15.6063, 38.5462, 24.0919, 41.391000000000005, 22.5349, 24.0215, 115.36839999999998, 18.2505, 14.3091, 18.0948, 86.34450000000001, 325.4527, 1029.3162999999997, 49.6302, 24.2188, 13.9237, 159.1565, 18.1088, 36.6008, 210.91570000000004, 24.5107, 23.4825, 212.8487, 21.8926, 46.583600000000004, 485.0257000000001, 3193.435800000001, 158.41250000000002, 16.3555, 23.216, 136.41799999999998, 448.0706, 39.1152, 23.2069, 22.0397, 20.2898, 18.1731, 321.97560000000004, 631.4692999999999, 43.2132, 22.797, 22.401, 23.216, 56.479, 501.56900000000013, 74.01050000000001, 23.2502, 2126.3505999999993, 23.0129, 269.3482, 35.5952, 85.76510000000002, 55.7891, 23.2043, 21.3497, 67.7898, 43.124300000000005, 114.91570000000002, 19.457, 1294.6694000000002, 25.8966, 19.457, 23.6437, 23.5185, 1369.2186000000008, 16.6928, 26.0749, 137.078, 38.8769, 37.361000000000004, 20.633, 22.1234, 22.9927, 24.5172, 26.209, 15.2193, 22.021, 20.4765, 17.1996, 136.517, 34.0425, 24.5415, 115.2852, 44.034099999999995, 25.1347, 46.7457, 21.8477, 24.1952, 18.3049, 1242.4001999999998, 110.96069999999999, 22.6457, 46.209, 183.8073, 21.806, 77.473, 22.9947, 21.9416, 927.0172000000001, 833.6087, 45.2729, 383.0414, 23.518, 26.4648, 84.7901, 17.5937, 22.7212, 25.2589, 24.8495, 190.3906, 116.05049999999999, 68.3081, 42.4238, 23.3897, 21.7336, 38.879400000000004, 22.722, 21.9416, 24.5107, 17.7064, 190.6019, 289.08630000000005, 19.5999, 45.8814, 21.7568, 2024.2805999999998, 22.8672, 43.5934, 226.02539999999996, 22.407, 24.4062, 22.4193, 22.0869, 21.707, 20.9426, 20.461, 181.044, 26.1181, 35.4561, 22.1042, 94.91140000000001, 22.1433, 1135.4388999999999, 22.3722, 1147.8531999999998, 18.6506, 27.1738, 151.60270000000003, 18.3633, 21.928, 12798.150200000002, 523.2332999999999, 21.8978, 48.748000000000005, 6854.080400000002, 22.4769, 21.609, 20.8846, 45.4491, 69.726, 40.173, 22.395, 164.8496, 43.9108, 1023.2907, 221.9021, 2126.3505999999993, 20.268, 321.97560000000004, 833.6087, 23.3033, 25.4032, 22.1318, 25.5664, 190.28520000000003, 23.5793, 476.50870000000003, 43.2482, 156.7502, 22.7677, 94.5419, 21.8875, 22.2687, 18.9107, 23.3033, 46.762299999999996, 47.705799999999996, 24.4373, 21.3065, 22.6996, 274.70079999999996, 45.1505, 21.707, 22.0404, 21.3497, 134.6798, 37.3056, 22.8936, 21.6238, 2548.3336, 18.7543, 138.9083, 19.6577, 20.926, 21.6415, 66.249, 23.8543, 473.45869999999996, 45.2962, 41.5219, 21.8635, 23.8308, 22.4046, 47.218999999999994, 23.3463, 22.4769, 65.518, 19.3254, 61.3176, 158.4758, 22.9069, 19.3346, 85.4361, 77.1861, 37.6744, 20.0312, 25.2589, 43.1298, 16.4738, 1872.0960000000002, 22.0796, 37.5848, 22.205, 18.9143, 48.3133, 655.6728000000003, 68.927, 94.91140000000001, 23.5793, 22.7749, 49.830600000000004, 19724.233900000003, 21.8736, 61.9109, 21.5197, 118.9763, 25.3722, 157.4557, 16.4519, 20.053, 25.3751, 43.1298, 25.3722, 100.1815, 18.9107, 18.2243, 116.6388, 23.2502, 14.484, 21.8635, 20.8248, 172.35500000000002, 24.3742, 28.6877, 1610.9906999999998, 46.8793, 22.4969, 200.64780000000002, 23.1482, 18.0839, 46.9944, 31.568199999999997, 67.93169999999999, 85.4319, 115.22730000000001, 17.718, 16.4738, 21.269, 61.1429, 26.4648, 24.7565, 23.0842, 21.5197, 112.8739, 49.8674, 45.283500000000004, 15.8142, 44.0349, 21.7078, 28.2484, 21.0743, 26.0514, 18.2097, 17.3913, 202.9054, 15.2941, 45.3681, 160.5263, 23.8543, 25.4232, 19.7426, 75.25580000000001, 197.6978, 21.8978, 23.6445, 24.0057, 24.679, 111.6958, 23.3033, 22.3873, 49.865899999999996, 23.7317, 25.6553, 4979.652199999998, 303.10169999999994, 68.1422, 31.568199999999997, 22.4991, 21.6119, 43.9949, 23.8172, 48.3632, 24.1037, 24.0919, 21.707, 29093.997900000028, 182.41680000000002, 22.9964, 17662.735600000018, 20.9012, 24.981, 25.5538, 66.464, 5019.367799999998, 87.88910000000001, 2767.660100000002, 26.1714, 326.2404, 495.9561999999999, 22.0734, 28.6877, 20.6401, 20.3142, 20.3744, 44.4309, 25.0735, 31.274500000000003, 62.29650000000001, 18.2097, 25.6553, 23.2448, 20.976, 15.2515, 3594.9811999999997, 23.9947, 13.4518, 70.4893, 91.05790000000002, 26.4776, 24.3349, 41.692099999999996, 15586.821200000022, 20.9218, 13.8036, 23.2867, 222.49749999999997, 22.5118, 180.5611, 23.2867, 25.4032, 113.1162, 21.3488, 199.4035, 41.4564, 21.774, 38.5462, 45.2986, 20.2898, 27.1738, 169.3819, 21.806, 21.4027, 43.4086, 22.9947, 67.53880000000001, 16.8029, 56.6449, 3873.2334999999994, 15.7024, 16.0124, 24.5172, 27.3612, 39.8699, 17.4014, 20.8643, 143.9976, 187.09859999999998, 23.3805, 16.4414, 35.6219, 90.34, 18.0948, 55.626, 48.1417, 21.269, 19.3346, 25.0609, 22.4461, 18.0839, 25.5975, 168.96329999999998, 60.248900000000006, 424.20279999999997, 45.545500000000004, 120.0738, 115.90010000000001, 173.28060000000002, 19.5999, 23.4272, 21.6653, 68.2843, 22916.891799999976, 18.5848, 67.3562, 16.212, 21.7636, 21.609, 73.31209999999999, 23.3517, 28.0222, 116.2875, 298.5046, 24.1595, 97.57690000000001, 23.5143, 20.9813, 22.5809, 59.42100000000001, 24.2166, 21.7838, 86.9984, 14.863, 67.3562, 17.112, 41.692099999999996, 22.722, 22.6674, 92.86420000000001, 24.4062, 69.1231, 14.8519, 501.0977, 38.8769, 171.97340000000003, 37.381299999999996, 18.8602, 23.2716, 24.5415, 20.0495, 425.8657999999999, 18.3957, 43.0131, 27.1522, 44.4917, 92.0298, 22.2321, 21.5197, 37.34, 38.151700000000005, 21.2439, 20.926, 26.0382, 847.2076999999997, 149.5549, 22.3358, 513.0144, 24.28, 21.0698, 21.5411, 15.5532, 96.6241, 43.835, 294.7241, 22.0688, 277.09479999999996, 7338.011099999998, 22.6674, 811.9005, 25.1584, 22.9927, 23.2935, 118.29679999999999, 20.8681, 44.091300000000004, 39.9801, 22.451, 19.7426, 21.4878, 25.417, 3008.3041000000003, 17.7361, 20.0425, 7648.836199999998, 17.9648, 22.4991, 14.3091, 44.6704, 115.3683, 61.3176, 39.170100000000005, 22.9258, 57.609, 93.8107, 42.1612, 24.4417, 15.3653, 19.6577, 25.6189, 69.21549999999999, 22.722, 221.83780000000002, 43.292699999999996, 24.2421, 47.0385, 19.3219, 23.1348, 25.6189, 22.395, 24.2188, 18.2243, 178.9783, 22.8554, 16.3406, 68.4986, 22.4035, 20.8248, 86.41929999999999, 22.0796, 22.2169, 21.9518, 102.5692, 21.9518, 65.70870000000001, 44.7625, 25.5031, 20.8643, 22.0869, 46.3859, 23.3368, 20.8331, 21.8926, 47.8797, 24.981, 43.9108, 63.684099999999994, 19.1178, 115.61350000000002, 397.252, 73.1029, 88.7885, 39.286100000000005, 20.1826, 74.01050000000001, 20.9263, 224.90640000000002, 16.4519, 20.1826, 21.8477, 23.8449, 20.7611, 48.660399999999996, 41.5219, 69.1231, 27.1216, 25.1584, 22.703, 91.3278, 115.3683, 23.2043, 27.3612, 1648.9665, 26.2929, 23.1348, 21.9601, 24.3041, 23.1583, 19.1531, 139.7145, 42.3534, 113.8125, 20.633, 52.8296, 155.0675, 23.1583, 25.8755, 70.4893, 21.3854, 18.5525, 1872.0960000000002, 23.3483, 63.756, 48.3133, 1775.3937000000003, 21.0698, 45.6636, 17.7322, 3655.321400000002, 22.1917, 24.8973, 68.7753, 22.0363, 41.2573, 43.4677, 1429.8308000000002, 28.1723, 145.48630000000003, 20.9964, 19.0739, 45.283500000000004, 24.3742, 48.1417, 1951.0356000000002, 13.9879, 36.9428, 13.5783, 45.163, 21.3854, 412.37320000000005, 177.5529, 23.4044, 21.0707, 24.3349, 28.0222, 115.4332, 25.0735, 113.9208, 521.1734999999999, 48.116600000000005, 233.96640000000002, 22.2507, 24.4417, 1407.5594, 23.3463, 23.4744, 44.5696, 25.807, 25.3895, 304.97339999999997, 23.1583, 84.2179, 23.7784, 26.4776, 413.4360999999999, 44.6029, 40.7134, 22.3974, 49.6302, 41.692099999999996, 20.0666, 20.9012, 24.0215, 13.9879, 168.8119, 19.7426, 22.1911, 61.25020000000001, 22.6381, 25.4232, 21.6119, 15.9898, 91.8077, 44.9912, 53336.530900000136, 23.6612, 20.0666, 424.20279999999997, 255.84340000000003, 21.1591, 18.7727, 14.6533, 33.525099999999995, 49.865899999999996, 67.0953, 21.5816, 212.8487, 14.3091, 16.212, 16.3406, 45.3861]}],                        {\"legend\": {\"tracegroupgap\": 0}, \"margin\": {\"t\": 60}, \"template\": {\"data\": {\"bar\": [{\"error_x\": {\"color\": \"#2a3f5f\"}, \"error_y\": {\"color\": \"#2a3f5f\"}, \"marker\": {\"line\": {\"color\": \"#E5ECF6\", \"width\": 0.5}}, \"type\": \"bar\"}], \"barpolar\": [{\"marker\": {\"line\": {\"color\": \"#E5ECF6\", \"width\": 0.5}}, \"type\": \"barpolar\"}], \"carpet\": [{\"aaxis\": {\"endlinecolor\": \"#2a3f5f\", \"gridcolor\": \"white\", \"linecolor\": \"white\", \"minorgridcolor\": \"white\", \"startlinecolor\": \"#2a3f5f\"}, \"baxis\": {\"endlinecolor\": \"#2a3f5f\", \"gridcolor\": \"white\", \"linecolor\": \"white\", \"minorgridcolor\": \"white\", \"startlinecolor\": \"#2a3f5f\"}, \"type\": \"carpet\"}], \"choropleth\": [{\"colorbar\": {\"outlinewidth\": 0, \"ticks\": \"\"}, \"type\": \"choropleth\"}], \"contour\": [{\"colorbar\": {\"outlinewidth\": 0, \"ticks\": \"\"}, \"colorscale\": [[0.0, \"#0d0887\"], [0.1111111111111111, \"#46039f\"], [0.2222222222222222, \"#7201a8\"], [0.3333333333333333, \"#9c179e\"], [0.4444444444444444, \"#bd3786\"], [0.5555555555555556, \"#d8576b\"], [0.6666666666666666, \"#ed7953\"], [0.7777777777777778, \"#fb9f3a\"], [0.8888888888888888, \"#fdca26\"], [1.0, \"#f0f921\"]], \"type\": \"contour\"}], \"contourcarpet\": [{\"colorbar\": {\"outlinewidth\": 0, \"ticks\": \"\"}, \"type\": \"contourcarpet\"}], \"heatmap\": [{\"colorbar\": {\"outlinewidth\": 0, \"ticks\": \"\"}, \"colorscale\": [[0.0, \"#0d0887\"], [0.1111111111111111, \"#46039f\"], [0.2222222222222222, \"#7201a8\"], [0.3333333333333333, \"#9c179e\"], [0.4444444444444444, \"#bd3786\"], [0.5555555555555556, \"#d8576b\"], [0.6666666666666666, \"#ed7953\"], [0.7777777777777778, \"#fb9f3a\"], [0.8888888888888888, \"#fdca26\"], [1.0, \"#f0f921\"]], \"type\": \"heatmap\"}], \"heatmapgl\": [{\"colorbar\": {\"outlinewidth\": 0, \"ticks\": \"\"}, \"colorscale\": [[0.0, \"#0d0887\"], [0.1111111111111111, \"#46039f\"], [0.2222222222222222, \"#7201a8\"], [0.3333333333333333, \"#9c179e\"], [0.4444444444444444, \"#bd3786\"], [0.5555555555555556, \"#d8576b\"], [0.6666666666666666, \"#ed7953\"], [0.7777777777777778, \"#fb9f3a\"], [0.8888888888888888, \"#fdca26\"], [1.0, \"#f0f921\"]], \"type\": \"heatmapgl\"}], \"histogram\": [{\"marker\": {\"colorbar\": {\"outlinewidth\": 0, \"ticks\": \"\"}}, \"type\": \"histogram\"}], \"histogram2d\": [{\"colorbar\": {\"outlinewidth\": 0, \"ticks\": \"\"}, \"colorscale\": [[0.0, \"#0d0887\"], [0.1111111111111111, \"#46039f\"], [0.2222222222222222, \"#7201a8\"], [0.3333333333333333, \"#9c179e\"], [0.4444444444444444, \"#bd3786\"], [0.5555555555555556, \"#d8576b\"], [0.6666666666666666, \"#ed7953\"], [0.7777777777777778, \"#fb9f3a\"], [0.8888888888888888, \"#fdca26\"], [1.0, \"#f0f921\"]], \"type\": \"histogram2d\"}], \"histogram2dcontour\": [{\"colorbar\": {\"outlinewidth\": 0, \"ticks\": \"\"}, \"colorscale\": [[0.0, \"#0d0887\"], [0.1111111111111111, \"#46039f\"], [0.2222222222222222, \"#7201a8\"], [0.3333333333333333, \"#9c179e\"], [0.4444444444444444, \"#bd3786\"], [0.5555555555555556, \"#d8576b\"], [0.6666666666666666, \"#ed7953\"], [0.7777777777777778, \"#fb9f3a\"], [0.8888888888888888, \"#fdca26\"], [1.0, \"#f0f921\"]], \"type\": \"histogram2dcontour\"}], \"mesh3d\": [{\"colorbar\": {\"outlinewidth\": 0, \"ticks\": \"\"}, \"type\": \"mesh3d\"}], \"parcoords\": [{\"line\": {\"colorbar\": {\"outlinewidth\": 0, \"ticks\": \"\"}}, \"type\": \"parcoords\"}], \"pie\": [{\"automargin\": true, \"type\": \"pie\"}], \"scatter\": [{\"marker\": {\"colorbar\": {\"outlinewidth\": 0, \"ticks\": \"\"}}, \"type\": \"scatter\"}], \"scatter3d\": [{\"line\": {\"colorbar\": {\"outlinewidth\": 0, \"ticks\": \"\"}}, \"marker\": {\"colorbar\": {\"outlinewidth\": 0, \"ticks\": \"\"}}, \"type\": \"scatter3d\"}], \"scattercarpet\": [{\"marker\": {\"colorbar\": {\"outlinewidth\": 0, \"ticks\": \"\"}}, \"type\": \"scattercarpet\"}], \"scattergeo\": [{\"marker\": {\"colorbar\": {\"outlinewidth\": 0, \"ticks\": \"\"}}, \"type\": \"scattergeo\"}], \"scattergl\": [{\"marker\": {\"colorbar\": {\"outlinewidth\": 0, \"ticks\": \"\"}}, \"type\": \"scattergl\"}], \"scattermapbox\": [{\"marker\": {\"colorbar\": {\"outlinewidth\": 0, \"ticks\": \"\"}}, \"type\": \"scattermapbox\"}], \"scatterpolar\": [{\"marker\": {\"colorbar\": {\"outlinewidth\": 0, \"ticks\": \"\"}}, \"type\": \"scatterpolar\"}], \"scatterpolargl\": [{\"marker\": {\"colorbar\": {\"outlinewidth\": 0, \"ticks\": \"\"}}, \"type\": \"scatterpolargl\"}], \"scatterternary\": [{\"marker\": {\"colorbar\": {\"outlinewidth\": 0, \"ticks\": \"\"}}, \"type\": \"scatterternary\"}], \"surface\": [{\"colorbar\": {\"outlinewidth\": 0, \"ticks\": \"\"}, \"colorscale\": [[0.0, \"#0d0887\"], [0.1111111111111111, \"#46039f\"], [0.2222222222222222, \"#7201a8\"], [0.3333333333333333, \"#9c179e\"], [0.4444444444444444, \"#bd3786\"], [0.5555555555555556, \"#d8576b\"], [0.6666666666666666, \"#ed7953\"], [0.7777777777777778, \"#fb9f3a\"], [0.8888888888888888, \"#fdca26\"], [1.0, \"#f0f921\"]], \"type\": \"surface\"}], \"table\": [{\"cells\": {\"fill\": {\"color\": \"#EBF0F8\"}, \"line\": {\"color\": \"white\"}}, \"header\": {\"fill\": {\"color\": \"#C8D4E3\"}, \"line\": {\"color\": \"white\"}}, \"type\": \"table\"}]}, \"layout\": {\"annotationdefaults\": {\"arrowcolor\": \"#2a3f5f\", \"arrowhead\": 0, \"arrowwidth\": 1}, \"autotypenumbers\": \"strict\", \"coloraxis\": {\"colorbar\": {\"outlinewidth\": 0, \"ticks\": \"\"}}, \"colorscale\": {\"diverging\": [[0, \"#8e0152\"], [0.1, \"#c51b7d\"], [0.2, \"#de77ae\"], [0.3, \"#f1b6da\"], [0.4, \"#fde0ef\"], [0.5, \"#f7f7f7\"], [0.6, \"#e6f5d0\"], [0.7, \"#b8e186\"], [0.8, \"#7fbc41\"], [0.9, \"#4d9221\"], [1, \"#276419\"]], \"sequential\": [[0.0, \"#0d0887\"], [0.1111111111111111, \"#46039f\"], [0.2222222222222222, \"#7201a8\"], [0.3333333333333333, \"#9c179e\"], [0.4444444444444444, \"#bd3786\"], [0.5555555555555556, \"#d8576b\"], [0.6666666666666666, \"#ed7953\"], [0.7777777777777778, \"#fb9f3a\"], [0.8888888888888888, \"#fdca26\"], [1.0, \"#f0f921\"]], \"sequentialminus\": [[0.0, \"#0d0887\"], [0.1111111111111111, \"#46039f\"], [0.2222222222222222, \"#7201a8\"], [0.3333333333333333, \"#9c179e\"], [0.4444444444444444, \"#bd3786\"], [0.5555555555555556, \"#d8576b\"], [0.6666666666666666, \"#ed7953\"], [0.7777777777777778, \"#fb9f3a\"], [0.8888888888888888, \"#fdca26\"], [1.0, \"#f0f921\"]]}, \"colorway\": [\"#636efa\", \"#EF553B\", \"#00cc96\", \"#ab63fa\", \"#FFA15A\", \"#19d3f3\", \"#FF6692\", \"#B6E880\", \"#FF97FF\", \"#FECB52\"], \"font\": {\"color\": \"#2a3f5f\"}, \"geo\": {\"bgcolor\": \"white\", \"lakecolor\": \"white\", \"landcolor\": \"#E5ECF6\", \"showlakes\": true, \"showland\": true, \"subunitcolor\": \"white\"}, \"hoverlabel\": {\"align\": \"left\"}, \"hovermode\": \"closest\", \"mapbox\": {\"style\": \"light\"}, \"paper_bgcolor\": \"white\", \"plot_bgcolor\": \"#E5ECF6\", \"polar\": {\"angularaxis\": {\"gridcolor\": \"white\", \"linecolor\": \"white\", \"ticks\": \"\"}, \"bgcolor\": \"#E5ECF6\", \"radialaxis\": {\"gridcolor\": \"white\", \"linecolor\": \"white\", \"ticks\": \"\"}}, \"scene\": {\"xaxis\": {\"backgroundcolor\": \"#E5ECF6\", \"gridcolor\": \"white\", \"gridwidth\": 2, \"linecolor\": \"white\", \"showbackground\": true, \"ticks\": \"\", \"zerolinecolor\": \"white\"}, \"yaxis\": {\"backgroundcolor\": \"#E5ECF6\", \"gridcolor\": \"white\", \"gridwidth\": 2, \"linecolor\": \"white\", \"showbackground\": true, \"ticks\": \"\", \"zerolinecolor\": \"white\"}, \"zaxis\": {\"backgroundcolor\": \"#E5ECF6\", \"gridcolor\": \"white\", \"gridwidth\": 2, \"linecolor\": \"white\", \"showbackground\": true, \"ticks\": \"\", \"zerolinecolor\": \"white\"}}, \"shapedefaults\": {\"line\": {\"color\": \"#2a3f5f\"}}, \"ternary\": {\"aaxis\": {\"gridcolor\": \"white\", \"linecolor\": \"white\", \"ticks\": \"\"}, \"baxis\": {\"gridcolor\": \"white\", \"linecolor\": \"white\", \"ticks\": \"\"}, \"bgcolor\": \"#E5ECF6\", \"caxis\": {\"gridcolor\": \"white\", \"linecolor\": \"white\", \"ticks\": \"\"}}, \"title\": {\"x\": 0.05}, \"xaxis\": {\"automargin\": true, \"gridcolor\": \"white\", \"linecolor\": \"white\", \"ticks\": \"\", \"title\": {\"standoff\": 15}, \"zerolinecolor\": \"white\", \"zerolinewidth\": 2}, \"yaxis\": {\"automargin\": true, \"gridcolor\": \"white\", \"linecolor\": \"white\", \"ticks\": \"\", \"title\": {\"standoff\": 15}, \"zerolinecolor\": \"white\", \"zerolinewidth\": 2}}}},                        {\"responsive\": true}                    ).then(function(){\n",
       "                            \n",
       "var gd = document.getElementById('efaba910-e029-48b1-943b-b3a1387cf9c3');\n",
       "var x = new MutationObserver(function (mutations, observer) {{\n",
       "        var display = window.getComputedStyle(gd).display;\n",
       "        if (!display || display === 'none') {{\n",
       "            console.log([gd, 'removed!']);\n",
       "            Plotly.purge(gd);\n",
       "            observer.disconnect();\n",
       "        }}\n",
       "}});\n",
       "\n",
       "// Listen for the removal of the full notebook cells\n",
       "var notebookContainer = gd.closest('#notebook-container');\n",
       "if (notebookContainer) {{\n",
       "    x.observe(notebookContainer, {childList: true});\n",
       "}}\n",
       "\n",
       "// Listen for the clearing of the current output cell\n",
       "var outputEl = gd.closest('.output');\n",
       "if (outputEl) {{\n",
       "    x.observe(outputEl, {childList: true});\n",
       "}}\n",
       "\n",
       "                        })                };                });            </script>        </div>"
      ]
     },
     "metadata": {},
     "output_type": "display_data"
    }
   ],
   "source": [
    "fig = px.treemap(df1, path=['industry','state','occupation','sex'], \n",
    "                 values='historical_popularity_index', \n",
    "                 color='occupation')\n",
    "  \n",
    "fig.show()"
   ]
  },
  {
   "cell_type": "markdown",
   "metadata": {},
   "source": [
    "Como se puede ver el estado no reconocido es de los que más información tiene para la popularidad global de los personajes históricos.  Aunque a esta visualización si le cambiaria un poco el color ya que en algunos estados, industrias y ocupaciones utiliza el mismo para todos. "
   ]
  }
 ],
 "metadata": {
  "kernelspec": {
   "display_name": "Python 3",
   "language": "python",
   "name": "python3"
  },
  "language_info": {
   "codemirror_mode": {
    "name": "ipython",
    "version": 3
   },
   "file_extension": ".py",
   "mimetype": "text/x-python",
   "name": "python",
   "nbconvert_exporter": "python",
   "pygments_lexer": "ipython3",
   "version": "3.7.6"
  }
 },
 "nbformat": 4,
 "nbformat_minor": 4
}
